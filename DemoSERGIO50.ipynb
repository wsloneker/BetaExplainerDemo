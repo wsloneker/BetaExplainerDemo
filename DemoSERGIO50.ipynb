{
 "cells": [
  {
   "cell_type": "code",
   "execution_count": 1,
   "id": "677ae086-6213-4e58-8dea-1dbda2cfbc85",
   "metadata": {
    "jupyter": {
     "source_hidden": true
    }
   },
   "outputs": [],
   "source": [
    "import sys\n",
    "import os.path as osp\n",
    "import os\n",
    "import numpy as np\n",
    "from numpy.random import RandomState\n",
    "import random\n",
    "import torch\n",
    "import torch_geometric\n",
    "from torch_geometric.data import Data, DataLoader\n",
    "import torch_geometric.transforms as T\n",
    "from torch_geometric.explain import Explainer, GNNExplainer, PGExplainer\n",
    "from torch_geometric.nn import GCNConv, SAGEConv, ChebConv, GatedGraphConv, Linear, global_mean_pool, global_max_pool\n",
    "from torch.nn import functional as F\n",
    "import pandas as pd\n",
    "from tqdm import tqdm\n",
    "import sklearn.metrics\n",
    "import optuna\n",
    "import torch.optim as optim\n",
    "from GraphBetaExplainer import BetaExplainer"
   ]
  },
  {
   "cell_type": "code",
   "execution_count": 2,
   "id": "18a00d68-bf2d-4673-8aba-08c1a4ddbc8b",
   "metadata": {
    "jupyter": {
     "source_hidden": true
    }
   },
   "outputs": [],
   "source": [
    "def set_seed(seed: int = 42) -> None:\n",
    "    '''This function allows us to set the seed for the notebook across different seeds.'''\n",
    "    np.random.seed(seed)\n",
    "    random.seed(seed)\n",
    "    torch.manual_seed(seed)\n",
    "    torch.cuda.manual_seed(seed)\n",
    "    # When running on the CuDNN backend, two further options must be set\n",
    "    torch.backends.cudnn.deterministic = True\n",
    "    torch.backends.cudnn.benchmark = False\n",
    "    # Set a fixed value for the hash seed\n",
    "    os.environ[\"PYTHONHASHSEED\"] = str(seed)\n",
    "    print(f\"Random seed set as {seed}\")"
   ]
  },
  {
   "cell_type": "code",
   "execution_count": 3,
   "id": "87bebd96-93e8-46f1-bcc5-1463ce246c9b",
   "metadata": {
    "collapsed": true,
    "jupyter": {
     "outputs_hidden": true,
     "source_hidden": true
    },
    "scrolled": true
   },
   "outputs": [
    {
     "name": "stdout",
     "output_type": "stream",
     "text": [
      "Random seed set as 200\n"
     ]
    }
   ],
   "source": [
    "set_seed(200)"
   ]
  },
  {
   "cell_type": "code",
   "execution_count": 4,
   "id": "3b5505be-40af-4bcc-87e1-0841e515922f",
   "metadata": {
    "jupyter": {
     "source_hidden": true
    }
   },
   "outputs": [],
   "source": [
    "def get_data(num):\n",
    "    '''This function allows us to load our data. We use the supergraph data - the original graph plus\n",
    "        extra points associated with differnet points that are highly correlated to see if our explainers\n",
    "        capture the ground truth data well'''\n",
    "    labels = np.load(f'Time Experiments/sergio data/SERGIOsimu_{num}Sparse_noLibEff_cTypes.npy')\n",
    "    features = np.load(f'Time Experiments/sergio data/SERGIOsimu_{num}Sparse_noLibEff_concatShuffled.npy')\n",
    "    num_features = features.shape[1]\n",
    "    num_classes = len(np.unique(labels))\n",
    "    adj = np.load(f'Time Experiments/sergio data/ExtraPointsSergio{num}.npy')\n",
    "    return adj, features, labels, num_features, num_classes"
   ]
  },
  {
   "cell_type": "code",
   "execution_count": 5,
   "id": "2efee1a0-5db6-48ec-8bae-33dc8c62655b",
   "metadata": {
    "jupyter": {
     "source_hidden": true
    }
   },
   "outputs": [],
   "source": [
    "class GCN(torch.nn.Module):\n",
    "    def __init__(self, hidden_channels, data, output_size):\n",
    "        super(GCN, self).__init__()\n",
    "        self.conv1 = SAGEConv(1, hidden_channels)\n",
    "        self.embedding_size = hidden_channels\n",
    "    def forward(self, x, edge_index, batch=None, edge_weights=None):\n",
    "        if batch is None: # No batch given\n",
    "            device = torch.device('cuda' if torch.cuda.is_available() else 'cpu')\n",
    "            batch = torch.zeros(x.size(0), dtype=torch.long).to(device)\n",
    "        x = self.conv1(x, edge_index, edge_weights)\n",
    "        x = F.dropout(x, p=0.2, training=self.training)\n",
    "        x = global_max_pool(x, batch)\n",
    "        return x"
   ]
  },
  {
   "cell_type": "code",
   "execution_count": 6,
   "id": "e8f7d5d1-244f-4d39-840f-ea95d23e2db2",
   "metadata": {
    "jupyter": {
     "source_hidden": true
    }
   },
   "outputs": [],
   "source": [
    "def train(model, train_loader):\n",
    "    model.train()\n",
    "    avgLoss = 0\n",
    "    for data in tqdm(train_loader, total=47):  # Iterate in batches over the training dataset.\n",
    "        data.x = torch.reshape(data.x, (data.x.shape[0], 1))\n",
    "        data.x = data.x.type(torch.FloatTensor)\n",
    "        data = data.to(device)\n",
    "        out = model(data.x, data.edge_index, data.batch)# Perform a single forward pass\n",
    "        loss = criterion(out, data.y)  # Compute the loss.\n",
    "        loss.backward()  # Derive gradients.\n",
    "        optimizer.step()  # Update parameters based on gradients.\n",
    "        optimizer.zero_grad()  # Clear gradients.\n",
    "        avgLoss += loss\n",
    "    return avgLoss / 47"
   ]
  },
  {
   "cell_type": "code",
   "execution_count": 7,
   "id": "b540689d-44cb-43a4-bd0d-e4d0d88882f4",
   "metadata": {
    "jupyter": {
     "source_hidden": true
    }
   },
   "outputs": [],
   "source": [
    "def test(model, loader):\n",
    "    model.eval()\n",
    "    correct = 0\n",
    "    avgAUC = 0\n",
    "    for data in loader:  # Iterate in batches over the training/test dataset.\n",
    "        data.x = torch.reshape(data.x, (data.x.shape[0], 1))\n",
    "        data.x = data.x.type(torch.FloatTensor)\n",
    "        data = data.to(device)\n",
    "        out = model(data.x, data.edge_index, data.batch)  \n",
    "        pred = out.argmax(dim=1)  # Use the class with highest probability.\n",
    "        correct += int((pred == data.y).sum())  # Check against ground-truth labels.\n",
    "    return correct / len(loader.dataset)"
   ]
  },
  {
   "cell_type": "code",
   "execution_count": 8,
   "id": "9264b349-7e4f-4a6a-8ea3-387d35230d33",
   "metadata": {
    "collapsed": true,
    "jupyter": {
     "outputs_hidden": true,
     "source_hidden": true
    }
   },
   "outputs": [
    {
     "name": "stderr",
     "output_type": "stream",
     "text": [
      "C:\\Users\\whitn\\anaconda3\\Lib\\site-packages\\torch_geometric\\deprecation.py:26: UserWarning: 'data.DataLoader' is deprecated, use 'loader.DataLoader' instead\n",
      "  warnings.warn(out)\n"
     ]
    },
    {
     "name": "stdout",
     "output_type": "stream",
     "text": [
      "<torch_geometric.deprecation.DataLoader object at 0x0000021AD29135D0>\n",
      "Number of training graphs: 1600\n",
      "Number of test graphs: 400\n",
      "GCN(\n",
      "  (conv1): SAGEConv(1, 2, aggr=mean)\n",
      ")\n"
     ]
    }
   ],
   "source": [
    "sparse = 50\n",
    "adj, features, labels, num_features, num_classes = get_data(sparse)\n",
    "edge_index = torch.tensor(adj, dtype=torch.int64)\n",
    "ei = edge_index\n",
    "features = features.astype(np.float32)\n",
    "sz = np.array(adj).shape[1]\n",
    "num_edges = sz\n",
    "edge_weight = torch.ones(sz)\n",
    "num_graphs = len(labels)\n",
    "device = torch.device('cuda' if torch.cuda.is_available() else 'cpu')\n",
    "graph_data = []\n",
    "shuffle_index = []\n",
    "for i in range(0, num_graphs):\n",
    "    shuffle_index.append(i)\n",
    "shuffle_index = np.array(random.sample(shuffle_index, num_graphs))\n",
    "shuffle_index = shuffle_index.astype(np.int32)\n",
    "num_train = int(len(shuffle_index)* 0.8)\n",
    "num_test = num_graphs - num_train\n",
    "train_dataset = []\n",
    "test_dataset = []\n",
    "for j in range(0, num_graphs):\n",
    "    i = shuffle_index[j]\n",
    "    x = torch.tensor(features[i])\n",
    "    y = torch.tensor(labels[i])\n",
    "    data = Data(x=x, y=y, edge_index=edge_index)\n",
    "    graph_data.append(data)\n",
    "    if j < num_train:\n",
    "        train_dataset.append(data)\n",
    "    else:\n",
    "        test_dataset.append(data)\n",
    "y = torch.tensor(labels)\n",
    "graph_data = torch_geometric.data.Batch.from_data_list(graph_data)\n",
    "graph_data = DataLoader(graph_data, batch_size=num_graphs)\n",
    "print(graph_data)\n",
    "dataset = graph_data\n",
    "train_dataset = torch_geometric.data.Batch.from_data_list(train_dataset)\n",
    "test_dataset = torch_geometric.data.Batch.from_data_list(test_dataset)\n",
    "\n",
    "feat = torch.tensor(features)\n",
    "adjacency = torch.tensor(adj, dtype=torch.int64)\n",
    "y = torch.tensor(labels)\n",
    "\n",
    "print(f'Number of training graphs: {len(train_dataset)}')\n",
    "print(f'Number of test graphs: {len(test_dataset)}')\n",
    "\n",
    "train_loader = DataLoader(train_dataset, batch_size=num_train, shuffle=True)\n",
    "test_loader = DataLoader(test_dataset, batch_size=num_test, shuffle=False)\n",
    "    \n",
    "model = GCN(hidden_channels=2, data=dataset, output_size=num_classes).to(device)\n",
    "print(model)\n",
    "optimizer = torch.optim.Adam(model.parameters(), lr=0.001)\n",
    "criterion = torch.nn.CrossEntropyLoss()"
   ]
  },
  {
   "cell_type": "code",
   "execution_count": 9,
   "id": "383a8d45-8c28-44c4-82f3-ce333c19ebed",
   "metadata": {
    "collapsed": true,
    "jupyter": {
     "outputs_hidden": true,
     "source_hidden": true
    }
   },
   "outputs": [
    {
     "name": "stderr",
     "output_type": "stream",
     "text": [
      "  2%|▏         | 1/47 [00:01<00:50,  1.09s/it]\n"
     ]
    },
    {
     "name": "stdout",
     "output_type": "stream",
     "text": [
      "Epoch: 001, Train Acc: 0.7494, Test Acc: 0.7450, Loss: 0.0146\n"
     ]
    },
    {
     "name": "stderr",
     "output_type": "stream",
     "text": [
      "  2%|▏         | 1/47 [00:03<02:25,  3.16s/it]\n"
     ]
    },
    {
     "name": "stdout",
     "output_type": "stream",
     "text": [
      "Epoch: 002, Train Acc: 0.7575, Test Acc: 0.7550, Loss: 0.0138\n"
     ]
    },
    {
     "name": "stderr",
     "output_type": "stream",
     "text": [
      "  2%|▏         | 1/47 [00:01<01:24,  1.84s/it]\n"
     ]
    },
    {
     "name": "stdout",
     "output_type": "stream",
     "text": [
      "Epoch: 003, Train Acc: 0.7562, Test Acc: 0.7600, Loss: 0.0147\n"
     ]
    },
    {
     "name": "stderr",
     "output_type": "stream",
     "text": [
      "  2%|▏         | 1/47 [00:01<00:55,  1.21s/it]\n"
     ]
    },
    {
     "name": "stdout",
     "output_type": "stream",
     "text": [
      "Epoch: 004, Train Acc: 0.7600, Test Acc: 0.7600, Loss: 0.0138\n"
     ]
    },
    {
     "name": "stderr",
     "output_type": "stream",
     "text": [
      "  2%|▏         | 1/47 [00:02<01:36,  2.11s/it]\n"
     ]
    },
    {
     "name": "stdout",
     "output_type": "stream",
     "text": [
      "Epoch: 005, Train Acc: 0.7612, Test Acc: 0.7650, Loss: 0.0140\n"
     ]
    },
    {
     "name": "stderr",
     "output_type": "stream",
     "text": [
      "  2%|▏         | 1/47 [00:01<01:02,  1.36s/it]\n"
     ]
    },
    {
     "name": "stdout",
     "output_type": "stream",
     "text": [
      "Epoch: 006, Train Acc: 0.7619, Test Acc: 0.7675, Loss: 0.0140\n"
     ]
    },
    {
     "name": "stderr",
     "output_type": "stream",
     "text": [
      "  2%|▏         | 1/47 [00:04<03:29,  4.55s/it]\n"
     ]
    },
    {
     "name": "stdout",
     "output_type": "stream",
     "text": [
      "Epoch: 007, Train Acc: 0.7644, Test Acc: 0.7700, Loss: 0.0138\n"
     ]
    },
    {
     "name": "stderr",
     "output_type": "stream",
     "text": [
      "  2%|▏         | 1/47 [00:01<01:15,  1.63s/it]\n"
     ]
    },
    {
     "name": "stdout",
     "output_type": "stream",
     "text": [
      "Epoch: 008, Train Acc: 0.7656, Test Acc: 0.7750, Loss: 0.0135\n"
     ]
    },
    {
     "name": "stderr",
     "output_type": "stream",
     "text": [
      "  2%|▏         | 1/47 [00:02<01:36,  2.09s/it]\n"
     ]
    },
    {
     "name": "stdout",
     "output_type": "stream",
     "text": [
      "Epoch: 009, Train Acc: 0.7669, Test Acc: 0.7850, Loss: 0.0135\n"
     ]
    },
    {
     "name": "stderr",
     "output_type": "stream",
     "text": [
      "  2%|▏         | 1/47 [00:03<02:53,  3.76s/it]\n"
     ]
    },
    {
     "name": "stdout",
     "output_type": "stream",
     "text": [
      "Epoch: 010, Train Acc: 0.7700, Test Acc: 0.7900, Loss: 0.0132\n"
     ]
    },
    {
     "name": "stderr",
     "output_type": "stream",
     "text": [
      "  2%|▏         | 1/47 [00:01<00:50,  1.10s/it]\n"
     ]
    },
    {
     "name": "stdout",
     "output_type": "stream",
     "text": [
      "Epoch: 011, Train Acc: 0.7694, Test Acc: 0.7900, Loss: 0.0134\n"
     ]
    },
    {
     "name": "stderr",
     "output_type": "stream",
     "text": [
      "  2%|▏         | 1/47 [00:01<01:04,  1.40s/it]\n"
     ]
    },
    {
     "name": "stdout",
     "output_type": "stream",
     "text": [
      "Epoch: 012, Train Acc: 0.7694, Test Acc: 0.7825, Loss: 0.0133\n"
     ]
    },
    {
     "name": "stderr",
     "output_type": "stream",
     "text": [
      "  2%|▏         | 1/47 [00:02<01:36,  2.09s/it]\n"
     ]
    },
    {
     "name": "stdout",
     "output_type": "stream",
     "text": [
      "Epoch: 013, Train Acc: 0.7700, Test Acc: 0.7800, Loss: 0.0136\n"
     ]
    },
    {
     "name": "stderr",
     "output_type": "stream",
     "text": [
      "  2%|▏         | 1/47 [00:00<00:43,  1.07it/s]\n"
     ]
    },
    {
     "name": "stdout",
     "output_type": "stream",
     "text": [
      "Epoch: 014, Train Acc: 0.7700, Test Acc: 0.7800, Loss: 0.0128\n"
     ]
    },
    {
     "name": "stderr",
     "output_type": "stream",
     "text": [
      "  2%|▏         | 1/47 [00:01<01:18,  1.70s/it]\n"
     ]
    },
    {
     "name": "stdout",
     "output_type": "stream",
     "text": [
      "Epoch: 015, Train Acc: 0.7700, Test Acc: 0.7750, Loss: 0.0129\n"
     ]
    },
    {
     "name": "stderr",
     "output_type": "stream",
     "text": [
      "  2%|▏         | 1/47 [00:01<01:09,  1.51s/it]\n"
     ]
    },
    {
     "name": "stdout",
     "output_type": "stream",
     "text": [
      "Epoch: 016, Train Acc: 0.7719, Test Acc: 0.7750, Loss: 0.0138\n"
     ]
    },
    {
     "name": "stderr",
     "output_type": "stream",
     "text": [
      "  2%|▏         | 1/47 [00:01<01:17,  1.67s/it]\n"
     ]
    },
    {
     "name": "stdout",
     "output_type": "stream",
     "text": [
      "Epoch: 017, Train Acc: 0.7712, Test Acc: 0.7700, Loss: 0.0130\n"
     ]
    },
    {
     "name": "stderr",
     "output_type": "stream",
     "text": [
      "  2%|▏         | 1/47 [00:01<01:05,  1.43s/it]\n"
     ]
    },
    {
     "name": "stdout",
     "output_type": "stream",
     "text": [
      "Epoch: 018, Train Acc: 0.7712, Test Acc: 0.7725, Loss: 0.0128\n"
     ]
    },
    {
     "name": "stderr",
     "output_type": "stream",
     "text": [
      "  2%|▏         | 1/47 [00:01<01:11,  1.55s/it]\n"
     ]
    },
    {
     "name": "stdout",
     "output_type": "stream",
     "text": [
      "Epoch: 019, Train Acc: 0.7738, Test Acc: 0.7675, Loss: 0.0124\n"
     ]
    },
    {
     "name": "stderr",
     "output_type": "stream",
     "text": [
      "  2%|▏         | 1/47 [00:02<01:40,  2.19s/it]\n"
     ]
    },
    {
     "name": "stdout",
     "output_type": "stream",
     "text": [
      "Epoch: 020, Train Acc: 0.7719, Test Acc: 0.7675, Loss: 0.0132\n"
     ]
    },
    {
     "name": "stderr",
     "output_type": "stream",
     "text": [
      "  2%|▏         | 1/47 [00:05<04:07,  5.39s/it]\n"
     ]
    },
    {
     "name": "stdout",
     "output_type": "stream",
     "text": [
      "Epoch: 021, Train Acc: 0.7719, Test Acc: 0.7700, Loss: 0.0129\n"
     ]
    },
    {
     "name": "stderr",
     "output_type": "stream",
     "text": [
      "  2%|▏         | 1/47 [00:03<02:31,  3.29s/it]\n"
     ]
    },
    {
     "name": "stdout",
     "output_type": "stream",
     "text": [
      "Epoch: 022, Train Acc: 0.7756, Test Acc: 0.7700, Loss: 0.0128\n"
     ]
    },
    {
     "name": "stderr",
     "output_type": "stream",
     "text": [
      "  2%|▏         | 1/47 [00:02<01:41,  2.21s/it]\n"
     ]
    },
    {
     "name": "stdout",
     "output_type": "stream",
     "text": [
      "Epoch: 023, Train Acc: 0.7756, Test Acc: 0.7675, Loss: 0.0132\n"
     ]
    },
    {
     "name": "stderr",
     "output_type": "stream",
     "text": [
      "  2%|▏         | 1/47 [00:02<01:57,  2.56s/it]\n"
     ]
    },
    {
     "name": "stdout",
     "output_type": "stream",
     "text": [
      "Epoch: 024, Train Acc: 0.7762, Test Acc: 0.7650, Loss: 0.0134\n"
     ]
    },
    {
     "name": "stderr",
     "output_type": "stream",
     "text": [
      "  2%|▏         | 1/47 [00:01<01:01,  1.33s/it]\n"
     ]
    },
    {
     "name": "stdout",
     "output_type": "stream",
     "text": [
      "Epoch: 025, Train Acc: 0.7769, Test Acc: 0.7650, Loss: 0.0130\n"
     ]
    },
    {
     "name": "stderr",
     "output_type": "stream",
     "text": [
      "  2%|▏         | 1/47 [00:01<01:05,  1.42s/it]\n"
     ]
    },
    {
     "name": "stdout",
     "output_type": "stream",
     "text": [
      "Epoch: 026, Train Acc: 0.7788, Test Acc: 0.7650, Loss: 0.0130\n"
     ]
    },
    {
     "name": "stderr",
     "output_type": "stream",
     "text": [
      "  2%|▏         | 1/47 [00:01<00:56,  1.24s/it]\n"
     ]
    },
    {
     "name": "stdout",
     "output_type": "stream",
     "text": [
      "Epoch: 027, Train Acc: 0.7781, Test Acc: 0.7625, Loss: 0.0126\n"
     ]
    },
    {
     "name": "stderr",
     "output_type": "stream",
     "text": [
      "  2%|▏         | 1/47 [00:01<01:15,  1.64s/it]\n"
     ]
    },
    {
     "name": "stdout",
     "output_type": "stream",
     "text": [
      "Epoch: 028, Train Acc: 0.7781, Test Acc: 0.7625, Loss: 0.0132\n"
     ]
    },
    {
     "name": "stderr",
     "output_type": "stream",
     "text": [
      "  2%|▏         | 1/47 [00:01<00:54,  1.18s/it]\n"
     ]
    },
    {
     "name": "stdout",
     "output_type": "stream",
     "text": [
      "Epoch: 029, Train Acc: 0.7788, Test Acc: 0.7675, Loss: 0.0135\n"
     ]
    },
    {
     "name": "stderr",
     "output_type": "stream",
     "text": [
      "  2%|▏         | 1/47 [00:03<02:31,  3.30s/it]\n"
     ]
    },
    {
     "name": "stdout",
     "output_type": "stream",
     "text": [
      "Epoch: 030, Train Acc: 0.7781, Test Acc: 0.7650, Loss: 0.0127\n"
     ]
    },
    {
     "name": "stderr",
     "output_type": "stream",
     "text": [
      "  2%|▏         | 1/47 [00:03<02:18,  3.00s/it]\n"
     ]
    },
    {
     "name": "stdout",
     "output_type": "stream",
     "text": [
      "Epoch: 031, Train Acc: 0.7781, Test Acc: 0.7650, Loss: 0.0132\n"
     ]
    },
    {
     "name": "stderr",
     "output_type": "stream",
     "text": [
      "  2%|▏         | 1/47 [00:01<01:01,  1.33s/it]\n"
     ]
    },
    {
     "name": "stdout",
     "output_type": "stream",
     "text": [
      "Epoch: 032, Train Acc: 0.7769, Test Acc: 0.7650, Loss: 0.0131\n"
     ]
    },
    {
     "name": "stderr",
     "output_type": "stream",
     "text": [
      "  2%|▏         | 1/47 [00:00<00:40,  1.13it/s]\n"
     ]
    },
    {
     "name": "stdout",
     "output_type": "stream",
     "text": [
      "Epoch: 033, Train Acc: 0.7769, Test Acc: 0.7650, Loss: 0.0128\n"
     ]
    },
    {
     "name": "stderr",
     "output_type": "stream",
     "text": [
      "  2%|▏         | 1/47 [00:00<00:43,  1.06it/s]\n"
     ]
    },
    {
     "name": "stdout",
     "output_type": "stream",
     "text": [
      "Epoch: 034, Train Acc: 0.7769, Test Acc: 0.7650, Loss: 0.0133\n"
     ]
    },
    {
     "name": "stderr",
     "output_type": "stream",
     "text": [
      "  2%|▏         | 1/47 [00:02<01:42,  2.24s/it]\n"
     ]
    },
    {
     "name": "stdout",
     "output_type": "stream",
     "text": [
      "Epoch: 035, Train Acc: 0.7775, Test Acc: 0.7650, Loss: 0.0131\n"
     ]
    },
    {
     "name": "stderr",
     "output_type": "stream",
     "text": [
      "  2%|▏         | 1/47 [00:01<01:13,  1.59s/it]\n"
     ]
    },
    {
     "name": "stdout",
     "output_type": "stream",
     "text": [
      "Epoch: 036, Train Acc: 0.7788, Test Acc: 0.7650, Loss: 0.0127\n"
     ]
    },
    {
     "name": "stderr",
     "output_type": "stream",
     "text": [
      "  2%|▏         | 1/47 [00:01<00:51,  1.13s/it]\n"
     ]
    },
    {
     "name": "stdout",
     "output_type": "stream",
     "text": [
      "Epoch: 037, Train Acc: 0.7781, Test Acc: 0.7650, Loss: 0.0126\n"
     ]
    },
    {
     "name": "stderr",
     "output_type": "stream",
     "text": [
      "  2%|▏         | 1/47 [00:01<00:50,  1.10s/it]\n"
     ]
    },
    {
     "name": "stdout",
     "output_type": "stream",
     "text": [
      "Epoch: 038, Train Acc: 0.7781, Test Acc: 0.7650, Loss: 0.0132\n"
     ]
    },
    {
     "name": "stderr",
     "output_type": "stream",
     "text": [
      "  2%|▏         | 1/47 [00:03<02:41,  3.50s/it]\n"
     ]
    },
    {
     "name": "stdout",
     "output_type": "stream",
     "text": [
      "Epoch: 039, Train Acc: 0.7781, Test Acc: 0.7650, Loss: 0.0132\n"
     ]
    },
    {
     "name": "stderr",
     "output_type": "stream",
     "text": [
      "  2%|▏         | 1/47 [00:01<01:14,  1.62s/it]\n"
     ]
    },
    {
     "name": "stdout",
     "output_type": "stream",
     "text": [
      "Epoch: 040, Train Acc: 0.7781, Test Acc: 0.7625, Loss: 0.0128\n"
     ]
    },
    {
     "name": "stderr",
     "output_type": "stream",
     "text": [
      "  2%|▏         | 1/47 [00:02<01:53,  2.48s/it]\n"
     ]
    },
    {
     "name": "stdout",
     "output_type": "stream",
     "text": [
      "Epoch: 041, Train Acc: 0.7781, Test Acc: 0.7625, Loss: 0.0130\n"
     ]
    },
    {
     "name": "stderr",
     "output_type": "stream",
     "text": [
      "  2%|▏         | 1/47 [00:02<01:51,  2.41s/it]\n"
     ]
    },
    {
     "name": "stdout",
     "output_type": "stream",
     "text": [
      "Epoch: 042, Train Acc: 0.7788, Test Acc: 0.7625, Loss: 0.0129\n"
     ]
    },
    {
     "name": "stderr",
     "output_type": "stream",
     "text": [
      "  2%|▏         | 1/47 [00:01<01:30,  1.97s/it]\n"
     ]
    },
    {
     "name": "stdout",
     "output_type": "stream",
     "text": [
      "Epoch: 043, Train Acc: 0.7788, Test Acc: 0.7625, Loss: 0.0133\n"
     ]
    },
    {
     "name": "stderr",
     "output_type": "stream",
     "text": [
      "  2%|▏         | 1/47 [00:02<01:41,  2.22s/it]\n"
     ]
    },
    {
     "name": "stdout",
     "output_type": "stream",
     "text": [
      "Epoch: 044, Train Acc: 0.7788, Test Acc: 0.7625, Loss: 0.0129\n"
     ]
    },
    {
     "name": "stderr",
     "output_type": "stream",
     "text": [
      "  2%|▏         | 1/47 [00:01<01:31,  2.00s/it]\n"
     ]
    },
    {
     "name": "stdout",
     "output_type": "stream",
     "text": [
      "Epoch: 045, Train Acc: 0.7788, Test Acc: 0.7650, Loss: 0.0128\n"
     ]
    },
    {
     "name": "stderr",
     "output_type": "stream",
     "text": [
      "  2%|▏         | 1/47 [00:01<00:55,  1.21s/it]\n"
     ]
    },
    {
     "name": "stdout",
     "output_type": "stream",
     "text": [
      "Epoch: 046, Train Acc: 0.7788, Test Acc: 0.7650, Loss: 0.0127\n"
     ]
    },
    {
     "name": "stderr",
     "output_type": "stream",
     "text": [
      "  2%|▏         | 1/47 [00:00<00:39,  1.15it/s]\n"
     ]
    },
    {
     "name": "stdout",
     "output_type": "stream",
     "text": [
      "Epoch: 047, Train Acc: 0.7788, Test Acc: 0.7650, Loss: 0.0125\n"
     ]
    },
    {
     "name": "stderr",
     "output_type": "stream",
     "text": [
      "  2%|▏         | 1/47 [00:01<01:10,  1.54s/it]\n"
     ]
    },
    {
     "name": "stdout",
     "output_type": "stream",
     "text": [
      "Epoch: 048, Train Acc: 0.7788, Test Acc: 0.7650, Loss: 0.0125\n"
     ]
    },
    {
     "name": "stderr",
     "output_type": "stream",
     "text": [
      "  2%|▏         | 1/47 [00:01<01:20,  1.75s/it]\n"
     ]
    },
    {
     "name": "stdout",
     "output_type": "stream",
     "text": [
      "Epoch: 049, Train Acc: 0.7788, Test Acc: 0.7650, Loss: 0.0128\n"
     ]
    },
    {
     "name": "stderr",
     "output_type": "stream",
     "text": [
      "  2%|▏         | 1/47 [00:01<00:50,  1.10s/it]\n"
     ]
    },
    {
     "name": "stdout",
     "output_type": "stream",
     "text": [
      "Epoch: 050, Train Acc: 0.7788, Test Acc: 0.7700, Loss: 0.0126\n"
     ]
    }
   ],
   "source": [
    "for epoch in range(1, 51):\n",
    "    loss = train(model, train_loader)\n",
    "    train_acc = test(model, train_loader)\n",
    "    test_acc = test(model, test_loader)\n",
    "    print(f'Epoch: {epoch:03d}, Train Acc: {train_acc:.4f}, Test Acc: {test_acc:.4f}, Loss: {loss:.4f}')"
   ]
  },
  {
   "cell_type": "code",
   "execution_count": 10,
   "id": "0c947c51-00d1-4f3b-9ccb-15947b46587d",
   "metadata": {
    "scrolled": true
   },
   "outputs": [
    {
     "name": "stdout",
     "output_type": "stream",
     "text": [
      "50\n",
      "Number of Data-based FNs: 109\n"
     ]
    }
   ],
   "source": [
    "print(sparse)\n",
    "X = torch.tensor(features)\n",
    "y = torch.tensor(labels)\n",
    "# X = torch.reshape(X, (X.shape[0], X.shape[1], 1))\n",
    "G = np.load(f'Time Experiments/sergio data/ExtraPointsSergio{sparse}.npy')\n",
    "G = torch.tensor(G, dtype=torch.int64)\n",
    "i = X.shape[1]\n",
    "\n",
    "loader = graph_data\n",
    "gt = np.load('Time Experiments/sergio data/gt_adj.npy')\n",
    "lst1 = gt[0]\n",
    "lst2 = gt[1]\n",
    "gt = set()\n",
    "for i in range(0, len(lst1)):\n",
    "    pt = (lst1[i], lst2[i])\n",
    "    gt.add(pt)\n",
    "df_extra = np.load(f'Time Experiments/sergio data/ExtraPointsSergio{sparse}.npy')\n",
    "lst1 = df_extra[0]\n",
    "lst2 = df_extra[1]\n",
    "gt_grn = [] # Initialize list denoting whether edges in supergraph are in the original graph\n",
    "full_set = set()\n",
    "sz = len(lst1)\n",
    "for i in range(0, len(lst1)):\n",
    "    pt = (lst1[i], lst2[i])\n",
    "    full_set.add(pt)\n",
    "    if pt in gt:\n",
    "        gt_grn.append(1) # If in ground truth graph, add 1\n",
    "    else:\n",
    "        gt_grn.append(0) # Else add 0\n",
    "groundtruth_mask = torch.tensor(gt_grn)\n",
    "gt_grn = groundtruth_mask\n",
    "    \n",
    "false_negative_base = 0\n",
    "l1 = np.load('Time Experiments/sergio data/gt_adj.npy')[0]\n",
    "l2 = np.load('Time Experiments/sergio data/gt_adj.npy')[1]\n",
    "for i in range(0, len(l1)):\n",
    "    if (l1[i], l2[i]) not in full_set:\n",
    "        false_negative_base += 1\n",
    "print(f'Number of Data-based FNs: {false_negative_base}')\n",
    "def faithfulness(model, X, G, edge_mask):\n",
    "    org_vec = []\n",
    "    for data in X:\n",
    "        data.x = torch.reshape(data.x, (data.x.shape[0], 1))\n",
    "        data.x = data.x.type(torch.FloatTensor)\n",
    "        data = data.to(device)\n",
    "        org_vec1 = model(data.x, G, data.batch).tolist()\n",
    "        org_vec.append(org_vec1)\n",
    "    org_vec = torch.tensor(org_vec)\n",
    "    lst = []\n",
    "    for i in range(0, edge_mask.shape[0]):\n",
    "        if edge_mask[i] >= 0.5:\n",
    "            lst.append(i)\n",
    "    g = G[:, lst]\n",
    "    \n",
    "    pert_vec = []\n",
    "    for data in X:\n",
    "        data.x = torch.reshape(data.x, (data.x.shape[0], 1))\n",
    "        data.x = data.x.type(torch.FloatTensor)\n",
    "        data = data.to(device)\n",
    "        pert_vec1 = model(data.x, g, data.batch).tolist()\n",
    "        pert_vec.append(pert_vec1)\n",
    "    pert_vec = torch.tensor(pert_vec)\n",
    "    \n",
    "    org_softmax = F.softmax(org_vec, dim=-1)\n",
    "    pert_softmax = F.softmax(pert_vec, dim=-1)\n",
    "    res = 1 - torch.exp(-F.kl_div(org_softmax.log(), pert_softmax, None, None, 'sum')).item()\n",
    "\n",
    "    return res"
   ]
  },
  {
   "cell_type": "code",
   "execution_count": 11,
   "id": "d4feb90e-fc6b-4526-a482-e601cf558001",
   "metadata": {
    "jupyter": {
     "source_hidden": true
    }
   },
   "outputs": [],
   "source": [
    "def metrics(gt_grn, prediction_mask, false_negative_base):\n",
    "    tp = 0\n",
    "    tn = 0\n",
    "    fn = false_negative_base\n",
    "    fp = 0\n",
    "    for ct in range(0, sz):\n",
    "        if gt_grn[ct] == 1 and prediction_mask[ct] > 0.5:\n",
    "            tp += 1\n",
    "        elif gt_grn[ct] == 1 and prediction_mask[ct] <= 0.5:\n",
    "            fn += 1\n",
    "        elif gt_grn[ct] == 0 and prediction_mask[ct] <= 0.5:\n",
    "            tn += 1\n",
    "        elif gt_grn[ct] == 0 and prediction_mask[ct] > 0.5:\n",
    "            fp += 1\n",
    "        else:\n",
    "            continue\n",
    "    acc = (tp + tn) / (tp + tn + fn + fp)\n",
    "    if tp + fp != 0:\n",
    "        prec = tp / (tp + fp)\n",
    "    else:\n",
    "        prec = 0\n",
    "    if tp + fp != 0:\n",
    "        rec = tp / (tp + fn)\n",
    "    else:\n",
    "        rec = 0\n",
    "    if prec != 0 and rec != 0:\n",
    "        f1 = (2 * prec * rec) / (prec + rec)\n",
    "    else:\n",
    "        f1 = 0\n",
    "    return acc, f1"
   ]
  },
  {
   "cell_type": "code",
   "execution_count": 12,
   "id": "82cf7177-7c53-4096-a21a-aee1df4b15a1",
   "metadata": {
    "jupyter": {
     "source_hidden": true
    }
   },
   "outputs": [],
   "source": [
    "def objective(trial):\n",
    "    lr = trial.suggest_float('lrs', 1e-6, 0.2)\n",
    "    alpha = trial.suggest_float('a', 0.1, 1)\n",
    "    beta = trial.suggest_float('b', 0.1, 1)\n",
    "    explainer = BetaExplainer(model, graph_data, G, torch.device('cpu'), 2000, alpha, beta)\n",
    "    explainer.train(25, lr)\n",
    "    prediction_mask = explainer.edge_mask()\n",
    "    em = prediction_mask\n",
    "    acc, f1 = metrics(groundtruth_mask, prediction_mask, 0)\n",
    "    return acc"
   ]
  },
  {
   "cell_type": "code",
   "execution_count": 2,
   "id": "12785b46-d66e-479b-92ab-34548989b698",
   "metadata": {},
   "outputs": [],
   "source": [
    "pruner = optuna.pruners.MedianPruner()\n",
    "study = optuna.create_study(direction='maximize', sampler=optuna.samplers.TPESampler(), pruner=pruner)\n",
    "study.optimize(objective, n_trials=50)\n",
    "print('Best hyperparameters:', study.best_params)\n",
    "print('Best accuracy:', study.best_value)"
   ]
  }
 ],
 "metadata": {
  "kernelspec": {
   "display_name": "Python [conda env:base] *",
   "language": "python",
   "name": "conda-base-py"
  },
  "language_info": {
   "codemirror_mode": {
    "name": "ipython",
    "version": 3
   },
   "file_extension": ".py",
   "mimetype": "text/x-python",
   "name": "python",
   "nbconvert_exporter": "python",
   "pygments_lexer": "ipython3",
   "version": "3.12.7"
  }
 },
 "nbformat": 4,
 "nbformat_minor": 5
}
