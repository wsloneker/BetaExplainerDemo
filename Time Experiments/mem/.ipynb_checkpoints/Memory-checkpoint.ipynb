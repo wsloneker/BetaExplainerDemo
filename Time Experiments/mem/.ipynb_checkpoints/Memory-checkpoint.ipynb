{
 "cells": [
  {
   "cell_type": "code",
   "execution_count": 11,
   "id": "d9ce1e65-cfd6-4200-8ecc-b3da0fbf1680",
   "metadata": {},
   "outputs": [],
   "source": [
    "import pandas as pd\n",
    "import numpy as np"
   ]
  },
  {
   "cell_type": "code",
   "execution_count": 39,
   "id": "2101efea-59de-44ea-bbd2-72e990d930ea",
   "metadata": {},
   "outputs": [
    {
     "name": "stdout",
     "output_type": "stream",
     "text": [
      "BetaExplainer\n",
      "Current memory usage: 0.0619927978515625 MB\n",
      "Peak usage: 2.0530828475952148 MB\n",
      "SubgraphX\n",
      "Current memory usage: 0.0002740478515625 MB\n",
      "Peak usage: 0.00243316650390625 MB\n",
      "GNNExplainer\n",
      "Current memory usage: 0.0117877197265625 MB\n",
      "Peak usage: 0.017452049255371093 MB\n"
     ]
    }
   ],
   "source": [
    "df = pd.read_csv('25Runtimes.csv')\n",
    "exps = ['BetaExplainer', 'SubgraphX', 'GNNExplainer']\n",
    "for exp in exps:\n",
    "    subset = df[df['Explainer'] == exp]\n",
    "    current = np.mean(list(subset['Current Memory']))\n",
    "    peak = np.mean(list(subset['Peak Memory']))\n",
    "    print(exp)\n",
    "    print(f\"Current memory usage: {current / 1024 / 1024} MB\")\n",
    "    print(f\"Peak usage: {peak / 1024 / 1024} MB\")"
   ]
  },
  {
   "cell_type": "code",
   "execution_count": 41,
   "id": "a7d6daae-88a7-4700-8ab3-4da21b974fb1",
   "metadata": {},
   "outputs": [
    {
     "name": "stdout",
     "output_type": "stream",
     "text": [
      "BetaExplainer\n",
      "Current memory usage: 0.06294319152832031 MB\n",
      "Peak usage: 2.054028282165527 MB\n",
      "SubgraphX\n",
      "Current memory usage: 0.0002740478515625 MB\n",
      "Peak usage: 0.00243316650390625 MB\n",
      "GNNExplainer\n",
      "Current memory usage: 0.012344627380371094 MB\n",
      "Peak usage: 0.018047523498535157 MB\n"
     ]
    }
   ],
   "source": [
    "df = pd.read_csv('50Runtimes.csv')\n",
    "exps = ['BetaExplainer', 'SubgraphX', 'GNNExplainer']\n",
    "for exp in exps:\n",
    "    subset = df[df['Explainer'] == exp]\n",
    "    current = np.mean(list(subset['Current Memory']))\n",
    "    peak = np.mean(list(subset['Peak Memory']))\n",
    "    print(exp)\n",
    "    print(f\"Current memory usage: {current / 1024 / 1024} MB\")\n",
    "    print(f\"Peak usage: {peak / 1024 / 1024} MB\")"
   ]
  },
  {
   "cell_type": "code",
   "execution_count": 45,
   "id": "a3ede49f-bbf5-48d5-a1f0-5290466c76f0",
   "metadata": {},
   "outputs": [
    {
     "data": {
      "text/html": [
       "<div>\n",
       "<style scoped>\n",
       "    .dataframe tbody tr th:only-of-type {\n",
       "        vertical-align: middle;\n",
       "    }\n",
       "\n",
       "    .dataframe tbody tr th {\n",
       "        vertical-align: top;\n",
       "    }\n",
       "\n",
       "    .dataframe thead th {\n",
       "        text-align: right;\n",
       "    }\n",
       "</style>\n",
       "<table border=\"1\" class=\"dataframe\">\n",
       "  <thead>\n",
       "    <tr style=\"text-align: right;\">\n",
       "      <th></th>\n",
       "      <th>Unnamed: 0</th>\n",
       "      <th>Data</th>\n",
       "      <th>Explainer</th>\n",
       "      <th>Experiment</th>\n",
       "      <th># Epochs</th>\n",
       "      <th>Current Memory</th>\n",
       "      <th>Peak Memory</th>\n",
       "    </tr>\n",
       "  </thead>\n",
       "  <tbody>\n",
       "    <tr>\n",
       "      <th>0</th>\n",
       "      <td>0</td>\n",
       "      <td>base</td>\n",
       "      <td>Beta</td>\n",
       "      <td>0</td>\n",
       "      <td>25</td>\n",
       "      <td>55925</td>\n",
       "      <td>87575</td>\n",
       "    </tr>\n",
       "    <tr>\n",
       "      <th>1</th>\n",
       "      <td>1</td>\n",
       "      <td>base</td>\n",
       "      <td>Beta</td>\n",
       "      <td>1</td>\n",
       "      <td>25</td>\n",
       "      <td>29978</td>\n",
       "      <td>61882</td>\n",
       "    </tr>\n",
       "    <tr>\n",
       "      <th>2</th>\n",
       "      <td>2</td>\n",
       "      <td>base</td>\n",
       "      <td>Beta</td>\n",
       "      <td>2</td>\n",
       "      <td>25</td>\n",
       "      <td>28864</td>\n",
       "      <td>60693</td>\n",
       "    </tr>\n",
       "    <tr>\n",
       "      <th>3</th>\n",
       "      <td>3</td>\n",
       "      <td>base</td>\n",
       "      <td>Beta</td>\n",
       "      <td>3</td>\n",
       "      <td>25</td>\n",
       "      <td>25961</td>\n",
       "      <td>57785</td>\n",
       "    </tr>\n",
       "    <tr>\n",
       "      <th>4</th>\n",
       "      <td>4</td>\n",
       "      <td>base</td>\n",
       "      <td>Beta</td>\n",
       "      <td>4</td>\n",
       "      <td>25</td>\n",
       "      <td>25662</td>\n",
       "      <td>57521</td>\n",
       "    </tr>\n",
       "  </tbody>\n",
       "</table>\n",
       "</div>"
      ],
      "text/plain": [
       "   Unnamed: 0  Data Explainer  Experiment  # Epochs  Current Memory  \\\n",
       "0           0  base      Beta           0        25           55925   \n",
       "1           1  base      Beta           1        25           29978   \n",
       "2           2  base      Beta           2        25           28864   \n",
       "3           3  base      Beta           3        25           25961   \n",
       "4           4  base      Beta           4        25           25662   \n",
       "\n",
       "   Peak Memory  \n",
       "0        87575  \n",
       "1        61882  \n",
       "2        60693  \n",
       "3        57785  \n",
       "4        57521  "
      ]
     },
     "execution_count": 45,
     "metadata": {},
     "output_type": "execute_result"
    }
   ],
   "source": [
    "df.head()"
   ]
  },
  {
   "cell_type": "code",
   "execution_count": 47,
   "id": "2be5b389-f9ad-4ddd-bed9-5dbf924f1836",
   "metadata": {},
   "outputs": [
    {
     "name": "stdout",
     "output_type": "stream",
     "text": [
      "Beta\n",
      "Current memory usage: 0.025237598419189454 MB\n",
      "Peak usage: 0.05502237319946289 MB\n",
      "SubgraphX\n",
      "Current memory usage: 0.00025909423828125 MB\n",
      "Peak usage: 0.002418212890625 MB\n",
      "GNN\n",
      "Current memory usage: 0.003509044647216797 MB\n",
      "Peak usage: 0.10937383651733398 MB\n"
     ]
    }
   ],
   "source": [
    "df = pd.read_csv('baseMemory.csv')\n",
    "exps = ['Beta', 'SubgraphX', 'GNN']\n",
    "for exp in exps:\n",
    "    subset = df[df['Explainer'] == exp]\n",
    "    current = np.mean(list(subset['Current Memory']))\n",
    "    peak = np.mean(list(subset['Peak Memory']))\n",
    "    print(exp)\n",
    "    print(f\"Current memory usage: {current / 1024 / 1024} MB\")\n",
    "    print(f\"Peak usage: {peak / 1024 / 1024} MB\")"
   ]
  },
  {
   "cell_type": "code",
   "execution_count": 49,
   "id": "b379219b-a9c4-4f4c-96a8-1503e7577b14",
   "metadata": {},
   "outputs": [
    {
     "name": "stdout",
     "output_type": "stream",
     "text": [
      "Beta\n",
      "Current memory usage: 0.02646045684814453 MB\n",
      "Peak usage: 0.05624650955200195 MB\n",
      "SubgraphX\n",
      "Current memory usage: 0.00025909423828125 MB\n",
      "Peak usage: 0.002418212890625 MB\n",
      "GNN\n",
      "Current memory usage: 0.0032383537292480467 MB\n",
      "Peak usage: 0.10885986328125 MB\n"
     ]
    }
   ],
   "source": [
    "df = pd.read_csv('heteroMemory.csv')\n",
    "exps = ['Beta', 'SubgraphX', 'GNN']\n",
    "for exp in exps:\n",
    "    subset = df[df['Explainer'] == exp]\n",
    "    current = np.mean(list(subset['Current Memory']))\n",
    "    peak = np.mean(list(subset['Peak Memory']))\n",
    "    print(exp)\n",
    "    print(f\"Current memory usage: {current / 1024 / 1024} MB\")\n",
    "    print(f\"Peak usage: {peak / 1024 / 1024} MB\")"
   ]
  },
  {
   "cell_type": "code",
   "execution_count": 51,
   "id": "88114480-b115-401a-a300-e059949d9bf4",
   "metadata": {},
   "outputs": [
    {
     "name": "stdout",
     "output_type": "stream",
     "text": [
      "Beta\n",
      "Current memory usage: 0.027235794067382812 MB\n",
      "Peak usage: 0.05687776565551758 MB\n",
      "SubgraphX\n",
      "Current memory usage: 0.00025909423828125 MB\n",
      "Peak usage: 0.002418212890625 MB\n",
      "GNN\n",
      "Current memory usage: 0.003284645080566406 MB\n",
      "Peak usage: 0.1089137077331543 MB\n"
     ]
    }
   ],
   "source": [
    "df = pd.read_csv('unfairMemory.csv')\n",
    "exps = ['Beta', 'SubgraphX', 'GNN']\n",
    "for exp in exps:\n",
    "    subset = df[df['Explainer'] == exp]\n",
    "    current = np.mean(list(subset['Current Memory']))\n",
    "    peak = np.mean(list(subset['Peak Memory']))\n",
    "    print(exp)\n",
    "    print(f\"Current memory usage: {current / 1024 / 1024} MB\")\n",
    "    print(f\"Peak usage: {peak / 1024 / 1024} MB\")"
   ]
  },
  {
   "cell_type": "code",
   "execution_count": 53,
   "id": "8afed4e7-67b9-469e-8c17-fffa8bfb2cf5",
   "metadata": {},
   "outputs": [
    {
     "name": "stdout",
     "output_type": "stream",
     "text": [
      "Beta\n",
      "Current memory usage: 0.028906612396240233 MB\n",
      "Peak usage: 0.05858989715576172 MB\n",
      "SubgraphX\n",
      "Current memory usage: 0.00025909423828125 MB\n",
      "Peak usage: 0.002418212890625 MB\n",
      "GNN\n",
      "Current memory usage: 0.003553333282470703 MB\n",
      "Peak usage: 0.10931032180786132 MB\n"
     ]
    }
   ],
   "source": [
    "df = pd.read_csv('lessinformMemory.csv')\n",
    "exps = ['Beta', 'SubgraphX', 'GNN']\n",
    "for exp in exps:\n",
    "    subset = df[df['Explainer'] == exp]\n",
    "    current = np.mean(list(subset['Current Memory']))\n",
    "    peak = np.mean(list(subset['Peak Memory']))\n",
    "    print(exp)\n",
    "    print(f\"Current memory usage: {current / 1024 / 1024} MB\")\n",
    "    print(f\"Peak usage: {peak / 1024 / 1024} MB\")"
   ]
  },
  {
   "cell_type": "code",
   "execution_count": 55,
   "id": "0a20c861-4248-4aa6-845b-ccc622dba627",
   "metadata": {},
   "outputs": [
    {
     "name": "stdout",
     "output_type": "stream",
     "text": [
      "Beta\n",
      "Current memory usage: 0.027640056610107423 MB\n",
      "Peak usage: 0.05731517791748047 MB\n",
      "SubgraphX\n",
      "Current memory usage: 0.00025909423828125 MB\n",
      "Peak usage: 0.002418212890625 MB\n",
      "GNN\n",
      "Current memory usage: 0.0035504722595214844 MB\n",
      "Peak usage: 0.10927148818969727 MB\n"
     ]
    }
   ],
   "source": [
    "df = pd.read_csv('moreinformMemory.csv')\n",
    "exps = ['Beta', 'SubgraphX', 'GNN']\n",
    "for exp in exps:\n",
    "    subset = df[df['Explainer'] == exp]\n",
    "    current = np.mean(list(subset['Current Memory']))\n",
    "    peak = np.mean(list(subset['Peak Memory']))\n",
    "    print(exp)\n",
    "    print(f\"Current memory usage: {current / 1024 / 1024} MB\")\n",
    "    print(f\"Peak usage: {peak / 1024 / 1024} MB\")"
   ]
  },
  {
   "cell_type": "code",
   "execution_count": null,
   "id": "49afc246-5fea-4d84-97e7-8492dbbc90b6",
   "metadata": {},
   "outputs": [],
   "source": []
  }
 ],
 "metadata": {
  "kernelspec": {
   "display_name": "Python [conda env:base] *",
   "language": "python",
   "name": "conda-base-py"
  },
  "language_info": {
   "codemirror_mode": {
    "name": "ipython",
    "version": 3
   },
   "file_extension": ".py",
   "mimetype": "text/x-python",
   "name": "python",
   "nbconvert_exporter": "python",
   "pygments_lexer": "ipython3",
   "version": "3.12.7"
  }
 },
 "nbformat": 4,
 "nbformat_minor": 5
}
