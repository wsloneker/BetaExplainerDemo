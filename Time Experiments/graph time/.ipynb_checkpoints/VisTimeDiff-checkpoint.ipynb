{
 "cells": [
  {
   "cell_type": "code",
   "execution_count": 1,
   "id": "3c09bda0-c3b1-4fee-83ff-19dac6c50c27",
   "metadata": {
    "scrolled": true
   },
   "outputs": [
    {
     "data": {
      "text/html": [
       "    <style>\n",
       "        .bk-notebook-logo {\n",
       "            display: block;\n",
       "            width: 20px;\n",
       "            height: 20px;\n",
       "            background-image: url(data:image/png;base64,iVBORw0KGgoAAAANSUhEUgAAABQAAAAUCAYAAACNiR0NAAAABHNCSVQICAgIfAhkiAAAAAlwSFlzAAALEgAACxIB0t1+/AAAABx0RVh0U29mdHdhcmUAQWRvYmUgRmlyZXdvcmtzIENTNui8sowAAAOkSURBVDiNjZRtaJVlGMd/1/08zzln5zjP1LWcU9N0NkN8m2CYjpgQYQXqSs0I84OLIC0hkEKoPtiH3gmKoiJDU7QpLgoLjLIQCpEsNJ1vqUOdO7ppbuec5+V+rj4ctwzd8IIbbi6u+8f1539dt3A78eXC7QizUF7gyV1fD1Yqg4JWz84yffhm0qkFqBogB9rM8tZdtwVsPUhWhGcFJngGeWrPzHm5oaMmkfEg1usvLFyc8jLRqDOMru7AyC8saQr7GG7f5fvDeH7Ej8CM66nIF+8yngt6HWaKh7k49Soy9nXurCi1o3qUbS3zWfrYeQDTB/Qj6kX6Ybhw4B+bOYoLKCC9H3Nu/leUTZ1JdRWkkn2ldcCamzrcf47KKXdAJllSlxAOkRgyHsGC/zRday5Qld9DyoM4/q/rUoy/CXh3jzOu3bHUVZeU+DEn8FInkPBFlu3+nW3Nw0mk6vCDiWg8CeJaxEwuHS3+z5RgY+YBR6V1Z1nxSOfoaPa4LASWxxdNp+VWTk7+4vzaou8v8PN+xo+KY2xsw6une2frhw05CTYOmQvsEhjhWjn0bmXPjpE1+kplmmkP3suftwTubK9Vq22qKmrBhpY4jvd5afdRA3wGjFAgcnTK2s4hY0/GPNIb0nErGMCRxWOOX64Z8RAC4oCXdklmEvcL8o0BfkNK4lUg9HTl+oPlQxdNo3Mg4Nv175e/1LDGzZen30MEjRUtmXSfiTVu1kK8W4txyV6BMKlbgk3lMwYCiusNy9fVfvvwMxv8Ynl6vxoByANLTWplvuj/nF9m2+PDtt1eiHPBr1oIfhCChQMBw6Aw0UulqTKZdfVvfG7VcfIqLG9bcldL/+pdWTLxLUy8Qq38heUIjh4XlzZxzQm19lLFlr8vdQ97rjZVOLf8nclzckbcD4wxXMidpX30sFd37Fv/GtwwhzhxGVAprjbg0gCAEeIgwCZyTV2Z1REEW8O4py0wsjeloKoMr6iCY6dP92H6Vw/oTyICIthibxjm/DfN9lVz8IqtqKYLUXfoKVMVQVVJOElGjrnnUt9T9wbgp8AyYKaGlqingHZU/uG2NTZSVqwHQTWkx9hxjkpWDaCg6Ckj5qebgBVbT3V3NNXMSiWSDdGV3hrtzla7J+duwPOToIg42ChPQOQjspnSlp1V+Gjdged7+8UN5CRAV7a5EdFNwCjEaBR27b3W890TE7g24NAP/mMDXRWrGoFPQI9ls/MWO2dWFAar/xcOIImbbpA3zgAAAABJRU5ErkJggg==);\n",
       "        }\n",
       "    </style>\n",
       "    <div>\n",
       "        <a href=\"https://bokeh.org\" target=\"_blank\" class=\"bk-notebook-logo\"></a>\n",
       "        <span id=\"df7e55a7-8137-43d3-8893-a92108e08301\">Loading BokehJS ...</span>\n",
       "    </div>\n"
      ]
     },
     "metadata": {},
     "output_type": "display_data"
    },
    {
     "data": {
      "application/javascript": [
       "(function(root) {\n",
       "  function now() {\n",
       "    return new Date();\n",
       "  }\n",
       "\n",
       "  const force = true;\n",
       "\n",
       "  if (typeof root._bokeh_onload_callbacks === \"undefined\" || force === true) {\n",
       "    root._bokeh_onload_callbacks = [];\n",
       "    root._bokeh_is_loading = undefined;\n",
       "  }\n",
       "\n",
       "const JS_MIME_TYPE = 'application/javascript';\n",
       "  const HTML_MIME_TYPE = 'text/html';\n",
       "  const EXEC_MIME_TYPE = 'application/vnd.bokehjs_exec.v0+json';\n",
       "  const CLASS_NAME = 'output_bokeh rendered_html';\n",
       "\n",
       "  /**\n",
       "   * Render data to the DOM node\n",
       "   */\n",
       "  function render(props, node) {\n",
       "    const script = document.createElement(\"script\");\n",
       "    node.appendChild(script);\n",
       "  }\n",
       "\n",
       "  /**\n",
       "   * Handle when an output is cleared or removed\n",
       "   */\n",
       "  function handleClearOutput(event, handle) {\n",
       "    function drop(id) {\n",
       "      const view = Bokeh.index.get_by_id(id)\n",
       "      if (view != null) {\n",
       "        view.model.document.clear()\n",
       "        Bokeh.index.delete(view)\n",
       "      }\n",
       "    }\n",
       "\n",
       "    const cell = handle.cell;\n",
       "\n",
       "    const id = cell.output_area._bokeh_element_id;\n",
       "    const server_id = cell.output_area._bokeh_server_id;\n",
       "\n",
       "    // Clean up Bokeh references\n",
       "    if (id != null) {\n",
       "      drop(id)\n",
       "    }\n",
       "\n",
       "    if (server_id !== undefined) {\n",
       "      // Clean up Bokeh references\n",
       "      const cmd_clean = \"from bokeh.io.state import curstate; print(curstate().uuid_to_server['\" + server_id + \"'].get_sessions()[0].document.roots[0]._id)\";\n",
       "      cell.notebook.kernel.execute(cmd_clean, {\n",
       "        iopub: {\n",
       "          output: function(msg) {\n",
       "            const id = msg.content.text.trim()\n",
       "            drop(id)\n",
       "          }\n",
       "        }\n",
       "      });\n",
       "      // Destroy server and session\n",
       "      const cmd_destroy = \"import bokeh.io.notebook as ion; ion.destroy_server('\" + server_id + \"')\";\n",
       "      cell.notebook.kernel.execute(cmd_destroy);\n",
       "    }\n",
       "  }\n",
       "\n",
       "  /**\n",
       "   * Handle when a new output is added\n",
       "   */\n",
       "  function handleAddOutput(event, handle) {\n",
       "    const output_area = handle.output_area;\n",
       "    const output = handle.output;\n",
       "\n",
       "    // limit handleAddOutput to display_data with EXEC_MIME_TYPE content only\n",
       "    if ((output.output_type != \"display_data\") || (!Object.prototype.hasOwnProperty.call(output.data, EXEC_MIME_TYPE))) {\n",
       "      return\n",
       "    }\n",
       "\n",
       "    const toinsert = output_area.element.find(\".\" + CLASS_NAME.split(' ')[0]);\n",
       "\n",
       "    if (output.metadata[EXEC_MIME_TYPE][\"id\"] !== undefined) {\n",
       "      toinsert[toinsert.length - 1].firstChild.textContent = output.data[JS_MIME_TYPE];\n",
       "      // store reference to embed id on output_area\n",
       "      output_area._bokeh_element_id = output.metadata[EXEC_MIME_TYPE][\"id\"];\n",
       "    }\n",
       "    if (output.metadata[EXEC_MIME_TYPE][\"server_id\"] !== undefined) {\n",
       "      const bk_div = document.createElement(\"div\");\n",
       "      bk_div.innerHTML = output.data[HTML_MIME_TYPE];\n",
       "      const script_attrs = bk_div.children[0].attributes;\n",
       "      for (let i = 0; i < script_attrs.length; i++) {\n",
       "        toinsert[toinsert.length - 1].firstChild.setAttribute(script_attrs[i].name, script_attrs[i].value);\n",
       "        toinsert[toinsert.length - 1].firstChild.textContent = bk_div.children[0].textContent\n",
       "      }\n",
       "      // store reference to server id on output_area\n",
       "      output_area._bokeh_server_id = output.metadata[EXEC_MIME_TYPE][\"server_id\"];\n",
       "    }\n",
       "  }\n",
       "\n",
       "  function register_renderer(events, OutputArea) {\n",
       "\n",
       "    function append_mime(data, metadata, element) {\n",
       "      // create a DOM node to render to\n",
       "      const toinsert = this.create_output_subarea(\n",
       "        metadata,\n",
       "        CLASS_NAME,\n",
       "        EXEC_MIME_TYPE\n",
       "      );\n",
       "      this.keyboard_manager.register_events(toinsert);\n",
       "      // Render to node\n",
       "      const props = {data: data, metadata: metadata[EXEC_MIME_TYPE]};\n",
       "      render(props, toinsert[toinsert.length - 1]);\n",
       "      element.append(toinsert);\n",
       "      return toinsert\n",
       "    }\n",
       "\n",
       "    /* Handle when an output is cleared or removed */\n",
       "    events.on('clear_output.CodeCell', handleClearOutput);\n",
       "    events.on('delete.Cell', handleClearOutput);\n",
       "\n",
       "    /* Handle when a new output is added */\n",
       "    events.on('output_added.OutputArea', handleAddOutput);\n",
       "\n",
       "    /**\n",
       "     * Register the mime type and append_mime function with output_area\n",
       "     */\n",
       "    OutputArea.prototype.register_mime_type(EXEC_MIME_TYPE, append_mime, {\n",
       "      /* Is output safe? */\n",
       "      safe: true,\n",
       "      /* Index of renderer in `output_area.display_order` */\n",
       "      index: 0\n",
       "    });\n",
       "  }\n",
       "\n",
       "  // register the mime type if in Jupyter Notebook environment and previously unregistered\n",
       "  if (root.Jupyter !== undefined) {\n",
       "    const events = require('base/js/events');\n",
       "    const OutputArea = require('notebook/js/outputarea').OutputArea;\n",
       "\n",
       "    if (OutputArea.prototype.mime_types().indexOf(EXEC_MIME_TYPE) == -1) {\n",
       "      register_renderer(events, OutputArea);\n",
       "    }\n",
       "  }\n",
       "  if (typeof (root._bokeh_timeout) === \"undefined\" || force === true) {\n",
       "    root._bokeh_timeout = Date.now() + 5000;\n",
       "    root._bokeh_failed_load = false;\n",
       "  }\n",
       "\n",
       "  const NB_LOAD_WARNING = {'data': {'text/html':\n",
       "     \"<div style='background-color: #fdd'>\\n\"+\n",
       "     \"<p>\\n\"+\n",
       "     \"BokehJS does not appear to have successfully loaded. If loading BokehJS from CDN, this \\n\"+\n",
       "     \"may be due to a slow or bad network connection. Possible fixes:\\n\"+\n",
       "     \"</p>\\n\"+\n",
       "     \"<ul>\\n\"+\n",
       "     \"<li>re-rerun `output_notebook()` to attempt to load from CDN again, or</li>\\n\"+\n",
       "     \"<li>use INLINE resources instead, as so:</li>\\n\"+\n",
       "     \"</ul>\\n\"+\n",
       "     \"<code>\\n\"+\n",
       "     \"from bokeh.resources import INLINE\\n\"+\n",
       "     \"output_notebook(resources=INLINE)\\n\"+\n",
       "     \"</code>\\n\"+\n",
       "     \"</div>\"}};\n",
       "\n",
       "  function display_loaded() {\n",
       "    const el = document.getElementById(\"df7e55a7-8137-43d3-8893-a92108e08301\");\n",
       "    if (el != null) {\n",
       "      el.textContent = \"BokehJS is loading...\";\n",
       "    }\n",
       "    if (root.Bokeh !== undefined) {\n",
       "      if (el != null) {\n",
       "        el.textContent = \"BokehJS \" + root.Bokeh.version + \" successfully loaded.\";\n",
       "      }\n",
       "    } else if (Date.now() < root._bokeh_timeout) {\n",
       "      setTimeout(display_loaded, 100)\n",
       "    }\n",
       "  }\n",
       "\n",
       "  function run_callbacks() {\n",
       "    try {\n",
       "      root._bokeh_onload_callbacks.forEach(function(callback) {\n",
       "        if (callback != null)\n",
       "          callback();\n",
       "      });\n",
       "    } finally {\n",
       "      delete root._bokeh_onload_callbacks\n",
       "    }\n",
       "    console.debug(\"Bokeh: all callbacks have finished\");\n",
       "  }\n",
       "\n",
       "  function load_libs(css_urls, js_urls, callback) {\n",
       "    if (css_urls == null) css_urls = [];\n",
       "    if (js_urls == null) js_urls = [];\n",
       "\n",
       "    root._bokeh_onload_callbacks.push(callback);\n",
       "    if (root._bokeh_is_loading > 0) {\n",
       "      console.debug(\"Bokeh: BokehJS is being loaded, scheduling callback at\", now());\n",
       "      return null;\n",
       "    }\n",
       "    if (js_urls == null || js_urls.length === 0) {\n",
       "      run_callbacks();\n",
       "      return null;\n",
       "    }\n",
       "    console.debug(\"Bokeh: BokehJS not loaded, scheduling load and callback at\", now());\n",
       "    root._bokeh_is_loading = css_urls.length + js_urls.length;\n",
       "\n",
       "    function on_load() {\n",
       "      root._bokeh_is_loading--;\n",
       "      if (root._bokeh_is_loading === 0) {\n",
       "        console.debug(\"Bokeh: all BokehJS libraries/stylesheets loaded\");\n",
       "        run_callbacks()\n",
       "      }\n",
       "    }\n",
       "\n",
       "    function on_error(url) {\n",
       "      console.error(\"failed to load \" + url);\n",
       "    }\n",
       "\n",
       "    for (let i = 0; i < css_urls.length; i++) {\n",
       "      const url = css_urls[i];\n",
       "      const element = document.createElement(\"link\");\n",
       "      element.onload = on_load;\n",
       "      element.onerror = on_error.bind(null, url);\n",
       "      element.rel = \"stylesheet\";\n",
       "      element.type = \"text/css\";\n",
       "      element.href = url;\n",
       "      console.debug(\"Bokeh: injecting link tag for BokehJS stylesheet: \", url);\n",
       "      document.body.appendChild(element);\n",
       "    }\n",
       "\n",
       "    for (let i = 0; i < js_urls.length; i++) {\n",
       "      const url = js_urls[i];\n",
       "      const element = document.createElement('script');\n",
       "      element.onload = on_load;\n",
       "      element.onerror = on_error.bind(null, url);\n",
       "      element.async = false;\n",
       "      element.src = url;\n",
       "      console.debug(\"Bokeh: injecting script tag for BokehJS library: \", url);\n",
       "      document.head.appendChild(element);\n",
       "    }\n",
       "  };\n",
       "\n",
       "  function inject_raw_css(css) {\n",
       "    const element = document.createElement(\"style\");\n",
       "    element.appendChild(document.createTextNode(css));\n",
       "    document.body.appendChild(element);\n",
       "  }\n",
       "\n",
       "  const js_urls = [\"https://cdn.bokeh.org/bokeh/release/bokeh-3.3.4.min.js\", \"https://cdn.bokeh.org/bokeh/release/bokeh-gl-3.3.4.min.js\", \"https://cdn.bokeh.org/bokeh/release/bokeh-widgets-3.3.4.min.js\", \"https://cdn.bokeh.org/bokeh/release/bokeh-tables-3.3.4.min.js\", \"https://cdn.bokeh.org/bokeh/release/bokeh-mathjax-3.3.4.min.js\"];\n",
       "  const css_urls = [];\n",
       "\n",
       "  const inline_js = [    function(Bokeh) {\n",
       "      Bokeh.set_log_level(\"info\");\n",
       "    },\n",
       "function(Bokeh) {\n",
       "    }\n",
       "  ];\n",
       "\n",
       "  function run_inline_js() {\n",
       "    if (root.Bokeh !== undefined || force === true) {\n",
       "          for (let i = 0; i < inline_js.length; i++) {\n",
       "      inline_js[i].call(root, root.Bokeh);\n",
       "    }\n",
       "if (force === true) {\n",
       "        display_loaded();\n",
       "      }} else if (Date.now() < root._bokeh_timeout) {\n",
       "      setTimeout(run_inline_js, 100);\n",
       "    } else if (!root._bokeh_failed_load) {\n",
       "      console.log(\"Bokeh: BokehJS failed to load within specified timeout.\");\n",
       "      root._bokeh_failed_load = true;\n",
       "    } else if (force !== true) {\n",
       "      const cell = $(document.getElementById(\"df7e55a7-8137-43d3-8893-a92108e08301\")).parents('.cell').data().cell;\n",
       "      cell.output_area.append_execute_result(NB_LOAD_WARNING)\n",
       "    }\n",
       "  }\n",
       "\n",
       "  if (root._bokeh_is_loading === 0) {\n",
       "    console.debug(\"Bokeh: BokehJS loaded, going straight to plotting\");\n",
       "    run_inline_js();\n",
       "  } else {\n",
       "    load_libs(css_urls, js_urls, function() {\n",
       "      console.debug(\"Bokeh: BokehJS plotting callback run at\", now());\n",
       "      run_inline_js();\n",
       "    });\n",
       "  }\n",
       "}(window));"
      ],
      "application/vnd.bokehjs_load.v0+json": "(function(root) {\n  function now() {\n    return new Date();\n  }\n\n  const force = true;\n\n  if (typeof root._bokeh_onload_callbacks === \"undefined\" || force === true) {\n    root._bokeh_onload_callbacks = [];\n    root._bokeh_is_loading = undefined;\n  }\n\n\n  if (typeof (root._bokeh_timeout) === \"undefined\" || force === true) {\n    root._bokeh_timeout = Date.now() + 5000;\n    root._bokeh_failed_load = false;\n  }\n\n  const NB_LOAD_WARNING = {'data': {'text/html':\n     \"<div style='background-color: #fdd'>\\n\"+\n     \"<p>\\n\"+\n     \"BokehJS does not appear to have successfully loaded. If loading BokehJS from CDN, this \\n\"+\n     \"may be due to a slow or bad network connection. Possible fixes:\\n\"+\n     \"</p>\\n\"+\n     \"<ul>\\n\"+\n     \"<li>re-rerun `output_notebook()` to attempt to load from CDN again, or</li>\\n\"+\n     \"<li>use INLINE resources instead, as so:</li>\\n\"+\n     \"</ul>\\n\"+\n     \"<code>\\n\"+\n     \"from bokeh.resources import INLINE\\n\"+\n     \"output_notebook(resources=INLINE)\\n\"+\n     \"</code>\\n\"+\n     \"</div>\"}};\n\n  function display_loaded() {\n    const el = document.getElementById(\"df7e55a7-8137-43d3-8893-a92108e08301\");\n    if (el != null) {\n      el.textContent = \"BokehJS is loading...\";\n    }\n    if (root.Bokeh !== undefined) {\n      if (el != null) {\n        el.textContent = \"BokehJS \" + root.Bokeh.version + \" successfully loaded.\";\n      }\n    } else if (Date.now() < root._bokeh_timeout) {\n      setTimeout(display_loaded, 100)\n    }\n  }\n\n  function run_callbacks() {\n    try {\n      root._bokeh_onload_callbacks.forEach(function(callback) {\n        if (callback != null)\n          callback();\n      });\n    } finally {\n      delete root._bokeh_onload_callbacks\n    }\n    console.debug(\"Bokeh: all callbacks have finished\");\n  }\n\n  function load_libs(css_urls, js_urls, callback) {\n    if (css_urls == null) css_urls = [];\n    if (js_urls == null) js_urls = [];\n\n    root._bokeh_onload_callbacks.push(callback);\n    if (root._bokeh_is_loading > 0) {\n      console.debug(\"Bokeh: BokehJS is being loaded, scheduling callback at\", now());\n      return null;\n    }\n    if (js_urls == null || js_urls.length === 0) {\n      run_callbacks();\n      return null;\n    }\n    console.debug(\"Bokeh: BokehJS not loaded, scheduling load and callback at\", now());\n    root._bokeh_is_loading = css_urls.length + js_urls.length;\n\n    function on_load() {\n      root._bokeh_is_loading--;\n      if (root._bokeh_is_loading === 0) {\n        console.debug(\"Bokeh: all BokehJS libraries/stylesheets loaded\");\n        run_callbacks()\n      }\n    }\n\n    function on_error(url) {\n      console.error(\"failed to load \" + url);\n    }\n\n    for (let i = 0; i < css_urls.length; i++) {\n      const url = css_urls[i];\n      const element = document.createElement(\"link\");\n      element.onload = on_load;\n      element.onerror = on_error.bind(null, url);\n      element.rel = \"stylesheet\";\n      element.type = \"text/css\";\n      element.href = url;\n      console.debug(\"Bokeh: injecting link tag for BokehJS stylesheet: \", url);\n      document.body.appendChild(element);\n    }\n\n    for (let i = 0; i < js_urls.length; i++) {\n      const url = js_urls[i];\n      const element = document.createElement('script');\n      element.onload = on_load;\n      element.onerror = on_error.bind(null, url);\n      element.async = false;\n      element.src = url;\n      console.debug(\"Bokeh: injecting script tag for BokehJS library: \", url);\n      document.head.appendChild(element);\n    }\n  };\n\n  function inject_raw_css(css) {\n    const element = document.createElement(\"style\");\n    element.appendChild(document.createTextNode(css));\n    document.body.appendChild(element);\n  }\n\n  const js_urls = [\"https://cdn.bokeh.org/bokeh/release/bokeh-3.3.4.min.js\", \"https://cdn.bokeh.org/bokeh/release/bokeh-gl-3.3.4.min.js\", \"https://cdn.bokeh.org/bokeh/release/bokeh-widgets-3.3.4.min.js\", \"https://cdn.bokeh.org/bokeh/release/bokeh-tables-3.3.4.min.js\", \"https://cdn.bokeh.org/bokeh/release/bokeh-mathjax-3.3.4.min.js\"];\n  const css_urls = [];\n\n  const inline_js = [    function(Bokeh) {\n      Bokeh.set_log_level(\"info\");\n    },\nfunction(Bokeh) {\n    }\n  ];\n\n  function run_inline_js() {\n    if (root.Bokeh !== undefined || force === true) {\n          for (let i = 0; i < inline_js.length; i++) {\n      inline_js[i].call(root, root.Bokeh);\n    }\nif (force === true) {\n        display_loaded();\n      }} else if (Date.now() < root._bokeh_timeout) {\n      setTimeout(run_inline_js, 100);\n    } else if (!root._bokeh_failed_load) {\n      console.log(\"Bokeh: BokehJS failed to load within specified timeout.\");\n      root._bokeh_failed_load = true;\n    } else if (force !== true) {\n      const cell = $(document.getElementById(\"df7e55a7-8137-43d3-8893-a92108e08301\")).parents('.cell').data().cell;\n      cell.output_area.append_execute_result(NB_LOAD_WARNING)\n    }\n  }\n\n  if (root._bokeh_is_loading === 0) {\n    console.debug(\"Bokeh: BokehJS loaded, going straight to plotting\");\n    run_inline_js();\n  } else {\n    load_libs(css_urls, js_urls, function() {\n      console.debug(\"Bokeh: BokehJS plotting callback run at\", now());\n      run_inline_js();\n    });\n  }\n}(window));"
     },
     "metadata": {},
     "output_type": "display_data"
    }
   ],
   "source": [
    "import pandas as pd\n",
    "import numpy as np\n",
    "from scipy import stats\n",
    "import ast\n",
    "import networkx as nx\n",
    "from pyvis.network import Network\n",
    "import graphviz\n",
    "import seaborn as sns\n",
    "import matplotlib.pyplot as plt\n",
    "plt.style.use('tableau-colorblind10')\n",
    "import numba\n",
    "import seaborn as sns\n",
    "import iqplot\n",
    "from sklearn import metrics\n",
    "import bokeh.models\n",
    "import bokeh.plotting\n",
    "import bokeh.io\n",
    "bokeh.io.output_notebook()"
   ]
  },
  {
   "cell_type": "code",
   "execution_count": 2,
   "id": "b1c9efed-941e-4cae-b0d4-68c69a763ab6",
   "metadata": {},
   "outputs": [],
   "source": [
    "effects = pd.read_csv('Twitch25GraphRuntimes.csv')\n",
    "effects = effects.drop(['Average Runtime', 'Unnamed: 0', 'Data', 'Experiment'], axis=1)\n",
    "effects = effects.rename({'# Edges': 'Number of Edges', 'Full Runtime': 'Runtime (Seconds)'}, axis=1)\n",
    "gnn = effects[effects['Explainer'] == 'GNN']\n",
    "gnn = gnn.rename({'Runtime (Seconds)': 'GNN Runtime (Seconds)'}, axis=1)\n",
    "gnn = gnn.drop(['Explainer'], axis=1)\n",
    "beta = effects[effects['Explainer'] == 'Beta']\n",
    "beta = beta.rename({'Runtime (Seconds)': 'Beta Runtime (Seconds)'}, axis=1)\n",
    "beta = beta.drop(['Explainer'], axis=1)\n",
    "diff = pd.merge(gnn, beta, how=\"right\", on=[\"# Epochs\",'Number of Edges'])\n",
    "diff['Difference (Seconds)'] = diff['Beta Runtime (Seconds)'] - diff['GNN Runtime (Seconds)']"
   ]
  },
  {
   "cell_type": "code",
   "execution_count": 3,
   "id": "6a20813c-bd5d-49b7-8d68-3470611b3092",
   "metadata": {},
   "outputs": [
    {
     "data": {
      "text/html": [
       "\n",
       "  <div id=\"f7bc929c-76ee-49c1-8d5c-4f06df3a56a9\" data-root-id=\"p1001\" style=\"display: contents;\"></div>\n"
      ]
     },
     "metadata": {},
     "output_type": "display_data"
    },
    {
     "data": {
      "application/javascript": [
       "(function(root) {\n",
       "  function embed_document(root) {\n",
       "  const docs_json = {\"a73b2825-6e58-415b-8c75-3e5a3dc0142f\":{\"version\":\"3.3.4\",\"title\":\"Bokeh Application\",\"roots\":[{\"type\":\"object\",\"name\":\"Figure\",\"id\":\"p1001\",\"attributes\":{\"width\":400,\"height\":300,\"x_range\":{\"type\":\"object\",\"name\":\"DataRange1d\",\"id\":\"p1002\"},\"y_range\":{\"type\":\"object\",\"name\":\"DataRange1d\",\"id\":\"p1003\"},\"x_scale\":{\"type\":\"object\",\"name\":\"LinearScale\",\"id\":\"p1010\"},\"y_scale\":{\"type\":\"object\",\"name\":\"LinearScale\",\"id\":\"p1011\"},\"title\":{\"type\":\"object\",\"name\":\"Title\",\"id\":\"p1008\"},\"renderers\":[{\"type\":\"object\",\"name\":\"GlyphRenderer\",\"id\":\"p1042\",\"attributes\":{\"data_source\":{\"type\":\"object\",\"name\":\"ColumnDataSource\",\"id\":\"p1033\",\"attributes\":{\"selected\":{\"type\":\"object\",\"name\":\"Selection\",\"id\":\"p1034\",\"attributes\":{\"indices\":[],\"line_indices\":[]}},\"selection_policy\":{\"type\":\"object\",\"name\":\"UnionRenderers\",\"id\":\"p1035\"},\"data\":{\"type\":\"map\",\"entries\":[[\"index\",{\"type\":\"ndarray\",\"array\":{\"type\":\"bytes\",\"data\":\"AAAAAAIAAAAEAAAABgAAAAgAAAAKAAAADAAAAA4AAAAQAAAAEgAAABQAAAAWAAAAGAAAABoAAAAcAAAAHgAAACAAAAAiAAAAJAAAACYAAAAoAAAAKgAAACwAAAAuAAAAMAAAADIAAAA0AAAANgAAADgAAAA6AAAAPAAAAD4AAABAAAAAQgAAAEQAAABGAAAASAAAAEoAAABMAAAATgAAAFAAAABSAAAAVAAAAFYAAABYAAAAWgAAAFwAAABeAAAAYAAAAGIAAABkAAAAZgAAAGgAAABqAAAAbAAAAG4AAABwAAAAcgAAAHQAAAB2AAAAeAAAAHoAAAB8AAAAfgAAAIAAAACCAAAAhAAAAIYAAACIAAAAigAAAIwAAACOAAAAkAAAAJIAAACUAAAAlgAAAJgAAACaAAAAnAAAAJ4AAACgAAAAogAAAKQAAACmAAAAqAAAAKoAAACsAAAArgAAALAAAACyAAAAtAAAALYAAAC4AAAAugAAALwAAAC+AAAAwAAAAMIAAADEAAAAxgAAAA==\"},\"shape\":[100],\"dtype\":\"int32\",\"order\":\"little\"}],[\"Explainer\",{\"type\":\"ndarray\",\"array\":[\"Beta\",\"Beta\",\"Beta\",\"Beta\",\"Beta\",\"Beta\",\"Beta\",\"Beta\",\"Beta\",\"Beta\",\"Beta\",\"Beta\",\"Beta\",\"Beta\",\"Beta\",\"Beta\",\"Beta\",\"Beta\",\"Beta\",\"Beta\",\"Beta\",\"Beta\",\"Beta\",\"Beta\",\"Beta\",\"Beta\",\"Beta\",\"Beta\",\"Beta\",\"Beta\",\"Beta\",\"Beta\",\"Beta\",\"Beta\",\"Beta\",\"Beta\",\"Beta\",\"Beta\",\"Beta\",\"Beta\",\"Beta\",\"Beta\",\"Beta\",\"Beta\",\"Beta\",\"Beta\",\"Beta\",\"Beta\",\"Beta\",\"Beta\",\"Beta\",\"Beta\",\"Beta\",\"Beta\",\"Beta\",\"Beta\",\"Beta\",\"Beta\",\"Beta\",\"Beta\",\"Beta\",\"Beta\",\"Beta\",\"Beta\",\"Beta\",\"Beta\",\"Beta\",\"Beta\",\"Beta\",\"Beta\",\"Beta\",\"Beta\",\"Beta\",\"Beta\",\"Beta\",\"Beta\",\"Beta\",\"Beta\",\"Beta\",\"Beta\",\"Beta\",\"Beta\",\"Beta\",\"Beta\",\"Beta\",\"Beta\",\"Beta\",\"Beta\",\"Beta\",\"Beta\",\"Beta\",\"Beta\",\"Beta\",\"Beta\",\"Beta\",\"Beta\",\"Beta\",\"Beta\",\"Beta\",\"Beta\"],\"shape\":[100],\"dtype\":\"object\",\"order\":\"little\"}],[\"# Epochs\",{\"type\":\"ndarray\",\"array\":{\"type\":\"bytes\",\"data\":\"MgAAADIAAAAyAAAAMgAAADIAAAAyAAAAMgAAADIAAAAyAAAAMgAAADIAAAAyAAAAMgAAADIAAAAyAAAAMgAAADIAAAAyAAAAMgAAADIAAAAyAAAAMgAAADIAAAAyAAAAMgAAADIAAAAyAAAAMgAAADIAAAAyAAAAMgAAADIAAAAyAAAAMgAAADIAAAAyAAAAMgAAADIAAAAyAAAAMgAAADIAAAAyAAAAMgAAADIAAAAyAAAAMgAAADIAAAAyAAAAMgAAADIAAAAyAAAAMgAAADIAAAAyAAAAMgAAADIAAAAyAAAAMgAAADIAAAAyAAAAMgAAADIAAAAyAAAAMgAAADIAAAAyAAAAMgAAADIAAAAyAAAAMgAAADIAAAAyAAAAMgAAADIAAAAyAAAAMgAAADIAAAAyAAAAMgAAADIAAAAyAAAAMgAAADIAAAAyAAAAMgAAADIAAAAyAAAAMgAAADIAAAAyAAAAMgAAADIAAAAyAAAAMgAAADIAAAAyAAAAMgAAADIAAAAyAAAAMgAAAA==\"},\"shape\":[100],\"dtype\":\"int32\",\"order\":\"little\"}],[\"Runtime (Seconds)\",{\"type\":\"ndarray\",\"array\":{\"type\":\"bytes\",\"data\":\"AAAAwIRh+D8BAAAALafzPwAAAIDdyPo/AAAAQFTv8T8AAAAAW2n0PwAAAECEs/M/AAAAQE759T8AAADAIeTzPwEAAIDLn/g/////v8gI/T8AAADARIX+PwAAAOAtRABAAAAAQJCK+j8CAAAAf8L9PwAAAIA4NwBAAAAAYCRzAEAAAADANv75PwEAACAtQAFAAAAAgO9NAkAAAACgBp4BQAEAAADk8P4/AAAAoGgoAkAAAAAAvi8AQAAAAOBQlwJAAAAAIJ4KAEAAAABAjxH7PwAAAECKVvk/AAAAIHVvA0AAAADA9c8CQAAAAECUTQNAAAAAQDLhAkAAAACgtgoBQAAAAABqlgJAAAAAoILEAkAAAABg4iIDQAAAAACCHP0/AAAA4EBOAEABAABgJbgCQAEAAKDxpAFAAAAAAH17AEABAABgA4ACQAAAAKCooAJA/////+NnAED////fcQcDQAAAAECBygBAAQAAoBXwAUAAAADAKecAQAAAAMDKVQFAAAAAACkOA0AAAABAmcsAQAAAAKD9/gJA////v+ZKA0AAAABgFNEDQAAAAGAjzwNAAAAAoAsAA0AAAAAgHIwEQAAAACB3IARAAAAAoE0bBED///9/Wh4FQAAAAIDAvAJAAAAAwGn5A0AAAAAgv1oFQAAAAOAX7gNAAAAAQF47BEABAAAgFCMEQAAAAICpLARAAAAAoBKXA0AAAACgsowDQAAAAOBQtANAAAAAILf/AUAAAAAgIkMFQAAAAIB8hQRAAAAAAPQiBEABAADAPPYEQAAAAGDdpgVAAAAAQOrLBUAAAADADIECQAAAAKC98gJAAAAAAAufBUAAAACA8g4DQAAAAOCBOQRAAAAAgPcIAED/////0YoEQAAAAOCF8QRAAAAA4DX0AkAAAACgXZACQAAAAKAC5ARAAAAAwAORBEAAAAAA+nMFQAAAAKDfxQJAAAAA4PlIBUAAAABAnS4EQAEAAODW/QJAAAAAAGo7BUAAAADA3qcFQAAAAIBilQVAAQAAoKzGAkABAAAAYoMDQAAAAAB93ANAAAAAgLQzBUA=\"},\"shape\":[100],\"dtype\":\"float64\",\"order\":\"little\"}],[\"Number of Edges\",{\"type\":\"ndarray\",\"array\":{\"type\":\"bytes\",\"data\":\"MgAAAGQAAACWAAAAyAAAAPoAAAAsAQAAXgEAAJABAADCAQAA9AEAACYCAABYAgAAigIAALwCAADuAgAAIAMAAFIDAACEAwAAtgMAAOgDAAAaBAAATAQAAH4EAACwBAAA4gQAABQFAABGBQAAeAUAAKoFAADcBQAADgYAAEAGAAByBgAApAYAANYGAAAIBwAAOgcAAGwHAACeBwAA0AcAAAIIAAA0CAAAZggAAJgIAADKCAAA/AgAAC4JAABgCQAAkgkAAMQJAAD2CQAAKAoAAFoKAACMCgAAvgoAAPAKAAAiCwAAVAsAAIYLAAC4CwAA6gsAABwMAABODAAAgAwAALIMAADkDAAAFg0AAEgNAAB6DQAArA0AAN4NAAAQDgAAQg4AAHQOAACmDgAA2A4AAAoPAAA8DwAAbg8AAKAPAADSDwAABBAAADYQAABoEAAAmhAAAMwQAAD+EAAAMBEAAGIRAACUEQAAxhEAAPgRAAAqEgAAXBIAAI4SAADAEgAA8hIAACQTAABWEwAAiBMAAA==\"},\"shape\":[100],\"dtype\":\"int32\",\"order\":\"little\"}]]}}},\"view\":{\"type\":\"object\",\"name\":\"CDSView\",\"id\":\"p1043\",\"attributes\":{\"filter\":{\"type\":\"object\",\"name\":\"AllIndices\",\"id\":\"p1044\"}}},\"glyph\":{\"type\":\"object\",\"name\":\"Circle\",\"id\":\"p1039\",\"attributes\":{\"x\":{\"type\":\"field\",\"field\":\"Number of Edges\"},\"y\":{\"type\":\"field\",\"field\":\"Runtime (Seconds)\"},\"line_color\":{\"type\":\"value\",\"value\":\"#1f77b4\"},\"fill_color\":{\"type\":\"value\",\"value\":\"#1f77b4\"}}},\"nonselection_glyph\":{\"type\":\"object\",\"name\":\"Circle\",\"id\":\"p1040\",\"attributes\":{\"x\":{\"type\":\"field\",\"field\":\"Number of Edges\"},\"y\":{\"type\":\"field\",\"field\":\"Runtime (Seconds)\"},\"line_color\":{\"type\":\"value\",\"value\":\"#1f77b4\"},\"line_alpha\":{\"type\":\"value\",\"value\":0.1},\"fill_color\":{\"type\":\"value\",\"value\":\"#1f77b4\"},\"fill_alpha\":{\"type\":\"value\",\"value\":0.1},\"hatch_alpha\":{\"type\":\"value\",\"value\":0.1}}},\"muted_glyph\":{\"type\":\"object\",\"name\":\"Circle\",\"id\":\"p1041\",\"attributes\":{\"x\":{\"type\":\"field\",\"field\":\"Number of Edges\"},\"y\":{\"type\":\"field\",\"field\":\"Runtime (Seconds)\"},\"line_color\":{\"type\":\"value\",\"value\":\"#1f77b4\"},\"line_alpha\":{\"type\":\"value\",\"value\":0.2},\"fill_color\":{\"type\":\"value\",\"value\":\"#1f77b4\"},\"fill_alpha\":{\"type\":\"value\",\"value\":0.2},\"hatch_alpha\":{\"type\":\"value\",\"value\":0.2}}}}},{\"type\":\"object\",\"name\":\"GlyphRenderer\",\"id\":\"p1056\",\"attributes\":{\"data_source\":{\"type\":\"object\",\"name\":\"ColumnDataSource\",\"id\":\"p1047\",\"attributes\":{\"selected\":{\"type\":\"object\",\"name\":\"Selection\",\"id\":\"p1048\",\"attributes\":{\"indices\":[],\"line_indices\":[]}},\"selection_policy\":{\"type\":\"object\",\"name\":\"UnionRenderers\",\"id\":\"p1049\"},\"data\":{\"type\":\"map\",\"entries\":[[\"index\",{\"type\":\"ndarray\",\"array\":{\"type\":\"bytes\",\"data\":\"AQAAAAMAAAAFAAAABwAAAAkAAAALAAAADQAAAA8AAAARAAAAEwAAABUAAAAXAAAAGQAAABsAAAAdAAAAHwAAACEAAAAjAAAAJQAAACcAAAApAAAAKwAAAC0AAAAvAAAAMQAAADMAAAA1AAAANwAAADkAAAA7AAAAPQAAAD8AAABBAAAAQwAAAEUAAABHAAAASQAAAEsAAABNAAAATwAAAFEAAABTAAAAVQAAAFcAAABZAAAAWwAAAF0AAABfAAAAYQAAAGMAAABlAAAAZwAAAGkAAABrAAAAbQAAAG8AAABxAAAAcwAAAHUAAAB3AAAAeQAAAHsAAAB9AAAAfwAAAIEAAACDAAAAhQAAAIcAAACJAAAAiwAAAI0AAACPAAAAkQAAAJMAAACVAAAAlwAAAJkAAACbAAAAnQAAAJ8AAAChAAAAowAAAKUAAACnAAAAqQAAAKsAAACtAAAArwAAALEAAACzAAAAtQAAALcAAAC5AAAAuwAAAL0AAAC/AAAAwQAAAMMAAADFAAAAxwAAAA==\"},\"shape\":[100],\"dtype\":\"int32\",\"order\":\"little\"}],[\"Explainer\",{\"type\":\"ndarray\",\"array\":[\"GNN\",\"GNN\",\"GNN\",\"GNN\",\"GNN\",\"GNN\",\"GNN\",\"GNN\",\"GNN\",\"GNN\",\"GNN\",\"GNN\",\"GNN\",\"GNN\",\"GNN\",\"GNN\",\"GNN\",\"GNN\",\"GNN\",\"GNN\",\"GNN\",\"GNN\",\"GNN\",\"GNN\",\"GNN\",\"GNN\",\"GNN\",\"GNN\",\"GNN\",\"GNN\",\"GNN\",\"GNN\",\"GNN\",\"GNN\",\"GNN\",\"GNN\",\"GNN\",\"GNN\",\"GNN\",\"GNN\",\"GNN\",\"GNN\",\"GNN\",\"GNN\",\"GNN\",\"GNN\",\"GNN\",\"GNN\",\"GNN\",\"GNN\",\"GNN\",\"GNN\",\"GNN\",\"GNN\",\"GNN\",\"GNN\",\"GNN\",\"GNN\",\"GNN\",\"GNN\",\"GNN\",\"GNN\",\"GNN\",\"GNN\",\"GNN\",\"GNN\",\"GNN\",\"GNN\",\"GNN\",\"GNN\",\"GNN\",\"GNN\",\"GNN\",\"GNN\",\"GNN\",\"GNN\",\"GNN\",\"GNN\",\"GNN\",\"GNN\",\"GNN\",\"GNN\",\"GNN\",\"GNN\",\"GNN\",\"GNN\",\"GNN\",\"GNN\",\"GNN\",\"GNN\",\"GNN\",\"GNN\",\"GNN\",\"GNN\",\"GNN\",\"GNN\",\"GNN\",\"GNN\",\"GNN\",\"GNN\"],\"shape\":[100],\"dtype\":\"object\",\"order\":\"little\"}],[\"# Epochs\",{\"type\":\"ndarray\",\"array\":{\"type\":\"bytes\",\"data\":\"MgAAADIAAAAyAAAAMgAAADIAAAAyAAAAMgAAADIAAAAyAAAAMgAAADIAAAAyAAAAMgAAADIAAAAyAAAAMgAAADIAAAAyAAAAMgAAADIAAAAyAAAAMgAAADIAAAAyAAAAMgAAADIAAAAyAAAAMgAAADIAAAAyAAAAMgAAADIAAAAyAAAAMgAAADIAAAAyAAAAMgAAADIAAAAyAAAAMgAAADIAAAAyAAAAMgAAADIAAAAyAAAAMgAAADIAAAAyAAAAMgAAADIAAAAyAAAAMgAAADIAAAAyAAAAMgAAADIAAAAyAAAAMgAAADIAAAAyAAAAMgAAADIAAAAyAAAAMgAAADIAAAAyAAAAMgAAADIAAAAyAAAAMgAAADIAAAAyAAAAMgAAADIAAAAyAAAAMgAAADIAAAAyAAAAMgAAADIAAAAyAAAAMgAAADIAAAAyAAAAMgAAADIAAAAyAAAAMgAAADIAAAAyAAAAMgAAADIAAAAyAAAAMgAAADIAAAAyAAAAMgAAADIAAAAyAAAAMgAAAA==\"},\"shape\":[100],\"dtype\":\"int32\",\"order\":\"little\"}],[\"Runtime (Seconds)\",{\"type\":\"ndarray\",\"array\":{\"type\":\"bytes\",\"data\":\"AAAAAOOl6D8AAAAAV6ThPwAAAIDtneY/AAAAAPO74D8AAACArGDjPwAAAAD6DOI/AAAAgD7l6z8AAACA//7mPwEAAABYL+0/AAAAAOLN6z8AAACAldfyPwAAAABbivA/AAAAQBYd8j8AAAAAI/zxPwAAAEBWcPI/AAAAgKvW8j8AAADAJeHwPwAAAMAre/E/AAAAwI8k9D8AAACAFMfxPwAAAACNbe8//////9yP7j8AAAAA4rDrPwAAAIDP2Oo/AAAAgL1R6T8AAAAAxaPqPwEAAED5hvE/////f48z7z////9/8uXwPwAAAMDozPE/AAAAgHkt8T8AAAAAXazsP/////8Wt/E/AAAAgG5y8j8AAADA4BHwPwEAAIAIYu8/AAAAgFoP8j8AAACAuDryPwAAAIBUmPA/AAAAAPvQ8z8AAAAAKk/1PwAAAACl4/Q/AAAAgHkG9j8AAABAbITxPwAAAMCqFvE/AAAAwCKk8z8BAADA2U7xPwAAAMCAdfE/AAAAwC3y9T////8/Y8z0PwAAAABdovQ/AQAAwFxq9T8AAACAkwPxPwAAAED3AfQ/AAAAQG9G9D8AAAAA8YDxPwAAAIBeaPM/AAAAQFXJ8T8AAADAb5DzP/////+p5e0/AAAAQEr08j8AAAAA9WfyPwEAAIAKMvA/AAAAwC9D8z8AAABA0CrxPwAAAIAZ2/I/AAAAQLLq8z8AAAAAuWD0PwAAAMDLPvI/AAAAQJ4M8T8AAADAMMbyPwAAAACv6/M/AQAAwFuf8j8AAADAtab0PwAAAMDSVvU/AAAAQEjs8j8AAACAzqDzPwAAAMDIePM/AAAAgCiH9T8AAABAO1L2PwAAAMBXnvI/AAAAwJeu8z8AAAAA/ujxPwAAAEBygvU/AAAAAIu26T8BAABA+H7xPwAAAMAK5vI/AAAAAGKq8z8AAABAih/1P////z8mIfU/AAAAgM489T8AAADAvmbzP////7+DjPE/AAAAAMuQ9D8AAADAVcX0PwAAAEBrgPI/AQAAAG4Y8j8AAACADlHzPwAAAECzifM/AAAAQBBr9D8=\"},\"shape\":[100],\"dtype\":\"float64\",\"order\":\"little\"}],[\"Number of Edges\",{\"type\":\"ndarray\",\"array\":{\"type\":\"bytes\",\"data\":\"MgAAAGQAAACWAAAAyAAAAPoAAAAsAQAAXgEAAJABAADCAQAA9AEAACYCAABYAgAAigIAALwCAADuAgAAIAMAAFIDAACEAwAAtgMAAOgDAAAaBAAATAQAAH4EAACwBAAA4gQAABQFAABGBQAAeAUAAKoFAADcBQAADgYAAEAGAAByBgAApAYAANYGAAAIBwAAOgcAAGwHAACeBwAA0AcAAAIIAAA0CAAAZggAAJgIAADKCAAA/AgAAC4JAABgCQAAkgkAAMQJAAD2CQAAKAoAAFoKAACMCgAAvgoAAPAKAAAiCwAAVAsAAIYLAAC4CwAA6gsAABwMAABODAAAgAwAALIMAADkDAAAFg0AAEgNAAB6DQAArA0AAN4NAAAQDgAAQg4AAHQOAACmDgAA2A4AAAoPAAA8DwAAbg8AAKAPAADSDwAABBAAADYQAABoEAAAmhAAAMwQAAD+EAAAMBEAAGIRAACUEQAAxhEAAPgRAAAqEgAAXBIAAI4SAADAEgAA8hIAACQTAABWEwAAiBMAAA==\"},\"shape\":[100],\"dtype\":\"int32\",\"order\":\"little\"}]]}}},\"view\":{\"type\":\"object\",\"name\":\"CDSView\",\"id\":\"p1057\",\"attributes\":{\"filter\":{\"type\":\"object\",\"name\":\"AllIndices\",\"id\":\"p1058\"}}},\"glyph\":{\"type\":\"object\",\"name\":\"Circle\",\"id\":\"p1053\",\"attributes\":{\"x\":{\"type\":\"field\",\"field\":\"Number of Edges\"},\"y\":{\"type\":\"field\",\"field\":\"Runtime (Seconds)\"},\"line_color\":{\"type\":\"value\",\"value\":\"orange\"},\"fill_color\":{\"type\":\"value\",\"value\":\"orange\"},\"hatch_color\":{\"type\":\"value\",\"value\":\"orange\"}}},\"nonselection_glyph\":{\"type\":\"object\",\"name\":\"Circle\",\"id\":\"p1054\",\"attributes\":{\"x\":{\"type\":\"field\",\"field\":\"Number of Edges\"},\"y\":{\"type\":\"field\",\"field\":\"Runtime (Seconds)\"},\"line_color\":{\"type\":\"value\",\"value\":\"orange\"},\"line_alpha\":{\"type\":\"value\",\"value\":0.1},\"fill_color\":{\"type\":\"value\",\"value\":\"orange\"},\"fill_alpha\":{\"type\":\"value\",\"value\":0.1},\"hatch_color\":{\"type\":\"value\",\"value\":\"orange\"},\"hatch_alpha\":{\"type\":\"value\",\"value\":0.1}}},\"muted_glyph\":{\"type\":\"object\",\"name\":\"Circle\",\"id\":\"p1055\",\"attributes\":{\"x\":{\"type\":\"field\",\"field\":\"Number of Edges\"},\"y\":{\"type\":\"field\",\"field\":\"Runtime (Seconds)\"},\"line_color\":{\"type\":\"value\",\"value\":\"orange\"},\"line_alpha\":{\"type\":\"value\",\"value\":0.2},\"fill_color\":{\"type\":\"value\",\"value\":\"orange\"},\"fill_alpha\":{\"type\":\"value\",\"value\":0.2},\"hatch_color\":{\"type\":\"value\",\"value\":\"orange\"},\"hatch_alpha\":{\"type\":\"value\",\"value\":0.2}}}}}],\"toolbar\":{\"type\":\"object\",\"name\":\"Toolbar\",\"id\":\"p1009\",\"attributes\":{\"tools\":[{\"type\":\"object\",\"name\":\"PanTool\",\"id\":\"p1022\"},{\"type\":\"object\",\"name\":\"WheelZoomTool\",\"id\":\"p1023\",\"attributes\":{\"renderers\":\"auto\"}},{\"type\":\"object\",\"name\":\"BoxZoomTool\",\"id\":\"p1024\",\"attributes\":{\"overlay\":{\"type\":\"object\",\"name\":\"BoxAnnotation\",\"id\":\"p1025\",\"attributes\":{\"syncable\":false,\"level\":\"overlay\",\"visible\":false,\"left\":{\"type\":\"number\",\"value\":\"nan\"},\"right\":{\"type\":\"number\",\"value\":\"nan\"},\"top\":{\"type\":\"number\",\"value\":\"nan\"},\"bottom\":{\"type\":\"number\",\"value\":\"nan\"},\"left_units\":\"canvas\",\"right_units\":\"canvas\",\"top_units\":\"canvas\",\"bottom_units\":\"canvas\",\"line_color\":\"black\",\"line_alpha\":1.0,\"line_width\":2,\"line_dash\":[4,4],\"fill_color\":\"lightgrey\",\"fill_alpha\":0.5}}}},{\"type\":\"object\",\"name\":\"SaveTool\",\"id\":\"p1030\"},{\"type\":\"object\",\"name\":\"ResetTool\",\"id\":\"p1031\"},{\"type\":\"object\",\"name\":\"HelpTool\",\"id\":\"p1032\"}]}},\"left\":[{\"type\":\"object\",\"name\":\"LinearAxis\",\"id\":\"p1017\",\"attributes\":{\"ticker\":{\"type\":\"object\",\"name\":\"BasicTicker\",\"id\":\"p1018\",\"attributes\":{\"mantissas\":[1,2,5]}},\"formatter\":{\"type\":\"object\",\"name\":\"BasicTickFormatter\",\"id\":\"p1019\"},\"axis_label\":\"Runtime (Seconds)\",\"major_label_policy\":{\"type\":\"object\",\"name\":\"AllLabels\",\"id\":\"p1020\"}}}],\"below\":[{\"type\":\"object\",\"name\":\"LinearAxis\",\"id\":\"p1012\",\"attributes\":{\"ticker\":{\"type\":\"object\",\"name\":\"BasicTicker\",\"id\":\"p1013\",\"attributes\":{\"mantissas\":[1,2,5]}},\"formatter\":{\"type\":\"object\",\"name\":\"BasicTickFormatter\",\"id\":\"p1014\"},\"axis_label\":\"Number of Edges\",\"major_label_policy\":{\"type\":\"object\",\"name\":\"AllLabels\",\"id\":\"p1015\"}}}],\"center\":[{\"type\":\"object\",\"name\":\"Grid\",\"id\":\"p1016\",\"attributes\":{\"axis\":{\"id\":\"p1012\"}}},{\"type\":\"object\",\"name\":\"Grid\",\"id\":\"p1021\",\"attributes\":{\"dimension\":1,\"axis\":{\"id\":\"p1017\"}}},{\"type\":\"object\",\"name\":\"Legend\",\"id\":\"p1045\",\"attributes\":{\"location\":\"top_left\",\"items\":[{\"type\":\"object\",\"name\":\"LegendItem\",\"id\":\"p1046\",\"attributes\":{\"label\":{\"type\":\"value\",\"value\":\"Beta\"},\"renderers\":[{\"id\":\"p1042\"}]}},{\"type\":\"object\",\"name\":\"LegendItem\",\"id\":\"p1059\",\"attributes\":{\"label\":{\"type\":\"value\",\"value\":\"GNN\"},\"renderers\":[{\"id\":\"p1056\"}]}}]}}]}}]}};\n",
       "  const render_items = [{\"docid\":\"a73b2825-6e58-415b-8c75-3e5a3dc0142f\",\"roots\":{\"p1001\":\"f7bc929c-76ee-49c1-8d5c-4f06df3a56a9\"},\"root_ids\":[\"p1001\"]}];\n",
       "  root.Bokeh.embed.embed_items_notebook(docs_json, render_items);\n",
       "  }\n",
       "  if (root.Bokeh !== undefined) {\n",
       "    embed_document(root);\n",
       "  } else {\n",
       "    let attempts = 0;\n",
       "    const timer = setInterval(function(root) {\n",
       "      if (root.Bokeh !== undefined) {\n",
       "        clearInterval(timer);\n",
       "        embed_document(root);\n",
       "      } else {\n",
       "        attempts++;\n",
       "        if (attempts > 100) {\n",
       "          clearInterval(timer);\n",
       "          console.log(\"Bokeh: ERROR: Unable to run BokehJS code because BokehJS library is missing\");\n",
       "        }\n",
       "      }\n",
       "    }, 10, root)\n",
       "  }\n",
       "})(window);"
      ],
      "application/vnd.bokehjs_exec.v0+json": ""
     },
     "metadata": {
      "application/vnd.bokehjs_exec.v0+json": {
       "id": "p1001"
      }
     },
     "output_type": "display_data"
    }
   ],
   "source": [
    "x = \"Number of Edges\"\n",
    "y = \"Runtime (Seconds)\"\n",
    "p = bokeh.plotting.figure(\n",
    "    width=400,\n",
    "    height=300,\n",
    "    x_axis_label=x,\n",
    "    y_axis_label=y,\n",
    ")\n",
    "p.circle(\n",
    "    source=effects[effects['Explainer'] == 'Beta'],\n",
    "    x=x,\n",
    "    y=y,\n",
    "    legend_label=\"Beta\",\n",
    ")\n",
    "p.circle(\n",
    "    source=effects[effects['Explainer'] == 'GNN'],\n",
    "    x=x,\n",
    "    y=y,\n",
    "    legend_label=\"GNN\",\n",
    "    color='orange'\n",
    ")\n",
    "p.legend.location = \"top_left\"\n",
    "bokeh.io.show(p)"
   ]
  },
  {
   "cell_type": "code",
   "execution_count": 4,
   "id": "ac357fb1-54cb-4a01-bbbf-7a9fc10975aa",
   "metadata": {
    "jupyter": {
     "source_hidden": true
    },
    "scrolled": true
   },
   "outputs": [
    {
     "data": {
      "text/html": [
       "\n",
       "  <div id=\"c56a864f-8f71-4b0d-a75e-fb7251504d8f\" data-root-id=\"p1068\" style=\"display: contents;\"></div>\n"
      ]
     },
     "metadata": {},
     "output_type": "display_data"
    },
    {
     "data": {
      "application/javascript": [
       "(function(root) {\n",
       "  function embed_document(root) {\n",
       "  const docs_json = {\"2791a316-abd9-428f-991b-303f33b4c61e\":{\"version\":\"3.3.4\",\"title\":\"Bokeh Application\",\"roots\":[{\"type\":\"object\",\"name\":\"Figure\",\"id\":\"p1068\",\"attributes\":{\"width\":400,\"height\":300,\"x_range\":{\"type\":\"object\",\"name\":\"DataRange1d\",\"id\":\"p1069\"},\"y_range\":{\"type\":\"object\",\"name\":\"DataRange1d\",\"id\":\"p1070\"},\"x_scale\":{\"type\":\"object\",\"name\":\"LinearScale\",\"id\":\"p1077\"},\"y_scale\":{\"type\":\"object\",\"name\":\"LinearScale\",\"id\":\"p1078\"},\"title\":{\"type\":\"object\",\"name\":\"Title\",\"id\":\"p1075\"},\"renderers\":[{\"type\":\"object\",\"name\":\"GlyphRenderer\",\"id\":\"p1109\",\"attributes\":{\"data_source\":{\"type\":\"object\",\"name\":\"ColumnDataSource\",\"id\":\"p1100\",\"attributes\":{\"selected\":{\"type\":\"object\",\"name\":\"Selection\",\"id\":\"p1101\",\"attributes\":{\"indices\":[],\"line_indices\":[]}},\"selection_policy\":{\"type\":\"object\",\"name\":\"UnionRenderers\",\"id\":\"p1102\"},\"data\":{\"type\":\"map\",\"entries\":[[\"index\",{\"type\":\"ndarray\",\"array\":{\"type\":\"bytes\",\"data\":\"AAAAAAEAAAACAAAAAwAAAAQAAAAFAAAABgAAAAcAAAAIAAAACQAAAAoAAAALAAAADAAAAA0AAAAOAAAADwAAABAAAAARAAAAEgAAABMAAAAUAAAAFQAAABYAAAAXAAAAGAAAABkAAAAaAAAAGwAAABwAAAAdAAAAHgAAAB8AAAAgAAAAIQAAACIAAAAjAAAAJAAAACUAAAAmAAAAJwAAACgAAAApAAAAKgAAACsAAAAsAAAALQAAAC4AAAAvAAAAMAAAADEAAAAyAAAAMwAAADQAAAA1AAAANgAAADcAAAA4AAAAOQAAADoAAAA7AAAAPAAAAD0AAAA+AAAAPwAAAEAAAABBAAAAQgAAAEMAAABEAAAARQAAAEYAAABHAAAASAAAAEkAAABKAAAASwAAAEwAAABNAAAATgAAAE8AAABQAAAAUQAAAFIAAABTAAAAVAAAAFUAAABWAAAAVwAAAFgAAABZAAAAWgAAAFsAAABcAAAAXQAAAF4AAABfAAAAYAAAAGEAAABiAAAAYwAAAA==\"},\"shape\":[100],\"dtype\":\"int32\",\"order\":\"little\"}],[\"# Epochs\",{\"type\":\"ndarray\",\"array\":{\"type\":\"bytes\",\"data\":\"MgAAADIAAAAyAAAAMgAAADIAAAAyAAAAMgAAADIAAAAyAAAAMgAAADIAAAAyAAAAMgAAADIAAAAyAAAAMgAAADIAAAAyAAAAMgAAADIAAAAyAAAAMgAAADIAAAAyAAAAMgAAADIAAAAyAAAAMgAAADIAAAAyAAAAMgAAADIAAAAyAAAAMgAAADIAAAAyAAAAMgAAADIAAAAyAAAAMgAAADIAAAAyAAAAMgAAADIAAAAyAAAAMgAAADIAAAAyAAAAMgAAADIAAAAyAAAAMgAAADIAAAAyAAAAMgAAADIAAAAyAAAAMgAAADIAAAAyAAAAMgAAADIAAAAyAAAAMgAAADIAAAAyAAAAMgAAADIAAAAyAAAAMgAAADIAAAAyAAAAMgAAADIAAAAyAAAAMgAAADIAAAAyAAAAMgAAADIAAAAyAAAAMgAAADIAAAAyAAAAMgAAADIAAAAyAAAAMgAAADIAAAAyAAAAMgAAADIAAAAyAAAAMgAAADIAAAAyAAAAMgAAADIAAAAyAAAAMgAAAA==\"},\"shape\":[100],\"dtype\":\"int32\",\"order\":\"little\"}],[\"GNN Runtime (Seconds)\",{\"type\":\"ndarray\",\"array\":{\"type\":\"bytes\",\"data\":\"AAAAAOOl6D8AAAAAV6ThPwAAAIDtneY/AAAAAPO74D8AAACArGDjPwAAAAD6DOI/AAAAgD7l6z8AAACA//7mPwEAAABYL+0/AAAAAOLN6z8AAACAldfyPwAAAABbivA/AAAAQBYd8j8AAAAAI/zxPwAAAEBWcPI/AAAAgKvW8j8AAADAJeHwPwAAAMAre/E/AAAAwI8k9D8AAACAFMfxPwAAAACNbe8//////9yP7j8AAAAA4rDrPwAAAIDP2Oo/AAAAgL1R6T8AAAAAxaPqPwEAAED5hvE/////f48z7z////9/8uXwPwAAAMDozPE/AAAAgHkt8T8AAAAAXazsP/////8Wt/E/AAAAgG5y8j8AAADA4BHwPwEAAIAIYu8/AAAAgFoP8j8AAACAuDryPwAAAIBUmPA/AAAAAPvQ8z8AAAAAKk/1PwAAAACl4/Q/AAAAgHkG9j8AAABAbITxPwAAAMCqFvE/AAAAwCKk8z8BAADA2U7xPwAAAMCAdfE/AAAAwC3y9T////8/Y8z0PwAAAABdovQ/AQAAwFxq9T8AAACAkwPxPwAAAED3AfQ/AAAAQG9G9D8AAAAA8YDxPwAAAIBeaPM/AAAAQFXJ8T8AAADAb5DzP/////+p5e0/AAAAQEr08j8AAAAA9WfyPwEAAIAKMvA/AAAAwC9D8z8AAABA0CrxPwAAAIAZ2/I/AAAAQLLq8z8AAAAAuWD0PwAAAMDLPvI/AAAAQJ4M8T8AAADAMMbyPwAAAACv6/M/AQAAwFuf8j8AAADAtab0PwAAAMDSVvU/AAAAQEjs8j8AAACAzqDzPwAAAMDIePM/AAAAgCiH9T8AAABAO1L2PwAAAMBXnvI/AAAAwJeu8z8AAAAA/ujxPwAAAEBygvU/AAAAAIu26T8BAABA+H7xPwAAAMAK5vI/AAAAAGKq8z8AAABAih/1P////z8mIfU/AAAAgM489T8AAADAvmbzP////7+DjPE/AAAAAMuQ9D8AAADAVcX0PwAAAEBrgPI/AQAAAG4Y8j8AAACADlHzPwAAAECzifM/AAAAQBBr9D8=\"},\"shape\":[100],\"dtype\":\"float64\",\"order\":\"little\"}],[\"Number of Edges\",{\"type\":\"ndarray\",\"array\":{\"type\":\"bytes\",\"data\":\"MgAAAGQAAACWAAAAyAAAAPoAAAAsAQAAXgEAAJABAADCAQAA9AEAACYCAABYAgAAigIAALwCAADuAgAAIAMAAFIDAACEAwAAtgMAAOgDAAAaBAAATAQAAH4EAACwBAAA4gQAABQFAABGBQAAeAUAAKoFAADcBQAADgYAAEAGAAByBgAApAYAANYGAAAIBwAAOgcAAGwHAACeBwAA0AcAAAIIAAA0CAAAZggAAJgIAADKCAAA/AgAAC4JAABgCQAAkgkAAMQJAAD2CQAAKAoAAFoKAACMCgAAvgoAAPAKAAAiCwAAVAsAAIYLAAC4CwAA6gsAABwMAABODAAAgAwAALIMAADkDAAAFg0AAEgNAAB6DQAArA0AAN4NAAAQDgAAQg4AAHQOAACmDgAA2A4AAAoPAAA8DwAAbg8AAKAPAADSDwAABBAAADYQAABoEAAAmhAAAMwQAAD+EAAAMBEAAGIRAACUEQAAxhEAAPgRAAAqEgAAXBIAAI4SAADAEgAA8hIAACQTAABWEwAAiBMAAA==\"},\"shape\":[100],\"dtype\":\"int32\",\"order\":\"little\"}],[\"Beta Runtime (Seconds)\",{\"type\":\"ndarray\",\"array\":{\"type\":\"bytes\",\"data\":\"AAAAwIRh+D8BAAAALafzPwAAAIDdyPo/AAAAQFTv8T8AAAAAW2n0PwAAAECEs/M/AAAAQE759T8AAADAIeTzPwEAAIDLn/g/////v8gI/T8AAADARIX+PwAAAOAtRABAAAAAQJCK+j8CAAAAf8L9PwAAAIA4NwBAAAAAYCRzAEAAAADANv75PwEAACAtQAFAAAAAgO9NAkAAAACgBp4BQAEAAADk8P4/AAAAoGgoAkAAAAAAvi8AQAAAAOBQlwJAAAAAIJ4KAEAAAABAjxH7PwAAAECKVvk/AAAAIHVvA0AAAADA9c8CQAAAAECUTQNAAAAAQDLhAkAAAACgtgoBQAAAAABqlgJAAAAAoILEAkAAAABg4iIDQAAAAACCHP0/AAAA4EBOAEABAABgJbgCQAEAAKDxpAFAAAAAAH17AEABAABgA4ACQAAAAKCooAJA/////+NnAED////fcQcDQAAAAECBygBAAQAAoBXwAUAAAADAKecAQAAAAMDKVQFAAAAAACkOA0AAAABAmcsAQAAAAKD9/gJA////v+ZKA0AAAABgFNEDQAAAAGAjzwNAAAAAoAsAA0AAAAAgHIwEQAAAACB3IARAAAAAoE0bBED///9/Wh4FQAAAAIDAvAJAAAAAwGn5A0AAAAAgv1oFQAAAAOAX7gNAAAAAQF47BEABAAAgFCMEQAAAAICpLARAAAAAoBKXA0AAAACgsowDQAAAAOBQtANAAAAAILf/AUAAAAAgIkMFQAAAAIB8hQRAAAAAAPQiBEABAADAPPYEQAAAAGDdpgVAAAAAQOrLBUAAAADADIECQAAAAKC98gJAAAAAAAufBUAAAACA8g4DQAAAAOCBOQRAAAAAgPcIAED/////0YoEQAAAAOCF8QRAAAAA4DX0AkAAAACgXZACQAAAAKAC5ARAAAAAwAORBEAAAAAA+nMFQAAAAKDfxQJAAAAA4PlIBUAAAABAnS4EQAEAAODW/QJAAAAAAGo7BUAAAADA3qcFQAAAAIBilQVAAQAAoKzGAkABAAAAYoMDQAAAAAB93ANAAAAAgLQzBUA=\"},\"shape\":[100],\"dtype\":\"float64\",\"order\":\"little\"}],[\"Difference (Seconds)\",{\"type\":\"ndarray\",\"array\":{\"type\":\"bytes\",\"data\":\"AAAAgCYd6D8CAAAAA6rlPwAAAIDN8+4/AAAAgLUi4z8AAACACXLlPwAAAIAOWuU/AAAAAF4N4D8AAAAARMngPwEAAAA/EOQ//v//f69D7j8AAACAXlvnPwAAAIAB/O8/AAAAAPTa4D8EAAAAuIznPwAAAIA1/Os/AAAAgDof7D8AAAAAIjriPwIAAIAuBfE/AAAAQE938D8AAADA+HTxPwIAAAA7dO4/AAAAwOII9T8AAAAAC4fyPwAAAAA6wvc/AAAAgF1s8z8AAACAWX/rP/z///9DPt8/AAAAgCJF9z8BAAAA+bn0PwAAAMA/zvQ/AAAAAOuU9D8AAADAPr/zPwEAAAC9dfM/AAAAwJYW8z8AAAAA5DP2P////3/71uo/AAAAgE4a7T8CAABAkjXzPwIAAMCOsfI/AAAAAP5L6j8EAACAuWHvPwAAAECsXfA//P///5yS5T/+//9/d4r0PwAAAMBXfvA/AgAAgAg88D////+/eX/wPwAAAMAUNvE/AAAAQCQq8D8CAACAnpXpPwAAAECeW/E//f//v3Ar8T8AAABAlZ72PwAAAIBPnPM/AAAAAKi58T8AAABAR5f3PwAAAMCP2PQ/AAAAAEZt9j/+//8/Raz2PwAAAACshvY/AAAAQIn+9D8AAABAiU34P////z8lqvc/AAAAwIwz9T8CAAAAWBv3PwAAAIA5fvU/AAAAAHND8z8AAABArLjyPwAAAADWKfU/AAAAANDy8j8AAACAE8D3PwAAAABKH/U/////P4ym9T8CAADAw0X1PwAAAADo9vU/AAAAQIyr+D8AAAAAS2HxPwAAAICybPI/AAAAgO229T8AAACAU5fvPwAAAACs1PU/AAAAgK7G6D/+////pSz3PwAAAICZYPQ/AAAAQCYN+T//////wqHzPwAAAID64fY/AAAAgKV39T8AAADAacj1PwEAAACZavA/AAAAQCVV9T8AAADAe/b0PwMAAAAqb/Q/AAAAAAnm9T8AAADAZ4r2PwAAAMBZqvg/AQAAQOt08z8CAACAtbXzPwAAAMBGL/Q/AAAAwFj89T8=\"},\"shape\":[100],\"dtype\":\"float64\",\"order\":\"little\"}]]}}},\"view\":{\"type\":\"object\",\"name\":\"CDSView\",\"id\":\"p1110\",\"attributes\":{\"filter\":{\"type\":\"object\",\"name\":\"AllIndices\",\"id\":\"p1111\"}}},\"glyph\":{\"type\":\"object\",\"name\":\"Circle\",\"id\":\"p1106\",\"attributes\":{\"x\":{\"type\":\"field\",\"field\":\"Number of Edges\"},\"y\":{\"type\":\"field\",\"field\":\"Difference (Seconds)\"},\"line_color\":{\"type\":\"value\",\"value\":\"#1f77b4\"},\"fill_color\":{\"type\":\"value\",\"value\":\"#1f77b4\"}}},\"nonselection_glyph\":{\"type\":\"object\",\"name\":\"Circle\",\"id\":\"p1107\",\"attributes\":{\"x\":{\"type\":\"field\",\"field\":\"Number of Edges\"},\"y\":{\"type\":\"field\",\"field\":\"Difference (Seconds)\"},\"line_color\":{\"type\":\"value\",\"value\":\"#1f77b4\"},\"line_alpha\":{\"type\":\"value\",\"value\":0.1},\"fill_color\":{\"type\":\"value\",\"value\":\"#1f77b4\"},\"fill_alpha\":{\"type\":\"value\",\"value\":0.1},\"hatch_alpha\":{\"type\":\"value\",\"value\":0.1}}},\"muted_glyph\":{\"type\":\"object\",\"name\":\"Circle\",\"id\":\"p1108\",\"attributes\":{\"x\":{\"type\":\"field\",\"field\":\"Number of Edges\"},\"y\":{\"type\":\"field\",\"field\":\"Difference (Seconds)\"},\"line_color\":{\"type\":\"value\",\"value\":\"#1f77b4\"},\"line_alpha\":{\"type\":\"value\",\"value\":0.2},\"fill_color\":{\"type\":\"value\",\"value\":\"#1f77b4\"},\"fill_alpha\":{\"type\":\"value\",\"value\":0.2},\"hatch_alpha\":{\"type\":\"value\",\"value\":0.2}}}}}],\"toolbar\":{\"type\":\"object\",\"name\":\"Toolbar\",\"id\":\"p1076\",\"attributes\":{\"tools\":[{\"type\":\"object\",\"name\":\"PanTool\",\"id\":\"p1089\"},{\"type\":\"object\",\"name\":\"WheelZoomTool\",\"id\":\"p1090\",\"attributes\":{\"renderers\":\"auto\"}},{\"type\":\"object\",\"name\":\"BoxZoomTool\",\"id\":\"p1091\",\"attributes\":{\"overlay\":{\"type\":\"object\",\"name\":\"BoxAnnotation\",\"id\":\"p1092\",\"attributes\":{\"syncable\":false,\"level\":\"overlay\",\"visible\":false,\"left\":{\"type\":\"number\",\"value\":\"nan\"},\"right\":{\"type\":\"number\",\"value\":\"nan\"},\"top\":{\"type\":\"number\",\"value\":\"nan\"},\"bottom\":{\"type\":\"number\",\"value\":\"nan\"},\"left_units\":\"canvas\",\"right_units\":\"canvas\",\"top_units\":\"canvas\",\"bottom_units\":\"canvas\",\"line_color\":\"black\",\"line_alpha\":1.0,\"line_width\":2,\"line_dash\":[4,4],\"fill_color\":\"lightgrey\",\"fill_alpha\":0.5}}}},{\"type\":\"object\",\"name\":\"SaveTool\",\"id\":\"p1097\"},{\"type\":\"object\",\"name\":\"ResetTool\",\"id\":\"p1098\"},{\"type\":\"object\",\"name\":\"HelpTool\",\"id\":\"p1099\"}]}},\"left\":[{\"type\":\"object\",\"name\":\"LinearAxis\",\"id\":\"p1084\",\"attributes\":{\"ticker\":{\"type\":\"object\",\"name\":\"BasicTicker\",\"id\":\"p1085\",\"attributes\":{\"mantissas\":[1,2,5]}},\"formatter\":{\"type\":\"object\",\"name\":\"BasicTickFormatter\",\"id\":\"p1086\"},\"axis_label\":\"Difference (Seconds)\",\"major_label_policy\":{\"type\":\"object\",\"name\":\"AllLabels\",\"id\":\"p1087\"}}}],\"below\":[{\"type\":\"object\",\"name\":\"LinearAxis\",\"id\":\"p1079\",\"attributes\":{\"ticker\":{\"type\":\"object\",\"name\":\"BasicTicker\",\"id\":\"p1080\",\"attributes\":{\"mantissas\":[1,2,5]}},\"formatter\":{\"type\":\"object\",\"name\":\"BasicTickFormatter\",\"id\":\"p1081\"},\"axis_label\":\"Number of Edges\",\"major_label_policy\":{\"type\":\"object\",\"name\":\"AllLabels\",\"id\":\"p1082\"}}}],\"center\":[{\"type\":\"object\",\"name\":\"Grid\",\"id\":\"p1083\",\"attributes\":{\"axis\":{\"id\":\"p1079\"}}},{\"type\":\"object\",\"name\":\"Grid\",\"id\":\"p1088\",\"attributes\":{\"dimension\":1,\"axis\":{\"id\":\"p1084\"}}}]}}]}};\n",
       "  const render_items = [{\"docid\":\"2791a316-abd9-428f-991b-303f33b4c61e\",\"roots\":{\"p1068\":\"c56a864f-8f71-4b0d-a75e-fb7251504d8f\"},\"root_ids\":[\"p1068\"]}];\n",
       "  root.Bokeh.embed.embed_items_notebook(docs_json, render_items);\n",
       "  }\n",
       "  if (root.Bokeh !== undefined) {\n",
       "    embed_document(root);\n",
       "  } else {\n",
       "    let attempts = 0;\n",
       "    const timer = setInterval(function(root) {\n",
       "      if (root.Bokeh !== undefined) {\n",
       "        clearInterval(timer);\n",
       "        embed_document(root);\n",
       "      } else {\n",
       "        attempts++;\n",
       "        if (attempts > 100) {\n",
       "          clearInterval(timer);\n",
       "          console.log(\"Bokeh: ERROR: Unable to run BokehJS code because BokehJS library is missing\");\n",
       "        }\n",
       "      }\n",
       "    }, 10, root)\n",
       "  }\n",
       "})(window);"
      ],
      "application/vnd.bokehjs_exec.v0+json": ""
     },
     "metadata": {
      "application/vnd.bokehjs_exec.v0+json": {
       "id": "p1068"
      }
     },
     "output_type": "display_data"
    }
   ],
   "source": [
    "x = \"Number of Edges\"\n",
    "y = \"Difference (Seconds)\"\n",
    "p = bokeh.plotting.figure(\n",
    "    width=400,\n",
    "    height=300,\n",
    "    x_axis_label=x,\n",
    "    y_axis_label=y,\n",
    ")\n",
    "p.circle(\n",
    "    source=diff,\n",
    "    x=x,\n",
    "    y=y,\n",
    ")\n",
    "bokeh.io.show(p)"
   ]
  },
  {
   "cell_type": "code",
   "execution_count": 5,
   "id": "b55b8125-a09f-451e-9943-c80c40c03750",
   "metadata": {},
   "outputs": [],
   "source": [
    "effects = pd.read_csv('Twitch50GraphRuntimes.csv')\n",
    "effects = effects.drop(['Average Runtime', 'Unnamed: 0', 'Data', 'Experiment'], axis=1)\n",
    "effects = effects.rename({'# Edges': 'Number of Edges', 'Full Runtime': 'Runtime (Seconds)'}, axis=1)\n",
    "gnn = effects[effects['Explainer'] == 'GNN']\n",
    "gnn = gnn.rename({'Runtime (Seconds)': 'GNN Runtime (Seconds)'}, axis=1)\n",
    "gnn = gnn.drop(['Explainer'], axis=1)\n",
    "beta = effects[effects['Explainer'] == 'Beta']\n",
    "beta = beta.rename({'Runtime (Seconds)': 'Beta Runtime (Seconds)'}, axis=1)\n",
    "beta = beta.drop(['Explainer'], axis=1)\n",
    "diff = pd.merge(gnn, beta, how=\"right\", on=[\"# Epochs\",'Number of Edges'])\n",
    "diff['Difference (Seconds)'] = diff['Beta Runtime (Seconds)'] - diff['GNN Runtime (Seconds)']"
   ]
  },
  {
   "cell_type": "code",
   "execution_count": 6,
   "id": "0dc7f7cc-8b66-4f78-8f91-e5d7fc973396",
   "metadata": {},
   "outputs": [
    {
     "data": {
      "text/html": [
       "\n",
       "  <div id=\"e2bfd92c-ef80-4b20-9b83-bbe430c85c48\" data-root-id=\"p1118\" style=\"display: contents;\"></div>\n"
      ]
     },
     "metadata": {},
     "output_type": "display_data"
    },
    {
     "data": {
      "application/javascript": [
       "(function(root) {\n",
       "  function embed_document(root) {\n",
       "  const docs_json = {\"b0b9ca11-3443-491f-8399-a7ffa1e4c9e7\":{\"version\":\"3.3.4\",\"title\":\"Bokeh Application\",\"roots\":[{\"type\":\"object\",\"name\":\"Figure\",\"id\":\"p1118\",\"attributes\":{\"width\":400,\"height\":300,\"x_range\":{\"type\":\"object\",\"name\":\"DataRange1d\",\"id\":\"p1119\"},\"y_range\":{\"type\":\"object\",\"name\":\"DataRange1d\",\"id\":\"p1120\"},\"x_scale\":{\"type\":\"object\",\"name\":\"LinearScale\",\"id\":\"p1127\"},\"y_scale\":{\"type\":\"object\",\"name\":\"LinearScale\",\"id\":\"p1128\"},\"title\":{\"type\":\"object\",\"name\":\"Title\",\"id\":\"p1125\"},\"renderers\":[{\"type\":\"object\",\"name\":\"GlyphRenderer\",\"id\":\"p1159\",\"attributes\":{\"data_source\":{\"type\":\"object\",\"name\":\"ColumnDataSource\",\"id\":\"p1150\",\"attributes\":{\"selected\":{\"type\":\"object\",\"name\":\"Selection\",\"id\":\"p1151\",\"attributes\":{\"indices\":[],\"line_indices\":[]}},\"selection_policy\":{\"type\":\"object\",\"name\":\"UnionRenderers\",\"id\":\"p1152\"},\"data\":{\"type\":\"map\",\"entries\":[[\"index\",{\"type\":\"ndarray\",\"array\":{\"type\":\"bytes\",\"data\":\"AAAAAAIAAAAEAAAABgAAAAgAAAAKAAAADAAAAA4AAAAQAAAAEgAAABQAAAAWAAAAGAAAABoAAAAcAAAAHgAAACAAAAAiAAAAJAAAACYAAAAoAAAAKgAAACwAAAAuAAAAMAAAADIAAAA0AAAANgAAADgAAAA6AAAAPAAAAD4AAABAAAAAQgAAAEQAAABGAAAASAAAAEoAAABMAAAATgAAAFAAAABSAAAAVAAAAFYAAABYAAAAWgAAAFwAAABeAAAAYAAAAGIAAABkAAAAZgAAAGgAAABqAAAAbAAAAG4AAABwAAAAcgAAAHQAAAB2AAAAeAAAAHoAAAB8AAAAfgAAAIAAAACCAAAAhAAAAIYAAACIAAAAigAAAIwAAACOAAAAkAAAAJIAAACUAAAAlgAAAJgAAACaAAAAnAAAAJ4AAACgAAAAogAAAKQAAACmAAAAqAAAAKoAAACsAAAArgAAALAAAACyAAAAtAAAALYAAAC4AAAAugAAALwAAAC+AAAAwAAAAMIAAADEAAAAxgAAAA==\"},\"shape\":[100],\"dtype\":\"int32\",\"order\":\"little\"}],[\"Explainer\",{\"type\":\"ndarray\",\"array\":[\"Beta\",\"Beta\",\"Beta\",\"Beta\",\"Beta\",\"Beta\",\"Beta\",\"Beta\",\"Beta\",\"Beta\",\"Beta\",\"Beta\",\"Beta\",\"Beta\",\"Beta\",\"Beta\",\"Beta\",\"Beta\",\"Beta\",\"Beta\",\"Beta\",\"Beta\",\"Beta\",\"Beta\",\"Beta\",\"Beta\",\"Beta\",\"Beta\",\"Beta\",\"Beta\",\"Beta\",\"Beta\",\"Beta\",\"Beta\",\"Beta\",\"Beta\",\"Beta\",\"Beta\",\"Beta\",\"Beta\",\"Beta\",\"Beta\",\"Beta\",\"Beta\",\"Beta\",\"Beta\",\"Beta\",\"Beta\",\"Beta\",\"Beta\",\"Beta\",\"Beta\",\"Beta\",\"Beta\",\"Beta\",\"Beta\",\"Beta\",\"Beta\",\"Beta\",\"Beta\",\"Beta\",\"Beta\",\"Beta\",\"Beta\",\"Beta\",\"Beta\",\"Beta\",\"Beta\",\"Beta\",\"Beta\",\"Beta\",\"Beta\",\"Beta\",\"Beta\",\"Beta\",\"Beta\",\"Beta\",\"Beta\",\"Beta\",\"Beta\",\"Beta\",\"Beta\",\"Beta\",\"Beta\",\"Beta\",\"Beta\",\"Beta\",\"Beta\",\"Beta\",\"Beta\",\"Beta\",\"Beta\",\"Beta\",\"Beta\",\"Beta\",\"Beta\",\"Beta\",\"Beta\",\"Beta\",\"Beta\"],\"shape\":[100],\"dtype\":\"object\",\"order\":\"little\"}],[\"# Epochs\",{\"type\":\"ndarray\",\"array\":{\"type\":\"bytes\",\"data\":\"MgAAADIAAAAyAAAAMgAAADIAAAAyAAAAMgAAADIAAAAyAAAAMgAAADIAAAAyAAAAMgAAADIAAAAyAAAAMgAAADIAAAAyAAAAMgAAADIAAAAyAAAAMgAAADIAAAAyAAAAMgAAADIAAAAyAAAAMgAAADIAAAAyAAAAMgAAADIAAAAyAAAAMgAAADIAAAAyAAAAMgAAADIAAAAyAAAAMgAAADIAAAAyAAAAMgAAADIAAAAyAAAAMgAAADIAAAAyAAAAMgAAADIAAAAyAAAAMgAAADIAAAAyAAAAMgAAADIAAAAyAAAAMgAAADIAAAAyAAAAMgAAADIAAAAyAAAAMgAAADIAAAAyAAAAMgAAADIAAAAyAAAAMgAAADIAAAAyAAAAMgAAADIAAAAyAAAAMgAAADIAAAAyAAAAMgAAADIAAAAyAAAAMgAAADIAAAAyAAAAMgAAADIAAAAyAAAAMgAAADIAAAAyAAAAMgAAADIAAAAyAAAAMgAAADIAAAAyAAAAMgAAADIAAAAyAAAAMgAAAA==\"},\"shape\":[100],\"dtype\":\"int32\",\"order\":\"little\"}],[\"Runtime (Seconds)\",{\"type\":\"ndarray\",\"array\":{\"type\":\"bytes\",\"data\":\"AAAAQIly+j////8/tK/+PwAAAACQGPY/AgAAgCpZ/j8BAACASGP6P////7+eaf4/AAAAQF5G/T8AAADASTH8P////z+lZv4/AAAAgPvIAEAAAABAvEEAQP///79jYv0/AAAAIJ00AEAAAADAILT7PwEAAACfav8/AAAAAEG3+z8AAADA8e74PwAAAEDewPk/AAAAwK9DAkAAAABgDGsBQAAAAICAEAJAAAAAIEm5AUAAAACAE9sAQAAAAODigwFAAQAAwBBLAkAAAAAg+KICQAEAAABsLP4/AAAAgB9O/j8AAABgDcgCQP////+3twJAAQAAAB22AEAAAACg1ukBQAAAAOAvLwNAAAAAgNwIAUAAAACgKzsDQP///393cP8/AAAAwDECAEAAAAAgXqEBQAAAAACL5/8/////P7cs/z8AAACgQecDQAAAAOA5wQFAAAAAQNMGA0AAAAAgUWYDQAAAAIBglAJAAAAAQEFsA0AAAADAhLwCQAAAACBVhgRAAAAAoBxRA0AAAAAgUX4DQAAAAIAsNgRAAAAAQLezAkAAAABAfDsCQAAAAODQhgNAAAAAYPVuA0AAAACADH4BQAAAAIDnmQFAAQAAQBVoA0AAAABglUECQAAAAABRRANAAAAAwIfLA0AAAAAA9ZcDQAAAAEB/0wJAAAAAIDbiA0AAAACAIUYDQAAAAMCF+AJAAQAAAKwoBEAAAABATnsFQAAAAEBPQQJAAAAAIKxsAkAAAABgmGoCQAAAAGB9ygRAAAAAQKAVBUAAAACAjP8AQAAAAKCknQNAAAAA4N8IA0AAAADA8oAFQAAAAMDkmf0/AAAAAL47A0AAAACggk0EQAAAACB52QNAAAAAoBzgBEABAABgPt8DQAAAAIBvbgVAAAAAgAq6A0AAAAAg9B8CQAAAAEBCrwRAAAAAgPLJBUAAAABgKGYEQAAAAEAyRwJAAAAAoMn7A0ABAAAgsjMEQAAAAMBAUgVAAAAAIAtVAUAAAACgaWIDQP///38VGANAAQAAgL8tAkAAAADAvlwDQAAAAOCArwNA////P2MYBEA=\"},\"shape\":[100],\"dtype\":\"float64\",\"order\":\"little\"}],[\"Number of Edges\",{\"type\":\"ndarray\",\"array\":{\"type\":\"bytes\",\"data\":\"MgAAAGQAAACWAAAAyAAAAPoAAAAsAQAAXgEAAJABAADCAQAA9AEAACYCAABYAgAAigIAALwCAADuAgAAIAMAAFIDAACEAwAAtgMAAOgDAAAaBAAATAQAAH4EAACwBAAA4gQAABQFAABGBQAAeAUAAKoFAADcBQAADgYAAEAGAAByBgAApAYAANYGAAAIBwAAOgcAAGwHAACeBwAA0AcAAAIIAAA0CAAAZggAAJgIAADKCAAA/AgAAC4JAABgCQAAkgkAAMQJAAD2CQAAKAoAAFoKAACMCgAAvgoAAPAKAAAiCwAAVAsAAIYLAAC4CwAA6gsAABwMAABODAAAgAwAALIMAADkDAAAFg0AAEgNAAB6DQAArA0AAN4NAAAQDgAAQg4AAHQOAACmDgAA2A4AAAoPAAA8DwAAbg8AAKAPAADSDwAABBAAADYQAABoEAAAmhAAAMwQAAD+EAAAMBEAAGIRAACUEQAAxhEAAPgRAAAqEgAAXBIAAI4SAADAEgAA8hIAACQTAABWEwAAiBMAAA==\"},\"shape\":[100],\"dtype\":\"int32\",\"order\":\"little\"}]]}}},\"view\":{\"type\":\"object\",\"name\":\"CDSView\",\"id\":\"p1160\",\"attributes\":{\"filter\":{\"type\":\"object\",\"name\":\"AllIndices\",\"id\":\"p1161\"}}},\"glyph\":{\"type\":\"object\",\"name\":\"Circle\",\"id\":\"p1156\",\"attributes\":{\"x\":{\"type\":\"field\",\"field\":\"Number of Edges\"},\"y\":{\"type\":\"field\",\"field\":\"Runtime (Seconds)\"},\"line_color\":{\"type\":\"value\",\"value\":\"#1f77b4\"},\"fill_color\":{\"type\":\"value\",\"value\":\"#1f77b4\"}}},\"nonselection_glyph\":{\"type\":\"object\",\"name\":\"Circle\",\"id\":\"p1157\",\"attributes\":{\"x\":{\"type\":\"field\",\"field\":\"Number of Edges\"},\"y\":{\"type\":\"field\",\"field\":\"Runtime (Seconds)\"},\"line_color\":{\"type\":\"value\",\"value\":\"#1f77b4\"},\"line_alpha\":{\"type\":\"value\",\"value\":0.1},\"fill_color\":{\"type\":\"value\",\"value\":\"#1f77b4\"},\"fill_alpha\":{\"type\":\"value\",\"value\":0.1},\"hatch_alpha\":{\"type\":\"value\",\"value\":0.1}}},\"muted_glyph\":{\"type\":\"object\",\"name\":\"Circle\",\"id\":\"p1158\",\"attributes\":{\"x\":{\"type\":\"field\",\"field\":\"Number of Edges\"},\"y\":{\"type\":\"field\",\"field\":\"Runtime (Seconds)\"},\"line_color\":{\"type\":\"value\",\"value\":\"#1f77b4\"},\"line_alpha\":{\"type\":\"value\",\"value\":0.2},\"fill_color\":{\"type\":\"value\",\"value\":\"#1f77b4\"},\"fill_alpha\":{\"type\":\"value\",\"value\":0.2},\"hatch_alpha\":{\"type\":\"value\",\"value\":0.2}}}}},{\"type\":\"object\",\"name\":\"GlyphRenderer\",\"id\":\"p1173\",\"attributes\":{\"data_source\":{\"type\":\"object\",\"name\":\"ColumnDataSource\",\"id\":\"p1164\",\"attributes\":{\"selected\":{\"type\":\"object\",\"name\":\"Selection\",\"id\":\"p1165\",\"attributes\":{\"indices\":[],\"line_indices\":[]}},\"selection_policy\":{\"type\":\"object\",\"name\":\"UnionRenderers\",\"id\":\"p1166\"},\"data\":{\"type\":\"map\",\"entries\":[[\"index\",{\"type\":\"ndarray\",\"array\":{\"type\":\"bytes\",\"data\":\"AQAAAAMAAAAFAAAABwAAAAkAAAALAAAADQAAAA8AAAARAAAAEwAAABUAAAAXAAAAGQAAABsAAAAdAAAAHwAAACEAAAAjAAAAJQAAACcAAAApAAAAKwAAAC0AAAAvAAAAMQAAADMAAAA1AAAANwAAADkAAAA7AAAAPQAAAD8AAABBAAAAQwAAAEUAAABHAAAASQAAAEsAAABNAAAATwAAAFEAAABTAAAAVQAAAFcAAABZAAAAWwAAAF0AAABfAAAAYQAAAGMAAABlAAAAZwAAAGkAAABrAAAAbQAAAG8AAABxAAAAcwAAAHUAAAB3AAAAeQAAAHsAAAB9AAAAfwAAAIEAAACDAAAAhQAAAIcAAACJAAAAiwAAAI0AAACPAAAAkQAAAJMAAACVAAAAlwAAAJkAAACbAAAAnQAAAJ8AAAChAAAAowAAAKUAAACnAAAAqQAAAKsAAACtAAAArwAAALEAAACzAAAAtQAAALcAAAC5AAAAuwAAAL0AAAC/AAAAwQAAAMMAAADFAAAAxwAAAA==\"},\"shape\":[100],\"dtype\":\"int32\",\"order\":\"little\"}],[\"Explainer\",{\"type\":\"ndarray\",\"array\":[\"GNN\",\"GNN\",\"GNN\",\"GNN\",\"GNN\",\"GNN\",\"GNN\",\"GNN\",\"GNN\",\"GNN\",\"GNN\",\"GNN\",\"GNN\",\"GNN\",\"GNN\",\"GNN\",\"GNN\",\"GNN\",\"GNN\",\"GNN\",\"GNN\",\"GNN\",\"GNN\",\"GNN\",\"GNN\",\"GNN\",\"GNN\",\"GNN\",\"GNN\",\"GNN\",\"GNN\",\"GNN\",\"GNN\",\"GNN\",\"GNN\",\"GNN\",\"GNN\",\"GNN\",\"GNN\",\"GNN\",\"GNN\",\"GNN\",\"GNN\",\"GNN\",\"GNN\",\"GNN\",\"GNN\",\"GNN\",\"GNN\",\"GNN\",\"GNN\",\"GNN\",\"GNN\",\"GNN\",\"GNN\",\"GNN\",\"GNN\",\"GNN\",\"GNN\",\"GNN\",\"GNN\",\"GNN\",\"GNN\",\"GNN\",\"GNN\",\"GNN\",\"GNN\",\"GNN\",\"GNN\",\"GNN\",\"GNN\",\"GNN\",\"GNN\",\"GNN\",\"GNN\",\"GNN\",\"GNN\",\"GNN\",\"GNN\",\"GNN\",\"GNN\",\"GNN\",\"GNN\",\"GNN\",\"GNN\",\"GNN\",\"GNN\",\"GNN\",\"GNN\",\"GNN\",\"GNN\",\"GNN\",\"GNN\",\"GNN\",\"GNN\",\"GNN\",\"GNN\",\"GNN\",\"GNN\",\"GNN\"],\"shape\":[100],\"dtype\":\"object\",\"order\":\"little\"}],[\"# Epochs\",{\"type\":\"ndarray\",\"array\":{\"type\":\"bytes\",\"data\":\"MgAAADIAAAAyAAAAMgAAADIAAAAyAAAAMgAAADIAAAAyAAAAMgAAADIAAAAyAAAAMgAAADIAAAAyAAAAMgAAADIAAAAyAAAAMgAAADIAAAAyAAAAMgAAADIAAAAyAAAAMgAAADIAAAAyAAAAMgAAADIAAAAyAAAAMgAAADIAAAAyAAAAMgAAADIAAAAyAAAAMgAAADIAAAAyAAAAMgAAADIAAAAyAAAAMgAAADIAAAAyAAAAMgAAADIAAAAyAAAAMgAAADIAAAAyAAAAMgAAADIAAAAyAAAAMgAAADIAAAAyAAAAMgAAADIAAAAyAAAAMgAAADIAAAAyAAAAMgAAADIAAAAyAAAAMgAAADIAAAAyAAAAMgAAADIAAAAyAAAAMgAAADIAAAAyAAAAMgAAADIAAAAyAAAAMgAAADIAAAAyAAAAMgAAADIAAAAyAAAAMgAAADIAAAAyAAAAMgAAADIAAAAyAAAAMgAAADIAAAAyAAAAMgAAADIAAAAyAAAAMgAAADIAAAAyAAAAMgAAAA==\"},\"shape\":[100],\"dtype\":\"int32\",\"order\":\"little\"}],[\"Runtime (Seconds)\",{\"type\":\"ndarray\",\"array\":{\"type\":\"bytes\",\"data\":\"AAAAAKeQ8T8AAAAAjOzvPwAAAIBEzOk/AQAAACt87z8AAAAAt9rwPwAAAID+9PE/AAAAAK+O6D8AAACAUNDvPwAAAMDKBvE/AAAAwG6a8T8AAAAAOXfqPwAAAICyAuk/AAAAgCap6j8AAABAlNjwPwAAAIDPaug/AAAAgMvg5z8AAAAAAALpPwAAAADoFvE/AAAAALMN7j8AAACAfTLwPwAAAMCw5/I/AAAAQBej8T////9/RuntPwAAAACGaPE/AAAAwDHA8T8AAABA0FjyPwAAAADDJO0/AAAAwInD8D8AAAAA8cbyPwAAAIBdRPE/AAAAALn87j8AAAAAY6vyPwAAAIAsUvI/AAAAADTF7z////8/I4jzPwAAAEBQX/A/AAAAAHP08D8AAADATj/wPwAAAMDJPPA/AAAAQIxN8D8AAACAkFHwPwAAAEDDkPM/////v4Mq9D8AAABAiSLzPwEAAACVwO0/AAAAQD788j8AAABABvXyPwAAAECJH/E/AAAAgJlD8z8AAAAAVubxPwAAAMARaPQ/AAAAwAlu8D8AAABAibDzPwAAAEAH2vQ/AAAAgK+n8T8AAADAO1T1PwAAAACc3vM/AAAAQEaI8z8AAABAe0ryPwAAAED0wfI/AQAAQLn/8z8AAAAACVvwPwAAAACY1PQ/////v8eN9T8BAABA+fv0PwAAAIDiI/U/AAAAQHRA9j8AAACAYYr2PwAAAIDOL/I/AAAAwDNe8j8AAAAAgQv1PwAAAADMfPI/AAAAgB1s9j////9/i7LuPwAAAABKnPU/AAAAgO4w9T8AAABA7lDzPwAAAAB5BvI/AAAAgG9l8z8AAABAaWbyPwAAAAAntPQ/AAAAAPKy8z8AAACAm7TzPwAAAMB8/PQ/AAAAgHjM8z8AAADAeG/0PwAAAAAOsfM/AAAAQAVl9D8AAACAHLLxPwAAAMAJ4vE/AAAAAJ/38j8AAAAAdcDxPwAAAMDxF/M/AQAAAC5c8T8AAACAkj30PwAAAAAF9vE/AAAAAEWx8z8AAABA+0/1PwAAAECrOfQ/AQAAACzD9D8=\"},\"shape\":[100],\"dtype\":\"float64\",\"order\":\"little\"}],[\"Number of Edges\",{\"type\":\"ndarray\",\"array\":{\"type\":\"bytes\",\"data\":\"MgAAAGQAAACWAAAAyAAAAPoAAAAsAQAAXgEAAJABAADCAQAA9AEAACYCAABYAgAAigIAALwCAADuAgAAIAMAAFIDAACEAwAAtgMAAOgDAAAaBAAATAQAAH4EAACwBAAA4gQAABQFAABGBQAAeAUAAKoFAADcBQAADgYAAEAGAAByBgAApAYAANYGAAAIBwAAOgcAAGwHAACeBwAA0AcAAAIIAAA0CAAAZggAAJgIAADKCAAA/AgAAC4JAABgCQAAkgkAAMQJAAD2CQAAKAoAAFoKAACMCgAAvgoAAPAKAAAiCwAAVAsAAIYLAAC4CwAA6gsAABwMAABODAAAgAwAALIMAADkDAAAFg0AAEgNAAB6DQAArA0AAN4NAAAQDgAAQg4AAHQOAACmDgAA2A4AAAoPAAA8DwAAbg8AAKAPAADSDwAABBAAADYQAABoEAAAmhAAAMwQAAD+EAAAMBEAAGIRAACUEQAAxhEAAPgRAAAqEgAAXBIAAI4SAADAEgAA8hIAACQTAABWEwAAiBMAAA==\"},\"shape\":[100],\"dtype\":\"int32\",\"order\":\"little\"}]]}}},\"view\":{\"type\":\"object\",\"name\":\"CDSView\",\"id\":\"p1174\",\"attributes\":{\"filter\":{\"type\":\"object\",\"name\":\"AllIndices\",\"id\":\"p1175\"}}},\"glyph\":{\"type\":\"object\",\"name\":\"Circle\",\"id\":\"p1170\",\"attributes\":{\"x\":{\"type\":\"field\",\"field\":\"Number of Edges\"},\"y\":{\"type\":\"field\",\"field\":\"Runtime (Seconds)\"},\"line_color\":{\"type\":\"value\",\"value\":\"orange\"},\"fill_color\":{\"type\":\"value\",\"value\":\"orange\"},\"hatch_color\":{\"type\":\"value\",\"value\":\"orange\"}}},\"nonselection_glyph\":{\"type\":\"object\",\"name\":\"Circle\",\"id\":\"p1171\",\"attributes\":{\"x\":{\"type\":\"field\",\"field\":\"Number of Edges\"},\"y\":{\"type\":\"field\",\"field\":\"Runtime (Seconds)\"},\"line_color\":{\"type\":\"value\",\"value\":\"orange\"},\"line_alpha\":{\"type\":\"value\",\"value\":0.1},\"fill_color\":{\"type\":\"value\",\"value\":\"orange\"},\"fill_alpha\":{\"type\":\"value\",\"value\":0.1},\"hatch_color\":{\"type\":\"value\",\"value\":\"orange\"},\"hatch_alpha\":{\"type\":\"value\",\"value\":0.1}}},\"muted_glyph\":{\"type\":\"object\",\"name\":\"Circle\",\"id\":\"p1172\",\"attributes\":{\"x\":{\"type\":\"field\",\"field\":\"Number of Edges\"},\"y\":{\"type\":\"field\",\"field\":\"Runtime (Seconds)\"},\"line_color\":{\"type\":\"value\",\"value\":\"orange\"},\"line_alpha\":{\"type\":\"value\",\"value\":0.2},\"fill_color\":{\"type\":\"value\",\"value\":\"orange\"},\"fill_alpha\":{\"type\":\"value\",\"value\":0.2},\"hatch_color\":{\"type\":\"value\",\"value\":\"orange\"},\"hatch_alpha\":{\"type\":\"value\",\"value\":0.2}}}}}],\"toolbar\":{\"type\":\"object\",\"name\":\"Toolbar\",\"id\":\"p1126\",\"attributes\":{\"tools\":[{\"type\":\"object\",\"name\":\"PanTool\",\"id\":\"p1139\"},{\"type\":\"object\",\"name\":\"WheelZoomTool\",\"id\":\"p1140\",\"attributes\":{\"renderers\":\"auto\"}},{\"type\":\"object\",\"name\":\"BoxZoomTool\",\"id\":\"p1141\",\"attributes\":{\"overlay\":{\"type\":\"object\",\"name\":\"BoxAnnotation\",\"id\":\"p1142\",\"attributes\":{\"syncable\":false,\"level\":\"overlay\",\"visible\":false,\"left\":{\"type\":\"number\",\"value\":\"nan\"},\"right\":{\"type\":\"number\",\"value\":\"nan\"},\"top\":{\"type\":\"number\",\"value\":\"nan\"},\"bottom\":{\"type\":\"number\",\"value\":\"nan\"},\"left_units\":\"canvas\",\"right_units\":\"canvas\",\"top_units\":\"canvas\",\"bottom_units\":\"canvas\",\"line_color\":\"black\",\"line_alpha\":1.0,\"line_width\":2,\"line_dash\":[4,4],\"fill_color\":\"lightgrey\",\"fill_alpha\":0.5}}}},{\"type\":\"object\",\"name\":\"SaveTool\",\"id\":\"p1147\"},{\"type\":\"object\",\"name\":\"ResetTool\",\"id\":\"p1148\"},{\"type\":\"object\",\"name\":\"HelpTool\",\"id\":\"p1149\"}]}},\"left\":[{\"type\":\"object\",\"name\":\"LinearAxis\",\"id\":\"p1134\",\"attributes\":{\"ticker\":{\"type\":\"object\",\"name\":\"BasicTicker\",\"id\":\"p1135\",\"attributes\":{\"mantissas\":[1,2,5]}},\"formatter\":{\"type\":\"object\",\"name\":\"BasicTickFormatter\",\"id\":\"p1136\"},\"axis_label\":\"Runtime (Seconds)\",\"major_label_policy\":{\"type\":\"object\",\"name\":\"AllLabels\",\"id\":\"p1137\"}}}],\"below\":[{\"type\":\"object\",\"name\":\"LinearAxis\",\"id\":\"p1129\",\"attributes\":{\"ticker\":{\"type\":\"object\",\"name\":\"BasicTicker\",\"id\":\"p1130\",\"attributes\":{\"mantissas\":[1,2,5]}},\"formatter\":{\"type\":\"object\",\"name\":\"BasicTickFormatter\",\"id\":\"p1131\"},\"axis_label\":\"Number of Edges\",\"major_label_policy\":{\"type\":\"object\",\"name\":\"AllLabels\",\"id\":\"p1132\"}}}],\"center\":[{\"type\":\"object\",\"name\":\"Grid\",\"id\":\"p1133\",\"attributes\":{\"axis\":{\"id\":\"p1129\"}}},{\"type\":\"object\",\"name\":\"Grid\",\"id\":\"p1138\",\"attributes\":{\"dimension\":1,\"axis\":{\"id\":\"p1134\"}}},{\"type\":\"object\",\"name\":\"Legend\",\"id\":\"p1162\",\"attributes\":{\"location\":\"top_left\",\"items\":[{\"type\":\"object\",\"name\":\"LegendItem\",\"id\":\"p1163\",\"attributes\":{\"label\":{\"type\":\"value\",\"value\":\"Beta\"},\"renderers\":[{\"id\":\"p1159\"}]}},{\"type\":\"object\",\"name\":\"LegendItem\",\"id\":\"p1176\",\"attributes\":{\"label\":{\"type\":\"value\",\"value\":\"GNN\"},\"renderers\":[{\"id\":\"p1173\"}]}}]}}]}}]}};\n",
       "  const render_items = [{\"docid\":\"b0b9ca11-3443-491f-8399-a7ffa1e4c9e7\",\"roots\":{\"p1118\":\"e2bfd92c-ef80-4b20-9b83-bbe430c85c48\"},\"root_ids\":[\"p1118\"]}];\n",
       "  root.Bokeh.embed.embed_items_notebook(docs_json, render_items);\n",
       "  }\n",
       "  if (root.Bokeh !== undefined) {\n",
       "    embed_document(root);\n",
       "  } else {\n",
       "    let attempts = 0;\n",
       "    const timer = setInterval(function(root) {\n",
       "      if (root.Bokeh !== undefined) {\n",
       "        clearInterval(timer);\n",
       "        embed_document(root);\n",
       "      } else {\n",
       "        attempts++;\n",
       "        if (attempts > 100) {\n",
       "          clearInterval(timer);\n",
       "          console.log(\"Bokeh: ERROR: Unable to run BokehJS code because BokehJS library is missing\");\n",
       "        }\n",
       "      }\n",
       "    }, 10, root)\n",
       "  }\n",
       "})(window);"
      ],
      "application/vnd.bokehjs_exec.v0+json": ""
     },
     "metadata": {
      "application/vnd.bokehjs_exec.v0+json": {
       "id": "p1118"
      }
     },
     "output_type": "display_data"
    }
   ],
   "source": [
    "x = \"Number of Edges\"\n",
    "y = \"Runtime (Seconds)\"\n",
    "p = bokeh.plotting.figure(\n",
    "    width=400,\n",
    "    height=300,\n",
    "    x_axis_label=x,\n",
    "    y_axis_label=y,\n",
    ")\n",
    "p.circle(\n",
    "    source=effects[effects['Explainer'] == 'Beta'],\n",
    "    x=x,\n",
    "    y=y,\n",
    "    legend_label=\"Beta\",\n",
    ")\n",
    "p.circle(\n",
    "    source=effects[effects['Explainer'] == 'GNN'],\n",
    "    x=x,\n",
    "    y=y,\n",
    "    legend_label=\"GNN\",\n",
    "    color='orange'\n",
    ")\n",
    "p.legend.location = \"top_left\"\n",
    "bokeh.io.show(p)"
   ]
  },
  {
   "cell_type": "code",
   "execution_count": 7,
   "id": "ed20d4bb-c4ba-4314-ab5d-df2261a26b07",
   "metadata": {
    "scrolled": true
   },
   "outputs": [
    {
     "data": {
      "text/html": [
       "\n",
       "  <div id=\"b9f987e2-f908-4ee7-8628-a2bb7d0b0330\" data-root-id=\"p1185\" style=\"display: contents;\"></div>\n"
      ]
     },
     "metadata": {},
     "output_type": "display_data"
    },
    {
     "data": {
      "application/javascript": [
       "(function(root) {\n",
       "  function embed_document(root) {\n",
       "  const docs_json = {\"81c1d2c7-cef8-41ac-a0e9-e39b54f6035c\":{\"version\":\"3.3.4\",\"title\":\"Bokeh Application\",\"roots\":[{\"type\":\"object\",\"name\":\"Figure\",\"id\":\"p1185\",\"attributes\":{\"width\":400,\"height\":300,\"x_range\":{\"type\":\"object\",\"name\":\"DataRange1d\",\"id\":\"p1186\"},\"y_range\":{\"type\":\"object\",\"name\":\"DataRange1d\",\"id\":\"p1187\"},\"x_scale\":{\"type\":\"object\",\"name\":\"LinearScale\",\"id\":\"p1194\"},\"y_scale\":{\"type\":\"object\",\"name\":\"LinearScale\",\"id\":\"p1195\"},\"title\":{\"type\":\"object\",\"name\":\"Title\",\"id\":\"p1192\"},\"renderers\":[{\"type\":\"object\",\"name\":\"GlyphRenderer\",\"id\":\"p1226\",\"attributes\":{\"data_source\":{\"type\":\"object\",\"name\":\"ColumnDataSource\",\"id\":\"p1217\",\"attributes\":{\"selected\":{\"type\":\"object\",\"name\":\"Selection\",\"id\":\"p1218\",\"attributes\":{\"indices\":[],\"line_indices\":[]}},\"selection_policy\":{\"type\":\"object\",\"name\":\"UnionRenderers\",\"id\":\"p1219\"},\"data\":{\"type\":\"map\",\"entries\":[[\"index\",{\"type\":\"ndarray\",\"array\":{\"type\":\"bytes\",\"data\":\"AAAAAAEAAAACAAAAAwAAAAQAAAAFAAAABgAAAAcAAAAIAAAACQAAAAoAAAALAAAADAAAAA0AAAAOAAAADwAAABAAAAARAAAAEgAAABMAAAAUAAAAFQAAABYAAAAXAAAAGAAAABkAAAAaAAAAGwAAABwAAAAdAAAAHgAAAB8AAAAgAAAAIQAAACIAAAAjAAAAJAAAACUAAAAmAAAAJwAAACgAAAApAAAAKgAAACsAAAAsAAAALQAAAC4AAAAvAAAAMAAAADEAAAAyAAAAMwAAADQAAAA1AAAANgAAADcAAAA4AAAAOQAAADoAAAA7AAAAPAAAAD0AAAA+AAAAPwAAAEAAAABBAAAAQgAAAEMAAABEAAAARQAAAEYAAABHAAAASAAAAEkAAABKAAAASwAAAEwAAABNAAAATgAAAE8AAABQAAAAUQAAAFIAAABTAAAAVAAAAFUAAABWAAAAVwAAAFgAAABZAAAAWgAAAFsAAABcAAAAXQAAAF4AAABfAAAAYAAAAGEAAABiAAAAYwAAAA==\"},\"shape\":[100],\"dtype\":\"int32\",\"order\":\"little\"}],[\"# Epochs\",{\"type\":\"ndarray\",\"array\":{\"type\":\"bytes\",\"data\":\"MgAAADIAAAAyAAAAMgAAADIAAAAyAAAAMgAAADIAAAAyAAAAMgAAADIAAAAyAAAAMgAAADIAAAAyAAAAMgAAADIAAAAyAAAAMgAAADIAAAAyAAAAMgAAADIAAAAyAAAAMgAAADIAAAAyAAAAMgAAADIAAAAyAAAAMgAAADIAAAAyAAAAMgAAADIAAAAyAAAAMgAAADIAAAAyAAAAMgAAADIAAAAyAAAAMgAAADIAAAAyAAAAMgAAADIAAAAyAAAAMgAAADIAAAAyAAAAMgAAADIAAAAyAAAAMgAAADIAAAAyAAAAMgAAADIAAAAyAAAAMgAAADIAAAAyAAAAMgAAADIAAAAyAAAAMgAAADIAAAAyAAAAMgAAADIAAAAyAAAAMgAAADIAAAAyAAAAMgAAADIAAAAyAAAAMgAAADIAAAAyAAAAMgAAADIAAAAyAAAAMgAAADIAAAAyAAAAMgAAADIAAAAyAAAAMgAAADIAAAAyAAAAMgAAADIAAAAyAAAAMgAAADIAAAAyAAAAMgAAAA==\"},\"shape\":[100],\"dtype\":\"int32\",\"order\":\"little\"}],[\"GNN Runtime (Seconds)\",{\"type\":\"ndarray\",\"array\":{\"type\":\"bytes\",\"data\":\"AAAAAKeQ8T8AAAAAjOzvPwAAAIBEzOk/AQAAACt87z8AAAAAt9rwPwAAAID+9PE/AAAAAK+O6D8AAACAUNDvPwAAAMDKBvE/AAAAwG6a8T8AAAAAOXfqPwAAAICyAuk/AAAAgCap6j8AAABAlNjwPwAAAIDPaug/AAAAgMvg5z8AAAAAAALpPwAAAADoFvE/AAAAALMN7j8AAACAfTLwPwAAAMCw5/I/AAAAQBej8T////9/RuntPwAAAACGaPE/AAAAwDHA8T8AAABA0FjyPwAAAADDJO0/AAAAwInD8D8AAAAA8cbyPwAAAIBdRPE/AAAAALn87j8AAAAAY6vyPwAAAIAsUvI/AAAAADTF7z////8/I4jzPwAAAEBQX/A/AAAAAHP08D8AAADATj/wPwAAAMDJPPA/AAAAQIxN8D8AAACAkFHwPwAAAEDDkPM/////v4Mq9D8AAABAiSLzPwEAAACVwO0/AAAAQD788j8AAABABvXyPwAAAECJH/E/AAAAgJlD8z8AAAAAVubxPwAAAMARaPQ/AAAAwAlu8D8AAABAibDzPwAAAEAH2vQ/AAAAgK+n8T8AAADAO1T1PwAAAACc3vM/AAAAQEaI8z8AAABAe0ryPwAAAED0wfI/AQAAQLn/8z8AAAAACVvwPwAAAACY1PQ/////v8eN9T8BAABA+fv0PwAAAIDiI/U/AAAAQHRA9j8AAACAYYr2PwAAAIDOL/I/AAAAwDNe8j8AAAAAgQv1PwAAAADMfPI/AAAAgB1s9j////9/i7LuPwAAAABKnPU/AAAAgO4w9T8AAABA7lDzPwAAAAB5BvI/AAAAgG9l8z8AAABAaWbyPwAAAAAntPQ/AAAAAPKy8z8AAACAm7TzPwAAAMB8/PQ/AAAAgHjM8z8AAADAeG/0PwAAAAAOsfM/AAAAQAVl9D8AAACAHLLxPwAAAMAJ4vE/AAAAAJ/38j8AAAAAdcDxPwAAAMDxF/M/AQAAAC5c8T8AAACAkj30PwAAAAAF9vE/AAAAAEWx8z8AAABA+0/1PwAAAECrOfQ/AQAAACzD9D8=\"},\"shape\":[100],\"dtype\":\"float64\",\"order\":\"little\"}],[\"Number of Edges\",{\"type\":\"ndarray\",\"array\":{\"type\":\"bytes\",\"data\":\"MgAAAGQAAACWAAAAyAAAAPoAAAAsAQAAXgEAAJABAADCAQAA9AEAACYCAABYAgAAigIAALwCAADuAgAAIAMAAFIDAACEAwAAtgMAAOgDAAAaBAAATAQAAH4EAACwBAAA4gQAABQFAABGBQAAeAUAAKoFAADcBQAADgYAAEAGAAByBgAApAYAANYGAAAIBwAAOgcAAGwHAACeBwAA0AcAAAIIAAA0CAAAZggAAJgIAADKCAAA/AgAAC4JAABgCQAAkgkAAMQJAAD2CQAAKAoAAFoKAACMCgAAvgoAAPAKAAAiCwAAVAsAAIYLAAC4CwAA6gsAABwMAABODAAAgAwAALIMAADkDAAAFg0AAEgNAAB6DQAArA0AAN4NAAAQDgAAQg4AAHQOAACmDgAA2A4AAAoPAAA8DwAAbg8AAKAPAADSDwAABBAAADYQAABoEAAAmhAAAMwQAAD+EAAAMBEAAGIRAACUEQAAxhEAAPgRAAAqEgAAXBIAAI4SAADAEgAA8hIAACQTAABWEwAAiBMAAA==\"},\"shape\":[100],\"dtype\":\"int32\",\"order\":\"little\"}],[\"Beta Runtime (Seconds)\",{\"type\":\"ndarray\",\"array\":{\"type\":\"bytes\",\"data\":\"AAAAQIly+j////8/tK/+PwAAAACQGPY/AgAAgCpZ/j8BAACASGP6P////7+eaf4/AAAAQF5G/T8AAADASTH8P////z+lZv4/AAAAgPvIAEAAAABAvEEAQP///79jYv0/AAAAIJ00AEAAAADAILT7PwEAAACfav8/AAAAAEG3+z8AAADA8e74PwAAAEDewPk/AAAAwK9DAkAAAABgDGsBQAAAAICAEAJAAAAAIEm5AUAAAACAE9sAQAAAAODigwFAAQAAwBBLAkAAAAAg+KICQAEAAABsLP4/AAAAgB9O/j8AAABgDcgCQP////+3twJAAQAAAB22AEAAAACg1ukBQAAAAOAvLwNAAAAAgNwIAUAAAACgKzsDQP///393cP8/AAAAwDECAEAAAAAgXqEBQAAAAACL5/8/////P7cs/z8AAACgQecDQAAAAOA5wQFAAAAAQNMGA0AAAAAgUWYDQAAAAIBglAJAAAAAQEFsA0AAAADAhLwCQAAAACBVhgRAAAAAoBxRA0AAAAAgUX4DQAAAAIAsNgRAAAAAQLezAkAAAABAfDsCQAAAAODQhgNAAAAAYPVuA0AAAACADH4BQAAAAIDnmQFAAQAAQBVoA0AAAABglUECQAAAAABRRANAAAAAwIfLA0AAAAAA9ZcDQAAAAEB/0wJAAAAAIDbiA0AAAACAIUYDQAAAAMCF+AJAAQAAAKwoBEAAAABATnsFQAAAAEBPQQJAAAAAIKxsAkAAAABgmGoCQAAAAGB9ygRAAAAAQKAVBUAAAACAjP8AQAAAAKCknQNAAAAA4N8IA0AAAADA8oAFQAAAAMDkmf0/AAAAAL47A0AAAACggk0EQAAAACB52QNAAAAAoBzgBEABAABgPt8DQAAAAIBvbgVAAAAAgAq6A0AAAAAg9B8CQAAAAEBCrwRAAAAAgPLJBUAAAABgKGYEQAAAAEAyRwJAAAAAoMn7A0ABAAAgsjMEQAAAAMBAUgVAAAAAIAtVAUAAAACgaWIDQP///38VGANAAQAAgL8tAkAAAADAvlwDQAAAAOCArwNA////P2MYBEA=\"},\"shape\":[100],\"dtype\":\"float64\",\"order\":\"little\"}],[\"Difference (Seconds)\",{\"type\":\"ndarray\",\"array\":{\"type\":\"bytes\",\"data\":\"AAAAgMTD4T/+//9/3HLtPwAAAIDbZOI/AwAAACo27T8CAAAAIxHjP/7//39A6eg/AAAAwAb/8D8AAAAAQ5LoP/7///+0v+o/AAAAgBDv7z8AAAAA3EfzP////38K4fA/AAAAAKcU8z8AAAAAGbflPwEAAEA3NfM/AAAAgLaN7z8AAACA49voPwAAAIDsU+E/AAAAAIaA9T8AAABAm6PyPwAAAEBQOfE/AAAAAHvP8T8AAADAg8HyPwAAAMA/n/E/AgAAwO/V8j8AAAAAIO3yPwIAAAAVNO8/AAAAgCsV6z8AAADAKcnyP/7//38SK/Q/AgAAgN3t8T8AAABASijxPwAAAEAzDPQ/AAAAAB8v8j8BAAAANO7yP/7//39OIu4/AAAAAOEf7j8AAACAbQPzPwAAAICCVe8//v///1W+7T8AAADA8nz3PwAAAABh4+8/AQAAwCLj8T8AAAAAGarzPwAAAIB2SPY/AAAAQETc8z8AAABAA4TyPwAAAAAh7fc/AAAAwJ9e8z8AAABATBb1PwAAAEBHBPQ/AAAAwGT59D8AAABAb8bwPwAAAICaM/I/AAAAQDs29T8AAACAuk/rPwAAAABmqu4/AgAAQORH8z8AAACArzjyPwAAAMCtxvM/////P1aX8z8AAAAA4dT2PwAAAIBm0vA/AQAAgKQ28j////+/SZDxPwAAAAApzfA/AgAAwOMQ8j8AAAAAO2z0PwAAAADQUvI/AAAAgCR78j8AAACAX5PvPwAAAMAuGPc/AAAAACO/8z8AAABA06XyPwAAAED/nvE/AAAAQNHg8D8AAABA97D3PwAAAIDXJuc/AAAAgAwS8z8AAAAAnDT2PwAAAEDL/vI/AAAAQEcN9j8CAABA4Qn0PwAAAEBi4PU/AAAAgJyn8z8AAAAA36DvPwAAAIB2rfU/AAAAwN8u9z8AAABANBr3PwAAAMBarPI/AAAAQPT/9D8CAABA76b2PwAAAMCPjPc/////P+hN8T8AAADAQIfyP/7///8lOvQ/AgAAADqq8D8AAABAgmnxPwAAAIBWJfM//f//f5pt8z8=\"},\"shape\":[100],\"dtype\":\"float64\",\"order\":\"little\"}]]}}},\"view\":{\"type\":\"object\",\"name\":\"CDSView\",\"id\":\"p1227\",\"attributes\":{\"filter\":{\"type\":\"object\",\"name\":\"AllIndices\",\"id\":\"p1228\"}}},\"glyph\":{\"type\":\"object\",\"name\":\"Circle\",\"id\":\"p1223\",\"attributes\":{\"x\":{\"type\":\"field\",\"field\":\"Number of Edges\"},\"y\":{\"type\":\"field\",\"field\":\"Difference (Seconds)\"},\"line_color\":{\"type\":\"value\",\"value\":\"#1f77b4\"},\"fill_color\":{\"type\":\"value\",\"value\":\"#1f77b4\"}}},\"nonselection_glyph\":{\"type\":\"object\",\"name\":\"Circle\",\"id\":\"p1224\",\"attributes\":{\"x\":{\"type\":\"field\",\"field\":\"Number of Edges\"},\"y\":{\"type\":\"field\",\"field\":\"Difference (Seconds)\"},\"line_color\":{\"type\":\"value\",\"value\":\"#1f77b4\"},\"line_alpha\":{\"type\":\"value\",\"value\":0.1},\"fill_color\":{\"type\":\"value\",\"value\":\"#1f77b4\"},\"fill_alpha\":{\"type\":\"value\",\"value\":0.1},\"hatch_alpha\":{\"type\":\"value\",\"value\":0.1}}},\"muted_glyph\":{\"type\":\"object\",\"name\":\"Circle\",\"id\":\"p1225\",\"attributes\":{\"x\":{\"type\":\"field\",\"field\":\"Number of Edges\"},\"y\":{\"type\":\"field\",\"field\":\"Difference (Seconds)\"},\"line_color\":{\"type\":\"value\",\"value\":\"#1f77b4\"},\"line_alpha\":{\"type\":\"value\",\"value\":0.2},\"fill_color\":{\"type\":\"value\",\"value\":\"#1f77b4\"},\"fill_alpha\":{\"type\":\"value\",\"value\":0.2},\"hatch_alpha\":{\"type\":\"value\",\"value\":0.2}}}}}],\"toolbar\":{\"type\":\"object\",\"name\":\"Toolbar\",\"id\":\"p1193\",\"attributes\":{\"tools\":[{\"type\":\"object\",\"name\":\"PanTool\",\"id\":\"p1206\"},{\"type\":\"object\",\"name\":\"WheelZoomTool\",\"id\":\"p1207\",\"attributes\":{\"renderers\":\"auto\"}},{\"type\":\"object\",\"name\":\"BoxZoomTool\",\"id\":\"p1208\",\"attributes\":{\"overlay\":{\"type\":\"object\",\"name\":\"BoxAnnotation\",\"id\":\"p1209\",\"attributes\":{\"syncable\":false,\"level\":\"overlay\",\"visible\":false,\"left\":{\"type\":\"number\",\"value\":\"nan\"},\"right\":{\"type\":\"number\",\"value\":\"nan\"},\"top\":{\"type\":\"number\",\"value\":\"nan\"},\"bottom\":{\"type\":\"number\",\"value\":\"nan\"},\"left_units\":\"canvas\",\"right_units\":\"canvas\",\"top_units\":\"canvas\",\"bottom_units\":\"canvas\",\"line_color\":\"black\",\"line_alpha\":1.0,\"line_width\":2,\"line_dash\":[4,4],\"fill_color\":\"lightgrey\",\"fill_alpha\":0.5}}}},{\"type\":\"object\",\"name\":\"SaveTool\",\"id\":\"p1214\"},{\"type\":\"object\",\"name\":\"ResetTool\",\"id\":\"p1215\"},{\"type\":\"object\",\"name\":\"HelpTool\",\"id\":\"p1216\"}]}},\"left\":[{\"type\":\"object\",\"name\":\"LinearAxis\",\"id\":\"p1201\",\"attributes\":{\"ticker\":{\"type\":\"object\",\"name\":\"BasicTicker\",\"id\":\"p1202\",\"attributes\":{\"mantissas\":[1,2,5]}},\"formatter\":{\"type\":\"object\",\"name\":\"BasicTickFormatter\",\"id\":\"p1203\"},\"axis_label\":\"Difference (Seconds)\",\"major_label_policy\":{\"type\":\"object\",\"name\":\"AllLabels\",\"id\":\"p1204\"}}}],\"below\":[{\"type\":\"object\",\"name\":\"LinearAxis\",\"id\":\"p1196\",\"attributes\":{\"ticker\":{\"type\":\"object\",\"name\":\"BasicTicker\",\"id\":\"p1197\",\"attributes\":{\"mantissas\":[1,2,5]}},\"formatter\":{\"type\":\"object\",\"name\":\"BasicTickFormatter\",\"id\":\"p1198\"},\"axis_label\":\"Number of Edges\",\"major_label_policy\":{\"type\":\"object\",\"name\":\"AllLabels\",\"id\":\"p1199\"}}}],\"center\":[{\"type\":\"object\",\"name\":\"Grid\",\"id\":\"p1200\",\"attributes\":{\"axis\":{\"id\":\"p1196\"}}},{\"type\":\"object\",\"name\":\"Grid\",\"id\":\"p1205\",\"attributes\":{\"dimension\":1,\"axis\":{\"id\":\"p1201\"}}}]}}]}};\n",
       "  const render_items = [{\"docid\":\"81c1d2c7-cef8-41ac-a0e9-e39b54f6035c\",\"roots\":{\"p1185\":\"b9f987e2-f908-4ee7-8628-a2bb7d0b0330\"},\"root_ids\":[\"p1185\"]}];\n",
       "  root.Bokeh.embed.embed_items_notebook(docs_json, render_items);\n",
       "  }\n",
       "  if (root.Bokeh !== undefined) {\n",
       "    embed_document(root);\n",
       "  } else {\n",
       "    let attempts = 0;\n",
       "    const timer = setInterval(function(root) {\n",
       "      if (root.Bokeh !== undefined) {\n",
       "        clearInterval(timer);\n",
       "        embed_document(root);\n",
       "      } else {\n",
       "        attempts++;\n",
       "        if (attempts > 100) {\n",
       "          clearInterval(timer);\n",
       "          console.log(\"Bokeh: ERROR: Unable to run BokehJS code because BokehJS library is missing\");\n",
       "        }\n",
       "      }\n",
       "    }, 10, root)\n",
       "  }\n",
       "})(window);"
      ],
      "application/vnd.bokehjs_exec.v0+json": ""
     },
     "metadata": {
      "application/vnd.bokehjs_exec.v0+json": {
       "id": "p1185"
      }
     },
     "output_type": "display_data"
    }
   ],
   "source": [
    "x = \"Number of Edges\"\n",
    "y = \"Difference (Seconds)\"\n",
    "p = bokeh.plotting.figure(\n",
    "    width=400,\n",
    "    height=300,\n",
    "    x_axis_label=x,\n",
    "    y_axis_label=y,\n",
    ")\n",
    "p.circle(\n",
    "    source=diff,\n",
    "    x=x,\n",
    "    y=y,\n",
    ")\n",
    "bokeh.io.show(p)"
   ]
  },
  {
   "cell_type": "code",
   "execution_count": 8,
   "id": "270c1021-ed8c-493e-a391-fecced5a4ad8",
   "metadata": {},
   "outputs": [],
   "source": [
    "effects = pd.read_csv('Twitch75GraphRuntimes.csv')\n",
    "effects = effects.drop(['Average Runtime', 'Unnamed: 0', 'Data', 'Experiment'], axis=1)\n",
    "effects = effects.rename({'# Edges': 'Number of Edges', 'Full Runtime': 'Runtime (Seconds)'}, axis=1)\n",
    "gnn = effects[effects['Explainer'] == 'GNN']\n",
    "gnn = gnn.rename({'Runtime (Seconds)': 'GNN Runtime (Seconds)'}, axis=1)\n",
    "gnn = gnn.drop(['Explainer'], axis=1)\n",
    "beta = effects[effects['Explainer'] == 'Beta']\n",
    "beta = beta.rename({'Runtime (Seconds)': 'Beta Runtime (Seconds)'}, axis=1)\n",
    "beta = beta.drop(['Explainer'], axis=1)\n",
    "diff = pd.merge(gnn, beta, how=\"right\", on=[\"# Epochs\",'Number of Edges'])\n",
    "diff['Difference (Seconds)'] = diff['Beta Runtime (Seconds)'] - diff['GNN Runtime (Seconds)']"
   ]
  },
  {
   "cell_type": "code",
   "execution_count": 9,
   "id": "ffe3b065-11bc-47ad-81be-f096c37e2dd5",
   "metadata": {
    "scrolled": true
   },
   "outputs": [
    {
     "data": {
      "text/html": [
       "\n",
       "  <div id=\"c7fcde41-5b6b-446d-a9f7-49035f02a6f5\" data-root-id=\"p1235\" style=\"display: contents;\"></div>\n"
      ]
     },
     "metadata": {},
     "output_type": "display_data"
    },
    {
     "data": {
      "application/javascript": [
       "(function(root) {\n",
       "  function embed_document(root) {\n",
       "  const docs_json = {\"15481787-f0f3-4166-b68e-8b0d9cf75f6f\":{\"version\":\"3.3.4\",\"title\":\"Bokeh Application\",\"roots\":[{\"type\":\"object\",\"name\":\"Figure\",\"id\":\"p1235\",\"attributes\":{\"width\":400,\"height\":300,\"x_range\":{\"type\":\"object\",\"name\":\"DataRange1d\",\"id\":\"p1236\"},\"y_range\":{\"type\":\"object\",\"name\":\"DataRange1d\",\"id\":\"p1237\"},\"x_scale\":{\"type\":\"object\",\"name\":\"LinearScale\",\"id\":\"p1244\"},\"y_scale\":{\"type\":\"object\",\"name\":\"LinearScale\",\"id\":\"p1245\"},\"title\":{\"type\":\"object\",\"name\":\"Title\",\"id\":\"p1242\"},\"renderers\":[{\"type\":\"object\",\"name\":\"GlyphRenderer\",\"id\":\"p1276\",\"attributes\":{\"data_source\":{\"type\":\"object\",\"name\":\"ColumnDataSource\",\"id\":\"p1267\",\"attributes\":{\"selected\":{\"type\":\"object\",\"name\":\"Selection\",\"id\":\"p1268\",\"attributes\":{\"indices\":[],\"line_indices\":[]}},\"selection_policy\":{\"type\":\"object\",\"name\":\"UnionRenderers\",\"id\":\"p1269\"},\"data\":{\"type\":\"map\",\"entries\":[[\"index\",{\"type\":\"ndarray\",\"array\":{\"type\":\"bytes\",\"data\":\"AAAAAAIAAAAEAAAABgAAAAgAAAAKAAAADAAAAA4AAAAQAAAAEgAAABQAAAAWAAAAGAAAABoAAAAcAAAAHgAAACAAAAAiAAAAJAAAACYAAAAoAAAAKgAAACwAAAAuAAAAMAAAADIAAAA0AAAANgAAADgAAAA6AAAAPAAAAD4AAABAAAAAQgAAAEQAAABGAAAASAAAAEoAAABMAAAATgAAAFAAAABSAAAAVAAAAFYAAABYAAAAWgAAAFwAAABeAAAAYAAAAGIAAABkAAAAZgAAAGgAAABqAAAAbAAAAG4AAABwAAAAcgAAAHQAAAB2AAAAeAAAAHoAAAB8AAAAfgAAAIAAAACCAAAAhAAAAIYAAACIAAAAigAAAIwAAACOAAAAkAAAAJIAAACUAAAAlgAAAJgAAACaAAAAnAAAAJ4AAACgAAAAogAAAKQAAACmAAAAqAAAAKoAAACsAAAArgAAALAAAACyAAAAtAAAALYAAAC4AAAAugAAALwAAAC+AAAAwAAAAMIAAADEAAAAxgAAAA==\"},\"shape\":[100],\"dtype\":\"int32\",\"order\":\"little\"}],[\"Explainer\",{\"type\":\"ndarray\",\"array\":[\"Beta\",\"Beta\",\"Beta\",\"Beta\",\"Beta\",\"Beta\",\"Beta\",\"Beta\",\"Beta\",\"Beta\",\"Beta\",\"Beta\",\"Beta\",\"Beta\",\"Beta\",\"Beta\",\"Beta\",\"Beta\",\"Beta\",\"Beta\",\"Beta\",\"Beta\",\"Beta\",\"Beta\",\"Beta\",\"Beta\",\"Beta\",\"Beta\",\"Beta\",\"Beta\",\"Beta\",\"Beta\",\"Beta\",\"Beta\",\"Beta\",\"Beta\",\"Beta\",\"Beta\",\"Beta\",\"Beta\",\"Beta\",\"Beta\",\"Beta\",\"Beta\",\"Beta\",\"Beta\",\"Beta\",\"Beta\",\"Beta\",\"Beta\",\"Beta\",\"Beta\",\"Beta\",\"Beta\",\"Beta\",\"Beta\",\"Beta\",\"Beta\",\"Beta\",\"Beta\",\"Beta\",\"Beta\",\"Beta\",\"Beta\",\"Beta\",\"Beta\",\"Beta\",\"Beta\",\"Beta\",\"Beta\",\"Beta\",\"Beta\",\"Beta\",\"Beta\",\"Beta\",\"Beta\",\"Beta\",\"Beta\",\"Beta\",\"Beta\",\"Beta\",\"Beta\",\"Beta\",\"Beta\",\"Beta\",\"Beta\",\"Beta\",\"Beta\",\"Beta\",\"Beta\",\"Beta\",\"Beta\",\"Beta\",\"Beta\",\"Beta\",\"Beta\",\"Beta\",\"Beta\",\"Beta\",\"Beta\"],\"shape\":[100],\"dtype\":\"object\",\"order\":\"little\"}],[\"# Epochs\",{\"type\":\"ndarray\",\"array\":{\"type\":\"bytes\",\"data\":\"MgAAADIAAAAyAAAAMgAAADIAAAAyAAAAMgAAADIAAAAyAAAAMgAAADIAAAAyAAAAMgAAADIAAAAyAAAAMgAAADIAAAAyAAAAMgAAADIAAAAyAAAAMgAAADIAAAAyAAAAMgAAADIAAAAyAAAAMgAAADIAAAAyAAAAMgAAADIAAAAyAAAAMgAAADIAAAAyAAAAMgAAADIAAAAyAAAAMgAAADIAAAAyAAAAMgAAADIAAAAyAAAAMgAAADIAAAAyAAAAMgAAADIAAAAyAAAAMgAAADIAAAAyAAAAMgAAADIAAAAyAAAAMgAAADIAAAAyAAAAMgAAADIAAAAyAAAAMgAAADIAAAAyAAAAMgAAADIAAAAyAAAAMgAAADIAAAAyAAAAMgAAADIAAAAyAAAAMgAAADIAAAAyAAAAMgAAADIAAAAyAAAAMgAAADIAAAAyAAAAMgAAADIAAAAyAAAAMgAAADIAAAAyAAAAMgAAADIAAAAyAAAAMgAAADIAAAAyAAAAMgAAADIAAAAyAAAAMgAAAA==\"},\"shape\":[100],\"dtype\":\"int32\",\"order\":\"little\"}],[\"Runtime (Seconds)\",{\"type\":\"ndarray\",\"array\":{\"type\":\"bytes\",\"data\":\"////f/8w/T8AAAAAyCz5P/////8SW/s/AAAAgHB5/D8BAAAAI+7+PwAAAOCdKwBAAAAAwDP7+T8AAADA3/AAQP///3+VSwFAAAAAQDEjAUD/////20b9PwAAAGAS4gBAAQAAAJkB/z8AAAAg4YYBQAEAAMAI0f8/AAAAwJHt+D8AAAAAffjzPwAAAMDW+gBAAAAAIBxUAEAAAACgv28BQAAAAOBDrwBAAAAAYFQYAUAAAAAAIM4AQAAAACDYWQFAAAAAAIgtAkD///8/pBT/PwAAAIA4xP4/AAAAAGrDAUAAAACguRUDQAAAACC6tQBAAAAA4EUhAkAAAABgVcIDQAEAAICECQJAAQAAwJXGA0ABAAAAjhEAQAAAAGBOBwBAAAAA4Pf5AUAAAABAwtf/PwAAAAC5LgBAAAAAQB4JBEAAAAAg4uwBQAAAACD7ywNAAQAA4JagA0AAAADAXysDQAAAAGBShANAAAAAgA3LAkAAAAAgta4EQAAAAEA3pwNAAAAAgO7YA0ABAACgysYEQAAAAGBm4wJAAAAAADYJA0AAAADAalgEQAAAACBh1gNAAAAAoFCEAkAAAACgeEACQAAAAAADBARAAAAAAJvMAkAAAAAA+lEDQAAAAMAfNQNAAAAAgKATA0AAAADAnAQEQAAAACBK6gRAAAAA4FTIA0AAAADA9v4DQAEAAADJhQVAAAAAwNNqBkAAAACAudsCQAAAAMCIuQJAAAAAYP3+A0AAAAAgulsEQAAAAKC+iAZAAAAAgGtu/z8AAADgwZgFQAAAAIDtDARAAAAAoFDYBEAAAADA8ekAQAAAAKC5EwVAAAAAwMDuA0AAAAAgVtEEQAAAACCjMgRAAAAAYNHNBEAAAAAA/5MFQAAAAGBA9ANAAAAAIAAkBUAAAABglTkFQAAAAODPJQZAAAAAAD0FA0AAAADA6uICQAEAAKCVwgNAAAAAgAFmA0AAAADgHNcEQAEAACDyAQNAAAAAgL2BBEAAAADAylkDQAAAAAC+cQRAAAAAgKShBEAAAABAiB8EQAAAAIDPiwVAAAAAgM5G/z8=\"},\"shape\":[100],\"dtype\":\"float64\",\"order\":\"little\"}],[\"Number of Edges\",{\"type\":\"ndarray\",\"array\":{\"type\":\"bytes\",\"data\":\"MgAAAGQAAACWAAAAyAAAAPoAAAAsAQAAXgEAAJABAADCAQAA9AEAACYCAABYAgAAigIAALwCAADuAgAAIAMAAFIDAACEAwAAtgMAAOgDAAAaBAAATAQAAH4EAACwBAAA4gQAABQFAABGBQAAeAUAAKoFAADcBQAADgYAAEAGAAByBgAApAYAANYGAAAIBwAAOgcAAGwHAACeBwAA0AcAAAIIAAA0CAAAZggAAJgIAADKCAAA/AgAAC4JAABgCQAAkgkAAMQJAAD2CQAAKAoAAFoKAACMCgAAvgoAAPAKAAAiCwAAVAsAAIYLAAC4CwAA6gsAABwMAABODAAAgAwAALIMAADkDAAAFg0AAEgNAAB6DQAArA0AAN4NAAAQDgAAQg4AAHQOAACmDgAA2A4AAAoPAAA8DwAAbg8AAKAPAADSDwAABBAAADYQAABoEAAAmhAAAMwQAAD+EAAAMBEAAGIRAACUEQAAxhEAAPgRAAAqEgAAXBIAAI4SAADAEgAA8hIAACQTAABWEwAAiBMAAA==\"},\"shape\":[100],\"dtype\":\"int32\",\"order\":\"little\"}]]}}},\"view\":{\"type\":\"object\",\"name\":\"CDSView\",\"id\":\"p1277\",\"attributes\":{\"filter\":{\"type\":\"object\",\"name\":\"AllIndices\",\"id\":\"p1278\"}}},\"glyph\":{\"type\":\"object\",\"name\":\"Circle\",\"id\":\"p1273\",\"attributes\":{\"x\":{\"type\":\"field\",\"field\":\"Number of Edges\"},\"y\":{\"type\":\"field\",\"field\":\"Runtime (Seconds)\"},\"line_color\":{\"type\":\"value\",\"value\":\"#1f77b4\"},\"fill_color\":{\"type\":\"value\",\"value\":\"#1f77b4\"}}},\"nonselection_glyph\":{\"type\":\"object\",\"name\":\"Circle\",\"id\":\"p1274\",\"attributes\":{\"x\":{\"type\":\"field\",\"field\":\"Number of Edges\"},\"y\":{\"type\":\"field\",\"field\":\"Runtime (Seconds)\"},\"line_color\":{\"type\":\"value\",\"value\":\"#1f77b4\"},\"line_alpha\":{\"type\":\"value\",\"value\":0.1},\"fill_color\":{\"type\":\"value\",\"value\":\"#1f77b4\"},\"fill_alpha\":{\"type\":\"value\",\"value\":0.1},\"hatch_alpha\":{\"type\":\"value\",\"value\":0.1}}},\"muted_glyph\":{\"type\":\"object\",\"name\":\"Circle\",\"id\":\"p1275\",\"attributes\":{\"x\":{\"type\":\"field\",\"field\":\"Number of Edges\"},\"y\":{\"type\":\"field\",\"field\":\"Runtime (Seconds)\"},\"line_color\":{\"type\":\"value\",\"value\":\"#1f77b4\"},\"line_alpha\":{\"type\":\"value\",\"value\":0.2},\"fill_color\":{\"type\":\"value\",\"value\":\"#1f77b4\"},\"fill_alpha\":{\"type\":\"value\",\"value\":0.2},\"hatch_alpha\":{\"type\":\"value\",\"value\":0.2}}}}},{\"type\":\"object\",\"name\":\"GlyphRenderer\",\"id\":\"p1290\",\"attributes\":{\"data_source\":{\"type\":\"object\",\"name\":\"ColumnDataSource\",\"id\":\"p1281\",\"attributes\":{\"selected\":{\"type\":\"object\",\"name\":\"Selection\",\"id\":\"p1282\",\"attributes\":{\"indices\":[],\"line_indices\":[]}},\"selection_policy\":{\"type\":\"object\",\"name\":\"UnionRenderers\",\"id\":\"p1283\"},\"data\":{\"type\":\"map\",\"entries\":[[\"index\",{\"type\":\"ndarray\",\"array\":{\"type\":\"bytes\",\"data\":\"AQAAAAMAAAAFAAAABwAAAAkAAAALAAAADQAAAA8AAAARAAAAEwAAABUAAAAXAAAAGQAAABsAAAAdAAAAHwAAACEAAAAjAAAAJQAAACcAAAApAAAAKwAAAC0AAAAvAAAAMQAAADMAAAA1AAAANwAAADkAAAA7AAAAPQAAAD8AAABBAAAAQwAAAEUAAABHAAAASQAAAEsAAABNAAAATwAAAFEAAABTAAAAVQAAAFcAAABZAAAAWwAAAF0AAABfAAAAYQAAAGMAAABlAAAAZwAAAGkAAABrAAAAbQAAAG8AAABxAAAAcwAAAHUAAAB3AAAAeQAAAHsAAAB9AAAAfwAAAIEAAACDAAAAhQAAAIcAAACJAAAAiwAAAI0AAACPAAAAkQAAAJMAAACVAAAAlwAAAJkAAACbAAAAnQAAAJ8AAAChAAAAowAAAKUAAACnAAAAqQAAAKsAAACtAAAArwAAALEAAACzAAAAtQAAALcAAAC5AAAAuwAAAL0AAAC/AAAAwQAAAMMAAADFAAAAxwAAAA==\"},\"shape\":[100],\"dtype\":\"int32\",\"order\":\"little\"}],[\"Explainer\",{\"type\":\"ndarray\",\"array\":[\"GNN\",\"GNN\",\"GNN\",\"GNN\",\"GNN\",\"GNN\",\"GNN\",\"GNN\",\"GNN\",\"GNN\",\"GNN\",\"GNN\",\"GNN\",\"GNN\",\"GNN\",\"GNN\",\"GNN\",\"GNN\",\"GNN\",\"GNN\",\"GNN\",\"GNN\",\"GNN\",\"GNN\",\"GNN\",\"GNN\",\"GNN\",\"GNN\",\"GNN\",\"GNN\",\"GNN\",\"GNN\",\"GNN\",\"GNN\",\"GNN\",\"GNN\",\"GNN\",\"GNN\",\"GNN\",\"GNN\",\"GNN\",\"GNN\",\"GNN\",\"GNN\",\"GNN\",\"GNN\",\"GNN\",\"GNN\",\"GNN\",\"GNN\",\"GNN\",\"GNN\",\"GNN\",\"GNN\",\"GNN\",\"GNN\",\"GNN\",\"GNN\",\"GNN\",\"GNN\",\"GNN\",\"GNN\",\"GNN\",\"GNN\",\"GNN\",\"GNN\",\"GNN\",\"GNN\",\"GNN\",\"GNN\",\"GNN\",\"GNN\",\"GNN\",\"GNN\",\"GNN\",\"GNN\",\"GNN\",\"GNN\",\"GNN\",\"GNN\",\"GNN\",\"GNN\",\"GNN\",\"GNN\",\"GNN\",\"GNN\",\"GNN\",\"GNN\",\"GNN\",\"GNN\",\"GNN\",\"GNN\",\"GNN\",\"GNN\",\"GNN\",\"GNN\",\"GNN\",\"GNN\",\"GNN\",\"GNN\"],\"shape\":[100],\"dtype\":\"object\",\"order\":\"little\"}],[\"# Epochs\",{\"type\":\"ndarray\",\"array\":{\"type\":\"bytes\",\"data\":\"MgAAADIAAAAyAAAAMgAAADIAAAAyAAAAMgAAADIAAAAyAAAAMgAAADIAAAAyAAAAMgAAADIAAAAyAAAAMgAAADIAAAAyAAAAMgAAADIAAAAyAAAAMgAAADIAAAAyAAAAMgAAADIAAAAyAAAAMgAAADIAAAAyAAAAMgAAADIAAAAyAAAAMgAAADIAAAAyAAAAMgAAADIAAAAyAAAAMgAAADIAAAAyAAAAMgAAADIAAAAyAAAAMgAAADIAAAAyAAAAMgAAADIAAAAyAAAAMgAAADIAAAAyAAAAMgAAADIAAAAyAAAAMgAAADIAAAAyAAAAMgAAADIAAAAyAAAAMgAAADIAAAAyAAAAMgAAADIAAAAyAAAAMgAAADIAAAAyAAAAMgAAADIAAAAyAAAAMgAAADIAAAAyAAAAMgAAADIAAAAyAAAAMgAAADIAAAAyAAAAMgAAADIAAAAyAAAAMgAAADIAAAAyAAAAMgAAADIAAAAyAAAAMgAAADIAAAAyAAAAMgAAADIAAAAyAAAAMgAAAA==\"},\"shape\":[100],\"dtype\":\"int32\",\"order\":\"little\"}],[\"Runtime (Seconds)\",{\"type\":\"ndarray\",\"array\":{\"type\":\"bytes\",\"data\":\"AAAAAP/Z8j8AAACAzCHpPwAAAIABmvI/AAAAAEgK7j8AAACAUt3uP////39Gie4/AQAAwBzL8D8AAAAAtEvwPwAAAIBXvPI/AAAAgF8L8T8AAACAkGnuPwEAAACbYu8/AAAAAC9z6j8AAAAAODfuPwAAAAAF9uo/AAAAgM686z8AAACAZGzxPwAAAMD5jPQ//////5Y38j8AAAAAAVPzPwAAAMCY0PM/AAAAAGCj8D8AAAAAe0jzPwAAAEDqDfM/AAAAAGp68z8AAAAAxlrsPwAAAMC7wfA/AAAAQFpG9D8AAABAIS7zPwAAAECJFvE/AAAAwB/l8z//////lkXzPwAAAAAO7O8/AAAAwM9R8z8AAABAxWvwPwAAAADlXfE/AAAAAITO7z8AAABAuyjwPwEAAAAt5O8/AAAAgL9w8D8AAABAWZbzPwEAAABuK/Q/AAAAgME58z8AAAAAp8LsP////z9jhvI/AAAAgO6+8j8AAADAAFfwPwAAAIDepPI/AAAAQOGC8T8AAABAKmz0PwAAAIAUBu8/AAAAQJ0w8z8AAADAjJHzPwAAAMDg4vA//////5TE8z8AAACAoLXzPwAAAEDTf/E/AAAAQIMS8j////8/JRXzPwAAAMC3X/I/AQAAAOms8D8AAAAAR9v0PwEAAMCZh/M/AAAAgHqJ8z8BAAAArFr0PwEAAMAcyfQ/AAAAACrp9D8AAADAiprxPwAAAAB46/I/AAAAALAb9T8AAAAAitDxPwAAAEByjPI/////f39P7j8AAADAnbDyPwAAAEBXFvQ/AAAAgPOn8T8AAABA6ArxPwAAAADKS/M/AAAAgKT18z//////Ucn0PwAAAMB6c/I/AAAAAIRl9T8AAADAihf1PwAAAAAY5fA/AAAAwC948z8AAADAIQf2PwAAAAA9cvQ/AAAAgJxi8j8AAACAHhTzPwAAAEAYmvM/AAAAgEJc9D8AAACAfSjxPwAAAIADMPQ/AAAAgGQ08j8AAABAlOrxPwAAAIDnQPM/AAAAACCN8z8AAABAzMXyP/////9Yhu0/AAAAQLs18z8=\"},\"shape\":[100],\"dtype\":\"float64\",\"order\":\"little\"}],[\"Number of Edges\",{\"type\":\"ndarray\",\"array\":{\"type\":\"bytes\",\"data\":\"MgAAAGQAAACWAAAAyAAAAPoAAAAsAQAAXgEAAJABAADCAQAA9AEAACYCAABYAgAAigIAALwCAADuAgAAIAMAAFIDAACEAwAAtgMAAOgDAAAaBAAATAQAAH4EAACwBAAA4gQAABQFAABGBQAAeAUAAKoFAADcBQAADgYAAEAGAAByBgAApAYAANYGAAAIBwAAOgcAAGwHAACeBwAA0AcAAAIIAAA0CAAAZggAAJgIAADKCAAA/AgAAC4JAABgCQAAkgkAAMQJAAD2CQAAKAoAAFoKAACMCgAAvgoAAPAKAAAiCwAAVAsAAIYLAAC4CwAA6gsAABwMAABODAAAgAwAALIMAADkDAAAFg0AAEgNAAB6DQAArA0AAN4NAAAQDgAAQg4AAHQOAACmDgAA2A4AAAoPAAA8DwAAbg8AAKAPAADSDwAABBAAADYQAABoEAAAmhAAAMwQAAD+EAAAMBEAAGIRAACUEQAAxhEAAPgRAAAqEgAAXBIAAI4SAADAEgAA8hIAACQTAABWEwAAiBMAAA==\"},\"shape\":[100],\"dtype\":\"int32\",\"order\":\"little\"}]]}}},\"view\":{\"type\":\"object\",\"name\":\"CDSView\",\"id\":\"p1291\",\"attributes\":{\"filter\":{\"type\":\"object\",\"name\":\"AllIndices\",\"id\":\"p1292\"}}},\"glyph\":{\"type\":\"object\",\"name\":\"Circle\",\"id\":\"p1287\",\"attributes\":{\"x\":{\"type\":\"field\",\"field\":\"Number of Edges\"},\"y\":{\"type\":\"field\",\"field\":\"Runtime (Seconds)\"},\"line_color\":{\"type\":\"value\",\"value\":\"orange\"},\"fill_color\":{\"type\":\"value\",\"value\":\"orange\"},\"hatch_color\":{\"type\":\"value\",\"value\":\"orange\"}}},\"nonselection_glyph\":{\"type\":\"object\",\"name\":\"Circle\",\"id\":\"p1288\",\"attributes\":{\"x\":{\"type\":\"field\",\"field\":\"Number of Edges\"},\"y\":{\"type\":\"field\",\"field\":\"Runtime (Seconds)\"},\"line_color\":{\"type\":\"value\",\"value\":\"orange\"},\"line_alpha\":{\"type\":\"value\",\"value\":0.1},\"fill_color\":{\"type\":\"value\",\"value\":\"orange\"},\"fill_alpha\":{\"type\":\"value\",\"value\":0.1},\"hatch_color\":{\"type\":\"value\",\"value\":\"orange\"},\"hatch_alpha\":{\"type\":\"value\",\"value\":0.1}}},\"muted_glyph\":{\"type\":\"object\",\"name\":\"Circle\",\"id\":\"p1289\",\"attributes\":{\"x\":{\"type\":\"field\",\"field\":\"Number of Edges\"},\"y\":{\"type\":\"field\",\"field\":\"Runtime (Seconds)\"},\"line_color\":{\"type\":\"value\",\"value\":\"orange\"},\"line_alpha\":{\"type\":\"value\",\"value\":0.2},\"fill_color\":{\"type\":\"value\",\"value\":\"orange\"},\"fill_alpha\":{\"type\":\"value\",\"value\":0.2},\"hatch_color\":{\"type\":\"value\",\"value\":\"orange\"},\"hatch_alpha\":{\"type\":\"value\",\"value\":0.2}}}}}],\"toolbar\":{\"type\":\"object\",\"name\":\"Toolbar\",\"id\":\"p1243\",\"attributes\":{\"tools\":[{\"type\":\"object\",\"name\":\"PanTool\",\"id\":\"p1256\"},{\"type\":\"object\",\"name\":\"WheelZoomTool\",\"id\":\"p1257\",\"attributes\":{\"renderers\":\"auto\"}},{\"type\":\"object\",\"name\":\"BoxZoomTool\",\"id\":\"p1258\",\"attributes\":{\"overlay\":{\"type\":\"object\",\"name\":\"BoxAnnotation\",\"id\":\"p1259\",\"attributes\":{\"syncable\":false,\"level\":\"overlay\",\"visible\":false,\"left\":{\"type\":\"number\",\"value\":\"nan\"},\"right\":{\"type\":\"number\",\"value\":\"nan\"},\"top\":{\"type\":\"number\",\"value\":\"nan\"},\"bottom\":{\"type\":\"number\",\"value\":\"nan\"},\"left_units\":\"canvas\",\"right_units\":\"canvas\",\"top_units\":\"canvas\",\"bottom_units\":\"canvas\",\"line_color\":\"black\",\"line_alpha\":1.0,\"line_width\":2,\"line_dash\":[4,4],\"fill_color\":\"lightgrey\",\"fill_alpha\":0.5}}}},{\"type\":\"object\",\"name\":\"SaveTool\",\"id\":\"p1264\"},{\"type\":\"object\",\"name\":\"ResetTool\",\"id\":\"p1265\"},{\"type\":\"object\",\"name\":\"HelpTool\",\"id\":\"p1266\"}]}},\"left\":[{\"type\":\"object\",\"name\":\"LinearAxis\",\"id\":\"p1251\",\"attributes\":{\"ticker\":{\"type\":\"object\",\"name\":\"BasicTicker\",\"id\":\"p1252\",\"attributes\":{\"mantissas\":[1,2,5]}},\"formatter\":{\"type\":\"object\",\"name\":\"BasicTickFormatter\",\"id\":\"p1253\"},\"axis_label\":\"Runtime (Seconds)\",\"major_label_policy\":{\"type\":\"object\",\"name\":\"AllLabels\",\"id\":\"p1254\"}}}],\"below\":[{\"type\":\"object\",\"name\":\"LinearAxis\",\"id\":\"p1246\",\"attributes\":{\"ticker\":{\"type\":\"object\",\"name\":\"BasicTicker\",\"id\":\"p1247\",\"attributes\":{\"mantissas\":[1,2,5]}},\"formatter\":{\"type\":\"object\",\"name\":\"BasicTickFormatter\",\"id\":\"p1248\"},\"axis_label\":\"Number of Edges\",\"major_label_policy\":{\"type\":\"object\",\"name\":\"AllLabels\",\"id\":\"p1249\"}}}],\"center\":[{\"type\":\"object\",\"name\":\"Grid\",\"id\":\"p1250\",\"attributes\":{\"axis\":{\"id\":\"p1246\"}}},{\"type\":\"object\",\"name\":\"Grid\",\"id\":\"p1255\",\"attributes\":{\"dimension\":1,\"axis\":{\"id\":\"p1251\"}}},{\"type\":\"object\",\"name\":\"Legend\",\"id\":\"p1279\",\"attributes\":{\"location\":\"top_left\",\"items\":[{\"type\":\"object\",\"name\":\"LegendItem\",\"id\":\"p1280\",\"attributes\":{\"label\":{\"type\":\"value\",\"value\":\"Beta\"},\"renderers\":[{\"id\":\"p1276\"}]}},{\"type\":\"object\",\"name\":\"LegendItem\",\"id\":\"p1293\",\"attributes\":{\"label\":{\"type\":\"value\",\"value\":\"GNN\"},\"renderers\":[{\"id\":\"p1290\"}]}}]}}]}}]}};\n",
       "  const render_items = [{\"docid\":\"15481787-f0f3-4166-b68e-8b0d9cf75f6f\",\"roots\":{\"p1235\":\"c7fcde41-5b6b-446d-a9f7-49035f02a6f5\"},\"root_ids\":[\"p1235\"]}];\n",
       "  root.Bokeh.embed.embed_items_notebook(docs_json, render_items);\n",
       "  }\n",
       "  if (root.Bokeh !== undefined) {\n",
       "    embed_document(root);\n",
       "  } else {\n",
       "    let attempts = 0;\n",
       "    const timer = setInterval(function(root) {\n",
       "      if (root.Bokeh !== undefined) {\n",
       "        clearInterval(timer);\n",
       "        embed_document(root);\n",
       "      } else {\n",
       "        attempts++;\n",
       "        if (attempts > 100) {\n",
       "          clearInterval(timer);\n",
       "          console.log(\"Bokeh: ERROR: Unable to run BokehJS code because BokehJS library is missing\");\n",
       "        }\n",
       "      }\n",
       "    }, 10, root)\n",
       "  }\n",
       "})(window);"
      ],
      "application/vnd.bokehjs_exec.v0+json": ""
     },
     "metadata": {
      "application/vnd.bokehjs_exec.v0+json": {
       "id": "p1235"
      }
     },
     "output_type": "display_data"
    }
   ],
   "source": [
    "x = \"Number of Edges\"\n",
    "y = \"Runtime (Seconds)\"\n",
    "p = bokeh.plotting.figure(\n",
    "    width=400,\n",
    "    height=300,\n",
    "    x_axis_label=x,\n",
    "    y_axis_label=y,\n",
    ")\n",
    "p.circle(\n",
    "    source=effects[effects['Explainer'] == 'Beta'],\n",
    "    x=x,\n",
    "    y=y,\n",
    "    legend_label=\"Beta\",\n",
    ")\n",
    "p.circle(\n",
    "    source=effects[effects['Explainer'] == 'GNN'],\n",
    "    x=x,\n",
    "    y=y,\n",
    "    legend_label=\"GNN\",\n",
    "    color='orange'\n",
    ")\n",
    "p.legend.location = \"top_left\"\n",
    "bokeh.io.show(p)"
   ]
  },
  {
   "cell_type": "code",
   "execution_count": 10,
   "id": "4d66e4a1-ad5b-40bc-8f77-8f0491ac93bb",
   "metadata": {
    "scrolled": true
   },
   "outputs": [
    {
     "data": {
      "text/html": [
       "\n",
       "  <div id=\"d1bf9df5-6aac-4075-828a-593e160956fa\" data-root-id=\"p1302\" style=\"display: contents;\"></div>\n"
      ]
     },
     "metadata": {},
     "output_type": "display_data"
    },
    {
     "data": {
      "application/javascript": [
       "(function(root) {\n",
       "  function embed_document(root) {\n",
       "  const docs_json = {\"5519b1eb-bffb-468b-809a-3a25ce63724c\":{\"version\":\"3.3.4\",\"title\":\"Bokeh Application\",\"roots\":[{\"type\":\"object\",\"name\":\"Figure\",\"id\":\"p1302\",\"attributes\":{\"width\":400,\"height\":300,\"x_range\":{\"type\":\"object\",\"name\":\"DataRange1d\",\"id\":\"p1303\"},\"y_range\":{\"type\":\"object\",\"name\":\"DataRange1d\",\"id\":\"p1304\"},\"x_scale\":{\"type\":\"object\",\"name\":\"LinearScale\",\"id\":\"p1311\"},\"y_scale\":{\"type\":\"object\",\"name\":\"LinearScale\",\"id\":\"p1312\"},\"title\":{\"type\":\"object\",\"name\":\"Title\",\"id\":\"p1309\"},\"renderers\":[{\"type\":\"object\",\"name\":\"GlyphRenderer\",\"id\":\"p1343\",\"attributes\":{\"data_source\":{\"type\":\"object\",\"name\":\"ColumnDataSource\",\"id\":\"p1334\",\"attributes\":{\"selected\":{\"type\":\"object\",\"name\":\"Selection\",\"id\":\"p1335\",\"attributes\":{\"indices\":[],\"line_indices\":[]}},\"selection_policy\":{\"type\":\"object\",\"name\":\"UnionRenderers\",\"id\":\"p1336\"},\"data\":{\"type\":\"map\",\"entries\":[[\"index\",{\"type\":\"ndarray\",\"array\":{\"type\":\"bytes\",\"data\":\"AAAAAAEAAAACAAAAAwAAAAQAAAAFAAAABgAAAAcAAAAIAAAACQAAAAoAAAALAAAADAAAAA0AAAAOAAAADwAAABAAAAARAAAAEgAAABMAAAAUAAAAFQAAABYAAAAXAAAAGAAAABkAAAAaAAAAGwAAABwAAAAdAAAAHgAAAB8AAAAgAAAAIQAAACIAAAAjAAAAJAAAACUAAAAmAAAAJwAAACgAAAApAAAAKgAAACsAAAAsAAAALQAAAC4AAAAvAAAAMAAAADEAAAAyAAAAMwAAADQAAAA1AAAANgAAADcAAAA4AAAAOQAAADoAAAA7AAAAPAAAAD0AAAA+AAAAPwAAAEAAAABBAAAAQgAAAEMAAABEAAAARQAAAEYAAABHAAAASAAAAEkAAABKAAAASwAAAEwAAABNAAAATgAAAE8AAABQAAAAUQAAAFIAAABTAAAAVAAAAFUAAABWAAAAVwAAAFgAAABZAAAAWgAAAFsAAABcAAAAXQAAAF4AAABfAAAAYAAAAGEAAABiAAAAYwAAAA==\"},\"shape\":[100],\"dtype\":\"int32\",\"order\":\"little\"}],[\"# Epochs\",{\"type\":\"ndarray\",\"array\":{\"type\":\"bytes\",\"data\":\"MgAAADIAAAAyAAAAMgAAADIAAAAyAAAAMgAAADIAAAAyAAAAMgAAADIAAAAyAAAAMgAAADIAAAAyAAAAMgAAADIAAAAyAAAAMgAAADIAAAAyAAAAMgAAADIAAAAyAAAAMgAAADIAAAAyAAAAMgAAADIAAAAyAAAAMgAAADIAAAAyAAAAMgAAADIAAAAyAAAAMgAAADIAAAAyAAAAMgAAADIAAAAyAAAAMgAAADIAAAAyAAAAMgAAADIAAAAyAAAAMgAAADIAAAAyAAAAMgAAADIAAAAyAAAAMgAAADIAAAAyAAAAMgAAADIAAAAyAAAAMgAAADIAAAAyAAAAMgAAADIAAAAyAAAAMgAAADIAAAAyAAAAMgAAADIAAAAyAAAAMgAAADIAAAAyAAAAMgAAADIAAAAyAAAAMgAAADIAAAAyAAAAMgAAADIAAAAyAAAAMgAAADIAAAAyAAAAMgAAADIAAAAyAAAAMgAAADIAAAAyAAAAMgAAADIAAAAyAAAAMgAAADIAAAAyAAAAMgAAAA==\"},\"shape\":[100],\"dtype\":\"int32\",\"order\":\"little\"}],[\"GNN Runtime (Seconds)\",{\"type\":\"ndarray\",\"array\":{\"type\":\"bytes\",\"data\":\"AAAAAP/Z8j8AAACAzCHpPwAAAIABmvI/AAAAAEgK7j8AAACAUt3uP////39Gie4/AQAAwBzL8D8AAAAAtEvwPwAAAIBXvPI/AAAAgF8L8T8AAACAkGnuPwEAAACbYu8/AAAAAC9z6j8AAAAAODfuPwAAAAAF9uo/AAAAgM686z8AAACAZGzxPwAAAMD5jPQ//////5Y38j8AAAAAAVPzPwAAAMCY0PM/AAAAAGCj8D8AAAAAe0jzPwAAAEDqDfM/AAAAAGp68z8AAAAAxlrsPwAAAMC7wfA/AAAAQFpG9D8AAABAIS7zPwAAAECJFvE/AAAAwB/l8z//////lkXzPwAAAAAO7O8/AAAAwM9R8z8AAABAxWvwPwAAAADlXfE/AAAAAITO7z8AAABAuyjwPwEAAAAt5O8/AAAAgL9w8D8AAABAWZbzPwEAAABuK/Q/AAAAgME58z8AAAAAp8LsP////z9jhvI/AAAAgO6+8j8AAADAAFfwPwAAAIDepPI/AAAAQOGC8T8AAABAKmz0PwAAAIAUBu8/AAAAQJ0w8z8AAADAjJHzPwAAAMDg4vA//////5TE8z8AAACAoLXzPwAAAEDTf/E/AAAAQIMS8j////8/JRXzPwAAAMC3X/I/AQAAAOms8D8AAAAAR9v0PwEAAMCZh/M/AAAAgHqJ8z8BAAAArFr0PwEAAMAcyfQ/AAAAACrp9D8AAADAiprxPwAAAAB46/I/AAAAALAb9T8AAAAAitDxPwAAAEByjPI/////f39P7j8AAADAnbDyPwAAAEBXFvQ/AAAAgPOn8T8AAABA6ArxPwAAAADKS/M/AAAAgKT18z//////Ucn0PwAAAMB6c/I/AAAAAIRl9T8AAADAihf1PwAAAAAY5fA/AAAAwC948z8AAADAIQf2PwAAAAA9cvQ/AAAAgJxi8j8AAACAHhTzPwAAAEAYmvM/AAAAgEJc9D8AAACAfSjxPwAAAIADMPQ/AAAAgGQ08j8AAABAlOrxPwAAAIDnQPM/AAAAACCN8z8AAABAzMXyP/////9Yhu0/AAAAQLs18z8=\"},\"shape\":[100],\"dtype\":\"float64\",\"order\":\"little\"}],[\"Number of Edges\",{\"type\":\"ndarray\",\"array\":{\"type\":\"bytes\",\"data\":\"MgAAAGQAAACWAAAAyAAAAPoAAAAsAQAAXgEAAJABAADCAQAA9AEAACYCAABYAgAAigIAALwCAADuAgAAIAMAAFIDAACEAwAAtgMAAOgDAAAaBAAATAQAAH4EAACwBAAA4gQAABQFAABGBQAAeAUAAKoFAADcBQAADgYAAEAGAAByBgAApAYAANYGAAAIBwAAOgcAAGwHAACeBwAA0AcAAAIIAAA0CAAAZggAAJgIAADKCAAA/AgAAC4JAABgCQAAkgkAAMQJAAD2CQAAKAoAAFoKAACMCgAAvgoAAPAKAAAiCwAAVAsAAIYLAAC4CwAA6gsAABwMAABODAAAgAwAALIMAADkDAAAFg0AAEgNAAB6DQAArA0AAN4NAAAQDgAAQg4AAHQOAACmDgAA2A4AAAoPAAA8DwAAbg8AAKAPAADSDwAABBAAADYQAABoEAAAmhAAAMwQAAD+EAAAMBEAAGIRAACUEQAAxhEAAPgRAAAqEgAAXBIAAI4SAADAEgAA8hIAACQTAABWEwAAiBMAAA==\"},\"shape\":[100],\"dtype\":\"int32\",\"order\":\"little\"}],[\"Beta Runtime (Seconds)\",{\"type\":\"ndarray\",\"array\":{\"type\":\"bytes\",\"data\":\"////f/8w/T8AAAAAyCz5P/////8SW/s/AAAAgHB5/D8BAAAAI+7+PwAAAOCdKwBAAAAAwDP7+T8AAADA3/AAQP///3+VSwFAAAAAQDEjAUD/////20b9PwAAAGAS4gBAAQAAAJkB/z8AAAAg4YYBQAEAAMAI0f8/AAAAwJHt+D8AAAAAffjzPwAAAMDW+gBAAAAAIBxUAEAAAACgv28BQAAAAOBDrwBAAAAAYFQYAUAAAAAAIM4AQAAAACDYWQFAAAAAAIgtAkD///8/pBT/PwAAAIA4xP4/AAAAAGrDAUAAAACguRUDQAAAACC6tQBAAAAA4EUhAkAAAABgVcIDQAEAAICECQJAAQAAwJXGA0ABAAAAjhEAQAAAAGBOBwBAAAAA4Pf5AUAAAABAwtf/PwAAAAC5LgBAAAAAQB4JBEAAAAAg4uwBQAAAACD7ywNAAQAA4JagA0AAAADAXysDQAAAAGBShANAAAAAgA3LAkAAAAAgta4EQAAAAEA3pwNAAAAAgO7YA0ABAACgysYEQAAAAGBm4wJAAAAAADYJA0AAAADAalgEQAAAACBh1gNAAAAAoFCEAkAAAACgeEACQAAAAAADBARAAAAAAJvMAkAAAAAA+lEDQAAAAMAfNQNAAAAAgKATA0AAAADAnAQEQAAAACBK6gRAAAAA4FTIA0AAAADA9v4DQAEAAADJhQVAAAAAwNNqBkAAAACAudsCQAAAAMCIuQJAAAAAYP3+A0AAAAAgulsEQAAAAKC+iAZAAAAAgGtu/z8AAADgwZgFQAAAAIDtDARAAAAAoFDYBEAAAADA8ekAQAAAAKC5EwVAAAAAwMDuA0AAAAAgVtEEQAAAACCjMgRAAAAAYNHNBEAAAAAA/5MFQAAAAGBA9ANAAAAAIAAkBUAAAABglTkFQAAAAODPJQZAAAAAAD0FA0AAAADA6uICQAEAAKCVwgNAAAAAgAFmA0AAAADgHNcEQAEAACDyAQNAAAAAgL2BBEAAAADAylkDQAAAAAC+cQRAAAAAgKShBEAAAABAiB8EQAAAAIDPiwVAAAAAgM5G/z8=\"},\"shape\":[100],\"dtype\":\"float64\",\"order\":\"little\"}],[\"Difference (Seconds)\",{\"type\":\"ndarray\",\"array\":{\"type\":\"bytes\",\"data\":\"/v///wCu5D8AAACAwzfpP/7///8iguE/AAAAAJno6j8CAACA8/7uPwAAAICYEvE//v///y1g4j8AAACAC5bxP/z///+mte8/AAAAAAM78T/+//9/JyTsPwAAAEDXEvI/AQAAgAHI8T8AAABAJvLzPwEAAEAGVvI/AAAAAFUe5j8AAAAAxGDEPwAAAIBn0eo/AgAAgELh7D8AAACA/BjvPwAAAADeG+s/AAAAwEiN8T8AAAAAiqfsPwAAAACMS+8/AAAAAKbg8D////8/QefwPwAAAID5BOw/AAAAgPOA7j8AAAAAUv3yPwAAAADrVPA/AAAAAGxd8D8BAADAEz/0PwIAAAACHfQ/AgAAwFs79D8EAACArW7vPwAAAIBvYe0/AAAAwK0M9D8AAAAADl7vPwAAAIBba/A/AAAAAH2h9z8AAAAAa0PwP////z+IbPM/AgAAQGwH9D8AAAAAbPX3PwEAAIBBgvQ/AAAAgCzX8j8AAACAaQb5PwAAAACQqfQ/AAAAwPsu9j8CAAAAayH1PwAAAIDCQ/Y/AAAAwM7h8j8AAADASB/1PwAAAIDhyfY/AQAAQAxE8T8AAADAUMvwPwAAAMAyiPY/AAAAwLKG8z8BAADAzo7zPwAAAMCHCvQ//////1d69T8AAACA8i3zP////3/6TPY/AAAAQC8H9D////9/QaPzPwEAAEB1QvY/AAAAgH3s9z8AAABA6Bz0PwAAAICZh/I/AAAAwEri8j8AAABA6ub2PwAAAAALhfo/AAAAwKtG8D8AAAAA5oD4PwAAAMCDA/Q/AAAAwK0I+D8AAABA+8jwPwAAAECp2/Y/AAAAAN3n8z8BAABAWtn0PwAAAIDL8fU/AAAAwB429D8AAABAcxD2PwAAAMBoA/c/AAAAgNDP9j8AAAAACWz0PwAAAMBi2fc/AAAAgN2n8z8AAAAAt7HyPwIAAAAT6/M/AAAAgMBv8j8AAABAvIX4PwIAAMDg0/E/AAAAgBbP9j8AAABAAcn0PwAAAICUovU/AAAAACm29T8AAABARHn1PwAAAIByVPw/AAAAgCYi6D8=\"},\"shape\":[100],\"dtype\":\"float64\",\"order\":\"little\"}]]}}},\"view\":{\"type\":\"object\",\"name\":\"CDSView\",\"id\":\"p1344\",\"attributes\":{\"filter\":{\"type\":\"object\",\"name\":\"AllIndices\",\"id\":\"p1345\"}}},\"glyph\":{\"type\":\"object\",\"name\":\"Circle\",\"id\":\"p1340\",\"attributes\":{\"x\":{\"type\":\"field\",\"field\":\"Number of Edges\"},\"y\":{\"type\":\"field\",\"field\":\"Difference (Seconds)\"},\"line_color\":{\"type\":\"value\",\"value\":\"#1f77b4\"},\"fill_color\":{\"type\":\"value\",\"value\":\"#1f77b4\"}}},\"nonselection_glyph\":{\"type\":\"object\",\"name\":\"Circle\",\"id\":\"p1341\",\"attributes\":{\"x\":{\"type\":\"field\",\"field\":\"Number of Edges\"},\"y\":{\"type\":\"field\",\"field\":\"Difference (Seconds)\"},\"line_color\":{\"type\":\"value\",\"value\":\"#1f77b4\"},\"line_alpha\":{\"type\":\"value\",\"value\":0.1},\"fill_color\":{\"type\":\"value\",\"value\":\"#1f77b4\"},\"fill_alpha\":{\"type\":\"value\",\"value\":0.1},\"hatch_alpha\":{\"type\":\"value\",\"value\":0.1}}},\"muted_glyph\":{\"type\":\"object\",\"name\":\"Circle\",\"id\":\"p1342\",\"attributes\":{\"x\":{\"type\":\"field\",\"field\":\"Number of Edges\"},\"y\":{\"type\":\"field\",\"field\":\"Difference (Seconds)\"},\"line_color\":{\"type\":\"value\",\"value\":\"#1f77b4\"},\"line_alpha\":{\"type\":\"value\",\"value\":0.2},\"fill_color\":{\"type\":\"value\",\"value\":\"#1f77b4\"},\"fill_alpha\":{\"type\":\"value\",\"value\":0.2},\"hatch_alpha\":{\"type\":\"value\",\"value\":0.2}}}}}],\"toolbar\":{\"type\":\"object\",\"name\":\"Toolbar\",\"id\":\"p1310\",\"attributes\":{\"tools\":[{\"type\":\"object\",\"name\":\"PanTool\",\"id\":\"p1323\"},{\"type\":\"object\",\"name\":\"WheelZoomTool\",\"id\":\"p1324\",\"attributes\":{\"renderers\":\"auto\"}},{\"type\":\"object\",\"name\":\"BoxZoomTool\",\"id\":\"p1325\",\"attributes\":{\"overlay\":{\"type\":\"object\",\"name\":\"BoxAnnotation\",\"id\":\"p1326\",\"attributes\":{\"syncable\":false,\"level\":\"overlay\",\"visible\":false,\"left\":{\"type\":\"number\",\"value\":\"nan\"},\"right\":{\"type\":\"number\",\"value\":\"nan\"},\"top\":{\"type\":\"number\",\"value\":\"nan\"},\"bottom\":{\"type\":\"number\",\"value\":\"nan\"},\"left_units\":\"canvas\",\"right_units\":\"canvas\",\"top_units\":\"canvas\",\"bottom_units\":\"canvas\",\"line_color\":\"black\",\"line_alpha\":1.0,\"line_width\":2,\"line_dash\":[4,4],\"fill_color\":\"lightgrey\",\"fill_alpha\":0.5}}}},{\"type\":\"object\",\"name\":\"SaveTool\",\"id\":\"p1331\"},{\"type\":\"object\",\"name\":\"ResetTool\",\"id\":\"p1332\"},{\"type\":\"object\",\"name\":\"HelpTool\",\"id\":\"p1333\"}]}},\"left\":[{\"type\":\"object\",\"name\":\"LinearAxis\",\"id\":\"p1318\",\"attributes\":{\"ticker\":{\"type\":\"object\",\"name\":\"BasicTicker\",\"id\":\"p1319\",\"attributes\":{\"mantissas\":[1,2,5]}},\"formatter\":{\"type\":\"object\",\"name\":\"BasicTickFormatter\",\"id\":\"p1320\"},\"axis_label\":\"Difference (Seconds)\",\"major_label_policy\":{\"type\":\"object\",\"name\":\"AllLabels\",\"id\":\"p1321\"}}}],\"below\":[{\"type\":\"object\",\"name\":\"LinearAxis\",\"id\":\"p1313\",\"attributes\":{\"ticker\":{\"type\":\"object\",\"name\":\"BasicTicker\",\"id\":\"p1314\",\"attributes\":{\"mantissas\":[1,2,5]}},\"formatter\":{\"type\":\"object\",\"name\":\"BasicTickFormatter\",\"id\":\"p1315\"},\"axis_label\":\"Number of Edges\",\"major_label_policy\":{\"type\":\"object\",\"name\":\"AllLabels\",\"id\":\"p1316\"}}}],\"center\":[{\"type\":\"object\",\"name\":\"Grid\",\"id\":\"p1317\",\"attributes\":{\"axis\":{\"id\":\"p1313\"}}},{\"type\":\"object\",\"name\":\"Grid\",\"id\":\"p1322\",\"attributes\":{\"dimension\":1,\"axis\":{\"id\":\"p1318\"}}}]}}]}};\n",
       "  const render_items = [{\"docid\":\"5519b1eb-bffb-468b-809a-3a25ce63724c\",\"roots\":{\"p1302\":\"d1bf9df5-6aac-4075-828a-593e160956fa\"},\"root_ids\":[\"p1302\"]}];\n",
       "  root.Bokeh.embed.embed_items_notebook(docs_json, render_items);\n",
       "  }\n",
       "  if (root.Bokeh !== undefined) {\n",
       "    embed_document(root);\n",
       "  } else {\n",
       "    let attempts = 0;\n",
       "    const timer = setInterval(function(root) {\n",
       "      if (root.Bokeh !== undefined) {\n",
       "        clearInterval(timer);\n",
       "        embed_document(root);\n",
       "      } else {\n",
       "        attempts++;\n",
       "        if (attempts > 100) {\n",
       "          clearInterval(timer);\n",
       "          console.log(\"Bokeh: ERROR: Unable to run BokehJS code because BokehJS library is missing\");\n",
       "        }\n",
       "      }\n",
       "    }, 10, root)\n",
       "  }\n",
       "})(window);"
      ],
      "application/vnd.bokehjs_exec.v0+json": ""
     },
     "metadata": {
      "application/vnd.bokehjs_exec.v0+json": {
       "id": "p1302"
      }
     },
     "output_type": "display_data"
    }
   ],
   "source": [
    "x = \"Number of Edges\"\n",
    "y = \"Difference (Seconds)\"\n",
    "p = bokeh.plotting.figure(\n",
    "    width=400,\n",
    "    height=300,\n",
    "    x_axis_label=x,\n",
    "    y_axis_label=y,\n",
    ")\n",
    "p.circle(\n",
    "    source=diff,\n",
    "    x=x,\n",
    "    y=y,\n",
    ")\n",
    "bokeh.io.show(p)"
   ]
  },
  {
   "cell_type": "code",
   "execution_count": 11,
   "id": "c1f4e7e2-cbaf-4479-a07e-c0cdf18d8002",
   "metadata": {},
   "outputs": [],
   "source": [
    "effects = pd.read_csv('WisconsinGraphRuntimes.csv')\n",
    "effects = effects.drop(['Average Runtime', 'Unnamed: 0', 'Data'], axis=1)\n",
    "effects = effects.rename({'# Edges': 'Number of Edges', 'Full Runtime': 'Runtime (Seconds)'}, axis=1)\n",
    "gnn = effects[effects['Explainer'] == 'GNN']\n",
    "gnn = gnn.rename({'Runtime (Seconds)': 'GNN Runtime (Seconds)'}, axis=1)\n",
    "gnn = gnn.drop(['Explainer'], axis=1)\n",
    "beta = effects[effects['Explainer'] == 'Beta']\n",
    "beta = beta.rename({'Runtime (Seconds)': 'Beta Runtime (Seconds)'}, axis=1)\n",
    "beta = beta.drop(['Explainer'], axis=1)\n",
    "diff = pd.merge(gnn, beta, how=\"right\", on=[\"# Epochs\",'Number of Edges'])\n",
    "diff['Difference (Seconds)'] = diff['Beta Runtime (Seconds)'] - diff['GNN Runtime (Seconds)']"
   ]
  },
  {
   "cell_type": "code",
   "execution_count": 12,
   "id": "49f340ab-c1f4-4179-8496-99f70e4d5980",
   "metadata": {
    "jupyter": {
     "source_hidden": true
    },
    "scrolled": true
   },
   "outputs": [
    {
     "data": {
      "text/html": [
       "\n",
       "  <div id=\"e6f05195-9874-4393-b2ac-7490bf838445\" data-root-id=\"p1352\" style=\"display: contents;\"></div>\n"
      ]
     },
     "metadata": {},
     "output_type": "display_data"
    },
    {
     "data": {
      "application/javascript": [
       "(function(root) {\n",
       "  function embed_document(root) {\n",
       "  const docs_json = {\"249cb84d-07e3-4823-85e6-f68a93411697\":{\"version\":\"3.3.4\",\"title\":\"Bokeh Application\",\"roots\":[{\"type\":\"object\",\"name\":\"Figure\",\"id\":\"p1352\",\"attributes\":{\"width\":400,\"height\":300,\"x_range\":{\"type\":\"object\",\"name\":\"DataRange1d\",\"id\":\"p1353\"},\"y_range\":{\"type\":\"object\",\"name\":\"DataRange1d\",\"id\":\"p1354\"},\"x_scale\":{\"type\":\"object\",\"name\":\"LinearScale\",\"id\":\"p1361\"},\"y_scale\":{\"type\":\"object\",\"name\":\"LinearScale\",\"id\":\"p1362\"},\"title\":{\"type\":\"object\",\"name\":\"Title\",\"id\":\"p1359\"},\"renderers\":[{\"type\":\"object\",\"name\":\"GlyphRenderer\",\"id\":\"p1393\",\"attributes\":{\"data_source\":{\"type\":\"object\",\"name\":\"ColumnDataSource\",\"id\":\"p1384\",\"attributes\":{\"selected\":{\"type\":\"object\",\"name\":\"Selection\",\"id\":\"p1385\",\"attributes\":{\"indices\":[],\"line_indices\":[]}},\"selection_policy\":{\"type\":\"object\",\"name\":\"UnionRenderers\",\"id\":\"p1386\"},\"data\":{\"type\":\"map\",\"entries\":[[\"index\",{\"type\":\"ndarray\",\"array\":{\"type\":\"bytes\",\"data\":\"AAAAAAIAAAAEAAAABgAAAAgAAAAKAAAADAAAAA4AAAAQAAAAEgAAABQAAAAWAAAAGAAAABoAAAAcAAAAHgAAACAAAAAiAAAAJAAAACYAAAAoAAAAKgAAACwAAAAuAAAAMAAAADIAAAA0AAAANgAAADgAAAA6AAAAPAAAAD4AAABAAAAAQgAAAEQAAABGAAAASAAAAEoAAABMAAAATgAAAFAAAABSAAAAVAAAAFYAAABYAAAAWgAAAFwAAABeAAAAYAAAAGIAAABkAAAAZgAAAGgAAABqAAAAbAAAAG4AAABwAAAAcgAAAHQAAAB2AAAAeAAAAHoAAAB8AAAAfgAAAIAAAACCAAAAhAAAAIYAAACIAAAAigAAAIwAAACOAAAAkAAAAJIAAACUAAAAlgAAAJgAAACaAAAAnAAAAJ4AAACgAAAAogAAAKQAAACmAAAAqAAAAKoAAACsAAAArgAAALAAAACyAAAAtAAAALYAAAC4AAAAugAAALwAAAC+AAAAwAAAAMIAAADEAAAAxgAAAA==\"},\"shape\":[100],\"dtype\":\"int32\",\"order\":\"little\"}],[\"Explainer\",{\"type\":\"ndarray\",\"array\":[\"Beta\",\"Beta\",\"Beta\",\"Beta\",\"Beta\",\"Beta\",\"Beta\",\"Beta\",\"Beta\",\"Beta\",\"Beta\",\"Beta\",\"Beta\",\"Beta\",\"Beta\",\"Beta\",\"Beta\",\"Beta\",\"Beta\",\"Beta\",\"Beta\",\"Beta\",\"Beta\",\"Beta\",\"Beta\",\"Beta\",\"Beta\",\"Beta\",\"Beta\",\"Beta\",\"Beta\",\"Beta\",\"Beta\",\"Beta\",\"Beta\",\"Beta\",\"Beta\",\"Beta\",\"Beta\",\"Beta\",\"Beta\",\"Beta\",\"Beta\",\"Beta\",\"Beta\",\"Beta\",\"Beta\",\"Beta\",\"Beta\",\"Beta\",\"Beta\",\"Beta\",\"Beta\",\"Beta\",\"Beta\",\"Beta\",\"Beta\",\"Beta\",\"Beta\",\"Beta\",\"Beta\",\"Beta\",\"Beta\",\"Beta\",\"Beta\",\"Beta\",\"Beta\",\"Beta\",\"Beta\",\"Beta\",\"Beta\",\"Beta\",\"Beta\",\"Beta\",\"Beta\",\"Beta\",\"Beta\",\"Beta\",\"Beta\",\"Beta\",\"Beta\",\"Beta\",\"Beta\",\"Beta\",\"Beta\",\"Beta\",\"Beta\",\"Beta\",\"Beta\",\"Beta\",\"Beta\",\"Beta\",\"Beta\",\"Beta\",\"Beta\",\"Beta\",\"Beta\",\"Beta\",\"Beta\",\"Beta\"],\"shape\":[100],\"dtype\":\"object\",\"order\":\"little\"}],[\"# Epochs\",{\"type\":\"ndarray\",\"array\":{\"type\":\"bytes\",\"data\":\"MgAAADIAAAAyAAAAMgAAADIAAAAyAAAAMgAAADIAAAAyAAAAMgAAADIAAAAyAAAAMgAAADIAAAAyAAAAMgAAADIAAAAyAAAAMgAAADIAAAAyAAAAMgAAADIAAAAyAAAAMgAAADIAAAAyAAAAMgAAADIAAAAyAAAAMgAAADIAAAAyAAAAMgAAADIAAAAyAAAAMgAAADIAAAAyAAAAMgAAADIAAAAyAAAAMgAAADIAAAAyAAAAMgAAADIAAAAyAAAAMgAAADIAAAAyAAAAMgAAADIAAAAyAAAAMgAAADIAAAAyAAAAMgAAADIAAAAyAAAAMgAAADIAAAAyAAAAMgAAADIAAAAyAAAAMgAAADIAAAAyAAAAMgAAADIAAAAyAAAAMgAAADIAAAAyAAAAMgAAADIAAAAyAAAAMgAAADIAAAAyAAAAMgAAADIAAAAyAAAAMgAAADIAAAAyAAAAMgAAADIAAAAyAAAAMgAAADIAAAAyAAAAMgAAADIAAAAyAAAAMgAAADIAAAAyAAAAMgAAAA==\"},\"shape\":[100],\"dtype\":\"int32\",\"order\":\"little\"}],[\"Runtime (Seconds)\",{\"type\":\"ndarray\",\"array\":{\"type\":\"bytes\",\"data\":\"AQAAgEtJ7j////+/BeDwPwAAAEBCu/Q//////9rz7j8AAACA75rxPwAAAMD9g/E/AAAAgG779T8AAADAgc/1PwAAAMBsCvY/AAAAANr/9D8AAAAACI32PwAAAADKL/Y/AQAAwByW+j//////kRv1PwAAAMAN+fI/AQAAAOvu+D8BAADAELD9PwAAAIA9E/4/AAAAQB+J+D8AAAAAa88AQAEAAEAuIQFAAAAAAAiaAUABAADA2xn/PwAAAMDr9/0/AAAAoC4FAUAAAABA8az6PwAAACBIlgFAAAAAgDe8AUAAAAAgRy8BQAAAAOCOrwNAAAAAAEMZBUAAAAAgLm8DQAAAAKBpCAVAAAAAAE/0B0AAAACAIrX7PwAAAAAuzABAAQAA4P0LAEAAAAAA4Lz+PwAAAEBXxANAAQAA4Nt6BkAAAAAgX/gDQAAAAMAcTgZAAAAAwB11BEAAAACgwwAGQAAAAAC23wVAAAAA4OZAAkABAADgluMCQAAAAMCK+wJAAAAAQCTTAEAAAACgBNMHQAAAACAKmQlAAAAAwJNECUABAADA1S4IQAAAAIApsQRAAAAA4HJeCEABAACgT2sKQAAAAIBqJgxAAAAAAA3eDEABAABA2qwMQAAAAAC6cwtAAAAAgB+hC0AAAADgrb0MQP///58B/g1AAAAAIIyjDEAAAACgItcNQAAAAMDfhQ5AAQAAQP3mDUAAAADAjoENQAAAAGAyyA5AAAAAQAn3DUABAACgRe0MQAAAAABRzwxAAAAAABWaCUABAABg9EkNQP/////Rrw1AAAAA4FPYDEAAAADAbaINQAAAAED86w5AAAAA4BhgDkAAAACgzlENQAAAAICeOw5AAQAA4IsgD0ABAABAY2AOQAAAAGC/5xBAAAAAkJ7dEEAAAADAr+gPQAAAAFASZBBAAAAA4GrhD0AAAAAAGpYOQAAAABBBkxFAAAAAEPmWEUAAAAAwztYRQAAAADBlWRJAAAAAoAfEEUAAAADwIGsQQAAAAOABRxJAAAAAUGp7E0AAAAAwMmISQAAAAACKYhJAAAAAAAETEkA=\"},\"shape\":[100],\"dtype\":\"float64\",\"order\":\"little\"}],[\"Number of Edges\",{\"type\":\"ndarray\",\"array\":{\"type\":\"bytes\",\"data\":\"MgAAAGQAAACWAAAAyAAAAPoAAAAsAQAAXgEAAJABAADCAQAA9AEAACYCAABYAgAAigIAALwCAADuAgAAIAMAAFIDAACEAwAAtgMAAOgDAAAaBAAATAQAAH4EAACwBAAA4gQAABQFAABGBQAAeAUAAKoFAADcBQAADgYAAEAGAAByBgAApAYAANYGAAAIBwAAOgcAAGwHAACeBwAA0AcAAAIIAAA0CAAAZggAAJgIAADKCAAA/AgAAC4JAABgCQAAkgkAAMQJAAD2CQAAKAoAAFoKAACMCgAAvgoAAPAKAAAiCwAAVAsAAIYLAAC4CwAA6gsAABwMAABODAAAgAwAALIMAADkDAAAFg0AAEgNAAB6DQAArA0AAN4NAAAQDgAAQg4AAHQOAACmDgAA2A4AAAoPAAA8DwAAbg8AAKAPAADSDwAABBAAADYQAABoEAAAmhAAAMwQAAD+EAAAMBEAAGIRAACUEQAAxhEAAPgRAAAqEgAAXBIAAI4SAADAEgAA8hIAACQTAABWEwAAiBMAAA==\"},\"shape\":[100],\"dtype\":\"int32\",\"order\":\"little\"}]]}}},\"view\":{\"type\":\"object\",\"name\":\"CDSView\",\"id\":\"p1394\",\"attributes\":{\"filter\":{\"type\":\"object\",\"name\":\"AllIndices\",\"id\":\"p1395\"}}},\"glyph\":{\"type\":\"object\",\"name\":\"Circle\",\"id\":\"p1390\",\"attributes\":{\"x\":{\"type\":\"field\",\"field\":\"Number of Edges\"},\"y\":{\"type\":\"field\",\"field\":\"Runtime (Seconds)\"},\"line_color\":{\"type\":\"value\",\"value\":\"#1f77b4\"},\"fill_color\":{\"type\":\"value\",\"value\":\"#1f77b4\"}}},\"nonselection_glyph\":{\"type\":\"object\",\"name\":\"Circle\",\"id\":\"p1391\",\"attributes\":{\"x\":{\"type\":\"field\",\"field\":\"Number of Edges\"},\"y\":{\"type\":\"field\",\"field\":\"Runtime (Seconds)\"},\"line_color\":{\"type\":\"value\",\"value\":\"#1f77b4\"},\"line_alpha\":{\"type\":\"value\",\"value\":0.1},\"fill_color\":{\"type\":\"value\",\"value\":\"#1f77b4\"},\"fill_alpha\":{\"type\":\"value\",\"value\":0.1},\"hatch_alpha\":{\"type\":\"value\",\"value\":0.1}}},\"muted_glyph\":{\"type\":\"object\",\"name\":\"Circle\",\"id\":\"p1392\",\"attributes\":{\"x\":{\"type\":\"field\",\"field\":\"Number of Edges\"},\"y\":{\"type\":\"field\",\"field\":\"Runtime (Seconds)\"},\"line_color\":{\"type\":\"value\",\"value\":\"#1f77b4\"},\"line_alpha\":{\"type\":\"value\",\"value\":0.2},\"fill_color\":{\"type\":\"value\",\"value\":\"#1f77b4\"},\"fill_alpha\":{\"type\":\"value\",\"value\":0.2},\"hatch_alpha\":{\"type\":\"value\",\"value\":0.2}}}}},{\"type\":\"object\",\"name\":\"GlyphRenderer\",\"id\":\"p1407\",\"attributes\":{\"data_source\":{\"type\":\"object\",\"name\":\"ColumnDataSource\",\"id\":\"p1398\",\"attributes\":{\"selected\":{\"type\":\"object\",\"name\":\"Selection\",\"id\":\"p1399\",\"attributes\":{\"indices\":[],\"line_indices\":[]}},\"selection_policy\":{\"type\":\"object\",\"name\":\"UnionRenderers\",\"id\":\"p1400\"},\"data\":{\"type\":\"map\",\"entries\":[[\"index\",{\"type\":\"ndarray\",\"array\":{\"type\":\"bytes\",\"data\":\"AQAAAAMAAAAFAAAABwAAAAkAAAALAAAADQAAAA8AAAARAAAAEwAAABUAAAAXAAAAGQAAABsAAAAdAAAAHwAAACEAAAAjAAAAJQAAACcAAAApAAAAKwAAAC0AAAAvAAAAMQAAADMAAAA1AAAANwAAADkAAAA7AAAAPQAAAD8AAABBAAAAQwAAAEUAAABHAAAASQAAAEsAAABNAAAATwAAAFEAAABTAAAAVQAAAFcAAABZAAAAWwAAAF0AAABfAAAAYQAAAGMAAABlAAAAZwAAAGkAAABrAAAAbQAAAG8AAABxAAAAcwAAAHUAAAB3AAAAeQAAAHsAAAB9AAAAfwAAAIEAAACDAAAAhQAAAIcAAACJAAAAiwAAAI0AAACPAAAAkQAAAJMAAACVAAAAlwAAAJkAAACbAAAAnQAAAJ8AAAChAAAAowAAAKUAAACnAAAAqQAAAKsAAACtAAAArwAAALEAAACzAAAAtQAAALcAAAC5AAAAuwAAAL0AAAC/AAAAwQAAAMMAAADFAAAAxwAAAA==\"},\"shape\":[100],\"dtype\":\"int32\",\"order\":\"little\"}],[\"Explainer\",{\"type\":\"ndarray\",\"array\":[\"GNN\",\"GNN\",\"GNN\",\"GNN\",\"GNN\",\"GNN\",\"GNN\",\"GNN\",\"GNN\",\"GNN\",\"GNN\",\"GNN\",\"GNN\",\"GNN\",\"GNN\",\"GNN\",\"GNN\",\"GNN\",\"GNN\",\"GNN\",\"GNN\",\"GNN\",\"GNN\",\"GNN\",\"GNN\",\"GNN\",\"GNN\",\"GNN\",\"GNN\",\"GNN\",\"GNN\",\"GNN\",\"GNN\",\"GNN\",\"GNN\",\"GNN\",\"GNN\",\"GNN\",\"GNN\",\"GNN\",\"GNN\",\"GNN\",\"GNN\",\"GNN\",\"GNN\",\"GNN\",\"GNN\",\"GNN\",\"GNN\",\"GNN\",\"GNN\",\"GNN\",\"GNN\",\"GNN\",\"GNN\",\"GNN\",\"GNN\",\"GNN\",\"GNN\",\"GNN\",\"GNN\",\"GNN\",\"GNN\",\"GNN\",\"GNN\",\"GNN\",\"GNN\",\"GNN\",\"GNN\",\"GNN\",\"GNN\",\"GNN\",\"GNN\",\"GNN\",\"GNN\",\"GNN\",\"GNN\",\"GNN\",\"GNN\",\"GNN\",\"GNN\",\"GNN\",\"GNN\",\"GNN\",\"GNN\",\"GNN\",\"GNN\",\"GNN\",\"GNN\",\"GNN\",\"GNN\",\"GNN\",\"GNN\",\"GNN\",\"GNN\",\"GNN\",\"GNN\",\"GNN\",\"GNN\",\"GNN\"],\"shape\":[100],\"dtype\":\"object\",\"order\":\"little\"}],[\"# Epochs\",{\"type\":\"ndarray\",\"array\":{\"type\":\"bytes\",\"data\":\"MgAAADIAAAAyAAAAMgAAADIAAAAyAAAAMgAAADIAAAAyAAAAMgAAADIAAAAyAAAAMgAAADIAAAAyAAAAMgAAADIAAAAyAAAAMgAAADIAAAAyAAAAMgAAADIAAAAyAAAAMgAAADIAAAAyAAAAMgAAADIAAAAyAAAAMgAAADIAAAAyAAAAMgAAADIAAAAyAAAAMgAAADIAAAAyAAAAMgAAADIAAAAyAAAAMgAAADIAAAAyAAAAMgAAADIAAAAyAAAAMgAAADIAAAAyAAAAMgAAADIAAAAyAAAAMgAAADIAAAAyAAAAMgAAADIAAAAyAAAAMgAAADIAAAAyAAAAMgAAADIAAAAyAAAAMgAAADIAAAAyAAAAMgAAADIAAAAyAAAAMgAAADIAAAAyAAAAMgAAADIAAAAyAAAAMgAAADIAAAAyAAAAMgAAADIAAAAyAAAAMgAAADIAAAAyAAAAMgAAADIAAAAyAAAAMgAAADIAAAAyAAAAMgAAADIAAAAyAAAAMgAAADIAAAAyAAAAMgAAAA==\"},\"shape\":[100],\"dtype\":\"int32\",\"order\":\"little\"}],[\"Runtime (Seconds)\",{\"type\":\"ndarray\",\"array\":{\"type\":\"bytes\",\"data\":\"AAAAgJKa4T8AAACAeNvlPwAAAIB7VOs/AAAAgHzn5D8AAAAAmGnwPwAAAADeVeo/AAAAgEWI6j8AAAAAuTztPwAAAIA5C+s/AAAAALgM7D8AAAAAdTftPwEAAACl+e0/AAAAAAgD8T8AAAAAR53pPwAAAAAC2u4/AAAAgNyU8T8AAACAaD7uPwAAAECpdfA/AAAAQDvX8z8AAADAezT1PwEAAEA4hvY/AAAAgMY/8z8AAACAQMzxPwAAAMDj4PM/AAAAAE7C+T8AAABA3av4PwAAAEBIzfs/AAAAQP8K/D8AAADAgG71PwAAAEAI/Pc/AAAAgI8V/D8AAAAAG932P////78Fs/c/////v4YQ/D8AAAAARpHvP/////8Tse8/AAAAwDQ38D////+/AonxPwAAAIDbpPo/AAAAAEiu9z8BAABAOdb5PwAAAMDdL/0/AAAAgA7m+j8AAACAgtP7PwAAAEB1cvg/AQAAgMn6+j8AAAAAcfT2PwAAAEBEQv0/AAAAgCp++T8AAACA6Qf9PwAAAGC/6gFAAAAAwHOu/T8AAACAhWT7P////79Dyf0/AAAAAMwc+z8AAAAAy+j9PwAAAMBgfwBA////v4MI/j8AAADAAWgAQAAAAEBQbgFAAAAAwFTAAEAAAAAgJtwBQAAAAMBi9QFAAAAAQLV4AUAAAAAAMZUCQAAAAECpbwJAAAAAgJcHA0AAAABALI8CQAAAAEDTSwNAAAAAIKteAkAAAABAvowBQAAAAACvUwNAAAAA4Gc0A0AAAABgy0YBQAAAACA0SwJAAAAAwMhtA0ABAABg/pIDQAAAAKBwCgRAAAAAwPjYBEABAAAg8owEQAAAACC7sQBAAAAAANMpA0AAAADgLnwCQAAAAIDNWgJAAAAAoEY7BEABAADg1twDQAAAAOBA4QVAAAAAoFZsAkAAAABAjGcGQAEAAABnWwZAAQAAoMrdBkAAAAAgfZQFQAAAAIDgJQdAAAAAoJfOBUAAAAAAtj8CQAAAAMCp3wZAAAAAQDVMBkAAAABgyDYGQAAAAACR9wVAAQAAQNrSA0A=\"},\"shape\":[100],\"dtype\":\"float64\",\"order\":\"little\"}],[\"Number of Edges\",{\"type\":\"ndarray\",\"array\":{\"type\":\"bytes\",\"data\":\"MgAAAGQAAACWAAAAyAAAAPoAAAAsAQAAXgEAAJABAADCAQAA9AEAACYCAABYAgAAigIAALwCAADuAgAAIAMAAFIDAACEAwAAtgMAAOgDAAAaBAAATAQAAH4EAACwBAAA4gQAABQFAABGBQAAeAUAAKoFAADcBQAADgYAAEAGAAByBgAApAYAANYGAAAIBwAAOgcAAGwHAACeBwAA0AcAAAIIAAA0CAAAZggAAJgIAADKCAAA/AgAAC4JAABgCQAAkgkAAMQJAAD2CQAAKAoAAFoKAACMCgAAvgoAAPAKAAAiCwAAVAsAAIYLAAC4CwAA6gsAABwMAABODAAAgAwAALIMAADkDAAAFg0AAEgNAAB6DQAArA0AAN4NAAAQDgAAQg4AAHQOAACmDgAA2A4AAAoPAAA8DwAAbg8AAKAPAADSDwAABBAAADYQAABoEAAAmhAAAMwQAAD+EAAAMBEAAGIRAACUEQAAxhEAAPgRAAAqEgAAXBIAAI4SAADAEgAA8hIAACQTAABWEwAAiBMAAA==\"},\"shape\":[100],\"dtype\":\"int32\",\"order\":\"little\"}]]}}},\"view\":{\"type\":\"object\",\"name\":\"CDSView\",\"id\":\"p1408\",\"attributes\":{\"filter\":{\"type\":\"object\",\"name\":\"AllIndices\",\"id\":\"p1409\"}}},\"glyph\":{\"type\":\"object\",\"name\":\"Circle\",\"id\":\"p1404\",\"attributes\":{\"x\":{\"type\":\"field\",\"field\":\"Number of Edges\"},\"y\":{\"type\":\"field\",\"field\":\"Runtime (Seconds)\"},\"line_color\":{\"type\":\"value\",\"value\":\"orange\"},\"fill_color\":{\"type\":\"value\",\"value\":\"orange\"},\"hatch_color\":{\"type\":\"value\",\"value\":\"orange\"}}},\"nonselection_glyph\":{\"type\":\"object\",\"name\":\"Circle\",\"id\":\"p1405\",\"attributes\":{\"x\":{\"type\":\"field\",\"field\":\"Number of Edges\"},\"y\":{\"type\":\"field\",\"field\":\"Runtime (Seconds)\"},\"line_color\":{\"type\":\"value\",\"value\":\"orange\"},\"line_alpha\":{\"type\":\"value\",\"value\":0.1},\"fill_color\":{\"type\":\"value\",\"value\":\"orange\"},\"fill_alpha\":{\"type\":\"value\",\"value\":0.1},\"hatch_color\":{\"type\":\"value\",\"value\":\"orange\"},\"hatch_alpha\":{\"type\":\"value\",\"value\":0.1}}},\"muted_glyph\":{\"type\":\"object\",\"name\":\"Circle\",\"id\":\"p1406\",\"attributes\":{\"x\":{\"type\":\"field\",\"field\":\"Number of Edges\"},\"y\":{\"type\":\"field\",\"field\":\"Runtime (Seconds)\"},\"line_color\":{\"type\":\"value\",\"value\":\"orange\"},\"line_alpha\":{\"type\":\"value\",\"value\":0.2},\"fill_color\":{\"type\":\"value\",\"value\":\"orange\"},\"fill_alpha\":{\"type\":\"value\",\"value\":0.2},\"hatch_color\":{\"type\":\"value\",\"value\":\"orange\"},\"hatch_alpha\":{\"type\":\"value\",\"value\":0.2}}}}}],\"toolbar\":{\"type\":\"object\",\"name\":\"Toolbar\",\"id\":\"p1360\",\"attributes\":{\"tools\":[{\"type\":\"object\",\"name\":\"PanTool\",\"id\":\"p1373\"},{\"type\":\"object\",\"name\":\"WheelZoomTool\",\"id\":\"p1374\",\"attributes\":{\"renderers\":\"auto\"}},{\"type\":\"object\",\"name\":\"BoxZoomTool\",\"id\":\"p1375\",\"attributes\":{\"overlay\":{\"type\":\"object\",\"name\":\"BoxAnnotation\",\"id\":\"p1376\",\"attributes\":{\"syncable\":false,\"level\":\"overlay\",\"visible\":false,\"left\":{\"type\":\"number\",\"value\":\"nan\"},\"right\":{\"type\":\"number\",\"value\":\"nan\"},\"top\":{\"type\":\"number\",\"value\":\"nan\"},\"bottom\":{\"type\":\"number\",\"value\":\"nan\"},\"left_units\":\"canvas\",\"right_units\":\"canvas\",\"top_units\":\"canvas\",\"bottom_units\":\"canvas\",\"line_color\":\"black\",\"line_alpha\":1.0,\"line_width\":2,\"line_dash\":[4,4],\"fill_color\":\"lightgrey\",\"fill_alpha\":0.5}}}},{\"type\":\"object\",\"name\":\"SaveTool\",\"id\":\"p1381\"},{\"type\":\"object\",\"name\":\"ResetTool\",\"id\":\"p1382\"},{\"type\":\"object\",\"name\":\"HelpTool\",\"id\":\"p1383\"}]}},\"left\":[{\"type\":\"object\",\"name\":\"LinearAxis\",\"id\":\"p1368\",\"attributes\":{\"ticker\":{\"type\":\"object\",\"name\":\"BasicTicker\",\"id\":\"p1369\",\"attributes\":{\"mantissas\":[1,2,5]}},\"formatter\":{\"type\":\"object\",\"name\":\"BasicTickFormatter\",\"id\":\"p1370\"},\"axis_label\":\"Runtime (Seconds)\",\"major_label_policy\":{\"type\":\"object\",\"name\":\"AllLabels\",\"id\":\"p1371\"}}}],\"below\":[{\"type\":\"object\",\"name\":\"LinearAxis\",\"id\":\"p1363\",\"attributes\":{\"ticker\":{\"type\":\"object\",\"name\":\"BasicTicker\",\"id\":\"p1364\",\"attributes\":{\"mantissas\":[1,2,5]}},\"formatter\":{\"type\":\"object\",\"name\":\"BasicTickFormatter\",\"id\":\"p1365\"},\"axis_label\":\"Number of Edges\",\"major_label_policy\":{\"type\":\"object\",\"name\":\"AllLabels\",\"id\":\"p1366\"}}}],\"center\":[{\"type\":\"object\",\"name\":\"Grid\",\"id\":\"p1367\",\"attributes\":{\"axis\":{\"id\":\"p1363\"}}},{\"type\":\"object\",\"name\":\"Grid\",\"id\":\"p1372\",\"attributes\":{\"dimension\":1,\"axis\":{\"id\":\"p1368\"}}},{\"type\":\"object\",\"name\":\"Legend\",\"id\":\"p1396\",\"attributes\":{\"location\":\"top_left\",\"items\":[{\"type\":\"object\",\"name\":\"LegendItem\",\"id\":\"p1397\",\"attributes\":{\"label\":{\"type\":\"value\",\"value\":\"Beta\"},\"renderers\":[{\"id\":\"p1393\"}]}},{\"type\":\"object\",\"name\":\"LegendItem\",\"id\":\"p1410\",\"attributes\":{\"label\":{\"type\":\"value\",\"value\":\"GNN\"},\"renderers\":[{\"id\":\"p1407\"}]}}]}}]}}]}};\n",
       "  const render_items = [{\"docid\":\"249cb84d-07e3-4823-85e6-f68a93411697\",\"roots\":{\"p1352\":\"e6f05195-9874-4393-b2ac-7490bf838445\"},\"root_ids\":[\"p1352\"]}];\n",
       "  root.Bokeh.embed.embed_items_notebook(docs_json, render_items);\n",
       "  }\n",
       "  if (root.Bokeh !== undefined) {\n",
       "    embed_document(root);\n",
       "  } else {\n",
       "    let attempts = 0;\n",
       "    const timer = setInterval(function(root) {\n",
       "      if (root.Bokeh !== undefined) {\n",
       "        clearInterval(timer);\n",
       "        embed_document(root);\n",
       "      } else {\n",
       "        attempts++;\n",
       "        if (attempts > 100) {\n",
       "          clearInterval(timer);\n",
       "          console.log(\"Bokeh: ERROR: Unable to run BokehJS code because BokehJS library is missing\");\n",
       "        }\n",
       "      }\n",
       "    }, 10, root)\n",
       "  }\n",
       "})(window);"
      ],
      "application/vnd.bokehjs_exec.v0+json": ""
     },
     "metadata": {
      "application/vnd.bokehjs_exec.v0+json": {
       "id": "p1352"
      }
     },
     "output_type": "display_data"
    }
   ],
   "source": [
    "x = \"Number of Edges\"\n",
    "y = \"Runtime (Seconds)\"\n",
    "p = bokeh.plotting.figure(\n",
    "    width=400,\n",
    "    height=300,\n",
    "    x_axis_label=x,\n",
    "    y_axis_label=y,\n",
    ")\n",
    "p.circle(\n",
    "    source=effects[effects['Explainer'] == 'Beta'],\n",
    "    x=x,\n",
    "    y=y,\n",
    "    legend_label=\"Beta\",\n",
    ")\n",
    "p.circle(\n",
    "    source=effects[effects['Explainer'] == 'GNN'],\n",
    "    x=x,\n",
    "    y=y,\n",
    "    legend_label=\"GNN\",\n",
    "    color='orange'\n",
    ")\n",
    "p.legend.location = \"top_left\"\n",
    "bokeh.io.show(p)"
   ]
  },
  {
   "cell_type": "code",
   "execution_count": 13,
   "id": "066cc59d-ae27-49b0-b522-af635845abb8",
   "metadata": {
    "jupyter": {
     "source_hidden": true
    },
    "scrolled": true
   },
   "outputs": [
    {
     "data": {
      "text/html": [
       "\n",
       "  <div id=\"ebab356d-5d3b-4d85-8f43-38c5f1b0481c\" data-root-id=\"p1419\" style=\"display: contents;\"></div>\n"
      ]
     },
     "metadata": {},
     "output_type": "display_data"
    },
    {
     "data": {
      "application/javascript": [
       "(function(root) {\n",
       "  function embed_document(root) {\n",
       "  const docs_json = {\"a8e1a254-cde6-4924-b490-3064150b6b8c\":{\"version\":\"3.3.4\",\"title\":\"Bokeh Application\",\"roots\":[{\"type\":\"object\",\"name\":\"Figure\",\"id\":\"p1419\",\"attributes\":{\"width\":400,\"height\":300,\"x_range\":{\"type\":\"object\",\"name\":\"DataRange1d\",\"id\":\"p1420\"},\"y_range\":{\"type\":\"object\",\"name\":\"DataRange1d\",\"id\":\"p1421\"},\"x_scale\":{\"type\":\"object\",\"name\":\"LinearScale\",\"id\":\"p1428\"},\"y_scale\":{\"type\":\"object\",\"name\":\"LinearScale\",\"id\":\"p1429\"},\"title\":{\"type\":\"object\",\"name\":\"Title\",\"id\":\"p1426\"},\"renderers\":[{\"type\":\"object\",\"name\":\"GlyphRenderer\",\"id\":\"p1460\",\"attributes\":{\"data_source\":{\"type\":\"object\",\"name\":\"ColumnDataSource\",\"id\":\"p1451\",\"attributes\":{\"selected\":{\"type\":\"object\",\"name\":\"Selection\",\"id\":\"p1452\",\"attributes\":{\"indices\":[],\"line_indices\":[]}},\"selection_policy\":{\"type\":\"object\",\"name\":\"UnionRenderers\",\"id\":\"p1453\"},\"data\":{\"type\":\"map\",\"entries\":[[\"index\",{\"type\":\"ndarray\",\"array\":{\"type\":\"bytes\",\"data\":\"AAAAAAEAAAACAAAAAwAAAAQAAAAFAAAABgAAAAcAAAAIAAAACQAAAAoAAAALAAAADAAAAA0AAAAOAAAADwAAABAAAAARAAAAEgAAABMAAAAUAAAAFQAAABYAAAAXAAAAGAAAABkAAAAaAAAAGwAAABwAAAAdAAAAHgAAAB8AAAAgAAAAIQAAACIAAAAjAAAAJAAAACUAAAAmAAAAJwAAACgAAAApAAAAKgAAACsAAAAsAAAALQAAAC4AAAAvAAAAMAAAADEAAAAyAAAAMwAAADQAAAA1AAAANgAAADcAAAA4AAAAOQAAADoAAAA7AAAAPAAAAD0AAAA+AAAAPwAAAEAAAABBAAAAQgAAAEMAAABEAAAARQAAAEYAAABHAAAASAAAAEkAAABKAAAASwAAAEwAAABNAAAATgAAAE8AAABQAAAAUQAAAFIAAABTAAAAVAAAAFUAAABWAAAAVwAAAFgAAABZAAAAWgAAAFsAAABcAAAAXQAAAF4AAABfAAAAYAAAAGEAAABiAAAAYwAAAA==\"},\"shape\":[100],\"dtype\":\"int32\",\"order\":\"little\"}],[\"# Epochs\",{\"type\":\"ndarray\",\"array\":{\"type\":\"bytes\",\"data\":\"MgAAADIAAAAyAAAAMgAAADIAAAAyAAAAMgAAADIAAAAyAAAAMgAAADIAAAAyAAAAMgAAADIAAAAyAAAAMgAAADIAAAAyAAAAMgAAADIAAAAyAAAAMgAAADIAAAAyAAAAMgAAADIAAAAyAAAAMgAAADIAAAAyAAAAMgAAADIAAAAyAAAAMgAAADIAAAAyAAAAMgAAADIAAAAyAAAAMgAAADIAAAAyAAAAMgAAADIAAAAyAAAAMgAAADIAAAAyAAAAMgAAADIAAAAyAAAAMgAAADIAAAAyAAAAMgAAADIAAAAyAAAAMgAAADIAAAAyAAAAMgAAADIAAAAyAAAAMgAAADIAAAAyAAAAMgAAADIAAAAyAAAAMgAAADIAAAAyAAAAMgAAADIAAAAyAAAAMgAAADIAAAAyAAAAMgAAADIAAAAyAAAAMgAAADIAAAAyAAAAMgAAADIAAAAyAAAAMgAAADIAAAAyAAAAMgAAADIAAAAyAAAAMgAAADIAAAAyAAAAMgAAADIAAAAyAAAAMgAAAA==\"},\"shape\":[100],\"dtype\":\"int32\",\"order\":\"little\"}],[\"GNN Runtime (Seconds)\",{\"type\":\"ndarray\",\"array\":{\"type\":\"bytes\",\"data\":\"AAAAgJKa4T8AAACAeNvlPwAAAIB7VOs/AAAAgHzn5D8AAAAAmGnwPwAAAADeVeo/AAAAgEWI6j8AAAAAuTztPwAAAIA5C+s/AAAAALgM7D8AAAAAdTftPwEAAACl+e0/AAAAAAgD8T8AAAAAR53pPwAAAAAC2u4/AAAAgNyU8T8AAACAaD7uPwAAAECpdfA/AAAAQDvX8z8AAADAezT1PwEAAEA4hvY/AAAAgMY/8z8AAACAQMzxPwAAAMDj4PM/AAAAAE7C+T8AAABA3av4PwAAAEBIzfs/AAAAQP8K/D8AAADAgG71PwAAAEAI/Pc/AAAAgI8V/D8AAAAAG932P////78Fs/c/////v4YQ/D8AAAAARpHvP/////8Tse8/AAAAwDQ38D////+/AonxPwAAAIDbpPo/AAAAAEiu9z8BAABAOdb5PwAAAMDdL/0/AAAAgA7m+j8AAACAgtP7PwAAAEB1cvg/AQAAgMn6+j8AAAAAcfT2PwAAAEBEQv0/AAAAgCp++T8AAACA6Qf9PwAAAGC/6gFAAAAAwHOu/T8AAACAhWT7P////79Dyf0/AAAAAMwc+z8AAAAAy+j9PwAAAMBgfwBA////v4MI/j8AAADAAWgAQAAAAEBQbgFAAAAAwFTAAEAAAAAgJtwBQAAAAMBi9QFAAAAAQLV4AUAAAAAAMZUCQAAAAECpbwJAAAAAgJcHA0AAAABALI8CQAAAAEDTSwNAAAAAIKteAkAAAABAvowBQAAAAACvUwNAAAAA4Gc0A0AAAABgy0YBQAAAACA0SwJAAAAAwMhtA0ABAABg/pIDQAAAAKBwCgRAAAAAwPjYBEABAAAg8owEQAAAACC7sQBAAAAAANMpA0AAAADgLnwCQAAAAIDNWgJAAAAAoEY7BEABAADg1twDQAAAAOBA4QVAAAAAoFZsAkAAAABAjGcGQAEAAABnWwZAAQAAoMrdBkAAAAAgfZQFQAAAAIDgJQdAAAAAoJfOBUAAAAAAtj8CQAAAAMCp3wZAAAAAQDVMBkAAAABgyDYGQAAAAACR9wVAAQAAQNrSA0A=\"},\"shape\":[100],\"dtype\":\"float64\",\"order\":\"little\"}],[\"Number of Edges\",{\"type\":\"ndarray\",\"array\":{\"type\":\"bytes\",\"data\":\"MgAAAGQAAACWAAAAyAAAAPoAAAAsAQAAXgEAAJABAADCAQAA9AEAACYCAABYAgAAigIAALwCAADuAgAAIAMAAFIDAACEAwAAtgMAAOgDAAAaBAAATAQAAH4EAACwBAAA4gQAABQFAABGBQAAeAUAAKoFAADcBQAADgYAAEAGAAByBgAApAYAANYGAAAIBwAAOgcAAGwHAACeBwAA0AcAAAIIAAA0CAAAZggAAJgIAADKCAAA/AgAAC4JAABgCQAAkgkAAMQJAAD2CQAAKAoAAFoKAACMCgAAvgoAAPAKAAAiCwAAVAsAAIYLAAC4CwAA6gsAABwMAABODAAAgAwAALIMAADkDAAAFg0AAEgNAAB6DQAArA0AAN4NAAAQDgAAQg4AAHQOAACmDgAA2A4AAAoPAAA8DwAAbg8AAKAPAADSDwAABBAAADYQAABoEAAAmhAAAMwQAAD+EAAAMBEAAGIRAACUEQAAxhEAAPgRAAAqEgAAXBIAAI4SAADAEgAA8hIAACQTAABWEwAAiBMAAA==\"},\"shape\":[100],\"dtype\":\"int32\",\"order\":\"little\"}],[\"Beta Runtime (Seconds)\",{\"type\":\"ndarray\",\"array\":{\"type\":\"bytes\",\"data\":\"AQAAgEtJ7j////+/BeDwPwAAAEBCu/Q//////9rz7j8AAACA75rxPwAAAMD9g/E/AAAAgG779T8AAADAgc/1PwAAAMBsCvY/AAAAANr/9D8AAAAACI32PwAAAADKL/Y/AQAAwByW+j//////kRv1PwAAAMAN+fI/AQAAAOvu+D8BAADAELD9PwAAAIA9E/4/AAAAQB+J+D8AAAAAa88AQAEAAEAuIQFAAAAAAAiaAUABAADA2xn/PwAAAMDr9/0/AAAAoC4FAUAAAABA8az6PwAAACBIlgFAAAAAgDe8AUAAAAAgRy8BQAAAAOCOrwNAAAAAAEMZBUAAAAAgLm8DQAAAAKBpCAVAAAAAAE/0B0AAAACAIrX7PwAAAAAuzABAAQAA4P0LAEAAAAAA4Lz+PwAAAEBXxANAAQAA4Nt6BkAAAAAgX/gDQAAAAMAcTgZAAAAAwB11BEAAAACgwwAGQAAAAAC23wVAAAAA4OZAAkABAADgluMCQAAAAMCK+wJAAAAAQCTTAEAAAACgBNMHQAAAACAKmQlAAAAAwJNECUABAADA1S4IQAAAAIApsQRAAAAA4HJeCEABAACgT2sKQAAAAIBqJgxAAAAAAA3eDEABAABA2qwMQAAAAAC6cwtAAAAAgB+hC0AAAADgrb0MQP///58B/g1AAAAAIIyjDEAAAACgItcNQAAAAMDfhQ5AAQAAQP3mDUAAAADAjoENQAAAAGAyyA5AAAAAQAn3DUABAACgRe0MQAAAAABRzwxAAAAAABWaCUABAABg9EkNQP/////Rrw1AAAAA4FPYDEAAAADAbaINQAAAAED86w5AAAAA4BhgDkAAAACgzlENQAAAAICeOw5AAQAA4IsgD0ABAABAY2AOQAAAAGC/5xBAAAAAkJ7dEEAAAADAr+gPQAAAAFASZBBAAAAA4GrhD0AAAAAAGpYOQAAAABBBkxFAAAAAEPmWEUAAAAAwztYRQAAAADBlWRJAAAAAoAfEEUAAAADwIGsQQAAAAOABRxJAAAAAUGp7E0AAAAAwMmISQAAAAACKYhJAAAAAAAETEkA=\"},\"shape\":[100],\"dtype\":\"float64\",\"order\":\"little\"}],[\"Difference (Seconds)\",{\"type\":\"ndarray\",\"array\":{\"type\":\"bytes\",\"data\":\"AgAAAHJd2T/8////JcnXPwAAAAASRNw//v///7wY1D8AAAAAeBWzPwAAAAA7ZNE/AAAAgJdu4T8AAAAAlcTcPwAAAACgCeE/AAAAAPjl2z8AAAAANsXfP/7////dy9w/AgAAgCkm4z/+////3JngPwAAAABmYMw/BAAAADpo3T8CAAAAuSHtPwAAAIAoO+s/AAAAAJDH0j8AAACAtNToPwIAAIBIeOc/AAAAAJPo7z8CAACANpvqPwAAAAAQLuQ/AAAAgB6Q4D8AAAAAoAjAPwAAAAAgfd0/AAAAAL+13T8AAAAAG+DpPwAAAAArxu4/AAAAAO057D8AAABAQQHwPwEAAIDNXfI/AQAAQBfY8z8AAAAA/9jnPwAAAADSv/E/BAAAAI7B7z8CAACAumfqPwAAAACmx+k/AgAAwG9H9T/+////CTXsPwAAAIC32O4/AAAAAFoI7D8AAADABC7wPwAAAMD2TPM//v//fwgO4z8EAACAeaXtPwAAAICiaeE/AAAAADxQ4D8AAADAH57yPwAAAAArue4/AAAAwLPa9D8CAAAAJvn0PwIAAIAeMuc/AAAAwBmg9T8CAABA1O32PwAAAIATTvc/AQAAQJaz+z8CAAAAsYn4PwAAAIDTCvQ/AAAAgJXB9T8AAACAD8P1P/7//789Efg/AAAAwK1V9j8AAABA44P2PwAAAABtLPg/AgAAgMu+9T8AAAAAxeT1PwAAAEC++PY/AAAAQLww9z8CAADADsH2PwAAAABE9/I/AAAAgLSW6T8CAAAAUgb4P/7//787yfY/AAAAQBbV8j/+//+/3h70PwAAAEAXw/U/AAAAQEAO8z/+////uInxPwAAAMDGE/s/AgAAwHHt9z8CAADAaMj3PwAAAIBi6f4/AAAAAO3/+j/+//+/sRf4PwAAAIDHzfU/AAAAgCjq+j8AAACAG13wP/7//z82lvk//v///06g+D8AAACAPjL8PwAAAMDTGfs/AAAAQO9y+z8AAADAFy39PwAAAAC0XPs/AAAAYJ+qAEAAAAAAOBv9PwAAAAAGm/0/////vydTAEA=\"},\"shape\":[100],\"dtype\":\"float64\",\"order\":\"little\"}]]}}},\"view\":{\"type\":\"object\",\"name\":\"CDSView\",\"id\":\"p1461\",\"attributes\":{\"filter\":{\"type\":\"object\",\"name\":\"AllIndices\",\"id\":\"p1462\"}}},\"glyph\":{\"type\":\"object\",\"name\":\"Circle\",\"id\":\"p1457\",\"attributes\":{\"x\":{\"type\":\"field\",\"field\":\"Number of Edges\"},\"y\":{\"type\":\"field\",\"field\":\"Difference (Seconds)\"},\"line_color\":{\"type\":\"value\",\"value\":\"#1f77b4\"},\"fill_color\":{\"type\":\"value\",\"value\":\"#1f77b4\"}}},\"nonselection_glyph\":{\"type\":\"object\",\"name\":\"Circle\",\"id\":\"p1458\",\"attributes\":{\"x\":{\"type\":\"field\",\"field\":\"Number of Edges\"},\"y\":{\"type\":\"field\",\"field\":\"Difference (Seconds)\"},\"line_color\":{\"type\":\"value\",\"value\":\"#1f77b4\"},\"line_alpha\":{\"type\":\"value\",\"value\":0.1},\"fill_color\":{\"type\":\"value\",\"value\":\"#1f77b4\"},\"fill_alpha\":{\"type\":\"value\",\"value\":0.1},\"hatch_alpha\":{\"type\":\"value\",\"value\":0.1}}},\"muted_glyph\":{\"type\":\"object\",\"name\":\"Circle\",\"id\":\"p1459\",\"attributes\":{\"x\":{\"type\":\"field\",\"field\":\"Number of Edges\"},\"y\":{\"type\":\"field\",\"field\":\"Difference (Seconds)\"},\"line_color\":{\"type\":\"value\",\"value\":\"#1f77b4\"},\"line_alpha\":{\"type\":\"value\",\"value\":0.2},\"fill_color\":{\"type\":\"value\",\"value\":\"#1f77b4\"},\"fill_alpha\":{\"type\":\"value\",\"value\":0.2},\"hatch_alpha\":{\"type\":\"value\",\"value\":0.2}}}}}],\"toolbar\":{\"type\":\"object\",\"name\":\"Toolbar\",\"id\":\"p1427\",\"attributes\":{\"tools\":[{\"type\":\"object\",\"name\":\"PanTool\",\"id\":\"p1440\"},{\"type\":\"object\",\"name\":\"WheelZoomTool\",\"id\":\"p1441\",\"attributes\":{\"renderers\":\"auto\"}},{\"type\":\"object\",\"name\":\"BoxZoomTool\",\"id\":\"p1442\",\"attributes\":{\"overlay\":{\"type\":\"object\",\"name\":\"BoxAnnotation\",\"id\":\"p1443\",\"attributes\":{\"syncable\":false,\"level\":\"overlay\",\"visible\":false,\"left\":{\"type\":\"number\",\"value\":\"nan\"},\"right\":{\"type\":\"number\",\"value\":\"nan\"},\"top\":{\"type\":\"number\",\"value\":\"nan\"},\"bottom\":{\"type\":\"number\",\"value\":\"nan\"},\"left_units\":\"canvas\",\"right_units\":\"canvas\",\"top_units\":\"canvas\",\"bottom_units\":\"canvas\",\"line_color\":\"black\",\"line_alpha\":1.0,\"line_width\":2,\"line_dash\":[4,4],\"fill_color\":\"lightgrey\",\"fill_alpha\":0.5}}}},{\"type\":\"object\",\"name\":\"SaveTool\",\"id\":\"p1448\"},{\"type\":\"object\",\"name\":\"ResetTool\",\"id\":\"p1449\"},{\"type\":\"object\",\"name\":\"HelpTool\",\"id\":\"p1450\"}]}},\"left\":[{\"type\":\"object\",\"name\":\"LinearAxis\",\"id\":\"p1435\",\"attributes\":{\"ticker\":{\"type\":\"object\",\"name\":\"BasicTicker\",\"id\":\"p1436\",\"attributes\":{\"mantissas\":[1,2,5]}},\"formatter\":{\"type\":\"object\",\"name\":\"BasicTickFormatter\",\"id\":\"p1437\"},\"axis_label\":\"Difference (Seconds)\",\"major_label_policy\":{\"type\":\"object\",\"name\":\"AllLabels\",\"id\":\"p1438\"}}}],\"below\":[{\"type\":\"object\",\"name\":\"LinearAxis\",\"id\":\"p1430\",\"attributes\":{\"ticker\":{\"type\":\"object\",\"name\":\"BasicTicker\",\"id\":\"p1431\",\"attributes\":{\"mantissas\":[1,2,5]}},\"formatter\":{\"type\":\"object\",\"name\":\"BasicTickFormatter\",\"id\":\"p1432\"},\"axis_label\":\"Number of Edges\",\"major_label_policy\":{\"type\":\"object\",\"name\":\"AllLabels\",\"id\":\"p1433\"}}}],\"center\":[{\"type\":\"object\",\"name\":\"Grid\",\"id\":\"p1434\",\"attributes\":{\"axis\":{\"id\":\"p1430\"}}},{\"type\":\"object\",\"name\":\"Grid\",\"id\":\"p1439\",\"attributes\":{\"dimension\":1,\"axis\":{\"id\":\"p1435\"}}}]}}]}};\n",
       "  const render_items = [{\"docid\":\"a8e1a254-cde6-4924-b490-3064150b6b8c\",\"roots\":{\"p1419\":\"ebab356d-5d3b-4d85-8f43-38c5f1b0481c\"},\"root_ids\":[\"p1419\"]}];\n",
       "  root.Bokeh.embed.embed_items_notebook(docs_json, render_items);\n",
       "  }\n",
       "  if (root.Bokeh !== undefined) {\n",
       "    embed_document(root);\n",
       "  } else {\n",
       "    let attempts = 0;\n",
       "    const timer = setInterval(function(root) {\n",
       "      if (root.Bokeh !== undefined) {\n",
       "        clearInterval(timer);\n",
       "        embed_document(root);\n",
       "      } else {\n",
       "        attempts++;\n",
       "        if (attempts > 100) {\n",
       "          clearInterval(timer);\n",
       "          console.log(\"Bokeh: ERROR: Unable to run BokehJS code because BokehJS library is missing\");\n",
       "        }\n",
       "      }\n",
       "    }, 10, root)\n",
       "  }\n",
       "})(window);"
      ],
      "application/vnd.bokehjs_exec.v0+json": ""
     },
     "metadata": {
      "application/vnd.bokehjs_exec.v0+json": {
       "id": "p1419"
      }
     },
     "output_type": "display_data"
    }
   ],
   "source": [
    "x = \"Number of Edges\"\n",
    "y = \"Difference (Seconds)\"\n",
    "p = bokeh.plotting.figure(\n",
    "    width=400,\n",
    "    height=300,\n",
    "    x_axis_label=x,\n",
    "    y_axis_label=y,\n",
    ")\n",
    "p.circle(\n",
    "    source=diff,\n",
    "    x=x,\n",
    "    y=y,\n",
    ")\n",
    "bokeh.io.show(p)"
   ]
  },
  {
   "cell_type": "code",
   "execution_count": 14,
   "id": "5e4480bb-e5f5-4ecd-9d2e-c0fd97eeccbc",
   "metadata": {
    "jupyter": {
     "source_hidden": true
    }
   },
   "outputs": [],
   "source": [
    "effects = pd.read_csv('TexasGraphRuntimes.csv')\n",
    "effects = effects.drop(['Average Runtime', 'Unnamed: 0', 'Data'], axis=1)\n",
    "effects = effects.rename({'# Edges': 'Number of Edges', 'Full Runtime': 'Runtime (Seconds)'}, axis=1)\n",
    "gnn = effects[effects['Explainer'] == 'GNN']\n",
    "gnn = gnn.rename({'Runtime (Seconds)': 'GNN Runtime (Seconds)'}, axis=1)\n",
    "gnn = gnn.drop(['Explainer'], axis=1)\n",
    "beta = effects[effects['Explainer'] == 'Beta']\n",
    "beta = beta.rename({'Runtime (Seconds)': 'Beta Runtime (Seconds)'}, axis=1)\n",
    "beta = beta.drop(['Explainer'], axis=1)\n",
    "diff = pd.merge(gnn, beta, how=\"right\", on=[\"# Epochs\",'Number of Edges'])\n",
    "diff['Difference (Seconds)'] = diff['Beta Runtime (Seconds)'] - diff['GNN Runtime (Seconds)']"
   ]
  },
  {
   "cell_type": "code",
   "execution_count": 15,
   "id": "aac95a88-2571-498c-a413-a00c7640bfa2",
   "metadata": {
    "jupyter": {
     "source_hidden": true
    },
    "scrolled": true
   },
   "outputs": [
    {
     "data": {
      "text/html": [
       "\n",
       "  <div id=\"cae4e032-fa38-4fd2-85de-aa70edea8da4\" data-root-id=\"p1469\" style=\"display: contents;\"></div>\n"
      ]
     },
     "metadata": {},
     "output_type": "display_data"
    },
    {
     "data": {
      "application/javascript": [
       "(function(root) {\n",
       "  function embed_document(root) {\n",
       "  const docs_json = {\"62294890-ff80-446c-b3ab-f837a72821c8\":{\"version\":\"3.3.4\",\"title\":\"Bokeh Application\",\"roots\":[{\"type\":\"object\",\"name\":\"Figure\",\"id\":\"p1469\",\"attributes\":{\"width\":400,\"height\":300,\"x_range\":{\"type\":\"object\",\"name\":\"DataRange1d\",\"id\":\"p1470\"},\"y_range\":{\"type\":\"object\",\"name\":\"DataRange1d\",\"id\":\"p1471\"},\"x_scale\":{\"type\":\"object\",\"name\":\"LinearScale\",\"id\":\"p1478\"},\"y_scale\":{\"type\":\"object\",\"name\":\"LinearScale\",\"id\":\"p1479\"},\"title\":{\"type\":\"object\",\"name\":\"Title\",\"id\":\"p1476\"},\"renderers\":[{\"type\":\"object\",\"name\":\"GlyphRenderer\",\"id\":\"p1510\",\"attributes\":{\"data_source\":{\"type\":\"object\",\"name\":\"ColumnDataSource\",\"id\":\"p1501\",\"attributes\":{\"selected\":{\"type\":\"object\",\"name\":\"Selection\",\"id\":\"p1502\",\"attributes\":{\"indices\":[],\"line_indices\":[]}},\"selection_policy\":{\"type\":\"object\",\"name\":\"UnionRenderers\",\"id\":\"p1503\"},\"data\":{\"type\":\"map\",\"entries\":[[\"index\",{\"type\":\"ndarray\",\"array\":{\"type\":\"bytes\",\"data\":\"AAAAAAIAAAAEAAAABgAAAAgAAAAKAAAADAAAAA4AAAAQAAAAEgAAABQAAAAWAAAAGAAAABoAAAAcAAAAHgAAACAAAAAiAAAAJAAAACYAAAAoAAAAKgAAACwAAAAuAAAAMAAAADIAAAA0AAAANgAAADgAAAA6AAAAPAAAAD4AAABAAAAAQgAAAEQAAABGAAAASAAAAEoAAABMAAAATgAAAFAAAABSAAAAVAAAAFYAAABYAAAAWgAAAFwAAABeAAAAYAAAAGIAAABkAAAAZgAAAGgAAABqAAAAbAAAAG4AAABwAAAAcgAAAHQAAAB2AAAAeAAAAHoAAAB8AAAAfgAAAIAAAACCAAAAhAAAAIYAAACIAAAAigAAAIwAAACOAAAAkAAAAJIAAACUAAAAlgAAAJgAAACaAAAAnAAAAJ4AAACgAAAAogAAAKQAAACmAAAAqAAAAKoAAACsAAAArgAAALAAAACyAAAAtAAAALYAAAC4AAAAugAAALwAAAC+AAAAwAAAAMIAAADEAAAAxgAAAA==\"},\"shape\":[100],\"dtype\":\"int32\",\"order\":\"little\"}],[\"Explainer\",{\"type\":\"ndarray\",\"array\":[\"Beta\",\"Beta\",\"Beta\",\"Beta\",\"Beta\",\"Beta\",\"Beta\",\"Beta\",\"Beta\",\"Beta\",\"Beta\",\"Beta\",\"Beta\",\"Beta\",\"Beta\",\"Beta\",\"Beta\",\"Beta\",\"Beta\",\"Beta\",\"Beta\",\"Beta\",\"Beta\",\"Beta\",\"Beta\",\"Beta\",\"Beta\",\"Beta\",\"Beta\",\"Beta\",\"Beta\",\"Beta\",\"Beta\",\"Beta\",\"Beta\",\"Beta\",\"Beta\",\"Beta\",\"Beta\",\"Beta\",\"Beta\",\"Beta\",\"Beta\",\"Beta\",\"Beta\",\"Beta\",\"Beta\",\"Beta\",\"Beta\",\"Beta\",\"Beta\",\"Beta\",\"Beta\",\"Beta\",\"Beta\",\"Beta\",\"Beta\",\"Beta\",\"Beta\",\"Beta\",\"Beta\",\"Beta\",\"Beta\",\"Beta\",\"Beta\",\"Beta\",\"Beta\",\"Beta\",\"Beta\",\"Beta\",\"Beta\",\"Beta\",\"Beta\",\"Beta\",\"Beta\",\"Beta\",\"Beta\",\"Beta\",\"Beta\",\"Beta\",\"Beta\",\"Beta\",\"Beta\",\"Beta\",\"Beta\",\"Beta\",\"Beta\",\"Beta\",\"Beta\",\"Beta\",\"Beta\",\"Beta\",\"Beta\",\"Beta\",\"Beta\",\"Beta\",\"Beta\",\"Beta\",\"Beta\",\"Beta\"],\"shape\":[100],\"dtype\":\"object\",\"order\":\"little\"}],[\"# Epochs\",{\"type\":\"ndarray\",\"array\":{\"type\":\"bytes\",\"data\":\"MgAAADIAAAAyAAAAMgAAADIAAAAyAAAAMgAAADIAAAAyAAAAMgAAADIAAAAyAAAAMgAAADIAAAAyAAAAMgAAADIAAAAyAAAAMgAAADIAAAAyAAAAMgAAADIAAAAyAAAAMgAAADIAAAAyAAAAMgAAADIAAAAyAAAAMgAAADIAAAAyAAAAMgAAADIAAAAyAAAAMgAAADIAAAAyAAAAMgAAADIAAAAyAAAAMgAAADIAAAAyAAAAMgAAADIAAAAyAAAAMgAAADIAAAAyAAAAMgAAADIAAAAyAAAAMgAAADIAAAAyAAAAMgAAADIAAAAyAAAAMgAAADIAAAAyAAAAMgAAADIAAAAyAAAAMgAAADIAAAAyAAAAMgAAADIAAAAyAAAAMgAAADIAAAAyAAAAMgAAADIAAAAyAAAAMgAAADIAAAAyAAAAMgAAADIAAAAyAAAAMgAAADIAAAAyAAAAMgAAADIAAAAyAAAAMgAAADIAAAAyAAAAMgAAADIAAAAyAAAAMgAAADIAAAAyAAAAMgAAAA==\"},\"shape\":[100],\"dtype\":\"int32\",\"order\":\"little\"}],[\"Runtime (Seconds)\",{\"type\":\"ndarray\",\"array\":{\"type\":\"bytes\",\"data\":\"////f/na7D8AAABAr3rwPwAAAAAdSvA/////P+Va9D8AAACAFB71P////z9jh/M/AAAAAA/v8j8BAABAugXzPwAAAMA4IPQ//////1Og9T8AAADACOb2PwEAAADr7vI/////PyZo+T//////FqT6PwAAAIDEE/k/AAAAQHDj+T/+//9/YPn9PwEAACByhABA////PwSRAEABAAAAjkwAQAIAAMBoIv0/AAAAAPJX/T8AAADg5ysBQAAAAECpMvs/AAAAgPJAAUAAAAAgyx8BQAEAAKCxRABAAAAA4F6NAkAAAABg9dMCQAAAAKD73QJAAAAAAOCSAUAAAABgZ98EQAAAAEDwZPo/AQAAgD6u/T////+/BqD7PwAAAAA9I/0/AAAAwLb+/D8AAAAgQNEEQAAAAOAmBQNAAAAA4PolA0D///8fWmgFQAAAAGDUiARAAAAAoJzcBEAAAACgSy0DQAAAAODB+ANAAAAAwNhFAkAAAACgTkIFQAAAACCd2wBAAAAAIG62BUD/////kTEJQAAAAEDyrwhAAQAAwFrcBkAAAABgGN4CQAAAAKBC1wdAAAAAIPlcCEAAAADAB0gKQAAAAOAFNQxAAQAAwFXvCEAAAADgjwoJQAAAAKBSVQpAAQAAQNrNCUAAAADADwgLQAAAACBMrApAAAAA4HnzCkAAAADAVOsMQAAAAOCtHgxA/////1P+DUAAAABggc4MQP///9/S5g5AAAAAwHTMDEAAAADATOwLQP///59GYg5AAAAAQOzfDUD////fsYQMQAAAACDL9wxA////312IDkD///9/S1sOQAEAAGCvMg5AAAAAwPhaDkAAAADgdFMNQAAAAOC1zgxAAAAAIOUqD0AAAADAUyQNQAAAAMDGDRBAAAAA8D2KEEAAAADAKDQPQAEAAKDLig9AAQAAQK/uD0AAAABAm8MNQAAAAGAiFhFAAAAAUK7LEEAAAABAYw8RQAAAAECTchBAAAAAkAGhEEAAAABgfakQQAAAABBzFBFAAAAAwKCVEUAAAABw4YgRQAAAAPDHhBFAAAAAoCUAEUA=\"},\"shape\":[100],\"dtype\":\"float64\",\"order\":\"little\"}],[\"Number of Edges\",{\"type\":\"ndarray\",\"array\":{\"type\":\"bytes\",\"data\":\"MgAAAGQAAACWAAAAyAAAAPoAAAAsAQAAXgEAAJABAADCAQAA9AEAACYCAABYAgAAigIAALwCAADuAgAAIAMAAFIDAACEAwAAtgMAAOgDAAAaBAAATAQAAH4EAACwBAAA4gQAABQFAABGBQAAeAUAAKoFAADcBQAADgYAAEAGAAByBgAApAYAANYGAAAIBwAAOgcAAGwHAACeBwAA0AcAAAIIAAA0CAAAZggAAJgIAADKCAAA/AgAAC4JAABgCQAAkgkAAMQJAAD2CQAAKAoAAFoKAACMCgAAvgoAAPAKAAAiCwAAVAsAAIYLAAC4CwAA6gsAABwMAABODAAAgAwAALIMAADkDAAAFg0AAEgNAAB6DQAArA0AAN4NAAAQDgAAQg4AAHQOAACmDgAA2A4AAAoPAAA8DwAAbg8AAKAPAADSDwAABBAAADYQAABoEAAAmhAAAMwQAAD+EAAAMBEAAGIRAACUEQAAxhEAAPgRAAAqEgAAXBIAAI4SAADAEgAA8hIAACQTAABWEwAAiBMAAA==\"},\"shape\":[100],\"dtype\":\"int32\",\"order\":\"little\"}]]}}},\"view\":{\"type\":\"object\",\"name\":\"CDSView\",\"id\":\"p1511\",\"attributes\":{\"filter\":{\"type\":\"object\",\"name\":\"AllIndices\",\"id\":\"p1512\"}}},\"glyph\":{\"type\":\"object\",\"name\":\"Circle\",\"id\":\"p1507\",\"attributes\":{\"x\":{\"type\":\"field\",\"field\":\"Number of Edges\"},\"y\":{\"type\":\"field\",\"field\":\"Runtime (Seconds)\"},\"line_color\":{\"type\":\"value\",\"value\":\"#1f77b4\"},\"fill_color\":{\"type\":\"value\",\"value\":\"#1f77b4\"}}},\"nonselection_glyph\":{\"type\":\"object\",\"name\":\"Circle\",\"id\":\"p1508\",\"attributes\":{\"x\":{\"type\":\"field\",\"field\":\"Number of Edges\"},\"y\":{\"type\":\"field\",\"field\":\"Runtime (Seconds)\"},\"line_color\":{\"type\":\"value\",\"value\":\"#1f77b4\"},\"line_alpha\":{\"type\":\"value\",\"value\":0.1},\"fill_color\":{\"type\":\"value\",\"value\":\"#1f77b4\"},\"fill_alpha\":{\"type\":\"value\",\"value\":0.1},\"hatch_alpha\":{\"type\":\"value\",\"value\":0.1}}},\"muted_glyph\":{\"type\":\"object\",\"name\":\"Circle\",\"id\":\"p1509\",\"attributes\":{\"x\":{\"type\":\"field\",\"field\":\"Number of Edges\"},\"y\":{\"type\":\"field\",\"field\":\"Runtime (Seconds)\"},\"line_color\":{\"type\":\"value\",\"value\":\"#1f77b4\"},\"line_alpha\":{\"type\":\"value\",\"value\":0.2},\"fill_color\":{\"type\":\"value\",\"value\":\"#1f77b4\"},\"fill_alpha\":{\"type\":\"value\",\"value\":0.2},\"hatch_alpha\":{\"type\":\"value\",\"value\":0.2}}}}},{\"type\":\"object\",\"name\":\"GlyphRenderer\",\"id\":\"p1524\",\"attributes\":{\"data_source\":{\"type\":\"object\",\"name\":\"ColumnDataSource\",\"id\":\"p1515\",\"attributes\":{\"selected\":{\"type\":\"object\",\"name\":\"Selection\",\"id\":\"p1516\",\"attributes\":{\"indices\":[],\"line_indices\":[]}},\"selection_policy\":{\"type\":\"object\",\"name\":\"UnionRenderers\",\"id\":\"p1517\"},\"data\":{\"type\":\"map\",\"entries\":[[\"index\",{\"type\":\"ndarray\",\"array\":{\"type\":\"bytes\",\"data\":\"AQAAAAMAAAAFAAAABwAAAAkAAAALAAAADQAAAA8AAAARAAAAEwAAABUAAAAXAAAAGQAAABsAAAAdAAAAHwAAACEAAAAjAAAAJQAAACcAAAApAAAAKwAAAC0AAAAvAAAAMQAAADMAAAA1AAAANwAAADkAAAA7AAAAPQAAAD8AAABBAAAAQwAAAEUAAABHAAAASQAAAEsAAABNAAAATwAAAFEAAABTAAAAVQAAAFcAAABZAAAAWwAAAF0AAABfAAAAYQAAAGMAAABlAAAAZwAAAGkAAABrAAAAbQAAAG8AAABxAAAAcwAAAHUAAAB3AAAAeQAAAHsAAAB9AAAAfwAAAIEAAACDAAAAhQAAAIcAAACJAAAAiwAAAI0AAACPAAAAkQAAAJMAAACVAAAAlwAAAJkAAACbAAAAnQAAAJ8AAAChAAAAowAAAKUAAACnAAAAqQAAAKsAAACtAAAArwAAALEAAACzAAAAtQAAALcAAAC5AAAAuwAAAL0AAAC/AAAAwQAAAMMAAADFAAAAxwAAAA==\"},\"shape\":[100],\"dtype\":\"int32\",\"order\":\"little\"}],[\"Explainer\",{\"type\":\"ndarray\",\"array\":[\"GNN\",\"GNN\",\"GNN\",\"GNN\",\"GNN\",\"GNN\",\"GNN\",\"GNN\",\"GNN\",\"GNN\",\"GNN\",\"GNN\",\"GNN\",\"GNN\",\"GNN\",\"GNN\",\"GNN\",\"GNN\",\"GNN\",\"GNN\",\"GNN\",\"GNN\",\"GNN\",\"GNN\",\"GNN\",\"GNN\",\"GNN\",\"GNN\",\"GNN\",\"GNN\",\"GNN\",\"GNN\",\"GNN\",\"GNN\",\"GNN\",\"GNN\",\"GNN\",\"GNN\",\"GNN\",\"GNN\",\"GNN\",\"GNN\",\"GNN\",\"GNN\",\"GNN\",\"GNN\",\"GNN\",\"GNN\",\"GNN\",\"GNN\",\"GNN\",\"GNN\",\"GNN\",\"GNN\",\"GNN\",\"GNN\",\"GNN\",\"GNN\",\"GNN\",\"GNN\",\"GNN\",\"GNN\",\"GNN\",\"GNN\",\"GNN\",\"GNN\",\"GNN\",\"GNN\",\"GNN\",\"GNN\",\"GNN\",\"GNN\",\"GNN\",\"GNN\",\"GNN\",\"GNN\",\"GNN\",\"GNN\",\"GNN\",\"GNN\",\"GNN\",\"GNN\",\"GNN\",\"GNN\",\"GNN\",\"GNN\",\"GNN\",\"GNN\",\"GNN\",\"GNN\",\"GNN\",\"GNN\",\"GNN\",\"GNN\",\"GNN\",\"GNN\",\"GNN\",\"GNN\",\"GNN\",\"GNN\"],\"shape\":[100],\"dtype\":\"object\",\"order\":\"little\"}],[\"# Epochs\",{\"type\":\"ndarray\",\"array\":{\"type\":\"bytes\",\"data\":\"MgAAADIAAAAyAAAAMgAAADIAAAAyAAAAMgAAADIAAAAyAAAAMgAAADIAAAAyAAAAMgAAADIAAAAyAAAAMgAAADIAAAAyAAAAMgAAADIAAAAyAAAAMgAAADIAAAAyAAAAMgAAADIAAAAyAAAAMgAAADIAAAAyAAAAMgAAADIAAAAyAAAAMgAAADIAAAAyAAAAMgAAADIAAAAyAAAAMgAAADIAAAAyAAAAMgAAADIAAAAyAAAAMgAAADIAAAAyAAAAMgAAADIAAAAyAAAAMgAAADIAAAAyAAAAMgAAADIAAAAyAAAAMgAAADIAAAAyAAAAMgAAADIAAAAyAAAAMgAAADIAAAAyAAAAMgAAADIAAAAyAAAAMgAAADIAAAAyAAAAMgAAADIAAAAyAAAAMgAAADIAAAAyAAAAMgAAADIAAAAyAAAAMgAAADIAAAAyAAAAMgAAADIAAAAyAAAAMgAAADIAAAAyAAAAMgAAADIAAAAyAAAAMgAAADIAAAAyAAAAMgAAADIAAAAyAAAAMgAAAA==\"},\"shape\":[100],\"dtype\":\"int32\",\"order\":\"little\"}],[\"Runtime (Seconds)\",{\"type\":\"ndarray\",\"array\":{\"type\":\"bytes\",\"data\":\"AAAAAAqm4z////9/8y/tPwAAAIDCCek/AAAAAAuS6T8AAAAALm/sPwAAAACt7Os/AAAAgPIs6z8AAACAy//rPwAAAAB05uo/AQAAgIJs7z8AAAAA+KHmPwAAAIAqdeY/////f4u07T8AAAAA3HDxPwAAAIDv/e4/AQAAgMGb7T8AAADAe5PzPwAAAECPu/Q/////P2Re8z8AAADAqMPxPwAAAICc5fA/AAAAQB+V9D8AAAAAejb5PwAAAACQsPg/AAAAwLKY+j8AAADAj6j7PwAAAEC1qfU/AAAAwPwL+D8AAABAd837PwAAAEByWvc/AQAAAGnL+T8AAABADcX8PwAAAABLxPA/AAAAQJh99D8AAAAAIFzyPwAAAED1pvE/AAAAQAWL9z8BAABAunj6PwAAAADoNvc/AAAAwFKb+D8AAAAAn0f6PwAAAEDb1Po/AAAAwGae+z8AAAAAWF71PwAAAMCkK/g/AAAAgNnO9j8AAADAVqr3PwAAAAC3Mfw/AAAAAEl8/T8AAACAt10AQAAAAECFH/s//////9as+j8AAACAU4P/PwAAAIAXffo/AgAAADrj/T8AAADAjqQBQAAAAMD0r/4/AAAAwERPAUAAAADAp6QAQAAAAEBcRgBAAAAAABMTAUAAAAAgdzECQAAAAEC5eAFAAAAAQAeHAUAAAABgNY4BQAAAAEDXcwFAAAAAwHCaAUAAAACgrhICQAAAACBC4gFAAAAAgE5D/z////+/i8f/PwAAAKDkTwFAAAAAQGG2AkAAAACAWaH/PwAAAOAZVAFAAAAAwLmJAkAAAABAnIcDQAAAACCKJwNAAAAAgEvsA0AAAAAgttoDQAAAAAC8owBAAAAAwONFAkAAAAAAFRQCQAAAAOBkGgJAAAAAwAEqBEAAAADAfeoCQP///z8jkAVAAAAAIEDqAUAAAACg9gMFQAAAACA/KAVAAAAAADayBkAAAAAArxoGQAAAAICUTwdAAAAAgEJcBUAAAACgb3IDQAAAACCpRQZAAAAA4GHmBkAAAAAAKJ0GQAAAAIC0IwZAAAAA4HRbBkA=\"},\"shape\":[100],\"dtype\":\"float64\",\"order\":\"little\"}],[\"Number of Edges\",{\"type\":\"ndarray\",\"array\":{\"type\":\"bytes\",\"data\":\"MgAAAGQAAACWAAAAyAAAAPoAAAAsAQAAXgEAAJABAADCAQAA9AEAACYCAABYAgAAigIAALwCAADuAgAAIAMAAFIDAACEAwAAtgMAAOgDAAAaBAAATAQAAH4EAACwBAAA4gQAABQFAABGBQAAeAUAAKoFAADcBQAADgYAAEAGAAByBgAApAYAANYGAAAIBwAAOgcAAGwHAACeBwAA0AcAAAIIAAA0CAAAZggAAJgIAADKCAAA/AgAAC4JAABgCQAAkgkAAMQJAAD2CQAAKAoAAFoKAACMCgAAvgoAAPAKAAAiCwAAVAsAAIYLAAC4CwAA6gsAABwMAABODAAAgAwAALIMAADkDAAAFg0AAEgNAAB6DQAArA0AAN4NAAAQDgAAQg4AAHQOAACmDgAA2A4AAAoPAAA8DwAAbg8AAKAPAADSDwAABBAAADYQAABoEAAAmhAAAMwQAAD+EAAAMBEAAGIRAACUEQAAxhEAAPgRAAAqEgAAXBIAAI4SAADAEgAA8hIAACQTAABWEwAAiBMAAA==\"},\"shape\":[100],\"dtype\":\"int32\",\"order\":\"little\"}]]}}},\"view\":{\"type\":\"object\",\"name\":\"CDSView\",\"id\":\"p1525\",\"attributes\":{\"filter\":{\"type\":\"object\",\"name\":\"AllIndices\",\"id\":\"p1526\"}}},\"glyph\":{\"type\":\"object\",\"name\":\"Circle\",\"id\":\"p1521\",\"attributes\":{\"x\":{\"type\":\"field\",\"field\":\"Number of Edges\"},\"y\":{\"type\":\"field\",\"field\":\"Runtime (Seconds)\"},\"line_color\":{\"type\":\"value\",\"value\":\"orange\"},\"fill_color\":{\"type\":\"value\",\"value\":\"orange\"},\"hatch_color\":{\"type\":\"value\",\"value\":\"orange\"}}},\"nonselection_glyph\":{\"type\":\"object\",\"name\":\"Circle\",\"id\":\"p1522\",\"attributes\":{\"x\":{\"type\":\"field\",\"field\":\"Number of Edges\"},\"y\":{\"type\":\"field\",\"field\":\"Runtime (Seconds)\"},\"line_color\":{\"type\":\"value\",\"value\":\"orange\"},\"line_alpha\":{\"type\":\"value\",\"value\":0.1},\"fill_color\":{\"type\":\"value\",\"value\":\"orange\"},\"fill_alpha\":{\"type\":\"value\",\"value\":0.1},\"hatch_color\":{\"type\":\"value\",\"value\":\"orange\"},\"hatch_alpha\":{\"type\":\"value\",\"value\":0.1}}},\"muted_glyph\":{\"type\":\"object\",\"name\":\"Circle\",\"id\":\"p1523\",\"attributes\":{\"x\":{\"type\":\"field\",\"field\":\"Number of Edges\"},\"y\":{\"type\":\"field\",\"field\":\"Runtime (Seconds)\"},\"line_color\":{\"type\":\"value\",\"value\":\"orange\"},\"line_alpha\":{\"type\":\"value\",\"value\":0.2},\"fill_color\":{\"type\":\"value\",\"value\":\"orange\"},\"fill_alpha\":{\"type\":\"value\",\"value\":0.2},\"hatch_color\":{\"type\":\"value\",\"value\":\"orange\"},\"hatch_alpha\":{\"type\":\"value\",\"value\":0.2}}}}}],\"toolbar\":{\"type\":\"object\",\"name\":\"Toolbar\",\"id\":\"p1477\",\"attributes\":{\"tools\":[{\"type\":\"object\",\"name\":\"PanTool\",\"id\":\"p1490\"},{\"type\":\"object\",\"name\":\"WheelZoomTool\",\"id\":\"p1491\",\"attributes\":{\"renderers\":\"auto\"}},{\"type\":\"object\",\"name\":\"BoxZoomTool\",\"id\":\"p1492\",\"attributes\":{\"overlay\":{\"type\":\"object\",\"name\":\"BoxAnnotation\",\"id\":\"p1493\",\"attributes\":{\"syncable\":false,\"level\":\"overlay\",\"visible\":false,\"left\":{\"type\":\"number\",\"value\":\"nan\"},\"right\":{\"type\":\"number\",\"value\":\"nan\"},\"top\":{\"type\":\"number\",\"value\":\"nan\"},\"bottom\":{\"type\":\"number\",\"value\":\"nan\"},\"left_units\":\"canvas\",\"right_units\":\"canvas\",\"top_units\":\"canvas\",\"bottom_units\":\"canvas\",\"line_color\":\"black\",\"line_alpha\":1.0,\"line_width\":2,\"line_dash\":[4,4],\"fill_color\":\"lightgrey\",\"fill_alpha\":0.5}}}},{\"type\":\"object\",\"name\":\"SaveTool\",\"id\":\"p1498\"},{\"type\":\"object\",\"name\":\"ResetTool\",\"id\":\"p1499\"},{\"type\":\"object\",\"name\":\"HelpTool\",\"id\":\"p1500\"}]}},\"left\":[{\"type\":\"object\",\"name\":\"LinearAxis\",\"id\":\"p1485\",\"attributes\":{\"ticker\":{\"type\":\"object\",\"name\":\"BasicTicker\",\"id\":\"p1486\",\"attributes\":{\"mantissas\":[1,2,5]}},\"formatter\":{\"type\":\"object\",\"name\":\"BasicTickFormatter\",\"id\":\"p1487\"},\"axis_label\":\"Runtime (Seconds)\",\"major_label_policy\":{\"type\":\"object\",\"name\":\"AllLabels\",\"id\":\"p1488\"}}}],\"below\":[{\"type\":\"object\",\"name\":\"LinearAxis\",\"id\":\"p1480\",\"attributes\":{\"ticker\":{\"type\":\"object\",\"name\":\"BasicTicker\",\"id\":\"p1481\",\"attributes\":{\"mantissas\":[1,2,5]}},\"formatter\":{\"type\":\"object\",\"name\":\"BasicTickFormatter\",\"id\":\"p1482\"},\"axis_label\":\"Number of Edges\",\"major_label_policy\":{\"type\":\"object\",\"name\":\"AllLabels\",\"id\":\"p1483\"}}}],\"center\":[{\"type\":\"object\",\"name\":\"Grid\",\"id\":\"p1484\",\"attributes\":{\"axis\":{\"id\":\"p1480\"}}},{\"type\":\"object\",\"name\":\"Grid\",\"id\":\"p1489\",\"attributes\":{\"dimension\":1,\"axis\":{\"id\":\"p1485\"}}},{\"type\":\"object\",\"name\":\"Legend\",\"id\":\"p1513\",\"attributes\":{\"location\":\"top_left\",\"items\":[{\"type\":\"object\",\"name\":\"LegendItem\",\"id\":\"p1514\",\"attributes\":{\"label\":{\"type\":\"value\",\"value\":\"Beta\"},\"renderers\":[{\"id\":\"p1510\"}]}},{\"type\":\"object\",\"name\":\"LegendItem\",\"id\":\"p1527\",\"attributes\":{\"label\":{\"type\":\"value\",\"value\":\"GNN\"},\"renderers\":[{\"id\":\"p1524\"}]}}]}}]}}]}};\n",
       "  const render_items = [{\"docid\":\"62294890-ff80-446c-b3ab-f837a72821c8\",\"roots\":{\"p1469\":\"cae4e032-fa38-4fd2-85de-aa70edea8da4\"},\"root_ids\":[\"p1469\"]}];\n",
       "  root.Bokeh.embed.embed_items_notebook(docs_json, render_items);\n",
       "  }\n",
       "  if (root.Bokeh !== undefined) {\n",
       "    embed_document(root);\n",
       "  } else {\n",
       "    let attempts = 0;\n",
       "    const timer = setInterval(function(root) {\n",
       "      if (root.Bokeh !== undefined) {\n",
       "        clearInterval(timer);\n",
       "        embed_document(root);\n",
       "      } else {\n",
       "        attempts++;\n",
       "        if (attempts > 100) {\n",
       "          clearInterval(timer);\n",
       "          console.log(\"Bokeh: ERROR: Unable to run BokehJS code because BokehJS library is missing\");\n",
       "        }\n",
       "      }\n",
       "    }, 10, root)\n",
       "  }\n",
       "})(window);"
      ],
      "application/vnd.bokehjs_exec.v0+json": ""
     },
     "metadata": {
      "application/vnd.bokehjs_exec.v0+json": {
       "id": "p1469"
      }
     },
     "output_type": "display_data"
    }
   ],
   "source": [
    "x = \"Number of Edges\"\n",
    "y = \"Runtime (Seconds)\"\n",
    "p = bokeh.plotting.figure(\n",
    "    width=400,\n",
    "    height=300,\n",
    "    x_axis_label=x,\n",
    "    y_axis_label=y,\n",
    ")\n",
    "p.circle(\n",
    "    source=effects[effects['Explainer'] == 'Beta'],\n",
    "    x=x,\n",
    "    y=y,\n",
    "    legend_label=\"Beta\",\n",
    ")\n",
    "p.circle(\n",
    "    source=effects[effects['Explainer'] == 'GNN'],\n",
    "    x=x,\n",
    "    y=y,\n",
    "    legend_label=\"GNN\",\n",
    "    color='orange'\n",
    ")\n",
    "p.legend.location = \"top_left\"\n",
    "bokeh.io.show(p)"
   ]
  },
  {
   "cell_type": "code",
   "execution_count": 16,
   "id": "134c8d0a-3603-41c5-a600-c3e4011f0e19",
   "metadata": {},
   "outputs": [
    {
     "data": {
      "text/html": [
       "\n",
       "  <div id=\"fc7e058e-350e-4a44-8593-189b7c1a6055\" data-root-id=\"p1536\" style=\"display: contents;\"></div>\n"
      ]
     },
     "metadata": {},
     "output_type": "display_data"
    },
    {
     "data": {
      "application/javascript": [
       "(function(root) {\n",
       "  function embed_document(root) {\n",
       "  const docs_json = {\"a7b68307-350e-4eaa-9627-a1f310614be0\":{\"version\":\"3.3.4\",\"title\":\"Bokeh Application\",\"roots\":[{\"type\":\"object\",\"name\":\"Figure\",\"id\":\"p1536\",\"attributes\":{\"width\":400,\"height\":300,\"x_range\":{\"type\":\"object\",\"name\":\"DataRange1d\",\"id\":\"p1537\"},\"y_range\":{\"type\":\"object\",\"name\":\"DataRange1d\",\"id\":\"p1538\"},\"x_scale\":{\"type\":\"object\",\"name\":\"LinearScale\",\"id\":\"p1545\"},\"y_scale\":{\"type\":\"object\",\"name\":\"LinearScale\",\"id\":\"p1546\"},\"title\":{\"type\":\"object\",\"name\":\"Title\",\"id\":\"p1543\"},\"renderers\":[{\"type\":\"object\",\"name\":\"GlyphRenderer\",\"id\":\"p1577\",\"attributes\":{\"data_source\":{\"type\":\"object\",\"name\":\"ColumnDataSource\",\"id\":\"p1568\",\"attributes\":{\"selected\":{\"type\":\"object\",\"name\":\"Selection\",\"id\":\"p1569\",\"attributes\":{\"indices\":[],\"line_indices\":[]}},\"selection_policy\":{\"type\":\"object\",\"name\":\"UnionRenderers\",\"id\":\"p1570\"},\"data\":{\"type\":\"map\",\"entries\":[[\"index\",{\"type\":\"ndarray\",\"array\":{\"type\":\"bytes\",\"data\":\"AAAAAAEAAAACAAAAAwAAAAQAAAAFAAAABgAAAAcAAAAIAAAACQAAAAoAAAALAAAADAAAAA0AAAAOAAAADwAAABAAAAARAAAAEgAAABMAAAAUAAAAFQAAABYAAAAXAAAAGAAAABkAAAAaAAAAGwAAABwAAAAdAAAAHgAAAB8AAAAgAAAAIQAAACIAAAAjAAAAJAAAACUAAAAmAAAAJwAAACgAAAApAAAAKgAAACsAAAAsAAAALQAAAC4AAAAvAAAAMAAAADEAAAAyAAAAMwAAADQAAAA1AAAANgAAADcAAAA4AAAAOQAAADoAAAA7AAAAPAAAAD0AAAA+AAAAPwAAAEAAAABBAAAAQgAAAEMAAABEAAAARQAAAEYAAABHAAAASAAAAEkAAABKAAAASwAAAEwAAABNAAAATgAAAE8AAABQAAAAUQAAAFIAAABTAAAAVAAAAFUAAABWAAAAVwAAAFgAAABZAAAAWgAAAFsAAABcAAAAXQAAAF4AAABfAAAAYAAAAGEAAABiAAAAYwAAAA==\"},\"shape\":[100],\"dtype\":\"int32\",\"order\":\"little\"}],[\"# Epochs\",{\"type\":\"ndarray\",\"array\":{\"type\":\"bytes\",\"data\":\"MgAAADIAAAAyAAAAMgAAADIAAAAyAAAAMgAAADIAAAAyAAAAMgAAADIAAAAyAAAAMgAAADIAAAAyAAAAMgAAADIAAAAyAAAAMgAAADIAAAAyAAAAMgAAADIAAAAyAAAAMgAAADIAAAAyAAAAMgAAADIAAAAyAAAAMgAAADIAAAAyAAAAMgAAADIAAAAyAAAAMgAAADIAAAAyAAAAMgAAADIAAAAyAAAAMgAAADIAAAAyAAAAMgAAADIAAAAyAAAAMgAAADIAAAAyAAAAMgAAADIAAAAyAAAAMgAAADIAAAAyAAAAMgAAADIAAAAyAAAAMgAAADIAAAAyAAAAMgAAADIAAAAyAAAAMgAAADIAAAAyAAAAMgAAADIAAAAyAAAAMgAAADIAAAAyAAAAMgAAADIAAAAyAAAAMgAAADIAAAAyAAAAMgAAADIAAAAyAAAAMgAAADIAAAAyAAAAMgAAADIAAAAyAAAAMgAAADIAAAAyAAAAMgAAADIAAAAyAAAAMgAAADIAAAAyAAAAMgAAAA==\"},\"shape\":[100],\"dtype\":\"int32\",\"order\":\"little\"}],[\"GNN Runtime (Seconds)\",{\"type\":\"ndarray\",\"array\":{\"type\":\"bytes\",\"data\":\"AAAAAAqm4z////9/8y/tPwAAAIDCCek/AAAAAAuS6T8AAAAALm/sPwAAAACt7Os/AAAAgPIs6z8AAACAy//rPwAAAAB05uo/AQAAgIJs7z8AAAAA+KHmPwAAAIAqdeY/////f4u07T8AAAAA3HDxPwAAAIDv/e4/AQAAgMGb7T8AAADAe5PzPwAAAECPu/Q/////P2Re8z8AAADAqMPxPwAAAICc5fA/AAAAQB+V9D8AAAAAejb5PwAAAACQsPg/AAAAwLKY+j8AAADAj6j7PwAAAEC1qfU/AAAAwPwL+D8AAABAd837PwAAAEByWvc/AQAAAGnL+T8AAABADcX8PwAAAABLxPA/AAAAQJh99D8AAAAAIFzyPwAAAED1pvE/AAAAQAWL9z8BAABAunj6PwAAAADoNvc/AAAAwFKb+D8AAAAAn0f6PwAAAEDb1Po/AAAAwGae+z8AAAAAWF71PwAAAMCkK/g/AAAAgNnO9j8AAADAVqr3PwAAAAC3Mfw/AAAAAEl8/T8AAACAt10AQAAAAECFH/s//////9as+j8AAACAU4P/PwAAAIAXffo/AgAAADrj/T8AAADAjqQBQAAAAMD0r/4/AAAAwERPAUAAAADAp6QAQAAAAEBcRgBAAAAAABMTAUAAAAAgdzECQAAAAEC5eAFAAAAAQAeHAUAAAABgNY4BQAAAAEDXcwFAAAAAwHCaAUAAAACgrhICQAAAACBC4gFAAAAAgE5D/z////+/i8f/PwAAAKDkTwFAAAAAQGG2AkAAAACAWaH/PwAAAOAZVAFAAAAAwLmJAkAAAABAnIcDQAAAACCKJwNAAAAAgEvsA0AAAAAgttoDQAAAAAC8owBAAAAAwONFAkAAAAAAFRQCQAAAAOBkGgJAAAAAwAEqBEAAAADAfeoCQP///z8jkAVAAAAAIEDqAUAAAACg9gMFQAAAACA/KAVAAAAAADayBkAAAAAArxoGQAAAAICUTwdAAAAAgEJcBUAAAACgb3IDQAAAACCpRQZAAAAA4GHmBkAAAAAAKJ0GQAAAAIC0IwZAAAAA4HRbBkA=\"},\"shape\":[100],\"dtype\":\"float64\",\"order\":\"little\"}],[\"Number of Edges\",{\"type\":\"ndarray\",\"array\":{\"type\":\"bytes\",\"data\":\"MgAAAGQAAACWAAAAyAAAAPoAAAAsAQAAXgEAAJABAADCAQAA9AEAACYCAABYAgAAigIAALwCAADuAgAAIAMAAFIDAACEAwAAtgMAAOgDAAAaBAAATAQAAH4EAACwBAAA4gQAABQFAABGBQAAeAUAAKoFAADcBQAADgYAAEAGAAByBgAApAYAANYGAAAIBwAAOgcAAGwHAACeBwAA0AcAAAIIAAA0CAAAZggAAJgIAADKCAAA/AgAAC4JAABgCQAAkgkAAMQJAAD2CQAAKAoAAFoKAACMCgAAvgoAAPAKAAAiCwAAVAsAAIYLAAC4CwAA6gsAABwMAABODAAAgAwAALIMAADkDAAAFg0AAEgNAAB6DQAArA0AAN4NAAAQDgAAQg4AAHQOAACmDgAA2A4AAAoPAAA8DwAAbg8AAKAPAADSDwAABBAAADYQAABoEAAAmhAAAMwQAAD+EAAAMBEAAGIRAACUEQAAxhEAAPgRAAAqEgAAXBIAAI4SAADAEgAA8hIAACQTAABWEwAAiBMAAA==\"},\"shape\":[100],\"dtype\":\"int32\",\"order\":\"little\"}],[\"Beta Runtime (Seconds)\",{\"type\":\"ndarray\",\"array\":{\"type\":\"bytes\",\"data\":\"////f/na7D8AAABAr3rwPwAAAAAdSvA/////P+Va9D8AAACAFB71P////z9jh/M/AAAAAA/v8j8BAABAugXzPwAAAMA4IPQ//////1Og9T8AAADACOb2PwEAAADr7vI/////PyZo+T//////FqT6PwAAAIDEE/k/AAAAQHDj+T/+//9/YPn9PwEAACByhABA////PwSRAEABAAAAjkwAQAIAAMBoIv0/AAAAAPJX/T8AAADg5ysBQAAAAECpMvs/AAAAgPJAAUAAAAAgyx8BQAEAAKCxRABAAAAA4F6NAkAAAABg9dMCQAAAAKD73QJAAAAAAOCSAUAAAABgZ98EQAAAAEDwZPo/AQAAgD6u/T////+/BqD7PwAAAAA9I/0/AAAAwLb+/D8AAAAgQNEEQAAAAOAmBQNAAAAA4PolA0D///8fWmgFQAAAAGDUiARAAAAAoJzcBEAAAACgSy0DQAAAAODB+ANAAAAAwNhFAkAAAACgTkIFQAAAACCd2wBAAAAAIG62BUD/////kTEJQAAAAEDyrwhAAQAAwFrcBkAAAABgGN4CQAAAAKBC1wdAAAAAIPlcCEAAAADAB0gKQAAAAOAFNQxAAQAAwFXvCEAAAADgjwoJQAAAAKBSVQpAAQAAQNrNCUAAAADADwgLQAAAACBMrApAAAAA4HnzCkAAAADAVOsMQAAAAOCtHgxA/////1P+DUAAAABggc4MQP///9/S5g5AAAAAwHTMDEAAAADATOwLQP///59GYg5AAAAAQOzfDUD////fsYQMQAAAACDL9wxA////312IDkD///9/S1sOQAEAAGCvMg5AAAAAwPhaDkAAAADgdFMNQAAAAOC1zgxAAAAAIOUqD0AAAADAUyQNQAAAAMDGDRBAAAAA8D2KEEAAAADAKDQPQAEAAKDLig9AAQAAQK/uD0AAAABAm8MNQAAAAGAiFhFAAAAAUK7LEEAAAABAYw8RQAAAAECTchBAAAAAkAGhEEAAAABgfakQQAAAABBzFBFAAAAAwKCVEUAAAABw4YgRQAAAAPDHhBFAAAAAoCUAEUA=\"},\"shape\":[100],\"dtype\":\"float64\",\"order\":\"little\"}],[\"Difference (Seconds)\",{\"type\":\"ndarray\",\"array\":{\"type\":\"bytes\",\"data\":\"/v///95p0j8IAAAAWCu+PwAAAADeKc4//P///35H3j8AAAAA9pnbP/z///8yRNY/AAAAAFdi1T8EAAAAUhfUPwAAAAD7s9o/+v///0qo1z8AAACAGSrnPwQAAABX0d4//////8Ab5T/+////dWbiPwAAAICZKeM//////x4r5j/8//9/ycvkPwQAAACqmug//v//f0iH6z8EAACA5qrtPwQAAICYeeg/AAAAgKWF4T8AAACAq0LiPwAAAADKEMQ/AAAAAMmk3z8AAAAAGlzaPwQAAABcv+U/AAAAAIId6j8AAAAA57TjPwAAAAAKw+w//v///6204j8AAAAAg/PpPwAAAIBKQeM/AgAAgExh4j/+//9/zYfiPwAAAICP+OY/AAAAAMbO1T/+////i1PuPwAAAIDLpu0/AAAAAEZh6z/+//8/FYnwPwAAAACbeew/AAAAAKU17D8AAABAP/zwPwAAAAC+i+8/AAAAALB56z8AAACARtryPwAAAAANFtY/AAAAgCbh6z/+////tKfxPwAAAEBfQPY/AwAAgN4L8z8AAAAAdePYPwAAAMBtMfU//v//P7jW8j8AAAAA8kbxPwAAAAAXuvk/BAAAAESA7j8AAABA0MvwPwAAAMDsHfQ/AgAAgI518T8AAABAMa3xPwAAAMAlZ/I/AAAAQOXY8j8AAADAPrr2PwAAAECtVfU//v//f8bH+D8AAACApXf1P/7//38hCfo/AAAAAJtV+j8BAADADRH4P/7////DJPo/AAAAABZT9j/+//8/Cmj5PwAAAIBiR/c//v//P0j99z/+//9/Xqf1PwIAAIBKFvY/AAAAgFrd9D8AAACAffHyPwAAAMDzVfg/AAAAwALK+T8AAACAfSD2PwAAAEBRAvw/AAAAQPTU+T8AAAAAVpP4PwQAAMBQ9fM/AgAAQN4I/D8AAABASX/xPwAAAEALCPo/AAAAQE3K9T8AAAAALwj4PwAAAAAkK/M/AAAAQIHL9z8AAABAFsH7PwAAAAB6xvc/AAAAQL+J+D8AAADANen4PwAAAMC2y/k/AAAAwKxJ9z8=\"},\"shape\":[100],\"dtype\":\"float64\",\"order\":\"little\"}]]}}},\"view\":{\"type\":\"object\",\"name\":\"CDSView\",\"id\":\"p1578\",\"attributes\":{\"filter\":{\"type\":\"object\",\"name\":\"AllIndices\",\"id\":\"p1579\"}}},\"glyph\":{\"type\":\"object\",\"name\":\"Circle\",\"id\":\"p1574\",\"attributes\":{\"x\":{\"type\":\"field\",\"field\":\"Number of Edges\"},\"y\":{\"type\":\"field\",\"field\":\"Difference (Seconds)\"},\"line_color\":{\"type\":\"value\",\"value\":\"#1f77b4\"},\"fill_color\":{\"type\":\"value\",\"value\":\"#1f77b4\"}}},\"nonselection_glyph\":{\"type\":\"object\",\"name\":\"Circle\",\"id\":\"p1575\",\"attributes\":{\"x\":{\"type\":\"field\",\"field\":\"Number of Edges\"},\"y\":{\"type\":\"field\",\"field\":\"Difference (Seconds)\"},\"line_color\":{\"type\":\"value\",\"value\":\"#1f77b4\"},\"line_alpha\":{\"type\":\"value\",\"value\":0.1},\"fill_color\":{\"type\":\"value\",\"value\":\"#1f77b4\"},\"fill_alpha\":{\"type\":\"value\",\"value\":0.1},\"hatch_alpha\":{\"type\":\"value\",\"value\":0.1}}},\"muted_glyph\":{\"type\":\"object\",\"name\":\"Circle\",\"id\":\"p1576\",\"attributes\":{\"x\":{\"type\":\"field\",\"field\":\"Number of Edges\"},\"y\":{\"type\":\"field\",\"field\":\"Difference (Seconds)\"},\"line_color\":{\"type\":\"value\",\"value\":\"#1f77b4\"},\"line_alpha\":{\"type\":\"value\",\"value\":0.2},\"fill_color\":{\"type\":\"value\",\"value\":\"#1f77b4\"},\"fill_alpha\":{\"type\":\"value\",\"value\":0.2},\"hatch_alpha\":{\"type\":\"value\",\"value\":0.2}}}}}],\"toolbar\":{\"type\":\"object\",\"name\":\"Toolbar\",\"id\":\"p1544\",\"attributes\":{\"tools\":[{\"type\":\"object\",\"name\":\"PanTool\",\"id\":\"p1557\"},{\"type\":\"object\",\"name\":\"WheelZoomTool\",\"id\":\"p1558\",\"attributes\":{\"renderers\":\"auto\"}},{\"type\":\"object\",\"name\":\"BoxZoomTool\",\"id\":\"p1559\",\"attributes\":{\"overlay\":{\"type\":\"object\",\"name\":\"BoxAnnotation\",\"id\":\"p1560\",\"attributes\":{\"syncable\":false,\"level\":\"overlay\",\"visible\":false,\"left\":{\"type\":\"number\",\"value\":\"nan\"},\"right\":{\"type\":\"number\",\"value\":\"nan\"},\"top\":{\"type\":\"number\",\"value\":\"nan\"},\"bottom\":{\"type\":\"number\",\"value\":\"nan\"},\"left_units\":\"canvas\",\"right_units\":\"canvas\",\"top_units\":\"canvas\",\"bottom_units\":\"canvas\",\"line_color\":\"black\",\"line_alpha\":1.0,\"line_width\":2,\"line_dash\":[4,4],\"fill_color\":\"lightgrey\",\"fill_alpha\":0.5}}}},{\"type\":\"object\",\"name\":\"SaveTool\",\"id\":\"p1565\"},{\"type\":\"object\",\"name\":\"ResetTool\",\"id\":\"p1566\"},{\"type\":\"object\",\"name\":\"HelpTool\",\"id\":\"p1567\"}]}},\"left\":[{\"type\":\"object\",\"name\":\"LinearAxis\",\"id\":\"p1552\",\"attributes\":{\"ticker\":{\"type\":\"object\",\"name\":\"BasicTicker\",\"id\":\"p1553\",\"attributes\":{\"mantissas\":[1,2,5]}},\"formatter\":{\"type\":\"object\",\"name\":\"BasicTickFormatter\",\"id\":\"p1554\"},\"axis_label\":\"Difference (Seconds)\",\"major_label_policy\":{\"type\":\"object\",\"name\":\"AllLabels\",\"id\":\"p1555\"}}}],\"below\":[{\"type\":\"object\",\"name\":\"LinearAxis\",\"id\":\"p1547\",\"attributes\":{\"ticker\":{\"type\":\"object\",\"name\":\"BasicTicker\",\"id\":\"p1548\",\"attributes\":{\"mantissas\":[1,2,5]}},\"formatter\":{\"type\":\"object\",\"name\":\"BasicTickFormatter\",\"id\":\"p1549\"},\"axis_label\":\"Number of Edges\",\"major_label_policy\":{\"type\":\"object\",\"name\":\"AllLabels\",\"id\":\"p1550\"}}}],\"center\":[{\"type\":\"object\",\"name\":\"Grid\",\"id\":\"p1551\",\"attributes\":{\"axis\":{\"id\":\"p1547\"}}},{\"type\":\"object\",\"name\":\"Grid\",\"id\":\"p1556\",\"attributes\":{\"dimension\":1,\"axis\":{\"id\":\"p1552\"}}}]}}]}};\n",
       "  const render_items = [{\"docid\":\"a7b68307-350e-4eaa-9627-a1f310614be0\",\"roots\":{\"p1536\":\"fc7e058e-350e-4a44-8593-189b7c1a6055\"},\"root_ids\":[\"p1536\"]}];\n",
       "  root.Bokeh.embed.embed_items_notebook(docs_json, render_items);\n",
       "  }\n",
       "  if (root.Bokeh !== undefined) {\n",
       "    embed_document(root);\n",
       "  } else {\n",
       "    let attempts = 0;\n",
       "    const timer = setInterval(function(root) {\n",
       "      if (root.Bokeh !== undefined) {\n",
       "        clearInterval(timer);\n",
       "        embed_document(root);\n",
       "      } else {\n",
       "        attempts++;\n",
       "        if (attempts > 100) {\n",
       "          clearInterval(timer);\n",
       "          console.log(\"Bokeh: ERROR: Unable to run BokehJS code because BokehJS library is missing\");\n",
       "        }\n",
       "      }\n",
       "    }, 10, root)\n",
       "  }\n",
       "})(window);"
      ],
      "application/vnd.bokehjs_exec.v0+json": ""
     },
     "metadata": {
      "application/vnd.bokehjs_exec.v0+json": {
       "id": "p1536"
      }
     },
     "output_type": "display_data"
    }
   ],
   "source": [
    "x = \"Number of Edges\"\n",
    "y = \"Difference (Seconds)\"\n",
    "p = bokeh.plotting.figure(\n",
    "    width=400,\n",
    "    height=300,\n",
    "    x_axis_label=x,\n",
    "    y_axis_label=y,\n",
    ")\n",
    "p.circle(\n",
    "    source=diff,\n",
    "    x=x,\n",
    "    y=y,\n",
    ")\n",
    "bokeh.io.show(p)"
   ]
  },
  {
   "cell_type": "code",
   "execution_count": 17,
   "id": "f8355335-4cd2-430f-840a-b1026e224f68",
   "metadata": {},
   "outputs": [],
   "source": [
    "effects = pd.read_csv('CoraGraphRuntimes.csv')\n",
    "effects = effects.drop(['Average Runtime', 'Unnamed: 0', 'Data'], axis=1)\n",
    "effects = effects.rename({'# Edges': 'Number of Edges', 'Full Runtime': 'Runtime (Seconds)'}, axis=1)\n",
    "gnn = effects[effects['Explainer'] == 'GNN']\n",
    "gnn = gnn.rename({'Runtime (Seconds)': 'GNN Runtime (Seconds)'}, axis=1)\n",
    "gnn = gnn.drop(['Explainer'], axis=1)\n",
    "beta = effects[effects['Explainer'] == 'Beta']\n",
    "beta = beta.rename({'Runtime (Seconds)': 'Beta Runtime (Seconds)'}, axis=1)\n",
    "beta = beta.drop(['Explainer'], axis=1)\n",
    "diff = pd.merge(gnn, beta, how=\"right\", on=[\"# Epochs\",'Number of Edges'])\n",
    "diff['Difference (Seconds)'] = diff['Beta Runtime (Seconds)'] - diff['GNN Runtime (Seconds)']"
   ]
  },
  {
   "cell_type": "code",
   "execution_count": 18,
   "id": "fede293e-2758-4aa8-a7a1-d58915d6b872",
   "metadata": {
    "scrolled": true
   },
   "outputs": [
    {
     "data": {
      "text/html": [
       "\n",
       "  <div id=\"e51e64a1-178a-48ad-83bf-9b2b62d4ad05\" data-root-id=\"p1586\" style=\"display: contents;\"></div>\n"
      ]
     },
     "metadata": {},
     "output_type": "display_data"
    },
    {
     "data": {
      "application/javascript": [
       "(function(root) {\n",
       "  function embed_document(root) {\n",
       "  const docs_json = {\"71c53ac8-4cb1-422a-bd1f-11a5f0e9b4b4\":{\"version\":\"3.3.4\",\"title\":\"Bokeh Application\",\"roots\":[{\"type\":\"object\",\"name\":\"Figure\",\"id\":\"p1586\",\"attributes\":{\"width\":400,\"height\":300,\"x_range\":{\"type\":\"object\",\"name\":\"DataRange1d\",\"id\":\"p1587\"},\"y_range\":{\"type\":\"object\",\"name\":\"DataRange1d\",\"id\":\"p1588\"},\"x_scale\":{\"type\":\"object\",\"name\":\"LinearScale\",\"id\":\"p1595\"},\"y_scale\":{\"type\":\"object\",\"name\":\"LinearScale\",\"id\":\"p1596\"},\"title\":{\"type\":\"object\",\"name\":\"Title\",\"id\":\"p1593\"},\"renderers\":[{\"type\":\"object\",\"name\":\"GlyphRenderer\",\"id\":\"p1627\",\"attributes\":{\"data_source\":{\"type\":\"object\",\"name\":\"ColumnDataSource\",\"id\":\"p1618\",\"attributes\":{\"selected\":{\"type\":\"object\",\"name\":\"Selection\",\"id\":\"p1619\",\"attributes\":{\"indices\":[],\"line_indices\":[]}},\"selection_policy\":{\"type\":\"object\",\"name\":\"UnionRenderers\",\"id\":\"p1620\"},\"data\":{\"type\":\"map\",\"entries\":[[\"index\",{\"type\":\"ndarray\",\"array\":{\"type\":\"bytes\",\"data\":\"AAAAAAIAAAAEAAAABgAAAAgAAAAKAAAADAAAAA4AAAAQAAAAEgAAABQAAAAWAAAAGAAAABoAAAAcAAAA\"},\"shape\":[15],\"dtype\":\"int32\",\"order\":\"little\"}],[\"Explainer\",{\"type\":\"ndarray\",\"array\":[\"Beta\",\"Beta\",\"Beta\",\"Beta\",\"Beta\",\"Beta\",\"Beta\",\"Beta\",\"Beta\",\"Beta\",\"Beta\",\"Beta\",\"Beta\",\"Beta\",\"Beta\"],\"shape\":[15],\"dtype\":\"object\",\"order\":\"little\"}],[\"# Epochs\",{\"type\":\"ndarray\",\"array\":{\"type\":\"bytes\",\"data\":\"MgAAADIAAAAyAAAAMgAAADIAAAAyAAAAMgAAADIAAAAyAAAAMgAAADIAAAAyAAAAMgAAADIAAAAyAAAA\"},\"shape\":[15],\"dtype\":\"int32\",\"order\":\"little\"}],[\"Runtime (Seconds)\",{\"type\":\"ndarray\",\"array\":{\"type\":\"bytes\",\"data\":\"AQAA8GiSFkAAAADw3GUTQAAAAPDT7RNAAAAAkLlcFkAAAABAX1wXQAAAANDt+RpAAAAAQECBGEAAAABwa04YQAAAAGCUixtAAAAAWDIHIUAAAACQO8MeQAAAAGDcDyNAAAAAADFjIEAAAABQsbggQAAAAPDpIiJA\"},\"shape\":[15],\"dtype\":\"float64\",\"order\":\"little\"}],[\"Number of Edges\",{\"type\":\"ndarray\",\"array\":{\"type\":\"bytes\",\"data\":\"MgAAAGQAAACWAAAAyAAAAPoAAAAsAQAAXgEAAJABAADCAQAA9AEAACYCAABYAgAAigIAALwCAADuAgAA\"},\"shape\":[15],\"dtype\":\"int32\",\"order\":\"little\"}]]}}},\"view\":{\"type\":\"object\",\"name\":\"CDSView\",\"id\":\"p1628\",\"attributes\":{\"filter\":{\"type\":\"object\",\"name\":\"AllIndices\",\"id\":\"p1629\"}}},\"glyph\":{\"type\":\"object\",\"name\":\"Circle\",\"id\":\"p1624\",\"attributes\":{\"x\":{\"type\":\"field\",\"field\":\"Number of Edges\"},\"y\":{\"type\":\"field\",\"field\":\"Runtime (Seconds)\"},\"line_color\":{\"type\":\"value\",\"value\":\"#1f77b4\"},\"fill_color\":{\"type\":\"value\",\"value\":\"#1f77b4\"}}},\"nonselection_glyph\":{\"type\":\"object\",\"name\":\"Circle\",\"id\":\"p1625\",\"attributes\":{\"x\":{\"type\":\"field\",\"field\":\"Number of Edges\"},\"y\":{\"type\":\"field\",\"field\":\"Runtime (Seconds)\"},\"line_color\":{\"type\":\"value\",\"value\":\"#1f77b4\"},\"line_alpha\":{\"type\":\"value\",\"value\":0.1},\"fill_color\":{\"type\":\"value\",\"value\":\"#1f77b4\"},\"fill_alpha\":{\"type\":\"value\",\"value\":0.1},\"hatch_alpha\":{\"type\":\"value\",\"value\":0.1}}},\"muted_glyph\":{\"type\":\"object\",\"name\":\"Circle\",\"id\":\"p1626\",\"attributes\":{\"x\":{\"type\":\"field\",\"field\":\"Number of Edges\"},\"y\":{\"type\":\"field\",\"field\":\"Runtime (Seconds)\"},\"line_color\":{\"type\":\"value\",\"value\":\"#1f77b4\"},\"line_alpha\":{\"type\":\"value\",\"value\":0.2},\"fill_color\":{\"type\":\"value\",\"value\":\"#1f77b4\"},\"fill_alpha\":{\"type\":\"value\",\"value\":0.2},\"hatch_alpha\":{\"type\":\"value\",\"value\":0.2}}}}},{\"type\":\"object\",\"name\":\"GlyphRenderer\",\"id\":\"p1641\",\"attributes\":{\"data_source\":{\"type\":\"object\",\"name\":\"ColumnDataSource\",\"id\":\"p1632\",\"attributes\":{\"selected\":{\"type\":\"object\",\"name\":\"Selection\",\"id\":\"p1633\",\"attributes\":{\"indices\":[],\"line_indices\":[]}},\"selection_policy\":{\"type\":\"object\",\"name\":\"UnionRenderers\",\"id\":\"p1634\"},\"data\":{\"type\":\"map\",\"entries\":[[\"index\",{\"type\":\"ndarray\",\"array\":{\"type\":\"bytes\",\"data\":\"AQAAAAMAAAAFAAAABwAAAAkAAAALAAAADQAAAA8AAAARAAAAEwAAABUAAAAXAAAAGQAAABsAAAAdAAAA\"},\"shape\":[15],\"dtype\":\"int32\",\"order\":\"little\"}],[\"Explainer\",{\"type\":\"ndarray\",\"array\":[\"GNN\",\"GNN\",\"GNN\",\"GNN\",\"GNN\",\"GNN\",\"GNN\",\"GNN\",\"GNN\",\"GNN\",\"GNN\",\"GNN\",\"GNN\",\"GNN\",\"GNN\"],\"shape\":[15],\"dtype\":\"object\",\"order\":\"little\"}],[\"# Epochs\",{\"type\":\"ndarray\",\"array\":{\"type\":\"bytes\",\"data\":\"MgAAADIAAAAyAAAAMgAAADIAAAAyAAAAMgAAADIAAAAyAAAAMgAAADIAAAAyAAAAMgAAADIAAAAyAAAA\"},\"shape\":[15],\"dtype\":\"int32\",\"order\":\"little\"}],[\"Runtime (Seconds)\",{\"type\":\"ndarray\",\"array\":{\"type\":\"bytes\",\"data\":\"AAAAIEHBCkAAAAAgH24BQAEAAMC8oAVAAAAAIPCgBEAAAACgZvMKQAAAAOAa7QVAAAAAYLfGB0AAAABg2rkKQAAAAEBtZQhAAAAAoPixB0AAAADgxOMDQAAAAIDxngVAAQAAoPF5CUAAAADgOHcEQAAAAAB32AhA\"},\"shape\":[15],\"dtype\":\"float64\",\"order\":\"little\"}],[\"Number of Edges\",{\"type\":\"ndarray\",\"array\":{\"type\":\"bytes\",\"data\":\"MgAAAGQAAACWAAAAyAAAAPoAAAAsAQAAXgEAAJABAADCAQAA9AEAACYCAABYAgAAigIAALwCAADuAgAA\"},\"shape\":[15],\"dtype\":\"int32\",\"order\":\"little\"}]]}}},\"view\":{\"type\":\"object\",\"name\":\"CDSView\",\"id\":\"p1642\",\"attributes\":{\"filter\":{\"type\":\"object\",\"name\":\"AllIndices\",\"id\":\"p1643\"}}},\"glyph\":{\"type\":\"object\",\"name\":\"Circle\",\"id\":\"p1638\",\"attributes\":{\"x\":{\"type\":\"field\",\"field\":\"Number of Edges\"},\"y\":{\"type\":\"field\",\"field\":\"Runtime (Seconds)\"},\"line_color\":{\"type\":\"value\",\"value\":\"orange\"},\"fill_color\":{\"type\":\"value\",\"value\":\"orange\"},\"hatch_color\":{\"type\":\"value\",\"value\":\"orange\"}}},\"nonselection_glyph\":{\"type\":\"object\",\"name\":\"Circle\",\"id\":\"p1639\",\"attributes\":{\"x\":{\"type\":\"field\",\"field\":\"Number of Edges\"},\"y\":{\"type\":\"field\",\"field\":\"Runtime (Seconds)\"},\"line_color\":{\"type\":\"value\",\"value\":\"orange\"},\"line_alpha\":{\"type\":\"value\",\"value\":0.1},\"fill_color\":{\"type\":\"value\",\"value\":\"orange\"},\"fill_alpha\":{\"type\":\"value\",\"value\":0.1},\"hatch_color\":{\"type\":\"value\",\"value\":\"orange\"},\"hatch_alpha\":{\"type\":\"value\",\"value\":0.1}}},\"muted_glyph\":{\"type\":\"object\",\"name\":\"Circle\",\"id\":\"p1640\",\"attributes\":{\"x\":{\"type\":\"field\",\"field\":\"Number of Edges\"},\"y\":{\"type\":\"field\",\"field\":\"Runtime (Seconds)\"},\"line_color\":{\"type\":\"value\",\"value\":\"orange\"},\"line_alpha\":{\"type\":\"value\",\"value\":0.2},\"fill_color\":{\"type\":\"value\",\"value\":\"orange\"},\"fill_alpha\":{\"type\":\"value\",\"value\":0.2},\"hatch_color\":{\"type\":\"value\",\"value\":\"orange\"},\"hatch_alpha\":{\"type\":\"value\",\"value\":0.2}}}}}],\"toolbar\":{\"type\":\"object\",\"name\":\"Toolbar\",\"id\":\"p1594\",\"attributes\":{\"tools\":[{\"type\":\"object\",\"name\":\"PanTool\",\"id\":\"p1607\"},{\"type\":\"object\",\"name\":\"WheelZoomTool\",\"id\":\"p1608\",\"attributes\":{\"renderers\":\"auto\"}},{\"type\":\"object\",\"name\":\"BoxZoomTool\",\"id\":\"p1609\",\"attributes\":{\"overlay\":{\"type\":\"object\",\"name\":\"BoxAnnotation\",\"id\":\"p1610\",\"attributes\":{\"syncable\":false,\"level\":\"overlay\",\"visible\":false,\"left\":{\"type\":\"number\",\"value\":\"nan\"},\"right\":{\"type\":\"number\",\"value\":\"nan\"},\"top\":{\"type\":\"number\",\"value\":\"nan\"},\"bottom\":{\"type\":\"number\",\"value\":\"nan\"},\"left_units\":\"canvas\",\"right_units\":\"canvas\",\"top_units\":\"canvas\",\"bottom_units\":\"canvas\",\"line_color\":\"black\",\"line_alpha\":1.0,\"line_width\":2,\"line_dash\":[4,4],\"fill_color\":\"lightgrey\",\"fill_alpha\":0.5}}}},{\"type\":\"object\",\"name\":\"SaveTool\",\"id\":\"p1615\"},{\"type\":\"object\",\"name\":\"ResetTool\",\"id\":\"p1616\"},{\"type\":\"object\",\"name\":\"HelpTool\",\"id\":\"p1617\"}]}},\"left\":[{\"type\":\"object\",\"name\":\"LinearAxis\",\"id\":\"p1602\",\"attributes\":{\"ticker\":{\"type\":\"object\",\"name\":\"BasicTicker\",\"id\":\"p1603\",\"attributes\":{\"mantissas\":[1,2,5]}},\"formatter\":{\"type\":\"object\",\"name\":\"BasicTickFormatter\",\"id\":\"p1604\"},\"axis_label\":\"Runtime (Seconds)\",\"major_label_policy\":{\"type\":\"object\",\"name\":\"AllLabels\",\"id\":\"p1605\"}}}],\"below\":[{\"type\":\"object\",\"name\":\"LinearAxis\",\"id\":\"p1597\",\"attributes\":{\"ticker\":{\"type\":\"object\",\"name\":\"BasicTicker\",\"id\":\"p1598\",\"attributes\":{\"mantissas\":[1,2,5]}},\"formatter\":{\"type\":\"object\",\"name\":\"BasicTickFormatter\",\"id\":\"p1599\"},\"axis_label\":\"Number of Edges\",\"major_label_policy\":{\"type\":\"object\",\"name\":\"AllLabels\",\"id\":\"p1600\"}}}],\"center\":[{\"type\":\"object\",\"name\":\"Grid\",\"id\":\"p1601\",\"attributes\":{\"axis\":{\"id\":\"p1597\"}}},{\"type\":\"object\",\"name\":\"Grid\",\"id\":\"p1606\",\"attributes\":{\"dimension\":1,\"axis\":{\"id\":\"p1602\"}}},{\"type\":\"object\",\"name\":\"Legend\",\"id\":\"p1630\",\"attributes\":{\"location\":\"top_left\",\"items\":[{\"type\":\"object\",\"name\":\"LegendItem\",\"id\":\"p1631\",\"attributes\":{\"label\":{\"type\":\"value\",\"value\":\"Beta\"},\"renderers\":[{\"id\":\"p1627\"}]}},{\"type\":\"object\",\"name\":\"LegendItem\",\"id\":\"p1644\",\"attributes\":{\"label\":{\"type\":\"value\",\"value\":\"GNN\"},\"renderers\":[{\"id\":\"p1641\"}]}}]}}]}}]}};\n",
       "  const render_items = [{\"docid\":\"71c53ac8-4cb1-422a-bd1f-11a5f0e9b4b4\",\"roots\":{\"p1586\":\"e51e64a1-178a-48ad-83bf-9b2b62d4ad05\"},\"root_ids\":[\"p1586\"]}];\n",
       "  root.Bokeh.embed.embed_items_notebook(docs_json, render_items);\n",
       "  }\n",
       "  if (root.Bokeh !== undefined) {\n",
       "    embed_document(root);\n",
       "  } else {\n",
       "    let attempts = 0;\n",
       "    const timer = setInterval(function(root) {\n",
       "      if (root.Bokeh !== undefined) {\n",
       "        clearInterval(timer);\n",
       "        embed_document(root);\n",
       "      } else {\n",
       "        attempts++;\n",
       "        if (attempts > 100) {\n",
       "          clearInterval(timer);\n",
       "          console.log(\"Bokeh: ERROR: Unable to run BokehJS code because BokehJS library is missing\");\n",
       "        }\n",
       "      }\n",
       "    }, 10, root)\n",
       "  }\n",
       "})(window);"
      ],
      "application/vnd.bokehjs_exec.v0+json": ""
     },
     "metadata": {
      "application/vnd.bokehjs_exec.v0+json": {
       "id": "p1586"
      }
     },
     "output_type": "display_data"
    }
   ],
   "source": [
    "x = \"Number of Edges\"\n",
    "y = \"Runtime (Seconds)\"\n",
    "p = bokeh.plotting.figure(\n",
    "    width=400,\n",
    "    height=300,\n",
    "    x_axis_label=x,\n",
    "    y_axis_label=y,\n",
    ")\n",
    "p.circle(\n",
    "    source=effects[effects['Explainer'] == 'Beta'],\n",
    "    x=x,\n",
    "    y=y,\n",
    "    legend_label=\"Beta\",\n",
    ")\n",
    "p.circle(\n",
    "    source=effects[effects['Explainer'] == 'GNN'],\n",
    "    x=x,\n",
    "    y=y,\n",
    "    legend_label=\"GNN\",\n",
    "    color='orange'\n",
    ")\n",
    "p.legend.location = \"top_left\"\n",
    "bokeh.io.show(p)"
   ]
  },
  {
   "cell_type": "code",
   "execution_count": 19,
   "id": "a3707d2d-b2d3-4ef9-b920-8476b4a704f2",
   "metadata": {
    "scrolled": true
   },
   "outputs": [
    {
     "data": {
      "text/html": [
       "\n",
       "  <div id=\"e24a7e3a-5a04-409c-8025-ea8ffd9e74dd\" data-root-id=\"p1653\" style=\"display: contents;\"></div>\n"
      ]
     },
     "metadata": {},
     "output_type": "display_data"
    },
    {
     "data": {
      "application/javascript": [
       "(function(root) {\n",
       "  function embed_document(root) {\n",
       "  const docs_json = {\"02a5abe7-8b9b-447b-861a-be2629493258\":{\"version\":\"3.3.4\",\"title\":\"Bokeh Application\",\"roots\":[{\"type\":\"object\",\"name\":\"Figure\",\"id\":\"p1653\",\"attributes\":{\"width\":400,\"height\":300,\"x_range\":{\"type\":\"object\",\"name\":\"DataRange1d\",\"id\":\"p1654\"},\"y_range\":{\"type\":\"object\",\"name\":\"DataRange1d\",\"id\":\"p1655\"},\"x_scale\":{\"type\":\"object\",\"name\":\"LinearScale\",\"id\":\"p1662\"},\"y_scale\":{\"type\":\"object\",\"name\":\"LinearScale\",\"id\":\"p1663\"},\"title\":{\"type\":\"object\",\"name\":\"Title\",\"id\":\"p1660\"},\"renderers\":[{\"type\":\"object\",\"name\":\"GlyphRenderer\",\"id\":\"p1694\",\"attributes\":{\"data_source\":{\"type\":\"object\",\"name\":\"ColumnDataSource\",\"id\":\"p1685\",\"attributes\":{\"selected\":{\"type\":\"object\",\"name\":\"Selection\",\"id\":\"p1686\",\"attributes\":{\"indices\":[],\"line_indices\":[]}},\"selection_policy\":{\"type\":\"object\",\"name\":\"UnionRenderers\",\"id\":\"p1687\"},\"data\":{\"type\":\"map\",\"entries\":[[\"index\",{\"type\":\"ndarray\",\"array\":{\"type\":\"bytes\",\"data\":\"AAAAAAEAAAACAAAAAwAAAAQAAAAFAAAABgAAAAcAAAAIAAAACQAAAAoAAAALAAAADAAAAA0AAAAOAAAA\"},\"shape\":[15],\"dtype\":\"int32\",\"order\":\"little\"}],[\"# Epochs\",{\"type\":\"ndarray\",\"array\":{\"type\":\"bytes\",\"data\":\"MgAAADIAAAAyAAAAMgAAADIAAAAyAAAAMgAAADIAAAAyAAAAMgAAADIAAAAyAAAAMgAAADIAAAAyAAAA\"},\"shape\":[15],\"dtype\":\"int32\",\"order\":\"little\"}],[\"GNN Runtime (Seconds)\",{\"type\":\"ndarray\",\"array\":{\"type\":\"bytes\",\"data\":\"AAAAIEHBCkAAAAAgH24BQAEAAMC8oAVAAAAAIPCgBEAAAACgZvMKQAAAAOAa7QVAAAAAYLfGB0AAAABg2rkKQAAAAEBtZQhAAAAAoPixB0AAAADgxOMDQAAAAIDxngVAAQAAoPF5CUAAAADgOHcEQAAAAAB32AhA\"},\"shape\":[15],\"dtype\":\"float64\",\"order\":\"little\"}],[\"Number of Edges\",{\"type\":\"ndarray\",\"array\":{\"type\":\"bytes\",\"data\":\"MgAAAGQAAACWAAAAyAAAAPoAAAAsAQAAXgEAAJABAADCAQAA9AEAACYCAABYAgAAigIAALwCAADuAgAA\"},\"shape\":[15],\"dtype\":\"int32\",\"order\":\"little\"}],[\"Beta Runtime (Seconds)\",{\"type\":\"ndarray\",\"array\":{\"type\":\"bytes\",\"data\":\"AQAA8GiSFkAAAADw3GUTQAAAAPDT7RNAAAAAkLlcFkAAAABAX1wXQAAAANDt+RpAAAAAQECBGEAAAABwa04YQAAAAGCUixtAAAAAWDIHIUAAAACQO8MeQAAAAGDcDyNAAAAAADFjIEAAAABQsbggQAAAAPDpIiJA\"},\"shape\":[15],\"dtype\":\"float64\",\"order\":\"little\"}],[\"Difference (Seconds)\",{\"type\":\"ndarray\",\"array\":{\"type\":\"bytes\",\"data\":\"AgAAwJBjAkAAAADAml0FQP///x/rOgJAAAAAAIMYCEAAAADgV8UDQAAAAGBgAxBAAAAAIMk7CUAAAACA/OIFQAAAAIC7sQ5AAAAAYGg1FkAAAAAgWdEUQAAAAABAUBtAAAAAMGkJFEAAAAAwxjUXQAAAAGCY2RdA\"},\"shape\":[15],\"dtype\":\"float64\",\"order\":\"little\"}]]}}},\"view\":{\"type\":\"object\",\"name\":\"CDSView\",\"id\":\"p1695\",\"attributes\":{\"filter\":{\"type\":\"object\",\"name\":\"AllIndices\",\"id\":\"p1696\"}}},\"glyph\":{\"type\":\"object\",\"name\":\"Circle\",\"id\":\"p1691\",\"attributes\":{\"x\":{\"type\":\"field\",\"field\":\"Number of Edges\"},\"y\":{\"type\":\"field\",\"field\":\"Difference (Seconds)\"},\"line_color\":{\"type\":\"value\",\"value\":\"#1f77b4\"},\"fill_color\":{\"type\":\"value\",\"value\":\"#1f77b4\"}}},\"nonselection_glyph\":{\"type\":\"object\",\"name\":\"Circle\",\"id\":\"p1692\",\"attributes\":{\"x\":{\"type\":\"field\",\"field\":\"Number of Edges\"},\"y\":{\"type\":\"field\",\"field\":\"Difference (Seconds)\"},\"line_color\":{\"type\":\"value\",\"value\":\"#1f77b4\"},\"line_alpha\":{\"type\":\"value\",\"value\":0.1},\"fill_color\":{\"type\":\"value\",\"value\":\"#1f77b4\"},\"fill_alpha\":{\"type\":\"value\",\"value\":0.1},\"hatch_alpha\":{\"type\":\"value\",\"value\":0.1}}},\"muted_glyph\":{\"type\":\"object\",\"name\":\"Circle\",\"id\":\"p1693\",\"attributes\":{\"x\":{\"type\":\"field\",\"field\":\"Number of Edges\"},\"y\":{\"type\":\"field\",\"field\":\"Difference (Seconds)\"},\"line_color\":{\"type\":\"value\",\"value\":\"#1f77b4\"},\"line_alpha\":{\"type\":\"value\",\"value\":0.2},\"fill_color\":{\"type\":\"value\",\"value\":\"#1f77b4\"},\"fill_alpha\":{\"type\":\"value\",\"value\":0.2},\"hatch_alpha\":{\"type\":\"value\",\"value\":0.2}}}}}],\"toolbar\":{\"type\":\"object\",\"name\":\"Toolbar\",\"id\":\"p1661\",\"attributes\":{\"tools\":[{\"type\":\"object\",\"name\":\"PanTool\",\"id\":\"p1674\"},{\"type\":\"object\",\"name\":\"WheelZoomTool\",\"id\":\"p1675\",\"attributes\":{\"renderers\":\"auto\"}},{\"type\":\"object\",\"name\":\"BoxZoomTool\",\"id\":\"p1676\",\"attributes\":{\"overlay\":{\"type\":\"object\",\"name\":\"BoxAnnotation\",\"id\":\"p1677\",\"attributes\":{\"syncable\":false,\"level\":\"overlay\",\"visible\":false,\"left\":{\"type\":\"number\",\"value\":\"nan\"},\"right\":{\"type\":\"number\",\"value\":\"nan\"},\"top\":{\"type\":\"number\",\"value\":\"nan\"},\"bottom\":{\"type\":\"number\",\"value\":\"nan\"},\"left_units\":\"canvas\",\"right_units\":\"canvas\",\"top_units\":\"canvas\",\"bottom_units\":\"canvas\",\"line_color\":\"black\",\"line_alpha\":1.0,\"line_width\":2,\"line_dash\":[4,4],\"fill_color\":\"lightgrey\",\"fill_alpha\":0.5}}}},{\"type\":\"object\",\"name\":\"SaveTool\",\"id\":\"p1682\"},{\"type\":\"object\",\"name\":\"ResetTool\",\"id\":\"p1683\"},{\"type\":\"object\",\"name\":\"HelpTool\",\"id\":\"p1684\"}]}},\"left\":[{\"type\":\"object\",\"name\":\"LinearAxis\",\"id\":\"p1669\",\"attributes\":{\"ticker\":{\"type\":\"object\",\"name\":\"BasicTicker\",\"id\":\"p1670\",\"attributes\":{\"mantissas\":[1,2,5]}},\"formatter\":{\"type\":\"object\",\"name\":\"BasicTickFormatter\",\"id\":\"p1671\"},\"axis_label\":\"Difference (Seconds)\",\"major_label_policy\":{\"type\":\"object\",\"name\":\"AllLabels\",\"id\":\"p1672\"}}}],\"below\":[{\"type\":\"object\",\"name\":\"LinearAxis\",\"id\":\"p1664\",\"attributes\":{\"ticker\":{\"type\":\"object\",\"name\":\"BasicTicker\",\"id\":\"p1665\",\"attributes\":{\"mantissas\":[1,2,5]}},\"formatter\":{\"type\":\"object\",\"name\":\"BasicTickFormatter\",\"id\":\"p1666\"},\"axis_label\":\"Number of Edges\",\"major_label_policy\":{\"type\":\"object\",\"name\":\"AllLabels\",\"id\":\"p1667\"}}}],\"center\":[{\"type\":\"object\",\"name\":\"Grid\",\"id\":\"p1668\",\"attributes\":{\"axis\":{\"id\":\"p1664\"}}},{\"type\":\"object\",\"name\":\"Grid\",\"id\":\"p1673\",\"attributes\":{\"dimension\":1,\"axis\":{\"id\":\"p1669\"}}}]}}]}};\n",
       "  const render_items = [{\"docid\":\"02a5abe7-8b9b-447b-861a-be2629493258\",\"roots\":{\"p1653\":\"e24a7e3a-5a04-409c-8025-ea8ffd9e74dd\"},\"root_ids\":[\"p1653\"]}];\n",
       "  root.Bokeh.embed.embed_items_notebook(docs_json, render_items);\n",
       "  }\n",
       "  if (root.Bokeh !== undefined) {\n",
       "    embed_document(root);\n",
       "  } else {\n",
       "    let attempts = 0;\n",
       "    const timer = setInterval(function(root) {\n",
       "      if (root.Bokeh !== undefined) {\n",
       "        clearInterval(timer);\n",
       "        embed_document(root);\n",
       "      } else {\n",
       "        attempts++;\n",
       "        if (attempts > 100) {\n",
       "          clearInterval(timer);\n",
       "          console.log(\"Bokeh: ERROR: Unable to run BokehJS code because BokehJS library is missing\");\n",
       "        }\n",
       "      }\n",
       "    }, 10, root)\n",
       "  }\n",
       "})(window);"
      ],
      "application/vnd.bokehjs_exec.v0+json": ""
     },
     "metadata": {
      "application/vnd.bokehjs_exec.v0+json": {
       "id": "p1653"
      }
     },
     "output_type": "display_data"
    }
   ],
   "source": [
    "x = \"Number of Edges\"\n",
    "y = \"Difference (Seconds)\"\n",
    "p = bokeh.plotting.figure(\n",
    "    width=400,\n",
    "    height=300,\n",
    "    x_axis_label=x,\n",
    "    y_axis_label=y,\n",
    ")\n",
    "p.circle(\n",
    "    source=diff,\n",
    "    x=x,\n",
    "    y=y,\n",
    ")\n",
    "bokeh.io.show(p)"
   ]
  },
  {
   "cell_type": "code",
   "execution_count": 20,
   "id": "aad29eb0-cedb-4500-aae8-a8e384f9b39d",
   "metadata": {},
   "outputs": [],
   "source": [
    "effects = pd.read_csv('CiteSeerGraphRuntimes.csv')\n",
    "effects = effects.drop(['Average Runtime', 'Unnamed: 0', 'Data'], axis=1)\n",
    "effects = effects.rename({'# Edges': 'Number of Edges', 'Full Runtime': 'Runtime (Seconds)'}, axis=1)\n",
    "gnn = effects[effects['Explainer'] == 'GNN']\n",
    "gnn = gnn.rename({'Runtime (Seconds)': 'GNN Runtime (Seconds)'}, axis=1)\n",
    "gnn = gnn.drop(['Explainer'], axis=1)\n",
    "beta = effects[effects['Explainer'] == 'Beta']\n",
    "beta = beta.rename({'Runtime (Seconds)': 'Beta Runtime (Seconds)'}, axis=1)\n",
    "beta = beta.drop(['Explainer'], axis=1)\n",
    "diff = pd.merge(gnn, beta, how=\"right\", on=[\"# Epochs\",'Number of Edges'])\n",
    "diff['Difference (Seconds)'] = diff['Beta Runtime (Seconds)'] - diff['GNN Runtime (Seconds)']"
   ]
  },
  {
   "cell_type": "code",
   "execution_count": 21,
   "id": "b16ec807-eea0-476b-8df6-847af04c7b27",
   "metadata": {
    "jupyter": {
     "source_hidden": true
    },
    "scrolled": true
   },
   "outputs": [
    {
     "data": {
      "text/html": [
       "\n",
       "  <div id=\"acdd64b0-8876-419b-8531-ef74ff576da6\" data-root-id=\"p1703\" style=\"display: contents;\"></div>\n"
      ]
     },
     "metadata": {},
     "output_type": "display_data"
    },
    {
     "data": {
      "application/javascript": [
       "(function(root) {\n",
       "  function embed_document(root) {\n",
       "  const docs_json = {\"c84a5388-953a-4504-820f-b5fbe3bbc96f\":{\"version\":\"3.3.4\",\"title\":\"Bokeh Application\",\"roots\":[{\"type\":\"object\",\"name\":\"Figure\",\"id\":\"p1703\",\"attributes\":{\"width\":400,\"height\":300,\"x_range\":{\"type\":\"object\",\"name\":\"DataRange1d\",\"id\":\"p1704\"},\"y_range\":{\"type\":\"object\",\"name\":\"DataRange1d\",\"id\":\"p1705\"},\"x_scale\":{\"type\":\"object\",\"name\":\"LinearScale\",\"id\":\"p1712\"},\"y_scale\":{\"type\":\"object\",\"name\":\"LinearScale\",\"id\":\"p1713\"},\"title\":{\"type\":\"object\",\"name\":\"Title\",\"id\":\"p1710\"},\"renderers\":[{\"type\":\"object\",\"name\":\"GlyphRenderer\",\"id\":\"p1744\",\"attributes\":{\"data_source\":{\"type\":\"object\",\"name\":\"ColumnDataSource\",\"id\":\"p1735\",\"attributes\":{\"selected\":{\"type\":\"object\",\"name\":\"Selection\",\"id\":\"p1736\",\"attributes\":{\"indices\":[],\"line_indices\":[]}},\"selection_policy\":{\"type\":\"object\",\"name\":\"UnionRenderers\",\"id\":\"p1737\"},\"data\":{\"type\":\"map\",\"entries\":[[\"index\",{\"type\":\"ndarray\",\"array\":{\"type\":\"bytes\",\"data\":\"AAAAAAIAAAAEAAAABgAAAAgAAAAKAAAADAAAAA4AAAAQAAAAEgAAABQAAAAWAAAAGAAAABoAAAAcAAAA\"},\"shape\":[15],\"dtype\":\"int32\",\"order\":\"little\"}],[\"Explainer\",{\"type\":\"ndarray\",\"array\":[\"Beta\",\"Beta\",\"Beta\",\"Beta\",\"Beta\",\"Beta\",\"Beta\",\"Beta\",\"Beta\",\"Beta\",\"Beta\",\"Beta\",\"Beta\",\"Beta\",\"Beta\"],\"shape\":[15],\"dtype\":\"object\",\"order\":\"little\"}],[\"# Epochs\",{\"type\":\"ndarray\",\"array\":{\"type\":\"bytes\",\"data\":\"MgAAADIAAAAyAAAAMgAAADIAAAAyAAAAMgAAADIAAAAyAAAAMgAAADIAAAAyAAAAMgAAADIAAAAyAAAA\"},\"shape\":[15],\"dtype\":\"int32\",\"order\":\"little\"}],[\"Runtime (Seconds)\",{\"type\":\"ndarray\",\"array\":{\"type\":\"bytes\",\"data\":\"AAAAQF9aHEAAAACAH7wcQAAAAAA9ah9AAAAAoOhKIUAAAABwmhIeQAAAACDUwyFAAAAASHagJEAAAADIFT4hQAAAAKDekCJAAAAAsB0zIkAAAABgMYIiQAAAAGiQYSBAAAAA0J6rIEAAAABQdakZQAAAAJDcdx5A\"},\"shape\":[15],\"dtype\":\"float64\",\"order\":\"little\"}],[\"Number of Edges\",{\"type\":\"ndarray\",\"array\":{\"type\":\"bytes\",\"data\":\"MgAAAGQAAACWAAAAyAAAAPoAAAAsAQAAXgEAAJABAADCAQAA9AEAACYCAABYAgAAigIAALwCAADuAgAA\"},\"shape\":[15],\"dtype\":\"int32\",\"order\":\"little\"}]]}}},\"view\":{\"type\":\"object\",\"name\":\"CDSView\",\"id\":\"p1745\",\"attributes\":{\"filter\":{\"type\":\"object\",\"name\":\"AllIndices\",\"id\":\"p1746\"}}},\"glyph\":{\"type\":\"object\",\"name\":\"Circle\",\"id\":\"p1741\",\"attributes\":{\"x\":{\"type\":\"field\",\"field\":\"Number of Edges\"},\"y\":{\"type\":\"field\",\"field\":\"Runtime (Seconds)\"},\"line_color\":{\"type\":\"value\",\"value\":\"#1f77b4\"},\"fill_color\":{\"type\":\"value\",\"value\":\"#1f77b4\"}}},\"nonselection_glyph\":{\"type\":\"object\",\"name\":\"Circle\",\"id\":\"p1742\",\"attributes\":{\"x\":{\"type\":\"field\",\"field\":\"Number of Edges\"},\"y\":{\"type\":\"field\",\"field\":\"Runtime (Seconds)\"},\"line_color\":{\"type\":\"value\",\"value\":\"#1f77b4\"},\"line_alpha\":{\"type\":\"value\",\"value\":0.1},\"fill_color\":{\"type\":\"value\",\"value\":\"#1f77b4\"},\"fill_alpha\":{\"type\":\"value\",\"value\":0.1},\"hatch_alpha\":{\"type\":\"value\",\"value\":0.1}}},\"muted_glyph\":{\"type\":\"object\",\"name\":\"Circle\",\"id\":\"p1743\",\"attributes\":{\"x\":{\"type\":\"field\",\"field\":\"Number of Edges\"},\"y\":{\"type\":\"field\",\"field\":\"Runtime (Seconds)\"},\"line_color\":{\"type\":\"value\",\"value\":\"#1f77b4\"},\"line_alpha\":{\"type\":\"value\",\"value\":0.2},\"fill_color\":{\"type\":\"value\",\"value\":\"#1f77b4\"},\"fill_alpha\":{\"type\":\"value\",\"value\":0.2},\"hatch_alpha\":{\"type\":\"value\",\"value\":0.2}}}}},{\"type\":\"object\",\"name\":\"GlyphRenderer\",\"id\":\"p1758\",\"attributes\":{\"data_source\":{\"type\":\"object\",\"name\":\"ColumnDataSource\",\"id\":\"p1749\",\"attributes\":{\"selected\":{\"type\":\"object\",\"name\":\"Selection\",\"id\":\"p1750\",\"attributes\":{\"indices\":[],\"line_indices\":[]}},\"selection_policy\":{\"type\":\"object\",\"name\":\"UnionRenderers\",\"id\":\"p1751\"},\"data\":{\"type\":\"map\",\"entries\":[[\"index\",{\"type\":\"ndarray\",\"array\":{\"type\":\"bytes\",\"data\":\"AQAAAAMAAAAFAAAABwAAAAkAAAALAAAADQAAAA8AAAARAAAAEwAAABUAAAAXAAAAGQAAABsAAAAdAAAA\"},\"shape\":[15],\"dtype\":\"int32\",\"order\":\"little\"}],[\"Explainer\",{\"type\":\"ndarray\",\"array\":[\"GNN\",\"GNN\",\"GNN\",\"GNN\",\"GNN\",\"GNN\",\"GNN\",\"GNN\",\"GNN\",\"GNN\",\"GNN\",\"GNN\",\"GNN\",\"GNN\",\"GNN\"],\"shape\":[15],\"dtype\":\"object\",\"order\":\"little\"}],[\"# Epochs\",{\"type\":\"ndarray\",\"array\":{\"type\":\"bytes\",\"data\":\"MgAAADIAAAAyAAAAMgAAADIAAAAyAAAAMgAAADIAAAAyAAAAMgAAADIAAAAyAAAAMgAAADIAAAAyAAAA\"},\"shape\":[15],\"dtype\":\"int32\",\"order\":\"little\"}],[\"Runtime (Seconds)\",{\"type\":\"ndarray\",\"array\":{\"type\":\"bytes\",\"data\":\"AAAAcEOGGEAAAAAAo0gSQAAAACAMSxJAAAAA4BXVE0AAAABAYdETQAAAAPA/tRJAAAAAcBKXFEAAAAAQA1wWQAAAACDHDxRAAAAA0BDkF0AAAACQiOIVQAAAAADjBxJAAAAAICelEkAAAACQfkEUQAAAAGBZbhdA\"},\"shape\":[15],\"dtype\":\"float64\",\"order\":\"little\"}],[\"Number of Edges\",{\"type\":\"ndarray\",\"array\":{\"type\":\"bytes\",\"data\":\"MgAAAGQAAACWAAAAyAAAAPoAAAAsAQAAXgEAAJABAADCAQAA9AEAACYCAABYAgAAigIAALwCAADuAgAA\"},\"shape\":[15],\"dtype\":\"int32\",\"order\":\"little\"}]]}}},\"view\":{\"type\":\"object\",\"name\":\"CDSView\",\"id\":\"p1759\",\"attributes\":{\"filter\":{\"type\":\"object\",\"name\":\"AllIndices\",\"id\":\"p1760\"}}},\"glyph\":{\"type\":\"object\",\"name\":\"Circle\",\"id\":\"p1755\",\"attributes\":{\"x\":{\"type\":\"field\",\"field\":\"Number of Edges\"},\"y\":{\"type\":\"field\",\"field\":\"Runtime (Seconds)\"},\"line_color\":{\"type\":\"value\",\"value\":\"orange\"},\"fill_color\":{\"type\":\"value\",\"value\":\"orange\"},\"hatch_color\":{\"type\":\"value\",\"value\":\"orange\"}}},\"nonselection_glyph\":{\"type\":\"object\",\"name\":\"Circle\",\"id\":\"p1756\",\"attributes\":{\"x\":{\"type\":\"field\",\"field\":\"Number of Edges\"},\"y\":{\"type\":\"field\",\"field\":\"Runtime (Seconds)\"},\"line_color\":{\"type\":\"value\",\"value\":\"orange\"},\"line_alpha\":{\"type\":\"value\",\"value\":0.1},\"fill_color\":{\"type\":\"value\",\"value\":\"orange\"},\"fill_alpha\":{\"type\":\"value\",\"value\":0.1},\"hatch_color\":{\"type\":\"value\",\"value\":\"orange\"},\"hatch_alpha\":{\"type\":\"value\",\"value\":0.1}}},\"muted_glyph\":{\"type\":\"object\",\"name\":\"Circle\",\"id\":\"p1757\",\"attributes\":{\"x\":{\"type\":\"field\",\"field\":\"Number of Edges\"},\"y\":{\"type\":\"field\",\"field\":\"Runtime (Seconds)\"},\"line_color\":{\"type\":\"value\",\"value\":\"orange\"},\"line_alpha\":{\"type\":\"value\",\"value\":0.2},\"fill_color\":{\"type\":\"value\",\"value\":\"orange\"},\"fill_alpha\":{\"type\":\"value\",\"value\":0.2},\"hatch_color\":{\"type\":\"value\",\"value\":\"orange\"},\"hatch_alpha\":{\"type\":\"value\",\"value\":0.2}}}}}],\"toolbar\":{\"type\":\"object\",\"name\":\"Toolbar\",\"id\":\"p1711\",\"attributes\":{\"tools\":[{\"type\":\"object\",\"name\":\"PanTool\",\"id\":\"p1724\"},{\"type\":\"object\",\"name\":\"WheelZoomTool\",\"id\":\"p1725\",\"attributes\":{\"renderers\":\"auto\"}},{\"type\":\"object\",\"name\":\"BoxZoomTool\",\"id\":\"p1726\",\"attributes\":{\"overlay\":{\"type\":\"object\",\"name\":\"BoxAnnotation\",\"id\":\"p1727\",\"attributes\":{\"syncable\":false,\"level\":\"overlay\",\"visible\":false,\"left\":{\"type\":\"number\",\"value\":\"nan\"},\"right\":{\"type\":\"number\",\"value\":\"nan\"},\"top\":{\"type\":\"number\",\"value\":\"nan\"},\"bottom\":{\"type\":\"number\",\"value\":\"nan\"},\"left_units\":\"canvas\",\"right_units\":\"canvas\",\"top_units\":\"canvas\",\"bottom_units\":\"canvas\",\"line_color\":\"black\",\"line_alpha\":1.0,\"line_width\":2,\"line_dash\":[4,4],\"fill_color\":\"lightgrey\",\"fill_alpha\":0.5}}}},{\"type\":\"object\",\"name\":\"SaveTool\",\"id\":\"p1732\"},{\"type\":\"object\",\"name\":\"ResetTool\",\"id\":\"p1733\"},{\"type\":\"object\",\"name\":\"HelpTool\",\"id\":\"p1734\"}]}},\"left\":[{\"type\":\"object\",\"name\":\"LinearAxis\",\"id\":\"p1719\",\"attributes\":{\"ticker\":{\"type\":\"object\",\"name\":\"BasicTicker\",\"id\":\"p1720\",\"attributes\":{\"mantissas\":[1,2,5]}},\"formatter\":{\"type\":\"object\",\"name\":\"BasicTickFormatter\",\"id\":\"p1721\"},\"axis_label\":\"Runtime (Seconds)\",\"major_label_policy\":{\"type\":\"object\",\"name\":\"AllLabels\",\"id\":\"p1722\"}}}],\"below\":[{\"type\":\"object\",\"name\":\"LinearAxis\",\"id\":\"p1714\",\"attributes\":{\"ticker\":{\"type\":\"object\",\"name\":\"BasicTicker\",\"id\":\"p1715\",\"attributes\":{\"mantissas\":[1,2,5]}},\"formatter\":{\"type\":\"object\",\"name\":\"BasicTickFormatter\",\"id\":\"p1716\"},\"axis_label\":\"Number of Edges\",\"major_label_policy\":{\"type\":\"object\",\"name\":\"AllLabels\",\"id\":\"p1717\"}}}],\"center\":[{\"type\":\"object\",\"name\":\"Grid\",\"id\":\"p1718\",\"attributes\":{\"axis\":{\"id\":\"p1714\"}}},{\"type\":\"object\",\"name\":\"Grid\",\"id\":\"p1723\",\"attributes\":{\"dimension\":1,\"axis\":{\"id\":\"p1719\"}}},{\"type\":\"object\",\"name\":\"Legend\",\"id\":\"p1747\",\"attributes\":{\"location\":\"top_left\",\"items\":[{\"type\":\"object\",\"name\":\"LegendItem\",\"id\":\"p1748\",\"attributes\":{\"label\":{\"type\":\"value\",\"value\":\"Beta\"},\"renderers\":[{\"id\":\"p1744\"}]}},{\"type\":\"object\",\"name\":\"LegendItem\",\"id\":\"p1761\",\"attributes\":{\"label\":{\"type\":\"value\",\"value\":\"GNN\"},\"renderers\":[{\"id\":\"p1758\"}]}}]}}]}}]}};\n",
       "  const render_items = [{\"docid\":\"c84a5388-953a-4504-820f-b5fbe3bbc96f\",\"roots\":{\"p1703\":\"acdd64b0-8876-419b-8531-ef74ff576da6\"},\"root_ids\":[\"p1703\"]}];\n",
       "  root.Bokeh.embed.embed_items_notebook(docs_json, render_items);\n",
       "  }\n",
       "  if (root.Bokeh !== undefined) {\n",
       "    embed_document(root);\n",
       "  } else {\n",
       "    let attempts = 0;\n",
       "    const timer = setInterval(function(root) {\n",
       "      if (root.Bokeh !== undefined) {\n",
       "        clearInterval(timer);\n",
       "        embed_document(root);\n",
       "      } else {\n",
       "        attempts++;\n",
       "        if (attempts > 100) {\n",
       "          clearInterval(timer);\n",
       "          console.log(\"Bokeh: ERROR: Unable to run BokehJS code because BokehJS library is missing\");\n",
       "        }\n",
       "      }\n",
       "    }, 10, root)\n",
       "  }\n",
       "})(window);"
      ],
      "application/vnd.bokehjs_exec.v0+json": ""
     },
     "metadata": {
      "application/vnd.bokehjs_exec.v0+json": {
       "id": "p1703"
      }
     },
     "output_type": "display_data"
    }
   ],
   "source": [
    "x = \"Number of Edges\"\n",
    "y = \"Runtime (Seconds)\"\n",
    "p = bokeh.plotting.figure(\n",
    "    width=400,\n",
    "    height=300,\n",
    "    x_axis_label=x,\n",
    "    y_axis_label=y,\n",
    ")\n",
    "p.circle(\n",
    "    source=effects[effects['Explainer'] == 'Beta'],\n",
    "    x=x,\n",
    "    y=y,\n",
    "    legend_label=\"Beta\",\n",
    ")\n",
    "p.circle(\n",
    "    source=effects[effects['Explainer'] == 'GNN'],\n",
    "    x=x,\n",
    "    y=y,\n",
    "    legend_label=\"GNN\",\n",
    "    color='orange'\n",
    ")\n",
    "p.legend.location = \"top_left\"\n",
    "bokeh.io.show(p)"
   ]
  },
  {
   "cell_type": "code",
   "execution_count": 22,
   "id": "66c5d930-0a1a-46f0-83c9-43bc865528c3",
   "metadata": {
    "scrolled": true
   },
   "outputs": [
    {
     "data": {
      "text/html": [
       "\n",
       "  <div id=\"f3027a32-e38e-4324-afeb-6afd818136af\" data-root-id=\"p1770\" style=\"display: contents;\"></div>\n"
      ]
     },
     "metadata": {},
     "output_type": "display_data"
    },
    {
     "data": {
      "application/javascript": [
       "(function(root) {\n",
       "  function embed_document(root) {\n",
       "  const docs_json = {\"25d66d16-3590-4e7d-a47c-d41b2ddf28c7\":{\"version\":\"3.3.4\",\"title\":\"Bokeh Application\",\"roots\":[{\"type\":\"object\",\"name\":\"Figure\",\"id\":\"p1770\",\"attributes\":{\"width\":400,\"height\":300,\"x_range\":{\"type\":\"object\",\"name\":\"DataRange1d\",\"id\":\"p1771\"},\"y_range\":{\"type\":\"object\",\"name\":\"DataRange1d\",\"id\":\"p1772\"},\"x_scale\":{\"type\":\"object\",\"name\":\"LinearScale\",\"id\":\"p1779\"},\"y_scale\":{\"type\":\"object\",\"name\":\"LinearScale\",\"id\":\"p1780\"},\"title\":{\"type\":\"object\",\"name\":\"Title\",\"id\":\"p1777\"},\"renderers\":[{\"type\":\"object\",\"name\":\"GlyphRenderer\",\"id\":\"p1811\",\"attributes\":{\"data_source\":{\"type\":\"object\",\"name\":\"ColumnDataSource\",\"id\":\"p1802\",\"attributes\":{\"selected\":{\"type\":\"object\",\"name\":\"Selection\",\"id\":\"p1803\",\"attributes\":{\"indices\":[],\"line_indices\":[]}},\"selection_policy\":{\"type\":\"object\",\"name\":\"UnionRenderers\",\"id\":\"p1804\"},\"data\":{\"type\":\"map\",\"entries\":[[\"index\",{\"type\":\"ndarray\",\"array\":{\"type\":\"bytes\",\"data\":\"AAAAAAEAAAACAAAAAwAAAAQAAAAFAAAABgAAAAcAAAAIAAAACQAAAAoAAAALAAAADAAAAA0AAAAOAAAA\"},\"shape\":[15],\"dtype\":\"int32\",\"order\":\"little\"}],[\"# Epochs\",{\"type\":\"ndarray\",\"array\":{\"type\":\"bytes\",\"data\":\"MgAAADIAAAAyAAAAMgAAADIAAAAyAAAAMgAAADIAAAAyAAAAMgAAADIAAAAyAAAAMgAAADIAAAAyAAAA\"},\"shape\":[15],\"dtype\":\"int32\",\"order\":\"little\"}],[\"GNN Runtime (Seconds)\",{\"type\":\"ndarray\",\"array\":{\"type\":\"bytes\",\"data\":\"AAAAcEOGGEAAAAAAo0gSQAAAACAMSxJAAAAA4BXVE0AAAABAYdETQAAAAPA/tRJAAAAAcBKXFEAAAAAQA1wWQAAAACDHDxRAAAAA0BDkF0AAAACQiOIVQAAAAADjBxJAAAAAICelEkAAAACQfkEUQAAAAGBZbhdA\"},\"shape\":[15],\"dtype\":\"float64\",\"order\":\"little\"}],[\"Number of Edges\",{\"type\":\"ndarray\",\"array\":{\"type\":\"bytes\",\"data\":\"MgAAAGQAAACWAAAAyAAAAPoAAAAsAQAAXgEAAJABAADCAQAA9AEAACYCAABYAgAAigIAALwCAADuAgAA\"},\"shape\":[15],\"dtype\":\"int32\",\"order\":\"little\"}],[\"Beta Runtime (Seconds)\",{\"type\":\"ndarray\",\"array\":{\"type\":\"bytes\",\"data\":\"AAAAQF9aHEAAAACAH7wcQAAAAAA9ah9AAAAAoOhKIUAAAABwmhIeQAAAACDUwyFAAAAASHagJEAAAADIFT4hQAAAAKDekCJAAAAAsB0zIkAAAABgMYIiQAAAAGiQYSBAAAAA0J6rIEAAAABQdakZQAAAAJDcdx5A\"},\"shape\":[15],\"dtype\":\"float64\",\"order\":\"little\"}],[\"Difference (Seconds)\",{\"type\":\"ndarray\",\"array\":{\"type\":\"bytes\",\"data\":\"AAAAgN6g7j8AAAAA+eYEQAAAAMBhPgpAAAAAwHaBDUAAAABgcoIEQAAAAFBo0hBAAAAAINqpFEAAAAAAUUAIQAAAACD2ERFAAAAAIFUECUAAAABgtEMOQAAAAKB7dg1AAAAAAC1kDUAAAAAA25/1PwAAAMAMJvw/\"},\"shape\":[15],\"dtype\":\"float64\",\"order\":\"little\"}]]}}},\"view\":{\"type\":\"object\",\"name\":\"CDSView\",\"id\":\"p1812\",\"attributes\":{\"filter\":{\"type\":\"object\",\"name\":\"AllIndices\",\"id\":\"p1813\"}}},\"glyph\":{\"type\":\"object\",\"name\":\"Circle\",\"id\":\"p1808\",\"attributes\":{\"x\":{\"type\":\"field\",\"field\":\"Number of Edges\"},\"y\":{\"type\":\"field\",\"field\":\"Difference (Seconds)\"},\"line_color\":{\"type\":\"value\",\"value\":\"#1f77b4\"},\"fill_color\":{\"type\":\"value\",\"value\":\"#1f77b4\"}}},\"nonselection_glyph\":{\"type\":\"object\",\"name\":\"Circle\",\"id\":\"p1809\",\"attributes\":{\"x\":{\"type\":\"field\",\"field\":\"Number of Edges\"},\"y\":{\"type\":\"field\",\"field\":\"Difference (Seconds)\"},\"line_color\":{\"type\":\"value\",\"value\":\"#1f77b4\"},\"line_alpha\":{\"type\":\"value\",\"value\":0.1},\"fill_color\":{\"type\":\"value\",\"value\":\"#1f77b4\"},\"fill_alpha\":{\"type\":\"value\",\"value\":0.1},\"hatch_alpha\":{\"type\":\"value\",\"value\":0.1}}},\"muted_glyph\":{\"type\":\"object\",\"name\":\"Circle\",\"id\":\"p1810\",\"attributes\":{\"x\":{\"type\":\"field\",\"field\":\"Number of Edges\"},\"y\":{\"type\":\"field\",\"field\":\"Difference (Seconds)\"},\"line_color\":{\"type\":\"value\",\"value\":\"#1f77b4\"},\"line_alpha\":{\"type\":\"value\",\"value\":0.2},\"fill_color\":{\"type\":\"value\",\"value\":\"#1f77b4\"},\"fill_alpha\":{\"type\":\"value\",\"value\":0.2},\"hatch_alpha\":{\"type\":\"value\",\"value\":0.2}}}}}],\"toolbar\":{\"type\":\"object\",\"name\":\"Toolbar\",\"id\":\"p1778\",\"attributes\":{\"tools\":[{\"type\":\"object\",\"name\":\"PanTool\",\"id\":\"p1791\"},{\"type\":\"object\",\"name\":\"WheelZoomTool\",\"id\":\"p1792\",\"attributes\":{\"renderers\":\"auto\"}},{\"type\":\"object\",\"name\":\"BoxZoomTool\",\"id\":\"p1793\",\"attributes\":{\"overlay\":{\"type\":\"object\",\"name\":\"BoxAnnotation\",\"id\":\"p1794\",\"attributes\":{\"syncable\":false,\"level\":\"overlay\",\"visible\":false,\"left\":{\"type\":\"number\",\"value\":\"nan\"},\"right\":{\"type\":\"number\",\"value\":\"nan\"},\"top\":{\"type\":\"number\",\"value\":\"nan\"},\"bottom\":{\"type\":\"number\",\"value\":\"nan\"},\"left_units\":\"canvas\",\"right_units\":\"canvas\",\"top_units\":\"canvas\",\"bottom_units\":\"canvas\",\"line_color\":\"black\",\"line_alpha\":1.0,\"line_width\":2,\"line_dash\":[4,4],\"fill_color\":\"lightgrey\",\"fill_alpha\":0.5}}}},{\"type\":\"object\",\"name\":\"SaveTool\",\"id\":\"p1799\"},{\"type\":\"object\",\"name\":\"ResetTool\",\"id\":\"p1800\"},{\"type\":\"object\",\"name\":\"HelpTool\",\"id\":\"p1801\"}]}},\"left\":[{\"type\":\"object\",\"name\":\"LinearAxis\",\"id\":\"p1786\",\"attributes\":{\"ticker\":{\"type\":\"object\",\"name\":\"BasicTicker\",\"id\":\"p1787\",\"attributes\":{\"mantissas\":[1,2,5]}},\"formatter\":{\"type\":\"object\",\"name\":\"BasicTickFormatter\",\"id\":\"p1788\"},\"axis_label\":\"Difference (Seconds)\",\"major_label_policy\":{\"type\":\"object\",\"name\":\"AllLabels\",\"id\":\"p1789\"}}}],\"below\":[{\"type\":\"object\",\"name\":\"LinearAxis\",\"id\":\"p1781\",\"attributes\":{\"ticker\":{\"type\":\"object\",\"name\":\"BasicTicker\",\"id\":\"p1782\",\"attributes\":{\"mantissas\":[1,2,5]}},\"formatter\":{\"type\":\"object\",\"name\":\"BasicTickFormatter\",\"id\":\"p1783\"},\"axis_label\":\"Number of Edges\",\"major_label_policy\":{\"type\":\"object\",\"name\":\"AllLabels\",\"id\":\"p1784\"}}}],\"center\":[{\"type\":\"object\",\"name\":\"Grid\",\"id\":\"p1785\",\"attributes\":{\"axis\":{\"id\":\"p1781\"}}},{\"type\":\"object\",\"name\":\"Grid\",\"id\":\"p1790\",\"attributes\":{\"dimension\":1,\"axis\":{\"id\":\"p1786\"}}}]}}]}};\n",
       "  const render_items = [{\"docid\":\"25d66d16-3590-4e7d-a47c-d41b2ddf28c7\",\"roots\":{\"p1770\":\"f3027a32-e38e-4324-afeb-6afd818136af\"},\"root_ids\":[\"p1770\"]}];\n",
       "  root.Bokeh.embed.embed_items_notebook(docs_json, render_items);\n",
       "  }\n",
       "  if (root.Bokeh !== undefined) {\n",
       "    embed_document(root);\n",
       "  } else {\n",
       "    let attempts = 0;\n",
       "    const timer = setInterval(function(root) {\n",
       "      if (root.Bokeh !== undefined) {\n",
       "        clearInterval(timer);\n",
       "        embed_document(root);\n",
       "      } else {\n",
       "        attempts++;\n",
       "        if (attempts > 100) {\n",
       "          clearInterval(timer);\n",
       "          console.log(\"Bokeh: ERROR: Unable to run BokehJS code because BokehJS library is missing\");\n",
       "        }\n",
       "      }\n",
       "    }, 10, root)\n",
       "  }\n",
       "})(window);"
      ],
      "application/vnd.bokehjs_exec.v0+json": ""
     },
     "metadata": {
      "application/vnd.bokehjs_exec.v0+json": {
       "id": "p1770"
      }
     },
     "output_type": "display_data"
    }
   ],
   "source": [
    "x = \"Number of Edges\"\n",
    "y = \"Difference (Seconds)\"\n",
    "p = bokeh.plotting.figure(\n",
    "    width=400,\n",
    "    height=300,\n",
    "    x_axis_label=x,\n",
    "    y_axis_label=y,\n",
    ")\n",
    "p.circle(\n",
    "    source=diff,\n",
    "    x=x,\n",
    "    y=y,\n",
    ")\n",
    "bokeh.io.show(p)"
   ]
  },
  {
   "cell_type": "code",
   "execution_count": 23,
   "id": "02430edd-9b07-44e3-b38f-9d08bf0efab7",
   "metadata": {},
   "outputs": [],
   "source": [
    "effects = pd.read_csv('baseGraphRuntimes.csv')\n",
    "effects = effects.drop(['Average Runtime', 'Unnamed: 0', 'Data'], axis=1)\n",
    "effects = effects.rename({'# Edges': 'Number of Edges', 'Full Runtime': 'Runtime (Seconds)'}, axis=1)\n",
    "gnn = effects[effects['Explainer'] == 'GNN']\n",
    "gnn = gnn.rename({'Runtime (Seconds)': 'GNN Runtime (Seconds)'}, axis=1)\n",
    "gnn = gnn.drop(['Explainer'], axis=1)\n",
    "beta = effects[effects['Explainer'] == 'Beta']\n",
    "beta = beta.rename({'Runtime (Seconds)': 'Beta Runtime (Seconds)'}, axis=1)\n",
    "beta = beta.drop(['Explainer'], axis=1)\n",
    "diff = pd.merge(gnn, beta, how=\"right\", on=[\"# Epochs\",'Number of Edges'])\n",
    "diff['Difference (Seconds)'] = diff['Beta Runtime (Seconds)'] - diff['GNN Runtime (Seconds)']"
   ]
  },
  {
   "cell_type": "code",
   "execution_count": 24,
   "id": "314dc745-bd87-4764-b8cb-feb153a1654b",
   "metadata": {},
   "outputs": [
    {
     "data": {
      "text/html": [
       "\n",
       "  <div id=\"adb5d63b-2d80-4613-8812-8e38130eafc3\" data-root-id=\"p1820\" style=\"display: contents;\"></div>\n"
      ]
     },
     "metadata": {},
     "output_type": "display_data"
    },
    {
     "data": {
      "application/javascript": [
       "(function(root) {\n",
       "  function embed_document(root) {\n",
       "  const docs_json = {\"1f5fe0b6-6814-44e4-8d09-de1e1be8cc9f\":{\"version\":\"3.3.4\",\"title\":\"Bokeh Application\",\"roots\":[{\"type\":\"object\",\"name\":\"Figure\",\"id\":\"p1820\",\"attributes\":{\"width\":400,\"height\":300,\"x_range\":{\"type\":\"object\",\"name\":\"DataRange1d\",\"id\":\"p1821\"},\"y_range\":{\"type\":\"object\",\"name\":\"DataRange1d\",\"id\":\"p1822\"},\"x_scale\":{\"type\":\"object\",\"name\":\"LinearScale\",\"id\":\"p1829\"},\"y_scale\":{\"type\":\"object\",\"name\":\"LinearScale\",\"id\":\"p1830\"},\"title\":{\"type\":\"object\",\"name\":\"Title\",\"id\":\"p1827\"},\"renderers\":[{\"type\":\"object\",\"name\":\"GlyphRenderer\",\"id\":\"p1861\",\"attributes\":{\"data_source\":{\"type\":\"object\",\"name\":\"ColumnDataSource\",\"id\":\"p1852\",\"attributes\":{\"selected\":{\"type\":\"object\",\"name\":\"Selection\",\"id\":\"p1853\",\"attributes\":{\"indices\":[],\"line_indices\":[]}},\"selection_policy\":{\"type\":\"object\",\"name\":\"UnionRenderers\",\"id\":\"p1854\"},\"data\":{\"type\":\"map\",\"entries\":[[\"index\",{\"type\":\"ndarray\",\"array\":{\"type\":\"bytes\",\"data\":\"AAAAAAIAAAAEAAAABgAAAAgAAAAKAAAADAAAAA4AAAAQAAAAEgAAABQAAAAWAAAAGAAAABoAAAAcAAAAHgAAACAAAAAiAAAAJAAAACYAAAAoAAAAKgAAACwAAAAuAAAAMAAAADIAAAA0AAAANgAAADgAAAA6AAAAPAAAAD4AAABAAAAAQgAAAEQAAABGAAAASAAAAEoAAABMAAAATgAAAFAAAABSAAAAVAAAAFYAAABYAAAAWgAAAFwAAABeAAAAYAAAAGIAAAA=\"},\"shape\":[50],\"dtype\":\"int32\",\"order\":\"little\"}],[\"Explainer\",{\"type\":\"ndarray\",\"array\":[\"Beta\",\"Beta\",\"Beta\",\"Beta\",\"Beta\",\"Beta\",\"Beta\",\"Beta\",\"Beta\",\"Beta\",\"Beta\",\"Beta\",\"Beta\",\"Beta\",\"Beta\",\"Beta\",\"Beta\",\"Beta\",\"Beta\",\"Beta\",\"Beta\",\"Beta\",\"Beta\",\"Beta\",\"Beta\",\"Beta\",\"Beta\",\"Beta\",\"Beta\",\"Beta\",\"Beta\",\"Beta\",\"Beta\",\"Beta\",\"Beta\",\"Beta\",\"Beta\",\"Beta\",\"Beta\",\"Beta\",\"Beta\",\"Beta\",\"Beta\",\"Beta\",\"Beta\",\"Beta\",\"Beta\",\"Beta\",\"Beta\",\"Beta\"],\"shape\":[50],\"dtype\":\"object\",\"order\":\"little\"}],[\"# Epochs\",{\"type\":\"ndarray\",\"array\":{\"type\":\"bytes\",\"data\":\"MgAAADIAAAAyAAAAMgAAADIAAAAyAAAAMgAAADIAAAAyAAAAMgAAADIAAAAyAAAAMgAAADIAAAAyAAAAMgAAADIAAAAyAAAAMgAAADIAAAAyAAAAMgAAADIAAAAyAAAAMgAAADIAAAAyAAAAMgAAADIAAAAyAAAAMgAAADIAAAAyAAAAMgAAADIAAAAyAAAAMgAAADIAAAAyAAAAMgAAADIAAAAyAAAAMgAAADIAAAAyAAAAMgAAADIAAAAyAAAAMgAAADIAAAA=\"},\"shape\":[50],\"dtype\":\"int32\",\"order\":\"little\"}],[\"Runtime (Seconds)\",{\"type\":\"ndarray\",\"array\":{\"type\":\"bytes\",\"data\":\"AAAA0NNrFEAAAACgaD4PQAAAAKDJUhVAAAAAANqLD0AAAAAwCWsQQAAAAEAnOBFAAAAAkF2VEEAAAACQBbMTQAAAAFBlpBBAAAAAYDZoFEAAAABgKv8RQAAAAMCsrRhAAAAAYKbyEkAAAABwaB4WQAAAAGAQ1xVAAAAAkAxWEEAAAACAvb8PQAAAAHBCgxBAAAAAUFLoEkAAAADwR2cQQAAAAHAZrRVAAAAAgBvOFkAAAABAV6cTQAAAADDr4xNAAAAA4EdxFUAAAABgcQgUQAAAAJDzmhVAAAAAwMTsFEAAAAAwbEgXQAAAADB44hhAAAAA4BBRH0AAAADggGIZQAAAADCzjxdAAAAAcHIvFEAAAACAU9UTQAAAABC+YBZAAAAAwHANFEABAAAw2lcUQAAAAKAd1R1AAAAAsLSlEkAAAABAi84TQAAAAJAwSRNAAAAAwKMXFkAAAABwdFMVQAAAAMAwPBNAAAAAwJHpEkAAAAAgxSUWQAEAAEBdWBNAAAAA0OVlFEAAAABwtFMTQA==\"},\"shape\":[50],\"dtype\":\"float64\",\"order\":\"little\"}],[\"Number of Edges\",{\"type\":\"ndarray\",\"array\":{\"type\":\"bytes\",\"data\":\"ZAAAAMgAAAAsAQAAkAEAAPQBAABYAgAAvAIAACADAACEAwAA6AMAAEwEAACwBAAAFAUAAHgFAADcBQAAQAYAAKQGAAAIBwAAbAcAANAHAAA0CAAAmAgAAPwIAABgCQAAxAkAACgKAACMCgAA8AoAAFQLAAC4CwAAHAwAAIAMAADkDAAASA0AAKwNAAAQDgAAdA4AANgOAAA8DwAAoA8AAAQQAABoEAAAzBAAADARAACUEQAA+BEAAFwSAADAEgAAJBMAAIgTAAA=\"},\"shape\":[50],\"dtype\":\"int32\",\"order\":\"little\"}]]}}},\"view\":{\"type\":\"object\",\"name\":\"CDSView\",\"id\":\"p1862\",\"attributes\":{\"filter\":{\"type\":\"object\",\"name\":\"AllIndices\",\"id\":\"p1863\"}}},\"glyph\":{\"type\":\"object\",\"name\":\"Circle\",\"id\":\"p1858\",\"attributes\":{\"x\":{\"type\":\"field\",\"field\":\"Number of Edges\"},\"y\":{\"type\":\"field\",\"field\":\"Runtime (Seconds)\"},\"line_color\":{\"type\":\"value\",\"value\":\"#1f77b4\"},\"fill_color\":{\"type\":\"value\",\"value\":\"#1f77b4\"}}},\"nonselection_glyph\":{\"type\":\"object\",\"name\":\"Circle\",\"id\":\"p1859\",\"attributes\":{\"x\":{\"type\":\"field\",\"field\":\"Number of Edges\"},\"y\":{\"type\":\"field\",\"field\":\"Runtime (Seconds)\"},\"line_color\":{\"type\":\"value\",\"value\":\"#1f77b4\"},\"line_alpha\":{\"type\":\"value\",\"value\":0.1},\"fill_color\":{\"type\":\"value\",\"value\":\"#1f77b4\"},\"fill_alpha\":{\"type\":\"value\",\"value\":0.1},\"hatch_alpha\":{\"type\":\"value\",\"value\":0.1}}},\"muted_glyph\":{\"type\":\"object\",\"name\":\"Circle\",\"id\":\"p1860\",\"attributes\":{\"x\":{\"type\":\"field\",\"field\":\"Number of Edges\"},\"y\":{\"type\":\"field\",\"field\":\"Runtime (Seconds)\"},\"line_color\":{\"type\":\"value\",\"value\":\"#1f77b4\"},\"line_alpha\":{\"type\":\"value\",\"value\":0.2},\"fill_color\":{\"type\":\"value\",\"value\":\"#1f77b4\"},\"fill_alpha\":{\"type\":\"value\",\"value\":0.2},\"hatch_alpha\":{\"type\":\"value\",\"value\":0.2}}}}},{\"type\":\"object\",\"name\":\"GlyphRenderer\",\"id\":\"p1875\",\"attributes\":{\"data_source\":{\"type\":\"object\",\"name\":\"ColumnDataSource\",\"id\":\"p1866\",\"attributes\":{\"selected\":{\"type\":\"object\",\"name\":\"Selection\",\"id\":\"p1867\",\"attributes\":{\"indices\":[],\"line_indices\":[]}},\"selection_policy\":{\"type\":\"object\",\"name\":\"UnionRenderers\",\"id\":\"p1868\"},\"data\":{\"type\":\"map\",\"entries\":[[\"index\",{\"type\":\"ndarray\",\"array\":{\"type\":\"bytes\",\"data\":\"AQAAAAMAAAAFAAAABwAAAAkAAAALAAAADQAAAA8AAAARAAAAEwAAABUAAAAXAAAAGQAAABsAAAAdAAAAHwAAACEAAAAjAAAAJQAAACcAAAApAAAAKwAAAC0AAAAvAAAAMQAAADMAAAA1AAAANwAAADkAAAA7AAAAPQAAAD8AAABBAAAAQwAAAEUAAABHAAAASQAAAEsAAABNAAAATwAAAFEAAABTAAAAVQAAAFcAAABZAAAAWwAAAF0AAABfAAAAYQAAAGMAAAA=\"},\"shape\":[50],\"dtype\":\"int32\",\"order\":\"little\"}],[\"Explainer\",{\"type\":\"ndarray\",\"array\":[\"GNN\",\"GNN\",\"GNN\",\"GNN\",\"GNN\",\"GNN\",\"GNN\",\"GNN\",\"GNN\",\"GNN\",\"GNN\",\"GNN\",\"GNN\",\"GNN\",\"GNN\",\"GNN\",\"GNN\",\"GNN\",\"GNN\",\"GNN\",\"GNN\",\"GNN\",\"GNN\",\"GNN\",\"GNN\",\"GNN\",\"GNN\",\"GNN\",\"GNN\",\"GNN\",\"GNN\",\"GNN\",\"GNN\",\"GNN\",\"GNN\",\"GNN\",\"GNN\",\"GNN\",\"GNN\",\"GNN\",\"GNN\",\"GNN\",\"GNN\",\"GNN\",\"GNN\",\"GNN\",\"GNN\",\"GNN\",\"GNN\",\"GNN\"],\"shape\":[50],\"dtype\":\"object\",\"order\":\"little\"}],[\"# Epochs\",{\"type\":\"ndarray\",\"array\":{\"type\":\"bytes\",\"data\":\"MgAAADIAAAAyAAAAMgAAADIAAAAyAAAAMgAAADIAAAAyAAAAMgAAADIAAAAyAAAAMgAAADIAAAAyAAAAMgAAADIAAAAyAAAAMgAAADIAAAAyAAAAMgAAADIAAAAyAAAAMgAAADIAAAAyAAAAMgAAADIAAAAyAAAAMgAAADIAAAAyAAAAMgAAADIAAAAyAAAAMgAAADIAAAAyAAAAMgAAADIAAAAyAAAAMgAAADIAAAAyAAAAMgAAADIAAAAyAAAAMgAAADIAAAA=\"},\"shape\":[50],\"dtype\":\"int32\",\"order\":\"little\"}],[\"Runtime (Seconds)\",{\"type\":\"ndarray\",\"array\":{\"type\":\"bytes\",\"data\":\"AAAAANmS7D8AAACAaJboPwAAAAB2fuo/AAAAgMeR7D//////LRLvPwAAAIAScew/AAAAQBSi8D8AAAAAZvrzPwAAAAB3cu0/AAAAwA3n9T8AAACAkFzsPwAAAEBU0vA/AAAAgBDg7j8AAACA1g/tPwAAAIAiHu8/AAAAgFRG6D8AAAAAJD3mPwAAAIBzoOs/AAAAAETS7D8AAACAmO/oPwAAAAB9fPE/AAAAADjd8j8AAACA1ertPwAAAICsuOw/AAAAQKHK8z8AAAAAUBXwPwAAAAAmEfA/AQAAgMlL7z8AAADA7O/wPwAAAECnU/I/AAAAgEBP8j8AAAAAplH0P////z9mFfE/AAAAgBYq6T8AAAAA0ovqPwAAAECK2vA/AQAAgMvh7z8AAAAAiZTrPwAAAAALPfU/AAAAAMAL6j8AAACApErwPwAAAIA5aOs/AAAAgFkb8D8AAAAAfETtPwAAAADIDOs/AAAAAARC7j8AAACAJ1jqPwAAAAA//+g/AAAAgNa48T8AAACA2R7rPw==\"},\"shape\":[50],\"dtype\":\"float64\",\"order\":\"little\"}],[\"Number of Edges\",{\"type\":\"ndarray\",\"array\":{\"type\":\"bytes\",\"data\":\"ZAAAAMgAAAAsAQAAkAEAAPQBAABYAgAAvAIAACADAACEAwAA6AMAAEwEAACwBAAAFAUAAHgFAADcBQAAQAYAAKQGAAAIBwAAbAcAANAHAAA0CAAAmAgAAPwIAABgCQAAxAkAACgKAACMCgAA8AoAAFQLAAC4CwAAHAwAAIAMAADkDAAASA0AAKwNAAAQDgAAdA4AANgOAAA8DwAAoA8AAAQQAABoEAAAzBAAADARAACUEQAA+BEAAFwSAADAEgAAJBMAAIgTAAA=\"},\"shape\":[50],\"dtype\":\"int32\",\"order\":\"little\"}]]}}},\"view\":{\"type\":\"object\",\"name\":\"CDSView\",\"id\":\"p1876\",\"attributes\":{\"filter\":{\"type\":\"object\",\"name\":\"AllIndices\",\"id\":\"p1877\"}}},\"glyph\":{\"type\":\"object\",\"name\":\"Circle\",\"id\":\"p1872\",\"attributes\":{\"x\":{\"type\":\"field\",\"field\":\"Number of Edges\"},\"y\":{\"type\":\"field\",\"field\":\"Runtime (Seconds)\"},\"line_color\":{\"type\":\"value\",\"value\":\"orange\"},\"fill_color\":{\"type\":\"value\",\"value\":\"orange\"},\"hatch_color\":{\"type\":\"value\",\"value\":\"orange\"}}},\"nonselection_glyph\":{\"type\":\"object\",\"name\":\"Circle\",\"id\":\"p1873\",\"attributes\":{\"x\":{\"type\":\"field\",\"field\":\"Number of Edges\"},\"y\":{\"type\":\"field\",\"field\":\"Runtime (Seconds)\"},\"line_color\":{\"type\":\"value\",\"value\":\"orange\"},\"line_alpha\":{\"type\":\"value\",\"value\":0.1},\"fill_color\":{\"type\":\"value\",\"value\":\"orange\"},\"fill_alpha\":{\"type\":\"value\",\"value\":0.1},\"hatch_color\":{\"type\":\"value\",\"value\":\"orange\"},\"hatch_alpha\":{\"type\":\"value\",\"value\":0.1}}},\"muted_glyph\":{\"type\":\"object\",\"name\":\"Circle\",\"id\":\"p1874\",\"attributes\":{\"x\":{\"type\":\"field\",\"field\":\"Number of Edges\"},\"y\":{\"type\":\"field\",\"field\":\"Runtime (Seconds)\"},\"line_color\":{\"type\":\"value\",\"value\":\"orange\"},\"line_alpha\":{\"type\":\"value\",\"value\":0.2},\"fill_color\":{\"type\":\"value\",\"value\":\"orange\"},\"fill_alpha\":{\"type\":\"value\",\"value\":0.2},\"hatch_color\":{\"type\":\"value\",\"value\":\"orange\"},\"hatch_alpha\":{\"type\":\"value\",\"value\":0.2}}}}}],\"toolbar\":{\"type\":\"object\",\"name\":\"Toolbar\",\"id\":\"p1828\",\"attributes\":{\"tools\":[{\"type\":\"object\",\"name\":\"PanTool\",\"id\":\"p1841\"},{\"type\":\"object\",\"name\":\"WheelZoomTool\",\"id\":\"p1842\",\"attributes\":{\"renderers\":\"auto\"}},{\"type\":\"object\",\"name\":\"BoxZoomTool\",\"id\":\"p1843\",\"attributes\":{\"overlay\":{\"type\":\"object\",\"name\":\"BoxAnnotation\",\"id\":\"p1844\",\"attributes\":{\"syncable\":false,\"level\":\"overlay\",\"visible\":false,\"left\":{\"type\":\"number\",\"value\":\"nan\"},\"right\":{\"type\":\"number\",\"value\":\"nan\"},\"top\":{\"type\":\"number\",\"value\":\"nan\"},\"bottom\":{\"type\":\"number\",\"value\":\"nan\"},\"left_units\":\"canvas\",\"right_units\":\"canvas\",\"top_units\":\"canvas\",\"bottom_units\":\"canvas\",\"line_color\":\"black\",\"line_alpha\":1.0,\"line_width\":2,\"line_dash\":[4,4],\"fill_color\":\"lightgrey\",\"fill_alpha\":0.5}}}},{\"type\":\"object\",\"name\":\"SaveTool\",\"id\":\"p1849\"},{\"type\":\"object\",\"name\":\"ResetTool\",\"id\":\"p1850\"},{\"type\":\"object\",\"name\":\"HelpTool\",\"id\":\"p1851\"}]}},\"left\":[{\"type\":\"object\",\"name\":\"LinearAxis\",\"id\":\"p1836\",\"attributes\":{\"ticker\":{\"type\":\"object\",\"name\":\"BasicTicker\",\"id\":\"p1837\",\"attributes\":{\"mantissas\":[1,2,5]}},\"formatter\":{\"type\":\"object\",\"name\":\"BasicTickFormatter\",\"id\":\"p1838\"},\"axis_label\":\"Runtime (Seconds)\",\"major_label_policy\":{\"type\":\"object\",\"name\":\"AllLabels\",\"id\":\"p1839\"}}}],\"below\":[{\"type\":\"object\",\"name\":\"LinearAxis\",\"id\":\"p1831\",\"attributes\":{\"ticker\":{\"type\":\"object\",\"name\":\"BasicTicker\",\"id\":\"p1832\",\"attributes\":{\"mantissas\":[1,2,5]}},\"formatter\":{\"type\":\"object\",\"name\":\"BasicTickFormatter\",\"id\":\"p1833\"},\"axis_label\":\"Number of Edges\",\"major_label_policy\":{\"type\":\"object\",\"name\":\"AllLabels\",\"id\":\"p1834\"}}}],\"center\":[{\"type\":\"object\",\"name\":\"Grid\",\"id\":\"p1835\",\"attributes\":{\"axis\":{\"id\":\"p1831\"}}},{\"type\":\"object\",\"name\":\"Grid\",\"id\":\"p1840\",\"attributes\":{\"dimension\":1,\"axis\":{\"id\":\"p1836\"}}},{\"type\":\"object\",\"name\":\"Legend\",\"id\":\"p1864\",\"attributes\":{\"location\":\"top_left\",\"items\":[{\"type\":\"object\",\"name\":\"LegendItem\",\"id\":\"p1865\",\"attributes\":{\"label\":{\"type\":\"value\",\"value\":\"Beta\"},\"renderers\":[{\"id\":\"p1861\"}]}},{\"type\":\"object\",\"name\":\"LegendItem\",\"id\":\"p1878\",\"attributes\":{\"label\":{\"type\":\"value\",\"value\":\"GNN\"},\"renderers\":[{\"id\":\"p1875\"}]}}]}}]}}]}};\n",
       "  const render_items = [{\"docid\":\"1f5fe0b6-6814-44e4-8d09-de1e1be8cc9f\",\"roots\":{\"p1820\":\"adb5d63b-2d80-4613-8812-8e38130eafc3\"},\"root_ids\":[\"p1820\"]}];\n",
       "  root.Bokeh.embed.embed_items_notebook(docs_json, render_items);\n",
       "  }\n",
       "  if (root.Bokeh !== undefined) {\n",
       "    embed_document(root);\n",
       "  } else {\n",
       "    let attempts = 0;\n",
       "    const timer = setInterval(function(root) {\n",
       "      if (root.Bokeh !== undefined) {\n",
       "        clearInterval(timer);\n",
       "        embed_document(root);\n",
       "      } else {\n",
       "        attempts++;\n",
       "        if (attempts > 100) {\n",
       "          clearInterval(timer);\n",
       "          console.log(\"Bokeh: ERROR: Unable to run BokehJS code because BokehJS library is missing\");\n",
       "        }\n",
       "      }\n",
       "    }, 10, root)\n",
       "  }\n",
       "})(window);"
      ],
      "application/vnd.bokehjs_exec.v0+json": ""
     },
     "metadata": {
      "application/vnd.bokehjs_exec.v0+json": {
       "id": "p1820"
      }
     },
     "output_type": "display_data"
    }
   ],
   "source": [
    "x = \"Number of Edges\"\n",
    "y = \"Runtime (Seconds)\"\n",
    "p = bokeh.plotting.figure(\n",
    "    width=400,\n",
    "    height=300,\n",
    "    x_axis_label=x,\n",
    "    y_axis_label=y,\n",
    ")\n",
    "p.circle(\n",
    "    source=effects[effects['Explainer'] == 'Beta'],\n",
    "    x=x,\n",
    "    y=y,\n",
    "    legend_label=\"Beta\",\n",
    ")\n",
    "p.circle(\n",
    "    source=effects[effects['Explainer'] == 'GNN'],\n",
    "    x=x,\n",
    "    y=y,\n",
    "    legend_label=\"GNN\",\n",
    "    color='orange'\n",
    ")\n",
    "p.legend.location = \"top_left\"\n",
    "bokeh.io.show(p)"
   ]
  },
  {
   "cell_type": "code",
   "execution_count": 25,
   "id": "88ccbaa2-9ae6-4886-813c-c51e7a80f2ab",
   "metadata": {
    "jupyter": {
     "source_hidden": true
    }
   },
   "outputs": [
    {
     "data": {
      "text/html": [
       "\n",
       "  <div id=\"e1887e74-5ed6-407f-871b-87ca929ce916\" data-root-id=\"p1887\" style=\"display: contents;\"></div>\n"
      ]
     },
     "metadata": {},
     "output_type": "display_data"
    },
    {
     "data": {
      "application/javascript": [
       "(function(root) {\n",
       "  function embed_document(root) {\n",
       "  const docs_json = {\"6da85fec-aedf-4627-a79c-57607e9ac7cb\":{\"version\":\"3.3.4\",\"title\":\"Bokeh Application\",\"roots\":[{\"type\":\"object\",\"name\":\"Figure\",\"id\":\"p1887\",\"attributes\":{\"width\":400,\"height\":300,\"x_range\":{\"type\":\"object\",\"name\":\"DataRange1d\",\"id\":\"p1888\"},\"y_range\":{\"type\":\"object\",\"name\":\"DataRange1d\",\"id\":\"p1889\"},\"x_scale\":{\"type\":\"object\",\"name\":\"LinearScale\",\"id\":\"p1896\"},\"y_scale\":{\"type\":\"object\",\"name\":\"LinearScale\",\"id\":\"p1897\"},\"title\":{\"type\":\"object\",\"name\":\"Title\",\"id\":\"p1894\"},\"renderers\":[{\"type\":\"object\",\"name\":\"GlyphRenderer\",\"id\":\"p1928\",\"attributes\":{\"data_source\":{\"type\":\"object\",\"name\":\"ColumnDataSource\",\"id\":\"p1919\",\"attributes\":{\"selected\":{\"type\":\"object\",\"name\":\"Selection\",\"id\":\"p1920\",\"attributes\":{\"indices\":[],\"line_indices\":[]}},\"selection_policy\":{\"type\":\"object\",\"name\":\"UnionRenderers\",\"id\":\"p1921\"},\"data\":{\"type\":\"map\",\"entries\":[[\"index\",{\"type\":\"ndarray\",\"array\":{\"type\":\"bytes\",\"data\":\"AAAAAAEAAAACAAAAAwAAAAQAAAAFAAAABgAAAAcAAAAIAAAACQAAAAoAAAALAAAADAAAAA0AAAAOAAAADwAAABAAAAARAAAAEgAAABMAAAAUAAAAFQAAABYAAAAXAAAAGAAAABkAAAAaAAAAGwAAABwAAAAdAAAAHgAAAB8AAAAgAAAAIQAAACIAAAAjAAAAJAAAACUAAAAmAAAAJwAAACgAAAApAAAAKgAAACsAAAAsAAAALQAAAC4AAAAvAAAAMAAAADEAAAA=\"},\"shape\":[50],\"dtype\":\"int32\",\"order\":\"little\"}],[\"# Epochs\",{\"type\":\"ndarray\",\"array\":{\"type\":\"bytes\",\"data\":\"MgAAADIAAAAyAAAAMgAAADIAAAAyAAAAMgAAADIAAAAyAAAAMgAAADIAAAAyAAAAMgAAADIAAAAyAAAAMgAAADIAAAAyAAAAMgAAADIAAAAyAAAAMgAAADIAAAAyAAAAMgAAADIAAAAyAAAAMgAAADIAAAAyAAAAMgAAADIAAAAyAAAAMgAAADIAAAAyAAAAMgAAADIAAAAyAAAAMgAAADIAAAAyAAAAMgAAADIAAAAyAAAAMgAAADIAAAAyAAAAMgAAADIAAAA=\"},\"shape\":[50],\"dtype\":\"int32\",\"order\":\"little\"}],[\"GNN Runtime (Seconds)\",{\"type\":\"ndarray\",\"array\":{\"type\":\"bytes\",\"data\":\"AAAAANmS7D8AAACAaJboPwAAAAB2fuo/AAAAgMeR7D//////LRLvPwAAAIAScew/AAAAQBSi8D8AAAAAZvrzPwAAAAB3cu0/AAAAwA3n9T8AAACAkFzsPwAAAEBU0vA/AAAAgBDg7j8AAACA1g/tPwAAAIAiHu8/AAAAgFRG6D8AAAAAJD3mPwAAAIBzoOs/AAAAAETS7D8AAACAmO/oPwAAAAB9fPE/AAAAADjd8j8AAACA1ertPwAAAICsuOw/AAAAQKHK8z8AAAAAUBXwPwAAAAAmEfA/AQAAgMlL7z8AAADA7O/wPwAAAECnU/I/AAAAgEBP8j8AAAAAplH0P////z9mFfE/AAAAgBYq6T8AAAAA0ovqPwAAAECK2vA/AQAAgMvh7z8AAAAAiZTrPwAAAAALPfU/AAAAAMAL6j8AAACApErwPwAAAIA5aOs/AAAAgFkb8D8AAAAAfETtPwAAAADIDOs/AAAAAARC7j8AAACAJ1jqPwAAAAA//+g/AAAAgNa48T8AAACA2R7rPw==\"},\"shape\":[50],\"dtype\":\"float64\",\"order\":\"little\"}],[\"Number of Edges\",{\"type\":\"ndarray\",\"array\":{\"type\":\"bytes\",\"data\":\"ZAAAAMgAAAAsAQAAkAEAAPQBAABYAgAAvAIAACADAACEAwAA6AMAAEwEAACwBAAAFAUAAHgFAADcBQAAQAYAAKQGAAAIBwAAbAcAANAHAAA0CAAAmAgAAPwIAABgCQAAxAkAACgKAACMCgAA8AoAAFQLAAC4CwAAHAwAAIAMAADkDAAASA0AAKwNAAAQDgAAdA4AANgOAAA8DwAAoA8AAAQQAABoEAAAzBAAADARAACUEQAA+BEAAFwSAADAEgAAJBMAAIgTAAA=\"},\"shape\":[50],\"dtype\":\"int32\",\"order\":\"little\"}],[\"Beta Runtime (Seconds)\",{\"type\":\"ndarray\",\"array\":{\"type\":\"bytes\",\"data\":\"AAAA0NNrFEAAAACgaD4PQAAAAKDJUhVAAAAAANqLD0AAAAAwCWsQQAAAAEAnOBFAAAAAkF2VEEAAAACQBbMTQAAAAFBlpBBAAAAAYDZoFEAAAABgKv8RQAAAAMCsrRhAAAAAYKbyEkAAAABwaB4WQAAAAGAQ1xVAAAAAkAxWEEAAAACAvb8PQAAAAHBCgxBAAAAAUFLoEkAAAADwR2cQQAAAAHAZrRVAAAAAgBvOFkAAAABAV6cTQAAAADDr4xNAAAAA4EdxFUAAAABgcQgUQAAAAJDzmhVAAAAAwMTsFEAAAAAwbEgXQAAAADB44hhAAAAA4BBRH0AAAADggGIZQAAAADCzjxdAAAAAcHIvFEAAAACAU9UTQAAAABC+YBZAAAAAwHANFEABAAAw2lcUQAAAAKAd1R1AAAAAsLSlEkAAAABAi84TQAAAAJAwSRNAAAAAwKMXFkAAAABwdFMVQAAAAMAwPBNAAAAAwJHpEkAAAAAgxSUWQAEAAEBdWBNAAAAA0OVlFEAAAABwtFMTQA==\"},\"shape\":[50],\"dtype\":\"float64\",\"order\":\"little\"}],[\"Difference (Seconds)\",{\"type\":\"ndarray\",\"array\":{\"type\":\"bytes\",\"data\":\"AAAAsHjZEEAAAACAzhgJQAAAAOD6AhJAAAAAIGhnCEAAAADghhEJQAAAAOAJVAtAAAAAALHZCEAAAAAg2GgNQAAAAOAs7AlAAAAA4OXcDUAAAACgMOcMQAAAALAXeRRAAAAAoEgtDkAAAACgbXwSQAAAABBM8xFAAAAAAISaCkAAAACAdDAKQAAAAABoHgpAAAAAoBOcDkAAAADAqZIKQAAAADD6TRFAAAAAgM0WEkAAAAAg+dMPQAAAAKDVTBBAAAAAkJ9+EEAAAABgHQMQQAAAABCqlhFAAAAAkEsDEUAAAAAAcQwTQAAAAGCOTRRAAAAAwEC9GkAAAABgF04UQAAAAKBZShNAAAAAoC8KEUAAAABA2YMQQAAAAIAbKhJAAAAAUDcREEABAAAQSeUQQAAAAODahRhAAAAAYHnIDkAAAABAxHcPQAAAAMBSuA9AAAAAYM0QEkAAAADw5KoRQAAAAIAvtQ9AAAAAgKJCDkAAAAAwwNoSQAEAAGB1OBBAAAAAYGDvD0AAAACAst8PQA==\"},\"shape\":[50],\"dtype\":\"float64\",\"order\":\"little\"}]]}}},\"view\":{\"type\":\"object\",\"name\":\"CDSView\",\"id\":\"p1929\",\"attributes\":{\"filter\":{\"type\":\"object\",\"name\":\"AllIndices\",\"id\":\"p1930\"}}},\"glyph\":{\"type\":\"object\",\"name\":\"Circle\",\"id\":\"p1925\",\"attributes\":{\"x\":{\"type\":\"field\",\"field\":\"Number of Edges\"},\"y\":{\"type\":\"field\",\"field\":\"Difference (Seconds)\"},\"line_color\":{\"type\":\"value\",\"value\":\"#1f77b4\"},\"fill_color\":{\"type\":\"value\",\"value\":\"#1f77b4\"}}},\"nonselection_glyph\":{\"type\":\"object\",\"name\":\"Circle\",\"id\":\"p1926\",\"attributes\":{\"x\":{\"type\":\"field\",\"field\":\"Number of Edges\"},\"y\":{\"type\":\"field\",\"field\":\"Difference (Seconds)\"},\"line_color\":{\"type\":\"value\",\"value\":\"#1f77b4\"},\"line_alpha\":{\"type\":\"value\",\"value\":0.1},\"fill_color\":{\"type\":\"value\",\"value\":\"#1f77b4\"},\"fill_alpha\":{\"type\":\"value\",\"value\":0.1},\"hatch_alpha\":{\"type\":\"value\",\"value\":0.1}}},\"muted_glyph\":{\"type\":\"object\",\"name\":\"Circle\",\"id\":\"p1927\",\"attributes\":{\"x\":{\"type\":\"field\",\"field\":\"Number of Edges\"},\"y\":{\"type\":\"field\",\"field\":\"Difference (Seconds)\"},\"line_color\":{\"type\":\"value\",\"value\":\"#1f77b4\"},\"line_alpha\":{\"type\":\"value\",\"value\":0.2},\"fill_color\":{\"type\":\"value\",\"value\":\"#1f77b4\"},\"fill_alpha\":{\"type\":\"value\",\"value\":0.2},\"hatch_alpha\":{\"type\":\"value\",\"value\":0.2}}}}}],\"toolbar\":{\"type\":\"object\",\"name\":\"Toolbar\",\"id\":\"p1895\",\"attributes\":{\"tools\":[{\"type\":\"object\",\"name\":\"PanTool\",\"id\":\"p1908\"},{\"type\":\"object\",\"name\":\"WheelZoomTool\",\"id\":\"p1909\",\"attributes\":{\"renderers\":\"auto\"}},{\"type\":\"object\",\"name\":\"BoxZoomTool\",\"id\":\"p1910\",\"attributes\":{\"overlay\":{\"type\":\"object\",\"name\":\"BoxAnnotation\",\"id\":\"p1911\",\"attributes\":{\"syncable\":false,\"level\":\"overlay\",\"visible\":false,\"left\":{\"type\":\"number\",\"value\":\"nan\"},\"right\":{\"type\":\"number\",\"value\":\"nan\"},\"top\":{\"type\":\"number\",\"value\":\"nan\"},\"bottom\":{\"type\":\"number\",\"value\":\"nan\"},\"left_units\":\"canvas\",\"right_units\":\"canvas\",\"top_units\":\"canvas\",\"bottom_units\":\"canvas\",\"line_color\":\"black\",\"line_alpha\":1.0,\"line_width\":2,\"line_dash\":[4,4],\"fill_color\":\"lightgrey\",\"fill_alpha\":0.5}}}},{\"type\":\"object\",\"name\":\"SaveTool\",\"id\":\"p1916\"},{\"type\":\"object\",\"name\":\"ResetTool\",\"id\":\"p1917\"},{\"type\":\"object\",\"name\":\"HelpTool\",\"id\":\"p1918\"}]}},\"left\":[{\"type\":\"object\",\"name\":\"LinearAxis\",\"id\":\"p1903\",\"attributes\":{\"ticker\":{\"type\":\"object\",\"name\":\"BasicTicker\",\"id\":\"p1904\",\"attributes\":{\"mantissas\":[1,2,5]}},\"formatter\":{\"type\":\"object\",\"name\":\"BasicTickFormatter\",\"id\":\"p1905\"},\"axis_label\":\"Difference (Seconds)\",\"major_label_policy\":{\"type\":\"object\",\"name\":\"AllLabels\",\"id\":\"p1906\"}}}],\"below\":[{\"type\":\"object\",\"name\":\"LinearAxis\",\"id\":\"p1898\",\"attributes\":{\"ticker\":{\"type\":\"object\",\"name\":\"BasicTicker\",\"id\":\"p1899\",\"attributes\":{\"mantissas\":[1,2,5]}},\"formatter\":{\"type\":\"object\",\"name\":\"BasicTickFormatter\",\"id\":\"p1900\"},\"axis_label\":\"Number of Edges\",\"major_label_policy\":{\"type\":\"object\",\"name\":\"AllLabels\",\"id\":\"p1901\"}}}],\"center\":[{\"type\":\"object\",\"name\":\"Grid\",\"id\":\"p1902\",\"attributes\":{\"axis\":{\"id\":\"p1898\"}}},{\"type\":\"object\",\"name\":\"Grid\",\"id\":\"p1907\",\"attributes\":{\"dimension\":1,\"axis\":{\"id\":\"p1903\"}}}]}}]}};\n",
       "  const render_items = [{\"docid\":\"6da85fec-aedf-4627-a79c-57607e9ac7cb\",\"roots\":{\"p1887\":\"e1887e74-5ed6-407f-871b-87ca929ce916\"},\"root_ids\":[\"p1887\"]}];\n",
       "  root.Bokeh.embed.embed_items_notebook(docs_json, render_items);\n",
       "  }\n",
       "  if (root.Bokeh !== undefined) {\n",
       "    embed_document(root);\n",
       "  } else {\n",
       "    let attempts = 0;\n",
       "    const timer = setInterval(function(root) {\n",
       "      if (root.Bokeh !== undefined) {\n",
       "        clearInterval(timer);\n",
       "        embed_document(root);\n",
       "      } else {\n",
       "        attempts++;\n",
       "        if (attempts > 100) {\n",
       "          clearInterval(timer);\n",
       "          console.log(\"Bokeh: ERROR: Unable to run BokehJS code because BokehJS library is missing\");\n",
       "        }\n",
       "      }\n",
       "    }, 10, root)\n",
       "  }\n",
       "})(window);"
      ],
      "application/vnd.bokehjs_exec.v0+json": ""
     },
     "metadata": {
      "application/vnd.bokehjs_exec.v0+json": {
       "id": "p1887"
      }
     },
     "output_type": "display_data"
    }
   ],
   "source": [
    "x = \"Number of Edges\"\n",
    "y = \"Difference (Seconds)\"\n",
    "p = bokeh.plotting.figure(\n",
    "    width=400,\n",
    "    height=300,\n",
    "    x_axis_label=x,\n",
    "    y_axis_label=y,\n",
    ")\n",
    "p.circle(\n",
    "    source=diff,\n",
    "    x=x,\n",
    "    y=y,\n",
    ")\n",
    "bokeh.io.show(p)"
   ]
  },
  {
   "cell_type": "code",
   "execution_count": 26,
   "id": "741312b2-fe71-4723-b7a4-0b1d536401fa",
   "metadata": {},
   "outputs": [],
   "source": [
    "effects = pd.read_csv('heteroGraphRuntimes.csv')\n",
    "effects = effects.drop(['Average Runtime', 'Unnamed: 0', 'Data'], axis=1)\n",
    "effects = effects.rename({'# Edges': 'Number of Edges', 'Full Runtime': 'Runtime (Seconds)'}, axis=1)\n",
    "gnn = effects[effects['Explainer'] == 'GNN']\n",
    "gnn = gnn.rename({'Runtime (Seconds)': 'GNN Runtime (Seconds)'}, axis=1)\n",
    "gnn = gnn.drop(['Explainer'], axis=1)\n",
    "beta = effects[effects['Explainer'] == 'Beta']\n",
    "beta = beta.rename({'Runtime (Seconds)': 'Beta Runtime (Seconds)'}, axis=1)\n",
    "beta = beta.drop(['Explainer'], axis=1)\n",
    "diff = pd.merge(gnn, beta, how=\"right\", on=[\"# Epochs\",'Number of Edges'])\n",
    "diff['Difference (Seconds)'] = diff['Beta Runtime (Seconds)'] - diff['GNN Runtime (Seconds)']"
   ]
  },
  {
   "cell_type": "code",
   "execution_count": 27,
   "id": "44aa183b-98e6-4d82-a936-514bbf60720d",
   "metadata": {
    "jupyter": {
     "source_hidden": true
    }
   },
   "outputs": [
    {
     "data": {
      "text/html": [
       "\n",
       "  <div id=\"c508d35a-42aa-48c9-b460-0f458cdfce38\" data-root-id=\"p1937\" style=\"display: contents;\"></div>\n"
      ]
     },
     "metadata": {},
     "output_type": "display_data"
    },
    {
     "data": {
      "application/javascript": [
       "(function(root) {\n",
       "  function embed_document(root) {\n",
       "  const docs_json = {\"f82a7c56-6f3b-4530-8410-fe3338688319\":{\"version\":\"3.3.4\",\"title\":\"Bokeh Application\",\"roots\":[{\"type\":\"object\",\"name\":\"Figure\",\"id\":\"p1937\",\"attributes\":{\"width\":400,\"height\":300,\"x_range\":{\"type\":\"object\",\"name\":\"DataRange1d\",\"id\":\"p1938\"},\"y_range\":{\"type\":\"object\",\"name\":\"DataRange1d\",\"id\":\"p1939\"},\"x_scale\":{\"type\":\"object\",\"name\":\"LinearScale\",\"id\":\"p1946\"},\"y_scale\":{\"type\":\"object\",\"name\":\"LinearScale\",\"id\":\"p1947\"},\"title\":{\"type\":\"object\",\"name\":\"Title\",\"id\":\"p1944\"},\"renderers\":[{\"type\":\"object\",\"name\":\"GlyphRenderer\",\"id\":\"p1978\",\"attributes\":{\"data_source\":{\"type\":\"object\",\"name\":\"ColumnDataSource\",\"id\":\"p1969\",\"attributes\":{\"selected\":{\"type\":\"object\",\"name\":\"Selection\",\"id\":\"p1970\",\"attributes\":{\"indices\":[],\"line_indices\":[]}},\"selection_policy\":{\"type\":\"object\",\"name\":\"UnionRenderers\",\"id\":\"p1971\"},\"data\":{\"type\":\"map\",\"entries\":[[\"index\",{\"type\":\"ndarray\",\"array\":{\"type\":\"bytes\",\"data\":\"AAAAAAIAAAAEAAAABgAAAAgAAAAKAAAADAAAAA4AAAAQAAAAEgAAABQAAAAWAAAAGAAAABoAAAAcAAAAHgAAACAAAAAiAAAAJAAAACYAAAAoAAAAKgAAACwAAAAuAAAAMAAAADIAAAA0AAAANgAAADgAAAA6AAAAPAAAAD4AAABAAAAAQgAAAEQAAABGAAAASAAAAEoAAABMAAAATgAAAFAAAABSAAAAVAAAAFYAAABYAAAAWgAAAFwAAABeAAAAYAAAAGIAAAA=\"},\"shape\":[50],\"dtype\":\"int32\",\"order\":\"little\"}],[\"Explainer\",{\"type\":\"ndarray\",\"array\":[\"Beta\",\"Beta\",\"Beta\",\"Beta\",\"Beta\",\"Beta\",\"Beta\",\"Beta\",\"Beta\",\"Beta\",\"Beta\",\"Beta\",\"Beta\",\"Beta\",\"Beta\",\"Beta\",\"Beta\",\"Beta\",\"Beta\",\"Beta\",\"Beta\",\"Beta\",\"Beta\",\"Beta\",\"Beta\",\"Beta\",\"Beta\",\"Beta\",\"Beta\",\"Beta\",\"Beta\",\"Beta\",\"Beta\",\"Beta\",\"Beta\",\"Beta\",\"Beta\",\"Beta\",\"Beta\",\"Beta\",\"Beta\",\"Beta\",\"Beta\",\"Beta\",\"Beta\",\"Beta\",\"Beta\",\"Beta\",\"Beta\",\"Beta\"],\"shape\":[50],\"dtype\":\"object\",\"order\":\"little\"}],[\"# Epochs\",{\"type\":\"ndarray\",\"array\":{\"type\":\"bytes\",\"data\":\"MgAAADIAAAAyAAAAMgAAADIAAAAyAAAAMgAAADIAAAAyAAAAMgAAADIAAAAyAAAAMgAAADIAAAAyAAAAMgAAADIAAAAyAAAAMgAAADIAAAAyAAAAMgAAADIAAAAyAAAAMgAAADIAAAAyAAAAMgAAADIAAAAyAAAAMgAAADIAAAAyAAAAMgAAADIAAAAyAAAAMgAAADIAAAAyAAAAMgAAADIAAAAyAAAAMgAAADIAAAAyAAAAMgAAADIAAAAyAAAAMgAAADIAAAA=\"},\"shape\":[50],\"dtype\":\"int32\",\"order\":\"little\"}],[\"Runtime (Seconds)\",{\"type\":\"ndarray\",\"array\":{\"type\":\"bytes\",\"data\":\"AAAAgDeLDED+//8ffzQOQAAAAEAIzA5AAAAAIBnUC0AAAAAQcLsQQP////9owQ1AAQAAYNsOEUAAAACw9VsQQAAAAAALfhBAAAAAIIbED0AAAACg4W0QQAAAAHCRBhNAAAAAENYtEkAAAADA8asRQAAAAHDIGhdAAAAAEEnFEkAAAABwAToQQAAAAPAgyBdAAAAAUIHtEUAAAADApKoSQAAAAFB0WRNAAAAAIOejFUAAAADQyf0RQAAAAKCdIxFAAAAAcLvFEkAAAACQ/cwRQAAAAFBByBFAAAAAAAJ4E0AAAABQbYgSQAAAACD6tBNAAAAAYKS3GkAAAABAqNgUQAAAAKAndxRAAAAAoM+1FUAAAADA7AMXQAAAANC7ERNAAAAA8KXZFEAAAABw7mgXQAAAAOByOBRAAAAAAEmZFkAAAABwL90UQAAAABAtuBpAAAAA4PgOGkAAAAAQou0XQAAAADALsxxAAAAAQKlZGkAAAACQrVMdQAAAALD6JRxAAQAAoPRRGUAAAAC407UgQA==\"},\"shape\":[50],\"dtype\":\"float64\",\"order\":\"little\"}],[\"Number of Edges\",{\"type\":\"ndarray\",\"array\":{\"type\":\"bytes\",\"data\":\"ZAAAAMgAAAAsAQAAkAEAAPQBAABYAgAAvAIAACADAACEAwAA6AMAAEwEAACwBAAAFAUAAHgFAADcBQAAQAYAAKQGAAAIBwAAbAcAANAHAAA0CAAAmAgAAPwIAABgCQAAxAkAACgKAACMCgAA8AoAAFQLAAC4CwAAHAwAAIAMAADkDAAASA0AAKwNAAAQDgAAdA4AANgOAAA8DwAAoA8AAAQQAABoEAAAzBAAADARAACUEQAA+BEAAFwSAADAEgAAJBMAAIgTAAA=\"},\"shape\":[50],\"dtype\":\"int32\",\"order\":\"little\"}]]}}},\"view\":{\"type\":\"object\",\"name\":\"CDSView\",\"id\":\"p1979\",\"attributes\":{\"filter\":{\"type\":\"object\",\"name\":\"AllIndices\",\"id\":\"p1980\"}}},\"glyph\":{\"type\":\"object\",\"name\":\"Circle\",\"id\":\"p1975\",\"attributes\":{\"x\":{\"type\":\"field\",\"field\":\"Number of Edges\"},\"y\":{\"type\":\"field\",\"field\":\"Runtime (Seconds)\"},\"line_color\":{\"type\":\"value\",\"value\":\"#1f77b4\"},\"fill_color\":{\"type\":\"value\",\"value\":\"#1f77b4\"}}},\"nonselection_glyph\":{\"type\":\"object\",\"name\":\"Circle\",\"id\":\"p1976\",\"attributes\":{\"x\":{\"type\":\"field\",\"field\":\"Number of Edges\"},\"y\":{\"type\":\"field\",\"field\":\"Runtime (Seconds)\"},\"line_color\":{\"type\":\"value\",\"value\":\"#1f77b4\"},\"line_alpha\":{\"type\":\"value\",\"value\":0.1},\"fill_color\":{\"type\":\"value\",\"value\":\"#1f77b4\"},\"fill_alpha\":{\"type\":\"value\",\"value\":0.1},\"hatch_alpha\":{\"type\":\"value\",\"value\":0.1}}},\"muted_glyph\":{\"type\":\"object\",\"name\":\"Circle\",\"id\":\"p1977\",\"attributes\":{\"x\":{\"type\":\"field\",\"field\":\"Number of Edges\"},\"y\":{\"type\":\"field\",\"field\":\"Runtime (Seconds)\"},\"line_color\":{\"type\":\"value\",\"value\":\"#1f77b4\"},\"line_alpha\":{\"type\":\"value\",\"value\":0.2},\"fill_color\":{\"type\":\"value\",\"value\":\"#1f77b4\"},\"fill_alpha\":{\"type\":\"value\",\"value\":0.2},\"hatch_alpha\":{\"type\":\"value\",\"value\":0.2}}}}},{\"type\":\"object\",\"name\":\"GlyphRenderer\",\"id\":\"p1992\",\"attributes\":{\"data_source\":{\"type\":\"object\",\"name\":\"ColumnDataSource\",\"id\":\"p1983\",\"attributes\":{\"selected\":{\"type\":\"object\",\"name\":\"Selection\",\"id\":\"p1984\",\"attributes\":{\"indices\":[],\"line_indices\":[]}},\"selection_policy\":{\"type\":\"object\",\"name\":\"UnionRenderers\",\"id\":\"p1985\"},\"data\":{\"type\":\"map\",\"entries\":[[\"index\",{\"type\":\"ndarray\",\"array\":{\"type\":\"bytes\",\"data\":\"AQAAAAMAAAAFAAAABwAAAAkAAAALAAAADQAAAA8AAAARAAAAEwAAABUAAAAXAAAAGQAAABsAAAAdAAAAHwAAACEAAAAjAAAAJQAAACcAAAApAAAAKwAAAC0AAAAvAAAAMQAAADMAAAA1AAAANwAAADkAAAA7AAAAPQAAAD8AAABBAAAAQwAAAEUAAABHAAAASQAAAEsAAABNAAAATwAAAFEAAABTAAAAVQAAAFcAAABZAAAAWwAAAF0AAABfAAAAYQAAAGMAAAA=\"},\"shape\":[50],\"dtype\":\"int32\",\"order\":\"little\"}],[\"Explainer\",{\"type\":\"ndarray\",\"array\":[\"GNN\",\"GNN\",\"GNN\",\"GNN\",\"GNN\",\"GNN\",\"GNN\",\"GNN\",\"GNN\",\"GNN\",\"GNN\",\"GNN\",\"GNN\",\"GNN\",\"GNN\",\"GNN\",\"GNN\",\"GNN\",\"GNN\",\"GNN\",\"GNN\",\"GNN\",\"GNN\",\"GNN\",\"GNN\",\"GNN\",\"GNN\",\"GNN\",\"GNN\",\"GNN\",\"GNN\",\"GNN\",\"GNN\",\"GNN\",\"GNN\",\"GNN\",\"GNN\",\"GNN\",\"GNN\",\"GNN\",\"GNN\",\"GNN\",\"GNN\",\"GNN\",\"GNN\",\"GNN\",\"GNN\",\"GNN\",\"GNN\",\"GNN\"],\"shape\":[50],\"dtype\":\"object\",\"order\":\"little\"}],[\"# Epochs\",{\"type\":\"ndarray\",\"array\":{\"type\":\"bytes\",\"data\":\"MgAAADIAAAAyAAAAMgAAADIAAAAyAAAAMgAAADIAAAAyAAAAMgAAADIAAAAyAAAAMgAAADIAAAAyAAAAMgAAADIAAAAyAAAAMgAAADIAAAAyAAAAMgAAADIAAAAyAAAAMgAAADIAAAAyAAAAMgAAADIAAAAyAAAAMgAAADIAAAAyAAAAMgAAADIAAAAyAAAAMgAAADIAAAAyAAAAMgAAADIAAAAyAAAAMgAAADIAAAAyAAAAMgAAADIAAAAyAAAAMgAAADIAAAA=\"},\"shape\":[50],\"dtype\":\"int32\",\"order\":\"little\"}],[\"Runtime (Seconds)\",{\"type\":\"ndarray\",\"array\":{\"type\":\"bytes\",\"data\":\"/////+ZQ2D//////qk/aPwAAAABfGuY/AAAAAKDT4j8AAACAcZHiPwAAAAAWSuE/AAAAAPdD8z8AAACA89fmPwAAAAAMYOk/AAAAgEld5T8AAACAkyviPwAAAABRieI/AAAAAK3l4D8AAAAAhF7nPwAAAADICOg/AAAAADR/6T8AAACAT+rmPwAAAEBamfE/AAAAgLIA6j8AAAAAsX3oPwEAAACjTu0/AAAAgJA16T//////Fy7tPwAAAICJ2OA/AAAAgPFL6D8AAAAAghHqPwAAAADQVew/AAAAAMI94z8AAAAAKNXlPwAAAAB31+A/AAAAwD/G9z8AAAAAsC3oPwAAAIDo2Oo/AQAAgHr77T8AAACAAdH3PwAAAIDnquk/AAAAAFeH6j8AAAAAMmbrPwAAAMCE//A/AQAAgLNp7z8AAACAYw3uPwAAAMC0VfE/AQAAgArj8T////8/pMX0PwAAAIB/KfE/AAAAAC1b5z8AAADAtxfzPwEAAMAaBvI/AAAAAIBY8z8AAABAn83yPw==\"},\"shape\":[50],\"dtype\":\"float64\",\"order\":\"little\"}],[\"Number of Edges\",{\"type\":\"ndarray\",\"array\":{\"type\":\"bytes\",\"data\":\"ZAAAAMgAAAAsAQAAkAEAAPQBAABYAgAAvAIAACADAACEAwAA6AMAAEwEAACwBAAAFAUAAHgFAADcBQAAQAYAAKQGAAAIBwAAbAcAANAHAAA0CAAAmAgAAPwIAABgCQAAxAkAACgKAACMCgAA8AoAAFQLAAC4CwAAHAwAAIAMAADkDAAASA0AAKwNAAAQDgAAdA4AANgOAAA8DwAAoA8AAAQQAABoEAAAzBAAADARAACUEQAA+BEAAFwSAADAEgAAJBMAAIgTAAA=\"},\"shape\":[50],\"dtype\":\"int32\",\"order\":\"little\"}]]}}},\"view\":{\"type\":\"object\",\"name\":\"CDSView\",\"id\":\"p1993\",\"attributes\":{\"filter\":{\"type\":\"object\",\"name\":\"AllIndices\",\"id\":\"p1994\"}}},\"glyph\":{\"type\":\"object\",\"name\":\"Circle\",\"id\":\"p1989\",\"attributes\":{\"x\":{\"type\":\"field\",\"field\":\"Number of Edges\"},\"y\":{\"type\":\"field\",\"field\":\"Runtime (Seconds)\"},\"line_color\":{\"type\":\"value\",\"value\":\"orange\"},\"fill_color\":{\"type\":\"value\",\"value\":\"orange\"},\"hatch_color\":{\"type\":\"value\",\"value\":\"orange\"}}},\"nonselection_glyph\":{\"type\":\"object\",\"name\":\"Circle\",\"id\":\"p1990\",\"attributes\":{\"x\":{\"type\":\"field\",\"field\":\"Number of Edges\"},\"y\":{\"type\":\"field\",\"field\":\"Runtime (Seconds)\"},\"line_color\":{\"type\":\"value\",\"value\":\"orange\"},\"line_alpha\":{\"type\":\"value\",\"value\":0.1},\"fill_color\":{\"type\":\"value\",\"value\":\"orange\"},\"fill_alpha\":{\"type\":\"value\",\"value\":0.1},\"hatch_color\":{\"type\":\"value\",\"value\":\"orange\"},\"hatch_alpha\":{\"type\":\"value\",\"value\":0.1}}},\"muted_glyph\":{\"type\":\"object\",\"name\":\"Circle\",\"id\":\"p1991\",\"attributes\":{\"x\":{\"type\":\"field\",\"field\":\"Number of Edges\"},\"y\":{\"type\":\"field\",\"field\":\"Runtime (Seconds)\"},\"line_color\":{\"type\":\"value\",\"value\":\"orange\"},\"line_alpha\":{\"type\":\"value\",\"value\":0.2},\"fill_color\":{\"type\":\"value\",\"value\":\"orange\"},\"fill_alpha\":{\"type\":\"value\",\"value\":0.2},\"hatch_color\":{\"type\":\"value\",\"value\":\"orange\"},\"hatch_alpha\":{\"type\":\"value\",\"value\":0.2}}}}}],\"toolbar\":{\"type\":\"object\",\"name\":\"Toolbar\",\"id\":\"p1945\",\"attributes\":{\"tools\":[{\"type\":\"object\",\"name\":\"PanTool\",\"id\":\"p1958\"},{\"type\":\"object\",\"name\":\"WheelZoomTool\",\"id\":\"p1959\",\"attributes\":{\"renderers\":\"auto\"}},{\"type\":\"object\",\"name\":\"BoxZoomTool\",\"id\":\"p1960\",\"attributes\":{\"overlay\":{\"type\":\"object\",\"name\":\"BoxAnnotation\",\"id\":\"p1961\",\"attributes\":{\"syncable\":false,\"level\":\"overlay\",\"visible\":false,\"left\":{\"type\":\"number\",\"value\":\"nan\"},\"right\":{\"type\":\"number\",\"value\":\"nan\"},\"top\":{\"type\":\"number\",\"value\":\"nan\"},\"bottom\":{\"type\":\"number\",\"value\":\"nan\"},\"left_units\":\"canvas\",\"right_units\":\"canvas\",\"top_units\":\"canvas\",\"bottom_units\":\"canvas\",\"line_color\":\"black\",\"line_alpha\":1.0,\"line_width\":2,\"line_dash\":[4,4],\"fill_color\":\"lightgrey\",\"fill_alpha\":0.5}}}},{\"type\":\"object\",\"name\":\"SaveTool\",\"id\":\"p1966\"},{\"type\":\"object\",\"name\":\"ResetTool\",\"id\":\"p1967\"},{\"type\":\"object\",\"name\":\"HelpTool\",\"id\":\"p1968\"}]}},\"left\":[{\"type\":\"object\",\"name\":\"LinearAxis\",\"id\":\"p1953\",\"attributes\":{\"ticker\":{\"type\":\"object\",\"name\":\"BasicTicker\",\"id\":\"p1954\",\"attributes\":{\"mantissas\":[1,2,5]}},\"formatter\":{\"type\":\"object\",\"name\":\"BasicTickFormatter\",\"id\":\"p1955\"},\"axis_label\":\"Runtime (Seconds)\",\"major_label_policy\":{\"type\":\"object\",\"name\":\"AllLabels\",\"id\":\"p1956\"}}}],\"below\":[{\"type\":\"object\",\"name\":\"LinearAxis\",\"id\":\"p1948\",\"attributes\":{\"ticker\":{\"type\":\"object\",\"name\":\"BasicTicker\",\"id\":\"p1949\",\"attributes\":{\"mantissas\":[1,2,5]}},\"formatter\":{\"type\":\"object\",\"name\":\"BasicTickFormatter\",\"id\":\"p1950\"},\"axis_label\":\"Number of Edges\",\"major_label_policy\":{\"type\":\"object\",\"name\":\"AllLabels\",\"id\":\"p1951\"}}}],\"center\":[{\"type\":\"object\",\"name\":\"Grid\",\"id\":\"p1952\",\"attributes\":{\"axis\":{\"id\":\"p1948\"}}},{\"type\":\"object\",\"name\":\"Grid\",\"id\":\"p1957\",\"attributes\":{\"dimension\":1,\"axis\":{\"id\":\"p1953\"}}},{\"type\":\"object\",\"name\":\"Legend\",\"id\":\"p1981\",\"attributes\":{\"location\":\"top_left\",\"items\":[{\"type\":\"object\",\"name\":\"LegendItem\",\"id\":\"p1982\",\"attributes\":{\"label\":{\"type\":\"value\",\"value\":\"Beta\"},\"renderers\":[{\"id\":\"p1978\"}]}},{\"type\":\"object\",\"name\":\"LegendItem\",\"id\":\"p1995\",\"attributes\":{\"label\":{\"type\":\"value\",\"value\":\"GNN\"},\"renderers\":[{\"id\":\"p1992\"}]}}]}}]}}]}};\n",
       "  const render_items = [{\"docid\":\"f82a7c56-6f3b-4530-8410-fe3338688319\",\"roots\":{\"p1937\":\"c508d35a-42aa-48c9-b460-0f458cdfce38\"},\"root_ids\":[\"p1937\"]}];\n",
       "  root.Bokeh.embed.embed_items_notebook(docs_json, render_items);\n",
       "  }\n",
       "  if (root.Bokeh !== undefined) {\n",
       "    embed_document(root);\n",
       "  } else {\n",
       "    let attempts = 0;\n",
       "    const timer = setInterval(function(root) {\n",
       "      if (root.Bokeh !== undefined) {\n",
       "        clearInterval(timer);\n",
       "        embed_document(root);\n",
       "      } else {\n",
       "        attempts++;\n",
       "        if (attempts > 100) {\n",
       "          clearInterval(timer);\n",
       "          console.log(\"Bokeh: ERROR: Unable to run BokehJS code because BokehJS library is missing\");\n",
       "        }\n",
       "      }\n",
       "    }, 10, root)\n",
       "  }\n",
       "})(window);"
      ],
      "application/vnd.bokehjs_exec.v0+json": ""
     },
     "metadata": {
      "application/vnd.bokehjs_exec.v0+json": {
       "id": "p1937"
      }
     },
     "output_type": "display_data"
    }
   ],
   "source": [
    "x = \"Number of Edges\"\n",
    "y = \"Runtime (Seconds)\"\n",
    "p = bokeh.plotting.figure(\n",
    "    width=400,\n",
    "    height=300,\n",
    "    x_axis_label=x,\n",
    "    y_axis_label=y,\n",
    ")\n",
    "p.circle(\n",
    "    source=effects[effects['Explainer'] == 'Beta'],\n",
    "    x=x,\n",
    "    y=y,\n",
    "    legend_label=\"Beta\",\n",
    ")\n",
    "p.circle(\n",
    "    source=effects[effects['Explainer'] == 'GNN'],\n",
    "    x=x,\n",
    "    y=y,\n",
    "    legend_label=\"GNN\",\n",
    "    color='orange'\n",
    ")\n",
    "p.legend.location = \"top_left\"\n",
    "bokeh.io.show(p)"
   ]
  },
  {
   "cell_type": "code",
   "execution_count": 28,
   "id": "0d8d007f-da25-4152-bbc0-77b70b421825",
   "metadata": {
    "jupyter": {
     "source_hidden": true
    }
   },
   "outputs": [
    {
     "data": {
      "text/html": [
       "\n",
       "  <div id=\"ddba9250-43b6-4216-a35b-e84e2451e281\" data-root-id=\"p2004\" style=\"display: contents;\"></div>\n"
      ]
     },
     "metadata": {},
     "output_type": "display_data"
    },
    {
     "data": {
      "application/javascript": [
       "(function(root) {\n",
       "  function embed_document(root) {\n",
       "  const docs_json = {\"acc6759a-6656-4e66-ae7d-5fae4106b31b\":{\"version\":\"3.3.4\",\"title\":\"Bokeh Application\",\"roots\":[{\"type\":\"object\",\"name\":\"Figure\",\"id\":\"p2004\",\"attributes\":{\"width\":400,\"height\":300,\"x_range\":{\"type\":\"object\",\"name\":\"DataRange1d\",\"id\":\"p2005\"},\"y_range\":{\"type\":\"object\",\"name\":\"DataRange1d\",\"id\":\"p2006\"},\"x_scale\":{\"type\":\"object\",\"name\":\"LinearScale\",\"id\":\"p2013\"},\"y_scale\":{\"type\":\"object\",\"name\":\"LinearScale\",\"id\":\"p2014\"},\"title\":{\"type\":\"object\",\"name\":\"Title\",\"id\":\"p2011\"},\"renderers\":[{\"type\":\"object\",\"name\":\"GlyphRenderer\",\"id\":\"p2045\",\"attributes\":{\"data_source\":{\"type\":\"object\",\"name\":\"ColumnDataSource\",\"id\":\"p2036\",\"attributes\":{\"selected\":{\"type\":\"object\",\"name\":\"Selection\",\"id\":\"p2037\",\"attributes\":{\"indices\":[],\"line_indices\":[]}},\"selection_policy\":{\"type\":\"object\",\"name\":\"UnionRenderers\",\"id\":\"p2038\"},\"data\":{\"type\":\"map\",\"entries\":[[\"index\",{\"type\":\"ndarray\",\"array\":{\"type\":\"bytes\",\"data\":\"AAAAAAEAAAACAAAAAwAAAAQAAAAFAAAABgAAAAcAAAAIAAAACQAAAAoAAAALAAAADAAAAA0AAAAOAAAADwAAABAAAAARAAAAEgAAABMAAAAUAAAAFQAAABYAAAAXAAAAGAAAABkAAAAaAAAAGwAAABwAAAAdAAAAHgAAAB8AAAAgAAAAIQAAACIAAAAjAAAAJAAAACUAAAAmAAAAJwAAACgAAAApAAAAKgAAACsAAAAsAAAALQAAAC4AAAAvAAAAMAAAADEAAAA=\"},\"shape\":[50],\"dtype\":\"int32\",\"order\":\"little\"}],[\"# Epochs\",{\"type\":\"ndarray\",\"array\":{\"type\":\"bytes\",\"data\":\"MgAAADIAAAAyAAAAMgAAADIAAAAyAAAAMgAAADIAAAAyAAAAMgAAADIAAAAyAAAAMgAAADIAAAAyAAAAMgAAADIAAAAyAAAAMgAAADIAAAAyAAAAMgAAADIAAAAyAAAAMgAAADIAAAAyAAAAMgAAADIAAAAyAAAAMgAAADIAAAAyAAAAMgAAADIAAAAyAAAAMgAAADIAAAAyAAAAMgAAADIAAAAyAAAAMgAAADIAAAAyAAAAMgAAADIAAAAyAAAAMgAAADIAAAA=\"},\"shape\":[50],\"dtype\":\"int32\",\"order\":\"little\"}],[\"GNN Runtime (Seconds)\",{\"type\":\"ndarray\",\"array\":{\"type\":\"bytes\",\"data\":\"/////+ZQ2D//////qk/aPwAAAABfGuY/AAAAAKDT4j8AAACAcZHiPwAAAAAWSuE/AAAAAPdD8z8AAACA89fmPwAAAAAMYOk/AAAAgEld5T8AAACAkyviPwAAAABRieI/AAAAAK3l4D8AAAAAhF7nPwAAAADICOg/AAAAADR/6T8AAACAT+rmPwAAAEBamfE/AAAAgLIA6j8AAAAAsX3oPwEAAACjTu0/AAAAgJA16T//////Fy7tPwAAAICJ2OA/AAAAgPFL6D8AAAAAghHqPwAAAADQVew/AAAAAMI94z8AAAAAKNXlPwAAAAB31+A/AAAAwD/G9z8AAAAAsC3oPwAAAIDo2Oo/AQAAgHr77T8AAACAAdH3PwAAAIDnquk/AAAAAFeH6j8AAAAAMmbrPwAAAMCE//A/AQAAgLNp7z8AAACAYw3uPwAAAMC0VfE/AQAAgArj8T////8/pMX0PwAAAIB/KfE/AAAAAC1b5z8AAADAtxfzPwEAAMAaBvI/AAAAAIBY8z8AAABAn83yPw==\"},\"shape\":[50],\"dtype\":\"float64\",\"order\":\"little\"}],[\"Number of Edges\",{\"type\":\"ndarray\",\"array\":{\"type\":\"bytes\",\"data\":\"ZAAAAMgAAAAsAQAAkAEAAPQBAABYAgAAvAIAACADAACEAwAA6AMAAEwEAACwBAAAFAUAAHgFAADcBQAAQAYAAKQGAAAIBwAAbAcAANAHAAA0CAAAmAgAAPwIAABgCQAAxAkAACgKAACMCgAA8AoAAFQLAAC4CwAAHAwAAIAMAADkDAAASA0AAKwNAAAQDgAAdA4AANgOAAA8DwAAoA8AAAQQAABoEAAAzBAAADARAACUEQAA+BEAAFwSAADAEgAAJBMAAIgTAAA=\"},\"shape\":[50],\"dtype\":\"int32\",\"order\":\"little\"}],[\"Beta Runtime (Seconds)\",{\"type\":\"ndarray\",\"array\":{\"type\":\"bytes\",\"data\":\"AAAAgDeLDED+//8ffzQOQAAAAEAIzA5AAAAAIBnUC0AAAAAQcLsQQP////9owQ1AAQAAYNsOEUAAAACw9VsQQAAAAAALfhBAAAAAIIbED0AAAACg4W0QQAAAAHCRBhNAAAAAENYtEkAAAADA8asRQAAAAHDIGhdAAAAAEEnFEkAAAABwAToQQAAAAPAgyBdAAAAAUIHtEUAAAADApKoSQAAAAFB0WRNAAAAAIOejFUAAAADQyf0RQAAAAKCdIxFAAAAAcLvFEkAAAACQ/cwRQAAAAFBByBFAAAAAAAJ4E0AAAABQbYgSQAAAACD6tBNAAAAAYKS3GkAAAABAqNgUQAAAAKAndxRAAAAAoM+1FUAAAADA7AMXQAAAANC7ERNAAAAA8KXZFEAAAABw7mgXQAAAAOByOBRAAAAAAEmZFkAAAABwL90UQAAAABAtuBpAAAAA4PgOGkAAAAAQou0XQAAAADALsxxAAAAAQKlZGkAAAACQrVMdQAAAALD6JRxAAQAAoPRRGUAAAAC407UgQA==\"},\"shape\":[50],\"dtype\":\"float64\",\"order\":\"little\"}],[\"Difference (Seconds)\",{\"type\":\"ndarray\",\"array\":{\"type\":\"bytes\",\"data\":\"AAAAoBqBCUD+//+/ieoKQAAAAIBwRQlAAAAAIDEfB0AAAADAg9IMQP///3/jbglAAgAAQLt7CEAAAACA7gELQAAAAAATpApAAAAAwDNtCkAAAABg3lAMQAAAAFBntRBAAAAAcCAREEAAAACAQoANQAAAAHCvGRRAAAAAIMUqD0AAAAAAb7kKQAAAAGDKYRNAAAAAANZaDUAAAABA3TUPQAAAAOA/Xw9AAAAAEDV9EkAAAACgDbAMQAAAAOAYEQ5AAAAAgHp4D0AAAACgmhUNQAAAAKAOewxAAAAAwEkQEUAAAACgkJsPQAAAAEALmhFAAAAAcBTGFEAAAABA8tIRQAAAAJAKHBFAAAAAUGD2EUAAAABgrA8RQAAAAMC9uA9AAAAAELuIEUAAAAAwKPwTQAAAAGAj8Q9AAAAAkBKsEkAAAAAAgxsRQAAAAOC/YhZAAAAAQDaWFUAAAAAAObwSQAAAAFCraBhAAAAAoENuF0AAAACgv40YQAAAAAB0pBdAAQAAoNR7FEAAAACgP7gcQA==\"},\"shape\":[50],\"dtype\":\"float64\",\"order\":\"little\"}]]}}},\"view\":{\"type\":\"object\",\"name\":\"CDSView\",\"id\":\"p2046\",\"attributes\":{\"filter\":{\"type\":\"object\",\"name\":\"AllIndices\",\"id\":\"p2047\"}}},\"glyph\":{\"type\":\"object\",\"name\":\"Circle\",\"id\":\"p2042\",\"attributes\":{\"x\":{\"type\":\"field\",\"field\":\"Number of Edges\"},\"y\":{\"type\":\"field\",\"field\":\"Difference (Seconds)\"},\"line_color\":{\"type\":\"value\",\"value\":\"#1f77b4\"},\"fill_color\":{\"type\":\"value\",\"value\":\"#1f77b4\"}}},\"nonselection_glyph\":{\"type\":\"object\",\"name\":\"Circle\",\"id\":\"p2043\",\"attributes\":{\"x\":{\"type\":\"field\",\"field\":\"Number of Edges\"},\"y\":{\"type\":\"field\",\"field\":\"Difference (Seconds)\"},\"line_color\":{\"type\":\"value\",\"value\":\"#1f77b4\"},\"line_alpha\":{\"type\":\"value\",\"value\":0.1},\"fill_color\":{\"type\":\"value\",\"value\":\"#1f77b4\"},\"fill_alpha\":{\"type\":\"value\",\"value\":0.1},\"hatch_alpha\":{\"type\":\"value\",\"value\":0.1}}},\"muted_glyph\":{\"type\":\"object\",\"name\":\"Circle\",\"id\":\"p2044\",\"attributes\":{\"x\":{\"type\":\"field\",\"field\":\"Number of Edges\"},\"y\":{\"type\":\"field\",\"field\":\"Difference (Seconds)\"},\"line_color\":{\"type\":\"value\",\"value\":\"#1f77b4\"},\"line_alpha\":{\"type\":\"value\",\"value\":0.2},\"fill_color\":{\"type\":\"value\",\"value\":\"#1f77b4\"},\"fill_alpha\":{\"type\":\"value\",\"value\":0.2},\"hatch_alpha\":{\"type\":\"value\",\"value\":0.2}}}}}],\"toolbar\":{\"type\":\"object\",\"name\":\"Toolbar\",\"id\":\"p2012\",\"attributes\":{\"tools\":[{\"type\":\"object\",\"name\":\"PanTool\",\"id\":\"p2025\"},{\"type\":\"object\",\"name\":\"WheelZoomTool\",\"id\":\"p2026\",\"attributes\":{\"renderers\":\"auto\"}},{\"type\":\"object\",\"name\":\"BoxZoomTool\",\"id\":\"p2027\",\"attributes\":{\"overlay\":{\"type\":\"object\",\"name\":\"BoxAnnotation\",\"id\":\"p2028\",\"attributes\":{\"syncable\":false,\"level\":\"overlay\",\"visible\":false,\"left\":{\"type\":\"number\",\"value\":\"nan\"},\"right\":{\"type\":\"number\",\"value\":\"nan\"},\"top\":{\"type\":\"number\",\"value\":\"nan\"},\"bottom\":{\"type\":\"number\",\"value\":\"nan\"},\"left_units\":\"canvas\",\"right_units\":\"canvas\",\"top_units\":\"canvas\",\"bottom_units\":\"canvas\",\"line_color\":\"black\",\"line_alpha\":1.0,\"line_width\":2,\"line_dash\":[4,4],\"fill_color\":\"lightgrey\",\"fill_alpha\":0.5}}}},{\"type\":\"object\",\"name\":\"SaveTool\",\"id\":\"p2033\"},{\"type\":\"object\",\"name\":\"ResetTool\",\"id\":\"p2034\"},{\"type\":\"object\",\"name\":\"HelpTool\",\"id\":\"p2035\"}]}},\"left\":[{\"type\":\"object\",\"name\":\"LinearAxis\",\"id\":\"p2020\",\"attributes\":{\"ticker\":{\"type\":\"object\",\"name\":\"BasicTicker\",\"id\":\"p2021\",\"attributes\":{\"mantissas\":[1,2,5]}},\"formatter\":{\"type\":\"object\",\"name\":\"BasicTickFormatter\",\"id\":\"p2022\"},\"axis_label\":\"Difference (Seconds)\",\"major_label_policy\":{\"type\":\"object\",\"name\":\"AllLabels\",\"id\":\"p2023\"}}}],\"below\":[{\"type\":\"object\",\"name\":\"LinearAxis\",\"id\":\"p2015\",\"attributes\":{\"ticker\":{\"type\":\"object\",\"name\":\"BasicTicker\",\"id\":\"p2016\",\"attributes\":{\"mantissas\":[1,2,5]}},\"formatter\":{\"type\":\"object\",\"name\":\"BasicTickFormatter\",\"id\":\"p2017\"},\"axis_label\":\"Number of Edges\",\"major_label_policy\":{\"type\":\"object\",\"name\":\"AllLabels\",\"id\":\"p2018\"}}}],\"center\":[{\"type\":\"object\",\"name\":\"Grid\",\"id\":\"p2019\",\"attributes\":{\"axis\":{\"id\":\"p2015\"}}},{\"type\":\"object\",\"name\":\"Grid\",\"id\":\"p2024\",\"attributes\":{\"dimension\":1,\"axis\":{\"id\":\"p2020\"}}}]}}]}};\n",
       "  const render_items = [{\"docid\":\"acc6759a-6656-4e66-ae7d-5fae4106b31b\",\"roots\":{\"p2004\":\"ddba9250-43b6-4216-a35b-e84e2451e281\"},\"root_ids\":[\"p2004\"]}];\n",
       "  root.Bokeh.embed.embed_items_notebook(docs_json, render_items);\n",
       "  }\n",
       "  if (root.Bokeh !== undefined) {\n",
       "    embed_document(root);\n",
       "  } else {\n",
       "    let attempts = 0;\n",
       "    const timer = setInterval(function(root) {\n",
       "      if (root.Bokeh !== undefined) {\n",
       "        clearInterval(timer);\n",
       "        embed_document(root);\n",
       "      } else {\n",
       "        attempts++;\n",
       "        if (attempts > 100) {\n",
       "          clearInterval(timer);\n",
       "          console.log(\"Bokeh: ERROR: Unable to run BokehJS code because BokehJS library is missing\");\n",
       "        }\n",
       "      }\n",
       "    }, 10, root)\n",
       "  }\n",
       "})(window);"
      ],
      "application/vnd.bokehjs_exec.v0+json": ""
     },
     "metadata": {
      "application/vnd.bokehjs_exec.v0+json": {
       "id": "p2004"
      }
     },
     "output_type": "display_data"
    }
   ],
   "source": [
    "x = \"Number of Edges\"\n",
    "y = \"Difference (Seconds)\"\n",
    "p = bokeh.plotting.figure(\n",
    "    width=400,\n",
    "    height=300,\n",
    "    x_axis_label=x,\n",
    "    y_axis_label=y,\n",
    ")\n",
    "p.circle(\n",
    "    source=diff,\n",
    "    x=x,\n",
    "    y=y,\n",
    ")\n",
    "bokeh.io.show(p)"
   ]
  },
  {
   "cell_type": "code",
   "execution_count": 29,
   "id": "aa5be819-a1cf-48f4-ba05-46d682f475cb",
   "metadata": {},
   "outputs": [],
   "source": [
    "effects = pd.read_csv('unfairGraphRuntimes.csv')\n",
    "effects = effects.drop(['Average Runtime', 'Unnamed: 0', 'Data'], axis=1)\n",
    "effects = effects.rename({'# Edges': 'Number of Edges', 'Full Runtime': 'Runtime (Seconds)'}, axis=1)\n",
    "gnn = effects[effects['Explainer'] == 'GNN']\n",
    "gnn = gnn.rename({'Runtime (Seconds)': 'GNN Runtime (Seconds)'}, axis=1)\n",
    "gnn = gnn.drop(['Explainer'], axis=1)\n",
    "beta = effects[effects['Explainer'] == 'Beta']\n",
    "beta = beta.rename({'Runtime (Seconds)': 'Beta Runtime (Seconds)'}, axis=1)\n",
    "beta = beta.drop(['Explainer'], axis=1)\n",
    "diff = pd.merge(gnn, beta, how=\"right\", on=[\"# Epochs\",'Number of Edges'])\n",
    "diff['Difference (Seconds)'] = diff['Beta Runtime (Seconds)'] - diff['GNN Runtime (Seconds)']"
   ]
  },
  {
   "cell_type": "code",
   "execution_count": 30,
   "id": "4f1684c3-f2d9-47f0-b670-802efd7055a3",
   "metadata": {
    "jupyter": {
     "source_hidden": true
    }
   },
   "outputs": [
    {
     "data": {
      "text/html": [
       "\n",
       "  <div id=\"e1edaac2-fded-4b4d-a3a1-f0f5922719f8\" data-root-id=\"p2054\" style=\"display: contents;\"></div>\n"
      ]
     },
     "metadata": {},
     "output_type": "display_data"
    },
    {
     "data": {
      "application/javascript": [
       "(function(root) {\n",
       "  function embed_document(root) {\n",
       "  const docs_json = {\"5896c2d0-f2b1-4a60-b34d-61de2a1d62a0\":{\"version\":\"3.3.4\",\"title\":\"Bokeh Application\",\"roots\":[{\"type\":\"object\",\"name\":\"Figure\",\"id\":\"p2054\",\"attributes\":{\"width\":400,\"height\":300,\"x_range\":{\"type\":\"object\",\"name\":\"DataRange1d\",\"id\":\"p2055\"},\"y_range\":{\"type\":\"object\",\"name\":\"DataRange1d\",\"id\":\"p2056\"},\"x_scale\":{\"type\":\"object\",\"name\":\"LinearScale\",\"id\":\"p2063\"},\"y_scale\":{\"type\":\"object\",\"name\":\"LinearScale\",\"id\":\"p2064\"},\"title\":{\"type\":\"object\",\"name\":\"Title\",\"id\":\"p2061\"},\"renderers\":[{\"type\":\"object\",\"name\":\"GlyphRenderer\",\"id\":\"p2095\",\"attributes\":{\"data_source\":{\"type\":\"object\",\"name\":\"ColumnDataSource\",\"id\":\"p2086\",\"attributes\":{\"selected\":{\"type\":\"object\",\"name\":\"Selection\",\"id\":\"p2087\",\"attributes\":{\"indices\":[],\"line_indices\":[]}},\"selection_policy\":{\"type\":\"object\",\"name\":\"UnionRenderers\",\"id\":\"p2088\"},\"data\":{\"type\":\"map\",\"entries\":[[\"index\",{\"type\":\"ndarray\",\"array\":{\"type\":\"bytes\",\"data\":\"AAAAAAIAAAAEAAAABgAAAAgAAAAKAAAADAAAAA4AAAAQAAAAEgAAABQAAAAWAAAAGAAAABoAAAAcAAAAHgAAACAAAAAiAAAAJAAAACYAAAAoAAAAKgAAACwAAAAuAAAAMAAAADIAAAA0AAAANgAAADgAAAA6AAAAPAAAAD4AAABAAAAAQgAAAEQAAABGAAAASAAAAEoAAABMAAAATgAAAFAAAABSAAAAVAAAAFYAAABYAAAAWgAAAFwAAABeAAAAYAAAAGIAAAA=\"},\"shape\":[50],\"dtype\":\"int32\",\"order\":\"little\"}],[\"Explainer\",{\"type\":\"ndarray\",\"array\":[\"Beta\",\"Beta\",\"Beta\",\"Beta\",\"Beta\",\"Beta\",\"Beta\",\"Beta\",\"Beta\",\"Beta\",\"Beta\",\"Beta\",\"Beta\",\"Beta\",\"Beta\",\"Beta\",\"Beta\",\"Beta\",\"Beta\",\"Beta\",\"Beta\",\"Beta\",\"Beta\",\"Beta\",\"Beta\",\"Beta\",\"Beta\",\"Beta\",\"Beta\",\"Beta\",\"Beta\",\"Beta\",\"Beta\",\"Beta\",\"Beta\",\"Beta\",\"Beta\",\"Beta\",\"Beta\",\"Beta\",\"Beta\",\"Beta\",\"Beta\",\"Beta\",\"Beta\",\"Beta\",\"Beta\",\"Beta\",\"Beta\",\"Beta\"],\"shape\":[50],\"dtype\":\"object\",\"order\":\"little\"}],[\"# Epochs\",{\"type\":\"ndarray\",\"array\":{\"type\":\"bytes\",\"data\":\"MgAAADIAAAAyAAAAMgAAADIAAAAyAAAAMgAAADIAAAAyAAAAMgAAADIAAAAyAAAAMgAAADIAAAAyAAAAMgAAADIAAAAyAAAAMgAAADIAAAAyAAAAMgAAADIAAAAyAAAAMgAAADIAAAAyAAAAMgAAADIAAAAyAAAAMgAAADIAAAAyAAAAMgAAADIAAAAyAAAAMgAAADIAAAAyAAAAMgAAADIAAAAyAAAAMgAAADIAAAAyAAAAMgAAADIAAAAyAAAAMgAAADIAAAA=\"},\"shape\":[50],\"dtype\":\"int32\",\"order\":\"little\"}],[\"Runtime (Seconds)\",{\"type\":\"ndarray\",\"array\":{\"type\":\"bytes\",\"data\":\"AAAAkM0QEUAAAAAwF58QQAAAAACmvg9AAAAA4OwREEAAAADAqzwQQAAAABA1BhJAAAAAMMfKEUAAAADgObYSQAAAALAdAxJAAAAAUF1fEkAAAACwKC4SQAAAABB+zRFAAAAAEN+sEkAAAAAw/N0RQAAAAHBZjBJAAAAAgEi3EkAAAAAQ8/4SQAAAAAC2XhJAAAAAgDAtE0AAAACwkVMTQAAAAPC0bRNAAAAAMI+IE0AAAACQf+ATQAAAAAAL2RNAAAAAoOi0E0AAAABQ7e4TQAAAALB74hNAAAAAwBenE0AAAABQctsUQAAAAAD74hVAAQAA4P3XEkAAAABAblEUQAAAADBHcBJAAAAA0JJxE0AAAABgFyUTQAAAAGDhoBNAAQAAQNXrFkAAAABgAsETQAAAAMCSzRJAAAAA4DhmE0AAAADwFnkTQAAAAMDDFBRAAAAAQFe4E0AAAAAgQo0UQAEAAHBeChNAAAAAtC1kMEAAAACAX/wsQAAAAPA7XixAAAAAkKurKED/////7DMyQA==\"},\"shape\":[50],\"dtype\":\"float64\",\"order\":\"little\"}],[\"Number of Edges\",{\"type\":\"ndarray\",\"array\":{\"type\":\"bytes\",\"data\":\"ZAAAAMgAAAAsAQAAkAEAAPQBAABYAgAAvAIAACADAACEAwAA6AMAAEwEAACwBAAAFAUAAHgFAADcBQAAQAYAAKQGAAAIBwAAbAcAANAHAAA0CAAAmAgAAPwIAABgCQAAxAkAACgKAACMCgAA8AoAAFQLAAC4CwAAHAwAAIAMAADkDAAASA0AAKwNAAAQDgAAdA4AANgOAAA8DwAAoA8AAAQQAABoEAAAzBAAADARAACUEQAA+BEAAFwSAADAEgAAJBMAAIgTAAA=\"},\"shape\":[50],\"dtype\":\"int32\",\"order\":\"little\"}]]}}},\"view\":{\"type\":\"object\",\"name\":\"CDSView\",\"id\":\"p2096\",\"attributes\":{\"filter\":{\"type\":\"object\",\"name\":\"AllIndices\",\"id\":\"p2097\"}}},\"glyph\":{\"type\":\"object\",\"name\":\"Circle\",\"id\":\"p2092\",\"attributes\":{\"x\":{\"type\":\"field\",\"field\":\"Number of Edges\"},\"y\":{\"type\":\"field\",\"field\":\"Runtime (Seconds)\"},\"line_color\":{\"type\":\"value\",\"value\":\"#1f77b4\"},\"fill_color\":{\"type\":\"value\",\"value\":\"#1f77b4\"}}},\"nonselection_glyph\":{\"type\":\"object\",\"name\":\"Circle\",\"id\":\"p2093\",\"attributes\":{\"x\":{\"type\":\"field\",\"field\":\"Number of Edges\"},\"y\":{\"type\":\"field\",\"field\":\"Runtime (Seconds)\"},\"line_color\":{\"type\":\"value\",\"value\":\"#1f77b4\"},\"line_alpha\":{\"type\":\"value\",\"value\":0.1},\"fill_color\":{\"type\":\"value\",\"value\":\"#1f77b4\"},\"fill_alpha\":{\"type\":\"value\",\"value\":0.1},\"hatch_alpha\":{\"type\":\"value\",\"value\":0.1}}},\"muted_glyph\":{\"type\":\"object\",\"name\":\"Circle\",\"id\":\"p2094\",\"attributes\":{\"x\":{\"type\":\"field\",\"field\":\"Number of Edges\"},\"y\":{\"type\":\"field\",\"field\":\"Runtime (Seconds)\"},\"line_color\":{\"type\":\"value\",\"value\":\"#1f77b4\"},\"line_alpha\":{\"type\":\"value\",\"value\":0.2},\"fill_color\":{\"type\":\"value\",\"value\":\"#1f77b4\"},\"fill_alpha\":{\"type\":\"value\",\"value\":0.2},\"hatch_alpha\":{\"type\":\"value\",\"value\":0.2}}}}},{\"type\":\"object\",\"name\":\"GlyphRenderer\",\"id\":\"p2109\",\"attributes\":{\"data_source\":{\"type\":\"object\",\"name\":\"ColumnDataSource\",\"id\":\"p2100\",\"attributes\":{\"selected\":{\"type\":\"object\",\"name\":\"Selection\",\"id\":\"p2101\",\"attributes\":{\"indices\":[],\"line_indices\":[]}},\"selection_policy\":{\"type\":\"object\",\"name\":\"UnionRenderers\",\"id\":\"p2102\"},\"data\":{\"type\":\"map\",\"entries\":[[\"index\",{\"type\":\"ndarray\",\"array\":{\"type\":\"bytes\",\"data\":\"AQAAAAMAAAAFAAAABwAAAAkAAAALAAAADQAAAA8AAAARAAAAEwAAABUAAAAXAAAAGQAAABsAAAAdAAAAHwAAACEAAAAjAAAAJQAAACcAAAApAAAAKwAAAC0AAAAvAAAAMQAAADMAAAA1AAAANwAAADkAAAA7AAAAPQAAAD8AAABBAAAAQwAAAEUAAABHAAAASQAAAEsAAABNAAAATwAAAFEAAABTAAAAVQAAAFcAAABZAAAAWwAAAF0AAABfAAAAYQAAAGMAAAA=\"},\"shape\":[50],\"dtype\":\"int32\",\"order\":\"little\"}],[\"Explainer\",{\"type\":\"ndarray\",\"array\":[\"GNN\",\"GNN\",\"GNN\",\"GNN\",\"GNN\",\"GNN\",\"GNN\",\"GNN\",\"GNN\",\"GNN\",\"GNN\",\"GNN\",\"GNN\",\"GNN\",\"GNN\",\"GNN\",\"GNN\",\"GNN\",\"GNN\",\"GNN\",\"GNN\",\"GNN\",\"GNN\",\"GNN\",\"GNN\",\"GNN\",\"GNN\",\"GNN\",\"GNN\",\"GNN\",\"GNN\",\"GNN\",\"GNN\",\"GNN\",\"GNN\",\"GNN\",\"GNN\",\"GNN\",\"GNN\",\"GNN\",\"GNN\",\"GNN\",\"GNN\",\"GNN\",\"GNN\",\"GNN\",\"GNN\",\"GNN\",\"GNN\",\"GNN\"],\"shape\":[50],\"dtype\":\"object\",\"order\":\"little\"}],[\"# Epochs\",{\"type\":\"ndarray\",\"array\":{\"type\":\"bytes\",\"data\":\"MgAAADIAAAAyAAAAMgAAADIAAAAyAAAAMgAAADIAAAAyAAAAMgAAADIAAAAyAAAAMgAAADIAAAAyAAAAMgAAADIAAAAyAAAAMgAAADIAAAAyAAAAMgAAADIAAAAyAAAAMgAAADIAAAAyAAAAMgAAADIAAAAyAAAAMgAAADIAAAAyAAAAMgAAADIAAAAyAAAAMgAAADIAAAAyAAAAMgAAADIAAAAyAAAAMgAAADIAAAAyAAAAMgAAADIAAAAyAAAAMgAAADIAAAA=\"},\"shape\":[50],\"dtype\":\"int32\",\"order\":\"little\"}],[\"Runtime (Seconds)\",{\"type\":\"ndarray\",\"array\":{\"type\":\"bytes\",\"data\":\"AAAAgGJm5T8AAAAA7ebhPwAAAAB9yt8/AAAAAE3z5z8AAACAZf/rPwAAAABE2+w/AAAAACk47D8AAABAcxfwPwAAAAA/fO0/AQAAwNnL8D8AAACArGXqPwAAAIBbnOk/AAAAAB7R6T8AAACAVuPpPwAAAACMZ+k/AAAAAAd/6j8AAAAAkQ3qPwAAAIC0wuk/AAAAgPzy6j8AAAAAU8nqPwAAAIBuKeo/AAAAAJL16j8AAAAA7uPrPwAAAACE/uo/AAAAgKzW6z8AAAAA0KfpPwAAAADndus/AAAAgMan7D8AAACAFyHsPwAAAEAFTPQ/AAAAgKMQ8T8AAAAAxXXyPwAAAMBgN/I/AAAAALSe7j8AAAAAjIPyPwAAAIDlIfI/AAAAwF11BkAAAAAA+MrwPwAAAICHVPI/AAAAANBZ8j8AAACAnjHxPwAAAABAYfE/AAAAALUv8D8AAACAnrD1P////3+3NfA/AAAAgKGj8z8AAAAAQY/yPwAAAAAW2/c/AAAAwBa99D8AAADAaiL1Pw==\"},\"shape\":[50],\"dtype\":\"float64\",\"order\":\"little\"}],[\"Number of Edges\",{\"type\":\"ndarray\",\"array\":{\"type\":\"bytes\",\"data\":\"ZAAAAMgAAAAsAQAAkAEAAPQBAABYAgAAvAIAACADAACEAwAA6AMAAEwEAACwBAAAFAUAAHgFAADcBQAAQAYAAKQGAAAIBwAAbAcAANAHAAA0CAAAmAgAAPwIAABgCQAAxAkAACgKAACMCgAA8AoAAFQLAAC4CwAAHAwAAIAMAADkDAAASA0AAKwNAAAQDgAAdA4AANgOAAA8DwAAoA8AAAQQAABoEAAAzBAAADARAACUEQAA+BEAAFwSAADAEgAAJBMAAIgTAAA=\"},\"shape\":[50],\"dtype\":\"int32\",\"order\":\"little\"}]]}}},\"view\":{\"type\":\"object\",\"name\":\"CDSView\",\"id\":\"p2110\",\"attributes\":{\"filter\":{\"type\":\"object\",\"name\":\"AllIndices\",\"id\":\"p2111\"}}},\"glyph\":{\"type\":\"object\",\"name\":\"Circle\",\"id\":\"p2106\",\"attributes\":{\"x\":{\"type\":\"field\",\"field\":\"Number of Edges\"},\"y\":{\"type\":\"field\",\"field\":\"Runtime (Seconds)\"},\"line_color\":{\"type\":\"value\",\"value\":\"orange\"},\"fill_color\":{\"type\":\"value\",\"value\":\"orange\"},\"hatch_color\":{\"type\":\"value\",\"value\":\"orange\"}}},\"nonselection_glyph\":{\"type\":\"object\",\"name\":\"Circle\",\"id\":\"p2107\",\"attributes\":{\"x\":{\"type\":\"field\",\"field\":\"Number of Edges\"},\"y\":{\"type\":\"field\",\"field\":\"Runtime (Seconds)\"},\"line_color\":{\"type\":\"value\",\"value\":\"orange\"},\"line_alpha\":{\"type\":\"value\",\"value\":0.1},\"fill_color\":{\"type\":\"value\",\"value\":\"orange\"},\"fill_alpha\":{\"type\":\"value\",\"value\":0.1},\"hatch_color\":{\"type\":\"value\",\"value\":\"orange\"},\"hatch_alpha\":{\"type\":\"value\",\"value\":0.1}}},\"muted_glyph\":{\"type\":\"object\",\"name\":\"Circle\",\"id\":\"p2108\",\"attributes\":{\"x\":{\"type\":\"field\",\"field\":\"Number of Edges\"},\"y\":{\"type\":\"field\",\"field\":\"Runtime (Seconds)\"},\"line_color\":{\"type\":\"value\",\"value\":\"orange\"},\"line_alpha\":{\"type\":\"value\",\"value\":0.2},\"fill_color\":{\"type\":\"value\",\"value\":\"orange\"},\"fill_alpha\":{\"type\":\"value\",\"value\":0.2},\"hatch_color\":{\"type\":\"value\",\"value\":\"orange\"},\"hatch_alpha\":{\"type\":\"value\",\"value\":0.2}}}}}],\"toolbar\":{\"type\":\"object\",\"name\":\"Toolbar\",\"id\":\"p2062\",\"attributes\":{\"tools\":[{\"type\":\"object\",\"name\":\"PanTool\",\"id\":\"p2075\"},{\"type\":\"object\",\"name\":\"WheelZoomTool\",\"id\":\"p2076\",\"attributes\":{\"renderers\":\"auto\"}},{\"type\":\"object\",\"name\":\"BoxZoomTool\",\"id\":\"p2077\",\"attributes\":{\"overlay\":{\"type\":\"object\",\"name\":\"BoxAnnotation\",\"id\":\"p2078\",\"attributes\":{\"syncable\":false,\"level\":\"overlay\",\"visible\":false,\"left\":{\"type\":\"number\",\"value\":\"nan\"},\"right\":{\"type\":\"number\",\"value\":\"nan\"},\"top\":{\"type\":\"number\",\"value\":\"nan\"},\"bottom\":{\"type\":\"number\",\"value\":\"nan\"},\"left_units\":\"canvas\",\"right_units\":\"canvas\",\"top_units\":\"canvas\",\"bottom_units\":\"canvas\",\"line_color\":\"black\",\"line_alpha\":1.0,\"line_width\":2,\"line_dash\":[4,4],\"fill_color\":\"lightgrey\",\"fill_alpha\":0.5}}}},{\"type\":\"object\",\"name\":\"SaveTool\",\"id\":\"p2083\"},{\"type\":\"object\",\"name\":\"ResetTool\",\"id\":\"p2084\"},{\"type\":\"object\",\"name\":\"HelpTool\",\"id\":\"p2085\"}]}},\"left\":[{\"type\":\"object\",\"name\":\"LinearAxis\",\"id\":\"p2070\",\"attributes\":{\"ticker\":{\"type\":\"object\",\"name\":\"BasicTicker\",\"id\":\"p2071\",\"attributes\":{\"mantissas\":[1,2,5]}},\"formatter\":{\"type\":\"object\",\"name\":\"BasicTickFormatter\",\"id\":\"p2072\"},\"axis_label\":\"Runtime (Seconds)\",\"major_label_policy\":{\"type\":\"object\",\"name\":\"AllLabels\",\"id\":\"p2073\"}}}],\"below\":[{\"type\":\"object\",\"name\":\"LinearAxis\",\"id\":\"p2065\",\"attributes\":{\"ticker\":{\"type\":\"object\",\"name\":\"BasicTicker\",\"id\":\"p2066\",\"attributes\":{\"mantissas\":[1,2,5]}},\"formatter\":{\"type\":\"object\",\"name\":\"BasicTickFormatter\",\"id\":\"p2067\"},\"axis_label\":\"Number of Edges\",\"major_label_policy\":{\"type\":\"object\",\"name\":\"AllLabels\",\"id\":\"p2068\"}}}],\"center\":[{\"type\":\"object\",\"name\":\"Grid\",\"id\":\"p2069\",\"attributes\":{\"axis\":{\"id\":\"p2065\"}}},{\"type\":\"object\",\"name\":\"Grid\",\"id\":\"p2074\",\"attributes\":{\"dimension\":1,\"axis\":{\"id\":\"p2070\"}}},{\"type\":\"object\",\"name\":\"Legend\",\"id\":\"p2098\",\"attributes\":{\"location\":\"top_left\",\"items\":[{\"type\":\"object\",\"name\":\"LegendItem\",\"id\":\"p2099\",\"attributes\":{\"label\":{\"type\":\"value\",\"value\":\"Beta\"},\"renderers\":[{\"id\":\"p2095\"}]}},{\"type\":\"object\",\"name\":\"LegendItem\",\"id\":\"p2112\",\"attributes\":{\"label\":{\"type\":\"value\",\"value\":\"GNN\"},\"renderers\":[{\"id\":\"p2109\"}]}}]}}]}}]}};\n",
       "  const render_items = [{\"docid\":\"5896c2d0-f2b1-4a60-b34d-61de2a1d62a0\",\"roots\":{\"p2054\":\"e1edaac2-fded-4b4d-a3a1-f0f5922719f8\"},\"root_ids\":[\"p2054\"]}];\n",
       "  root.Bokeh.embed.embed_items_notebook(docs_json, render_items);\n",
       "  }\n",
       "  if (root.Bokeh !== undefined) {\n",
       "    embed_document(root);\n",
       "  } else {\n",
       "    let attempts = 0;\n",
       "    const timer = setInterval(function(root) {\n",
       "      if (root.Bokeh !== undefined) {\n",
       "        clearInterval(timer);\n",
       "        embed_document(root);\n",
       "      } else {\n",
       "        attempts++;\n",
       "        if (attempts > 100) {\n",
       "          clearInterval(timer);\n",
       "          console.log(\"Bokeh: ERROR: Unable to run BokehJS code because BokehJS library is missing\");\n",
       "        }\n",
       "      }\n",
       "    }, 10, root)\n",
       "  }\n",
       "})(window);"
      ],
      "application/vnd.bokehjs_exec.v0+json": ""
     },
     "metadata": {
      "application/vnd.bokehjs_exec.v0+json": {
       "id": "p2054"
      }
     },
     "output_type": "display_data"
    }
   ],
   "source": [
    "x = \"Number of Edges\"\n",
    "y = \"Runtime (Seconds)\"\n",
    "p = bokeh.plotting.figure(\n",
    "    width=400,\n",
    "    height=300,\n",
    "    x_axis_label=x,\n",
    "    y_axis_label=y,\n",
    ")\n",
    "p.circle(\n",
    "    source=effects[effects['Explainer'] == 'Beta'],\n",
    "    x=x,\n",
    "    y=y,\n",
    "    legend_label=\"Beta\",\n",
    ")\n",
    "p.circle(\n",
    "    source=effects[effects['Explainer'] == 'GNN'],\n",
    "    x=x,\n",
    "    y=y,\n",
    "    legend_label=\"GNN\",\n",
    "    color='orange'\n",
    ")\n",
    "p.legend.location = \"top_left\"\n",
    "bokeh.io.show(p)"
   ]
  },
  {
   "cell_type": "code",
   "execution_count": 31,
   "id": "47cec23a-457d-40c7-a5dc-840f0c2514b6",
   "metadata": {
    "jupyter": {
     "source_hidden": true
    }
   },
   "outputs": [
    {
     "data": {
      "text/html": [
       "\n",
       "  <div id=\"cc2ff989-1a22-4f6a-b5de-6fd29885cdce\" data-root-id=\"p2121\" style=\"display: contents;\"></div>\n"
      ]
     },
     "metadata": {},
     "output_type": "display_data"
    },
    {
     "data": {
      "application/javascript": [
       "(function(root) {\n",
       "  function embed_document(root) {\n",
       "  const docs_json = {\"67a11774-4131-496e-ac2d-9ba7eab35ff1\":{\"version\":\"3.3.4\",\"title\":\"Bokeh Application\",\"roots\":[{\"type\":\"object\",\"name\":\"Figure\",\"id\":\"p2121\",\"attributes\":{\"width\":400,\"height\":300,\"x_range\":{\"type\":\"object\",\"name\":\"DataRange1d\",\"id\":\"p2122\"},\"y_range\":{\"type\":\"object\",\"name\":\"DataRange1d\",\"id\":\"p2123\"},\"x_scale\":{\"type\":\"object\",\"name\":\"LinearScale\",\"id\":\"p2130\"},\"y_scale\":{\"type\":\"object\",\"name\":\"LinearScale\",\"id\":\"p2131\"},\"title\":{\"type\":\"object\",\"name\":\"Title\",\"id\":\"p2128\"},\"renderers\":[{\"type\":\"object\",\"name\":\"GlyphRenderer\",\"id\":\"p2162\",\"attributes\":{\"data_source\":{\"type\":\"object\",\"name\":\"ColumnDataSource\",\"id\":\"p2153\",\"attributes\":{\"selected\":{\"type\":\"object\",\"name\":\"Selection\",\"id\":\"p2154\",\"attributes\":{\"indices\":[],\"line_indices\":[]}},\"selection_policy\":{\"type\":\"object\",\"name\":\"UnionRenderers\",\"id\":\"p2155\"},\"data\":{\"type\":\"map\",\"entries\":[[\"index\",{\"type\":\"ndarray\",\"array\":{\"type\":\"bytes\",\"data\":\"AAAAAAEAAAACAAAAAwAAAAQAAAAFAAAABgAAAAcAAAAIAAAACQAAAAoAAAALAAAADAAAAA0AAAAOAAAADwAAABAAAAARAAAAEgAAABMAAAAUAAAAFQAAABYAAAAXAAAAGAAAABkAAAAaAAAAGwAAABwAAAAdAAAAHgAAAB8AAAAgAAAAIQAAACIAAAAjAAAAJAAAACUAAAAmAAAAJwAAACgAAAApAAAAKgAAACsAAAAsAAAALQAAAC4AAAAvAAAAMAAAADEAAAA=\"},\"shape\":[50],\"dtype\":\"int32\",\"order\":\"little\"}],[\"# Epochs\",{\"type\":\"ndarray\",\"array\":{\"type\":\"bytes\",\"data\":\"MgAAADIAAAAyAAAAMgAAADIAAAAyAAAAMgAAADIAAAAyAAAAMgAAADIAAAAyAAAAMgAAADIAAAAyAAAAMgAAADIAAAAyAAAAMgAAADIAAAAyAAAAMgAAADIAAAAyAAAAMgAAADIAAAAyAAAAMgAAADIAAAAyAAAAMgAAADIAAAAyAAAAMgAAADIAAAAyAAAAMgAAADIAAAAyAAAAMgAAADIAAAAyAAAAMgAAADIAAAAyAAAAMgAAADIAAAAyAAAAMgAAADIAAAA=\"},\"shape\":[50],\"dtype\":\"int32\",\"order\":\"little\"}],[\"GNN Runtime (Seconds)\",{\"type\":\"ndarray\",\"array\":{\"type\":\"bytes\",\"data\":\"AAAAgGJm5T8AAAAA7ebhPwAAAAB9yt8/AAAAAE3z5z8AAACAZf/rPwAAAABE2+w/AAAAACk47D8AAABAcxfwPwAAAAA/fO0/AQAAwNnL8D8AAACArGXqPwAAAIBbnOk/AAAAAB7R6T8AAACAVuPpPwAAAACMZ+k/AAAAAAd/6j8AAAAAkQ3qPwAAAIC0wuk/AAAAgPzy6j8AAAAAU8nqPwAAAIBuKeo/AAAAAJL16j8AAAAA7uPrPwAAAACE/uo/AAAAgKzW6z8AAAAA0KfpPwAAAADndus/AAAAgMan7D8AAACAFyHsPwAAAEAFTPQ/AAAAgKMQ8T8AAAAAxXXyPwAAAMBgN/I/AAAAALSe7j8AAAAAjIPyPwAAAIDlIfI/AAAAwF11BkAAAAAA+MrwPwAAAICHVPI/AAAAANBZ8j8AAACAnjHxPwAAAABAYfE/AAAAALUv8D8AAACAnrD1P////3+3NfA/AAAAgKGj8z8AAAAAQY/yPwAAAAAW2/c/AAAAwBa99D8AAADAaiL1Pw==\"},\"shape\":[50],\"dtype\":\"float64\",\"order\":\"little\"}],[\"Number of Edges\",{\"type\":\"ndarray\",\"array\":{\"type\":\"bytes\",\"data\":\"ZAAAAMgAAAAsAQAAkAEAAPQBAABYAgAAvAIAACADAACEAwAA6AMAAEwEAACwBAAAFAUAAHgFAADcBQAAQAYAAKQGAAAIBwAAbAcAANAHAAA0CAAAmAgAAPwIAABgCQAAxAkAACgKAACMCgAA8AoAAFQLAAC4CwAAHAwAAIAMAADkDAAASA0AAKwNAAAQDgAAdA4AANgOAAA8DwAAoA8AAAQQAABoEAAAzBAAADARAACUEQAA+BEAAFwSAADAEgAAJBMAAIgTAAA=\"},\"shape\":[50],\"dtype\":\"int32\",\"order\":\"little\"}],[\"Beta Runtime (Seconds)\",{\"type\":\"ndarray\",\"array\":{\"type\":\"bytes\",\"data\":\"AAAAkM0QEUAAAAAwF58QQAAAAACmvg9AAAAA4OwREEAAAADAqzwQQAAAABA1BhJAAAAAMMfKEUAAAADgObYSQAAAALAdAxJAAAAAUF1fEkAAAACwKC4SQAAAABB+zRFAAAAAEN+sEkAAAAAw/N0RQAAAAHBZjBJAAAAAgEi3EkAAAAAQ8/4SQAAAAAC2XhJAAAAAgDAtE0AAAACwkVMTQAAAAPC0bRNAAAAAMI+IE0AAAACQf+ATQAAAAAAL2RNAAAAAoOi0E0AAAABQ7e4TQAAAALB74hNAAAAAwBenE0AAAABQctsUQAAAAAD74hVAAQAA4P3XEkAAAABAblEUQAAAADBHcBJAAAAA0JJxE0AAAABgFyUTQAAAAGDhoBNAAQAAQNXrFkAAAABgAsETQAAAAMCSzRJAAAAA4DhmE0AAAADwFnkTQAAAAMDDFBRAAAAAQFe4E0AAAAAgQo0UQAEAAHBeChNAAAAAtC1kMEAAAACAX/wsQAAAAPA7XixAAAAAkKurKED/////7DMyQA==\"},\"shape\":[50],\"dtype\":\"float64\",\"order\":\"little\"}],[\"Difference (Seconds)\",{\"type\":\"ndarray\",\"array\":{\"type\":\"bytes\",\"data\":\"AAAAgALIDEAAAAAgc8QMQAAAAGBWxQtAAAAAgAYnCkAAAAAgfnkJQAAAACCZ1QxAAAAAIISHDEAAAAAgumANQAAAAKArpwxAAAAAwM1YDEAAAABA5sINQAAAAEDlMw1AAAAAoHblDkAAAADAIkMNQAAAAODPvg5AAAAAQM/ODkAAAADggXoPQAAAAOC+TA5AAAAA4KGdD0AAAACgzvQPQAAAACCHKBBAAAAA8NwpEEAAAADQAWQQQAAAAIA6eRBAAAAAEBM6EEAAAABQ87kQQAAAANCecxBAAAAA8B4SEEAAAABgT1cRQAAAALD5zxBAAgAAAKonDUAAAAAA+mcPQAAAAADexAtAAAAAoHg7D0AAAADAaAgNQAAAAADQMA5AAgAAwExiB0AAAADAiBwPQAAAAMDhcAxAAAAAwImfDUAAAACgXlkOQAAAAIDneA9AAAAAANRYD0AAAAAANUIOQAIAACDh+Q1AAAAAOOdTLkAAAABgd6oqQAAAADDZYilAAAAAuAgUJkD///9TxuEwQA==\"},\"shape\":[50],\"dtype\":\"float64\",\"order\":\"little\"}]]}}},\"view\":{\"type\":\"object\",\"name\":\"CDSView\",\"id\":\"p2163\",\"attributes\":{\"filter\":{\"type\":\"object\",\"name\":\"AllIndices\",\"id\":\"p2164\"}}},\"glyph\":{\"type\":\"object\",\"name\":\"Circle\",\"id\":\"p2159\",\"attributes\":{\"x\":{\"type\":\"field\",\"field\":\"Number of Edges\"},\"y\":{\"type\":\"field\",\"field\":\"Difference (Seconds)\"},\"line_color\":{\"type\":\"value\",\"value\":\"#1f77b4\"},\"fill_color\":{\"type\":\"value\",\"value\":\"#1f77b4\"}}},\"nonselection_glyph\":{\"type\":\"object\",\"name\":\"Circle\",\"id\":\"p2160\",\"attributes\":{\"x\":{\"type\":\"field\",\"field\":\"Number of Edges\"},\"y\":{\"type\":\"field\",\"field\":\"Difference (Seconds)\"},\"line_color\":{\"type\":\"value\",\"value\":\"#1f77b4\"},\"line_alpha\":{\"type\":\"value\",\"value\":0.1},\"fill_color\":{\"type\":\"value\",\"value\":\"#1f77b4\"},\"fill_alpha\":{\"type\":\"value\",\"value\":0.1},\"hatch_alpha\":{\"type\":\"value\",\"value\":0.1}}},\"muted_glyph\":{\"type\":\"object\",\"name\":\"Circle\",\"id\":\"p2161\",\"attributes\":{\"x\":{\"type\":\"field\",\"field\":\"Number of Edges\"},\"y\":{\"type\":\"field\",\"field\":\"Difference (Seconds)\"},\"line_color\":{\"type\":\"value\",\"value\":\"#1f77b4\"},\"line_alpha\":{\"type\":\"value\",\"value\":0.2},\"fill_color\":{\"type\":\"value\",\"value\":\"#1f77b4\"},\"fill_alpha\":{\"type\":\"value\",\"value\":0.2},\"hatch_alpha\":{\"type\":\"value\",\"value\":0.2}}}}}],\"toolbar\":{\"type\":\"object\",\"name\":\"Toolbar\",\"id\":\"p2129\",\"attributes\":{\"tools\":[{\"type\":\"object\",\"name\":\"PanTool\",\"id\":\"p2142\"},{\"type\":\"object\",\"name\":\"WheelZoomTool\",\"id\":\"p2143\",\"attributes\":{\"renderers\":\"auto\"}},{\"type\":\"object\",\"name\":\"BoxZoomTool\",\"id\":\"p2144\",\"attributes\":{\"overlay\":{\"type\":\"object\",\"name\":\"BoxAnnotation\",\"id\":\"p2145\",\"attributes\":{\"syncable\":false,\"level\":\"overlay\",\"visible\":false,\"left\":{\"type\":\"number\",\"value\":\"nan\"},\"right\":{\"type\":\"number\",\"value\":\"nan\"},\"top\":{\"type\":\"number\",\"value\":\"nan\"},\"bottom\":{\"type\":\"number\",\"value\":\"nan\"},\"left_units\":\"canvas\",\"right_units\":\"canvas\",\"top_units\":\"canvas\",\"bottom_units\":\"canvas\",\"line_color\":\"black\",\"line_alpha\":1.0,\"line_width\":2,\"line_dash\":[4,4],\"fill_color\":\"lightgrey\",\"fill_alpha\":0.5}}}},{\"type\":\"object\",\"name\":\"SaveTool\",\"id\":\"p2150\"},{\"type\":\"object\",\"name\":\"ResetTool\",\"id\":\"p2151\"},{\"type\":\"object\",\"name\":\"HelpTool\",\"id\":\"p2152\"}]}},\"left\":[{\"type\":\"object\",\"name\":\"LinearAxis\",\"id\":\"p2137\",\"attributes\":{\"ticker\":{\"type\":\"object\",\"name\":\"BasicTicker\",\"id\":\"p2138\",\"attributes\":{\"mantissas\":[1,2,5]}},\"formatter\":{\"type\":\"object\",\"name\":\"BasicTickFormatter\",\"id\":\"p2139\"},\"axis_label\":\"Difference (Seconds)\",\"major_label_policy\":{\"type\":\"object\",\"name\":\"AllLabels\",\"id\":\"p2140\"}}}],\"below\":[{\"type\":\"object\",\"name\":\"LinearAxis\",\"id\":\"p2132\",\"attributes\":{\"ticker\":{\"type\":\"object\",\"name\":\"BasicTicker\",\"id\":\"p2133\",\"attributes\":{\"mantissas\":[1,2,5]}},\"formatter\":{\"type\":\"object\",\"name\":\"BasicTickFormatter\",\"id\":\"p2134\"},\"axis_label\":\"Number of Edges\",\"major_label_policy\":{\"type\":\"object\",\"name\":\"AllLabels\",\"id\":\"p2135\"}}}],\"center\":[{\"type\":\"object\",\"name\":\"Grid\",\"id\":\"p2136\",\"attributes\":{\"axis\":{\"id\":\"p2132\"}}},{\"type\":\"object\",\"name\":\"Grid\",\"id\":\"p2141\",\"attributes\":{\"dimension\":1,\"axis\":{\"id\":\"p2137\"}}}]}}]}};\n",
       "  const render_items = [{\"docid\":\"67a11774-4131-496e-ac2d-9ba7eab35ff1\",\"roots\":{\"p2121\":\"cc2ff989-1a22-4f6a-b5de-6fd29885cdce\"},\"root_ids\":[\"p2121\"]}];\n",
       "  root.Bokeh.embed.embed_items_notebook(docs_json, render_items);\n",
       "  }\n",
       "  if (root.Bokeh !== undefined) {\n",
       "    embed_document(root);\n",
       "  } else {\n",
       "    let attempts = 0;\n",
       "    const timer = setInterval(function(root) {\n",
       "      if (root.Bokeh !== undefined) {\n",
       "        clearInterval(timer);\n",
       "        embed_document(root);\n",
       "      } else {\n",
       "        attempts++;\n",
       "        if (attempts > 100) {\n",
       "          clearInterval(timer);\n",
       "          console.log(\"Bokeh: ERROR: Unable to run BokehJS code because BokehJS library is missing\");\n",
       "        }\n",
       "      }\n",
       "    }, 10, root)\n",
       "  }\n",
       "})(window);"
      ],
      "application/vnd.bokehjs_exec.v0+json": ""
     },
     "metadata": {
      "application/vnd.bokehjs_exec.v0+json": {
       "id": "p2121"
      }
     },
     "output_type": "display_data"
    }
   ],
   "source": [
    "x = \"Number of Edges\"\n",
    "y = \"Difference (Seconds)\"\n",
    "p = bokeh.plotting.figure(\n",
    "    width=400,\n",
    "    height=300,\n",
    "    x_axis_label=x,\n",
    "    y_axis_label=y,\n",
    ")\n",
    "p.circle(\n",
    "    source=diff,\n",
    "    x=x,\n",
    "    y=y,\n",
    ")\n",
    "bokeh.io.show(p)"
   ]
  },
  {
   "cell_type": "code",
   "execution_count": 32,
   "id": "8d0c3567-044d-4870-823b-a18528418a89",
   "metadata": {},
   "outputs": [],
   "source": [
    "effects = pd.read_csv('moreinformGraphRuntimes.csv')\n",
    "effects = effects.drop(['Average Runtime', 'Unnamed: 0', 'Data'], axis=1)\n",
    "effects = effects.rename({'# Edges': 'Number of Edges', 'Full Runtime': 'Runtime (Seconds)'}, axis=1)\n",
    "gnn = effects[effects['Explainer'] == 'GNN']\n",
    "gnn = gnn.rename({'Runtime (Seconds)': 'GNN Runtime (Seconds)'}, axis=1)\n",
    "gnn = gnn.drop(['Explainer'], axis=1)\n",
    "beta = effects[effects['Explainer'] == 'Beta']\n",
    "beta = beta.rename({'Runtime (Seconds)': 'Beta Runtime (Seconds)'}, axis=1)\n",
    "beta = beta.drop(['Explainer'], axis=1)\n",
    "diff = pd.merge(gnn, beta, how=\"right\", on=[\"# Epochs\",'Number of Edges'])\n",
    "diff['Difference (Seconds)'] = diff['Beta Runtime (Seconds)'] - diff['GNN Runtime (Seconds)']"
   ]
  },
  {
   "cell_type": "code",
   "execution_count": 33,
   "id": "4aa7f300-0169-4575-ae24-623f47fe9fc7",
   "metadata": {
    "jupyter": {
     "source_hidden": true
    }
   },
   "outputs": [
    {
     "data": {
      "text/html": [
       "\n",
       "  <div id=\"e7dc1f74-5957-4e58-a753-1d55372adaa1\" data-root-id=\"p2171\" style=\"display: contents;\"></div>\n"
      ]
     },
     "metadata": {},
     "output_type": "display_data"
    },
    {
     "data": {
      "application/javascript": [
       "(function(root) {\n",
       "  function embed_document(root) {\n",
       "  const docs_json = {\"834a0bb6-68e9-42a4-9390-d2fd957c09bf\":{\"version\":\"3.3.4\",\"title\":\"Bokeh Application\",\"roots\":[{\"type\":\"object\",\"name\":\"Figure\",\"id\":\"p2171\",\"attributes\":{\"width\":400,\"height\":300,\"x_range\":{\"type\":\"object\",\"name\":\"DataRange1d\",\"id\":\"p2172\"},\"y_range\":{\"type\":\"object\",\"name\":\"DataRange1d\",\"id\":\"p2173\"},\"x_scale\":{\"type\":\"object\",\"name\":\"LinearScale\",\"id\":\"p2180\"},\"y_scale\":{\"type\":\"object\",\"name\":\"LinearScale\",\"id\":\"p2181\"},\"title\":{\"type\":\"object\",\"name\":\"Title\",\"id\":\"p2178\"},\"renderers\":[{\"type\":\"object\",\"name\":\"GlyphRenderer\",\"id\":\"p2212\",\"attributes\":{\"data_source\":{\"type\":\"object\",\"name\":\"ColumnDataSource\",\"id\":\"p2203\",\"attributes\":{\"selected\":{\"type\":\"object\",\"name\":\"Selection\",\"id\":\"p2204\",\"attributes\":{\"indices\":[],\"line_indices\":[]}},\"selection_policy\":{\"type\":\"object\",\"name\":\"UnionRenderers\",\"id\":\"p2205\"},\"data\":{\"type\":\"map\",\"entries\":[[\"index\",{\"type\":\"ndarray\",\"array\":{\"type\":\"bytes\",\"data\":\"AAAAAAIAAAAEAAAABgAAAAgAAAAKAAAADAAAAA4AAAAQAAAAEgAAABQAAAAWAAAAGAAAABoAAAAcAAAAHgAAACAAAAAiAAAAJAAAACYAAAAoAAAAKgAAACwAAAAuAAAAMAAAADIAAAA0AAAANgAAADgAAAA6AAAAPAAAAD4AAABAAAAAQgAAAEQAAABGAAAASAAAAEoAAABMAAAATgAAAFAAAABSAAAAVAAAAFYAAABYAAAAWgAAAFwAAABeAAAAYAAAAGIAAAA=\"},\"shape\":[50],\"dtype\":\"int32\",\"order\":\"little\"}],[\"Explainer\",{\"type\":\"ndarray\",\"array\":[\"Beta\",\"Beta\",\"Beta\",\"Beta\",\"Beta\",\"Beta\",\"Beta\",\"Beta\",\"Beta\",\"Beta\",\"Beta\",\"Beta\",\"Beta\",\"Beta\",\"Beta\",\"Beta\",\"Beta\",\"Beta\",\"Beta\",\"Beta\",\"Beta\",\"Beta\",\"Beta\",\"Beta\",\"Beta\",\"Beta\",\"Beta\",\"Beta\",\"Beta\",\"Beta\",\"Beta\",\"Beta\",\"Beta\",\"Beta\",\"Beta\",\"Beta\",\"Beta\",\"Beta\",\"Beta\",\"Beta\",\"Beta\",\"Beta\",\"Beta\",\"Beta\",\"Beta\",\"Beta\",\"Beta\",\"Beta\",\"Beta\",\"Beta\"],\"shape\":[50],\"dtype\":\"object\",\"order\":\"little\"}],[\"# Epochs\",{\"type\":\"ndarray\",\"array\":{\"type\":\"bytes\",\"data\":\"MgAAADIAAAAyAAAAMgAAADIAAAAyAAAAMgAAADIAAAAyAAAAMgAAADIAAAAyAAAAMgAAADIAAAAyAAAAMgAAADIAAAAyAAAAMgAAADIAAAAyAAAAMgAAADIAAAAyAAAAMgAAADIAAAAyAAAAMgAAADIAAAAyAAAAMgAAADIAAAAyAAAAMgAAADIAAAAyAAAAMgAAADIAAAAyAAAAMgAAADIAAAAyAAAAMgAAADIAAAAyAAAAMgAAADIAAAAyAAAAMgAAADIAAAA=\"},\"shape\":[50],\"dtype\":\"int32\",\"order\":\"little\"}],[\"Runtime (Seconds)\",{\"type\":\"ndarray\",\"array\":{\"type\":\"bytes\",\"data\":\"AAAAIFA5DUAAAABgXQUOQAEAACAZ6wxAAAAAMGlaEEAAAABASNANQAAAAHCcrhBAAAAAEDNcEEAAAADA8E8OQAAAAMBwJhFAAAAA0L2XEEAAAADARocQQAAAACB2IA9AAAAAwAQsEEAAAABwPgIRQAAAAICneRJAAAAAwN2bEkAAAACgxpsQQAAAAJAmJhNAAAAAAA7vEEAAAACwXecRQAAAAGD7rhJAAAAAQPRBEUAAAAAgYcMRQAAAAKCntRFAAAAA8L+kEUAAAABw5PYSQAAAAJDUpxNAAAAAoMnaEUABAACQkZ8SQAAAAJAi7RJAAAAAYAAEEkAAAABwNrgTQAAAAACCvhBAAAAA0KJFEUABAABgAzQSQAAAABDVkxJAAAAAYELDEUAAAABw8ZYRQAAAAKAkoRRAAAAA0DrCEkAAAADARfYTQAAAAMD8bRNAAAAAAH4QFEAAAACwJJUUQAAAAMBsrxJAAAAAYMIkEkAAAADgwL8RQAAAAHBFqxNAAAAAkNY2E0AAAACgye8SQA==\"},\"shape\":[50],\"dtype\":\"float64\",\"order\":\"little\"}],[\"Number of Edges\",{\"type\":\"ndarray\",\"array\":{\"type\":\"bytes\",\"data\":\"ZAAAAMgAAAAsAQAAkAEAAPQBAABYAgAAvAIAACADAACEAwAA6AMAAEwEAACwBAAAFAUAAHgFAADcBQAAQAYAAKQGAAAIBwAAbAcAANAHAAA0CAAAmAgAAPwIAABgCQAAxAkAACgKAACMCgAA8AoAAFQLAAC4CwAAHAwAAIAMAADkDAAASA0AAKwNAAAQDgAAdA4AANgOAAA8DwAAoA8AAAQQAABoEAAAzBAAADARAACUEQAA+BEAAFwSAADAEgAAJBMAAIgTAAA=\"},\"shape\":[50],\"dtype\":\"int32\",\"order\":\"little\"}]]}}},\"view\":{\"type\":\"object\",\"name\":\"CDSView\",\"id\":\"p2213\",\"attributes\":{\"filter\":{\"type\":\"object\",\"name\":\"AllIndices\",\"id\":\"p2214\"}}},\"glyph\":{\"type\":\"object\",\"name\":\"Circle\",\"id\":\"p2209\",\"attributes\":{\"x\":{\"type\":\"field\",\"field\":\"Number of Edges\"},\"y\":{\"type\":\"field\",\"field\":\"Runtime (Seconds)\"},\"line_color\":{\"type\":\"value\",\"value\":\"#1f77b4\"},\"fill_color\":{\"type\":\"value\",\"value\":\"#1f77b4\"}}},\"nonselection_glyph\":{\"type\":\"object\",\"name\":\"Circle\",\"id\":\"p2210\",\"attributes\":{\"x\":{\"type\":\"field\",\"field\":\"Number of Edges\"},\"y\":{\"type\":\"field\",\"field\":\"Runtime (Seconds)\"},\"line_color\":{\"type\":\"value\",\"value\":\"#1f77b4\"},\"line_alpha\":{\"type\":\"value\",\"value\":0.1},\"fill_color\":{\"type\":\"value\",\"value\":\"#1f77b4\"},\"fill_alpha\":{\"type\":\"value\",\"value\":0.1},\"hatch_alpha\":{\"type\":\"value\",\"value\":0.1}}},\"muted_glyph\":{\"type\":\"object\",\"name\":\"Circle\",\"id\":\"p2211\",\"attributes\":{\"x\":{\"type\":\"field\",\"field\":\"Number of Edges\"},\"y\":{\"type\":\"field\",\"field\":\"Runtime (Seconds)\"},\"line_color\":{\"type\":\"value\",\"value\":\"#1f77b4\"},\"line_alpha\":{\"type\":\"value\",\"value\":0.2},\"fill_color\":{\"type\":\"value\",\"value\":\"#1f77b4\"},\"fill_alpha\":{\"type\":\"value\",\"value\":0.2},\"hatch_alpha\":{\"type\":\"value\",\"value\":0.2}}}}},{\"type\":\"object\",\"name\":\"GlyphRenderer\",\"id\":\"p2226\",\"attributes\":{\"data_source\":{\"type\":\"object\",\"name\":\"ColumnDataSource\",\"id\":\"p2217\",\"attributes\":{\"selected\":{\"type\":\"object\",\"name\":\"Selection\",\"id\":\"p2218\",\"attributes\":{\"indices\":[],\"line_indices\":[]}},\"selection_policy\":{\"type\":\"object\",\"name\":\"UnionRenderers\",\"id\":\"p2219\"},\"data\":{\"type\":\"map\",\"entries\":[[\"index\",{\"type\":\"ndarray\",\"array\":{\"type\":\"bytes\",\"data\":\"AQAAAAMAAAAFAAAABwAAAAkAAAALAAAADQAAAA8AAAARAAAAEwAAABUAAAAXAAAAGQAAABsAAAAdAAAAHwAAACEAAAAjAAAAJQAAACcAAAApAAAAKwAAAC0AAAAvAAAAMQAAADMAAAA1AAAANwAAADkAAAA7AAAAPQAAAD8AAABBAAAAQwAAAEUAAABHAAAASQAAAEsAAABNAAAATwAAAFEAAABTAAAAVQAAAFcAAABZAAAAWwAAAF0AAABfAAAAYQAAAGMAAAA=\"},\"shape\":[50],\"dtype\":\"int32\",\"order\":\"little\"}],[\"Explainer\",{\"type\":\"ndarray\",\"array\":[\"GNN\",\"GNN\",\"GNN\",\"GNN\",\"GNN\",\"GNN\",\"GNN\",\"GNN\",\"GNN\",\"GNN\",\"GNN\",\"GNN\",\"GNN\",\"GNN\",\"GNN\",\"GNN\",\"GNN\",\"GNN\",\"GNN\",\"GNN\",\"GNN\",\"GNN\",\"GNN\",\"GNN\",\"GNN\",\"GNN\",\"GNN\",\"GNN\",\"GNN\",\"GNN\",\"GNN\",\"GNN\",\"GNN\",\"GNN\",\"GNN\",\"GNN\",\"GNN\",\"GNN\",\"GNN\",\"GNN\",\"GNN\",\"GNN\",\"GNN\",\"GNN\",\"GNN\",\"GNN\",\"GNN\",\"GNN\",\"GNN\",\"GNN\"],\"shape\":[50],\"dtype\":\"object\",\"order\":\"little\"}],[\"# Epochs\",{\"type\":\"ndarray\",\"array\":{\"type\":\"bytes\",\"data\":\"MgAAADIAAAAyAAAAMgAAADIAAAAyAAAAMgAAADIAAAAyAAAAMgAAADIAAAAyAAAAMgAAADIAAAAyAAAAMgAAADIAAAAyAAAAMgAAADIAAAAyAAAAMgAAADIAAAAyAAAAMgAAADIAAAAyAAAAMgAAADIAAAAyAAAAMgAAADIAAAAyAAAAMgAAADIAAAAyAAAAMgAAADIAAAAyAAAAMgAAADIAAAAyAAAAMgAAADIAAAAyAAAAMgAAADIAAAAyAAAAMgAAADIAAAA=\"},\"shape\":[50],\"dtype\":\"int32\",\"order\":\"little\"}],[\"Runtime (Seconds)\",{\"type\":\"ndarray\",\"array\":{\"type\":\"bytes\",\"data\":\"AAAAgACg5D8AAAAA5tbnPwAAAIBl0Oc/AAAAAFh54D8AAAAAMgbmPwAAAICYc+g/AAAAgLre5z8AAAAAD4zoPwAAAID6XOo/AAAAgND+7z8AAAAAJg3oPwAAAIBWoeU/AAAAAI1P5D8AAACAlJzkPwAAAICCoOw/AAAAgDHt7D8AAACA28jpPwAAAABya+w/AAAAgHd+5T8AAACAqdjlPwAAAIA46uk/AAAAgNkQ5z8AAAAAE3/lPwAAAIDyHOs/AAAAgJgS5j8AAACAJA3mP/////8b9+w/AAAAgCId5T8AAAAAZHXoPwAAAIDuLOY/AAAAgE7O7j8AAAAACX/pPwAAAABzNOU/AAAAAIhw5j8AAAAArkjnPwAAAADZpec/AAAAgJJG5j8AAACA71jmPwAAAICsRPM/AAAAgJF/6D8AAACAE6fmPwAAAID8Xug/AAAAgEk55z8AAAAAxiDpPwAAAIDfsOU/AAAAgNmR5j8AAACAHornPwAAAACcOuw/AAAAAE/i5z8AAACAFujpPw==\"},\"shape\":[50],\"dtype\":\"float64\",\"order\":\"little\"}],[\"Number of Edges\",{\"type\":\"ndarray\",\"array\":{\"type\":\"bytes\",\"data\":\"ZAAAAMgAAAAsAQAAkAEAAPQBAABYAgAAvAIAACADAACEAwAA6AMAAEwEAACwBAAAFAUAAHgFAADcBQAAQAYAAKQGAAAIBwAAbAcAANAHAAA0CAAAmAgAAPwIAABgCQAAxAkAACgKAACMCgAA8AoAAFQLAAC4CwAAHAwAAIAMAADkDAAASA0AAKwNAAAQDgAAdA4AANgOAAA8DwAAoA8AAAQQAABoEAAAzBAAADARAACUEQAA+BEAAFwSAADAEgAAJBMAAIgTAAA=\"},\"shape\":[50],\"dtype\":\"int32\",\"order\":\"little\"}]]}}},\"view\":{\"type\":\"object\",\"name\":\"CDSView\",\"id\":\"p2227\",\"attributes\":{\"filter\":{\"type\":\"object\",\"name\":\"AllIndices\",\"id\":\"p2228\"}}},\"glyph\":{\"type\":\"object\",\"name\":\"Circle\",\"id\":\"p2223\",\"attributes\":{\"x\":{\"type\":\"field\",\"field\":\"Number of Edges\"},\"y\":{\"type\":\"field\",\"field\":\"Runtime (Seconds)\"},\"line_color\":{\"type\":\"value\",\"value\":\"orange\"},\"fill_color\":{\"type\":\"value\",\"value\":\"orange\"},\"hatch_color\":{\"type\":\"value\",\"value\":\"orange\"}}},\"nonselection_glyph\":{\"type\":\"object\",\"name\":\"Circle\",\"id\":\"p2224\",\"attributes\":{\"x\":{\"type\":\"field\",\"field\":\"Number of Edges\"},\"y\":{\"type\":\"field\",\"field\":\"Runtime (Seconds)\"},\"line_color\":{\"type\":\"value\",\"value\":\"orange\"},\"line_alpha\":{\"type\":\"value\",\"value\":0.1},\"fill_color\":{\"type\":\"value\",\"value\":\"orange\"},\"fill_alpha\":{\"type\":\"value\",\"value\":0.1},\"hatch_color\":{\"type\":\"value\",\"value\":\"orange\"},\"hatch_alpha\":{\"type\":\"value\",\"value\":0.1}}},\"muted_glyph\":{\"type\":\"object\",\"name\":\"Circle\",\"id\":\"p2225\",\"attributes\":{\"x\":{\"type\":\"field\",\"field\":\"Number of Edges\"},\"y\":{\"type\":\"field\",\"field\":\"Runtime (Seconds)\"},\"line_color\":{\"type\":\"value\",\"value\":\"orange\"},\"line_alpha\":{\"type\":\"value\",\"value\":0.2},\"fill_color\":{\"type\":\"value\",\"value\":\"orange\"},\"fill_alpha\":{\"type\":\"value\",\"value\":0.2},\"hatch_color\":{\"type\":\"value\",\"value\":\"orange\"},\"hatch_alpha\":{\"type\":\"value\",\"value\":0.2}}}}}],\"toolbar\":{\"type\":\"object\",\"name\":\"Toolbar\",\"id\":\"p2179\",\"attributes\":{\"tools\":[{\"type\":\"object\",\"name\":\"PanTool\",\"id\":\"p2192\"},{\"type\":\"object\",\"name\":\"WheelZoomTool\",\"id\":\"p2193\",\"attributes\":{\"renderers\":\"auto\"}},{\"type\":\"object\",\"name\":\"BoxZoomTool\",\"id\":\"p2194\",\"attributes\":{\"overlay\":{\"type\":\"object\",\"name\":\"BoxAnnotation\",\"id\":\"p2195\",\"attributes\":{\"syncable\":false,\"level\":\"overlay\",\"visible\":false,\"left\":{\"type\":\"number\",\"value\":\"nan\"},\"right\":{\"type\":\"number\",\"value\":\"nan\"},\"top\":{\"type\":\"number\",\"value\":\"nan\"},\"bottom\":{\"type\":\"number\",\"value\":\"nan\"},\"left_units\":\"canvas\",\"right_units\":\"canvas\",\"top_units\":\"canvas\",\"bottom_units\":\"canvas\",\"line_color\":\"black\",\"line_alpha\":1.0,\"line_width\":2,\"line_dash\":[4,4],\"fill_color\":\"lightgrey\",\"fill_alpha\":0.5}}}},{\"type\":\"object\",\"name\":\"SaveTool\",\"id\":\"p2200\"},{\"type\":\"object\",\"name\":\"ResetTool\",\"id\":\"p2201\"},{\"type\":\"object\",\"name\":\"HelpTool\",\"id\":\"p2202\"}]}},\"left\":[{\"type\":\"object\",\"name\":\"LinearAxis\",\"id\":\"p2187\",\"attributes\":{\"ticker\":{\"type\":\"object\",\"name\":\"BasicTicker\",\"id\":\"p2188\",\"attributes\":{\"mantissas\":[1,2,5]}},\"formatter\":{\"type\":\"object\",\"name\":\"BasicTickFormatter\",\"id\":\"p2189\"},\"axis_label\":\"Runtime (Seconds)\",\"major_label_policy\":{\"type\":\"object\",\"name\":\"AllLabels\",\"id\":\"p2190\"}}}],\"below\":[{\"type\":\"object\",\"name\":\"LinearAxis\",\"id\":\"p2182\",\"attributes\":{\"ticker\":{\"type\":\"object\",\"name\":\"BasicTicker\",\"id\":\"p2183\",\"attributes\":{\"mantissas\":[1,2,5]}},\"formatter\":{\"type\":\"object\",\"name\":\"BasicTickFormatter\",\"id\":\"p2184\"},\"axis_label\":\"Number of Edges\",\"major_label_policy\":{\"type\":\"object\",\"name\":\"AllLabels\",\"id\":\"p2185\"}}}],\"center\":[{\"type\":\"object\",\"name\":\"Grid\",\"id\":\"p2186\",\"attributes\":{\"axis\":{\"id\":\"p2182\"}}},{\"type\":\"object\",\"name\":\"Grid\",\"id\":\"p2191\",\"attributes\":{\"dimension\":1,\"axis\":{\"id\":\"p2187\"}}},{\"type\":\"object\",\"name\":\"Legend\",\"id\":\"p2215\",\"attributes\":{\"location\":\"top_left\",\"items\":[{\"type\":\"object\",\"name\":\"LegendItem\",\"id\":\"p2216\",\"attributes\":{\"label\":{\"type\":\"value\",\"value\":\"Beta\"},\"renderers\":[{\"id\":\"p2212\"}]}},{\"type\":\"object\",\"name\":\"LegendItem\",\"id\":\"p2229\",\"attributes\":{\"label\":{\"type\":\"value\",\"value\":\"GNN\"},\"renderers\":[{\"id\":\"p2226\"}]}}]}}]}}]}};\n",
       "  const render_items = [{\"docid\":\"834a0bb6-68e9-42a4-9390-d2fd957c09bf\",\"roots\":{\"p2171\":\"e7dc1f74-5957-4e58-a753-1d55372adaa1\"},\"root_ids\":[\"p2171\"]}];\n",
       "  root.Bokeh.embed.embed_items_notebook(docs_json, render_items);\n",
       "  }\n",
       "  if (root.Bokeh !== undefined) {\n",
       "    embed_document(root);\n",
       "  } else {\n",
       "    let attempts = 0;\n",
       "    const timer = setInterval(function(root) {\n",
       "      if (root.Bokeh !== undefined) {\n",
       "        clearInterval(timer);\n",
       "        embed_document(root);\n",
       "      } else {\n",
       "        attempts++;\n",
       "        if (attempts > 100) {\n",
       "          clearInterval(timer);\n",
       "          console.log(\"Bokeh: ERROR: Unable to run BokehJS code because BokehJS library is missing\");\n",
       "        }\n",
       "      }\n",
       "    }, 10, root)\n",
       "  }\n",
       "})(window);"
      ],
      "application/vnd.bokehjs_exec.v0+json": ""
     },
     "metadata": {
      "application/vnd.bokehjs_exec.v0+json": {
       "id": "p2171"
      }
     },
     "output_type": "display_data"
    }
   ],
   "source": [
    "x = \"Number of Edges\"\n",
    "y = \"Runtime (Seconds)\"\n",
    "p = bokeh.plotting.figure(\n",
    "    width=400,\n",
    "    height=300,\n",
    "    x_axis_label=x,\n",
    "    y_axis_label=y,\n",
    ")\n",
    "p.circle(\n",
    "    source=effects[effects['Explainer'] == 'Beta'],\n",
    "    x=x,\n",
    "    y=y,\n",
    "    legend_label=\"Beta\",\n",
    ")\n",
    "p.circle(\n",
    "    source=effects[effects['Explainer'] == 'GNN'],\n",
    "    x=x,\n",
    "    y=y,\n",
    "    legend_label=\"GNN\",\n",
    "    color='orange'\n",
    ")\n",
    "p.legend.location = \"top_left\"\n",
    "bokeh.io.show(p)"
   ]
  },
  {
   "cell_type": "code",
   "execution_count": 34,
   "id": "ac59d7bb-f4e3-4af9-a319-90c8adababef",
   "metadata": {
    "jupyter": {
     "source_hidden": true
    }
   },
   "outputs": [
    {
     "data": {
      "text/html": [
       "\n",
       "  <div id=\"a3de7e52-4341-4068-b893-90bbfc740ed3\" data-root-id=\"p2238\" style=\"display: contents;\"></div>\n"
      ]
     },
     "metadata": {},
     "output_type": "display_data"
    },
    {
     "data": {
      "application/javascript": [
       "(function(root) {\n",
       "  function embed_document(root) {\n",
       "  const docs_json = {\"1075d790-6ab7-4b93-a16a-0129e564182e\":{\"version\":\"3.3.4\",\"title\":\"Bokeh Application\",\"roots\":[{\"type\":\"object\",\"name\":\"Figure\",\"id\":\"p2238\",\"attributes\":{\"width\":400,\"height\":300,\"x_range\":{\"type\":\"object\",\"name\":\"DataRange1d\",\"id\":\"p2239\"},\"y_range\":{\"type\":\"object\",\"name\":\"DataRange1d\",\"id\":\"p2240\"},\"x_scale\":{\"type\":\"object\",\"name\":\"LinearScale\",\"id\":\"p2247\"},\"y_scale\":{\"type\":\"object\",\"name\":\"LinearScale\",\"id\":\"p2248\"},\"title\":{\"type\":\"object\",\"name\":\"Title\",\"id\":\"p2245\"},\"renderers\":[{\"type\":\"object\",\"name\":\"GlyphRenderer\",\"id\":\"p2279\",\"attributes\":{\"data_source\":{\"type\":\"object\",\"name\":\"ColumnDataSource\",\"id\":\"p2270\",\"attributes\":{\"selected\":{\"type\":\"object\",\"name\":\"Selection\",\"id\":\"p2271\",\"attributes\":{\"indices\":[],\"line_indices\":[]}},\"selection_policy\":{\"type\":\"object\",\"name\":\"UnionRenderers\",\"id\":\"p2272\"},\"data\":{\"type\":\"map\",\"entries\":[[\"index\",{\"type\":\"ndarray\",\"array\":{\"type\":\"bytes\",\"data\":\"AAAAAAEAAAACAAAAAwAAAAQAAAAFAAAABgAAAAcAAAAIAAAACQAAAAoAAAALAAAADAAAAA0AAAAOAAAADwAAABAAAAARAAAAEgAAABMAAAAUAAAAFQAAABYAAAAXAAAAGAAAABkAAAAaAAAAGwAAABwAAAAdAAAAHgAAAB8AAAAgAAAAIQAAACIAAAAjAAAAJAAAACUAAAAmAAAAJwAAACgAAAApAAAAKgAAACsAAAAsAAAALQAAAC4AAAAvAAAAMAAAADEAAAA=\"},\"shape\":[50],\"dtype\":\"int32\",\"order\":\"little\"}],[\"# Epochs\",{\"type\":\"ndarray\",\"array\":{\"type\":\"bytes\",\"data\":\"MgAAADIAAAAyAAAAMgAAADIAAAAyAAAAMgAAADIAAAAyAAAAMgAAADIAAAAyAAAAMgAAADIAAAAyAAAAMgAAADIAAAAyAAAAMgAAADIAAAAyAAAAMgAAADIAAAAyAAAAMgAAADIAAAAyAAAAMgAAADIAAAAyAAAAMgAAADIAAAAyAAAAMgAAADIAAAAyAAAAMgAAADIAAAAyAAAAMgAAADIAAAAyAAAAMgAAADIAAAAyAAAAMgAAADIAAAAyAAAAMgAAADIAAAA=\"},\"shape\":[50],\"dtype\":\"int32\",\"order\":\"little\"}],[\"GNN Runtime (Seconds)\",{\"type\":\"ndarray\",\"array\":{\"type\":\"bytes\",\"data\":\"AAAAgACg5D8AAAAA5tbnPwAAAIBl0Oc/AAAAAFh54D8AAAAAMgbmPwAAAICYc+g/AAAAgLre5z8AAAAAD4zoPwAAAID6XOo/AAAAgND+7z8AAAAAJg3oPwAAAIBWoeU/AAAAAI1P5D8AAACAlJzkPwAAAICCoOw/AAAAgDHt7D8AAACA28jpPwAAAABya+w/AAAAgHd+5T8AAACAqdjlPwAAAIA46uk/AAAAgNkQ5z8AAAAAE3/lPwAAAIDyHOs/AAAAgJgS5j8AAACAJA3mP/////8b9+w/AAAAgCId5T8AAAAAZHXoPwAAAIDuLOY/AAAAgE7O7j8AAAAACX/pPwAAAABzNOU/AAAAAIhw5j8AAAAArkjnPwAAAADZpec/AAAAgJJG5j8AAACA71jmPwAAAICsRPM/AAAAgJF/6D8AAACAE6fmPwAAAID8Xug/AAAAgEk55z8AAAAAxiDpPwAAAIDfsOU/AAAAgNmR5j8AAACAHornPwAAAACcOuw/AAAAAE/i5z8AAACAFujpPw==\"},\"shape\":[50],\"dtype\":\"float64\",\"order\":\"little\"}],[\"Number of Edges\",{\"type\":\"ndarray\",\"array\":{\"type\":\"bytes\",\"data\":\"ZAAAAMgAAAAsAQAAkAEAAPQBAABYAgAAvAIAACADAACEAwAA6AMAAEwEAACwBAAAFAUAAHgFAADcBQAAQAYAAKQGAAAIBwAAbAcAANAHAAA0CAAAmAgAAPwIAABgCQAAxAkAACgKAACMCgAA8AoAAFQLAAC4CwAAHAwAAIAMAADkDAAASA0AAKwNAAAQDgAAdA4AANgOAAA8DwAAoA8AAAQQAABoEAAAzBAAADARAACUEQAA+BEAAFwSAADAEgAAJBMAAIgTAAA=\"},\"shape\":[50],\"dtype\":\"int32\",\"order\":\"little\"}],[\"Beta Runtime (Seconds)\",{\"type\":\"ndarray\",\"array\":{\"type\":\"bytes\",\"data\":\"AAAAIFA5DUAAAABgXQUOQAEAACAZ6wxAAAAAMGlaEEAAAABASNANQAAAAHCcrhBAAAAAEDNcEEAAAADA8E8OQAAAAMBwJhFAAAAA0L2XEEAAAADARocQQAAAACB2IA9AAAAAwAQsEEAAAABwPgIRQAAAAICneRJAAAAAwN2bEkAAAACgxpsQQAAAAJAmJhNAAAAAAA7vEEAAAACwXecRQAAAAGD7rhJAAAAAQPRBEUAAAAAgYcMRQAAAAKCntRFAAAAA8L+kEUAAAABw5PYSQAAAAJDUpxNAAAAAoMnaEUABAACQkZ8SQAAAAJAi7RJAAAAAYAAEEkAAAABwNrgTQAAAAACCvhBAAAAA0KJFEUABAABgAzQSQAAAABDVkxJAAAAAYELDEUAAAABw8ZYRQAAAAKAkoRRAAAAA0DrCEkAAAADARfYTQAAAAMD8bRNAAAAAAH4QFEAAAACwJJUUQAAAAMBsrxJAAAAAYMIkEkAAAADgwL8RQAAAAHBFqxNAAAAAkNY2E0AAAACgye8SQA==\"},\"shape\":[50],\"dtype\":\"float64\",\"order\":\"little\"}],[\"Difference (Seconds)\",{\"type\":\"ndarray\",\"array\":{\"type\":\"bytes\",\"data\":\"AAAAAFARCEAAAADgow8IQAEAAMD/9gZAAAAAYHyWDEAAAADAu04IQAAAAMBSQAtAAAAAgLfACkAAAAAA7SwIQAAAAOCitQtAAAAAgMcvCUAAAAAARAsLQAAAAIAguAlAAAAAQCZEC0AAAADAV90MQAAAAGAuyw1AAAAAIG/8DUAAAABgVsUKQAAAAKBwMQ9AAAAAIH5+DEAAAAAAkVgOQAAAAKBo4w5AAAAAILK/DEAAAACA/SYOQAAAAKASpAxAAAAAwNnEDUAAAADgPzUQQAAAABDxCBBAAAAAoEpuDkACAAAgyiEPQAAAAMCEJxBAAAAAIG1UDEAAAABQVYgQQAAAAEDnLwxAAAAAoCPvDEACAABA25UOQAAAAOAzPg9AAAAAIOD0DUAAAAAAp5cNQAAAAADznw9AAAAAQJFkD0AAAABQYyERQAAAADAdYhBAAAAA0FQpEUAAAADwC3ERQAAAAKCh8g9AAAAAYA6lDkAAAAAg+pwNQAAAAPDxIxBAAAAAsIw6EEAAAACgjWUPQA==\"},\"shape\":[50],\"dtype\":\"float64\",\"order\":\"little\"}]]}}},\"view\":{\"type\":\"object\",\"name\":\"CDSView\",\"id\":\"p2280\",\"attributes\":{\"filter\":{\"type\":\"object\",\"name\":\"AllIndices\",\"id\":\"p2281\"}}},\"glyph\":{\"type\":\"object\",\"name\":\"Circle\",\"id\":\"p2276\",\"attributes\":{\"x\":{\"type\":\"field\",\"field\":\"Number of Edges\"},\"y\":{\"type\":\"field\",\"field\":\"Difference (Seconds)\"},\"line_color\":{\"type\":\"value\",\"value\":\"#1f77b4\"},\"fill_color\":{\"type\":\"value\",\"value\":\"#1f77b4\"}}},\"nonselection_glyph\":{\"type\":\"object\",\"name\":\"Circle\",\"id\":\"p2277\",\"attributes\":{\"x\":{\"type\":\"field\",\"field\":\"Number of Edges\"},\"y\":{\"type\":\"field\",\"field\":\"Difference (Seconds)\"},\"line_color\":{\"type\":\"value\",\"value\":\"#1f77b4\"},\"line_alpha\":{\"type\":\"value\",\"value\":0.1},\"fill_color\":{\"type\":\"value\",\"value\":\"#1f77b4\"},\"fill_alpha\":{\"type\":\"value\",\"value\":0.1},\"hatch_alpha\":{\"type\":\"value\",\"value\":0.1}}},\"muted_glyph\":{\"type\":\"object\",\"name\":\"Circle\",\"id\":\"p2278\",\"attributes\":{\"x\":{\"type\":\"field\",\"field\":\"Number of Edges\"},\"y\":{\"type\":\"field\",\"field\":\"Difference (Seconds)\"},\"line_color\":{\"type\":\"value\",\"value\":\"#1f77b4\"},\"line_alpha\":{\"type\":\"value\",\"value\":0.2},\"fill_color\":{\"type\":\"value\",\"value\":\"#1f77b4\"},\"fill_alpha\":{\"type\":\"value\",\"value\":0.2},\"hatch_alpha\":{\"type\":\"value\",\"value\":0.2}}}}}],\"toolbar\":{\"type\":\"object\",\"name\":\"Toolbar\",\"id\":\"p2246\",\"attributes\":{\"tools\":[{\"type\":\"object\",\"name\":\"PanTool\",\"id\":\"p2259\"},{\"type\":\"object\",\"name\":\"WheelZoomTool\",\"id\":\"p2260\",\"attributes\":{\"renderers\":\"auto\"}},{\"type\":\"object\",\"name\":\"BoxZoomTool\",\"id\":\"p2261\",\"attributes\":{\"overlay\":{\"type\":\"object\",\"name\":\"BoxAnnotation\",\"id\":\"p2262\",\"attributes\":{\"syncable\":false,\"level\":\"overlay\",\"visible\":false,\"left\":{\"type\":\"number\",\"value\":\"nan\"},\"right\":{\"type\":\"number\",\"value\":\"nan\"},\"top\":{\"type\":\"number\",\"value\":\"nan\"},\"bottom\":{\"type\":\"number\",\"value\":\"nan\"},\"left_units\":\"canvas\",\"right_units\":\"canvas\",\"top_units\":\"canvas\",\"bottom_units\":\"canvas\",\"line_color\":\"black\",\"line_alpha\":1.0,\"line_width\":2,\"line_dash\":[4,4],\"fill_color\":\"lightgrey\",\"fill_alpha\":0.5}}}},{\"type\":\"object\",\"name\":\"SaveTool\",\"id\":\"p2267\"},{\"type\":\"object\",\"name\":\"ResetTool\",\"id\":\"p2268\"},{\"type\":\"object\",\"name\":\"HelpTool\",\"id\":\"p2269\"}]}},\"left\":[{\"type\":\"object\",\"name\":\"LinearAxis\",\"id\":\"p2254\",\"attributes\":{\"ticker\":{\"type\":\"object\",\"name\":\"BasicTicker\",\"id\":\"p2255\",\"attributes\":{\"mantissas\":[1,2,5]}},\"formatter\":{\"type\":\"object\",\"name\":\"BasicTickFormatter\",\"id\":\"p2256\"},\"axis_label\":\"Difference (Seconds)\",\"major_label_policy\":{\"type\":\"object\",\"name\":\"AllLabels\",\"id\":\"p2257\"}}}],\"below\":[{\"type\":\"object\",\"name\":\"LinearAxis\",\"id\":\"p2249\",\"attributes\":{\"ticker\":{\"type\":\"object\",\"name\":\"BasicTicker\",\"id\":\"p2250\",\"attributes\":{\"mantissas\":[1,2,5]}},\"formatter\":{\"type\":\"object\",\"name\":\"BasicTickFormatter\",\"id\":\"p2251\"},\"axis_label\":\"Number of Edges\",\"major_label_policy\":{\"type\":\"object\",\"name\":\"AllLabels\",\"id\":\"p2252\"}}}],\"center\":[{\"type\":\"object\",\"name\":\"Grid\",\"id\":\"p2253\",\"attributes\":{\"axis\":{\"id\":\"p2249\"}}},{\"type\":\"object\",\"name\":\"Grid\",\"id\":\"p2258\",\"attributes\":{\"dimension\":1,\"axis\":{\"id\":\"p2254\"}}}]}}]}};\n",
       "  const render_items = [{\"docid\":\"1075d790-6ab7-4b93-a16a-0129e564182e\",\"roots\":{\"p2238\":\"a3de7e52-4341-4068-b893-90bbfc740ed3\"},\"root_ids\":[\"p2238\"]}];\n",
       "  root.Bokeh.embed.embed_items_notebook(docs_json, render_items);\n",
       "  }\n",
       "  if (root.Bokeh !== undefined) {\n",
       "    embed_document(root);\n",
       "  } else {\n",
       "    let attempts = 0;\n",
       "    const timer = setInterval(function(root) {\n",
       "      if (root.Bokeh !== undefined) {\n",
       "        clearInterval(timer);\n",
       "        embed_document(root);\n",
       "      } else {\n",
       "        attempts++;\n",
       "        if (attempts > 100) {\n",
       "          clearInterval(timer);\n",
       "          console.log(\"Bokeh: ERROR: Unable to run BokehJS code because BokehJS library is missing\");\n",
       "        }\n",
       "      }\n",
       "    }, 10, root)\n",
       "  }\n",
       "})(window);"
      ],
      "application/vnd.bokehjs_exec.v0+json": ""
     },
     "metadata": {
      "application/vnd.bokehjs_exec.v0+json": {
       "id": "p2238"
      }
     },
     "output_type": "display_data"
    }
   ],
   "source": [
    "x = \"Number of Edges\"\n",
    "y = \"Difference (Seconds)\"\n",
    "p = bokeh.plotting.figure(\n",
    "    width=400,\n",
    "    height=300,\n",
    "    x_axis_label=x,\n",
    "    y_axis_label=y,\n",
    ")\n",
    "p.circle(\n",
    "    source=diff,\n",
    "    x=x,\n",
    "    y=y,\n",
    ")\n",
    "bokeh.io.show(p)"
   ]
  },
  {
   "cell_type": "code",
   "execution_count": 35,
   "id": "7318a1fa-4820-4728-aba2-66317f2fe184",
   "metadata": {},
   "outputs": [],
   "source": [
    "effects = pd.read_csv('lessinformGraphRuntimes.csv')\n",
    "effects = effects.drop(['Average Runtime', 'Unnamed: 0', 'Data'], axis=1)\n",
    "effects = effects.rename({'# Edges': 'Number of Edges', 'Full Runtime': 'Runtime (Seconds)'}, axis=1)\n",
    "gnn = effects[effects['Explainer'] == 'GNN']\n",
    "gnn = gnn.rename({'Runtime (Seconds)': 'GNN Runtime (Seconds)'}, axis=1)\n",
    "gnn = gnn.drop(['Explainer'], axis=1)\n",
    "beta = effects[effects['Explainer'] == 'Beta']\n",
    "beta = beta.rename({'Runtime (Seconds)': 'Beta Runtime (Seconds)'}, axis=1)\n",
    "beta = beta.drop(['Explainer'], axis=1)\n",
    "diff = pd.merge(gnn, beta, how=\"right\", on=[\"# Epochs\",'Number of Edges'])\n",
    "diff['Difference (Seconds)'] = diff['Beta Runtime (Seconds)'] - diff['GNN Runtime (Seconds)']"
   ]
  },
  {
   "cell_type": "code",
   "execution_count": 36,
   "id": "71684283-89e6-4428-8d58-883acbc95922",
   "metadata": {
    "jupyter": {
     "source_hidden": true
    }
   },
   "outputs": [
    {
     "data": {
      "text/html": [
       "\n",
       "  <div id=\"d738727f-131f-4591-91d3-0ab0a6c7c353\" data-root-id=\"p2288\" style=\"display: contents;\"></div>\n"
      ]
     },
     "metadata": {},
     "output_type": "display_data"
    },
    {
     "data": {
      "application/javascript": [
       "(function(root) {\n",
       "  function embed_document(root) {\n",
       "  const docs_json = {\"3c0d8b8b-c625-4213-b340-a6043666b036\":{\"version\":\"3.3.4\",\"title\":\"Bokeh Application\",\"roots\":[{\"type\":\"object\",\"name\":\"Figure\",\"id\":\"p2288\",\"attributes\":{\"width\":400,\"height\":300,\"x_range\":{\"type\":\"object\",\"name\":\"DataRange1d\",\"id\":\"p2289\"},\"y_range\":{\"type\":\"object\",\"name\":\"DataRange1d\",\"id\":\"p2290\"},\"x_scale\":{\"type\":\"object\",\"name\":\"LinearScale\",\"id\":\"p2297\"},\"y_scale\":{\"type\":\"object\",\"name\":\"LinearScale\",\"id\":\"p2298\"},\"title\":{\"type\":\"object\",\"name\":\"Title\",\"id\":\"p2295\"},\"renderers\":[{\"type\":\"object\",\"name\":\"GlyphRenderer\",\"id\":\"p2329\",\"attributes\":{\"data_source\":{\"type\":\"object\",\"name\":\"ColumnDataSource\",\"id\":\"p2320\",\"attributes\":{\"selected\":{\"type\":\"object\",\"name\":\"Selection\",\"id\":\"p2321\",\"attributes\":{\"indices\":[],\"line_indices\":[]}},\"selection_policy\":{\"type\":\"object\",\"name\":\"UnionRenderers\",\"id\":\"p2322\"},\"data\":{\"type\":\"map\",\"entries\":[[\"index\",{\"type\":\"ndarray\",\"array\":{\"type\":\"bytes\",\"data\":\"AAAAAAIAAAAEAAAABgAAAAgAAAAKAAAADAAAAA4AAAAQAAAAEgAAABQAAAAWAAAAGAAAABoAAAAcAAAAHgAAACAAAAAiAAAAJAAAACYAAAAoAAAAKgAAACwAAAAuAAAAMAAAADIAAAA0AAAANgAAADgAAAA6AAAAPAAAAD4AAABAAAAAQgAAAEQAAABGAAAASAAAAEoAAABMAAAATgAAAFAAAABSAAAAVAAAAFYAAABYAAAAWgAAAFwAAABeAAAAYAAAAGIAAAA=\"},\"shape\":[50],\"dtype\":\"int32\",\"order\":\"little\"}],[\"Explainer\",{\"type\":\"ndarray\",\"array\":[\"Beta\",\"Beta\",\"Beta\",\"Beta\",\"Beta\",\"Beta\",\"Beta\",\"Beta\",\"Beta\",\"Beta\",\"Beta\",\"Beta\",\"Beta\",\"Beta\",\"Beta\",\"Beta\",\"Beta\",\"Beta\",\"Beta\",\"Beta\",\"Beta\",\"Beta\",\"Beta\",\"Beta\",\"Beta\",\"Beta\",\"Beta\",\"Beta\",\"Beta\",\"Beta\",\"Beta\",\"Beta\",\"Beta\",\"Beta\",\"Beta\",\"Beta\",\"Beta\",\"Beta\",\"Beta\",\"Beta\",\"Beta\",\"Beta\",\"Beta\",\"Beta\",\"Beta\",\"Beta\",\"Beta\",\"Beta\",\"Beta\",\"Beta\"],\"shape\":[50],\"dtype\":\"object\",\"order\":\"little\"}],[\"# Epochs\",{\"type\":\"ndarray\",\"array\":{\"type\":\"bytes\",\"data\":\"MgAAADIAAAAyAAAAMgAAADIAAAAyAAAAMgAAADIAAAAyAAAAMgAAADIAAAAyAAAAMgAAADIAAAAyAAAAMgAAADIAAAAyAAAAMgAAADIAAAAyAAAAMgAAADIAAAAyAAAAMgAAADIAAAAyAAAAMgAAADIAAAAyAAAAMgAAADIAAAAyAAAAMgAAADIAAAAyAAAAMgAAADIAAAAyAAAAMgAAADIAAAAyAAAAMgAAADIAAAAyAAAAMgAAADIAAAAyAAAAMgAAADIAAAA=\"},\"shape\":[50],\"dtype\":\"int32\",\"order\":\"little\"}],[\"Runtime (Seconds)\",{\"type\":\"ndarray\",\"array\":{\"type\":\"bytes\",\"data\":\"AAAAcA0cNkAAAABQy+8eQAAAAABqqR5AAAAAiPyjJEAAAADgJigtQAAAACAGtyRA////J37eJUAAAAC4+VkhQAAAABClHB1AAAAASK89IUD///93wq0iQAEAAEBj4yJAAAAAVOsiMUAAAABYh/cvQP///8eWXi5A////x1vCI0AAAAAgcKwtQAAAAEjmCCdAAQAASMz8KUD///+fFLUdQAAAAAwvIDFAAAAA6JOKK0D////fvUMjQAAAAFQ8EzBAAAAAoJqvMUABAADkOjUzQAAAAHhmCCxAAQAAeCXkJkAAAADA+PIUQAAAAKDljxRAAAAA8DskEEAAAACwdW4UQAAAAGDk9xNAAAAAoDl4FEAAAABQ/eQTQP///8/VKRVAAAAAoHimE0AAAABwHGsTQAEAAKBUVxVAAAAA8BzKFEAAAACwZXMTQAAAAMBVaBZAAAAAwPtYFUAAAADA7uMVQAAAABBniRVAAAAAIDN6FUAAAAAwSzgVQAAAAOCTfxRAAAAAwFmsFEAAAADgwSQWQA==\"},\"shape\":[50],\"dtype\":\"float64\",\"order\":\"little\"}],[\"Number of Edges\",{\"type\":\"ndarray\",\"array\":{\"type\":\"bytes\",\"data\":\"ZAAAAMgAAAAsAQAAkAEAAPQBAABYAgAAvAIAACADAACEAwAA6AMAAEwEAACwBAAAFAUAAHgFAADcBQAAQAYAAKQGAAAIBwAAbAcAANAHAAA0CAAAmAgAAPwIAABgCQAAxAkAACgKAACMCgAA8AoAAFQLAAC4CwAAHAwAAIAMAADkDAAASA0AAKwNAAAQDgAAdA4AANgOAAA8DwAAoA8AAAQQAABoEAAAzBAAADARAACUEQAA+BEAAFwSAADAEgAAJBMAAIgTAAA=\"},\"shape\":[50],\"dtype\":\"int32\",\"order\":\"little\"}]]}}},\"view\":{\"type\":\"object\",\"name\":\"CDSView\",\"id\":\"p2330\",\"attributes\":{\"filter\":{\"type\":\"object\",\"name\":\"AllIndices\",\"id\":\"p2331\"}}},\"glyph\":{\"type\":\"object\",\"name\":\"Circle\",\"id\":\"p2326\",\"attributes\":{\"x\":{\"type\":\"field\",\"field\":\"Number of Edges\"},\"y\":{\"type\":\"field\",\"field\":\"Runtime (Seconds)\"},\"line_color\":{\"type\":\"value\",\"value\":\"#1f77b4\"},\"fill_color\":{\"type\":\"value\",\"value\":\"#1f77b4\"}}},\"nonselection_glyph\":{\"type\":\"object\",\"name\":\"Circle\",\"id\":\"p2327\",\"attributes\":{\"x\":{\"type\":\"field\",\"field\":\"Number of Edges\"},\"y\":{\"type\":\"field\",\"field\":\"Runtime (Seconds)\"},\"line_color\":{\"type\":\"value\",\"value\":\"#1f77b4\"},\"line_alpha\":{\"type\":\"value\",\"value\":0.1},\"fill_color\":{\"type\":\"value\",\"value\":\"#1f77b4\"},\"fill_alpha\":{\"type\":\"value\",\"value\":0.1},\"hatch_alpha\":{\"type\":\"value\",\"value\":0.1}}},\"muted_glyph\":{\"type\":\"object\",\"name\":\"Circle\",\"id\":\"p2328\",\"attributes\":{\"x\":{\"type\":\"field\",\"field\":\"Number of Edges\"},\"y\":{\"type\":\"field\",\"field\":\"Runtime (Seconds)\"},\"line_color\":{\"type\":\"value\",\"value\":\"#1f77b4\"},\"line_alpha\":{\"type\":\"value\",\"value\":0.2},\"fill_color\":{\"type\":\"value\",\"value\":\"#1f77b4\"},\"fill_alpha\":{\"type\":\"value\",\"value\":0.2},\"hatch_alpha\":{\"type\":\"value\",\"value\":0.2}}}}},{\"type\":\"object\",\"name\":\"GlyphRenderer\",\"id\":\"p2343\",\"attributes\":{\"data_source\":{\"type\":\"object\",\"name\":\"ColumnDataSource\",\"id\":\"p2334\",\"attributes\":{\"selected\":{\"type\":\"object\",\"name\":\"Selection\",\"id\":\"p2335\",\"attributes\":{\"indices\":[],\"line_indices\":[]}},\"selection_policy\":{\"type\":\"object\",\"name\":\"UnionRenderers\",\"id\":\"p2336\"},\"data\":{\"type\":\"map\",\"entries\":[[\"index\",{\"type\":\"ndarray\",\"array\":{\"type\":\"bytes\",\"data\":\"AQAAAAMAAAAFAAAABwAAAAkAAAALAAAADQAAAA8AAAARAAAAEwAAABUAAAAXAAAAGQAAABsAAAAdAAAAHwAAACEAAAAjAAAAJQAAACcAAAApAAAAKwAAAC0AAAAvAAAAMQAAADMAAAA1AAAANwAAADkAAAA7AAAAPQAAAD8AAABBAAAAQwAAAEUAAABHAAAASQAAAEsAAABNAAAATwAAAFEAAABTAAAAVQAAAFcAAABZAAAAWwAAAF0AAABfAAAAYQAAAGMAAAA=\"},\"shape\":[50],\"dtype\":\"int32\",\"order\":\"little\"}],[\"Explainer\",{\"type\":\"ndarray\",\"array\":[\"GNN\",\"GNN\",\"GNN\",\"GNN\",\"GNN\",\"GNN\",\"GNN\",\"GNN\",\"GNN\",\"GNN\",\"GNN\",\"GNN\",\"GNN\",\"GNN\",\"GNN\",\"GNN\",\"GNN\",\"GNN\",\"GNN\",\"GNN\",\"GNN\",\"GNN\",\"GNN\",\"GNN\",\"GNN\",\"GNN\",\"GNN\",\"GNN\",\"GNN\",\"GNN\",\"GNN\",\"GNN\",\"GNN\",\"GNN\",\"GNN\",\"GNN\",\"GNN\",\"GNN\",\"GNN\",\"GNN\",\"GNN\",\"GNN\",\"GNN\",\"GNN\",\"GNN\",\"GNN\",\"GNN\",\"GNN\",\"GNN\",\"GNN\"],\"shape\":[50],\"dtype\":\"object\",\"order\":\"little\"}],[\"# Epochs\",{\"type\":\"ndarray\",\"array\":{\"type\":\"bytes\",\"data\":\"MgAAADIAAAAyAAAAMgAAADIAAAAyAAAAMgAAADIAAAAyAAAAMgAAADIAAAAyAAAAMgAAADIAAAAyAAAAMgAAADIAAAAyAAAAMgAAADIAAAAyAAAAMgAAADIAAAAyAAAAMgAAADIAAAAyAAAAMgAAADIAAAAyAAAAMgAAADIAAAAyAAAAMgAAADIAAAAyAAAAMgAAADIAAAAyAAAAMgAAADIAAAAyAAAAMgAAADIAAAAyAAAAMgAAADIAAAAyAAAAMgAAADIAAAA=\"},\"shape\":[50],\"dtype\":\"int32\",\"order\":\"little\"}],[\"Runtime (Seconds)\",{\"type\":\"ndarray\",\"array\":{\"type\":\"bytes\",\"data\":\"AAAAAJgT+j8AAAAAr0TjPwAAAAAhnfA/AAAAgExz5D8AAACAH7T9PwAAAIBsBfg/AAAAgCE/9j8AAACA6an3PwAAAIBYK/E/AQAAQLlp/D8AAABAaND0PwEAAIDN1/E/AAAAQGei+z8BAACAiLv5PwEAAED8i/o/AAAAwPMK8z8AAADACAT4PwAAAAABE/U/AAAAANhj5D8AAAAAIAPyPwAAAMDB5PI/AAAAwAXsAEAAAACAj+P1PwAAAMCtLfo/AAAAwMyJDEAAAAAABlz1PwAAAIDrjfk/////fzan9D8AAAAAhtXrPwAAAABfWek/AAAAgB8k5z8AAACAJirqPwAAAIDQ5ug/AAAAAIGS7D8AAACACYXoPwAAAICNQeo/AAAAAMvf7j8AAACAHn/sPwAAAICQNPA/AAAAAHGZ7D8AAAAAAM7pPwAAAMCNjfA/AAAAgHHl7j8AAACAHYLqPwAAAIDDkvA/AAAAANlt8D8AAABAwhv1PwAAAIAlh/A/AAAAQM6f8T8AAADATLnxPw==\"},\"shape\":[50],\"dtype\":\"float64\",\"order\":\"little\"}],[\"Number of Edges\",{\"type\":\"ndarray\",\"array\":{\"type\":\"bytes\",\"data\":\"ZAAAAMgAAAAsAQAAkAEAAPQBAABYAgAAvAIAACADAACEAwAA6AMAAEwEAACwBAAAFAUAAHgFAADcBQAAQAYAAKQGAAAIBwAAbAcAANAHAAA0CAAAmAgAAPwIAABgCQAAxAkAACgKAACMCgAA8AoAAFQLAAC4CwAAHAwAAIAMAADkDAAASA0AAKwNAAAQDgAAdA4AANgOAAA8DwAAoA8AAAQQAABoEAAAzBAAADARAACUEQAA+BEAAFwSAADAEgAAJBMAAIgTAAA=\"},\"shape\":[50],\"dtype\":\"int32\",\"order\":\"little\"}]]}}},\"view\":{\"type\":\"object\",\"name\":\"CDSView\",\"id\":\"p2344\",\"attributes\":{\"filter\":{\"type\":\"object\",\"name\":\"AllIndices\",\"id\":\"p2345\"}}},\"glyph\":{\"type\":\"object\",\"name\":\"Circle\",\"id\":\"p2340\",\"attributes\":{\"x\":{\"type\":\"field\",\"field\":\"Number of Edges\"},\"y\":{\"type\":\"field\",\"field\":\"Runtime (Seconds)\"},\"line_color\":{\"type\":\"value\",\"value\":\"orange\"},\"fill_color\":{\"type\":\"value\",\"value\":\"orange\"},\"hatch_color\":{\"type\":\"value\",\"value\":\"orange\"}}},\"nonselection_glyph\":{\"type\":\"object\",\"name\":\"Circle\",\"id\":\"p2341\",\"attributes\":{\"x\":{\"type\":\"field\",\"field\":\"Number of Edges\"},\"y\":{\"type\":\"field\",\"field\":\"Runtime (Seconds)\"},\"line_color\":{\"type\":\"value\",\"value\":\"orange\"},\"line_alpha\":{\"type\":\"value\",\"value\":0.1},\"fill_color\":{\"type\":\"value\",\"value\":\"orange\"},\"fill_alpha\":{\"type\":\"value\",\"value\":0.1},\"hatch_color\":{\"type\":\"value\",\"value\":\"orange\"},\"hatch_alpha\":{\"type\":\"value\",\"value\":0.1}}},\"muted_glyph\":{\"type\":\"object\",\"name\":\"Circle\",\"id\":\"p2342\",\"attributes\":{\"x\":{\"type\":\"field\",\"field\":\"Number of Edges\"},\"y\":{\"type\":\"field\",\"field\":\"Runtime (Seconds)\"},\"line_color\":{\"type\":\"value\",\"value\":\"orange\"},\"line_alpha\":{\"type\":\"value\",\"value\":0.2},\"fill_color\":{\"type\":\"value\",\"value\":\"orange\"},\"fill_alpha\":{\"type\":\"value\",\"value\":0.2},\"hatch_color\":{\"type\":\"value\",\"value\":\"orange\"},\"hatch_alpha\":{\"type\":\"value\",\"value\":0.2}}}}}],\"toolbar\":{\"type\":\"object\",\"name\":\"Toolbar\",\"id\":\"p2296\",\"attributes\":{\"tools\":[{\"type\":\"object\",\"name\":\"PanTool\",\"id\":\"p2309\"},{\"type\":\"object\",\"name\":\"WheelZoomTool\",\"id\":\"p2310\",\"attributes\":{\"renderers\":\"auto\"}},{\"type\":\"object\",\"name\":\"BoxZoomTool\",\"id\":\"p2311\",\"attributes\":{\"overlay\":{\"type\":\"object\",\"name\":\"BoxAnnotation\",\"id\":\"p2312\",\"attributes\":{\"syncable\":false,\"level\":\"overlay\",\"visible\":false,\"left\":{\"type\":\"number\",\"value\":\"nan\"},\"right\":{\"type\":\"number\",\"value\":\"nan\"},\"top\":{\"type\":\"number\",\"value\":\"nan\"},\"bottom\":{\"type\":\"number\",\"value\":\"nan\"},\"left_units\":\"canvas\",\"right_units\":\"canvas\",\"top_units\":\"canvas\",\"bottom_units\":\"canvas\",\"line_color\":\"black\",\"line_alpha\":1.0,\"line_width\":2,\"line_dash\":[4,4],\"fill_color\":\"lightgrey\",\"fill_alpha\":0.5}}}},{\"type\":\"object\",\"name\":\"SaveTool\",\"id\":\"p2317\"},{\"type\":\"object\",\"name\":\"ResetTool\",\"id\":\"p2318\"},{\"type\":\"object\",\"name\":\"HelpTool\",\"id\":\"p2319\"}]}},\"left\":[{\"type\":\"object\",\"name\":\"LinearAxis\",\"id\":\"p2304\",\"attributes\":{\"ticker\":{\"type\":\"object\",\"name\":\"BasicTicker\",\"id\":\"p2305\",\"attributes\":{\"mantissas\":[1,2,5]}},\"formatter\":{\"type\":\"object\",\"name\":\"BasicTickFormatter\",\"id\":\"p2306\"},\"axis_label\":\"Runtime (Seconds)\",\"major_label_policy\":{\"type\":\"object\",\"name\":\"AllLabels\",\"id\":\"p2307\"}}}],\"below\":[{\"type\":\"object\",\"name\":\"LinearAxis\",\"id\":\"p2299\",\"attributes\":{\"ticker\":{\"type\":\"object\",\"name\":\"BasicTicker\",\"id\":\"p2300\",\"attributes\":{\"mantissas\":[1,2,5]}},\"formatter\":{\"type\":\"object\",\"name\":\"BasicTickFormatter\",\"id\":\"p2301\"},\"axis_label\":\"Number of Edges\",\"major_label_policy\":{\"type\":\"object\",\"name\":\"AllLabels\",\"id\":\"p2302\"}}}],\"center\":[{\"type\":\"object\",\"name\":\"Grid\",\"id\":\"p2303\",\"attributes\":{\"axis\":{\"id\":\"p2299\"}}},{\"type\":\"object\",\"name\":\"Grid\",\"id\":\"p2308\",\"attributes\":{\"dimension\":1,\"axis\":{\"id\":\"p2304\"}}},{\"type\":\"object\",\"name\":\"Legend\",\"id\":\"p2332\",\"attributes\":{\"location\":\"top_left\",\"items\":[{\"type\":\"object\",\"name\":\"LegendItem\",\"id\":\"p2333\",\"attributes\":{\"label\":{\"type\":\"value\",\"value\":\"Beta\"},\"renderers\":[{\"id\":\"p2329\"}]}},{\"type\":\"object\",\"name\":\"LegendItem\",\"id\":\"p2346\",\"attributes\":{\"label\":{\"type\":\"value\",\"value\":\"GNN\"},\"renderers\":[{\"id\":\"p2343\"}]}}]}}]}}]}};\n",
       "  const render_items = [{\"docid\":\"3c0d8b8b-c625-4213-b340-a6043666b036\",\"roots\":{\"p2288\":\"d738727f-131f-4591-91d3-0ab0a6c7c353\"},\"root_ids\":[\"p2288\"]}];\n",
       "  root.Bokeh.embed.embed_items_notebook(docs_json, render_items);\n",
       "  }\n",
       "  if (root.Bokeh !== undefined) {\n",
       "    embed_document(root);\n",
       "  } else {\n",
       "    let attempts = 0;\n",
       "    const timer = setInterval(function(root) {\n",
       "      if (root.Bokeh !== undefined) {\n",
       "        clearInterval(timer);\n",
       "        embed_document(root);\n",
       "      } else {\n",
       "        attempts++;\n",
       "        if (attempts > 100) {\n",
       "          clearInterval(timer);\n",
       "          console.log(\"Bokeh: ERROR: Unable to run BokehJS code because BokehJS library is missing\");\n",
       "        }\n",
       "      }\n",
       "    }, 10, root)\n",
       "  }\n",
       "})(window);"
      ],
      "application/vnd.bokehjs_exec.v0+json": ""
     },
     "metadata": {
      "application/vnd.bokehjs_exec.v0+json": {
       "id": "p2288"
      }
     },
     "output_type": "display_data"
    }
   ],
   "source": [
    "x = \"Number of Edges\"\n",
    "y = \"Runtime (Seconds)\"\n",
    "p = bokeh.plotting.figure(\n",
    "    width=400,\n",
    "    height=300,\n",
    "    x_axis_label=x,\n",
    "    y_axis_label=y,\n",
    ")\n",
    "p.circle(\n",
    "    source=effects[effects['Explainer'] == 'Beta'],\n",
    "    x=x,\n",
    "    y=y,\n",
    "    legend_label=\"Beta\",\n",
    ")\n",
    "p.circle(\n",
    "    source=effects[effects['Explainer'] == 'GNN'],\n",
    "    x=x,\n",
    "    y=y,\n",
    "    legend_label=\"GNN\",\n",
    "    color='orange'\n",
    ")\n",
    "p.legend.location = \"top_left\"\n",
    "bokeh.io.show(p)"
   ]
  },
  {
   "cell_type": "code",
   "execution_count": 37,
   "id": "b3250611-1fc3-4c91-96a0-5efebf19dfcc",
   "metadata": {
    "jupyter": {
     "source_hidden": true
    }
   },
   "outputs": [
    {
     "data": {
      "text/html": [
       "\n",
       "  <div id=\"b9f5f083-b55a-47a3-8fd1-6c48698a91f1\" data-root-id=\"p2355\" style=\"display: contents;\"></div>\n"
      ]
     },
     "metadata": {},
     "output_type": "display_data"
    },
    {
     "data": {
      "application/javascript": [
       "(function(root) {\n",
       "  function embed_document(root) {\n",
       "  const docs_json = {\"a7a73ded-403a-4128-b657-e79e46b8551a\":{\"version\":\"3.3.4\",\"title\":\"Bokeh Application\",\"roots\":[{\"type\":\"object\",\"name\":\"Figure\",\"id\":\"p2355\",\"attributes\":{\"width\":400,\"height\":300,\"x_range\":{\"type\":\"object\",\"name\":\"DataRange1d\",\"id\":\"p2356\"},\"y_range\":{\"type\":\"object\",\"name\":\"DataRange1d\",\"id\":\"p2357\"},\"x_scale\":{\"type\":\"object\",\"name\":\"LinearScale\",\"id\":\"p2364\"},\"y_scale\":{\"type\":\"object\",\"name\":\"LinearScale\",\"id\":\"p2365\"},\"title\":{\"type\":\"object\",\"name\":\"Title\",\"id\":\"p2362\"},\"renderers\":[{\"type\":\"object\",\"name\":\"GlyphRenderer\",\"id\":\"p2396\",\"attributes\":{\"data_source\":{\"type\":\"object\",\"name\":\"ColumnDataSource\",\"id\":\"p2387\",\"attributes\":{\"selected\":{\"type\":\"object\",\"name\":\"Selection\",\"id\":\"p2388\",\"attributes\":{\"indices\":[],\"line_indices\":[]}},\"selection_policy\":{\"type\":\"object\",\"name\":\"UnionRenderers\",\"id\":\"p2389\"},\"data\":{\"type\":\"map\",\"entries\":[[\"index\",{\"type\":\"ndarray\",\"array\":{\"type\":\"bytes\",\"data\":\"AAAAAAEAAAACAAAAAwAAAAQAAAAFAAAABgAAAAcAAAAIAAAACQAAAAoAAAALAAAADAAAAA0AAAAOAAAADwAAABAAAAARAAAAEgAAABMAAAAUAAAAFQAAABYAAAAXAAAAGAAAABkAAAAaAAAAGwAAABwAAAAdAAAAHgAAAB8AAAAgAAAAIQAAACIAAAAjAAAAJAAAACUAAAAmAAAAJwAAACgAAAApAAAAKgAAACsAAAAsAAAALQAAAC4AAAAvAAAAMAAAADEAAAA=\"},\"shape\":[50],\"dtype\":\"int32\",\"order\":\"little\"}],[\"# Epochs\",{\"type\":\"ndarray\",\"array\":{\"type\":\"bytes\",\"data\":\"MgAAADIAAAAyAAAAMgAAADIAAAAyAAAAMgAAADIAAAAyAAAAMgAAADIAAAAyAAAAMgAAADIAAAAyAAAAMgAAADIAAAAyAAAAMgAAADIAAAAyAAAAMgAAADIAAAAyAAAAMgAAADIAAAAyAAAAMgAAADIAAAAyAAAAMgAAADIAAAAyAAAAMgAAADIAAAAyAAAAMgAAADIAAAAyAAAAMgAAADIAAAAyAAAAMgAAADIAAAAyAAAAMgAAADIAAAAyAAAAMgAAADIAAAA=\"},\"shape\":[50],\"dtype\":\"int32\",\"order\":\"little\"}],[\"GNN Runtime (Seconds)\",{\"type\":\"ndarray\",\"array\":{\"type\":\"bytes\",\"data\":\"AAAAAJgT+j8AAAAAr0TjPwAAAAAhnfA/AAAAgExz5D8AAACAH7T9PwAAAIBsBfg/AAAAgCE/9j8AAACA6an3PwAAAIBYK/E/AQAAQLlp/D8AAABAaND0PwEAAIDN1/E/AAAAQGei+z8BAACAiLv5PwEAAED8i/o/AAAAwPMK8z8AAADACAT4PwAAAAABE/U/AAAAANhj5D8AAAAAIAPyPwAAAMDB5PI/AAAAwAXsAEAAAACAj+P1PwAAAMCtLfo/AAAAwMyJDEAAAAAABlz1PwAAAIDrjfk/////fzan9D8AAAAAhtXrPwAAAABfWek/AAAAgB8k5z8AAACAJirqPwAAAIDQ5ug/AAAAAIGS7D8AAACACYXoPwAAAICNQeo/AAAAAMvf7j8AAACAHn/sPwAAAICQNPA/AAAAAHGZ7D8AAAAAAM7pPwAAAMCNjfA/AAAAgHHl7j8AAACAHYLqPwAAAIDDkvA/AAAAANlt8D8AAABAwhv1PwAAAIAlh/A/AAAAQM6f8T8AAADATLnxPw==\"},\"shape\":[50],\"dtype\":\"float64\",\"order\":\"little\"}],[\"Number of Edges\",{\"type\":\"ndarray\",\"array\":{\"type\":\"bytes\",\"data\":\"ZAAAAMgAAAAsAQAAkAEAAPQBAABYAgAAvAIAACADAACEAwAA6AMAAEwEAACwBAAAFAUAAHgFAADcBQAAQAYAAKQGAAAIBwAAbAcAANAHAAA0CAAAmAgAAPwIAABgCQAAxAkAACgKAACMCgAA8AoAAFQLAAC4CwAAHAwAAIAMAADkDAAASA0AAKwNAAAQDgAAdA4AANgOAAA8DwAAoA8AAAQQAABoEAAAzBAAADARAACUEQAA+BEAAFwSAADAEgAAJBMAAIgTAAA=\"},\"shape\":[50],\"dtype\":\"int32\",\"order\":\"little\"}],[\"Beta Runtime (Seconds)\",{\"type\":\"ndarray\",\"array\":{\"type\":\"bytes\",\"data\":\"AAAAcA0cNkAAAABQy+8eQAAAAABqqR5AAAAAiPyjJEAAAADgJigtQAAAACAGtyRA////J37eJUAAAAC4+VkhQAAAABClHB1AAAAASK89IUD///93wq0iQAEAAEBj4yJAAAAAVOsiMUAAAABYh/cvQP///8eWXi5A////x1vCI0AAAAAgcKwtQAAAAEjmCCdAAQAASMz8KUD///+fFLUdQAAAAAwvIDFAAAAA6JOKK0D////fvUMjQAAAAFQ8EzBAAAAAoJqvMUABAADkOjUzQAAAAHhmCCxAAQAAeCXkJkAAAADA+PIUQAAAAKDljxRAAAAA8DskEEAAAACwdW4UQAAAAGDk9xNAAAAAoDl4FEAAAABQ/eQTQP///8/VKRVAAAAAoHimE0AAAABwHGsTQAEAAKBUVxVAAAAA8BzKFEAAAACwZXMTQAAAAMBVaBZAAAAAwPtYFUAAAADA7uMVQAAAABBniRVAAAAAIDN6FUAAAAAwSzgVQAAAAOCTfxRAAAAAwFmsFEAAAADgwSQWQA==\"},\"shape\":[50],\"dtype\":\"float64\",\"order\":\"little\"}],[\"Difference (Seconds)\",{\"type\":\"ndarray\",\"array\":{\"type\":\"bytes\",\"data\":\"AAAA8NN6NEAAAABwNYccQAAAAMAhghpAAAAAwMdcI0AAAADwonEpQAAAAJBYtiFA////95kWI0AAAAAQeckcQAAAAPDO0RhAAAAAQPBgG0D///9vtRMgQAEAAJBpqCBAAAAAwInRLkAAAABIFsAsQP///z8XDStA////T/1gIUAAAAAI76sqQAAAACiGZiRAAQAAyI62KED///+fTDQZQAAAAODF4y9AAAAAeJJPJ0D////vS4cgQAAAAPDC4CxAAAAAEMI8LEABAACEet8xQAAAAAip1ihAAQAAqD5PJEAAAAAASHgRQAAAAMC5ZBFAAAAAAHB/CkAAAADgMCkRQAAAAFAK2xBAAAAAgOnlEEAAAAAgXNQQQP///x+k4RFAAAAAgP6UD0AAAABAcbYPQAEAAIAwShFAAAAA0O42EUAAAACwpTkQQAAAAFDyRBJAAAAAkE18EUAAAAAQq5MSQAAAADC2ZBFAAAAA4LxeEUAAAABAteIPQAAAAIDKXRBAAAAAMGZEEEAAAACwbrYRQA==\"},\"shape\":[50],\"dtype\":\"float64\",\"order\":\"little\"}]]}}},\"view\":{\"type\":\"object\",\"name\":\"CDSView\",\"id\":\"p2397\",\"attributes\":{\"filter\":{\"type\":\"object\",\"name\":\"AllIndices\",\"id\":\"p2398\"}}},\"glyph\":{\"type\":\"object\",\"name\":\"Circle\",\"id\":\"p2393\",\"attributes\":{\"x\":{\"type\":\"field\",\"field\":\"Number of Edges\"},\"y\":{\"type\":\"field\",\"field\":\"Difference (Seconds)\"},\"line_color\":{\"type\":\"value\",\"value\":\"#1f77b4\"},\"fill_color\":{\"type\":\"value\",\"value\":\"#1f77b4\"}}},\"nonselection_glyph\":{\"type\":\"object\",\"name\":\"Circle\",\"id\":\"p2394\",\"attributes\":{\"x\":{\"type\":\"field\",\"field\":\"Number of Edges\"},\"y\":{\"type\":\"field\",\"field\":\"Difference (Seconds)\"},\"line_color\":{\"type\":\"value\",\"value\":\"#1f77b4\"},\"line_alpha\":{\"type\":\"value\",\"value\":0.1},\"fill_color\":{\"type\":\"value\",\"value\":\"#1f77b4\"},\"fill_alpha\":{\"type\":\"value\",\"value\":0.1},\"hatch_alpha\":{\"type\":\"value\",\"value\":0.1}}},\"muted_glyph\":{\"type\":\"object\",\"name\":\"Circle\",\"id\":\"p2395\",\"attributes\":{\"x\":{\"type\":\"field\",\"field\":\"Number of Edges\"},\"y\":{\"type\":\"field\",\"field\":\"Difference (Seconds)\"},\"line_color\":{\"type\":\"value\",\"value\":\"#1f77b4\"},\"line_alpha\":{\"type\":\"value\",\"value\":0.2},\"fill_color\":{\"type\":\"value\",\"value\":\"#1f77b4\"},\"fill_alpha\":{\"type\":\"value\",\"value\":0.2},\"hatch_alpha\":{\"type\":\"value\",\"value\":0.2}}}}}],\"toolbar\":{\"type\":\"object\",\"name\":\"Toolbar\",\"id\":\"p2363\",\"attributes\":{\"tools\":[{\"type\":\"object\",\"name\":\"PanTool\",\"id\":\"p2376\"},{\"type\":\"object\",\"name\":\"WheelZoomTool\",\"id\":\"p2377\",\"attributes\":{\"renderers\":\"auto\"}},{\"type\":\"object\",\"name\":\"BoxZoomTool\",\"id\":\"p2378\",\"attributes\":{\"overlay\":{\"type\":\"object\",\"name\":\"BoxAnnotation\",\"id\":\"p2379\",\"attributes\":{\"syncable\":false,\"level\":\"overlay\",\"visible\":false,\"left\":{\"type\":\"number\",\"value\":\"nan\"},\"right\":{\"type\":\"number\",\"value\":\"nan\"},\"top\":{\"type\":\"number\",\"value\":\"nan\"},\"bottom\":{\"type\":\"number\",\"value\":\"nan\"},\"left_units\":\"canvas\",\"right_units\":\"canvas\",\"top_units\":\"canvas\",\"bottom_units\":\"canvas\",\"line_color\":\"black\",\"line_alpha\":1.0,\"line_width\":2,\"line_dash\":[4,4],\"fill_color\":\"lightgrey\",\"fill_alpha\":0.5}}}},{\"type\":\"object\",\"name\":\"SaveTool\",\"id\":\"p2384\"},{\"type\":\"object\",\"name\":\"ResetTool\",\"id\":\"p2385\"},{\"type\":\"object\",\"name\":\"HelpTool\",\"id\":\"p2386\"}]}},\"left\":[{\"type\":\"object\",\"name\":\"LinearAxis\",\"id\":\"p2371\",\"attributes\":{\"ticker\":{\"type\":\"object\",\"name\":\"BasicTicker\",\"id\":\"p2372\",\"attributes\":{\"mantissas\":[1,2,5]}},\"formatter\":{\"type\":\"object\",\"name\":\"BasicTickFormatter\",\"id\":\"p2373\"},\"axis_label\":\"Difference (Seconds)\",\"major_label_policy\":{\"type\":\"object\",\"name\":\"AllLabels\",\"id\":\"p2374\"}}}],\"below\":[{\"type\":\"object\",\"name\":\"LinearAxis\",\"id\":\"p2366\",\"attributes\":{\"ticker\":{\"type\":\"object\",\"name\":\"BasicTicker\",\"id\":\"p2367\",\"attributes\":{\"mantissas\":[1,2,5]}},\"formatter\":{\"type\":\"object\",\"name\":\"BasicTickFormatter\",\"id\":\"p2368\"},\"axis_label\":\"Number of Edges\",\"major_label_policy\":{\"type\":\"object\",\"name\":\"AllLabels\",\"id\":\"p2369\"}}}],\"center\":[{\"type\":\"object\",\"name\":\"Grid\",\"id\":\"p2370\",\"attributes\":{\"axis\":{\"id\":\"p2366\"}}},{\"type\":\"object\",\"name\":\"Grid\",\"id\":\"p2375\",\"attributes\":{\"dimension\":1,\"axis\":{\"id\":\"p2371\"}}}]}}]}};\n",
       "  const render_items = [{\"docid\":\"a7a73ded-403a-4128-b657-e79e46b8551a\",\"roots\":{\"p2355\":\"b9f5f083-b55a-47a3-8fd1-6c48698a91f1\"},\"root_ids\":[\"p2355\"]}];\n",
       "  root.Bokeh.embed.embed_items_notebook(docs_json, render_items);\n",
       "  }\n",
       "  if (root.Bokeh !== undefined) {\n",
       "    embed_document(root);\n",
       "  } else {\n",
       "    let attempts = 0;\n",
       "    const timer = setInterval(function(root) {\n",
       "      if (root.Bokeh !== undefined) {\n",
       "        clearInterval(timer);\n",
       "        embed_document(root);\n",
       "      } else {\n",
       "        attempts++;\n",
       "        if (attempts > 100) {\n",
       "          clearInterval(timer);\n",
       "          console.log(\"Bokeh: ERROR: Unable to run BokehJS code because BokehJS library is missing\");\n",
       "        }\n",
       "      }\n",
       "    }, 10, root)\n",
       "  }\n",
       "})(window);"
      ],
      "application/vnd.bokehjs_exec.v0+json": ""
     },
     "metadata": {
      "application/vnd.bokehjs_exec.v0+json": {
       "id": "p2355"
      }
     },
     "output_type": "display_data"
    }
   ],
   "source": [
    "x = \"Number of Edges\"\n",
    "y = \"Difference (Seconds)\"\n",
    "p = bokeh.plotting.figure(\n",
    "    width=400,\n",
    "    height=300,\n",
    "    x_axis_label=x,\n",
    "    y_axis_label=y,\n",
    ")\n",
    "p.circle(\n",
    "    source=diff,\n",
    "    x=x,\n",
    "    y=y,\n",
    ")\n",
    "bokeh.io.show(p)"
   ]
  },
  {
   "cell_type": "code",
   "execution_count": 38,
   "id": "fa74c785-c973-4c73-9da8-d0e98cd641d0",
   "metadata": {},
   "outputs": [],
   "source": [
    "effects = pd.read_csv('SERGIO25GraphRuntimes.csv')\n",
    "effects = effects.drop(['Average Runtime', 'Unnamed: 0', 'Data'], axis=1)\n",
    "effects = effects.rename({'# Edges': 'Number of Edges', 'Full Runtime': 'Runtime (Seconds)'}, axis=1)\n",
    "gnn = effects[effects['Explainer'] == 'GNN']\n",
    "gnn = gnn.rename({'Runtime (Seconds)': 'GNN Runtime (Seconds)'}, axis=1)\n",
    "gnn = gnn.drop(['Explainer'], axis=1)\n",
    "beta = effects[effects['Explainer'] == 'Beta']\n",
    "beta = beta.rename({'Runtime (Seconds)': 'Beta Runtime (Seconds)'}, axis=1)\n",
    "beta = beta.drop(['Explainer'], axis=1)\n",
    "diff = pd.merge(gnn, beta, how=\"right\", on=[\"# Epochs\",'Number of Edges'])\n",
    "diff['Difference (Seconds)'] = diff['Beta Runtime (Seconds)'] - diff['GNN Runtime (Seconds)']"
   ]
  },
  {
   "cell_type": "code",
   "execution_count": 39,
   "id": "3246fac3-576e-4020-b239-a7d65d22f6f3",
   "metadata": {
    "jupyter": {
     "source_hidden": true
    }
   },
   "outputs": [
    {
     "data": {
      "text/html": [
       "\n",
       "  <div id=\"e2c1bb41-096b-49c5-b06e-2ce1a0835a16\" data-root-id=\"p2405\" style=\"display: contents;\"></div>\n"
      ]
     },
     "metadata": {},
     "output_type": "display_data"
    },
    {
     "data": {
      "application/javascript": [
       "(function(root) {\n",
       "  function embed_document(root) {\n",
       "  const docs_json = {\"38e1defa-152b-41d2-ad62-53c6ad53c2e3\":{\"version\":\"3.3.4\",\"title\":\"Bokeh Application\",\"roots\":[{\"type\":\"object\",\"name\":\"Figure\",\"id\":\"p2405\",\"attributes\":{\"width\":400,\"height\":300,\"x_range\":{\"type\":\"object\",\"name\":\"DataRange1d\",\"id\":\"p2406\"},\"y_range\":{\"type\":\"object\",\"name\":\"DataRange1d\",\"id\":\"p2407\"},\"x_scale\":{\"type\":\"object\",\"name\":\"LinearScale\",\"id\":\"p2414\"},\"y_scale\":{\"type\":\"object\",\"name\":\"LinearScale\",\"id\":\"p2415\"},\"title\":{\"type\":\"object\",\"name\":\"Title\",\"id\":\"p2412\"},\"renderers\":[{\"type\":\"object\",\"name\":\"GlyphRenderer\",\"id\":\"p2446\",\"attributes\":{\"data_source\":{\"type\":\"object\",\"name\":\"ColumnDataSource\",\"id\":\"p2437\",\"attributes\":{\"selected\":{\"type\":\"object\",\"name\":\"Selection\",\"id\":\"p2438\",\"attributes\":{\"indices\":[],\"line_indices\":[]}},\"selection_policy\":{\"type\":\"object\",\"name\":\"UnionRenderers\",\"id\":\"p2439\"},\"data\":{\"type\":\"map\",\"entries\":[[\"index\",{\"type\":\"ndarray\",\"array\":{\"type\":\"bytes\",\"data\":\"AAAAAAIAAAAEAAAABgAAAAgAAAA=\"},\"shape\":[5],\"dtype\":\"int32\",\"order\":\"little\"}],[\"Explainer\",{\"type\":\"ndarray\",\"array\":[\"Beta\",\"Beta\",\"Beta\",\"Beta\",\"Beta\"],\"shape\":[5],\"dtype\":\"object\",\"order\":\"little\"}],[\"# Epochs\",{\"type\":\"ndarray\",\"array\":{\"type\":\"bytes\",\"data\":\"MgAAADIAAAAyAAAAMgAAADIAAAA=\"},\"shape\":[5],\"dtype\":\"int32\",\"order\":\"little\"}],[\"Runtime (Seconds)\",{\"type\":\"ndarray\",\"array\":{\"type\":\"bytes\",\"data\":\"AABAe1qZjEAAADDt22WWQAAAoHBbBJBAAACgGLfXgkAAAMAeEYRwQA==\"},\"shape\":[5],\"dtype\":\"float64\",\"order\":\"little\"}],[\"Number of Edges\",{\"type\":\"ndarray\",\"array\":{\"type\":\"bytes\",\"data\":\"MgAAAGQAAACWAAAAyAAAAPoAAAA=\"},\"shape\":[5],\"dtype\":\"int32\",\"order\":\"little\"}]]}}},\"view\":{\"type\":\"object\",\"name\":\"CDSView\",\"id\":\"p2447\",\"attributes\":{\"filter\":{\"type\":\"object\",\"name\":\"AllIndices\",\"id\":\"p2448\"}}},\"glyph\":{\"type\":\"object\",\"name\":\"Circle\",\"id\":\"p2443\",\"attributes\":{\"x\":{\"type\":\"field\",\"field\":\"Number of Edges\"},\"y\":{\"type\":\"field\",\"field\":\"Runtime (Seconds)\"},\"line_color\":{\"type\":\"value\",\"value\":\"#1f77b4\"},\"fill_color\":{\"type\":\"value\",\"value\":\"#1f77b4\"}}},\"nonselection_glyph\":{\"type\":\"object\",\"name\":\"Circle\",\"id\":\"p2444\",\"attributes\":{\"x\":{\"type\":\"field\",\"field\":\"Number of Edges\"},\"y\":{\"type\":\"field\",\"field\":\"Runtime (Seconds)\"},\"line_color\":{\"type\":\"value\",\"value\":\"#1f77b4\"},\"line_alpha\":{\"type\":\"value\",\"value\":0.1},\"fill_color\":{\"type\":\"value\",\"value\":\"#1f77b4\"},\"fill_alpha\":{\"type\":\"value\",\"value\":0.1},\"hatch_alpha\":{\"type\":\"value\",\"value\":0.1}}},\"muted_glyph\":{\"type\":\"object\",\"name\":\"Circle\",\"id\":\"p2445\",\"attributes\":{\"x\":{\"type\":\"field\",\"field\":\"Number of Edges\"},\"y\":{\"type\":\"field\",\"field\":\"Runtime (Seconds)\"},\"line_color\":{\"type\":\"value\",\"value\":\"#1f77b4\"},\"line_alpha\":{\"type\":\"value\",\"value\":0.2},\"fill_color\":{\"type\":\"value\",\"value\":\"#1f77b4\"},\"fill_alpha\":{\"type\":\"value\",\"value\":0.2},\"hatch_alpha\":{\"type\":\"value\",\"value\":0.2}}}}},{\"type\":\"object\",\"name\":\"GlyphRenderer\",\"id\":\"p2460\",\"attributes\":{\"data_source\":{\"type\":\"object\",\"name\":\"ColumnDataSource\",\"id\":\"p2451\",\"attributes\":{\"selected\":{\"type\":\"object\",\"name\":\"Selection\",\"id\":\"p2452\",\"attributes\":{\"indices\":[],\"line_indices\":[]}},\"selection_policy\":{\"type\":\"object\",\"name\":\"UnionRenderers\",\"id\":\"p2453\"},\"data\":{\"type\":\"map\",\"entries\":[[\"index\",{\"type\":\"ndarray\",\"array\":{\"type\":\"bytes\",\"data\":\"AQAAAAMAAAAFAAAABwAAAAkAAAA=\"},\"shape\":[5],\"dtype\":\"int32\",\"order\":\"little\"}],[\"Explainer\",{\"type\":\"ndarray\",\"array\":[\"GNN\",\"GNN\",\"GNN\",\"GNN\",\"GNN\"],\"shape\":[5],\"dtype\":\"object\",\"order\":\"little\"}],[\"# Epochs\",{\"type\":\"ndarray\",\"array\":{\"type\":\"bytes\",\"data\":\"MgAAADIAAAAyAAAAMgAAADIAAAA=\"},\"shape\":[5],\"dtype\":\"int32\",\"order\":\"little\"}],[\"Runtime (Seconds)\",{\"type\":\"ndarray\",\"array\":{\"type\":\"bytes\",\"data\":\"/////6gs3D8AAACAmpbiPwAAAABvvNE//////53Owz/7////pwi0Pw==\"},\"shape\":[5],\"dtype\":\"float64\",\"order\":\"little\"}],[\"Number of Edges\",{\"type\":\"ndarray\",\"array\":{\"type\":\"bytes\",\"data\":\"MgAAAGQAAACWAAAAyAAAAPoAAAA=\"},\"shape\":[5],\"dtype\":\"int32\",\"order\":\"little\"}]]}}},\"view\":{\"type\":\"object\",\"name\":\"CDSView\",\"id\":\"p2461\",\"attributes\":{\"filter\":{\"type\":\"object\",\"name\":\"AllIndices\",\"id\":\"p2462\"}}},\"glyph\":{\"type\":\"object\",\"name\":\"Circle\",\"id\":\"p2457\",\"attributes\":{\"x\":{\"type\":\"field\",\"field\":\"Number of Edges\"},\"y\":{\"type\":\"field\",\"field\":\"Runtime (Seconds)\"},\"line_color\":{\"type\":\"value\",\"value\":\"orange\"},\"fill_color\":{\"type\":\"value\",\"value\":\"orange\"},\"hatch_color\":{\"type\":\"value\",\"value\":\"orange\"}}},\"nonselection_glyph\":{\"type\":\"object\",\"name\":\"Circle\",\"id\":\"p2458\",\"attributes\":{\"x\":{\"type\":\"field\",\"field\":\"Number of Edges\"},\"y\":{\"type\":\"field\",\"field\":\"Runtime (Seconds)\"},\"line_color\":{\"type\":\"value\",\"value\":\"orange\"},\"line_alpha\":{\"type\":\"value\",\"value\":0.1},\"fill_color\":{\"type\":\"value\",\"value\":\"orange\"},\"fill_alpha\":{\"type\":\"value\",\"value\":0.1},\"hatch_color\":{\"type\":\"value\",\"value\":\"orange\"},\"hatch_alpha\":{\"type\":\"value\",\"value\":0.1}}},\"muted_glyph\":{\"type\":\"object\",\"name\":\"Circle\",\"id\":\"p2459\",\"attributes\":{\"x\":{\"type\":\"field\",\"field\":\"Number of Edges\"},\"y\":{\"type\":\"field\",\"field\":\"Runtime (Seconds)\"},\"line_color\":{\"type\":\"value\",\"value\":\"orange\"},\"line_alpha\":{\"type\":\"value\",\"value\":0.2},\"fill_color\":{\"type\":\"value\",\"value\":\"orange\"},\"fill_alpha\":{\"type\":\"value\",\"value\":0.2},\"hatch_color\":{\"type\":\"value\",\"value\":\"orange\"},\"hatch_alpha\":{\"type\":\"value\",\"value\":0.2}}}}}],\"toolbar\":{\"type\":\"object\",\"name\":\"Toolbar\",\"id\":\"p2413\",\"attributes\":{\"tools\":[{\"type\":\"object\",\"name\":\"PanTool\",\"id\":\"p2426\"},{\"type\":\"object\",\"name\":\"WheelZoomTool\",\"id\":\"p2427\",\"attributes\":{\"renderers\":\"auto\"}},{\"type\":\"object\",\"name\":\"BoxZoomTool\",\"id\":\"p2428\",\"attributes\":{\"overlay\":{\"type\":\"object\",\"name\":\"BoxAnnotation\",\"id\":\"p2429\",\"attributes\":{\"syncable\":false,\"level\":\"overlay\",\"visible\":false,\"left\":{\"type\":\"number\",\"value\":\"nan\"},\"right\":{\"type\":\"number\",\"value\":\"nan\"},\"top\":{\"type\":\"number\",\"value\":\"nan\"},\"bottom\":{\"type\":\"number\",\"value\":\"nan\"},\"left_units\":\"canvas\",\"right_units\":\"canvas\",\"top_units\":\"canvas\",\"bottom_units\":\"canvas\",\"line_color\":\"black\",\"line_alpha\":1.0,\"line_width\":2,\"line_dash\":[4,4],\"fill_color\":\"lightgrey\",\"fill_alpha\":0.5}}}},{\"type\":\"object\",\"name\":\"SaveTool\",\"id\":\"p2434\"},{\"type\":\"object\",\"name\":\"ResetTool\",\"id\":\"p2435\"},{\"type\":\"object\",\"name\":\"HelpTool\",\"id\":\"p2436\"}]}},\"left\":[{\"type\":\"object\",\"name\":\"LinearAxis\",\"id\":\"p2421\",\"attributes\":{\"ticker\":{\"type\":\"object\",\"name\":\"BasicTicker\",\"id\":\"p2422\",\"attributes\":{\"mantissas\":[1,2,5]}},\"formatter\":{\"type\":\"object\",\"name\":\"BasicTickFormatter\",\"id\":\"p2423\"},\"axis_label\":\"Runtime (Seconds)\",\"major_label_policy\":{\"type\":\"object\",\"name\":\"AllLabels\",\"id\":\"p2424\"}}}],\"below\":[{\"type\":\"object\",\"name\":\"LinearAxis\",\"id\":\"p2416\",\"attributes\":{\"ticker\":{\"type\":\"object\",\"name\":\"BasicTicker\",\"id\":\"p2417\",\"attributes\":{\"mantissas\":[1,2,5]}},\"formatter\":{\"type\":\"object\",\"name\":\"BasicTickFormatter\",\"id\":\"p2418\"},\"axis_label\":\"Number of Edges\",\"major_label_policy\":{\"type\":\"object\",\"name\":\"AllLabels\",\"id\":\"p2419\"}}}],\"center\":[{\"type\":\"object\",\"name\":\"Grid\",\"id\":\"p2420\",\"attributes\":{\"axis\":{\"id\":\"p2416\"}}},{\"type\":\"object\",\"name\":\"Grid\",\"id\":\"p2425\",\"attributes\":{\"dimension\":1,\"axis\":{\"id\":\"p2421\"}}},{\"type\":\"object\",\"name\":\"Legend\",\"id\":\"p2449\",\"attributes\":{\"location\":\"top_left\",\"items\":[{\"type\":\"object\",\"name\":\"LegendItem\",\"id\":\"p2450\",\"attributes\":{\"label\":{\"type\":\"value\",\"value\":\"Beta\"},\"renderers\":[{\"id\":\"p2446\"}]}},{\"type\":\"object\",\"name\":\"LegendItem\",\"id\":\"p2463\",\"attributes\":{\"label\":{\"type\":\"value\",\"value\":\"GNN\"},\"renderers\":[{\"id\":\"p2460\"}]}}]}}]}}]}};\n",
       "  const render_items = [{\"docid\":\"38e1defa-152b-41d2-ad62-53c6ad53c2e3\",\"roots\":{\"p2405\":\"e2c1bb41-096b-49c5-b06e-2ce1a0835a16\"},\"root_ids\":[\"p2405\"]}];\n",
       "  root.Bokeh.embed.embed_items_notebook(docs_json, render_items);\n",
       "  }\n",
       "  if (root.Bokeh !== undefined) {\n",
       "    embed_document(root);\n",
       "  } else {\n",
       "    let attempts = 0;\n",
       "    const timer = setInterval(function(root) {\n",
       "      if (root.Bokeh !== undefined) {\n",
       "        clearInterval(timer);\n",
       "        embed_document(root);\n",
       "      } else {\n",
       "        attempts++;\n",
       "        if (attempts > 100) {\n",
       "          clearInterval(timer);\n",
       "          console.log(\"Bokeh: ERROR: Unable to run BokehJS code because BokehJS library is missing\");\n",
       "        }\n",
       "      }\n",
       "    }, 10, root)\n",
       "  }\n",
       "})(window);"
      ],
      "application/vnd.bokehjs_exec.v0+json": ""
     },
     "metadata": {
      "application/vnd.bokehjs_exec.v0+json": {
       "id": "p2405"
      }
     },
     "output_type": "display_data"
    }
   ],
   "source": [
    "x = \"Number of Edges\"\n",
    "y = \"Runtime (Seconds)\"\n",
    "p = bokeh.plotting.figure(\n",
    "    width=400,\n",
    "    height=300,\n",
    "    x_axis_label=x,\n",
    "    y_axis_label=y,\n",
    ")\n",
    "p.circle(\n",
    "    source=effects[effects['Explainer'] == 'Beta'],\n",
    "    x=x,\n",
    "    y=y,\n",
    "    legend_label=\"Beta\",\n",
    ")\n",
    "p.circle(\n",
    "    source=effects[effects['Explainer'] == 'GNN'],\n",
    "    x=x,\n",
    "    y=y,\n",
    "    legend_label=\"GNN\",\n",
    "    color='orange'\n",
    ")\n",
    "p.legend.location = \"top_left\"\n",
    "bokeh.io.show(p)"
   ]
  },
  {
   "cell_type": "code",
   "execution_count": 40,
   "id": "1d036707-8461-4be3-93e2-33b8ba7de9a6",
   "metadata": {
    "jupyter": {
     "source_hidden": true
    }
   },
   "outputs": [
    {
     "data": {
      "text/html": [
       "\n",
       "  <div id=\"c411b2af-4a76-476e-afe1-03112b267315\" data-root-id=\"p2472\" style=\"display: contents;\"></div>\n"
      ]
     },
     "metadata": {},
     "output_type": "display_data"
    },
    {
     "data": {
      "application/javascript": [
       "(function(root) {\n",
       "  function embed_document(root) {\n",
       "  const docs_json = {\"e53da91c-a8c5-47db-aee6-4b2a91fc9e88\":{\"version\":\"3.3.4\",\"title\":\"Bokeh Application\",\"roots\":[{\"type\":\"object\",\"name\":\"Figure\",\"id\":\"p2472\",\"attributes\":{\"width\":400,\"height\":300,\"x_range\":{\"type\":\"object\",\"name\":\"DataRange1d\",\"id\":\"p2473\"},\"y_range\":{\"type\":\"object\",\"name\":\"DataRange1d\",\"id\":\"p2474\"},\"x_scale\":{\"type\":\"object\",\"name\":\"LinearScale\",\"id\":\"p2481\"},\"y_scale\":{\"type\":\"object\",\"name\":\"LinearScale\",\"id\":\"p2482\"},\"title\":{\"type\":\"object\",\"name\":\"Title\",\"id\":\"p2479\"},\"renderers\":[{\"type\":\"object\",\"name\":\"GlyphRenderer\",\"id\":\"p2513\",\"attributes\":{\"data_source\":{\"type\":\"object\",\"name\":\"ColumnDataSource\",\"id\":\"p2504\",\"attributes\":{\"selected\":{\"type\":\"object\",\"name\":\"Selection\",\"id\":\"p2505\",\"attributes\":{\"indices\":[],\"line_indices\":[]}},\"selection_policy\":{\"type\":\"object\",\"name\":\"UnionRenderers\",\"id\":\"p2506\"},\"data\":{\"type\":\"map\",\"entries\":[[\"index\",{\"type\":\"ndarray\",\"array\":{\"type\":\"bytes\",\"data\":\"AAAAAAEAAAACAAAAAwAAAAQAAAA=\"},\"shape\":[5],\"dtype\":\"int32\",\"order\":\"little\"}],[\"# Epochs\",{\"type\":\"ndarray\",\"array\":{\"type\":\"bytes\",\"data\":\"MgAAADIAAAAyAAAAMgAAADIAAAA=\"},\"shape\":[5],\"dtype\":\"int32\",\"order\":\"little\"}],[\"GNN Runtime (Seconds)\",{\"type\":\"ndarray\",\"array\":{\"type\":\"bytes\",\"data\":\"/////6gs3D8AAACAmpbiPwAAAABvvNE//////53Owz/7////pwi0Pw==\"},\"shape\":[5],\"dtype\":\"float64\",\"order\":\"little\"}],[\"Number of Edges\",{\"type\":\"ndarray\",\"array\":{\"type\":\"bytes\",\"data\":\"MgAAAGQAAACWAAAAyAAAAPoAAAA=\"},\"shape\":[5],\"dtype\":\"int32\",\"order\":\"little\"}],[\"Beta Runtime (Seconds)\",{\"type\":\"ndarray\",\"array\":{\"type\":\"bytes\",\"data\":\"AABAe1qZjEAAADDt22WWQAAAoHBbBJBAAACgGLfXgkAAAMAeEYRwQA==\"},\"shape\":[5],\"dtype\":\"float64\",\"order\":\"little\"}],[\"Difference (Seconds)\",{\"type\":\"ndarray\",\"array\":{\"type\":\"bytes\",\"data\":\"AAAg5tSVjEAAAOAZiWOWQAAAsKk/A5BAAADALnrWgkAAAECU0IJwQA==\"},\"shape\":[5],\"dtype\":\"float64\",\"order\":\"little\"}]]}}},\"view\":{\"type\":\"object\",\"name\":\"CDSView\",\"id\":\"p2514\",\"attributes\":{\"filter\":{\"type\":\"object\",\"name\":\"AllIndices\",\"id\":\"p2515\"}}},\"glyph\":{\"type\":\"object\",\"name\":\"Circle\",\"id\":\"p2510\",\"attributes\":{\"x\":{\"type\":\"field\",\"field\":\"Number of Edges\"},\"y\":{\"type\":\"field\",\"field\":\"Difference (Seconds)\"},\"line_color\":{\"type\":\"value\",\"value\":\"#1f77b4\"},\"fill_color\":{\"type\":\"value\",\"value\":\"#1f77b4\"}}},\"nonselection_glyph\":{\"type\":\"object\",\"name\":\"Circle\",\"id\":\"p2511\",\"attributes\":{\"x\":{\"type\":\"field\",\"field\":\"Number of Edges\"},\"y\":{\"type\":\"field\",\"field\":\"Difference (Seconds)\"},\"line_color\":{\"type\":\"value\",\"value\":\"#1f77b4\"},\"line_alpha\":{\"type\":\"value\",\"value\":0.1},\"fill_color\":{\"type\":\"value\",\"value\":\"#1f77b4\"},\"fill_alpha\":{\"type\":\"value\",\"value\":0.1},\"hatch_alpha\":{\"type\":\"value\",\"value\":0.1}}},\"muted_glyph\":{\"type\":\"object\",\"name\":\"Circle\",\"id\":\"p2512\",\"attributes\":{\"x\":{\"type\":\"field\",\"field\":\"Number of Edges\"},\"y\":{\"type\":\"field\",\"field\":\"Difference (Seconds)\"},\"line_color\":{\"type\":\"value\",\"value\":\"#1f77b4\"},\"line_alpha\":{\"type\":\"value\",\"value\":0.2},\"fill_color\":{\"type\":\"value\",\"value\":\"#1f77b4\"},\"fill_alpha\":{\"type\":\"value\",\"value\":0.2},\"hatch_alpha\":{\"type\":\"value\",\"value\":0.2}}}}}],\"toolbar\":{\"type\":\"object\",\"name\":\"Toolbar\",\"id\":\"p2480\",\"attributes\":{\"tools\":[{\"type\":\"object\",\"name\":\"PanTool\",\"id\":\"p2493\"},{\"type\":\"object\",\"name\":\"WheelZoomTool\",\"id\":\"p2494\",\"attributes\":{\"renderers\":\"auto\"}},{\"type\":\"object\",\"name\":\"BoxZoomTool\",\"id\":\"p2495\",\"attributes\":{\"overlay\":{\"type\":\"object\",\"name\":\"BoxAnnotation\",\"id\":\"p2496\",\"attributes\":{\"syncable\":false,\"level\":\"overlay\",\"visible\":false,\"left\":{\"type\":\"number\",\"value\":\"nan\"},\"right\":{\"type\":\"number\",\"value\":\"nan\"},\"top\":{\"type\":\"number\",\"value\":\"nan\"},\"bottom\":{\"type\":\"number\",\"value\":\"nan\"},\"left_units\":\"canvas\",\"right_units\":\"canvas\",\"top_units\":\"canvas\",\"bottom_units\":\"canvas\",\"line_color\":\"black\",\"line_alpha\":1.0,\"line_width\":2,\"line_dash\":[4,4],\"fill_color\":\"lightgrey\",\"fill_alpha\":0.5}}}},{\"type\":\"object\",\"name\":\"SaveTool\",\"id\":\"p2501\"},{\"type\":\"object\",\"name\":\"ResetTool\",\"id\":\"p2502\"},{\"type\":\"object\",\"name\":\"HelpTool\",\"id\":\"p2503\"}]}},\"left\":[{\"type\":\"object\",\"name\":\"LinearAxis\",\"id\":\"p2488\",\"attributes\":{\"ticker\":{\"type\":\"object\",\"name\":\"BasicTicker\",\"id\":\"p2489\",\"attributes\":{\"mantissas\":[1,2,5]}},\"formatter\":{\"type\":\"object\",\"name\":\"BasicTickFormatter\",\"id\":\"p2490\"},\"axis_label\":\"Difference (Seconds)\",\"major_label_policy\":{\"type\":\"object\",\"name\":\"AllLabels\",\"id\":\"p2491\"}}}],\"below\":[{\"type\":\"object\",\"name\":\"LinearAxis\",\"id\":\"p2483\",\"attributes\":{\"ticker\":{\"type\":\"object\",\"name\":\"BasicTicker\",\"id\":\"p2484\",\"attributes\":{\"mantissas\":[1,2,5]}},\"formatter\":{\"type\":\"object\",\"name\":\"BasicTickFormatter\",\"id\":\"p2485\"},\"axis_label\":\"Number of Edges\",\"major_label_policy\":{\"type\":\"object\",\"name\":\"AllLabels\",\"id\":\"p2486\"}}}],\"center\":[{\"type\":\"object\",\"name\":\"Grid\",\"id\":\"p2487\",\"attributes\":{\"axis\":{\"id\":\"p2483\"}}},{\"type\":\"object\",\"name\":\"Grid\",\"id\":\"p2492\",\"attributes\":{\"dimension\":1,\"axis\":{\"id\":\"p2488\"}}}]}}]}};\n",
       "  const render_items = [{\"docid\":\"e53da91c-a8c5-47db-aee6-4b2a91fc9e88\",\"roots\":{\"p2472\":\"c411b2af-4a76-476e-afe1-03112b267315\"},\"root_ids\":[\"p2472\"]}];\n",
       "  root.Bokeh.embed.embed_items_notebook(docs_json, render_items);\n",
       "  }\n",
       "  if (root.Bokeh !== undefined) {\n",
       "    embed_document(root);\n",
       "  } else {\n",
       "    let attempts = 0;\n",
       "    const timer = setInterval(function(root) {\n",
       "      if (root.Bokeh !== undefined) {\n",
       "        clearInterval(timer);\n",
       "        embed_document(root);\n",
       "      } else {\n",
       "        attempts++;\n",
       "        if (attempts > 100) {\n",
       "          clearInterval(timer);\n",
       "          console.log(\"Bokeh: ERROR: Unable to run BokehJS code because BokehJS library is missing\");\n",
       "        }\n",
       "      }\n",
       "    }, 10, root)\n",
       "  }\n",
       "})(window);"
      ],
      "application/vnd.bokehjs_exec.v0+json": ""
     },
     "metadata": {
      "application/vnd.bokehjs_exec.v0+json": {
       "id": "p2472"
      }
     },
     "output_type": "display_data"
    }
   ],
   "source": [
    "x = \"Number of Edges\"\n",
    "y = \"Difference (Seconds)\"\n",
    "p = bokeh.plotting.figure(\n",
    "    width=400,\n",
    "    height=300,\n",
    "    x_axis_label=x,\n",
    "    y_axis_label=y,\n",
    ")\n",
    "p.circle(\n",
    "    source=diff,\n",
    "    x=x,\n",
    "    y=y,\n",
    ")\n",
    "bokeh.io.show(p)"
   ]
  },
  {
   "cell_type": "code",
   "execution_count": 41,
   "id": "480552cd-039c-4269-919e-38aa84757b4d",
   "metadata": {},
   "outputs": [],
   "source": [
    "effects = pd.read_csv('SERGIO50GraphRuntimes.csv')\n",
    "effects = effects.drop(['Average Runtime', 'Unnamed: 0', 'Data'], axis=1)\n",
    "effects = effects.rename({'# Edges': 'Number of Edges', 'Full Runtime': 'Runtime (Seconds)'}, axis=1)\n",
    "gnn = effects[effects['Explainer'] == 'GNN']\n",
    "gnn = gnn.rename({'Runtime (Seconds)': 'GNN Runtime (Seconds)'}, axis=1)\n",
    "gnn = gnn.drop(['Explainer'], axis=1)\n",
    "beta = effects[effects['Explainer'] == 'Beta']\n",
    "beta = beta.rename({'Runtime (Seconds)': 'Beta Runtime (Seconds)'}, axis=1)\n",
    "beta = beta.drop(['Explainer'], axis=1)\n",
    "diff = pd.merge(gnn, beta, how=\"right\", on=[\"# Epochs\",'Number of Edges'])\n",
    "diff['Difference (Seconds)'] = diff['Beta Runtime (Seconds)'] - diff['GNN Runtime (Seconds)']"
   ]
  },
  {
   "cell_type": "code",
   "execution_count": 42,
   "id": "c747d4f9-d5b8-48a7-86f9-d2e809ce94b2",
   "metadata": {
    "jupyter": {
     "source_hidden": true
    }
   },
   "outputs": [
    {
     "data": {
      "text/html": [
       "\n",
       "  <div id=\"f997aa1d-6afe-4c48-8655-88b3d16b0577\" data-root-id=\"p2522\" style=\"display: contents;\"></div>\n"
      ]
     },
     "metadata": {},
     "output_type": "display_data"
    },
    {
     "data": {
      "application/javascript": [
       "(function(root) {\n",
       "  function embed_document(root) {\n",
       "  const docs_json = {\"d23bc71f-dcfa-42bb-a24a-aef0a1d4e945\":{\"version\":\"3.3.4\",\"title\":\"Bokeh Application\",\"roots\":[{\"type\":\"object\",\"name\":\"Figure\",\"id\":\"p2522\",\"attributes\":{\"width\":400,\"height\":300,\"x_range\":{\"type\":\"object\",\"name\":\"DataRange1d\",\"id\":\"p2523\"},\"y_range\":{\"type\":\"object\",\"name\":\"DataRange1d\",\"id\":\"p2524\"},\"x_scale\":{\"type\":\"object\",\"name\":\"LinearScale\",\"id\":\"p2531\"},\"y_scale\":{\"type\":\"object\",\"name\":\"LinearScale\",\"id\":\"p2532\"},\"title\":{\"type\":\"object\",\"name\":\"Title\",\"id\":\"p2529\"},\"renderers\":[{\"type\":\"object\",\"name\":\"GlyphRenderer\",\"id\":\"p2563\",\"attributes\":{\"data_source\":{\"type\":\"object\",\"name\":\"ColumnDataSource\",\"id\":\"p2554\",\"attributes\":{\"selected\":{\"type\":\"object\",\"name\":\"Selection\",\"id\":\"p2555\",\"attributes\":{\"indices\":[],\"line_indices\":[]}},\"selection_policy\":{\"type\":\"object\",\"name\":\"UnionRenderers\",\"id\":\"p2556\"},\"data\":{\"type\":\"map\",\"entries\":[[\"index\",{\"type\":\"ndarray\",\"array\":{\"type\":\"bytes\",\"data\":\"AAAAAAIAAAAEAAAABgAAAAgAAAA=\"},\"shape\":[5],\"dtype\":\"int32\",\"order\":\"little\"}],[\"Explainer\",{\"type\":\"ndarray\",\"array\":[\"Beta\",\"Beta\",\"Beta\",\"Beta\",\"Beta\"],\"shape\":[5],\"dtype\":\"object\",\"order\":\"little\"}],[\"# Epochs\",{\"type\":\"ndarray\",\"array\":{\"type\":\"bytes\",\"data\":\"MgAAADIAAAAyAAAAMgAAADIAAAA=\"},\"shape\":[5],\"dtype\":\"int32\",\"order\":\"little\"}],[\"Runtime (Seconds)\",{\"type\":\"ndarray\",\"array\":{\"type\":\"bytes\",\"data\":\"AQDgqwqqjEAAAABOFoWWQAAAIBgWyY9AAABAhrbggkAAAEBfDGVwQA==\"},\"shape\":[5],\"dtype\":\"float64\",\"order\":\"little\"}],[\"Number of Edges\",{\"type\":\"ndarray\",\"array\":{\"type\":\"bytes\",\"data\":\"MgAAAGQAAACWAAAAyAAAAPoAAAA=\"},\"shape\":[5],\"dtype\":\"int32\",\"order\":\"little\"}]]}}},\"view\":{\"type\":\"object\",\"name\":\"CDSView\",\"id\":\"p2564\",\"attributes\":{\"filter\":{\"type\":\"object\",\"name\":\"AllIndices\",\"id\":\"p2565\"}}},\"glyph\":{\"type\":\"object\",\"name\":\"Circle\",\"id\":\"p2560\",\"attributes\":{\"x\":{\"type\":\"field\",\"field\":\"Number of Edges\"},\"y\":{\"type\":\"field\",\"field\":\"Runtime (Seconds)\"},\"line_color\":{\"type\":\"value\",\"value\":\"#1f77b4\"},\"fill_color\":{\"type\":\"value\",\"value\":\"#1f77b4\"}}},\"nonselection_glyph\":{\"type\":\"object\",\"name\":\"Circle\",\"id\":\"p2561\",\"attributes\":{\"x\":{\"type\":\"field\",\"field\":\"Number of Edges\"},\"y\":{\"type\":\"field\",\"field\":\"Runtime (Seconds)\"},\"line_color\":{\"type\":\"value\",\"value\":\"#1f77b4\"},\"line_alpha\":{\"type\":\"value\",\"value\":0.1},\"fill_color\":{\"type\":\"value\",\"value\":\"#1f77b4\"},\"fill_alpha\":{\"type\":\"value\",\"value\":0.1},\"hatch_alpha\":{\"type\":\"value\",\"value\":0.1}}},\"muted_glyph\":{\"type\":\"object\",\"name\":\"Circle\",\"id\":\"p2562\",\"attributes\":{\"x\":{\"type\":\"field\",\"field\":\"Number of Edges\"},\"y\":{\"type\":\"field\",\"field\":\"Runtime (Seconds)\"},\"line_color\":{\"type\":\"value\",\"value\":\"#1f77b4\"},\"line_alpha\":{\"type\":\"value\",\"value\":0.2},\"fill_color\":{\"type\":\"value\",\"value\":\"#1f77b4\"},\"fill_alpha\":{\"type\":\"value\",\"value\":0.2},\"hatch_alpha\":{\"type\":\"value\",\"value\":0.2}}}}},{\"type\":\"object\",\"name\":\"GlyphRenderer\",\"id\":\"p2577\",\"attributes\":{\"data_source\":{\"type\":\"object\",\"name\":\"ColumnDataSource\",\"id\":\"p2568\",\"attributes\":{\"selected\":{\"type\":\"object\",\"name\":\"Selection\",\"id\":\"p2569\",\"attributes\":{\"indices\":[],\"line_indices\":[]}},\"selection_policy\":{\"type\":\"object\",\"name\":\"UnionRenderers\",\"id\":\"p2570\"},\"data\":{\"type\":\"map\",\"entries\":[[\"index\",{\"type\":\"ndarray\",\"array\":{\"type\":\"bytes\",\"data\":\"AQAAAAMAAAAFAAAABwAAAAkAAAA=\"},\"shape\":[5],\"dtype\":\"int32\",\"order\":\"little\"}],[\"Explainer\",{\"type\":\"ndarray\",\"array\":[\"GNN\",\"GNN\",\"GNN\",\"GNN\",\"GNN\"],\"shape\":[5],\"dtype\":\"object\",\"order\":\"little\"}],[\"# Epochs\",{\"type\":\"ndarray\",\"array\":{\"type\":\"bytes\",\"data\":\"MgAAADIAAAAyAAAAMgAAADIAAAA=\"},\"shape\":[5],\"dtype\":\"int32\",\"order\":\"little\"}],[\"Runtime (Seconds)\",{\"type\":\"ndarray\",\"array\":{\"type\":\"bytes\",\"data\":\"/////+zG2j8AAAAAnsbkP/////8d9tA//////9Fs0D/0////tw+vPw==\"},\"shape\":[5],\"dtype\":\"float64\",\"order\":\"little\"}],[\"Number of Edges\",{\"type\":\"ndarray\",\"array\":{\"type\":\"bytes\",\"data\":\"MgAAAGQAAACWAAAAyAAAAPoAAAA=\"},\"shape\":[5],\"dtype\":\"int32\",\"order\":\"little\"}]]}}},\"view\":{\"type\":\"object\",\"name\":\"CDSView\",\"id\":\"p2578\",\"attributes\":{\"filter\":{\"type\":\"object\",\"name\":\"AllIndices\",\"id\":\"p2579\"}}},\"glyph\":{\"type\":\"object\",\"name\":\"Circle\",\"id\":\"p2574\",\"attributes\":{\"x\":{\"type\":\"field\",\"field\":\"Number of Edges\"},\"y\":{\"type\":\"field\",\"field\":\"Runtime (Seconds)\"},\"line_color\":{\"type\":\"value\",\"value\":\"orange\"},\"fill_color\":{\"type\":\"value\",\"value\":\"orange\"},\"hatch_color\":{\"type\":\"value\",\"value\":\"orange\"}}},\"nonselection_glyph\":{\"type\":\"object\",\"name\":\"Circle\",\"id\":\"p2575\",\"attributes\":{\"x\":{\"type\":\"field\",\"field\":\"Number of Edges\"},\"y\":{\"type\":\"field\",\"field\":\"Runtime (Seconds)\"},\"line_color\":{\"type\":\"value\",\"value\":\"orange\"},\"line_alpha\":{\"type\":\"value\",\"value\":0.1},\"fill_color\":{\"type\":\"value\",\"value\":\"orange\"},\"fill_alpha\":{\"type\":\"value\",\"value\":0.1},\"hatch_color\":{\"type\":\"value\",\"value\":\"orange\"},\"hatch_alpha\":{\"type\":\"value\",\"value\":0.1}}},\"muted_glyph\":{\"type\":\"object\",\"name\":\"Circle\",\"id\":\"p2576\",\"attributes\":{\"x\":{\"type\":\"field\",\"field\":\"Number of Edges\"},\"y\":{\"type\":\"field\",\"field\":\"Runtime (Seconds)\"},\"line_color\":{\"type\":\"value\",\"value\":\"orange\"},\"line_alpha\":{\"type\":\"value\",\"value\":0.2},\"fill_color\":{\"type\":\"value\",\"value\":\"orange\"},\"fill_alpha\":{\"type\":\"value\",\"value\":0.2},\"hatch_color\":{\"type\":\"value\",\"value\":\"orange\"},\"hatch_alpha\":{\"type\":\"value\",\"value\":0.2}}}}}],\"toolbar\":{\"type\":\"object\",\"name\":\"Toolbar\",\"id\":\"p2530\",\"attributes\":{\"tools\":[{\"type\":\"object\",\"name\":\"PanTool\",\"id\":\"p2543\"},{\"type\":\"object\",\"name\":\"WheelZoomTool\",\"id\":\"p2544\",\"attributes\":{\"renderers\":\"auto\"}},{\"type\":\"object\",\"name\":\"BoxZoomTool\",\"id\":\"p2545\",\"attributes\":{\"overlay\":{\"type\":\"object\",\"name\":\"BoxAnnotation\",\"id\":\"p2546\",\"attributes\":{\"syncable\":false,\"level\":\"overlay\",\"visible\":false,\"left\":{\"type\":\"number\",\"value\":\"nan\"},\"right\":{\"type\":\"number\",\"value\":\"nan\"},\"top\":{\"type\":\"number\",\"value\":\"nan\"},\"bottom\":{\"type\":\"number\",\"value\":\"nan\"},\"left_units\":\"canvas\",\"right_units\":\"canvas\",\"top_units\":\"canvas\",\"bottom_units\":\"canvas\",\"line_color\":\"black\",\"line_alpha\":1.0,\"line_width\":2,\"line_dash\":[4,4],\"fill_color\":\"lightgrey\",\"fill_alpha\":0.5}}}},{\"type\":\"object\",\"name\":\"SaveTool\",\"id\":\"p2551\"},{\"type\":\"object\",\"name\":\"ResetTool\",\"id\":\"p2552\"},{\"type\":\"object\",\"name\":\"HelpTool\",\"id\":\"p2553\"}]}},\"left\":[{\"type\":\"object\",\"name\":\"LinearAxis\",\"id\":\"p2538\",\"attributes\":{\"ticker\":{\"type\":\"object\",\"name\":\"BasicTicker\",\"id\":\"p2539\",\"attributes\":{\"mantissas\":[1,2,5]}},\"formatter\":{\"type\":\"object\",\"name\":\"BasicTickFormatter\",\"id\":\"p2540\"},\"axis_label\":\"Runtime (Seconds)\",\"major_label_policy\":{\"type\":\"object\",\"name\":\"AllLabels\",\"id\":\"p2541\"}}}],\"below\":[{\"type\":\"object\",\"name\":\"LinearAxis\",\"id\":\"p2533\",\"attributes\":{\"ticker\":{\"type\":\"object\",\"name\":\"BasicTicker\",\"id\":\"p2534\",\"attributes\":{\"mantissas\":[1,2,5]}},\"formatter\":{\"type\":\"object\",\"name\":\"BasicTickFormatter\",\"id\":\"p2535\"},\"axis_label\":\"Number of Edges\",\"major_label_policy\":{\"type\":\"object\",\"name\":\"AllLabels\",\"id\":\"p2536\"}}}],\"center\":[{\"type\":\"object\",\"name\":\"Grid\",\"id\":\"p2537\",\"attributes\":{\"axis\":{\"id\":\"p2533\"}}},{\"type\":\"object\",\"name\":\"Grid\",\"id\":\"p2542\",\"attributes\":{\"dimension\":1,\"axis\":{\"id\":\"p2538\"}}},{\"type\":\"object\",\"name\":\"Legend\",\"id\":\"p2566\",\"attributes\":{\"location\":\"top_left\",\"items\":[{\"type\":\"object\",\"name\":\"LegendItem\",\"id\":\"p2567\",\"attributes\":{\"label\":{\"type\":\"value\",\"value\":\"Beta\"},\"renderers\":[{\"id\":\"p2563\"}]}},{\"type\":\"object\",\"name\":\"LegendItem\",\"id\":\"p2580\",\"attributes\":{\"label\":{\"type\":\"value\",\"value\":\"GNN\"},\"renderers\":[{\"id\":\"p2577\"}]}}]}}]}}]}};\n",
       "  const render_items = [{\"docid\":\"d23bc71f-dcfa-42bb-a24a-aef0a1d4e945\",\"roots\":{\"p2522\":\"f997aa1d-6afe-4c48-8655-88b3d16b0577\"},\"root_ids\":[\"p2522\"]}];\n",
       "  root.Bokeh.embed.embed_items_notebook(docs_json, render_items);\n",
       "  }\n",
       "  if (root.Bokeh !== undefined) {\n",
       "    embed_document(root);\n",
       "  } else {\n",
       "    let attempts = 0;\n",
       "    const timer = setInterval(function(root) {\n",
       "      if (root.Bokeh !== undefined) {\n",
       "        clearInterval(timer);\n",
       "        embed_document(root);\n",
       "      } else {\n",
       "        attempts++;\n",
       "        if (attempts > 100) {\n",
       "          clearInterval(timer);\n",
       "          console.log(\"Bokeh: ERROR: Unable to run BokehJS code because BokehJS library is missing\");\n",
       "        }\n",
       "      }\n",
       "    }, 10, root)\n",
       "  }\n",
       "})(window);"
      ],
      "application/vnd.bokehjs_exec.v0+json": ""
     },
     "metadata": {
      "application/vnd.bokehjs_exec.v0+json": {
       "id": "p2522"
      }
     },
     "output_type": "display_data"
    }
   ],
   "source": [
    "x = \"Number of Edges\"\n",
    "y = \"Runtime (Seconds)\"\n",
    "p = bokeh.plotting.figure(\n",
    "    width=400,\n",
    "    height=300,\n",
    "    x_axis_label=x,\n",
    "    y_axis_label=y,\n",
    ")\n",
    "p.circle(\n",
    "    source=effects[effects['Explainer'] == 'Beta'],\n",
    "    x=x,\n",
    "    y=y,\n",
    "    legend_label=\"Beta\",\n",
    ")\n",
    "p.circle(\n",
    "    source=effects[effects['Explainer'] == 'GNN'],\n",
    "    x=x,\n",
    "    y=y,\n",
    "    legend_label=\"GNN\",\n",
    "    color='orange'\n",
    ")\n",
    "p.legend.location = \"top_left\"\n",
    "bokeh.io.show(p)"
   ]
  },
  {
   "cell_type": "code",
   "execution_count": 43,
   "id": "c55592c3-701e-42af-8b0c-c48e6afbb345",
   "metadata": {
    "jupyter": {
     "source_hidden": true
    }
   },
   "outputs": [
    {
     "data": {
      "text/html": [
       "\n",
       "  <div id=\"ba2d2276-2cc3-4a3a-8985-54289317d601\" data-root-id=\"p2589\" style=\"display: contents;\"></div>\n"
      ]
     },
     "metadata": {},
     "output_type": "display_data"
    },
    {
     "data": {
      "application/javascript": [
       "(function(root) {\n",
       "  function embed_document(root) {\n",
       "  const docs_json = {\"5382cb60-4b8e-4676-a018-ef4ff6c50afd\":{\"version\":\"3.3.4\",\"title\":\"Bokeh Application\",\"roots\":[{\"type\":\"object\",\"name\":\"Figure\",\"id\":\"p2589\",\"attributes\":{\"width\":400,\"height\":300,\"x_range\":{\"type\":\"object\",\"name\":\"DataRange1d\",\"id\":\"p2590\"},\"y_range\":{\"type\":\"object\",\"name\":\"DataRange1d\",\"id\":\"p2591\"},\"x_scale\":{\"type\":\"object\",\"name\":\"LinearScale\",\"id\":\"p2598\"},\"y_scale\":{\"type\":\"object\",\"name\":\"LinearScale\",\"id\":\"p2599\"},\"title\":{\"type\":\"object\",\"name\":\"Title\",\"id\":\"p2596\"},\"renderers\":[{\"type\":\"object\",\"name\":\"GlyphRenderer\",\"id\":\"p2630\",\"attributes\":{\"data_source\":{\"type\":\"object\",\"name\":\"ColumnDataSource\",\"id\":\"p2621\",\"attributes\":{\"selected\":{\"type\":\"object\",\"name\":\"Selection\",\"id\":\"p2622\",\"attributes\":{\"indices\":[],\"line_indices\":[]}},\"selection_policy\":{\"type\":\"object\",\"name\":\"UnionRenderers\",\"id\":\"p2623\"},\"data\":{\"type\":\"map\",\"entries\":[[\"index\",{\"type\":\"ndarray\",\"array\":{\"type\":\"bytes\",\"data\":\"AAAAAAEAAAACAAAAAwAAAAQAAAA=\"},\"shape\":[5],\"dtype\":\"int32\",\"order\":\"little\"}],[\"# Epochs\",{\"type\":\"ndarray\",\"array\":{\"type\":\"bytes\",\"data\":\"MgAAADIAAAAyAAAAMgAAADIAAAA=\"},\"shape\":[5],\"dtype\":\"int32\",\"order\":\"little\"}],[\"GNN Runtime (Seconds)\",{\"type\":\"ndarray\",\"array\":{\"type\":\"bytes\",\"data\":\"/////+zG2j8AAAAAnsbkP/////8d9tA//////9Fs0D/0////tw+vPw==\"},\"shape\":[5],\"dtype\":\"float64\",\"order\":\"little\"}],[\"Number of Edges\",{\"type\":\"ndarray\",\"array\":{\"type\":\"bytes\",\"data\":\"MgAAAGQAAACWAAAAyAAAAPoAAAA=\"},\"shape\":[5],\"dtype\":\"int32\",\"order\":\"little\"}],[\"Beta Runtime (Seconds)\",{\"type\":\"ndarray\",\"array\":{\"type\":\"bytes\",\"data\":\"AQDgqwqqjEAAAABOFoWWQAAAIBgWyY9AAABAhrbggkAAAEBfDGVwQA==\"},\"shape\":[5],\"dtype\":\"float64\",\"order\":\"little\"}],[\"Difference (Seconds)\",{\"type\":\"ndarray\",\"array\":{\"type\":\"bytes\",\"data\":\"AQBAzrGmjEAAAEB6fYKWQAAAYFT3xo9AAAAA7KjegkAAAIDhE2RwQA==\"},\"shape\":[5],\"dtype\":\"float64\",\"order\":\"little\"}]]}}},\"view\":{\"type\":\"object\",\"name\":\"CDSView\",\"id\":\"p2631\",\"attributes\":{\"filter\":{\"type\":\"object\",\"name\":\"AllIndices\",\"id\":\"p2632\"}}},\"glyph\":{\"type\":\"object\",\"name\":\"Circle\",\"id\":\"p2627\",\"attributes\":{\"x\":{\"type\":\"field\",\"field\":\"Number of Edges\"},\"y\":{\"type\":\"field\",\"field\":\"Difference (Seconds)\"},\"line_color\":{\"type\":\"value\",\"value\":\"#1f77b4\"},\"fill_color\":{\"type\":\"value\",\"value\":\"#1f77b4\"}}},\"nonselection_glyph\":{\"type\":\"object\",\"name\":\"Circle\",\"id\":\"p2628\",\"attributes\":{\"x\":{\"type\":\"field\",\"field\":\"Number of Edges\"},\"y\":{\"type\":\"field\",\"field\":\"Difference (Seconds)\"},\"line_color\":{\"type\":\"value\",\"value\":\"#1f77b4\"},\"line_alpha\":{\"type\":\"value\",\"value\":0.1},\"fill_color\":{\"type\":\"value\",\"value\":\"#1f77b4\"},\"fill_alpha\":{\"type\":\"value\",\"value\":0.1},\"hatch_alpha\":{\"type\":\"value\",\"value\":0.1}}},\"muted_glyph\":{\"type\":\"object\",\"name\":\"Circle\",\"id\":\"p2629\",\"attributes\":{\"x\":{\"type\":\"field\",\"field\":\"Number of Edges\"},\"y\":{\"type\":\"field\",\"field\":\"Difference (Seconds)\"},\"line_color\":{\"type\":\"value\",\"value\":\"#1f77b4\"},\"line_alpha\":{\"type\":\"value\",\"value\":0.2},\"fill_color\":{\"type\":\"value\",\"value\":\"#1f77b4\"},\"fill_alpha\":{\"type\":\"value\",\"value\":0.2},\"hatch_alpha\":{\"type\":\"value\",\"value\":0.2}}}}}],\"toolbar\":{\"type\":\"object\",\"name\":\"Toolbar\",\"id\":\"p2597\",\"attributes\":{\"tools\":[{\"type\":\"object\",\"name\":\"PanTool\",\"id\":\"p2610\"},{\"type\":\"object\",\"name\":\"WheelZoomTool\",\"id\":\"p2611\",\"attributes\":{\"renderers\":\"auto\"}},{\"type\":\"object\",\"name\":\"BoxZoomTool\",\"id\":\"p2612\",\"attributes\":{\"overlay\":{\"type\":\"object\",\"name\":\"BoxAnnotation\",\"id\":\"p2613\",\"attributes\":{\"syncable\":false,\"level\":\"overlay\",\"visible\":false,\"left\":{\"type\":\"number\",\"value\":\"nan\"},\"right\":{\"type\":\"number\",\"value\":\"nan\"},\"top\":{\"type\":\"number\",\"value\":\"nan\"},\"bottom\":{\"type\":\"number\",\"value\":\"nan\"},\"left_units\":\"canvas\",\"right_units\":\"canvas\",\"top_units\":\"canvas\",\"bottom_units\":\"canvas\",\"line_color\":\"black\",\"line_alpha\":1.0,\"line_width\":2,\"line_dash\":[4,4],\"fill_color\":\"lightgrey\",\"fill_alpha\":0.5}}}},{\"type\":\"object\",\"name\":\"SaveTool\",\"id\":\"p2618\"},{\"type\":\"object\",\"name\":\"ResetTool\",\"id\":\"p2619\"},{\"type\":\"object\",\"name\":\"HelpTool\",\"id\":\"p2620\"}]}},\"left\":[{\"type\":\"object\",\"name\":\"LinearAxis\",\"id\":\"p2605\",\"attributes\":{\"ticker\":{\"type\":\"object\",\"name\":\"BasicTicker\",\"id\":\"p2606\",\"attributes\":{\"mantissas\":[1,2,5]}},\"formatter\":{\"type\":\"object\",\"name\":\"BasicTickFormatter\",\"id\":\"p2607\"},\"axis_label\":\"Difference (Seconds)\",\"major_label_policy\":{\"type\":\"object\",\"name\":\"AllLabels\",\"id\":\"p2608\"}}}],\"below\":[{\"type\":\"object\",\"name\":\"LinearAxis\",\"id\":\"p2600\",\"attributes\":{\"ticker\":{\"type\":\"object\",\"name\":\"BasicTicker\",\"id\":\"p2601\",\"attributes\":{\"mantissas\":[1,2,5]}},\"formatter\":{\"type\":\"object\",\"name\":\"BasicTickFormatter\",\"id\":\"p2602\"},\"axis_label\":\"Number of Edges\",\"major_label_policy\":{\"type\":\"object\",\"name\":\"AllLabels\",\"id\":\"p2603\"}}}],\"center\":[{\"type\":\"object\",\"name\":\"Grid\",\"id\":\"p2604\",\"attributes\":{\"axis\":{\"id\":\"p2600\"}}},{\"type\":\"object\",\"name\":\"Grid\",\"id\":\"p2609\",\"attributes\":{\"dimension\":1,\"axis\":{\"id\":\"p2605\"}}}]}}]}};\n",
       "  const render_items = [{\"docid\":\"5382cb60-4b8e-4676-a018-ef4ff6c50afd\",\"roots\":{\"p2589\":\"ba2d2276-2cc3-4a3a-8985-54289317d601\"},\"root_ids\":[\"p2589\"]}];\n",
       "  root.Bokeh.embed.embed_items_notebook(docs_json, render_items);\n",
       "  }\n",
       "  if (root.Bokeh !== undefined) {\n",
       "    embed_document(root);\n",
       "  } else {\n",
       "    let attempts = 0;\n",
       "    const timer = setInterval(function(root) {\n",
       "      if (root.Bokeh !== undefined) {\n",
       "        clearInterval(timer);\n",
       "        embed_document(root);\n",
       "      } else {\n",
       "        attempts++;\n",
       "        if (attempts > 100) {\n",
       "          clearInterval(timer);\n",
       "          console.log(\"Bokeh: ERROR: Unable to run BokehJS code because BokehJS library is missing\");\n",
       "        }\n",
       "      }\n",
       "    }, 10, root)\n",
       "  }\n",
       "})(window);"
      ],
      "application/vnd.bokehjs_exec.v0+json": ""
     },
     "metadata": {
      "application/vnd.bokehjs_exec.v0+json": {
       "id": "p2589"
      }
     },
     "output_type": "display_data"
    }
   ],
   "source": [
    "x = \"Number of Edges\"\n",
    "y = \"Difference (Seconds)\"\n",
    "p = bokeh.plotting.figure(\n",
    "    width=400,\n",
    "    height=300,\n",
    "    x_axis_label=x,\n",
    "    y_axis_label=y,\n",
    ")\n",
    "p.circle(\n",
    "    source=diff,\n",
    "    x=x,\n",
    "    y=y,\n",
    ")\n",
    "bokeh.io.show(p)"
   ]
  },
  {
   "cell_type": "code",
   "execution_count": 44,
   "id": "3ab90d23-421c-4c76-a349-4bb391a00eb0",
   "metadata": {},
   "outputs": [],
   "source": [
    "effects = pd.read_csv('SERGIO75GraphRuntimes.csv')\n",
    "effects = effects.drop(['Average Runtime', 'Unnamed: 0', 'Data'], axis=1)\n",
    "effects = effects.rename({'# Edges': 'Number of Edges', 'Full Runtime': 'Runtime (Seconds)'}, axis=1)\n",
    "gnn = effects[effects['Explainer'] == 'GNN']\n",
    "gnn = gnn.rename({'Runtime (Seconds)': 'GNN Runtime (Seconds)'}, axis=1)\n",
    "gnn = gnn.drop(['Explainer'], axis=1)\n",
    "beta = effects[effects['Explainer'] == 'Beta']\n",
    "beta = beta.rename({'Runtime (Seconds)': 'Beta Runtime (Seconds)'}, axis=1)\n",
    "beta = beta.drop(['Explainer'], axis=1)\n",
    "diff = pd.merge(gnn, beta, how=\"right\", on=[\"# Epochs\",'Number of Edges'])\n",
    "diff['Difference (Seconds)'] = diff['Beta Runtime (Seconds)'] - diff['GNN Runtime (Seconds)']"
   ]
  },
  {
   "cell_type": "code",
   "execution_count": 45,
   "id": "d126073a-f2ad-4064-a958-ebbc59b49027",
   "metadata": {
    "jupyter": {
     "source_hidden": true
    }
   },
   "outputs": [
    {
     "data": {
      "text/html": [
       "\n",
       "  <div id=\"acb160a0-52f2-4f5a-a1f3-b516599154dc\" data-root-id=\"p2639\" style=\"display: contents;\"></div>\n"
      ]
     },
     "metadata": {},
     "output_type": "display_data"
    },
    {
     "data": {
      "application/javascript": [
       "(function(root) {\n",
       "  function embed_document(root) {\n",
       "  const docs_json = {\"ef201d40-89db-4c50-b207-becf8695b40e\":{\"version\":\"3.3.4\",\"title\":\"Bokeh Application\",\"roots\":[{\"type\":\"object\",\"name\":\"Figure\",\"id\":\"p2639\",\"attributes\":{\"width\":400,\"height\":300,\"x_range\":{\"type\":\"object\",\"name\":\"DataRange1d\",\"id\":\"p2640\"},\"y_range\":{\"type\":\"object\",\"name\":\"DataRange1d\",\"id\":\"p2641\"},\"x_scale\":{\"type\":\"object\",\"name\":\"LinearScale\",\"id\":\"p2648\"},\"y_scale\":{\"type\":\"object\",\"name\":\"LinearScale\",\"id\":\"p2649\"},\"title\":{\"type\":\"object\",\"name\":\"Title\",\"id\":\"p2646\"},\"renderers\":[{\"type\":\"object\",\"name\":\"GlyphRenderer\",\"id\":\"p2680\",\"attributes\":{\"data_source\":{\"type\":\"object\",\"name\":\"ColumnDataSource\",\"id\":\"p2671\",\"attributes\":{\"selected\":{\"type\":\"object\",\"name\":\"Selection\",\"id\":\"p2672\",\"attributes\":{\"indices\":[],\"line_indices\":[]}},\"selection_policy\":{\"type\":\"object\",\"name\":\"UnionRenderers\",\"id\":\"p2673\"},\"data\":{\"type\":\"map\",\"entries\":[[\"index\",{\"type\":\"ndarray\",\"array\":{\"type\":\"bytes\",\"data\":\"AAAAAAIAAAAEAAAABgAAAAgAAAA=\"},\"shape\":[5],\"dtype\":\"int32\",\"order\":\"little\"}],[\"Explainer\",{\"type\":\"ndarray\",\"array\":[\"Beta\",\"Beta\",\"Beta\",\"Beta\",\"Beta\"],\"shape\":[5],\"dtype\":\"object\",\"order\":\"little\"}],[\"# Epochs\",{\"type\":\"ndarray\",\"array\":{\"type\":\"bytes\",\"data\":\"MgAAADIAAAAyAAAAMgAAADIAAAA=\"},\"shape\":[5],\"dtype\":\"int32\",\"order\":\"little\"}],[\"Runtime (Seconds)\",{\"type\":\"ndarray\",\"array\":{\"type\":\"bytes\",\"data\":\"AQAgX4qMjEAAAPB1enmWQP//v0uBqI9AAABgw3TWgkAAAEDniopwQA==\"},\"shape\":[5],\"dtype\":\"float64\",\"order\":\"little\"}],[\"Number of Edges\",{\"type\":\"ndarray\",\"array\":{\"type\":\"bytes\",\"data\":\"MgAAAGQAAACWAAAAyAAAAPoAAAA=\"},\"shape\":[5],\"dtype\":\"int32\",\"order\":\"little\"}]]}}},\"view\":{\"type\":\"object\",\"name\":\"CDSView\",\"id\":\"p2681\",\"attributes\":{\"filter\":{\"type\":\"object\",\"name\":\"AllIndices\",\"id\":\"p2682\"}}},\"glyph\":{\"type\":\"object\",\"name\":\"Circle\",\"id\":\"p2677\",\"attributes\":{\"x\":{\"type\":\"field\",\"field\":\"Number of Edges\"},\"y\":{\"type\":\"field\",\"field\":\"Runtime (Seconds)\"},\"line_color\":{\"type\":\"value\",\"value\":\"#1f77b4\"},\"fill_color\":{\"type\":\"value\",\"value\":\"#1f77b4\"}}},\"nonselection_glyph\":{\"type\":\"object\",\"name\":\"Circle\",\"id\":\"p2678\",\"attributes\":{\"x\":{\"type\":\"field\",\"field\":\"Number of Edges\"},\"y\":{\"type\":\"field\",\"field\":\"Runtime (Seconds)\"},\"line_color\":{\"type\":\"value\",\"value\":\"#1f77b4\"},\"line_alpha\":{\"type\":\"value\",\"value\":0.1},\"fill_color\":{\"type\":\"value\",\"value\":\"#1f77b4\"},\"fill_alpha\":{\"type\":\"value\",\"value\":0.1},\"hatch_alpha\":{\"type\":\"value\",\"value\":0.1}}},\"muted_glyph\":{\"type\":\"object\",\"name\":\"Circle\",\"id\":\"p2679\",\"attributes\":{\"x\":{\"type\":\"field\",\"field\":\"Number of Edges\"},\"y\":{\"type\":\"field\",\"field\":\"Runtime (Seconds)\"},\"line_color\":{\"type\":\"value\",\"value\":\"#1f77b4\"},\"line_alpha\":{\"type\":\"value\",\"value\":0.2},\"fill_color\":{\"type\":\"value\",\"value\":\"#1f77b4\"},\"fill_alpha\":{\"type\":\"value\",\"value\":0.2},\"hatch_alpha\":{\"type\":\"value\",\"value\":0.2}}}}},{\"type\":\"object\",\"name\":\"GlyphRenderer\",\"id\":\"p2694\",\"attributes\":{\"data_source\":{\"type\":\"object\",\"name\":\"ColumnDataSource\",\"id\":\"p2685\",\"attributes\":{\"selected\":{\"type\":\"object\",\"name\":\"Selection\",\"id\":\"p2686\",\"attributes\":{\"indices\":[],\"line_indices\":[]}},\"selection_policy\":{\"type\":\"object\",\"name\":\"UnionRenderers\",\"id\":\"p2687\"},\"data\":{\"type\":\"map\",\"entries\":[[\"index\",{\"type\":\"ndarray\",\"array\":{\"type\":\"bytes\",\"data\":\"AQAAAAMAAAAFAAAABwAAAAkAAAA=\"},\"shape\":[5],\"dtype\":\"int32\",\"order\":\"little\"}],[\"Explainer\",{\"type\":\"ndarray\",\"array\":[\"GNN\",\"GNN\",\"GNN\",\"GNN\",\"GNN\"],\"shape\":[5],\"dtype\":\"object\",\"order\":\"little\"}],[\"# Epochs\",{\"type\":\"ndarray\",\"array\":{\"type\":\"bytes\",\"data\":\"MgAAADIAAAAyAAAAMgAAADIAAAA=\"},\"shape\":[5],\"dtype\":\"int32\",\"order\":\"little\"}],[\"Runtime (Seconds)\",{\"type\":\"ndarray\",\"array\":{\"type\":\"bytes\",\"data\":\"/////9oG2z8AAAAA24PhP/3///9fBc8//////59Mwz/9////a9SyPw==\"},\"shape\":[5],\"dtype\":\"float64\",\"order\":\"little\"}],[\"Number of Edges\",{\"type\":\"ndarray\",\"array\":{\"type\":\"bytes\",\"data\":\"MgAAAGQAAACWAAAAyAAAAPoAAAA=\"},\"shape\":[5],\"dtype\":\"int32\",\"order\":\"little\"}]]}}},\"view\":{\"type\":\"object\",\"name\":\"CDSView\",\"id\":\"p2695\",\"attributes\":{\"filter\":{\"type\":\"object\",\"name\":\"AllIndices\",\"id\":\"p2696\"}}},\"glyph\":{\"type\":\"object\",\"name\":\"Circle\",\"id\":\"p2691\",\"attributes\":{\"x\":{\"type\":\"field\",\"field\":\"Number of Edges\"},\"y\":{\"type\":\"field\",\"field\":\"Runtime (Seconds)\"},\"line_color\":{\"type\":\"value\",\"value\":\"orange\"},\"fill_color\":{\"type\":\"value\",\"value\":\"orange\"},\"hatch_color\":{\"type\":\"value\",\"value\":\"orange\"}}},\"nonselection_glyph\":{\"type\":\"object\",\"name\":\"Circle\",\"id\":\"p2692\",\"attributes\":{\"x\":{\"type\":\"field\",\"field\":\"Number of Edges\"},\"y\":{\"type\":\"field\",\"field\":\"Runtime (Seconds)\"},\"line_color\":{\"type\":\"value\",\"value\":\"orange\"},\"line_alpha\":{\"type\":\"value\",\"value\":0.1},\"fill_color\":{\"type\":\"value\",\"value\":\"orange\"},\"fill_alpha\":{\"type\":\"value\",\"value\":0.1},\"hatch_color\":{\"type\":\"value\",\"value\":\"orange\"},\"hatch_alpha\":{\"type\":\"value\",\"value\":0.1}}},\"muted_glyph\":{\"type\":\"object\",\"name\":\"Circle\",\"id\":\"p2693\",\"attributes\":{\"x\":{\"type\":\"field\",\"field\":\"Number of Edges\"},\"y\":{\"type\":\"field\",\"field\":\"Runtime (Seconds)\"},\"line_color\":{\"type\":\"value\",\"value\":\"orange\"},\"line_alpha\":{\"type\":\"value\",\"value\":0.2},\"fill_color\":{\"type\":\"value\",\"value\":\"orange\"},\"fill_alpha\":{\"type\":\"value\",\"value\":0.2},\"hatch_color\":{\"type\":\"value\",\"value\":\"orange\"},\"hatch_alpha\":{\"type\":\"value\",\"value\":0.2}}}}}],\"toolbar\":{\"type\":\"object\",\"name\":\"Toolbar\",\"id\":\"p2647\",\"attributes\":{\"tools\":[{\"type\":\"object\",\"name\":\"PanTool\",\"id\":\"p2660\"},{\"type\":\"object\",\"name\":\"WheelZoomTool\",\"id\":\"p2661\",\"attributes\":{\"renderers\":\"auto\"}},{\"type\":\"object\",\"name\":\"BoxZoomTool\",\"id\":\"p2662\",\"attributes\":{\"overlay\":{\"type\":\"object\",\"name\":\"BoxAnnotation\",\"id\":\"p2663\",\"attributes\":{\"syncable\":false,\"level\":\"overlay\",\"visible\":false,\"left\":{\"type\":\"number\",\"value\":\"nan\"},\"right\":{\"type\":\"number\",\"value\":\"nan\"},\"top\":{\"type\":\"number\",\"value\":\"nan\"},\"bottom\":{\"type\":\"number\",\"value\":\"nan\"},\"left_units\":\"canvas\",\"right_units\":\"canvas\",\"top_units\":\"canvas\",\"bottom_units\":\"canvas\",\"line_color\":\"black\",\"line_alpha\":1.0,\"line_width\":2,\"line_dash\":[4,4],\"fill_color\":\"lightgrey\",\"fill_alpha\":0.5}}}},{\"type\":\"object\",\"name\":\"SaveTool\",\"id\":\"p2668\"},{\"type\":\"object\",\"name\":\"ResetTool\",\"id\":\"p2669\"},{\"type\":\"object\",\"name\":\"HelpTool\",\"id\":\"p2670\"}]}},\"left\":[{\"type\":\"object\",\"name\":\"LinearAxis\",\"id\":\"p2655\",\"attributes\":{\"ticker\":{\"type\":\"object\",\"name\":\"BasicTicker\",\"id\":\"p2656\",\"attributes\":{\"mantissas\":[1,2,5]}},\"formatter\":{\"type\":\"object\",\"name\":\"BasicTickFormatter\",\"id\":\"p2657\"},\"axis_label\":\"Runtime (Seconds)\",\"major_label_policy\":{\"type\":\"object\",\"name\":\"AllLabels\",\"id\":\"p2658\"}}}],\"below\":[{\"type\":\"object\",\"name\":\"LinearAxis\",\"id\":\"p2650\",\"attributes\":{\"ticker\":{\"type\":\"object\",\"name\":\"BasicTicker\",\"id\":\"p2651\",\"attributes\":{\"mantissas\":[1,2,5]}},\"formatter\":{\"type\":\"object\",\"name\":\"BasicTickFormatter\",\"id\":\"p2652\"},\"axis_label\":\"Number of Edges\",\"major_label_policy\":{\"type\":\"object\",\"name\":\"AllLabels\",\"id\":\"p2653\"}}}],\"center\":[{\"type\":\"object\",\"name\":\"Grid\",\"id\":\"p2654\",\"attributes\":{\"axis\":{\"id\":\"p2650\"}}},{\"type\":\"object\",\"name\":\"Grid\",\"id\":\"p2659\",\"attributes\":{\"dimension\":1,\"axis\":{\"id\":\"p2655\"}}},{\"type\":\"object\",\"name\":\"Legend\",\"id\":\"p2683\",\"attributes\":{\"location\":\"top_left\",\"items\":[{\"type\":\"object\",\"name\":\"LegendItem\",\"id\":\"p2684\",\"attributes\":{\"label\":{\"type\":\"value\",\"value\":\"Beta\"},\"renderers\":[{\"id\":\"p2680\"}]}},{\"type\":\"object\",\"name\":\"LegendItem\",\"id\":\"p2697\",\"attributes\":{\"label\":{\"type\":\"value\",\"value\":\"GNN\"},\"renderers\":[{\"id\":\"p2694\"}]}}]}}]}}]}};\n",
       "  const render_items = [{\"docid\":\"ef201d40-89db-4c50-b207-becf8695b40e\",\"roots\":{\"p2639\":\"acb160a0-52f2-4f5a-a1f3-b516599154dc\"},\"root_ids\":[\"p2639\"]}];\n",
       "  root.Bokeh.embed.embed_items_notebook(docs_json, render_items);\n",
       "  }\n",
       "  if (root.Bokeh !== undefined) {\n",
       "    embed_document(root);\n",
       "  } else {\n",
       "    let attempts = 0;\n",
       "    const timer = setInterval(function(root) {\n",
       "      if (root.Bokeh !== undefined) {\n",
       "        clearInterval(timer);\n",
       "        embed_document(root);\n",
       "      } else {\n",
       "        attempts++;\n",
       "        if (attempts > 100) {\n",
       "          clearInterval(timer);\n",
       "          console.log(\"Bokeh: ERROR: Unable to run BokehJS code because BokehJS library is missing\");\n",
       "        }\n",
       "      }\n",
       "    }, 10, root)\n",
       "  }\n",
       "})(window);"
      ],
      "application/vnd.bokehjs_exec.v0+json": ""
     },
     "metadata": {
      "application/vnd.bokehjs_exec.v0+json": {
       "id": "p2639"
      }
     },
     "output_type": "display_data"
    }
   ],
   "source": [
    "x = \"Number of Edges\"\n",
    "y = \"Runtime (Seconds)\"\n",
    "p = bokeh.plotting.figure(\n",
    "    width=400,\n",
    "    height=300,\n",
    "    x_axis_label=x,\n",
    "    y_axis_label=y,\n",
    ")\n",
    "p.circle(\n",
    "    source=effects[effects['Explainer'] == 'Beta'],\n",
    "    x=x,\n",
    "    y=y,\n",
    "    legend_label=\"Beta\",\n",
    ")\n",
    "p.circle(\n",
    "    source=effects[effects['Explainer'] == 'GNN'],\n",
    "    x=x,\n",
    "    y=y,\n",
    "    legend_label=\"GNN\",\n",
    "    color='orange'\n",
    ")\n",
    "p.legend.location = \"top_left\"\n",
    "bokeh.io.show(p)"
   ]
  },
  {
   "cell_type": "code",
   "execution_count": 46,
   "id": "f378e029-b7c1-4524-8189-c7adaf32765f",
   "metadata": {
    "jupyter": {
     "source_hidden": true
    }
   },
   "outputs": [
    {
     "data": {
      "text/html": [
       "\n",
       "  <div id=\"f372e48e-63ea-407a-8ace-80a0925afcdd\" data-root-id=\"p2706\" style=\"display: contents;\"></div>\n"
      ]
     },
     "metadata": {},
     "output_type": "display_data"
    },
    {
     "data": {
      "application/javascript": [
       "(function(root) {\n",
       "  function embed_document(root) {\n",
       "  const docs_json = {\"f270a895-a5bb-453b-8c8c-b474bb058186\":{\"version\":\"3.3.4\",\"title\":\"Bokeh Application\",\"roots\":[{\"type\":\"object\",\"name\":\"Figure\",\"id\":\"p2706\",\"attributes\":{\"width\":400,\"height\":300,\"x_range\":{\"type\":\"object\",\"name\":\"DataRange1d\",\"id\":\"p2707\"},\"y_range\":{\"type\":\"object\",\"name\":\"DataRange1d\",\"id\":\"p2708\"},\"x_scale\":{\"type\":\"object\",\"name\":\"LinearScale\",\"id\":\"p2715\"},\"y_scale\":{\"type\":\"object\",\"name\":\"LinearScale\",\"id\":\"p2716\"},\"title\":{\"type\":\"object\",\"name\":\"Title\",\"id\":\"p2713\"},\"renderers\":[{\"type\":\"object\",\"name\":\"GlyphRenderer\",\"id\":\"p2747\",\"attributes\":{\"data_source\":{\"type\":\"object\",\"name\":\"ColumnDataSource\",\"id\":\"p2738\",\"attributes\":{\"selected\":{\"type\":\"object\",\"name\":\"Selection\",\"id\":\"p2739\",\"attributes\":{\"indices\":[],\"line_indices\":[]}},\"selection_policy\":{\"type\":\"object\",\"name\":\"UnionRenderers\",\"id\":\"p2740\"},\"data\":{\"type\":\"map\",\"entries\":[[\"index\",{\"type\":\"ndarray\",\"array\":{\"type\":\"bytes\",\"data\":\"AAAAAAEAAAACAAAAAwAAAAQAAAA=\"},\"shape\":[5],\"dtype\":\"int32\",\"order\":\"little\"}],[\"# Epochs\",{\"type\":\"ndarray\",\"array\":{\"type\":\"bytes\",\"data\":\"MgAAADIAAAAyAAAAMgAAADIAAAA=\"},\"shape\":[5],\"dtype\":\"int32\",\"order\":\"little\"}],[\"GNN Runtime (Seconds)\",{\"type\":\"ndarray\",\"array\":{\"type\":\"bytes\",\"data\":\"/////9oG2z8AAAAA24PhP/3///9fBc8//////59Mwz/9////a9SyPw==\"},\"shape\":[5],\"dtype\":\"float64\",\"order\":\"little\"}],[\"Number of Edges\",{\"type\":\"ndarray\",\"array\":{\"type\":\"bytes\",\"data\":\"MgAAAGQAAACWAAAAyAAAAPoAAAA=\"},\"shape\":[5],\"dtype\":\"int32\",\"order\":\"little\"}],[\"Beta Runtime (Seconds)\",{\"type\":\"ndarray\",\"array\":{\"type\":\"bytes\",\"data\":\"AQAgX4qMjEAAAPB1enmWQP//v0uBqI9AAABgw3TWgkAAAEDniopwQA==\"},\"shape\":[5],\"dtype\":\"float64\",\"order\":\"little\"}],[\"Difference (Seconds)\",{\"type\":\"ndarray\",\"array\":{\"type\":\"bytes\",\"data\":\"AQDAgymJjEAAAJD6SXeWQP//v/WQpo9AAABg+T/VgkAAAICgXYlwQA==\"},\"shape\":[5],\"dtype\":\"float64\",\"order\":\"little\"}]]}}},\"view\":{\"type\":\"object\",\"name\":\"CDSView\",\"id\":\"p2748\",\"attributes\":{\"filter\":{\"type\":\"object\",\"name\":\"AllIndices\",\"id\":\"p2749\"}}},\"glyph\":{\"type\":\"object\",\"name\":\"Circle\",\"id\":\"p2744\",\"attributes\":{\"x\":{\"type\":\"field\",\"field\":\"Number of Edges\"},\"y\":{\"type\":\"field\",\"field\":\"Difference (Seconds)\"},\"line_color\":{\"type\":\"value\",\"value\":\"#1f77b4\"},\"fill_color\":{\"type\":\"value\",\"value\":\"#1f77b4\"}}},\"nonselection_glyph\":{\"type\":\"object\",\"name\":\"Circle\",\"id\":\"p2745\",\"attributes\":{\"x\":{\"type\":\"field\",\"field\":\"Number of Edges\"},\"y\":{\"type\":\"field\",\"field\":\"Difference (Seconds)\"},\"line_color\":{\"type\":\"value\",\"value\":\"#1f77b4\"},\"line_alpha\":{\"type\":\"value\",\"value\":0.1},\"fill_color\":{\"type\":\"value\",\"value\":\"#1f77b4\"},\"fill_alpha\":{\"type\":\"value\",\"value\":0.1},\"hatch_alpha\":{\"type\":\"value\",\"value\":0.1}}},\"muted_glyph\":{\"type\":\"object\",\"name\":\"Circle\",\"id\":\"p2746\",\"attributes\":{\"x\":{\"type\":\"field\",\"field\":\"Number of Edges\"},\"y\":{\"type\":\"field\",\"field\":\"Difference (Seconds)\"},\"line_color\":{\"type\":\"value\",\"value\":\"#1f77b4\"},\"line_alpha\":{\"type\":\"value\",\"value\":0.2},\"fill_color\":{\"type\":\"value\",\"value\":\"#1f77b4\"},\"fill_alpha\":{\"type\":\"value\",\"value\":0.2},\"hatch_alpha\":{\"type\":\"value\",\"value\":0.2}}}}}],\"toolbar\":{\"type\":\"object\",\"name\":\"Toolbar\",\"id\":\"p2714\",\"attributes\":{\"tools\":[{\"type\":\"object\",\"name\":\"PanTool\",\"id\":\"p2727\"},{\"type\":\"object\",\"name\":\"WheelZoomTool\",\"id\":\"p2728\",\"attributes\":{\"renderers\":\"auto\"}},{\"type\":\"object\",\"name\":\"BoxZoomTool\",\"id\":\"p2729\",\"attributes\":{\"overlay\":{\"type\":\"object\",\"name\":\"BoxAnnotation\",\"id\":\"p2730\",\"attributes\":{\"syncable\":false,\"level\":\"overlay\",\"visible\":false,\"left\":{\"type\":\"number\",\"value\":\"nan\"},\"right\":{\"type\":\"number\",\"value\":\"nan\"},\"top\":{\"type\":\"number\",\"value\":\"nan\"},\"bottom\":{\"type\":\"number\",\"value\":\"nan\"},\"left_units\":\"canvas\",\"right_units\":\"canvas\",\"top_units\":\"canvas\",\"bottom_units\":\"canvas\",\"line_color\":\"black\",\"line_alpha\":1.0,\"line_width\":2,\"line_dash\":[4,4],\"fill_color\":\"lightgrey\",\"fill_alpha\":0.5}}}},{\"type\":\"object\",\"name\":\"SaveTool\",\"id\":\"p2735\"},{\"type\":\"object\",\"name\":\"ResetTool\",\"id\":\"p2736\"},{\"type\":\"object\",\"name\":\"HelpTool\",\"id\":\"p2737\"}]}},\"left\":[{\"type\":\"object\",\"name\":\"LinearAxis\",\"id\":\"p2722\",\"attributes\":{\"ticker\":{\"type\":\"object\",\"name\":\"BasicTicker\",\"id\":\"p2723\",\"attributes\":{\"mantissas\":[1,2,5]}},\"formatter\":{\"type\":\"object\",\"name\":\"BasicTickFormatter\",\"id\":\"p2724\"},\"axis_label\":\"Difference (Seconds)\",\"major_label_policy\":{\"type\":\"object\",\"name\":\"AllLabels\",\"id\":\"p2725\"}}}],\"below\":[{\"type\":\"object\",\"name\":\"LinearAxis\",\"id\":\"p2717\",\"attributes\":{\"ticker\":{\"type\":\"object\",\"name\":\"BasicTicker\",\"id\":\"p2718\",\"attributes\":{\"mantissas\":[1,2,5]}},\"formatter\":{\"type\":\"object\",\"name\":\"BasicTickFormatter\",\"id\":\"p2719\"},\"axis_label\":\"Number of Edges\",\"major_label_policy\":{\"type\":\"object\",\"name\":\"AllLabels\",\"id\":\"p2720\"}}}],\"center\":[{\"type\":\"object\",\"name\":\"Grid\",\"id\":\"p2721\",\"attributes\":{\"axis\":{\"id\":\"p2717\"}}},{\"type\":\"object\",\"name\":\"Grid\",\"id\":\"p2726\",\"attributes\":{\"dimension\":1,\"axis\":{\"id\":\"p2722\"}}}]}}]}};\n",
       "  const render_items = [{\"docid\":\"f270a895-a5bb-453b-8c8c-b474bb058186\",\"roots\":{\"p2706\":\"f372e48e-63ea-407a-8ace-80a0925afcdd\"},\"root_ids\":[\"p2706\"]}];\n",
       "  root.Bokeh.embed.embed_items_notebook(docs_json, render_items);\n",
       "  }\n",
       "  if (root.Bokeh !== undefined) {\n",
       "    embed_document(root);\n",
       "  } else {\n",
       "    let attempts = 0;\n",
       "    const timer = setInterval(function(root) {\n",
       "      if (root.Bokeh !== undefined) {\n",
       "        clearInterval(timer);\n",
       "        embed_document(root);\n",
       "      } else {\n",
       "        attempts++;\n",
       "        if (attempts > 100) {\n",
       "          clearInterval(timer);\n",
       "          console.log(\"Bokeh: ERROR: Unable to run BokehJS code because BokehJS library is missing\");\n",
       "        }\n",
       "      }\n",
       "    }, 10, root)\n",
       "  }\n",
       "})(window);"
      ],
      "application/vnd.bokehjs_exec.v0+json": ""
     },
     "metadata": {
      "application/vnd.bokehjs_exec.v0+json": {
       "id": "p2706"
      }
     },
     "output_type": "display_data"
    }
   ],
   "source": [
    "x = \"Number of Edges\"\n",
    "y = \"Difference (Seconds)\"\n",
    "p = bokeh.plotting.figure(\n",
    "    width=400,\n",
    "    height=300,\n",
    "    x_axis_label=x,\n",
    "    y_axis_label=y,\n",
    ")\n",
    "p.circle(\n",
    "    source=diff,\n",
    "    x=x,\n",
    "    y=y,\n",
    ")\n",
    "bokeh.io.show(p)"
   ]
  },
  {
   "cell_type": "code",
   "execution_count": 47,
   "id": "5c106517-00cd-40f4-ae83-d3e27dc7b99c",
   "metadata": {},
   "outputs": [],
   "source": [
    "effects = pd.read_csv('SERGIO25BatchGraphRuntimes.csv')\n",
    "effects = effects.drop(['Average Runtime', 'Unnamed: 0', 'Data'], axis=1)\n",
    "effects = effects.rename({'# Edges': 'Number of Edges', 'Full Runtime': 'Runtime (Seconds)'}, axis=1)\n",
    "gnn = effects[effects['Explainer'] == 'GNN']\n",
    "gnn = gnn.rename({'Runtime (Seconds)': 'GNN Runtime (Seconds)'}, axis=1)\n",
    "gnn = gnn.drop(['Explainer'], axis=1)\n",
    "beta = effects[effects['Explainer'] == 'Beta']\n",
    "beta = beta.rename({'Runtime (Seconds)': 'Beta Runtime (Seconds)'}, axis=1)\n",
    "beta = beta.drop(['Explainer'], axis=1)\n",
    "diff = pd.merge(gnn, beta, how=\"right\", on=[\"# Epochs\",'Number of Edges'])\n",
    "diff['Difference (Seconds)'] = diff['Beta Runtime (Seconds)'] - diff['GNN Runtime (Seconds)']"
   ]
  },
  {
   "cell_type": "code",
   "execution_count": 48,
   "id": "cb882868-2f43-4459-be4f-1882547b81c0",
   "metadata": {},
   "outputs": [
    {
     "data": {
      "text/html": [
       "\n",
       "  <div id=\"d8747ace-d6b7-428f-b8d6-c75d9ff52565\" data-root-id=\"p2756\" style=\"display: contents;\"></div>\n"
      ]
     },
     "metadata": {},
     "output_type": "display_data"
    },
    {
     "data": {
      "application/javascript": [
       "(function(root) {\n",
       "  function embed_document(root) {\n",
       "  const docs_json = {\"77653a7d-c67c-4a02-8ad7-a9ef8f195224\":{\"version\":\"3.3.4\",\"title\":\"Bokeh Application\",\"roots\":[{\"type\":\"object\",\"name\":\"Figure\",\"id\":\"p2756\",\"attributes\":{\"width\":400,\"height\":300,\"x_range\":{\"type\":\"object\",\"name\":\"DataRange1d\",\"id\":\"p2757\"},\"y_range\":{\"type\":\"object\",\"name\":\"DataRange1d\",\"id\":\"p2758\"},\"x_scale\":{\"type\":\"object\",\"name\":\"LinearScale\",\"id\":\"p2765\"},\"y_scale\":{\"type\":\"object\",\"name\":\"LinearScale\",\"id\":\"p2766\"},\"title\":{\"type\":\"object\",\"name\":\"Title\",\"id\":\"p2763\"},\"renderers\":[{\"type\":\"object\",\"name\":\"GlyphRenderer\",\"id\":\"p2797\",\"attributes\":{\"data_source\":{\"type\":\"object\",\"name\":\"ColumnDataSource\",\"id\":\"p2788\",\"attributes\":{\"selected\":{\"type\":\"object\",\"name\":\"Selection\",\"id\":\"p2789\",\"attributes\":{\"indices\":[],\"line_indices\":[]}},\"selection_policy\":{\"type\":\"object\",\"name\":\"UnionRenderers\",\"id\":\"p2790\"},\"data\":{\"type\":\"map\",\"entries\":[[\"index\",{\"type\":\"ndarray\",\"array\":{\"type\":\"bytes\",\"data\":\"AAAAAAIAAAAEAAAABgAAAAgAAAAKAAAADAAAAA4AAAAQAAAAEgAAABQAAAAWAAAAGAAAABoAAAAcAAAAHgAAACAAAAAiAAAAJAAAACYAAAA=\"},\"shape\":[20],\"dtype\":\"int32\",\"order\":\"little\"}],[\"Explainer\",{\"type\":\"ndarray\",\"array\":[\"Beta\",\"Beta\",\"Beta\",\"Beta\",\"Beta\",\"Beta\",\"Beta\",\"Beta\",\"Beta\",\"Beta\",\"Beta\",\"Beta\",\"Beta\",\"Beta\",\"Beta\",\"Beta\",\"Beta\",\"Beta\",\"Beta\",\"Beta\"],\"shape\":[20],\"dtype\":\"object\",\"order\":\"little\"}],[\"# Epochs\",{\"type\":\"ndarray\",\"array\":{\"type\":\"bytes\",\"data\":\"MgAAADIAAAAyAAAAMgAAADIAAAAyAAAAMgAAADIAAAAyAAAAMgAAADIAAAAyAAAAMgAAADIAAAAyAAAAMgAAADIAAAAyAAAAMgAAADIAAAA=\"},\"shape\":[20],\"dtype\":\"int32\",\"order\":\"little\"}],[\"Runtime (Seconds)\",{\"type\":\"ndarray\",\"array\":{\"type\":\"bytes\",\"data\":\"AACA/aPLe0AAAAApu7ZdQAAAAJdij19AAAAAde+YYED///8boH1YQAAAAL65FFxAAAAA7aC8X0AAAIAOGBZgQAAAAHinImBAAAAAUEJqY0AAAAAUIcFkQAAAgJwxTWZAAQCAVnKKb0AAAICuCddrQAEAAOnB9GhAAAAAqtISY0AAAADOM2dhQAAAADtP1V5AAQAApiItX0AAAAC0SLFZQA==\"},\"shape\":[20],\"dtype\":\"float64\",\"order\":\"little\"}],[\"Number of Edges\",{\"type\":\"ndarray\",\"array\":{\"type\":\"bytes\",\"data\":\"MgAAAGQAAACWAAAAyAAAAPoAAAAsAQAAXgEAAJABAADCAQAA9AEAACYCAABYAgAAigIAALwCAADuAgAAIAMAAFIDAACEAwAAtgMAAOgDAAA=\"},\"shape\":[20],\"dtype\":\"int32\",\"order\":\"little\"}]]}}},\"view\":{\"type\":\"object\",\"name\":\"CDSView\",\"id\":\"p2798\",\"attributes\":{\"filter\":{\"type\":\"object\",\"name\":\"AllIndices\",\"id\":\"p2799\"}}},\"glyph\":{\"type\":\"object\",\"name\":\"Circle\",\"id\":\"p2794\",\"attributes\":{\"x\":{\"type\":\"field\",\"field\":\"Number of Edges\"},\"y\":{\"type\":\"field\",\"field\":\"Runtime (Seconds)\"},\"line_color\":{\"type\":\"value\",\"value\":\"#1f77b4\"},\"fill_color\":{\"type\":\"value\",\"value\":\"#1f77b4\"}}},\"nonselection_glyph\":{\"type\":\"object\",\"name\":\"Circle\",\"id\":\"p2795\",\"attributes\":{\"x\":{\"type\":\"field\",\"field\":\"Number of Edges\"},\"y\":{\"type\":\"field\",\"field\":\"Runtime (Seconds)\"},\"line_color\":{\"type\":\"value\",\"value\":\"#1f77b4\"},\"line_alpha\":{\"type\":\"value\",\"value\":0.1},\"fill_color\":{\"type\":\"value\",\"value\":\"#1f77b4\"},\"fill_alpha\":{\"type\":\"value\",\"value\":0.1},\"hatch_alpha\":{\"type\":\"value\",\"value\":0.1}}},\"muted_glyph\":{\"type\":\"object\",\"name\":\"Circle\",\"id\":\"p2796\",\"attributes\":{\"x\":{\"type\":\"field\",\"field\":\"Number of Edges\"},\"y\":{\"type\":\"field\",\"field\":\"Runtime (Seconds)\"},\"line_color\":{\"type\":\"value\",\"value\":\"#1f77b4\"},\"line_alpha\":{\"type\":\"value\",\"value\":0.2},\"fill_color\":{\"type\":\"value\",\"value\":\"#1f77b4\"},\"fill_alpha\":{\"type\":\"value\",\"value\":0.2},\"hatch_alpha\":{\"type\":\"value\",\"value\":0.2}}}}},{\"type\":\"object\",\"name\":\"GlyphRenderer\",\"id\":\"p2811\",\"attributes\":{\"data_source\":{\"type\":\"object\",\"name\":\"ColumnDataSource\",\"id\":\"p2802\",\"attributes\":{\"selected\":{\"type\":\"object\",\"name\":\"Selection\",\"id\":\"p2803\",\"attributes\":{\"indices\":[],\"line_indices\":[]}},\"selection_policy\":{\"type\":\"object\",\"name\":\"UnionRenderers\",\"id\":\"p2804\"},\"data\":{\"type\":\"map\",\"entries\":[[\"index\",{\"type\":\"ndarray\",\"array\":{\"type\":\"bytes\",\"data\":\"AQAAAAMAAAAFAAAABwAAAAkAAAALAAAADQAAAA8AAAARAAAAEwAAABUAAAAXAAAAGQAAABsAAAAdAAAAHwAAACEAAAAjAAAAJQAAACcAAAA=\"},\"shape\":[20],\"dtype\":\"int32\",\"order\":\"little\"}],[\"Explainer\",{\"type\":\"ndarray\",\"array\":[\"GNN\",\"GNN\",\"GNN\",\"GNN\",\"GNN\",\"GNN\",\"GNN\",\"GNN\",\"GNN\",\"GNN\",\"GNN\",\"GNN\",\"GNN\",\"GNN\",\"GNN\",\"GNN\",\"GNN\",\"GNN\",\"GNN\",\"GNN\"],\"shape\":[20],\"dtype\":\"object\",\"order\":\"little\"}],[\"# Epochs\",{\"type\":\"ndarray\",\"array\":{\"type\":\"bytes\",\"data\":\"MgAAADIAAAAyAAAAMgAAADIAAAAyAAAAMgAAADIAAAAyAAAAMgAAADIAAAAyAAAAMgAAADIAAAAyAAAAMgAAADIAAAAyAAAAMgAAADIAAAA=\"},\"shape\":[20],\"dtype\":\"int32\",\"order\":\"little\"}],[\"Runtime (Seconds)\",{\"type\":\"ndarray\",\"array\":{\"type\":\"bytes\",\"data\":\"AAAAoKWlAED/////YXjRP/////8j4NA//////5ju2D//////FyvKPwAAAAA8+9k//////+DJ0D8AAAAAwC/UPwAAAAD+zNM/AAAAAPWu2z8AAAAARmzaPwAAAAA8z+A/AAAAADKd1z8AAAAA9KLiPwAAAAB0utQ/AAAAANAp1T//////3dHSPwAAAABDF9Q/AAAAAHwzyj8AAAAAEAvGPw==\"},\"shape\":[20],\"dtype\":\"float64\",\"order\":\"little\"}],[\"Number of Edges\",{\"type\":\"ndarray\",\"array\":{\"type\":\"bytes\",\"data\":\"MgAAAGQAAACWAAAAyAAAAPoAAAAsAQAAXgEAAJABAADCAQAA9AEAACYCAABYAgAAigIAALwCAADuAgAAIAMAAFIDAACEAwAAtgMAAOgDAAA=\"},\"shape\":[20],\"dtype\":\"int32\",\"order\":\"little\"}]]}}},\"view\":{\"type\":\"object\",\"name\":\"CDSView\",\"id\":\"p2812\",\"attributes\":{\"filter\":{\"type\":\"object\",\"name\":\"AllIndices\",\"id\":\"p2813\"}}},\"glyph\":{\"type\":\"object\",\"name\":\"Circle\",\"id\":\"p2808\",\"attributes\":{\"x\":{\"type\":\"field\",\"field\":\"Number of Edges\"},\"y\":{\"type\":\"field\",\"field\":\"Runtime (Seconds)\"},\"line_color\":{\"type\":\"value\",\"value\":\"orange\"},\"fill_color\":{\"type\":\"value\",\"value\":\"orange\"},\"hatch_color\":{\"type\":\"value\",\"value\":\"orange\"}}},\"nonselection_glyph\":{\"type\":\"object\",\"name\":\"Circle\",\"id\":\"p2809\",\"attributes\":{\"x\":{\"type\":\"field\",\"field\":\"Number of Edges\"},\"y\":{\"type\":\"field\",\"field\":\"Runtime (Seconds)\"},\"line_color\":{\"type\":\"value\",\"value\":\"orange\"},\"line_alpha\":{\"type\":\"value\",\"value\":0.1},\"fill_color\":{\"type\":\"value\",\"value\":\"orange\"},\"fill_alpha\":{\"type\":\"value\",\"value\":0.1},\"hatch_color\":{\"type\":\"value\",\"value\":\"orange\"},\"hatch_alpha\":{\"type\":\"value\",\"value\":0.1}}},\"muted_glyph\":{\"type\":\"object\",\"name\":\"Circle\",\"id\":\"p2810\",\"attributes\":{\"x\":{\"type\":\"field\",\"field\":\"Number of Edges\"},\"y\":{\"type\":\"field\",\"field\":\"Runtime (Seconds)\"},\"line_color\":{\"type\":\"value\",\"value\":\"orange\"},\"line_alpha\":{\"type\":\"value\",\"value\":0.2},\"fill_color\":{\"type\":\"value\",\"value\":\"orange\"},\"fill_alpha\":{\"type\":\"value\",\"value\":0.2},\"hatch_color\":{\"type\":\"value\",\"value\":\"orange\"},\"hatch_alpha\":{\"type\":\"value\",\"value\":0.2}}}}}],\"toolbar\":{\"type\":\"object\",\"name\":\"Toolbar\",\"id\":\"p2764\",\"attributes\":{\"tools\":[{\"type\":\"object\",\"name\":\"PanTool\",\"id\":\"p2777\"},{\"type\":\"object\",\"name\":\"WheelZoomTool\",\"id\":\"p2778\",\"attributes\":{\"renderers\":\"auto\"}},{\"type\":\"object\",\"name\":\"BoxZoomTool\",\"id\":\"p2779\",\"attributes\":{\"overlay\":{\"type\":\"object\",\"name\":\"BoxAnnotation\",\"id\":\"p2780\",\"attributes\":{\"syncable\":false,\"level\":\"overlay\",\"visible\":false,\"left\":{\"type\":\"number\",\"value\":\"nan\"},\"right\":{\"type\":\"number\",\"value\":\"nan\"},\"top\":{\"type\":\"number\",\"value\":\"nan\"},\"bottom\":{\"type\":\"number\",\"value\":\"nan\"},\"left_units\":\"canvas\",\"right_units\":\"canvas\",\"top_units\":\"canvas\",\"bottom_units\":\"canvas\",\"line_color\":\"black\",\"line_alpha\":1.0,\"line_width\":2,\"line_dash\":[4,4],\"fill_color\":\"lightgrey\",\"fill_alpha\":0.5}}}},{\"type\":\"object\",\"name\":\"SaveTool\",\"id\":\"p2785\"},{\"type\":\"object\",\"name\":\"ResetTool\",\"id\":\"p2786\"},{\"type\":\"object\",\"name\":\"HelpTool\",\"id\":\"p2787\"}]}},\"left\":[{\"type\":\"object\",\"name\":\"LinearAxis\",\"id\":\"p2772\",\"attributes\":{\"ticker\":{\"type\":\"object\",\"name\":\"BasicTicker\",\"id\":\"p2773\",\"attributes\":{\"mantissas\":[1,2,5]}},\"formatter\":{\"type\":\"object\",\"name\":\"BasicTickFormatter\",\"id\":\"p2774\"},\"axis_label\":\"Runtime (Seconds)\",\"major_label_policy\":{\"type\":\"object\",\"name\":\"AllLabels\",\"id\":\"p2775\"}}}],\"below\":[{\"type\":\"object\",\"name\":\"LinearAxis\",\"id\":\"p2767\",\"attributes\":{\"ticker\":{\"type\":\"object\",\"name\":\"BasicTicker\",\"id\":\"p2768\",\"attributes\":{\"mantissas\":[1,2,5]}},\"formatter\":{\"type\":\"object\",\"name\":\"BasicTickFormatter\",\"id\":\"p2769\"},\"axis_label\":\"Number of Edges\",\"major_label_policy\":{\"type\":\"object\",\"name\":\"AllLabels\",\"id\":\"p2770\"}}}],\"center\":[{\"type\":\"object\",\"name\":\"Grid\",\"id\":\"p2771\",\"attributes\":{\"axis\":{\"id\":\"p2767\"}}},{\"type\":\"object\",\"name\":\"Grid\",\"id\":\"p2776\",\"attributes\":{\"dimension\":1,\"axis\":{\"id\":\"p2772\"}}},{\"type\":\"object\",\"name\":\"Legend\",\"id\":\"p2800\",\"attributes\":{\"location\":\"top_left\",\"items\":[{\"type\":\"object\",\"name\":\"LegendItem\",\"id\":\"p2801\",\"attributes\":{\"label\":{\"type\":\"value\",\"value\":\"Beta\"},\"renderers\":[{\"id\":\"p2797\"}]}},{\"type\":\"object\",\"name\":\"LegendItem\",\"id\":\"p2814\",\"attributes\":{\"label\":{\"type\":\"value\",\"value\":\"GNN\"},\"renderers\":[{\"id\":\"p2811\"}]}}]}}]}}]}};\n",
       "  const render_items = [{\"docid\":\"77653a7d-c67c-4a02-8ad7-a9ef8f195224\",\"roots\":{\"p2756\":\"d8747ace-d6b7-428f-b8d6-c75d9ff52565\"},\"root_ids\":[\"p2756\"]}];\n",
       "  root.Bokeh.embed.embed_items_notebook(docs_json, render_items);\n",
       "  }\n",
       "  if (root.Bokeh !== undefined) {\n",
       "    embed_document(root);\n",
       "  } else {\n",
       "    let attempts = 0;\n",
       "    const timer = setInterval(function(root) {\n",
       "      if (root.Bokeh !== undefined) {\n",
       "        clearInterval(timer);\n",
       "        embed_document(root);\n",
       "      } else {\n",
       "        attempts++;\n",
       "        if (attempts > 100) {\n",
       "          clearInterval(timer);\n",
       "          console.log(\"Bokeh: ERROR: Unable to run BokehJS code because BokehJS library is missing\");\n",
       "        }\n",
       "      }\n",
       "    }, 10, root)\n",
       "  }\n",
       "})(window);"
      ],
      "application/vnd.bokehjs_exec.v0+json": ""
     },
     "metadata": {
      "application/vnd.bokehjs_exec.v0+json": {
       "id": "p2756"
      }
     },
     "output_type": "display_data"
    }
   ],
   "source": [
    "x = \"Number of Edges\"\n",
    "y = \"Runtime (Seconds)\"\n",
    "p = bokeh.plotting.figure(\n",
    "    width=400,\n",
    "    height=300,\n",
    "    x_axis_label=x,\n",
    "    y_axis_label=y,\n",
    ")\n",
    "p.circle(\n",
    "    source=effects[effects['Explainer'] == 'Beta'],\n",
    "    x=x,\n",
    "    y=y,\n",
    "    legend_label=\"Beta\",\n",
    ")\n",
    "p.circle(\n",
    "    source=effects[effects['Explainer'] == 'GNN'],\n",
    "    x=x,\n",
    "    y=y,\n",
    "    legend_label=\"GNN\",\n",
    "    color='orange'\n",
    ")\n",
    "p.legend.location = \"top_left\"\n",
    "bokeh.io.show(p)"
   ]
  },
  {
   "cell_type": "code",
   "execution_count": 49,
   "id": "33bc4a04-7c0f-43f0-a3b1-18dfecf0d162",
   "metadata": {},
   "outputs": [
    {
     "data": {
      "text/html": [
       "\n",
       "  <div id=\"e85ffbf1-e28d-4f60-8ebd-f0d19e69a3e1\" data-root-id=\"p2823\" style=\"display: contents;\"></div>\n"
      ]
     },
     "metadata": {},
     "output_type": "display_data"
    },
    {
     "data": {
      "application/javascript": [
       "(function(root) {\n",
       "  function embed_document(root) {\n",
       "  const docs_json = {\"974fd6ff-53fe-412b-9418-8768fd36d0e0\":{\"version\":\"3.3.4\",\"title\":\"Bokeh Application\",\"roots\":[{\"type\":\"object\",\"name\":\"Figure\",\"id\":\"p2823\",\"attributes\":{\"width\":400,\"height\":300,\"x_range\":{\"type\":\"object\",\"name\":\"DataRange1d\",\"id\":\"p2824\"},\"y_range\":{\"type\":\"object\",\"name\":\"DataRange1d\",\"id\":\"p2825\"},\"x_scale\":{\"type\":\"object\",\"name\":\"LinearScale\",\"id\":\"p2832\"},\"y_scale\":{\"type\":\"object\",\"name\":\"LinearScale\",\"id\":\"p2833\"},\"title\":{\"type\":\"object\",\"name\":\"Title\",\"id\":\"p2830\"},\"renderers\":[{\"type\":\"object\",\"name\":\"GlyphRenderer\",\"id\":\"p2864\",\"attributes\":{\"data_source\":{\"type\":\"object\",\"name\":\"ColumnDataSource\",\"id\":\"p2855\",\"attributes\":{\"selected\":{\"type\":\"object\",\"name\":\"Selection\",\"id\":\"p2856\",\"attributes\":{\"indices\":[],\"line_indices\":[]}},\"selection_policy\":{\"type\":\"object\",\"name\":\"UnionRenderers\",\"id\":\"p2857\"},\"data\":{\"type\":\"map\",\"entries\":[[\"index\",{\"type\":\"ndarray\",\"array\":{\"type\":\"bytes\",\"data\":\"AAAAAAEAAAACAAAAAwAAAAQAAAAFAAAABgAAAAcAAAAIAAAACQAAAAoAAAALAAAADAAAAA0AAAAOAAAADwAAABAAAAARAAAAEgAAABMAAAA=\"},\"shape\":[20],\"dtype\":\"int32\",\"order\":\"little\"}],[\"# Epochs\",{\"type\":\"ndarray\",\"array\":{\"type\":\"bytes\",\"data\":\"MgAAADIAAAAyAAAAMgAAADIAAAAyAAAAMgAAADIAAAAyAAAAMgAAADIAAAAyAAAAMgAAADIAAAAyAAAAMgAAADIAAAAyAAAAMgAAADIAAAA=\"},\"shape\":[20],\"dtype\":\"int32\",\"order\":\"little\"}],[\"GNN Runtime (Seconds)\",{\"type\":\"ndarray\",\"array\":{\"type\":\"bytes\",\"data\":\"AAAAoKWlAED/////YXjRP/////8j4NA//////5ju2D//////FyvKPwAAAAA8+9k//////+DJ0D8AAAAAwC/UPwAAAAD+zNM/AAAAAPWu2z8AAAAARmzaPwAAAAA8z+A/AAAAADKd1z8AAAAA9KLiPwAAAAB0utQ/AAAAANAp1T//////3dHSPwAAAABDF9Q/AAAAAHwzyj8AAAAAEAvGPw==\"},\"shape\":[20],\"dtype\":\"float64\",\"order\":\"little\"}],[\"Number of Edges\",{\"type\":\"ndarray\",\"array\":{\"type\":\"bytes\",\"data\":\"MgAAAGQAAACWAAAAyAAAAPoAAAAsAQAAXgEAAJABAADCAQAA9AEAACYCAABYAgAAigIAALwCAADuAgAAIAMAAFIDAACEAwAAtgMAAOgDAAA=\"},\"shape\":[20],\"dtype\":\"int32\",\"order\":\"little\"}],[\"Beta Runtime (Seconds)\",{\"type\":\"ndarray\",\"array\":{\"type\":\"bytes\",\"data\":\"AACA/aPLe0AAAAApu7ZdQAAAAJdij19AAAAAde+YYED///8boH1YQAAAAL65FFxAAAAA7aC8X0AAAIAOGBZgQAAAAHinImBAAAAAUEJqY0AAAAAUIcFkQAAAgJwxTWZAAQCAVnKKb0AAAICuCddrQAEAAOnB9GhAAAAAqtISY0AAAADOM2dhQAAAADtP1V5AAQAApiItX0AAAAC0SLFZQA==\"},\"shape\":[20],\"dtype\":\"float64\",\"order\":\"little\"}],[\"Difference (Seconds)\",{\"type\":\"ndarray\",\"array\":{\"type\":\"bytes\",\"data\":\"AABAsliqe0AAAADHQqVdQAAAAHOCfl9AAACAKHiMYED///+PinBYQAAAAIK++ltAAAAADNerX0AAAIAuAAxgQAAAAPnAGGBAAACA1WpcY0AAAADx6rNkQAAAgGBiPGZAAQCAvaN+b0AAAIC6ZsRrQAEAAK9k6mhAAAAAwj0IY0AAAADfyl1hQAAAAPg3wV5AAQAA6AggX0AAAAAsQ6ZZQA==\"},\"shape\":[20],\"dtype\":\"float64\",\"order\":\"little\"}]]}}},\"view\":{\"type\":\"object\",\"name\":\"CDSView\",\"id\":\"p2865\",\"attributes\":{\"filter\":{\"type\":\"object\",\"name\":\"AllIndices\",\"id\":\"p2866\"}}},\"glyph\":{\"type\":\"object\",\"name\":\"Circle\",\"id\":\"p2861\",\"attributes\":{\"x\":{\"type\":\"field\",\"field\":\"Number of Edges\"},\"y\":{\"type\":\"field\",\"field\":\"Difference (Seconds)\"},\"line_color\":{\"type\":\"value\",\"value\":\"#1f77b4\"},\"fill_color\":{\"type\":\"value\",\"value\":\"#1f77b4\"}}},\"nonselection_glyph\":{\"type\":\"object\",\"name\":\"Circle\",\"id\":\"p2862\",\"attributes\":{\"x\":{\"type\":\"field\",\"field\":\"Number of Edges\"},\"y\":{\"type\":\"field\",\"field\":\"Difference (Seconds)\"},\"line_color\":{\"type\":\"value\",\"value\":\"#1f77b4\"},\"line_alpha\":{\"type\":\"value\",\"value\":0.1},\"fill_color\":{\"type\":\"value\",\"value\":\"#1f77b4\"},\"fill_alpha\":{\"type\":\"value\",\"value\":0.1},\"hatch_alpha\":{\"type\":\"value\",\"value\":0.1}}},\"muted_glyph\":{\"type\":\"object\",\"name\":\"Circle\",\"id\":\"p2863\",\"attributes\":{\"x\":{\"type\":\"field\",\"field\":\"Number of Edges\"},\"y\":{\"type\":\"field\",\"field\":\"Difference (Seconds)\"},\"line_color\":{\"type\":\"value\",\"value\":\"#1f77b4\"},\"line_alpha\":{\"type\":\"value\",\"value\":0.2},\"fill_color\":{\"type\":\"value\",\"value\":\"#1f77b4\"},\"fill_alpha\":{\"type\":\"value\",\"value\":0.2},\"hatch_alpha\":{\"type\":\"value\",\"value\":0.2}}}}}],\"toolbar\":{\"type\":\"object\",\"name\":\"Toolbar\",\"id\":\"p2831\",\"attributes\":{\"tools\":[{\"type\":\"object\",\"name\":\"PanTool\",\"id\":\"p2844\"},{\"type\":\"object\",\"name\":\"WheelZoomTool\",\"id\":\"p2845\",\"attributes\":{\"renderers\":\"auto\"}},{\"type\":\"object\",\"name\":\"BoxZoomTool\",\"id\":\"p2846\",\"attributes\":{\"overlay\":{\"type\":\"object\",\"name\":\"BoxAnnotation\",\"id\":\"p2847\",\"attributes\":{\"syncable\":false,\"level\":\"overlay\",\"visible\":false,\"left\":{\"type\":\"number\",\"value\":\"nan\"},\"right\":{\"type\":\"number\",\"value\":\"nan\"},\"top\":{\"type\":\"number\",\"value\":\"nan\"},\"bottom\":{\"type\":\"number\",\"value\":\"nan\"},\"left_units\":\"canvas\",\"right_units\":\"canvas\",\"top_units\":\"canvas\",\"bottom_units\":\"canvas\",\"line_color\":\"black\",\"line_alpha\":1.0,\"line_width\":2,\"line_dash\":[4,4],\"fill_color\":\"lightgrey\",\"fill_alpha\":0.5}}}},{\"type\":\"object\",\"name\":\"SaveTool\",\"id\":\"p2852\"},{\"type\":\"object\",\"name\":\"ResetTool\",\"id\":\"p2853\"},{\"type\":\"object\",\"name\":\"HelpTool\",\"id\":\"p2854\"}]}},\"left\":[{\"type\":\"object\",\"name\":\"LinearAxis\",\"id\":\"p2839\",\"attributes\":{\"ticker\":{\"type\":\"object\",\"name\":\"BasicTicker\",\"id\":\"p2840\",\"attributes\":{\"mantissas\":[1,2,5]}},\"formatter\":{\"type\":\"object\",\"name\":\"BasicTickFormatter\",\"id\":\"p2841\"},\"axis_label\":\"Difference (Seconds)\",\"major_label_policy\":{\"type\":\"object\",\"name\":\"AllLabels\",\"id\":\"p2842\"}}}],\"below\":[{\"type\":\"object\",\"name\":\"LinearAxis\",\"id\":\"p2834\",\"attributes\":{\"ticker\":{\"type\":\"object\",\"name\":\"BasicTicker\",\"id\":\"p2835\",\"attributes\":{\"mantissas\":[1,2,5]}},\"formatter\":{\"type\":\"object\",\"name\":\"BasicTickFormatter\",\"id\":\"p2836\"},\"axis_label\":\"Number of Edges\",\"major_label_policy\":{\"type\":\"object\",\"name\":\"AllLabels\",\"id\":\"p2837\"}}}],\"center\":[{\"type\":\"object\",\"name\":\"Grid\",\"id\":\"p2838\",\"attributes\":{\"axis\":{\"id\":\"p2834\"}}},{\"type\":\"object\",\"name\":\"Grid\",\"id\":\"p2843\",\"attributes\":{\"dimension\":1,\"axis\":{\"id\":\"p2839\"}}}]}}]}};\n",
       "  const render_items = [{\"docid\":\"974fd6ff-53fe-412b-9418-8768fd36d0e0\",\"roots\":{\"p2823\":\"e85ffbf1-e28d-4f60-8ebd-f0d19e69a3e1\"},\"root_ids\":[\"p2823\"]}];\n",
       "  root.Bokeh.embed.embed_items_notebook(docs_json, render_items);\n",
       "  }\n",
       "  if (root.Bokeh !== undefined) {\n",
       "    embed_document(root);\n",
       "  } else {\n",
       "    let attempts = 0;\n",
       "    const timer = setInterval(function(root) {\n",
       "      if (root.Bokeh !== undefined) {\n",
       "        clearInterval(timer);\n",
       "        embed_document(root);\n",
       "      } else {\n",
       "        attempts++;\n",
       "        if (attempts > 100) {\n",
       "          clearInterval(timer);\n",
       "          console.log(\"Bokeh: ERROR: Unable to run BokehJS code because BokehJS library is missing\");\n",
       "        }\n",
       "      }\n",
       "    }, 10, root)\n",
       "  }\n",
       "})(window);"
      ],
      "application/vnd.bokehjs_exec.v0+json": ""
     },
     "metadata": {
      "application/vnd.bokehjs_exec.v0+json": {
       "id": "p2823"
      }
     },
     "output_type": "display_data"
    }
   ],
   "source": [
    "x = \"Number of Edges\"\n",
    "y = \"Difference (Seconds)\"\n",
    "p = bokeh.plotting.figure(\n",
    "    width=400,\n",
    "    height=300,\n",
    "    x_axis_label=x,\n",
    "    y_axis_label=y,\n",
    ")\n",
    "p.circle(\n",
    "    source=diff,\n",
    "    x=x,\n",
    "    y=y,\n",
    ")\n",
    "bokeh.io.show(p)"
   ]
  },
  {
   "cell_type": "code",
   "execution_count": 50,
   "id": "a3986fd4-5548-4dff-8b34-fef07ed487e7",
   "metadata": {},
   "outputs": [],
   "source": [
    "effects = pd.read_csv('SERGIO50BatchGraphRuntimes.csv')\n",
    "effects = effects.drop(['Average Runtime', 'Unnamed: 0', 'Data'], axis=1)\n",
    "effects = effects.rename({'# Edges': 'Number of Edges', 'Full Runtime': 'Runtime (Seconds)'}, axis=1)\n",
    "gnn = effects[effects['Explainer'] == 'GNN']\n",
    "gnn = gnn.rename({'Runtime (Seconds)': 'GNN Runtime (Seconds)'}, axis=1)\n",
    "gnn = gnn.drop(['Explainer'], axis=1)\n",
    "beta = effects[effects['Explainer'] == 'Beta']\n",
    "beta = beta.rename({'Runtime (Seconds)': 'Beta Runtime (Seconds)'}, axis=1)\n",
    "beta = beta.drop(['Explainer'], axis=1)\n",
    "diff = pd.merge(gnn, beta, how=\"right\", on=[\"# Epochs\",'Number of Edges'])\n",
    "diff['Difference (Seconds)'] = diff['Beta Runtime (Seconds)'] - diff['GNN Runtime (Seconds)']"
   ]
  },
  {
   "cell_type": "code",
   "execution_count": 51,
   "id": "426a0e5a-8c45-4f1b-b0e7-1d7e814faaff",
   "metadata": {},
   "outputs": [
    {
     "data": {
      "text/html": [
       "\n",
       "  <div id=\"bcec6b66-e057-4ef7-9e5e-b721652aba75\" data-root-id=\"p2873\" style=\"display: contents;\"></div>\n"
      ]
     },
     "metadata": {},
     "output_type": "display_data"
    },
    {
     "data": {
      "application/javascript": [
       "(function(root) {\n",
       "  function embed_document(root) {\n",
       "  const docs_json = {\"b9070a4a-4562-4d95-a153-13d09b0e783d\":{\"version\":\"3.3.4\",\"title\":\"Bokeh Application\",\"roots\":[{\"type\":\"object\",\"name\":\"Figure\",\"id\":\"p2873\",\"attributes\":{\"width\":400,\"height\":300,\"x_range\":{\"type\":\"object\",\"name\":\"DataRange1d\",\"id\":\"p2874\"},\"y_range\":{\"type\":\"object\",\"name\":\"DataRange1d\",\"id\":\"p2875\"},\"x_scale\":{\"type\":\"object\",\"name\":\"LinearScale\",\"id\":\"p2882\"},\"y_scale\":{\"type\":\"object\",\"name\":\"LinearScale\",\"id\":\"p2883\"},\"title\":{\"type\":\"object\",\"name\":\"Title\",\"id\":\"p2880\"},\"renderers\":[{\"type\":\"object\",\"name\":\"GlyphRenderer\",\"id\":\"p2914\",\"attributes\":{\"data_source\":{\"type\":\"object\",\"name\":\"ColumnDataSource\",\"id\":\"p2905\",\"attributes\":{\"selected\":{\"type\":\"object\",\"name\":\"Selection\",\"id\":\"p2906\",\"attributes\":{\"indices\":[],\"line_indices\":[]}},\"selection_policy\":{\"type\":\"object\",\"name\":\"UnionRenderers\",\"id\":\"p2907\"},\"data\":{\"type\":\"map\",\"entries\":[[\"index\",{\"type\":\"ndarray\",\"array\":{\"type\":\"bytes\",\"data\":\"AAAAAAIAAAAEAAAABgAAAAgAAAAKAAAADAAAAA4AAAAQAAAAEgAAABQAAAAWAAAAGAAAABoAAAAcAAAAHgAAACAAAAAiAAAAJAAAACYAAAA=\"},\"shape\":[20],\"dtype\":\"int32\",\"order\":\"little\"}],[\"Explainer\",{\"type\":\"ndarray\",\"array\":[\"Beta\",\"Beta\",\"Beta\",\"Beta\",\"Beta\",\"Beta\",\"Beta\",\"Beta\",\"Beta\",\"Beta\",\"Beta\",\"Beta\",\"Beta\",\"Beta\",\"Beta\",\"Beta\",\"Beta\",\"Beta\",\"Beta\",\"Beta\"],\"shape\":[20],\"dtype\":\"object\",\"order\":\"little\"}],[\"# Epochs\",{\"type\":\"ndarray\",\"array\":{\"type\":\"bytes\",\"data\":\"MgAAADIAAAAyAAAAMgAAADIAAAAyAAAAMgAAADIAAAAyAAAAMgAAADIAAAAyAAAAMgAAADIAAAAyAAAAMgAAADIAAAAyAAAAMgAAADIAAAA=\"},\"shape\":[20],\"dtype\":\"int32\",\"order\":\"little\"}],[\"Runtime (Seconds)\",{\"type\":\"ndarray\",\"array\":{\"type\":\"bytes\",\"data\":\"AABAFBcEfEABAAD9DMZdQAAAAIkSzl5AAACAu5ltYEABAABT1GhYQAEAALHlXVxAAAAAYaGuX0AAAABHHSZgQAAAAMx2AWBAAACAeiJVY0AAAICsKJBkQAAAgAugRmZAAQCAhEYXb0AAAAC/Y6ZrQAAAAMz0SWhAAACA30DgYkAAAICWLJZgQAAAABIEe19AAAAAXvJLXkAAAAA+OCtZQA==\"},\"shape\":[20],\"dtype\":\"float64\",\"order\":\"little\"}],[\"Number of Edges\",{\"type\":\"ndarray\",\"array\":{\"type\":\"bytes\",\"data\":\"MgAAAGQAAACWAAAAyAAAAPoAAAAsAQAAXgEAAJABAADCAQAA9AEAACYCAABYAgAAigIAALwCAADuAgAAIAMAAFIDAACEAwAAtgMAAOgDAAA=\"},\"shape\":[20],\"dtype\":\"int32\",\"order\":\"little\"}]]}}},\"view\":{\"type\":\"object\",\"name\":\"CDSView\",\"id\":\"p2915\",\"attributes\":{\"filter\":{\"type\":\"object\",\"name\":\"AllIndices\",\"id\":\"p2916\"}}},\"glyph\":{\"type\":\"object\",\"name\":\"Circle\",\"id\":\"p2911\",\"attributes\":{\"x\":{\"type\":\"field\",\"field\":\"Number of Edges\"},\"y\":{\"type\":\"field\",\"field\":\"Runtime (Seconds)\"},\"line_color\":{\"type\":\"value\",\"value\":\"#1f77b4\"},\"fill_color\":{\"type\":\"value\",\"value\":\"#1f77b4\"}}},\"nonselection_glyph\":{\"type\":\"object\",\"name\":\"Circle\",\"id\":\"p2912\",\"attributes\":{\"x\":{\"type\":\"field\",\"field\":\"Number of Edges\"},\"y\":{\"type\":\"field\",\"field\":\"Runtime (Seconds)\"},\"line_color\":{\"type\":\"value\",\"value\":\"#1f77b4\"},\"line_alpha\":{\"type\":\"value\",\"value\":0.1},\"fill_color\":{\"type\":\"value\",\"value\":\"#1f77b4\"},\"fill_alpha\":{\"type\":\"value\",\"value\":0.1},\"hatch_alpha\":{\"type\":\"value\",\"value\":0.1}}},\"muted_glyph\":{\"type\":\"object\",\"name\":\"Circle\",\"id\":\"p2913\",\"attributes\":{\"x\":{\"type\":\"field\",\"field\":\"Number of Edges\"},\"y\":{\"type\":\"field\",\"field\":\"Runtime (Seconds)\"},\"line_color\":{\"type\":\"value\",\"value\":\"#1f77b4\"},\"line_alpha\":{\"type\":\"value\",\"value\":0.2},\"fill_color\":{\"type\":\"value\",\"value\":\"#1f77b4\"},\"fill_alpha\":{\"type\":\"value\",\"value\":0.2},\"hatch_alpha\":{\"type\":\"value\",\"value\":0.2}}}}},{\"type\":\"object\",\"name\":\"GlyphRenderer\",\"id\":\"p2928\",\"attributes\":{\"data_source\":{\"type\":\"object\",\"name\":\"ColumnDataSource\",\"id\":\"p2919\",\"attributes\":{\"selected\":{\"type\":\"object\",\"name\":\"Selection\",\"id\":\"p2920\",\"attributes\":{\"indices\":[],\"line_indices\":[]}},\"selection_policy\":{\"type\":\"object\",\"name\":\"UnionRenderers\",\"id\":\"p2921\"},\"data\":{\"type\":\"map\",\"entries\":[[\"index\",{\"type\":\"ndarray\",\"array\":{\"type\":\"bytes\",\"data\":\"AQAAAAMAAAAFAAAABwAAAAkAAAALAAAADQAAAA8AAAARAAAAEwAAABUAAAAXAAAAGQAAABsAAAAdAAAAHwAAACEAAAAjAAAAJQAAACcAAAA=\"},\"shape\":[20],\"dtype\":\"int32\",\"order\":\"little\"}],[\"Explainer\",{\"type\":\"ndarray\",\"array\":[\"GNN\",\"GNN\",\"GNN\",\"GNN\",\"GNN\",\"GNN\",\"GNN\",\"GNN\",\"GNN\",\"GNN\",\"GNN\",\"GNN\",\"GNN\",\"GNN\",\"GNN\",\"GNN\",\"GNN\",\"GNN\",\"GNN\",\"GNN\"],\"shape\":[20],\"dtype\":\"object\",\"order\":\"little\"}],[\"# Epochs\",{\"type\":\"ndarray\",\"array\":{\"type\":\"bytes\",\"data\":\"MgAAADIAAAAyAAAAMgAAADIAAAAyAAAAMgAAADIAAAAyAAAAMgAAADIAAAAyAAAAMgAAADIAAAAyAAAAMgAAADIAAAAyAAAAMgAAADIAAAA=\"},\"shape\":[20],\"dtype\":\"int32\",\"order\":\"little\"}],[\"Runtime (Seconds)\",{\"type\":\"ndarray\",\"array\":{\"type\":\"bytes\",\"data\":\"AAAAgACX+T8AAAAAeTvUPwAAAAB+LdE//////2kw0D//////o7nHPwAAAACPVds//////2up0j8AAAAAztXSPwAAAABJhdM/AAAAAIf41j8AAAAAcmDaP//////Yqt4/AAAAAMpL4D8AAACAmDrhPwAAAABxPdw/AAAAADfn0z/+////waLNPwAAAAC6jug//////5OH0T/+////N6TKPw==\"},\"shape\":[20],\"dtype\":\"float64\",\"order\":\"little\"}],[\"Number of Edges\",{\"type\":\"ndarray\",\"array\":{\"type\":\"bytes\",\"data\":\"MgAAAGQAAACWAAAAyAAAAPoAAAAsAQAAXgEAAJABAADCAQAA9AEAACYCAABYAgAAigIAALwCAADuAgAAIAMAAFIDAACEAwAAtgMAAOgDAAA=\"},\"shape\":[20],\"dtype\":\"int32\",\"order\":\"little\"}]]}}},\"view\":{\"type\":\"object\",\"name\":\"CDSView\",\"id\":\"p2929\",\"attributes\":{\"filter\":{\"type\":\"object\",\"name\":\"AllIndices\",\"id\":\"p2930\"}}},\"glyph\":{\"type\":\"object\",\"name\":\"Circle\",\"id\":\"p2925\",\"attributes\":{\"x\":{\"type\":\"field\",\"field\":\"Number of Edges\"},\"y\":{\"type\":\"field\",\"field\":\"Runtime (Seconds)\"},\"line_color\":{\"type\":\"value\",\"value\":\"orange\"},\"fill_color\":{\"type\":\"value\",\"value\":\"orange\"},\"hatch_color\":{\"type\":\"value\",\"value\":\"orange\"}}},\"nonselection_glyph\":{\"type\":\"object\",\"name\":\"Circle\",\"id\":\"p2926\",\"attributes\":{\"x\":{\"type\":\"field\",\"field\":\"Number of Edges\"},\"y\":{\"type\":\"field\",\"field\":\"Runtime (Seconds)\"},\"line_color\":{\"type\":\"value\",\"value\":\"orange\"},\"line_alpha\":{\"type\":\"value\",\"value\":0.1},\"fill_color\":{\"type\":\"value\",\"value\":\"orange\"},\"fill_alpha\":{\"type\":\"value\",\"value\":0.1},\"hatch_color\":{\"type\":\"value\",\"value\":\"orange\"},\"hatch_alpha\":{\"type\":\"value\",\"value\":0.1}}},\"muted_glyph\":{\"type\":\"object\",\"name\":\"Circle\",\"id\":\"p2927\",\"attributes\":{\"x\":{\"type\":\"field\",\"field\":\"Number of Edges\"},\"y\":{\"type\":\"field\",\"field\":\"Runtime (Seconds)\"},\"line_color\":{\"type\":\"value\",\"value\":\"orange\"},\"line_alpha\":{\"type\":\"value\",\"value\":0.2},\"fill_color\":{\"type\":\"value\",\"value\":\"orange\"},\"fill_alpha\":{\"type\":\"value\",\"value\":0.2},\"hatch_color\":{\"type\":\"value\",\"value\":\"orange\"},\"hatch_alpha\":{\"type\":\"value\",\"value\":0.2}}}}}],\"toolbar\":{\"type\":\"object\",\"name\":\"Toolbar\",\"id\":\"p2881\",\"attributes\":{\"tools\":[{\"type\":\"object\",\"name\":\"PanTool\",\"id\":\"p2894\"},{\"type\":\"object\",\"name\":\"WheelZoomTool\",\"id\":\"p2895\",\"attributes\":{\"renderers\":\"auto\"}},{\"type\":\"object\",\"name\":\"BoxZoomTool\",\"id\":\"p2896\",\"attributes\":{\"overlay\":{\"type\":\"object\",\"name\":\"BoxAnnotation\",\"id\":\"p2897\",\"attributes\":{\"syncable\":false,\"level\":\"overlay\",\"visible\":false,\"left\":{\"type\":\"number\",\"value\":\"nan\"},\"right\":{\"type\":\"number\",\"value\":\"nan\"},\"top\":{\"type\":\"number\",\"value\":\"nan\"},\"bottom\":{\"type\":\"number\",\"value\":\"nan\"},\"left_units\":\"canvas\",\"right_units\":\"canvas\",\"top_units\":\"canvas\",\"bottom_units\":\"canvas\",\"line_color\":\"black\",\"line_alpha\":1.0,\"line_width\":2,\"line_dash\":[4,4],\"fill_color\":\"lightgrey\",\"fill_alpha\":0.5}}}},{\"type\":\"object\",\"name\":\"SaveTool\",\"id\":\"p2902\"},{\"type\":\"object\",\"name\":\"ResetTool\",\"id\":\"p2903\"},{\"type\":\"object\",\"name\":\"HelpTool\",\"id\":\"p2904\"}]}},\"left\":[{\"type\":\"object\",\"name\":\"LinearAxis\",\"id\":\"p2889\",\"attributes\":{\"ticker\":{\"type\":\"object\",\"name\":\"BasicTicker\",\"id\":\"p2890\",\"attributes\":{\"mantissas\":[1,2,5]}},\"formatter\":{\"type\":\"object\",\"name\":\"BasicTickFormatter\",\"id\":\"p2891\"},\"axis_label\":\"Runtime (Seconds)\",\"major_label_policy\":{\"type\":\"object\",\"name\":\"AllLabels\",\"id\":\"p2892\"}}}],\"below\":[{\"type\":\"object\",\"name\":\"LinearAxis\",\"id\":\"p2884\",\"attributes\":{\"ticker\":{\"type\":\"object\",\"name\":\"BasicTicker\",\"id\":\"p2885\",\"attributes\":{\"mantissas\":[1,2,5]}},\"formatter\":{\"type\":\"object\",\"name\":\"BasicTickFormatter\",\"id\":\"p2886\"},\"axis_label\":\"Number of Edges\",\"major_label_policy\":{\"type\":\"object\",\"name\":\"AllLabels\",\"id\":\"p2887\"}}}],\"center\":[{\"type\":\"object\",\"name\":\"Grid\",\"id\":\"p2888\",\"attributes\":{\"axis\":{\"id\":\"p2884\"}}},{\"type\":\"object\",\"name\":\"Grid\",\"id\":\"p2893\",\"attributes\":{\"dimension\":1,\"axis\":{\"id\":\"p2889\"}}},{\"type\":\"object\",\"name\":\"Legend\",\"id\":\"p2917\",\"attributes\":{\"location\":\"top_left\",\"items\":[{\"type\":\"object\",\"name\":\"LegendItem\",\"id\":\"p2918\",\"attributes\":{\"label\":{\"type\":\"value\",\"value\":\"Beta\"},\"renderers\":[{\"id\":\"p2914\"}]}},{\"type\":\"object\",\"name\":\"LegendItem\",\"id\":\"p2931\",\"attributes\":{\"label\":{\"type\":\"value\",\"value\":\"GNN\"},\"renderers\":[{\"id\":\"p2928\"}]}}]}}]}}]}};\n",
       "  const render_items = [{\"docid\":\"b9070a4a-4562-4d95-a153-13d09b0e783d\",\"roots\":{\"p2873\":\"bcec6b66-e057-4ef7-9e5e-b721652aba75\"},\"root_ids\":[\"p2873\"]}];\n",
       "  root.Bokeh.embed.embed_items_notebook(docs_json, render_items);\n",
       "  }\n",
       "  if (root.Bokeh !== undefined) {\n",
       "    embed_document(root);\n",
       "  } else {\n",
       "    let attempts = 0;\n",
       "    const timer = setInterval(function(root) {\n",
       "      if (root.Bokeh !== undefined) {\n",
       "        clearInterval(timer);\n",
       "        embed_document(root);\n",
       "      } else {\n",
       "        attempts++;\n",
       "        if (attempts > 100) {\n",
       "          clearInterval(timer);\n",
       "          console.log(\"Bokeh: ERROR: Unable to run BokehJS code because BokehJS library is missing\");\n",
       "        }\n",
       "      }\n",
       "    }, 10, root)\n",
       "  }\n",
       "})(window);"
      ],
      "application/vnd.bokehjs_exec.v0+json": ""
     },
     "metadata": {
      "application/vnd.bokehjs_exec.v0+json": {
       "id": "p2873"
      }
     },
     "output_type": "display_data"
    }
   ],
   "source": [
    "x = \"Number of Edges\"\n",
    "y = \"Runtime (Seconds)\"\n",
    "p = bokeh.plotting.figure(\n",
    "    width=400,\n",
    "    height=300,\n",
    "    x_axis_label=x,\n",
    "    y_axis_label=y,\n",
    ")\n",
    "p.circle(\n",
    "    source=effects[effects['Explainer'] == 'Beta'],\n",
    "    x=x,\n",
    "    y=y,\n",
    "    legend_label=\"Beta\",\n",
    ")\n",
    "p.circle(\n",
    "    source=effects[effects['Explainer'] == 'GNN'],\n",
    "    x=x,\n",
    "    y=y,\n",
    "    legend_label=\"GNN\",\n",
    "    color='orange'\n",
    ")\n",
    "p.legend.location = \"top_left\"\n",
    "bokeh.io.show(p)"
   ]
  },
  {
   "cell_type": "code",
   "execution_count": 52,
   "id": "eb503fff-e3b1-4efd-9d1e-2c1922aa1642",
   "metadata": {},
   "outputs": [
    {
     "data": {
      "text/html": [
       "\n",
       "  <div id=\"f7543606-883f-45a8-97c3-9316bd7ec756\" data-root-id=\"p2940\" style=\"display: contents;\"></div>\n"
      ]
     },
     "metadata": {},
     "output_type": "display_data"
    },
    {
     "data": {
      "application/javascript": [
       "(function(root) {\n",
       "  function embed_document(root) {\n",
       "  const docs_json = {\"332f0491-5d0f-46f4-8c29-25c47b13c428\":{\"version\":\"3.3.4\",\"title\":\"Bokeh Application\",\"roots\":[{\"type\":\"object\",\"name\":\"Figure\",\"id\":\"p2940\",\"attributes\":{\"width\":400,\"height\":300,\"x_range\":{\"type\":\"object\",\"name\":\"DataRange1d\",\"id\":\"p2941\"},\"y_range\":{\"type\":\"object\",\"name\":\"DataRange1d\",\"id\":\"p2942\"},\"x_scale\":{\"type\":\"object\",\"name\":\"LinearScale\",\"id\":\"p2949\"},\"y_scale\":{\"type\":\"object\",\"name\":\"LinearScale\",\"id\":\"p2950\"},\"title\":{\"type\":\"object\",\"name\":\"Title\",\"id\":\"p2947\"},\"renderers\":[{\"type\":\"object\",\"name\":\"GlyphRenderer\",\"id\":\"p2981\",\"attributes\":{\"data_source\":{\"type\":\"object\",\"name\":\"ColumnDataSource\",\"id\":\"p2972\",\"attributes\":{\"selected\":{\"type\":\"object\",\"name\":\"Selection\",\"id\":\"p2973\",\"attributes\":{\"indices\":[],\"line_indices\":[]}},\"selection_policy\":{\"type\":\"object\",\"name\":\"UnionRenderers\",\"id\":\"p2974\"},\"data\":{\"type\":\"map\",\"entries\":[[\"index\",{\"type\":\"ndarray\",\"array\":{\"type\":\"bytes\",\"data\":\"AAAAAAEAAAACAAAAAwAAAAQAAAAFAAAABgAAAAcAAAAIAAAACQAAAAoAAAALAAAADAAAAA0AAAAOAAAADwAAABAAAAARAAAAEgAAABMAAAA=\"},\"shape\":[20],\"dtype\":\"int32\",\"order\":\"little\"}],[\"# Epochs\",{\"type\":\"ndarray\",\"array\":{\"type\":\"bytes\",\"data\":\"MgAAADIAAAAyAAAAMgAAADIAAAAyAAAAMgAAADIAAAAyAAAAMgAAADIAAAAyAAAAMgAAADIAAAAyAAAAMgAAADIAAAAyAAAAMgAAADIAAAA=\"},\"shape\":[20],\"dtype\":\"int32\",\"order\":\"little\"}],[\"GNN Runtime (Seconds)\",{\"type\":\"ndarray\",\"array\":{\"type\":\"bytes\",\"data\":\"AAAAgACX+T8AAAAAeTvUPwAAAAB+LdE//////2kw0D//////o7nHPwAAAACPVds//////2up0j8AAAAAztXSPwAAAABJhdM/AAAAAIf41j8AAAAAcmDaP//////Yqt4/AAAAAMpL4D8AAACAmDrhPwAAAABxPdw/AAAAADfn0z/+////waLNPwAAAAC6jug//////5OH0T/+////N6TKPw==\"},\"shape\":[20],\"dtype\":\"float64\",\"order\":\"little\"}],[\"Number of Edges\",{\"type\":\"ndarray\",\"array\":{\"type\":\"bytes\",\"data\":\"MgAAAGQAAACWAAAAyAAAAPoAAAAsAQAAXgEAAJABAADCAQAA9AEAACYCAABYAgAAigIAALwCAADuAgAAIAMAAFIDAACEAwAAtgMAAOgDAAA=\"},\"shape\":[20],\"dtype\":\"int32\",\"order\":\"little\"}],[\"Beta Runtime (Seconds)\",{\"type\":\"ndarray\",\"array\":{\"type\":\"bytes\",\"data\":\"AABAFBcEfEABAAD9DMZdQAAAAIkSzl5AAACAu5ltYEABAABT1GhYQAEAALHlXVxAAAAAYaGuX0AAAABHHSZgQAAAAMx2AWBAAACAeiJVY0AAAICsKJBkQAAAgAugRmZAAQCAhEYXb0AAAAC/Y6ZrQAAAAMz0SWhAAACA30DgYkAAAICWLJZgQAAAABIEe19AAAAAXvJLXkAAAAA+OCtZQA==\"},\"shape\":[20],\"dtype\":\"float64\",\"order\":\"little\"}],[\"Difference (Seconds)\",{\"type\":\"ndarray\",\"array\":{\"type\":\"bytes\",\"data\":\"AADAE4Dqe0ABAACE0bFdQAAAAAvlvF5AAACAhoFlYEABAACB91xYQAEAACKQQlxAAAAA9febX0AAAABgshxgQAAAAE9o719AAAAAN6ZJY0AAAIBz+IJkQAAAAJ9KN2ZAAQCAuvoGb0AAAIAmKZVrQAAAgBPWO2hAAAAARE3WYkAAAADmw45gQAAAAJ7mSV9AAAAAymo6XkAAAAAi5h1ZQA==\"},\"shape\":[20],\"dtype\":\"float64\",\"order\":\"little\"}]]}}},\"view\":{\"type\":\"object\",\"name\":\"CDSView\",\"id\":\"p2982\",\"attributes\":{\"filter\":{\"type\":\"object\",\"name\":\"AllIndices\",\"id\":\"p2983\"}}},\"glyph\":{\"type\":\"object\",\"name\":\"Circle\",\"id\":\"p2978\",\"attributes\":{\"x\":{\"type\":\"field\",\"field\":\"Number of Edges\"},\"y\":{\"type\":\"field\",\"field\":\"Difference (Seconds)\"},\"line_color\":{\"type\":\"value\",\"value\":\"#1f77b4\"},\"fill_color\":{\"type\":\"value\",\"value\":\"#1f77b4\"}}},\"nonselection_glyph\":{\"type\":\"object\",\"name\":\"Circle\",\"id\":\"p2979\",\"attributes\":{\"x\":{\"type\":\"field\",\"field\":\"Number of Edges\"},\"y\":{\"type\":\"field\",\"field\":\"Difference (Seconds)\"},\"line_color\":{\"type\":\"value\",\"value\":\"#1f77b4\"},\"line_alpha\":{\"type\":\"value\",\"value\":0.1},\"fill_color\":{\"type\":\"value\",\"value\":\"#1f77b4\"},\"fill_alpha\":{\"type\":\"value\",\"value\":0.1},\"hatch_alpha\":{\"type\":\"value\",\"value\":0.1}}},\"muted_glyph\":{\"type\":\"object\",\"name\":\"Circle\",\"id\":\"p2980\",\"attributes\":{\"x\":{\"type\":\"field\",\"field\":\"Number of Edges\"},\"y\":{\"type\":\"field\",\"field\":\"Difference (Seconds)\"},\"line_color\":{\"type\":\"value\",\"value\":\"#1f77b4\"},\"line_alpha\":{\"type\":\"value\",\"value\":0.2},\"fill_color\":{\"type\":\"value\",\"value\":\"#1f77b4\"},\"fill_alpha\":{\"type\":\"value\",\"value\":0.2},\"hatch_alpha\":{\"type\":\"value\",\"value\":0.2}}}}}],\"toolbar\":{\"type\":\"object\",\"name\":\"Toolbar\",\"id\":\"p2948\",\"attributes\":{\"tools\":[{\"type\":\"object\",\"name\":\"PanTool\",\"id\":\"p2961\"},{\"type\":\"object\",\"name\":\"WheelZoomTool\",\"id\":\"p2962\",\"attributes\":{\"renderers\":\"auto\"}},{\"type\":\"object\",\"name\":\"BoxZoomTool\",\"id\":\"p2963\",\"attributes\":{\"overlay\":{\"type\":\"object\",\"name\":\"BoxAnnotation\",\"id\":\"p2964\",\"attributes\":{\"syncable\":false,\"level\":\"overlay\",\"visible\":false,\"left\":{\"type\":\"number\",\"value\":\"nan\"},\"right\":{\"type\":\"number\",\"value\":\"nan\"},\"top\":{\"type\":\"number\",\"value\":\"nan\"},\"bottom\":{\"type\":\"number\",\"value\":\"nan\"},\"left_units\":\"canvas\",\"right_units\":\"canvas\",\"top_units\":\"canvas\",\"bottom_units\":\"canvas\",\"line_color\":\"black\",\"line_alpha\":1.0,\"line_width\":2,\"line_dash\":[4,4],\"fill_color\":\"lightgrey\",\"fill_alpha\":0.5}}}},{\"type\":\"object\",\"name\":\"SaveTool\",\"id\":\"p2969\"},{\"type\":\"object\",\"name\":\"ResetTool\",\"id\":\"p2970\"},{\"type\":\"object\",\"name\":\"HelpTool\",\"id\":\"p2971\"}]}},\"left\":[{\"type\":\"object\",\"name\":\"LinearAxis\",\"id\":\"p2956\",\"attributes\":{\"ticker\":{\"type\":\"object\",\"name\":\"BasicTicker\",\"id\":\"p2957\",\"attributes\":{\"mantissas\":[1,2,5]}},\"formatter\":{\"type\":\"object\",\"name\":\"BasicTickFormatter\",\"id\":\"p2958\"},\"axis_label\":\"Difference (Seconds)\",\"major_label_policy\":{\"type\":\"object\",\"name\":\"AllLabels\",\"id\":\"p2959\"}}}],\"below\":[{\"type\":\"object\",\"name\":\"LinearAxis\",\"id\":\"p2951\",\"attributes\":{\"ticker\":{\"type\":\"object\",\"name\":\"BasicTicker\",\"id\":\"p2952\",\"attributes\":{\"mantissas\":[1,2,5]}},\"formatter\":{\"type\":\"object\",\"name\":\"BasicTickFormatter\",\"id\":\"p2953\"},\"axis_label\":\"Number of Edges\",\"major_label_policy\":{\"type\":\"object\",\"name\":\"AllLabels\",\"id\":\"p2954\"}}}],\"center\":[{\"type\":\"object\",\"name\":\"Grid\",\"id\":\"p2955\",\"attributes\":{\"axis\":{\"id\":\"p2951\"}}},{\"type\":\"object\",\"name\":\"Grid\",\"id\":\"p2960\",\"attributes\":{\"dimension\":1,\"axis\":{\"id\":\"p2956\"}}}]}}]}};\n",
       "  const render_items = [{\"docid\":\"332f0491-5d0f-46f4-8c29-25c47b13c428\",\"roots\":{\"p2940\":\"f7543606-883f-45a8-97c3-9316bd7ec756\"},\"root_ids\":[\"p2940\"]}];\n",
       "  root.Bokeh.embed.embed_items_notebook(docs_json, render_items);\n",
       "  }\n",
       "  if (root.Bokeh !== undefined) {\n",
       "    embed_document(root);\n",
       "  } else {\n",
       "    let attempts = 0;\n",
       "    const timer = setInterval(function(root) {\n",
       "      if (root.Bokeh !== undefined) {\n",
       "        clearInterval(timer);\n",
       "        embed_document(root);\n",
       "      } else {\n",
       "        attempts++;\n",
       "        if (attempts > 100) {\n",
       "          clearInterval(timer);\n",
       "          console.log(\"Bokeh: ERROR: Unable to run BokehJS code because BokehJS library is missing\");\n",
       "        }\n",
       "      }\n",
       "    }, 10, root)\n",
       "  }\n",
       "})(window);"
      ],
      "application/vnd.bokehjs_exec.v0+json": ""
     },
     "metadata": {
      "application/vnd.bokehjs_exec.v0+json": {
       "id": "p2940"
      }
     },
     "output_type": "display_data"
    }
   ],
   "source": [
    "x = \"Number of Edges\"\n",
    "y = \"Difference (Seconds)\"\n",
    "p = bokeh.plotting.figure(\n",
    "    width=400,\n",
    "    height=300,\n",
    "    x_axis_label=x,\n",
    "    y_axis_label=y,\n",
    ")\n",
    "p.circle(\n",
    "    source=diff,\n",
    "    x=x,\n",
    "    y=y,\n",
    ")\n",
    "bokeh.io.show(p)"
   ]
  },
  {
   "cell_type": "code",
   "execution_count": 53,
   "id": "4e12032b-fd26-405f-8ee3-32b27fd183e5",
   "metadata": {},
   "outputs": [],
   "source": [
    "effects = pd.read_csv('SERGIO75BatchGraphRuntimes.csv')\n",
    "effects = effects.drop(['Average Runtime', 'Unnamed: 0', 'Data'], axis=1)\n",
    "effects = effects.rename({'# Edges': 'Number of Edges', 'Full Runtime': 'Runtime (Seconds)'}, axis=1)\n",
    "gnn = effects[effects['Explainer'] == 'GNN']\n",
    "gnn = gnn.rename({'Runtime (Seconds)': 'GNN Runtime (Seconds)'}, axis=1)\n",
    "gnn = gnn.drop(['Explainer'], axis=1)\n",
    "beta = effects[effects['Explainer'] == 'Beta']\n",
    "beta = beta.rename({'Runtime (Seconds)': 'Beta Runtime (Seconds)'}, axis=1)\n",
    "beta = beta.drop(['Explainer'], axis=1)\n",
    "diff = pd.merge(gnn, beta, how=\"right\", on=[\"# Epochs\",'Number of Edges'])\n",
    "diff['Difference (Seconds)'] = diff['Beta Runtime (Seconds)'] - diff['GNN Runtime (Seconds)']"
   ]
  },
  {
   "cell_type": "code",
   "execution_count": 54,
   "id": "d960b966-489e-4f56-a2a3-401d38df8468",
   "metadata": {},
   "outputs": [
    {
     "data": {
      "text/html": [
       "\n",
       "  <div id=\"cef8ad37-a0a4-4ffd-8824-2195fe20cfc2\" data-root-id=\"p2990\" style=\"display: contents;\"></div>\n"
      ]
     },
     "metadata": {},
     "output_type": "display_data"
    },
    {
     "data": {
      "application/javascript": [
       "(function(root) {\n",
       "  function embed_document(root) {\n",
       "  const docs_json = {\"ef53b319-5d64-421f-9dc0-01043cd25796\":{\"version\":\"3.3.4\",\"title\":\"Bokeh Application\",\"roots\":[{\"type\":\"object\",\"name\":\"Figure\",\"id\":\"p2990\",\"attributes\":{\"width\":400,\"height\":300,\"x_range\":{\"type\":\"object\",\"name\":\"DataRange1d\",\"id\":\"p2991\"},\"y_range\":{\"type\":\"object\",\"name\":\"DataRange1d\",\"id\":\"p2992\"},\"x_scale\":{\"type\":\"object\",\"name\":\"LinearScale\",\"id\":\"p2999\"},\"y_scale\":{\"type\":\"object\",\"name\":\"LinearScale\",\"id\":\"p3000\"},\"title\":{\"type\":\"object\",\"name\":\"Title\",\"id\":\"p2997\"},\"renderers\":[{\"type\":\"object\",\"name\":\"GlyphRenderer\",\"id\":\"p3031\",\"attributes\":{\"data_source\":{\"type\":\"object\",\"name\":\"ColumnDataSource\",\"id\":\"p3022\",\"attributes\":{\"selected\":{\"type\":\"object\",\"name\":\"Selection\",\"id\":\"p3023\",\"attributes\":{\"indices\":[],\"line_indices\":[]}},\"selection_policy\":{\"type\":\"object\",\"name\":\"UnionRenderers\",\"id\":\"p3024\"},\"data\":{\"type\":\"map\",\"entries\":[[\"index\",{\"type\":\"ndarray\",\"array\":{\"type\":\"bytes\",\"data\":\"AAAAAAIAAAAEAAAABgAAAAgAAAA=\"},\"shape\":[5],\"dtype\":\"int32\",\"order\":\"little\"}],[\"Explainer\",{\"type\":\"ndarray\",\"array\":[\"Beta\",\"Beta\",\"Beta\",\"Beta\",\"Beta\"],\"shape\":[5],\"dtype\":\"object\",\"order\":\"little\"}],[\"# Epochs\",{\"type\":\"ndarray\",\"array\":{\"type\":\"bytes\",\"data\":\"MgAAADIAAAAyAAAAMgAAADIAAAA=\"},\"shape\":[5],\"dtype\":\"int32\",\"order\":\"little\"}],[\"Runtime (Seconds)\",{\"type\":\"ndarray\",\"array\":{\"type\":\"bytes\",\"data\":\"AAAAc/DSZ0D//38jhgtoQAAAAFmGaWVAAAAAGk3VYUAAAIAQHMBgQA==\"},\"shape\":[5],\"dtype\":\"float64\",\"order\":\"little\"}],[\"Number of Edges\",{\"type\":\"ndarray\",\"array\":{\"type\":\"bytes\",\"data\":\"MgAAAGQAAACWAAAAyAAAAPoAAAA=\"},\"shape\":[5],\"dtype\":\"int32\",\"order\":\"little\"}]]}}},\"view\":{\"type\":\"object\",\"name\":\"CDSView\",\"id\":\"p3032\",\"attributes\":{\"filter\":{\"type\":\"object\",\"name\":\"AllIndices\",\"id\":\"p3033\"}}},\"glyph\":{\"type\":\"object\",\"name\":\"Circle\",\"id\":\"p3028\",\"attributes\":{\"x\":{\"type\":\"field\",\"field\":\"Number of Edges\"},\"y\":{\"type\":\"field\",\"field\":\"Runtime (Seconds)\"},\"line_color\":{\"type\":\"value\",\"value\":\"#1f77b4\"},\"fill_color\":{\"type\":\"value\",\"value\":\"#1f77b4\"}}},\"nonselection_glyph\":{\"type\":\"object\",\"name\":\"Circle\",\"id\":\"p3029\",\"attributes\":{\"x\":{\"type\":\"field\",\"field\":\"Number of Edges\"},\"y\":{\"type\":\"field\",\"field\":\"Runtime (Seconds)\"},\"line_color\":{\"type\":\"value\",\"value\":\"#1f77b4\"},\"line_alpha\":{\"type\":\"value\",\"value\":0.1},\"fill_color\":{\"type\":\"value\",\"value\":\"#1f77b4\"},\"fill_alpha\":{\"type\":\"value\",\"value\":0.1},\"hatch_alpha\":{\"type\":\"value\",\"value\":0.1}}},\"muted_glyph\":{\"type\":\"object\",\"name\":\"Circle\",\"id\":\"p3030\",\"attributes\":{\"x\":{\"type\":\"field\",\"field\":\"Number of Edges\"},\"y\":{\"type\":\"field\",\"field\":\"Runtime (Seconds)\"},\"line_color\":{\"type\":\"value\",\"value\":\"#1f77b4\"},\"line_alpha\":{\"type\":\"value\",\"value\":0.2},\"fill_color\":{\"type\":\"value\",\"value\":\"#1f77b4\"},\"fill_alpha\":{\"type\":\"value\",\"value\":0.2},\"hatch_alpha\":{\"type\":\"value\",\"value\":0.2}}}}},{\"type\":\"object\",\"name\":\"GlyphRenderer\",\"id\":\"p3045\",\"attributes\":{\"data_source\":{\"type\":\"object\",\"name\":\"ColumnDataSource\",\"id\":\"p3036\",\"attributes\":{\"selected\":{\"type\":\"object\",\"name\":\"Selection\",\"id\":\"p3037\",\"attributes\":{\"indices\":[],\"line_indices\":[]}},\"selection_policy\":{\"type\":\"object\",\"name\":\"UnionRenderers\",\"id\":\"p3038\"},\"data\":{\"type\":\"map\",\"entries\":[[\"index\",{\"type\":\"ndarray\",\"array\":{\"type\":\"bytes\",\"data\":\"AQAAAAMAAAAFAAAABwAAAAkAAAA=\"},\"shape\":[5],\"dtype\":\"int32\",\"order\":\"little\"}],[\"Explainer\",{\"type\":\"ndarray\",\"array\":[\"GNN\",\"GNN\",\"GNN\",\"GNN\",\"GNN\"],\"shape\":[5],\"dtype\":\"object\",\"order\":\"little\"}],[\"# Epochs\",{\"type\":\"ndarray\",\"array\":{\"type\":\"bytes\",\"data\":\"MgAAADIAAAAyAAAAMgAAADIAAAA=\"},\"shape\":[5],\"dtype\":\"int32\",\"order\":\"little\"}],[\"Runtime (Seconds)\",{\"type\":\"ndarray\",\"array\":{\"type\":\"bytes\",\"data\":\"AAAAANfC6z8AAAAAeDDiPwAAAIBRDeE//////93X1D//////HTnVPw==\"},\"shape\":[5],\"dtype\":\"float64\",\"order\":\"little\"}],[\"Number of Edges\",{\"type\":\"ndarray\",\"array\":{\"type\":\"bytes\",\"data\":\"MgAAAGQAAACWAAAAyAAAAPoAAAA=\"},\"shape\":[5],\"dtype\":\"int32\",\"order\":\"little\"}]]}}},\"view\":{\"type\":\"object\",\"name\":\"CDSView\",\"id\":\"p3046\",\"attributes\":{\"filter\":{\"type\":\"object\",\"name\":\"AllIndices\",\"id\":\"p3047\"}}},\"glyph\":{\"type\":\"object\",\"name\":\"Circle\",\"id\":\"p3042\",\"attributes\":{\"x\":{\"type\":\"field\",\"field\":\"Number of Edges\"},\"y\":{\"type\":\"field\",\"field\":\"Runtime (Seconds)\"},\"line_color\":{\"type\":\"value\",\"value\":\"orange\"},\"fill_color\":{\"type\":\"value\",\"value\":\"orange\"},\"hatch_color\":{\"type\":\"value\",\"value\":\"orange\"}}},\"nonselection_glyph\":{\"type\":\"object\",\"name\":\"Circle\",\"id\":\"p3043\",\"attributes\":{\"x\":{\"type\":\"field\",\"field\":\"Number of Edges\"},\"y\":{\"type\":\"field\",\"field\":\"Runtime (Seconds)\"},\"line_color\":{\"type\":\"value\",\"value\":\"orange\"},\"line_alpha\":{\"type\":\"value\",\"value\":0.1},\"fill_color\":{\"type\":\"value\",\"value\":\"orange\"},\"fill_alpha\":{\"type\":\"value\",\"value\":0.1},\"hatch_color\":{\"type\":\"value\",\"value\":\"orange\"},\"hatch_alpha\":{\"type\":\"value\",\"value\":0.1}}},\"muted_glyph\":{\"type\":\"object\",\"name\":\"Circle\",\"id\":\"p3044\",\"attributes\":{\"x\":{\"type\":\"field\",\"field\":\"Number of Edges\"},\"y\":{\"type\":\"field\",\"field\":\"Runtime (Seconds)\"},\"line_color\":{\"type\":\"value\",\"value\":\"orange\"},\"line_alpha\":{\"type\":\"value\",\"value\":0.2},\"fill_color\":{\"type\":\"value\",\"value\":\"orange\"},\"fill_alpha\":{\"type\":\"value\",\"value\":0.2},\"hatch_color\":{\"type\":\"value\",\"value\":\"orange\"},\"hatch_alpha\":{\"type\":\"value\",\"value\":0.2}}}}}],\"toolbar\":{\"type\":\"object\",\"name\":\"Toolbar\",\"id\":\"p2998\",\"attributes\":{\"tools\":[{\"type\":\"object\",\"name\":\"PanTool\",\"id\":\"p3011\"},{\"type\":\"object\",\"name\":\"WheelZoomTool\",\"id\":\"p3012\",\"attributes\":{\"renderers\":\"auto\"}},{\"type\":\"object\",\"name\":\"BoxZoomTool\",\"id\":\"p3013\",\"attributes\":{\"overlay\":{\"type\":\"object\",\"name\":\"BoxAnnotation\",\"id\":\"p3014\",\"attributes\":{\"syncable\":false,\"level\":\"overlay\",\"visible\":false,\"left\":{\"type\":\"number\",\"value\":\"nan\"},\"right\":{\"type\":\"number\",\"value\":\"nan\"},\"top\":{\"type\":\"number\",\"value\":\"nan\"},\"bottom\":{\"type\":\"number\",\"value\":\"nan\"},\"left_units\":\"canvas\",\"right_units\":\"canvas\",\"top_units\":\"canvas\",\"bottom_units\":\"canvas\",\"line_color\":\"black\",\"line_alpha\":1.0,\"line_width\":2,\"line_dash\":[4,4],\"fill_color\":\"lightgrey\",\"fill_alpha\":0.5}}}},{\"type\":\"object\",\"name\":\"SaveTool\",\"id\":\"p3019\"},{\"type\":\"object\",\"name\":\"ResetTool\",\"id\":\"p3020\"},{\"type\":\"object\",\"name\":\"HelpTool\",\"id\":\"p3021\"}]}},\"left\":[{\"type\":\"object\",\"name\":\"LinearAxis\",\"id\":\"p3006\",\"attributes\":{\"ticker\":{\"type\":\"object\",\"name\":\"BasicTicker\",\"id\":\"p3007\",\"attributes\":{\"mantissas\":[1,2,5]}},\"formatter\":{\"type\":\"object\",\"name\":\"BasicTickFormatter\",\"id\":\"p3008\"},\"axis_label\":\"Runtime (Seconds)\",\"major_label_policy\":{\"type\":\"object\",\"name\":\"AllLabels\",\"id\":\"p3009\"}}}],\"below\":[{\"type\":\"object\",\"name\":\"LinearAxis\",\"id\":\"p3001\",\"attributes\":{\"ticker\":{\"type\":\"object\",\"name\":\"BasicTicker\",\"id\":\"p3002\",\"attributes\":{\"mantissas\":[1,2,5]}},\"formatter\":{\"type\":\"object\",\"name\":\"BasicTickFormatter\",\"id\":\"p3003\"},\"axis_label\":\"Number of Edges\",\"major_label_policy\":{\"type\":\"object\",\"name\":\"AllLabels\",\"id\":\"p3004\"}}}],\"center\":[{\"type\":\"object\",\"name\":\"Grid\",\"id\":\"p3005\",\"attributes\":{\"axis\":{\"id\":\"p3001\"}}},{\"type\":\"object\",\"name\":\"Grid\",\"id\":\"p3010\",\"attributes\":{\"dimension\":1,\"axis\":{\"id\":\"p3006\"}}},{\"type\":\"object\",\"name\":\"Legend\",\"id\":\"p3034\",\"attributes\":{\"location\":\"top_left\",\"items\":[{\"type\":\"object\",\"name\":\"LegendItem\",\"id\":\"p3035\",\"attributes\":{\"label\":{\"type\":\"value\",\"value\":\"Beta\"},\"renderers\":[{\"id\":\"p3031\"}]}},{\"type\":\"object\",\"name\":\"LegendItem\",\"id\":\"p3048\",\"attributes\":{\"label\":{\"type\":\"value\",\"value\":\"GNN\"},\"renderers\":[{\"id\":\"p3045\"}]}}]}}]}}]}};\n",
       "  const render_items = [{\"docid\":\"ef53b319-5d64-421f-9dc0-01043cd25796\",\"roots\":{\"p2990\":\"cef8ad37-a0a4-4ffd-8824-2195fe20cfc2\"},\"root_ids\":[\"p2990\"]}];\n",
       "  root.Bokeh.embed.embed_items_notebook(docs_json, render_items);\n",
       "  }\n",
       "  if (root.Bokeh !== undefined) {\n",
       "    embed_document(root);\n",
       "  } else {\n",
       "    let attempts = 0;\n",
       "    const timer = setInterval(function(root) {\n",
       "      if (root.Bokeh !== undefined) {\n",
       "        clearInterval(timer);\n",
       "        embed_document(root);\n",
       "      } else {\n",
       "        attempts++;\n",
       "        if (attempts > 100) {\n",
       "          clearInterval(timer);\n",
       "          console.log(\"Bokeh: ERROR: Unable to run BokehJS code because BokehJS library is missing\");\n",
       "        }\n",
       "      }\n",
       "    }, 10, root)\n",
       "  }\n",
       "})(window);"
      ],
      "application/vnd.bokehjs_exec.v0+json": ""
     },
     "metadata": {
      "application/vnd.bokehjs_exec.v0+json": {
       "id": "p2990"
      }
     },
     "output_type": "display_data"
    }
   ],
   "source": [
    "x = \"Number of Edges\"\n",
    "y = \"Runtime (Seconds)\"\n",
    "p = bokeh.plotting.figure(\n",
    "    width=400,\n",
    "    height=300,\n",
    "    x_axis_label=x,\n",
    "    y_axis_label=y,\n",
    ")\n",
    "p.circle(\n",
    "    source=effects[effects['Explainer'] == 'Beta'],\n",
    "    x=x,\n",
    "    y=y,\n",
    "    legend_label=\"Beta\",\n",
    ")\n",
    "p.circle(\n",
    "    source=effects[effects['Explainer'] == 'GNN'],\n",
    "    x=x,\n",
    "    y=y,\n",
    "    legend_label=\"GNN\",\n",
    "    color='orange'\n",
    ")\n",
    "p.legend.location = \"top_left\"\n",
    "bokeh.io.show(p)"
   ]
  },
  {
   "cell_type": "code",
   "execution_count": 55,
   "id": "cbe8883f-e053-4bf5-bad1-12b1b56f2f90",
   "metadata": {},
   "outputs": [
    {
     "data": {
      "text/html": [
       "\n",
       "  <div id=\"f04694ab-d662-4b87-b31d-3f2a5ce0f9c0\" data-root-id=\"p3057\" style=\"display: contents;\"></div>\n"
      ]
     },
     "metadata": {},
     "output_type": "display_data"
    },
    {
     "data": {
      "application/javascript": [
       "(function(root) {\n",
       "  function embed_document(root) {\n",
       "  const docs_json = {\"61d0baa3-859c-4d45-9227-1f9f5567d04a\":{\"version\":\"3.3.4\",\"title\":\"Bokeh Application\",\"roots\":[{\"type\":\"object\",\"name\":\"Figure\",\"id\":\"p3057\",\"attributes\":{\"width\":400,\"height\":300,\"x_range\":{\"type\":\"object\",\"name\":\"DataRange1d\",\"id\":\"p3058\"},\"y_range\":{\"type\":\"object\",\"name\":\"DataRange1d\",\"id\":\"p3059\"},\"x_scale\":{\"type\":\"object\",\"name\":\"LinearScale\",\"id\":\"p3066\"},\"y_scale\":{\"type\":\"object\",\"name\":\"LinearScale\",\"id\":\"p3067\"},\"title\":{\"type\":\"object\",\"name\":\"Title\",\"id\":\"p3064\"},\"renderers\":[{\"type\":\"object\",\"name\":\"GlyphRenderer\",\"id\":\"p3098\",\"attributes\":{\"data_source\":{\"type\":\"object\",\"name\":\"ColumnDataSource\",\"id\":\"p3089\",\"attributes\":{\"selected\":{\"type\":\"object\",\"name\":\"Selection\",\"id\":\"p3090\",\"attributes\":{\"indices\":[],\"line_indices\":[]}},\"selection_policy\":{\"type\":\"object\",\"name\":\"UnionRenderers\",\"id\":\"p3091\"},\"data\":{\"type\":\"map\",\"entries\":[[\"index\",{\"type\":\"ndarray\",\"array\":{\"type\":\"bytes\",\"data\":\"AAAAAAEAAAACAAAAAwAAAAQAAAA=\"},\"shape\":[5],\"dtype\":\"int32\",\"order\":\"little\"}],[\"# Epochs\",{\"type\":\"ndarray\",\"array\":{\"type\":\"bytes\",\"data\":\"MgAAADIAAAAyAAAAMgAAADIAAAA=\"},\"shape\":[5],\"dtype\":\"int32\",\"order\":\"little\"}],[\"GNN Runtime (Seconds)\",{\"type\":\"ndarray\",\"array\":{\"type\":\"bytes\",\"data\":\"AAAAANfC6z8AAAAAeDDiPwAAAIBRDeE//////93X1D//////HTnVPw==\"},\"shape\":[5],\"dtype\":\"float64\",\"order\":\"little\"}],[\"Number of Edges\",{\"type\":\"ndarray\",\"array\":{\"type\":\"bytes\",\"data\":\"MgAAAGQAAACWAAAAyAAAAPoAAAA=\"},\"shape\":[5],\"dtype\":\"int32\",\"order\":\"little\"}],[\"Beta Runtime (Seconds)\",{\"type\":\"ndarray\",\"array\":{\"type\":\"bytes\",\"data\":\"AAAAc/DSZ0D//38jhgtoQAAAAFmGaWVAAAAAGk3VYUAAAIAQHMBgQA==\"},\"shape\":[5],\"dtype\":\"float64\",\"order\":\"little\"}],[\"Difference (Seconds)\",{\"type\":\"ndarray\",\"array\":{\"type\":\"bytes\",\"data\":\"AAAAnC23Z0D//3+rVflnQAAAgAd5WGVAAAAAK+HKYUAAAICBf7VgQA==\"},\"shape\":[5],\"dtype\":\"float64\",\"order\":\"little\"}]]}}},\"view\":{\"type\":\"object\",\"name\":\"CDSView\",\"id\":\"p3099\",\"attributes\":{\"filter\":{\"type\":\"object\",\"name\":\"AllIndices\",\"id\":\"p3100\"}}},\"glyph\":{\"type\":\"object\",\"name\":\"Circle\",\"id\":\"p3095\",\"attributes\":{\"x\":{\"type\":\"field\",\"field\":\"Number of Edges\"},\"y\":{\"type\":\"field\",\"field\":\"Difference (Seconds)\"},\"line_color\":{\"type\":\"value\",\"value\":\"#1f77b4\"},\"fill_color\":{\"type\":\"value\",\"value\":\"#1f77b4\"}}},\"nonselection_glyph\":{\"type\":\"object\",\"name\":\"Circle\",\"id\":\"p3096\",\"attributes\":{\"x\":{\"type\":\"field\",\"field\":\"Number of Edges\"},\"y\":{\"type\":\"field\",\"field\":\"Difference (Seconds)\"},\"line_color\":{\"type\":\"value\",\"value\":\"#1f77b4\"},\"line_alpha\":{\"type\":\"value\",\"value\":0.1},\"fill_color\":{\"type\":\"value\",\"value\":\"#1f77b4\"},\"fill_alpha\":{\"type\":\"value\",\"value\":0.1},\"hatch_alpha\":{\"type\":\"value\",\"value\":0.1}}},\"muted_glyph\":{\"type\":\"object\",\"name\":\"Circle\",\"id\":\"p3097\",\"attributes\":{\"x\":{\"type\":\"field\",\"field\":\"Number of Edges\"},\"y\":{\"type\":\"field\",\"field\":\"Difference (Seconds)\"},\"line_color\":{\"type\":\"value\",\"value\":\"#1f77b4\"},\"line_alpha\":{\"type\":\"value\",\"value\":0.2},\"fill_color\":{\"type\":\"value\",\"value\":\"#1f77b4\"},\"fill_alpha\":{\"type\":\"value\",\"value\":0.2},\"hatch_alpha\":{\"type\":\"value\",\"value\":0.2}}}}}],\"toolbar\":{\"type\":\"object\",\"name\":\"Toolbar\",\"id\":\"p3065\",\"attributes\":{\"tools\":[{\"type\":\"object\",\"name\":\"PanTool\",\"id\":\"p3078\"},{\"type\":\"object\",\"name\":\"WheelZoomTool\",\"id\":\"p3079\",\"attributes\":{\"renderers\":\"auto\"}},{\"type\":\"object\",\"name\":\"BoxZoomTool\",\"id\":\"p3080\",\"attributes\":{\"overlay\":{\"type\":\"object\",\"name\":\"BoxAnnotation\",\"id\":\"p3081\",\"attributes\":{\"syncable\":false,\"level\":\"overlay\",\"visible\":false,\"left\":{\"type\":\"number\",\"value\":\"nan\"},\"right\":{\"type\":\"number\",\"value\":\"nan\"},\"top\":{\"type\":\"number\",\"value\":\"nan\"},\"bottom\":{\"type\":\"number\",\"value\":\"nan\"},\"left_units\":\"canvas\",\"right_units\":\"canvas\",\"top_units\":\"canvas\",\"bottom_units\":\"canvas\",\"line_color\":\"black\",\"line_alpha\":1.0,\"line_width\":2,\"line_dash\":[4,4],\"fill_color\":\"lightgrey\",\"fill_alpha\":0.5}}}},{\"type\":\"object\",\"name\":\"SaveTool\",\"id\":\"p3086\"},{\"type\":\"object\",\"name\":\"ResetTool\",\"id\":\"p3087\"},{\"type\":\"object\",\"name\":\"HelpTool\",\"id\":\"p3088\"}]}},\"left\":[{\"type\":\"object\",\"name\":\"LinearAxis\",\"id\":\"p3073\",\"attributes\":{\"ticker\":{\"type\":\"object\",\"name\":\"BasicTicker\",\"id\":\"p3074\",\"attributes\":{\"mantissas\":[1,2,5]}},\"formatter\":{\"type\":\"object\",\"name\":\"BasicTickFormatter\",\"id\":\"p3075\"},\"axis_label\":\"Difference (Seconds)\",\"major_label_policy\":{\"type\":\"object\",\"name\":\"AllLabels\",\"id\":\"p3076\"}}}],\"below\":[{\"type\":\"object\",\"name\":\"LinearAxis\",\"id\":\"p3068\",\"attributes\":{\"ticker\":{\"type\":\"object\",\"name\":\"BasicTicker\",\"id\":\"p3069\",\"attributes\":{\"mantissas\":[1,2,5]}},\"formatter\":{\"type\":\"object\",\"name\":\"BasicTickFormatter\",\"id\":\"p3070\"},\"axis_label\":\"Number of Edges\",\"major_label_policy\":{\"type\":\"object\",\"name\":\"AllLabels\",\"id\":\"p3071\"}}}],\"center\":[{\"type\":\"object\",\"name\":\"Grid\",\"id\":\"p3072\",\"attributes\":{\"axis\":{\"id\":\"p3068\"}}},{\"type\":\"object\",\"name\":\"Grid\",\"id\":\"p3077\",\"attributes\":{\"dimension\":1,\"axis\":{\"id\":\"p3073\"}}}]}}]}};\n",
       "  const render_items = [{\"docid\":\"61d0baa3-859c-4d45-9227-1f9f5567d04a\",\"roots\":{\"p3057\":\"f04694ab-d662-4b87-b31d-3f2a5ce0f9c0\"},\"root_ids\":[\"p3057\"]}];\n",
       "  root.Bokeh.embed.embed_items_notebook(docs_json, render_items);\n",
       "  }\n",
       "  if (root.Bokeh !== undefined) {\n",
       "    embed_document(root);\n",
       "  } else {\n",
       "    let attempts = 0;\n",
       "    const timer = setInterval(function(root) {\n",
       "      if (root.Bokeh !== undefined) {\n",
       "        clearInterval(timer);\n",
       "        embed_document(root);\n",
       "      } else {\n",
       "        attempts++;\n",
       "        if (attempts > 100) {\n",
       "          clearInterval(timer);\n",
       "          console.log(\"Bokeh: ERROR: Unable to run BokehJS code because BokehJS library is missing\");\n",
       "        }\n",
       "      }\n",
       "    }, 10, root)\n",
       "  }\n",
       "})(window);"
      ],
      "application/vnd.bokehjs_exec.v0+json": ""
     },
     "metadata": {
      "application/vnd.bokehjs_exec.v0+json": {
       "id": "p3057"
      }
     },
     "output_type": "display_data"
    }
   ],
   "source": [
    "x = \"Number of Edges\"\n",
    "y = \"Difference (Seconds)\"\n",
    "p = bokeh.plotting.figure(\n",
    "    width=400,\n",
    "    height=300,\n",
    "    x_axis_label=x,\n",
    "    y_axis_label=y,\n",
    ")\n",
    "p.circle(\n",
    "    source=diff,\n",
    "    x=x,\n",
    "    y=y,\n",
    ")\n",
    "bokeh.io.show(p)"
   ]
  },
  {
   "cell_type": "code",
   "execution_count": 56,
   "id": "b720a7e5-d32c-4ae2-bb2b-24651368f035",
   "metadata": {},
   "outputs": [],
   "source": [
    "effects = pd.read_csv('TexasCorrGraphRuntimes.csv')\n",
    "effects = effects.drop(['Average Runtime', 'Unnamed: 0', 'Data'], axis=1)\n",
    "effects = effects.rename({'# Edges': 'Number of Edges', 'Full Runtime': 'Runtime (Seconds)'}, axis=1)\n",
    "gnn = effects[effects['Explainer'] == 'GNN']\n",
    "gnn = gnn.rename({'Runtime (Seconds)': 'GNN Runtime (Seconds)'}, axis=1)\n",
    "gnn = gnn.drop(['Explainer'], axis=1)\n",
    "beta = effects[effects['Explainer'] == 'Beta']\n",
    "beta = beta.rename({'Runtime (Seconds)': 'Beta Runtime (Seconds)'}, axis=1)\n",
    "beta = beta.drop(['Explainer'], axis=1)\n",
    "diff = pd.merge(gnn, beta, how=\"right\", on=[\"# Epochs\",'Number of Edges'])\n",
    "diff['Difference (Seconds)'] = diff['Beta Runtime (Seconds)'] - diff['GNN Runtime (Seconds)']"
   ]
  },
  {
   "cell_type": "code",
   "execution_count": 57,
   "id": "71db0d74-f145-48a1-ad02-448313937629",
   "metadata": {
    "scrolled": true
   },
   "outputs": [
    {
     "data": {
      "text/html": [
       "\n",
       "  <div id=\"eb311f1a-38ca-47d6-a2fd-edec5ba34c7a\" data-root-id=\"p3107\" style=\"display: contents;\"></div>\n"
      ]
     },
     "metadata": {},
     "output_type": "display_data"
    },
    {
     "data": {
      "application/javascript": [
       "(function(root) {\n",
       "  function embed_document(root) {\n",
       "  const docs_json = {\"3b76fc3f-9f93-453c-ba52-ef0f71900fa3\":{\"version\":\"3.3.4\",\"title\":\"Bokeh Application\",\"roots\":[{\"type\":\"object\",\"name\":\"Figure\",\"id\":\"p3107\",\"attributes\":{\"width\":400,\"height\":300,\"x_range\":{\"type\":\"object\",\"name\":\"DataRange1d\",\"id\":\"p3108\"},\"y_range\":{\"type\":\"object\",\"name\":\"DataRange1d\",\"id\":\"p3109\"},\"x_scale\":{\"type\":\"object\",\"name\":\"LinearScale\",\"id\":\"p3116\"},\"y_scale\":{\"type\":\"object\",\"name\":\"LinearScale\",\"id\":\"p3117\"},\"title\":{\"type\":\"object\",\"name\":\"Title\",\"id\":\"p3114\"},\"renderers\":[{\"type\":\"object\",\"name\":\"GlyphRenderer\",\"id\":\"p3148\",\"attributes\":{\"data_source\":{\"type\":\"object\",\"name\":\"ColumnDataSource\",\"id\":\"p3139\",\"attributes\":{\"selected\":{\"type\":\"object\",\"name\":\"Selection\",\"id\":\"p3140\",\"attributes\":{\"indices\":[],\"line_indices\":[]}},\"selection_policy\":{\"type\":\"object\",\"name\":\"UnionRenderers\",\"id\":\"p3141\"},\"data\":{\"type\":\"map\",\"entries\":[[\"index\",{\"type\":\"ndarray\",\"array\":{\"type\":\"bytes\",\"data\":\"AAAAAAIAAAAEAAAABgAAAAgAAAA=\"},\"shape\":[5],\"dtype\":\"int32\",\"order\":\"little\"}],[\"Explainer\",{\"type\":\"ndarray\",\"array\":[\"Beta\",\"Beta\",\"Beta\",\"Beta\",\"Beta\"],\"shape\":[5],\"dtype\":\"object\",\"order\":\"little\"}],[\"# Epochs\",{\"type\":\"ndarray\",\"array\":{\"type\":\"bytes\",\"data\":\"MgAAADIAAAAyAAAAMgAAADIAAAA=\"},\"shape\":[5],\"dtype\":\"int32\",\"order\":\"little\"}],[\"Runtime (Seconds)\",{\"type\":\"ndarray\",\"array\":{\"type\":\"bytes\",\"data\":\"AAAAwHMl+T8AAABAW4z3PwAAAECr+vU/AAAAQLbF9T8BAACACubzPw==\"},\"shape\":[5],\"dtype\":\"float64\",\"order\":\"little\"}],[\"Number of Edges\",{\"type\":\"ndarray\",\"array\":{\"type\":\"bytes\",\"data\":\"MgAAAGQAAACWAAAAyAAAAPoAAAA=\"},\"shape\":[5],\"dtype\":\"int32\",\"order\":\"little\"}]]}}},\"view\":{\"type\":\"object\",\"name\":\"CDSView\",\"id\":\"p3149\",\"attributes\":{\"filter\":{\"type\":\"object\",\"name\":\"AllIndices\",\"id\":\"p3150\"}}},\"glyph\":{\"type\":\"object\",\"name\":\"Circle\",\"id\":\"p3145\",\"attributes\":{\"x\":{\"type\":\"field\",\"field\":\"Number of Edges\"},\"y\":{\"type\":\"field\",\"field\":\"Runtime (Seconds)\"},\"line_color\":{\"type\":\"value\",\"value\":\"#1f77b4\"},\"fill_color\":{\"type\":\"value\",\"value\":\"#1f77b4\"}}},\"nonselection_glyph\":{\"type\":\"object\",\"name\":\"Circle\",\"id\":\"p3146\",\"attributes\":{\"x\":{\"type\":\"field\",\"field\":\"Number of Edges\"},\"y\":{\"type\":\"field\",\"field\":\"Runtime (Seconds)\"},\"line_color\":{\"type\":\"value\",\"value\":\"#1f77b4\"},\"line_alpha\":{\"type\":\"value\",\"value\":0.1},\"fill_color\":{\"type\":\"value\",\"value\":\"#1f77b4\"},\"fill_alpha\":{\"type\":\"value\",\"value\":0.1},\"hatch_alpha\":{\"type\":\"value\",\"value\":0.1}}},\"muted_glyph\":{\"type\":\"object\",\"name\":\"Circle\",\"id\":\"p3147\",\"attributes\":{\"x\":{\"type\":\"field\",\"field\":\"Number of Edges\"},\"y\":{\"type\":\"field\",\"field\":\"Runtime (Seconds)\"},\"line_color\":{\"type\":\"value\",\"value\":\"#1f77b4\"},\"line_alpha\":{\"type\":\"value\",\"value\":0.2},\"fill_color\":{\"type\":\"value\",\"value\":\"#1f77b4\"},\"fill_alpha\":{\"type\":\"value\",\"value\":0.2},\"hatch_alpha\":{\"type\":\"value\",\"value\":0.2}}}}},{\"type\":\"object\",\"name\":\"GlyphRenderer\",\"id\":\"p3162\",\"attributes\":{\"data_source\":{\"type\":\"object\",\"name\":\"ColumnDataSource\",\"id\":\"p3153\",\"attributes\":{\"selected\":{\"type\":\"object\",\"name\":\"Selection\",\"id\":\"p3154\",\"attributes\":{\"indices\":[],\"line_indices\":[]}},\"selection_policy\":{\"type\":\"object\",\"name\":\"UnionRenderers\",\"id\":\"p3155\"},\"data\":{\"type\":\"map\",\"entries\":[[\"index\",{\"type\":\"ndarray\",\"array\":{\"type\":\"bytes\",\"data\":\"AQAAAAMAAAAFAAAABwAAAAkAAAA=\"},\"shape\":[5],\"dtype\":\"int32\",\"order\":\"little\"}],[\"Explainer\",{\"type\":\"ndarray\",\"array\":[\"GNN\",\"GNN\",\"GNN\",\"GNN\",\"GNN\"],\"shape\":[5],\"dtype\":\"object\",\"order\":\"little\"}],[\"# Epochs\",{\"type\":\"ndarray\",\"array\":{\"type\":\"bytes\",\"data\":\"MgAAADIAAAAyAAAAMgAAADIAAAA=\"},\"shape\":[5],\"dtype\":\"int32\",\"order\":\"little\"}],[\"Runtime (Seconds)\",{\"type\":\"ndarray\",\"array\":{\"type\":\"bytes\",\"data\":\"AAAAADVa8j8AAACAXqLrPwAAAACMO+0/AAAAACYF6T8BAAAAXpbtPw==\"},\"shape\":[5],\"dtype\":\"float64\",\"order\":\"little\"}],[\"Number of Edges\",{\"type\":\"ndarray\",\"array\":{\"type\":\"bytes\",\"data\":\"MgAAAGQAAACWAAAAyAAAAPoAAAA=\"},\"shape\":[5],\"dtype\":\"int32\",\"order\":\"little\"}]]}}},\"view\":{\"type\":\"object\",\"name\":\"CDSView\",\"id\":\"p3163\",\"attributes\":{\"filter\":{\"type\":\"object\",\"name\":\"AllIndices\",\"id\":\"p3164\"}}},\"glyph\":{\"type\":\"object\",\"name\":\"Circle\",\"id\":\"p3159\",\"attributes\":{\"x\":{\"type\":\"field\",\"field\":\"Number of Edges\"},\"y\":{\"type\":\"field\",\"field\":\"Runtime (Seconds)\"},\"line_color\":{\"type\":\"value\",\"value\":\"orange\"},\"fill_color\":{\"type\":\"value\",\"value\":\"orange\"},\"hatch_color\":{\"type\":\"value\",\"value\":\"orange\"}}},\"nonselection_glyph\":{\"type\":\"object\",\"name\":\"Circle\",\"id\":\"p3160\",\"attributes\":{\"x\":{\"type\":\"field\",\"field\":\"Number of Edges\"},\"y\":{\"type\":\"field\",\"field\":\"Runtime (Seconds)\"},\"line_color\":{\"type\":\"value\",\"value\":\"orange\"},\"line_alpha\":{\"type\":\"value\",\"value\":0.1},\"fill_color\":{\"type\":\"value\",\"value\":\"orange\"},\"fill_alpha\":{\"type\":\"value\",\"value\":0.1},\"hatch_color\":{\"type\":\"value\",\"value\":\"orange\"},\"hatch_alpha\":{\"type\":\"value\",\"value\":0.1}}},\"muted_glyph\":{\"type\":\"object\",\"name\":\"Circle\",\"id\":\"p3161\",\"attributes\":{\"x\":{\"type\":\"field\",\"field\":\"Number of Edges\"},\"y\":{\"type\":\"field\",\"field\":\"Runtime (Seconds)\"},\"line_color\":{\"type\":\"value\",\"value\":\"orange\"},\"line_alpha\":{\"type\":\"value\",\"value\":0.2},\"fill_color\":{\"type\":\"value\",\"value\":\"orange\"},\"fill_alpha\":{\"type\":\"value\",\"value\":0.2},\"hatch_color\":{\"type\":\"value\",\"value\":\"orange\"},\"hatch_alpha\":{\"type\":\"value\",\"value\":0.2}}}}}],\"toolbar\":{\"type\":\"object\",\"name\":\"Toolbar\",\"id\":\"p3115\",\"attributes\":{\"tools\":[{\"type\":\"object\",\"name\":\"PanTool\",\"id\":\"p3128\"},{\"type\":\"object\",\"name\":\"WheelZoomTool\",\"id\":\"p3129\",\"attributes\":{\"renderers\":\"auto\"}},{\"type\":\"object\",\"name\":\"BoxZoomTool\",\"id\":\"p3130\",\"attributes\":{\"overlay\":{\"type\":\"object\",\"name\":\"BoxAnnotation\",\"id\":\"p3131\",\"attributes\":{\"syncable\":false,\"level\":\"overlay\",\"visible\":false,\"left\":{\"type\":\"number\",\"value\":\"nan\"},\"right\":{\"type\":\"number\",\"value\":\"nan\"},\"top\":{\"type\":\"number\",\"value\":\"nan\"},\"bottom\":{\"type\":\"number\",\"value\":\"nan\"},\"left_units\":\"canvas\",\"right_units\":\"canvas\",\"top_units\":\"canvas\",\"bottom_units\":\"canvas\",\"line_color\":\"black\",\"line_alpha\":1.0,\"line_width\":2,\"line_dash\":[4,4],\"fill_color\":\"lightgrey\",\"fill_alpha\":0.5}}}},{\"type\":\"object\",\"name\":\"SaveTool\",\"id\":\"p3136\"},{\"type\":\"object\",\"name\":\"ResetTool\",\"id\":\"p3137\"},{\"type\":\"object\",\"name\":\"HelpTool\",\"id\":\"p3138\"}]}},\"left\":[{\"type\":\"object\",\"name\":\"LinearAxis\",\"id\":\"p3123\",\"attributes\":{\"ticker\":{\"type\":\"object\",\"name\":\"BasicTicker\",\"id\":\"p3124\",\"attributes\":{\"mantissas\":[1,2,5]}},\"formatter\":{\"type\":\"object\",\"name\":\"BasicTickFormatter\",\"id\":\"p3125\"},\"axis_label\":\"Runtime (Seconds)\",\"major_label_policy\":{\"type\":\"object\",\"name\":\"AllLabels\",\"id\":\"p3126\"}}}],\"below\":[{\"type\":\"object\",\"name\":\"LinearAxis\",\"id\":\"p3118\",\"attributes\":{\"ticker\":{\"type\":\"object\",\"name\":\"BasicTicker\",\"id\":\"p3119\",\"attributes\":{\"mantissas\":[1,2,5]}},\"formatter\":{\"type\":\"object\",\"name\":\"BasicTickFormatter\",\"id\":\"p3120\"},\"axis_label\":\"Number of Edges\",\"major_label_policy\":{\"type\":\"object\",\"name\":\"AllLabels\",\"id\":\"p3121\"}}}],\"center\":[{\"type\":\"object\",\"name\":\"Grid\",\"id\":\"p3122\",\"attributes\":{\"axis\":{\"id\":\"p3118\"}}},{\"type\":\"object\",\"name\":\"Grid\",\"id\":\"p3127\",\"attributes\":{\"dimension\":1,\"axis\":{\"id\":\"p3123\"}}},{\"type\":\"object\",\"name\":\"Legend\",\"id\":\"p3151\",\"attributes\":{\"location\":\"top_left\",\"items\":[{\"type\":\"object\",\"name\":\"LegendItem\",\"id\":\"p3152\",\"attributes\":{\"label\":{\"type\":\"value\",\"value\":\"Beta\"},\"renderers\":[{\"id\":\"p3148\"}]}},{\"type\":\"object\",\"name\":\"LegendItem\",\"id\":\"p3165\",\"attributes\":{\"label\":{\"type\":\"value\",\"value\":\"GNN\"},\"renderers\":[{\"id\":\"p3162\"}]}}]}}]}}]}};\n",
       "  const render_items = [{\"docid\":\"3b76fc3f-9f93-453c-ba52-ef0f71900fa3\",\"roots\":{\"p3107\":\"eb311f1a-38ca-47d6-a2fd-edec5ba34c7a\"},\"root_ids\":[\"p3107\"]}];\n",
       "  root.Bokeh.embed.embed_items_notebook(docs_json, render_items);\n",
       "  }\n",
       "  if (root.Bokeh !== undefined) {\n",
       "    embed_document(root);\n",
       "  } else {\n",
       "    let attempts = 0;\n",
       "    const timer = setInterval(function(root) {\n",
       "      if (root.Bokeh !== undefined) {\n",
       "        clearInterval(timer);\n",
       "        embed_document(root);\n",
       "      } else {\n",
       "        attempts++;\n",
       "        if (attempts > 100) {\n",
       "          clearInterval(timer);\n",
       "          console.log(\"Bokeh: ERROR: Unable to run BokehJS code because BokehJS library is missing\");\n",
       "        }\n",
       "      }\n",
       "    }, 10, root)\n",
       "  }\n",
       "})(window);"
      ],
      "application/vnd.bokehjs_exec.v0+json": ""
     },
     "metadata": {
      "application/vnd.bokehjs_exec.v0+json": {
       "id": "p3107"
      }
     },
     "output_type": "display_data"
    }
   ],
   "source": [
    "x = \"Number of Edges\"\n",
    "y = \"Runtime (Seconds)\"\n",
    "p = bokeh.plotting.figure(\n",
    "    width=400,\n",
    "    height=300,\n",
    "    x_axis_label=x,\n",
    "    y_axis_label=y,\n",
    ")\n",
    "p.circle(\n",
    "    source=effects[effects['Explainer'] == 'Beta'],\n",
    "    x=x,\n",
    "    y=y,\n",
    "    legend_label=\"Beta\",\n",
    ")\n",
    "p.circle(\n",
    "    source=effects[effects['Explainer'] == 'GNN'],\n",
    "    x=x,\n",
    "    y=y,\n",
    "    legend_label=\"GNN\",\n",
    "    color='orange'\n",
    ")\n",
    "p.legend.location = \"top_left\"\n",
    "bokeh.io.show(p)"
   ]
  },
  {
   "cell_type": "code",
   "execution_count": 58,
   "id": "dda55015-7715-4404-9ed9-dc3a7f0a221d",
   "metadata": {},
   "outputs": [
    {
     "data": {
      "text/html": [
       "\n",
       "  <div id=\"f10f8d9e-04cf-42c7-a8a1-68cf39d76c63\" data-root-id=\"p3174\" style=\"display: contents;\"></div>\n"
      ]
     },
     "metadata": {},
     "output_type": "display_data"
    },
    {
     "data": {
      "application/javascript": [
       "(function(root) {\n",
       "  function embed_document(root) {\n",
       "  const docs_json = {\"b1983027-7b8a-4b09-aa02-7d81a9330745\":{\"version\":\"3.3.4\",\"title\":\"Bokeh Application\",\"roots\":[{\"type\":\"object\",\"name\":\"Figure\",\"id\":\"p3174\",\"attributes\":{\"width\":400,\"height\":300,\"x_range\":{\"type\":\"object\",\"name\":\"DataRange1d\",\"id\":\"p3175\"},\"y_range\":{\"type\":\"object\",\"name\":\"DataRange1d\",\"id\":\"p3176\"},\"x_scale\":{\"type\":\"object\",\"name\":\"LinearScale\",\"id\":\"p3183\"},\"y_scale\":{\"type\":\"object\",\"name\":\"LinearScale\",\"id\":\"p3184\"},\"title\":{\"type\":\"object\",\"name\":\"Title\",\"id\":\"p3181\"},\"renderers\":[{\"type\":\"object\",\"name\":\"GlyphRenderer\",\"id\":\"p3215\",\"attributes\":{\"data_source\":{\"type\":\"object\",\"name\":\"ColumnDataSource\",\"id\":\"p3206\",\"attributes\":{\"selected\":{\"type\":\"object\",\"name\":\"Selection\",\"id\":\"p3207\",\"attributes\":{\"indices\":[],\"line_indices\":[]}},\"selection_policy\":{\"type\":\"object\",\"name\":\"UnionRenderers\",\"id\":\"p3208\"},\"data\":{\"type\":\"map\",\"entries\":[[\"index\",{\"type\":\"ndarray\",\"array\":{\"type\":\"bytes\",\"data\":\"AAAAAAEAAAACAAAAAwAAAAQAAAA=\"},\"shape\":[5],\"dtype\":\"int32\",\"order\":\"little\"}],[\"# Epochs\",{\"type\":\"ndarray\",\"array\":{\"type\":\"bytes\",\"data\":\"MgAAADIAAAAyAAAAMgAAADIAAAA=\"},\"shape\":[5],\"dtype\":\"int32\",\"order\":\"little\"}],[\"GNN Runtime (Seconds)\",{\"type\":\"ndarray\",\"array\":{\"type\":\"bytes\",\"data\":\"AAAAADVa8j8AAACAXqLrPwAAAACMO+0/AAAAACYF6T8BAAAAXpbtPw==\"},\"shape\":[5],\"dtype\":\"float64\",\"order\":\"little\"}],[\"Number of Edges\",{\"type\":\"ndarray\",\"array\":{\"type\":\"bytes\",\"data\":\"MgAAAGQAAACWAAAAyAAAAPoAAAA=\"},\"shape\":[5],\"dtype\":\"int32\",\"order\":\"little\"}],[\"Beta Runtime (Seconds)\",{\"type\":\"ndarray\",\"array\":{\"type\":\"bytes\",\"data\":\"AAAAwHMl+T8AAABAW4z3PwAAAECr+vU/AAAAQLbF9T8BAACACubzPw==\"},\"shape\":[5],\"dtype\":\"float64\",\"order\":\"little\"}],[\"Difference (Seconds)\",{\"type\":\"ndarray\",\"array\":{\"type\":\"bytes\",\"data\":\"AAAAAPss2z8AAAAAWHbjPwAAAACVc90/AAAAgEaG4j8CAAAAbmvUPw==\"},\"shape\":[5],\"dtype\":\"float64\",\"order\":\"little\"}]]}}},\"view\":{\"type\":\"object\",\"name\":\"CDSView\",\"id\":\"p3216\",\"attributes\":{\"filter\":{\"type\":\"object\",\"name\":\"AllIndices\",\"id\":\"p3217\"}}},\"glyph\":{\"type\":\"object\",\"name\":\"Circle\",\"id\":\"p3212\",\"attributes\":{\"x\":{\"type\":\"field\",\"field\":\"Number of Edges\"},\"y\":{\"type\":\"field\",\"field\":\"Difference (Seconds)\"},\"line_color\":{\"type\":\"value\",\"value\":\"#1f77b4\"},\"fill_color\":{\"type\":\"value\",\"value\":\"#1f77b4\"}}},\"nonselection_glyph\":{\"type\":\"object\",\"name\":\"Circle\",\"id\":\"p3213\",\"attributes\":{\"x\":{\"type\":\"field\",\"field\":\"Number of Edges\"},\"y\":{\"type\":\"field\",\"field\":\"Difference (Seconds)\"},\"line_color\":{\"type\":\"value\",\"value\":\"#1f77b4\"},\"line_alpha\":{\"type\":\"value\",\"value\":0.1},\"fill_color\":{\"type\":\"value\",\"value\":\"#1f77b4\"},\"fill_alpha\":{\"type\":\"value\",\"value\":0.1},\"hatch_alpha\":{\"type\":\"value\",\"value\":0.1}}},\"muted_glyph\":{\"type\":\"object\",\"name\":\"Circle\",\"id\":\"p3214\",\"attributes\":{\"x\":{\"type\":\"field\",\"field\":\"Number of Edges\"},\"y\":{\"type\":\"field\",\"field\":\"Difference (Seconds)\"},\"line_color\":{\"type\":\"value\",\"value\":\"#1f77b4\"},\"line_alpha\":{\"type\":\"value\",\"value\":0.2},\"fill_color\":{\"type\":\"value\",\"value\":\"#1f77b4\"},\"fill_alpha\":{\"type\":\"value\",\"value\":0.2},\"hatch_alpha\":{\"type\":\"value\",\"value\":0.2}}}}}],\"toolbar\":{\"type\":\"object\",\"name\":\"Toolbar\",\"id\":\"p3182\",\"attributes\":{\"tools\":[{\"type\":\"object\",\"name\":\"PanTool\",\"id\":\"p3195\"},{\"type\":\"object\",\"name\":\"WheelZoomTool\",\"id\":\"p3196\",\"attributes\":{\"renderers\":\"auto\"}},{\"type\":\"object\",\"name\":\"BoxZoomTool\",\"id\":\"p3197\",\"attributes\":{\"overlay\":{\"type\":\"object\",\"name\":\"BoxAnnotation\",\"id\":\"p3198\",\"attributes\":{\"syncable\":false,\"level\":\"overlay\",\"visible\":false,\"left\":{\"type\":\"number\",\"value\":\"nan\"},\"right\":{\"type\":\"number\",\"value\":\"nan\"},\"top\":{\"type\":\"number\",\"value\":\"nan\"},\"bottom\":{\"type\":\"number\",\"value\":\"nan\"},\"left_units\":\"canvas\",\"right_units\":\"canvas\",\"top_units\":\"canvas\",\"bottom_units\":\"canvas\",\"line_color\":\"black\",\"line_alpha\":1.0,\"line_width\":2,\"line_dash\":[4,4],\"fill_color\":\"lightgrey\",\"fill_alpha\":0.5}}}},{\"type\":\"object\",\"name\":\"SaveTool\",\"id\":\"p3203\"},{\"type\":\"object\",\"name\":\"ResetTool\",\"id\":\"p3204\"},{\"type\":\"object\",\"name\":\"HelpTool\",\"id\":\"p3205\"}]}},\"left\":[{\"type\":\"object\",\"name\":\"LinearAxis\",\"id\":\"p3190\",\"attributes\":{\"ticker\":{\"type\":\"object\",\"name\":\"BasicTicker\",\"id\":\"p3191\",\"attributes\":{\"mantissas\":[1,2,5]}},\"formatter\":{\"type\":\"object\",\"name\":\"BasicTickFormatter\",\"id\":\"p3192\"},\"axis_label\":\"Difference (Seconds)\",\"major_label_policy\":{\"type\":\"object\",\"name\":\"AllLabels\",\"id\":\"p3193\"}}}],\"below\":[{\"type\":\"object\",\"name\":\"LinearAxis\",\"id\":\"p3185\",\"attributes\":{\"ticker\":{\"type\":\"object\",\"name\":\"BasicTicker\",\"id\":\"p3186\",\"attributes\":{\"mantissas\":[1,2,5]}},\"formatter\":{\"type\":\"object\",\"name\":\"BasicTickFormatter\",\"id\":\"p3187\"},\"axis_label\":\"Number of Edges\",\"major_label_policy\":{\"type\":\"object\",\"name\":\"AllLabels\",\"id\":\"p3188\"}}}],\"center\":[{\"type\":\"object\",\"name\":\"Grid\",\"id\":\"p3189\",\"attributes\":{\"axis\":{\"id\":\"p3185\"}}},{\"type\":\"object\",\"name\":\"Grid\",\"id\":\"p3194\",\"attributes\":{\"dimension\":1,\"axis\":{\"id\":\"p3190\"}}}]}}]}};\n",
       "  const render_items = [{\"docid\":\"b1983027-7b8a-4b09-aa02-7d81a9330745\",\"roots\":{\"p3174\":\"f10f8d9e-04cf-42c7-a8a1-68cf39d76c63\"},\"root_ids\":[\"p3174\"]}];\n",
       "  root.Bokeh.embed.embed_items_notebook(docs_json, render_items);\n",
       "  }\n",
       "  if (root.Bokeh !== undefined) {\n",
       "    embed_document(root);\n",
       "  } else {\n",
       "    let attempts = 0;\n",
       "    const timer = setInterval(function(root) {\n",
       "      if (root.Bokeh !== undefined) {\n",
       "        clearInterval(timer);\n",
       "        embed_document(root);\n",
       "      } else {\n",
       "        attempts++;\n",
       "        if (attempts > 100) {\n",
       "          clearInterval(timer);\n",
       "          console.log(\"Bokeh: ERROR: Unable to run BokehJS code because BokehJS library is missing\");\n",
       "        }\n",
       "      }\n",
       "    }, 10, root)\n",
       "  }\n",
       "})(window);"
      ],
      "application/vnd.bokehjs_exec.v0+json": ""
     },
     "metadata": {
      "application/vnd.bokehjs_exec.v0+json": {
       "id": "p3174"
      }
     },
     "output_type": "display_data"
    }
   ],
   "source": [
    "x = \"Number of Edges\"\n",
    "y = \"Difference (Seconds)\"\n",
    "p = bokeh.plotting.figure(\n",
    "    width=400,\n",
    "    height=300,\n",
    "    x_axis_label=x,\n",
    "    y_axis_label=y,\n",
    ")\n",
    "p.circle(\n",
    "    source=diff,\n",
    "    x=x,\n",
    "    y=y,\n",
    ")\n",
    "bokeh.io.show(p)"
   ]
  },
  {
   "cell_type": "code",
   "execution_count": 59,
   "id": "0d6c2732-aee8-41fa-ae9d-87c7938a9509",
   "metadata": {},
   "outputs": [],
   "source": [
    "effects = pd.read_csv('WisconsinCorrGraphRuntimes.csv')\n",
    "effects = effects.drop(['Average Runtime', 'Unnamed: 0', 'Data'], axis=1)\n",
    "effects = effects.rename({'# Edges': 'Number of Edges', 'Full Runtime': 'Runtime (Seconds)'}, axis=1)\n",
    "gnn = effects[effects['Explainer'] == 'GNN']\n",
    "gnn = gnn.rename({'Runtime (Seconds)': 'GNN Runtime (Seconds)'}, axis=1)\n",
    "gnn = gnn.drop(['Explainer'], axis=1)\n",
    "beta = effects[effects['Explainer'] == 'Beta']\n",
    "beta = beta.rename({'Runtime (Seconds)': 'Beta Runtime (Seconds)'}, axis=1)\n",
    "beta = beta.drop(['Explainer'], axis=1)\n",
    "diff = pd.merge(gnn, beta, how=\"right\", on=[\"# Epochs\",'Number of Edges'])\n",
    "diff['Difference (Seconds)'] = diff['Beta Runtime (Seconds)'] - diff['GNN Runtime (Seconds)']"
   ]
  },
  {
   "cell_type": "code",
   "execution_count": 60,
   "id": "92f6dff3-5988-4bb2-8385-e2c1c04fd1a4",
   "metadata": {},
   "outputs": [
    {
     "data": {
      "text/html": [
       "\n",
       "  <div id=\"da8c5c7c-bef7-468c-afa5-121760c753aa\" data-root-id=\"p3224\" style=\"display: contents;\"></div>\n"
      ]
     },
     "metadata": {},
     "output_type": "display_data"
    },
    {
     "data": {
      "application/javascript": [
       "(function(root) {\n",
       "  function embed_document(root) {\n",
       "  const docs_json = {\"b6a6d90e-1d4c-48c0-8dd8-f80978d277e6\":{\"version\":\"3.3.4\",\"title\":\"Bokeh Application\",\"roots\":[{\"type\":\"object\",\"name\":\"Figure\",\"id\":\"p3224\",\"attributes\":{\"width\":400,\"height\":300,\"x_range\":{\"type\":\"object\",\"name\":\"DataRange1d\",\"id\":\"p3225\"},\"y_range\":{\"type\":\"object\",\"name\":\"DataRange1d\",\"id\":\"p3226\"},\"x_scale\":{\"type\":\"object\",\"name\":\"LinearScale\",\"id\":\"p3233\"},\"y_scale\":{\"type\":\"object\",\"name\":\"LinearScale\",\"id\":\"p3234\"},\"title\":{\"type\":\"object\",\"name\":\"Title\",\"id\":\"p3231\"},\"renderers\":[{\"type\":\"object\",\"name\":\"GlyphRenderer\",\"id\":\"p3265\",\"attributes\":{\"data_source\":{\"type\":\"object\",\"name\":\"ColumnDataSource\",\"id\":\"p3256\",\"attributes\":{\"selected\":{\"type\":\"object\",\"name\":\"Selection\",\"id\":\"p3257\",\"attributes\":{\"indices\":[],\"line_indices\":[]}},\"selection_policy\":{\"type\":\"object\",\"name\":\"UnionRenderers\",\"id\":\"p3258\"},\"data\":{\"type\":\"map\",\"entries\":[[\"index\",{\"type\":\"ndarray\",\"array\":{\"type\":\"bytes\",\"data\":\"AAAAAAIAAAAEAAAABgAAAAgAAAA=\"},\"shape\":[5],\"dtype\":\"int32\",\"order\":\"little\"}],[\"Explainer\",{\"type\":\"ndarray\",\"array\":[\"Beta\",\"Beta\",\"Beta\",\"Beta\",\"Beta\"],\"shape\":[5],\"dtype\":\"object\",\"order\":\"little\"}],[\"# Epochs\",{\"type\":\"ndarray\",\"array\":{\"type\":\"bytes\",\"data\":\"MgAAADIAAAAyAAAAMgAAADIAAAA=\"},\"shape\":[5],\"dtype\":\"int32\",\"order\":\"little\"}],[\"Runtime (Seconds)\",{\"type\":\"ndarray\",\"array\":{\"type\":\"bytes\",\"data\":\"AAAAQFBU9z8AAAAAACf2PwAAAADJMPY/AAAAQCgV9T8AAAAAfeH0Pw==\"},\"shape\":[5],\"dtype\":\"float64\",\"order\":\"little\"}],[\"Number of Edges\",{\"type\":\"ndarray\",\"array\":{\"type\":\"bytes\",\"data\":\"MgAAAGQAAACWAAAAyAAAAPoAAAA=\"},\"shape\":[5],\"dtype\":\"int32\",\"order\":\"little\"}]]}}},\"view\":{\"type\":\"object\",\"name\":\"CDSView\",\"id\":\"p3266\",\"attributes\":{\"filter\":{\"type\":\"object\",\"name\":\"AllIndices\",\"id\":\"p3267\"}}},\"glyph\":{\"type\":\"object\",\"name\":\"Circle\",\"id\":\"p3262\",\"attributes\":{\"x\":{\"type\":\"field\",\"field\":\"Number of Edges\"},\"y\":{\"type\":\"field\",\"field\":\"Runtime (Seconds)\"},\"line_color\":{\"type\":\"value\",\"value\":\"#1f77b4\"},\"fill_color\":{\"type\":\"value\",\"value\":\"#1f77b4\"}}},\"nonselection_glyph\":{\"type\":\"object\",\"name\":\"Circle\",\"id\":\"p3263\",\"attributes\":{\"x\":{\"type\":\"field\",\"field\":\"Number of Edges\"},\"y\":{\"type\":\"field\",\"field\":\"Runtime (Seconds)\"},\"line_color\":{\"type\":\"value\",\"value\":\"#1f77b4\"},\"line_alpha\":{\"type\":\"value\",\"value\":0.1},\"fill_color\":{\"type\":\"value\",\"value\":\"#1f77b4\"},\"fill_alpha\":{\"type\":\"value\",\"value\":0.1},\"hatch_alpha\":{\"type\":\"value\",\"value\":0.1}}},\"muted_glyph\":{\"type\":\"object\",\"name\":\"Circle\",\"id\":\"p3264\",\"attributes\":{\"x\":{\"type\":\"field\",\"field\":\"Number of Edges\"},\"y\":{\"type\":\"field\",\"field\":\"Runtime (Seconds)\"},\"line_color\":{\"type\":\"value\",\"value\":\"#1f77b4\"},\"line_alpha\":{\"type\":\"value\",\"value\":0.2},\"fill_color\":{\"type\":\"value\",\"value\":\"#1f77b4\"},\"fill_alpha\":{\"type\":\"value\",\"value\":0.2},\"hatch_alpha\":{\"type\":\"value\",\"value\":0.2}}}}},{\"type\":\"object\",\"name\":\"GlyphRenderer\",\"id\":\"p3279\",\"attributes\":{\"data_source\":{\"type\":\"object\",\"name\":\"ColumnDataSource\",\"id\":\"p3270\",\"attributes\":{\"selected\":{\"type\":\"object\",\"name\":\"Selection\",\"id\":\"p3271\",\"attributes\":{\"indices\":[],\"line_indices\":[]}},\"selection_policy\":{\"type\":\"object\",\"name\":\"UnionRenderers\",\"id\":\"p3272\"},\"data\":{\"type\":\"map\",\"entries\":[[\"index\",{\"type\":\"ndarray\",\"array\":{\"type\":\"bytes\",\"data\":\"AQAAAAMAAAAFAAAABwAAAAkAAAA=\"},\"shape\":[5],\"dtype\":\"int32\",\"order\":\"little\"}],[\"Explainer\",{\"type\":\"ndarray\",\"array\":[\"GNN\",\"GNN\",\"GNN\",\"GNN\",\"GNN\"],\"shape\":[5],\"dtype\":\"object\",\"order\":\"little\"}],[\"# Epochs\",{\"type\":\"ndarray\",\"array\":{\"type\":\"bytes\",\"data\":\"MgAAADIAAAAyAAAAMgAAADIAAAA=\"},\"shape\":[5],\"dtype\":\"int32\",\"order\":\"little\"}],[\"Runtime (Seconds)\",{\"type\":\"ndarray\",\"array\":{\"type\":\"bytes\",\"data\":\"AAAAgIzT6z8AAACAYKLsPwAAAIDJ+Ok/AAAAgBxV7T8AAAAAckvxPw==\"},\"shape\":[5],\"dtype\":\"float64\",\"order\":\"little\"}],[\"Number of Edges\",{\"type\":\"ndarray\",\"array\":{\"type\":\"bytes\",\"data\":\"MgAAAGQAAACWAAAAyAAAAPoAAAA=\"},\"shape\":[5],\"dtype\":\"int32\",\"order\":\"little\"}]]}}},\"view\":{\"type\":\"object\",\"name\":\"CDSView\",\"id\":\"p3280\",\"attributes\":{\"filter\":{\"type\":\"object\",\"name\":\"AllIndices\",\"id\":\"p3281\"}}},\"glyph\":{\"type\":\"object\",\"name\":\"Circle\",\"id\":\"p3276\",\"attributes\":{\"x\":{\"type\":\"field\",\"field\":\"Number of Edges\"},\"y\":{\"type\":\"field\",\"field\":\"Runtime (Seconds)\"},\"line_color\":{\"type\":\"value\",\"value\":\"orange\"},\"fill_color\":{\"type\":\"value\",\"value\":\"orange\"},\"hatch_color\":{\"type\":\"value\",\"value\":\"orange\"}}},\"nonselection_glyph\":{\"type\":\"object\",\"name\":\"Circle\",\"id\":\"p3277\",\"attributes\":{\"x\":{\"type\":\"field\",\"field\":\"Number of Edges\"},\"y\":{\"type\":\"field\",\"field\":\"Runtime (Seconds)\"},\"line_color\":{\"type\":\"value\",\"value\":\"orange\"},\"line_alpha\":{\"type\":\"value\",\"value\":0.1},\"fill_color\":{\"type\":\"value\",\"value\":\"orange\"},\"fill_alpha\":{\"type\":\"value\",\"value\":0.1},\"hatch_color\":{\"type\":\"value\",\"value\":\"orange\"},\"hatch_alpha\":{\"type\":\"value\",\"value\":0.1}}},\"muted_glyph\":{\"type\":\"object\",\"name\":\"Circle\",\"id\":\"p3278\",\"attributes\":{\"x\":{\"type\":\"field\",\"field\":\"Number of Edges\"},\"y\":{\"type\":\"field\",\"field\":\"Runtime (Seconds)\"},\"line_color\":{\"type\":\"value\",\"value\":\"orange\"},\"line_alpha\":{\"type\":\"value\",\"value\":0.2},\"fill_color\":{\"type\":\"value\",\"value\":\"orange\"},\"fill_alpha\":{\"type\":\"value\",\"value\":0.2},\"hatch_color\":{\"type\":\"value\",\"value\":\"orange\"},\"hatch_alpha\":{\"type\":\"value\",\"value\":0.2}}}}}],\"toolbar\":{\"type\":\"object\",\"name\":\"Toolbar\",\"id\":\"p3232\",\"attributes\":{\"tools\":[{\"type\":\"object\",\"name\":\"PanTool\",\"id\":\"p3245\"},{\"type\":\"object\",\"name\":\"WheelZoomTool\",\"id\":\"p3246\",\"attributes\":{\"renderers\":\"auto\"}},{\"type\":\"object\",\"name\":\"BoxZoomTool\",\"id\":\"p3247\",\"attributes\":{\"overlay\":{\"type\":\"object\",\"name\":\"BoxAnnotation\",\"id\":\"p3248\",\"attributes\":{\"syncable\":false,\"level\":\"overlay\",\"visible\":false,\"left\":{\"type\":\"number\",\"value\":\"nan\"},\"right\":{\"type\":\"number\",\"value\":\"nan\"},\"top\":{\"type\":\"number\",\"value\":\"nan\"},\"bottom\":{\"type\":\"number\",\"value\":\"nan\"},\"left_units\":\"canvas\",\"right_units\":\"canvas\",\"top_units\":\"canvas\",\"bottom_units\":\"canvas\",\"line_color\":\"black\",\"line_alpha\":1.0,\"line_width\":2,\"line_dash\":[4,4],\"fill_color\":\"lightgrey\",\"fill_alpha\":0.5}}}},{\"type\":\"object\",\"name\":\"SaveTool\",\"id\":\"p3253\"},{\"type\":\"object\",\"name\":\"ResetTool\",\"id\":\"p3254\"},{\"type\":\"object\",\"name\":\"HelpTool\",\"id\":\"p3255\"}]}},\"left\":[{\"type\":\"object\",\"name\":\"LinearAxis\",\"id\":\"p3240\",\"attributes\":{\"ticker\":{\"type\":\"object\",\"name\":\"BasicTicker\",\"id\":\"p3241\",\"attributes\":{\"mantissas\":[1,2,5]}},\"formatter\":{\"type\":\"object\",\"name\":\"BasicTickFormatter\",\"id\":\"p3242\"},\"axis_label\":\"Runtime (Seconds)\",\"major_label_policy\":{\"type\":\"object\",\"name\":\"AllLabels\",\"id\":\"p3243\"}}}],\"below\":[{\"type\":\"object\",\"name\":\"LinearAxis\",\"id\":\"p3235\",\"attributes\":{\"ticker\":{\"type\":\"object\",\"name\":\"BasicTicker\",\"id\":\"p3236\",\"attributes\":{\"mantissas\":[1,2,5]}},\"formatter\":{\"type\":\"object\",\"name\":\"BasicTickFormatter\",\"id\":\"p3237\"},\"axis_label\":\"Number of Edges\",\"major_label_policy\":{\"type\":\"object\",\"name\":\"AllLabels\",\"id\":\"p3238\"}}}],\"center\":[{\"type\":\"object\",\"name\":\"Grid\",\"id\":\"p3239\",\"attributes\":{\"axis\":{\"id\":\"p3235\"}}},{\"type\":\"object\",\"name\":\"Grid\",\"id\":\"p3244\",\"attributes\":{\"dimension\":1,\"axis\":{\"id\":\"p3240\"}}},{\"type\":\"object\",\"name\":\"Legend\",\"id\":\"p3268\",\"attributes\":{\"location\":\"top_left\",\"items\":[{\"type\":\"object\",\"name\":\"LegendItem\",\"id\":\"p3269\",\"attributes\":{\"label\":{\"type\":\"value\",\"value\":\"Beta\"},\"renderers\":[{\"id\":\"p3265\"}]}},{\"type\":\"object\",\"name\":\"LegendItem\",\"id\":\"p3282\",\"attributes\":{\"label\":{\"type\":\"value\",\"value\":\"GNN\"},\"renderers\":[{\"id\":\"p3279\"}]}}]}}]}}]}};\n",
       "  const render_items = [{\"docid\":\"b6a6d90e-1d4c-48c0-8dd8-f80978d277e6\",\"roots\":{\"p3224\":\"da8c5c7c-bef7-468c-afa5-121760c753aa\"},\"root_ids\":[\"p3224\"]}];\n",
       "  root.Bokeh.embed.embed_items_notebook(docs_json, render_items);\n",
       "  }\n",
       "  if (root.Bokeh !== undefined) {\n",
       "    embed_document(root);\n",
       "  } else {\n",
       "    let attempts = 0;\n",
       "    const timer = setInterval(function(root) {\n",
       "      if (root.Bokeh !== undefined) {\n",
       "        clearInterval(timer);\n",
       "        embed_document(root);\n",
       "      } else {\n",
       "        attempts++;\n",
       "        if (attempts > 100) {\n",
       "          clearInterval(timer);\n",
       "          console.log(\"Bokeh: ERROR: Unable to run BokehJS code because BokehJS library is missing\");\n",
       "        }\n",
       "      }\n",
       "    }, 10, root)\n",
       "  }\n",
       "})(window);"
      ],
      "application/vnd.bokehjs_exec.v0+json": ""
     },
     "metadata": {
      "application/vnd.bokehjs_exec.v0+json": {
       "id": "p3224"
      }
     },
     "output_type": "display_data"
    }
   ],
   "source": [
    "x = \"Number of Edges\"\n",
    "y = \"Runtime (Seconds)\"\n",
    "p = bokeh.plotting.figure(\n",
    "    width=400,\n",
    "    height=300,\n",
    "    x_axis_label=x,\n",
    "    y_axis_label=y,\n",
    ")\n",
    "p.circle(\n",
    "    source=effects[effects['Explainer'] == 'Beta'],\n",
    "    x=x,\n",
    "    y=y,\n",
    "    legend_label=\"Beta\",\n",
    ")\n",
    "p.circle(\n",
    "    source=effects[effects['Explainer'] == 'GNN'],\n",
    "    x=x,\n",
    "    y=y,\n",
    "    legend_label=\"GNN\",\n",
    "    color='orange'\n",
    ")\n",
    "p.legend.location = \"top_left\"\n",
    "bokeh.io.show(p)"
   ]
  },
  {
   "cell_type": "code",
   "execution_count": 62,
   "id": "c877ea78-264c-4a5a-b063-eb16750ee321",
   "metadata": {},
   "outputs": [
    {
     "data": {
      "text/html": [
       "\n",
       "  <div id=\"e5375072-a3d1-4125-80bf-02ab5bb83ead\" data-root-id=\"p3341\" style=\"display: contents;\"></div>\n"
      ]
     },
     "metadata": {},
     "output_type": "display_data"
    },
    {
     "data": {
      "application/javascript": [
       "(function(root) {\n",
       "  function embed_document(root) {\n",
       "  const docs_json = {\"c4202cb1-7a7c-4f3b-84eb-94a8170093c6\":{\"version\":\"3.3.4\",\"title\":\"Bokeh Application\",\"roots\":[{\"type\":\"object\",\"name\":\"Figure\",\"id\":\"p3341\",\"attributes\":{\"width\":400,\"height\":300,\"x_range\":{\"type\":\"object\",\"name\":\"DataRange1d\",\"id\":\"p3342\"},\"y_range\":{\"type\":\"object\",\"name\":\"DataRange1d\",\"id\":\"p3343\"},\"x_scale\":{\"type\":\"object\",\"name\":\"LinearScale\",\"id\":\"p3350\"},\"y_scale\":{\"type\":\"object\",\"name\":\"LinearScale\",\"id\":\"p3351\"},\"title\":{\"type\":\"object\",\"name\":\"Title\",\"id\":\"p3348\"},\"renderers\":[{\"type\":\"object\",\"name\":\"GlyphRenderer\",\"id\":\"p3382\",\"attributes\":{\"data_source\":{\"type\":\"object\",\"name\":\"ColumnDataSource\",\"id\":\"p3373\",\"attributes\":{\"selected\":{\"type\":\"object\",\"name\":\"Selection\",\"id\":\"p3374\",\"attributes\":{\"indices\":[],\"line_indices\":[]}},\"selection_policy\":{\"type\":\"object\",\"name\":\"UnionRenderers\",\"id\":\"p3375\"},\"data\":{\"type\":\"map\",\"entries\":[[\"index\",{\"type\":\"ndarray\",\"array\":{\"type\":\"bytes\",\"data\":\"AAAAAAEAAAACAAAAAwAAAAQAAAA=\"},\"shape\":[5],\"dtype\":\"int32\",\"order\":\"little\"}],[\"# Epochs\",{\"type\":\"ndarray\",\"array\":{\"type\":\"bytes\",\"data\":\"MgAAADIAAAAyAAAAMgAAADIAAAA=\"},\"shape\":[5],\"dtype\":\"int32\",\"order\":\"little\"}],[\"GNN Runtime (Seconds)\",{\"type\":\"ndarray\",\"array\":{\"type\":\"bytes\",\"data\":\"AAAAgIzT6z8AAACAYKLsPwAAAIDJ+Ok/AAAAgBxV7T8AAAAAckvxPw==\"},\"shape\":[5],\"dtype\":\"float64\",\"order\":\"little\"}],[\"Number of Edges\",{\"type\":\"ndarray\",\"array\":{\"type\":\"bytes\",\"data\":\"MgAAAGQAAACWAAAAyAAAAPoAAAA=\"},\"shape\":[5],\"dtype\":\"int32\",\"order\":\"little\"}],[\"Beta Runtime (Seconds)\",{\"type\":\"ndarray\",\"array\":{\"type\":\"bytes\",\"data\":\"AAAAQFBU9z8AAAAAACf2PwAAAADJMPY/AAAAQCgV9T8AAAAAfeH0Pw==\"},\"shape\":[5],\"dtype\":\"float64\",\"order\":\"little\"}],[\"Difference (Seconds)\",{\"type\":\"ndarray\",\"array\":{\"type\":\"bytes\",\"data\":\"AAAAABTV4j8AAAAAP1ffPwAAAIDIaOI/AAAAAGiq2T8AAAAAWLDMPw==\"},\"shape\":[5],\"dtype\":\"float64\",\"order\":\"little\"}]]}}},\"view\":{\"type\":\"object\",\"name\":\"CDSView\",\"id\":\"p3383\",\"attributes\":{\"filter\":{\"type\":\"object\",\"name\":\"AllIndices\",\"id\":\"p3384\"}}},\"glyph\":{\"type\":\"object\",\"name\":\"Circle\",\"id\":\"p3379\",\"attributes\":{\"x\":{\"type\":\"field\",\"field\":\"Number of Edges\"},\"y\":{\"type\":\"field\",\"field\":\"Difference (Seconds)\"},\"line_color\":{\"type\":\"value\",\"value\":\"#1f77b4\"},\"fill_color\":{\"type\":\"value\",\"value\":\"#1f77b4\"}}},\"nonselection_glyph\":{\"type\":\"object\",\"name\":\"Circle\",\"id\":\"p3380\",\"attributes\":{\"x\":{\"type\":\"field\",\"field\":\"Number of Edges\"},\"y\":{\"type\":\"field\",\"field\":\"Difference (Seconds)\"},\"line_color\":{\"type\":\"value\",\"value\":\"#1f77b4\"},\"line_alpha\":{\"type\":\"value\",\"value\":0.1},\"fill_color\":{\"type\":\"value\",\"value\":\"#1f77b4\"},\"fill_alpha\":{\"type\":\"value\",\"value\":0.1},\"hatch_alpha\":{\"type\":\"value\",\"value\":0.1}}},\"muted_glyph\":{\"type\":\"object\",\"name\":\"Circle\",\"id\":\"p3381\",\"attributes\":{\"x\":{\"type\":\"field\",\"field\":\"Number of Edges\"},\"y\":{\"type\":\"field\",\"field\":\"Difference (Seconds)\"},\"line_color\":{\"type\":\"value\",\"value\":\"#1f77b4\"},\"line_alpha\":{\"type\":\"value\",\"value\":0.2},\"fill_color\":{\"type\":\"value\",\"value\":\"#1f77b4\"},\"fill_alpha\":{\"type\":\"value\",\"value\":0.2},\"hatch_alpha\":{\"type\":\"value\",\"value\":0.2}}}}}],\"toolbar\":{\"type\":\"object\",\"name\":\"Toolbar\",\"id\":\"p3349\",\"attributes\":{\"tools\":[{\"type\":\"object\",\"name\":\"PanTool\",\"id\":\"p3362\"},{\"type\":\"object\",\"name\":\"WheelZoomTool\",\"id\":\"p3363\",\"attributes\":{\"renderers\":\"auto\"}},{\"type\":\"object\",\"name\":\"BoxZoomTool\",\"id\":\"p3364\",\"attributes\":{\"overlay\":{\"type\":\"object\",\"name\":\"BoxAnnotation\",\"id\":\"p3365\",\"attributes\":{\"syncable\":false,\"level\":\"overlay\",\"visible\":false,\"left\":{\"type\":\"number\",\"value\":\"nan\"},\"right\":{\"type\":\"number\",\"value\":\"nan\"},\"top\":{\"type\":\"number\",\"value\":\"nan\"},\"bottom\":{\"type\":\"number\",\"value\":\"nan\"},\"left_units\":\"canvas\",\"right_units\":\"canvas\",\"top_units\":\"canvas\",\"bottom_units\":\"canvas\",\"line_color\":\"black\",\"line_alpha\":1.0,\"line_width\":2,\"line_dash\":[4,4],\"fill_color\":\"lightgrey\",\"fill_alpha\":0.5}}}},{\"type\":\"object\",\"name\":\"SaveTool\",\"id\":\"p3370\"},{\"type\":\"object\",\"name\":\"ResetTool\",\"id\":\"p3371\"},{\"type\":\"object\",\"name\":\"HelpTool\",\"id\":\"p3372\"}]}},\"left\":[{\"type\":\"object\",\"name\":\"LinearAxis\",\"id\":\"p3357\",\"attributes\":{\"ticker\":{\"type\":\"object\",\"name\":\"BasicTicker\",\"id\":\"p3358\",\"attributes\":{\"mantissas\":[1,2,5]}},\"formatter\":{\"type\":\"object\",\"name\":\"BasicTickFormatter\",\"id\":\"p3359\"},\"axis_label\":\"Difference (Seconds)\",\"major_label_policy\":{\"type\":\"object\",\"name\":\"AllLabels\",\"id\":\"p3360\"}}}],\"below\":[{\"type\":\"object\",\"name\":\"LinearAxis\",\"id\":\"p3352\",\"attributes\":{\"ticker\":{\"type\":\"object\",\"name\":\"BasicTicker\",\"id\":\"p3353\",\"attributes\":{\"mantissas\":[1,2,5]}},\"formatter\":{\"type\":\"object\",\"name\":\"BasicTickFormatter\",\"id\":\"p3354\"},\"axis_label\":\"Number of Edges\",\"major_label_policy\":{\"type\":\"object\",\"name\":\"AllLabels\",\"id\":\"p3355\"}}}],\"center\":[{\"type\":\"object\",\"name\":\"Grid\",\"id\":\"p3356\",\"attributes\":{\"axis\":{\"id\":\"p3352\"}}},{\"type\":\"object\",\"name\":\"Grid\",\"id\":\"p3361\",\"attributes\":{\"dimension\":1,\"axis\":{\"id\":\"p3357\"}}}]}}]}};\n",
       "  const render_items = [{\"docid\":\"c4202cb1-7a7c-4f3b-84eb-94a8170093c6\",\"roots\":{\"p3341\":\"e5375072-a3d1-4125-80bf-02ab5bb83ead\"},\"root_ids\":[\"p3341\"]}];\n",
       "  root.Bokeh.embed.embed_items_notebook(docs_json, render_items);\n",
       "  }\n",
       "  if (root.Bokeh !== undefined) {\n",
       "    embed_document(root);\n",
       "  } else {\n",
       "    let attempts = 0;\n",
       "    const timer = setInterval(function(root) {\n",
       "      if (root.Bokeh !== undefined) {\n",
       "        clearInterval(timer);\n",
       "        embed_document(root);\n",
       "      } else {\n",
       "        attempts++;\n",
       "        if (attempts > 100) {\n",
       "          clearInterval(timer);\n",
       "          console.log(\"Bokeh: ERROR: Unable to run BokehJS code because BokehJS library is missing\");\n",
       "        }\n",
       "      }\n",
       "    }, 10, root)\n",
       "  }\n",
       "})(window);"
      ],
      "application/vnd.bokehjs_exec.v0+json": ""
     },
     "metadata": {
      "application/vnd.bokehjs_exec.v0+json": {
       "id": "p3341"
      }
     },
     "output_type": "display_data"
    }
   ],
   "source": [
    "x = \"Number of Edges\"\n",
    "y = \"Difference (Seconds)\"\n",
    "p = bokeh.plotting.figure(\n",
    "    width=400,\n",
    "    height=300,\n",
    "    x_axis_label=x,\n",
    "    y_axis_label=y,\n",
    ")\n",
    "p.circle(\n",
    "    source=diff,\n",
    "    x=x,\n",
    "    y=y,\n",
    ")\n",
    "bokeh.io.show(p)"
   ]
  },
  {
   "cell_type": "code",
   "execution_count": null,
   "id": "825d88bf-a4ce-4c61-87b1-6cc6926d19fa",
   "metadata": {},
   "outputs": [],
   "source": []
  },
  {
   "cell_type": "code",
   "execution_count": null,
   "id": "edb80ec3-be9a-4c66-a2bc-a47c136602bb",
   "metadata": {},
   "outputs": [],
   "source": []
  },
  {
   "cell_type": "code",
   "execution_count": null,
   "id": "983acd44-4e24-4994-a167-7cac79d3009a",
   "metadata": {},
   "outputs": [],
   "source": []
  }
 ],
 "metadata": {
  "kernelspec": {
   "display_name": "Python 3 (ipykernel)",
   "language": "python",
   "name": "python3"
  },
  "language_info": {
   "codemirror_mode": {
    "name": "ipython",
    "version": 3
   },
   "file_extension": ".py",
   "mimetype": "text/x-python",
   "name": "python",
   "nbconvert_exporter": "python",
   "pygments_lexer": "ipython3",
   "version": "3.11.7"
  }
 },
 "nbformat": 4,
 "nbformat_minor": 5
}
