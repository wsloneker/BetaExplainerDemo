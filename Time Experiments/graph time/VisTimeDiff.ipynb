{
 "cells": [
  {
   "cell_type": "code",
   "execution_count": 1,
   "id": "3c09bda0-c3b1-4fee-83ff-19dac6c50c27",
   "metadata": {
    "scrolled": true
   },
   "outputs": [
    {
     "data": {
      "text/html": [
       "    <style>\n",
       "        .bk-notebook-logo {\n",
       "            display: block;\n",
       "            width: 20px;\n",
       "            height: 20px;\n",
       "            background-image: url(data:image/png;base64,iVBORw0KGgoAAAANSUhEUgAAABQAAAAUCAYAAACNiR0NAAAABHNCSVQICAgIfAhkiAAAAAlwSFlzAAALEgAACxIB0t1+/AAAABx0RVh0U29mdHdhcmUAQWRvYmUgRmlyZXdvcmtzIENTNui8sowAAAOkSURBVDiNjZRtaJVlGMd/1/08zzln5zjP1LWcU9N0NkN8m2CYjpgQYQXqSs0I84OLIC0hkEKoPtiH3gmKoiJDU7QpLgoLjLIQCpEsNJ1vqUOdO7ppbuec5+V+rj4ctwzd8IIbbi6u+8f1539dt3A78eXC7QizUF7gyV1fD1Yqg4JWz84yffhm0qkFqBogB9rM8tZdtwVsPUhWhGcFJngGeWrPzHm5oaMmkfEg1usvLFyc8jLRqDOMru7AyC8saQr7GG7f5fvDeH7Ej8CM66nIF+8yngt6HWaKh7k49Soy9nXurCi1o3qUbS3zWfrYeQDTB/Qj6kX6Ybhw4B+bOYoLKCC9H3Nu/leUTZ1JdRWkkn2ldcCamzrcf47KKXdAJllSlxAOkRgyHsGC/zRday5Qld9DyoM4/q/rUoy/CXh3jzOu3bHUVZeU+DEn8FInkPBFlu3+nW3Nw0mk6vCDiWg8CeJaxEwuHS3+z5RgY+YBR6V1Z1nxSOfoaPa4LASWxxdNp+VWTk7+4vzaou8v8PN+xo+KY2xsw6une2frhw05CTYOmQvsEhjhWjn0bmXPjpE1+kplmmkP3suftwTubK9Vq22qKmrBhpY4jvd5afdRA3wGjFAgcnTK2s4hY0/GPNIb0nErGMCRxWOOX64Z8RAC4oCXdklmEvcL8o0BfkNK4lUg9HTl+oPlQxdNo3Mg4Nv175e/1LDGzZen30MEjRUtmXSfiTVu1kK8W4txyV6BMKlbgk3lMwYCiusNy9fVfvvwMxv8Ynl6vxoByANLTWplvuj/nF9m2+PDtt1eiHPBr1oIfhCChQMBw6Aw0UulqTKZdfVvfG7VcfIqLG9bcldL/+pdWTLxLUy8Qq38heUIjh4XlzZxzQm19lLFlr8vdQ97rjZVOLf8nclzckbcD4wxXMidpX30sFd37Fv/GtwwhzhxGVAprjbg0gCAEeIgwCZyTV2Z1REEW8O4py0wsjeloKoMr6iCY6dP92H6Vw/oTyICIthibxjm/DfN9lVz8IqtqKYLUXfoKVMVQVVJOElGjrnnUt9T9wbgp8AyYKaGlqingHZU/uG2NTZSVqwHQTWkx9hxjkpWDaCg6Ckj5qebgBVbT3V3NNXMSiWSDdGV3hrtzla7J+duwPOToIg42ChPQOQjspnSlp1V+Gjdged7+8UN5CRAV7a5EdFNwCjEaBR27b3W890TE7g24NAP/mMDXRWrGoFPQI9ls/MWO2dWFAar/xcOIImbbpA3zgAAAABJRU5ErkJggg==);\n",
       "        }\n",
       "    </style>\n",
       "    <div>\n",
       "        <a href=\"https://bokeh.org\" target=\"_blank\" class=\"bk-notebook-logo\"></a>\n",
       "        <span id=\"c317cf3d-71e4-491b-bde9-1e454a32be22\">Loading BokehJS ...</span>\n",
       "    </div>\n"
      ]
     },
     "metadata": {},
     "output_type": "display_data"
    },
    {
     "data": {
      "application/javascript": [
       "(function(root) {\n",
       "  function now() {\n",
       "    return new Date();\n",
       "  }\n",
       "\n",
       "  const force = true;\n",
       "\n",
       "  if (typeof root._bokeh_onload_callbacks === \"undefined\" || force === true) {\n",
       "    root._bokeh_onload_callbacks = [];\n",
       "    root._bokeh_is_loading = undefined;\n",
       "  }\n",
       "\n",
       "const JS_MIME_TYPE = 'application/javascript';\n",
       "  const HTML_MIME_TYPE = 'text/html';\n",
       "  const EXEC_MIME_TYPE = 'application/vnd.bokehjs_exec.v0+json';\n",
       "  const CLASS_NAME = 'output_bokeh rendered_html';\n",
       "\n",
       "  /**\n",
       "   * Render data to the DOM node\n",
       "   */\n",
       "  function render(props, node) {\n",
       "    const script = document.createElement(\"script\");\n",
       "    node.appendChild(script);\n",
       "  }\n",
       "\n",
       "  /**\n",
       "   * Handle when an output is cleared or removed\n",
       "   */\n",
       "  function handleClearOutput(event, handle) {\n",
       "    function drop(id) {\n",
       "      const view = Bokeh.index.get_by_id(id)\n",
       "      if (view != null) {\n",
       "        view.model.document.clear()\n",
       "        Bokeh.index.delete(view)\n",
       "      }\n",
       "    }\n",
       "\n",
       "    const cell = handle.cell;\n",
       "\n",
       "    const id = cell.output_area._bokeh_element_id;\n",
       "    const server_id = cell.output_area._bokeh_server_id;\n",
       "\n",
       "    // Clean up Bokeh references\n",
       "    if (id != null) {\n",
       "      drop(id)\n",
       "    }\n",
       "\n",
       "    if (server_id !== undefined) {\n",
       "      // Clean up Bokeh references\n",
       "      const cmd_clean = \"from bokeh.io.state import curstate; print(curstate().uuid_to_server['\" + server_id + \"'].get_sessions()[0].document.roots[0]._id)\";\n",
       "      cell.notebook.kernel.execute(cmd_clean, {\n",
       "        iopub: {\n",
       "          output: function(msg) {\n",
       "            const id = msg.content.text.trim()\n",
       "            drop(id)\n",
       "          }\n",
       "        }\n",
       "      });\n",
       "      // Destroy server and session\n",
       "      const cmd_destroy = \"import bokeh.io.notebook as ion; ion.destroy_server('\" + server_id + \"')\";\n",
       "      cell.notebook.kernel.execute(cmd_destroy);\n",
       "    }\n",
       "  }\n",
       "\n",
       "  /**\n",
       "   * Handle when a new output is added\n",
       "   */\n",
       "  function handleAddOutput(event, handle) {\n",
       "    const output_area = handle.output_area;\n",
       "    const output = handle.output;\n",
       "\n",
       "    // limit handleAddOutput to display_data with EXEC_MIME_TYPE content only\n",
       "    if ((output.output_type != \"display_data\") || (!Object.prototype.hasOwnProperty.call(output.data, EXEC_MIME_TYPE))) {\n",
       "      return\n",
       "    }\n",
       "\n",
       "    const toinsert = output_area.element.find(\".\" + CLASS_NAME.split(' ')[0]);\n",
       "\n",
       "    if (output.metadata[EXEC_MIME_TYPE][\"id\"] !== undefined) {\n",
       "      toinsert[toinsert.length - 1].firstChild.textContent = output.data[JS_MIME_TYPE];\n",
       "      // store reference to embed id on output_area\n",
       "      output_area._bokeh_element_id = output.metadata[EXEC_MIME_TYPE][\"id\"];\n",
       "    }\n",
       "    if (output.metadata[EXEC_MIME_TYPE][\"server_id\"] !== undefined) {\n",
       "      const bk_div = document.createElement(\"div\");\n",
       "      bk_div.innerHTML = output.data[HTML_MIME_TYPE];\n",
       "      const script_attrs = bk_div.children[0].attributes;\n",
       "      for (let i = 0; i < script_attrs.length; i++) {\n",
       "        toinsert[toinsert.length - 1].firstChild.setAttribute(script_attrs[i].name, script_attrs[i].value);\n",
       "        toinsert[toinsert.length - 1].firstChild.textContent = bk_div.children[0].textContent\n",
       "      }\n",
       "      // store reference to server id on output_area\n",
       "      output_area._bokeh_server_id = output.metadata[EXEC_MIME_TYPE][\"server_id\"];\n",
       "    }\n",
       "  }\n",
       "\n",
       "  function register_renderer(events, OutputArea) {\n",
       "\n",
       "    function append_mime(data, metadata, element) {\n",
       "      // create a DOM node to render to\n",
       "      const toinsert = this.create_output_subarea(\n",
       "        metadata,\n",
       "        CLASS_NAME,\n",
       "        EXEC_MIME_TYPE\n",
       "      );\n",
       "      this.keyboard_manager.register_events(toinsert);\n",
       "      // Render to node\n",
       "      const props = {data: data, metadata: metadata[EXEC_MIME_TYPE]};\n",
       "      render(props, toinsert[toinsert.length - 1]);\n",
       "      element.append(toinsert);\n",
       "      return toinsert\n",
       "    }\n",
       "\n",
       "    /* Handle when an output is cleared or removed */\n",
       "    events.on('clear_output.CodeCell', handleClearOutput);\n",
       "    events.on('delete.Cell', handleClearOutput);\n",
       "\n",
       "    /* Handle when a new output is added */\n",
       "    events.on('output_added.OutputArea', handleAddOutput);\n",
       "\n",
       "    /**\n",
       "     * Register the mime type and append_mime function with output_area\n",
       "     */\n",
       "    OutputArea.prototype.register_mime_type(EXEC_MIME_TYPE, append_mime, {\n",
       "      /* Is output safe? */\n",
       "      safe: true,\n",
       "      /* Index of renderer in `output_area.display_order` */\n",
       "      index: 0\n",
       "    });\n",
       "  }\n",
       "\n",
       "  // register the mime type if in Jupyter Notebook environment and previously unregistered\n",
       "  if (root.Jupyter !== undefined) {\n",
       "    const events = require('base/js/events');\n",
       "    const OutputArea = require('notebook/js/outputarea').OutputArea;\n",
       "\n",
       "    if (OutputArea.prototype.mime_types().indexOf(EXEC_MIME_TYPE) == -1) {\n",
       "      register_renderer(events, OutputArea);\n",
       "    }\n",
       "  }\n",
       "  if (typeof (root._bokeh_timeout) === \"undefined\" || force === true) {\n",
       "    root._bokeh_timeout = Date.now() + 5000;\n",
       "    root._bokeh_failed_load = false;\n",
       "  }\n",
       "\n",
       "  const NB_LOAD_WARNING = {'data': {'text/html':\n",
       "     \"<div style='background-color: #fdd'>\\n\"+\n",
       "     \"<p>\\n\"+\n",
       "     \"BokehJS does not appear to have successfully loaded. If loading BokehJS from CDN, this \\n\"+\n",
       "     \"may be due to a slow or bad network connection. Possible fixes:\\n\"+\n",
       "     \"</p>\\n\"+\n",
       "     \"<ul>\\n\"+\n",
       "     \"<li>re-rerun `output_notebook()` to attempt to load from CDN again, or</li>\\n\"+\n",
       "     \"<li>use INLINE resources instead, as so:</li>\\n\"+\n",
       "     \"</ul>\\n\"+\n",
       "     \"<code>\\n\"+\n",
       "     \"from bokeh.resources import INLINE\\n\"+\n",
       "     \"output_notebook(resources=INLINE)\\n\"+\n",
       "     \"</code>\\n\"+\n",
       "     \"</div>\"}};\n",
       "\n",
       "  function display_loaded() {\n",
       "    const el = document.getElementById(\"c317cf3d-71e4-491b-bde9-1e454a32be22\");\n",
       "    if (el != null) {\n",
       "      el.textContent = \"BokehJS is loading...\";\n",
       "    }\n",
       "    if (root.Bokeh !== undefined) {\n",
       "      if (el != null) {\n",
       "        el.textContent = \"BokehJS \" + root.Bokeh.version + \" successfully loaded.\";\n",
       "      }\n",
       "    } else if (Date.now() < root._bokeh_timeout) {\n",
       "      setTimeout(display_loaded, 100)\n",
       "    }\n",
       "  }\n",
       "\n",
       "  function run_callbacks() {\n",
       "    try {\n",
       "      root._bokeh_onload_callbacks.forEach(function(callback) {\n",
       "        if (callback != null)\n",
       "          callback();\n",
       "      });\n",
       "    } finally {\n",
       "      delete root._bokeh_onload_callbacks\n",
       "    }\n",
       "    console.debug(\"Bokeh: all callbacks have finished\");\n",
       "  }\n",
       "\n",
       "  function load_libs(css_urls, js_urls, callback) {\n",
       "    if (css_urls == null) css_urls = [];\n",
       "    if (js_urls == null) js_urls = [];\n",
       "\n",
       "    root._bokeh_onload_callbacks.push(callback);\n",
       "    if (root._bokeh_is_loading > 0) {\n",
       "      console.debug(\"Bokeh: BokehJS is being loaded, scheduling callback at\", now());\n",
       "      return null;\n",
       "    }\n",
       "    if (js_urls == null || js_urls.length === 0) {\n",
       "      run_callbacks();\n",
       "      return null;\n",
       "    }\n",
       "    console.debug(\"Bokeh: BokehJS not loaded, scheduling load and callback at\", now());\n",
       "    root._bokeh_is_loading = css_urls.length + js_urls.length;\n",
       "\n",
       "    function on_load() {\n",
       "      root._bokeh_is_loading--;\n",
       "      if (root._bokeh_is_loading === 0) {\n",
       "        console.debug(\"Bokeh: all BokehJS libraries/stylesheets loaded\");\n",
       "        run_callbacks()\n",
       "      }\n",
       "    }\n",
       "\n",
       "    function on_error(url) {\n",
       "      console.error(\"failed to load \" + url);\n",
       "    }\n",
       "\n",
       "    for (let i = 0; i < css_urls.length; i++) {\n",
       "      const url = css_urls[i];\n",
       "      const element = document.createElement(\"link\");\n",
       "      element.onload = on_load;\n",
       "      element.onerror = on_error.bind(null, url);\n",
       "      element.rel = \"stylesheet\";\n",
       "      element.type = \"text/css\";\n",
       "      element.href = url;\n",
       "      console.debug(\"Bokeh: injecting link tag for BokehJS stylesheet: \", url);\n",
       "      document.body.appendChild(element);\n",
       "    }\n",
       "\n",
       "    for (let i = 0; i < js_urls.length; i++) {\n",
       "      const url = js_urls[i];\n",
       "      const element = document.createElement('script');\n",
       "      element.onload = on_load;\n",
       "      element.onerror = on_error.bind(null, url);\n",
       "      element.async = false;\n",
       "      element.src = url;\n",
       "      console.debug(\"Bokeh: injecting script tag for BokehJS library: \", url);\n",
       "      document.head.appendChild(element);\n",
       "    }\n",
       "  };\n",
       "\n",
       "  function inject_raw_css(css) {\n",
       "    const element = document.createElement(\"style\");\n",
       "    element.appendChild(document.createTextNode(css));\n",
       "    document.body.appendChild(element);\n",
       "  }\n",
       "\n",
       "  const js_urls = [\"https://cdn.bokeh.org/bokeh/release/bokeh-3.3.4.min.js\", \"https://cdn.bokeh.org/bokeh/release/bokeh-gl-3.3.4.min.js\", \"https://cdn.bokeh.org/bokeh/release/bokeh-widgets-3.3.4.min.js\", \"https://cdn.bokeh.org/bokeh/release/bokeh-tables-3.3.4.min.js\", \"https://cdn.bokeh.org/bokeh/release/bokeh-mathjax-3.3.4.min.js\"];\n",
       "  const css_urls = [];\n",
       "\n",
       "  const inline_js = [    function(Bokeh) {\n",
       "      Bokeh.set_log_level(\"info\");\n",
       "    },\n",
       "function(Bokeh) {\n",
       "    }\n",
       "  ];\n",
       "\n",
       "  function run_inline_js() {\n",
       "    if (root.Bokeh !== undefined || force === true) {\n",
       "          for (let i = 0; i < inline_js.length; i++) {\n",
       "      inline_js[i].call(root, root.Bokeh);\n",
       "    }\n",
       "if (force === true) {\n",
       "        display_loaded();\n",
       "      }} else if (Date.now() < root._bokeh_timeout) {\n",
       "      setTimeout(run_inline_js, 100);\n",
       "    } else if (!root._bokeh_failed_load) {\n",
       "      console.log(\"Bokeh: BokehJS failed to load within specified timeout.\");\n",
       "      root._bokeh_failed_load = true;\n",
       "    } else if (force !== true) {\n",
       "      const cell = $(document.getElementById(\"c317cf3d-71e4-491b-bde9-1e454a32be22\")).parents('.cell').data().cell;\n",
       "      cell.output_area.append_execute_result(NB_LOAD_WARNING)\n",
       "    }\n",
       "  }\n",
       "\n",
       "  if (root._bokeh_is_loading === 0) {\n",
       "    console.debug(\"Bokeh: BokehJS loaded, going straight to plotting\");\n",
       "    run_inline_js();\n",
       "  } else {\n",
       "    load_libs(css_urls, js_urls, function() {\n",
       "      console.debug(\"Bokeh: BokehJS plotting callback run at\", now());\n",
       "      run_inline_js();\n",
       "    });\n",
       "  }\n",
       "}(window));"
      ],
      "application/vnd.bokehjs_load.v0+json": "(function(root) {\n  function now() {\n    return new Date();\n  }\n\n  const force = true;\n\n  if (typeof root._bokeh_onload_callbacks === \"undefined\" || force === true) {\n    root._bokeh_onload_callbacks = [];\n    root._bokeh_is_loading = undefined;\n  }\n\n\n  if (typeof (root._bokeh_timeout) === \"undefined\" || force === true) {\n    root._bokeh_timeout = Date.now() + 5000;\n    root._bokeh_failed_load = false;\n  }\n\n  const NB_LOAD_WARNING = {'data': {'text/html':\n     \"<div style='background-color: #fdd'>\\n\"+\n     \"<p>\\n\"+\n     \"BokehJS does not appear to have successfully loaded. If loading BokehJS from CDN, this \\n\"+\n     \"may be due to a slow or bad network connection. Possible fixes:\\n\"+\n     \"</p>\\n\"+\n     \"<ul>\\n\"+\n     \"<li>re-rerun `output_notebook()` to attempt to load from CDN again, or</li>\\n\"+\n     \"<li>use INLINE resources instead, as so:</li>\\n\"+\n     \"</ul>\\n\"+\n     \"<code>\\n\"+\n     \"from bokeh.resources import INLINE\\n\"+\n     \"output_notebook(resources=INLINE)\\n\"+\n     \"</code>\\n\"+\n     \"</div>\"}};\n\n  function display_loaded() {\n    const el = document.getElementById(\"c317cf3d-71e4-491b-bde9-1e454a32be22\");\n    if (el != null) {\n      el.textContent = \"BokehJS is loading...\";\n    }\n    if (root.Bokeh !== undefined) {\n      if (el != null) {\n        el.textContent = \"BokehJS \" + root.Bokeh.version + \" successfully loaded.\";\n      }\n    } else if (Date.now() < root._bokeh_timeout) {\n      setTimeout(display_loaded, 100)\n    }\n  }\n\n  function run_callbacks() {\n    try {\n      root._bokeh_onload_callbacks.forEach(function(callback) {\n        if (callback != null)\n          callback();\n      });\n    } finally {\n      delete root._bokeh_onload_callbacks\n    }\n    console.debug(\"Bokeh: all callbacks have finished\");\n  }\n\n  function load_libs(css_urls, js_urls, callback) {\n    if (css_urls == null) css_urls = [];\n    if (js_urls == null) js_urls = [];\n\n    root._bokeh_onload_callbacks.push(callback);\n    if (root._bokeh_is_loading > 0) {\n      console.debug(\"Bokeh: BokehJS is being loaded, scheduling callback at\", now());\n      return null;\n    }\n    if (js_urls == null || js_urls.length === 0) {\n      run_callbacks();\n      return null;\n    }\n    console.debug(\"Bokeh: BokehJS not loaded, scheduling load and callback at\", now());\n    root._bokeh_is_loading = css_urls.length + js_urls.length;\n\n    function on_load() {\n      root._bokeh_is_loading--;\n      if (root._bokeh_is_loading === 0) {\n        console.debug(\"Bokeh: all BokehJS libraries/stylesheets loaded\");\n        run_callbacks()\n      }\n    }\n\n    function on_error(url) {\n      console.error(\"failed to load \" + url);\n    }\n\n    for (let i = 0; i < css_urls.length; i++) {\n      const url = css_urls[i];\n      const element = document.createElement(\"link\");\n      element.onload = on_load;\n      element.onerror = on_error.bind(null, url);\n      element.rel = \"stylesheet\";\n      element.type = \"text/css\";\n      element.href = url;\n      console.debug(\"Bokeh: injecting link tag for BokehJS stylesheet: \", url);\n      document.body.appendChild(element);\n    }\n\n    for (let i = 0; i < js_urls.length; i++) {\n      const url = js_urls[i];\n      const element = document.createElement('script');\n      element.onload = on_load;\n      element.onerror = on_error.bind(null, url);\n      element.async = false;\n      element.src = url;\n      console.debug(\"Bokeh: injecting script tag for BokehJS library: \", url);\n      document.head.appendChild(element);\n    }\n  };\n\n  function inject_raw_css(css) {\n    const element = document.createElement(\"style\");\n    element.appendChild(document.createTextNode(css));\n    document.body.appendChild(element);\n  }\n\n  const js_urls = [\"https://cdn.bokeh.org/bokeh/release/bokeh-3.3.4.min.js\", \"https://cdn.bokeh.org/bokeh/release/bokeh-gl-3.3.4.min.js\", \"https://cdn.bokeh.org/bokeh/release/bokeh-widgets-3.3.4.min.js\", \"https://cdn.bokeh.org/bokeh/release/bokeh-tables-3.3.4.min.js\", \"https://cdn.bokeh.org/bokeh/release/bokeh-mathjax-3.3.4.min.js\"];\n  const css_urls = [];\n\n  const inline_js = [    function(Bokeh) {\n      Bokeh.set_log_level(\"info\");\n    },\nfunction(Bokeh) {\n    }\n  ];\n\n  function run_inline_js() {\n    if (root.Bokeh !== undefined || force === true) {\n          for (let i = 0; i < inline_js.length; i++) {\n      inline_js[i].call(root, root.Bokeh);\n    }\nif (force === true) {\n        display_loaded();\n      }} else if (Date.now() < root._bokeh_timeout) {\n      setTimeout(run_inline_js, 100);\n    } else if (!root._bokeh_failed_load) {\n      console.log(\"Bokeh: BokehJS failed to load within specified timeout.\");\n      root._bokeh_failed_load = true;\n    } else if (force !== true) {\n      const cell = $(document.getElementById(\"c317cf3d-71e4-491b-bde9-1e454a32be22\")).parents('.cell').data().cell;\n      cell.output_area.append_execute_result(NB_LOAD_WARNING)\n    }\n  }\n\n  if (root._bokeh_is_loading === 0) {\n    console.debug(\"Bokeh: BokehJS loaded, going straight to plotting\");\n    run_inline_js();\n  } else {\n    load_libs(css_urls, js_urls, function() {\n      console.debug(\"Bokeh: BokehJS plotting callback run at\", now());\n      run_inline_js();\n    });\n  }\n}(window));"
     },
     "metadata": {},
     "output_type": "display_data"
    }
   ],
   "source": [
    "import pandas as pd\n",
    "import numpy as np\n",
    "from scipy import stats\n",
    "import ast\n",
    "import networkx as nx\n",
    "from pyvis.network import Network\n",
    "import graphviz\n",
    "import seaborn as sns\n",
    "import matplotlib.pyplot as plt\n",
    "plt.style.use('tableau-colorblind10')\n",
    "import numba\n",
    "import seaborn as sns\n",
    "import iqplot\n",
    "from sklearn import metrics\n",
    "import bokeh.models\n",
    "import bokeh.plotting\n",
    "import bokeh.io\n",
    "bokeh.io.output_notebook()"
   ]
  },
  {
   "cell_type": "code",
   "execution_count": 2,
   "id": "c1f4e7e2-cbaf-4479-a07e-c0cdf18d8002",
   "metadata": {
    "tags": []
   },
   "outputs": [],
   "source": [
    "effects = pd.read_csv('WisconsinGraphRuntimes.csv')\n",
    "effects = effects.drop(['Average Runtime', 'Unnamed: 0', 'Data'], axis=1)\n",
    "effects = effects.rename({'# Edges': 'Number of Edges', 'Full Runtime': 'Runtime (Seconds)'}, axis=1)\n",
    "gnn = effects[effects['Explainer'] == 'GNN']\n",
    "gnn = gnn.rename({'Runtime (Seconds)': 'GNN Runtime (Seconds)'}, axis=1)\n",
    "gnn = gnn.drop(['Explainer'], axis=1)\n",
    "beta = effects[effects['Explainer'] == 'Beta']\n",
    "beta = beta.rename({'Runtime (Seconds)': 'Beta Runtime (Seconds)'}, axis=1)\n",
    "beta = beta.drop(['Explainer'], axis=1)\n",
    "diff = pd.merge(gnn, beta, how=\"right\", on=[\"# Epochs\",'Number of Edges'])\n",
    "diff['Difference (Seconds)'] = diff['Beta Runtime (Seconds)'] - diff['GNN Runtime (Seconds)']"
   ]
  },
  {
   "cell_type": "code",
   "execution_count": 3,
   "id": "49f340ab-c1f4-4179-8496-99f70e4d5980",
   "metadata": {
    "scrolled": true,
    "tags": []
   },
   "outputs": [
    {
     "data": {
      "text/html": [
       "\n",
       "  <div id=\"aa00ca7f-60a9-4cb7-9212-1fbd3ff23945\" data-root-id=\"p1001\" style=\"display: contents;\"></div>\n"
      ]
     },
     "metadata": {},
     "output_type": "display_data"
    },
    {
     "data": {
      "application/javascript": [
       "(function(root) {\n",
       "  function embed_document(root) {\n",
       "  const docs_json = {\"1dc0256b-108f-4518-92ff-40ef7e9b5385\":{\"version\":\"3.3.4\",\"title\":\"Bokeh Application\",\"roots\":[{\"type\":\"object\",\"name\":\"Figure\",\"id\":\"p1001\",\"attributes\":{\"width\":400,\"height\":300,\"x_range\":{\"type\":\"object\",\"name\":\"DataRange1d\",\"id\":\"p1002\"},\"y_range\":{\"type\":\"object\",\"name\":\"DataRange1d\",\"id\":\"p1003\"},\"x_scale\":{\"type\":\"object\",\"name\":\"LinearScale\",\"id\":\"p1010\"},\"y_scale\":{\"type\":\"object\",\"name\":\"LinearScale\",\"id\":\"p1011\"},\"title\":{\"type\":\"object\",\"name\":\"Title\",\"id\":\"p1008\",\"attributes\":{\"text\":\"Effect of Graph Size on Runtime for Wisconsin\"}},\"renderers\":[{\"type\":\"object\",\"name\":\"GlyphRenderer\",\"id\":\"p1042\",\"attributes\":{\"data_source\":{\"type\":\"object\",\"name\":\"ColumnDataSource\",\"id\":\"p1033\",\"attributes\":{\"selected\":{\"type\":\"object\",\"name\":\"Selection\",\"id\":\"p1034\",\"attributes\":{\"indices\":[],\"line_indices\":[]}},\"selection_policy\":{\"type\":\"object\",\"name\":\"UnionRenderers\",\"id\":\"p1035\"},\"data\":{\"type\":\"map\",\"entries\":[[\"index\",{\"type\":\"ndarray\",\"array\":{\"type\":\"bytes\",\"data\":\"AAAAAAIAAAAEAAAABgAAAAgAAAAKAAAADAAAAA4AAAAQAAAAEgAAABQAAAAWAAAAGAAAABoAAAAcAAAAHgAAACAAAAAiAAAAJAAAACYAAAAoAAAAKgAAACwAAAAuAAAAMAAAADIAAAA0AAAANgAAADgAAAA6AAAAPAAAAD4AAABAAAAAQgAAAEQAAABGAAAASAAAAEoAAABMAAAATgAAAFAAAABSAAAAVAAAAFYAAABYAAAAWgAAAFwAAABeAAAAYAAAAGIAAABkAAAAZgAAAGgAAABqAAAAbAAAAG4AAABwAAAAcgAAAHQAAAB2AAAAeAAAAHoAAAB8AAAAfgAAAIAAAACCAAAAhAAAAIYAAACIAAAAigAAAIwAAACOAAAAkAAAAJIAAACUAAAAlgAAAJgAAACaAAAAnAAAAJ4AAACgAAAAogAAAKQAAACmAAAAqAAAAKoAAACsAAAArgAAALAAAACyAAAAtAAAALYAAAC4AAAAugAAALwAAAC+AAAAwAAAAMIAAADEAAAAxgAAAA==\"},\"shape\":[100],\"dtype\":\"int32\",\"order\":\"little\"}],[\"Explainer\",{\"type\":\"ndarray\",\"array\":[\"Beta\",\"Beta\",\"Beta\",\"Beta\",\"Beta\",\"Beta\",\"Beta\",\"Beta\",\"Beta\",\"Beta\",\"Beta\",\"Beta\",\"Beta\",\"Beta\",\"Beta\",\"Beta\",\"Beta\",\"Beta\",\"Beta\",\"Beta\",\"Beta\",\"Beta\",\"Beta\",\"Beta\",\"Beta\",\"Beta\",\"Beta\",\"Beta\",\"Beta\",\"Beta\",\"Beta\",\"Beta\",\"Beta\",\"Beta\",\"Beta\",\"Beta\",\"Beta\",\"Beta\",\"Beta\",\"Beta\",\"Beta\",\"Beta\",\"Beta\",\"Beta\",\"Beta\",\"Beta\",\"Beta\",\"Beta\",\"Beta\",\"Beta\",\"Beta\",\"Beta\",\"Beta\",\"Beta\",\"Beta\",\"Beta\",\"Beta\",\"Beta\",\"Beta\",\"Beta\",\"Beta\",\"Beta\",\"Beta\",\"Beta\",\"Beta\",\"Beta\",\"Beta\",\"Beta\",\"Beta\",\"Beta\",\"Beta\",\"Beta\",\"Beta\",\"Beta\",\"Beta\",\"Beta\",\"Beta\",\"Beta\",\"Beta\",\"Beta\",\"Beta\",\"Beta\",\"Beta\",\"Beta\",\"Beta\",\"Beta\",\"Beta\",\"Beta\",\"Beta\",\"Beta\",\"Beta\",\"Beta\",\"Beta\",\"Beta\",\"Beta\",\"Beta\",\"Beta\",\"Beta\",\"Beta\",\"Beta\"],\"shape\":[100],\"dtype\":\"object\",\"order\":\"little\"}],[\"# Epochs\",{\"type\":\"ndarray\",\"array\":{\"type\":\"bytes\",\"data\":\"MgAAADIAAAAyAAAAMgAAADIAAAAyAAAAMgAAADIAAAAyAAAAMgAAADIAAAAyAAAAMgAAADIAAAAyAAAAMgAAADIAAAAyAAAAMgAAADIAAAAyAAAAMgAAADIAAAAyAAAAMgAAADIAAAAyAAAAMgAAADIAAAAyAAAAMgAAADIAAAAyAAAAMgAAADIAAAAyAAAAMgAAADIAAAAyAAAAMgAAADIAAAAyAAAAMgAAADIAAAAyAAAAMgAAADIAAAAyAAAAMgAAADIAAAAyAAAAMgAAADIAAAAyAAAAMgAAADIAAAAyAAAAMgAAADIAAAAyAAAAMgAAADIAAAAyAAAAMgAAADIAAAAyAAAAMgAAADIAAAAyAAAAMgAAADIAAAAyAAAAMgAAADIAAAAyAAAAMgAAADIAAAAyAAAAMgAAADIAAAAyAAAAMgAAADIAAAAyAAAAMgAAADIAAAAyAAAAMgAAADIAAAAyAAAAMgAAADIAAAAyAAAAMgAAADIAAAAyAAAAMgAAADIAAAAyAAAAMgAAAA==\"},\"shape\":[100],\"dtype\":\"int32\",\"order\":\"little\"}],[\"Runtime (Seconds)\",{\"type\":\"ndarray\",\"array\":{\"type\":\"bytes\",\"data\":\"AQAAAGwo7j8AAAAAOpvvPwAAAEAgf/A/////v4N68T8AAADA8BnzPwAAAAD1k/U/AAAAgP+I9z8AAABAdiL2PwAAAEBge/M/AAAAAOp29D8AAAAAe/X0PwAAAACYCvQ/AAAAQA9f8z8AAADAAez5P/////9WtPY/AAAAAHbx+T8AAAAAg/T6PwAAAIAsjPo/AAAAgGLl+T8AAACA0JL6PwAAAIAjLfo/AAAAAKLj+z8AAAAAfHP7PwAAAED+iP0/AAAAgNun+T8AAAAgRucBQP///79FG/4/AAAAgCii+j/+//9/Gzv9PwAAAMBd/Ps/////n2CwAEABAAAAJwH+PwAAAEAD+/8/AQAA4BujAUAAAACAaRn+PwAAAIBeU/w/AAAAAFYJBUAAAABAZJACQAAAAMCy8/4/AAAAIPN+AEAAAAAAqLICQAAAAKBEzgFA////v8VF/z8AAACAZOQCQAAAAABG7QJAAQAAgEgA/z8AAABAgcQCQAAAAGCaLgFAAAAA4EPWA0AAAAAA5mcEQAAAAMDvTwJAAAAAoMT9AkAAAACArRkDQAEAAABdiARAAQAA4EIdA0AAAABgqasDQAAAAOB0GQJAAAAA4KqSBEAAAACgVgoGQAAAAGCMcQVAAAAAYBh7BkAAAABAGzQJQAAAAACb/wdAAQAAoGy1BkAAAABA+3EHQAAAAEDyHgZAAAAAgHUdCEAAAADg+soFQAAAAGDovghAAAAA4GZDCUAAAABAh0wGQP///z/EjwhAAAAAQOTDB0AAAABgAMMIQAAAAACBnAZA////f9pWBUAAAACA76gFQAEAAABJEghAAAAAwAYtCUAAAADADOEHQAAAAOC0rwVA////n3qPCkABAACApg8GQAAAAIBk2AhAAAAAwP64B0ABAABgeX0LQAAAAEA+zglAAAAA4GbNCUD///9/2hoMQP///99SMw1AAQAAgGutCUAAAABgAZMGQAAAAOBmGghAAAAAoPTaC0ABAADAldMMQAAAAED56QhAAAAAAL5mBUAAAADAHeoNQAAAAADbXgFAAAAAQM/CCkA=\"},\"shape\":[100],\"dtype\":\"float64\",\"order\":\"little\"}],[\"Number of Edges\",{\"type\":\"ndarray\",\"array\":{\"type\":\"bytes\",\"data\":\"MgAAAGQAAACWAAAAyAAAAPoAAAAsAQAAXgEAAJABAADCAQAA9AEAACYCAABYAgAAigIAALwCAADuAgAAIAMAAFIDAACEAwAAtgMAAOgDAAAaBAAATAQAAH4EAACwBAAA4gQAABQFAABGBQAAeAUAAKoFAADcBQAADgYAAEAGAAByBgAApAYAANYGAAAIBwAAOgcAAGwHAACeBwAA0AcAAAIIAAA0CAAAZggAAJgIAADKCAAA/AgAAC4JAABgCQAAkgkAAMQJAAD2CQAAKAoAAFoKAACMCgAAvgoAAPAKAAAiCwAAVAsAAIYLAAC4CwAA6gsAABwMAABODAAAgAwAALIMAADkDAAAFg0AAEgNAAB6DQAArA0AAN4NAAAQDgAAQg4AAHQOAACmDgAA2A4AAAoPAAA8DwAAbg8AAKAPAADSDwAABBAAADYQAABoEAAAmhAAAMwQAAD+EAAAMBEAAGIRAACUEQAAxhEAAPgRAAAqEgAAXBIAAI4SAADAEgAA8hIAACQTAABWEwAAiBMAAA==\"},\"shape\":[100],\"dtype\":\"int32\",\"order\":\"little\"}]]}}},\"view\":{\"type\":\"object\",\"name\":\"CDSView\",\"id\":\"p1043\",\"attributes\":{\"filter\":{\"type\":\"object\",\"name\":\"AllIndices\",\"id\":\"p1044\"}}},\"glyph\":{\"type\":\"object\",\"name\":\"Circle\",\"id\":\"p1039\",\"attributes\":{\"x\":{\"type\":\"field\",\"field\":\"Number of Edges\"},\"y\":{\"type\":\"field\",\"field\":\"Runtime (Seconds)\"},\"line_color\":{\"type\":\"value\",\"value\":\"#1f77b4\"},\"fill_color\":{\"type\":\"value\",\"value\":\"#1f77b4\"}}},\"nonselection_glyph\":{\"type\":\"object\",\"name\":\"Circle\",\"id\":\"p1040\",\"attributes\":{\"x\":{\"type\":\"field\",\"field\":\"Number of Edges\"},\"y\":{\"type\":\"field\",\"field\":\"Runtime (Seconds)\"},\"line_color\":{\"type\":\"value\",\"value\":\"#1f77b4\"},\"line_alpha\":{\"type\":\"value\",\"value\":0.1},\"fill_color\":{\"type\":\"value\",\"value\":\"#1f77b4\"},\"fill_alpha\":{\"type\":\"value\",\"value\":0.1},\"hatch_alpha\":{\"type\":\"value\",\"value\":0.1}}},\"muted_glyph\":{\"type\":\"object\",\"name\":\"Circle\",\"id\":\"p1041\",\"attributes\":{\"x\":{\"type\":\"field\",\"field\":\"Number of Edges\"},\"y\":{\"type\":\"field\",\"field\":\"Runtime (Seconds)\"},\"line_color\":{\"type\":\"value\",\"value\":\"#1f77b4\"},\"line_alpha\":{\"type\":\"value\",\"value\":0.2},\"fill_color\":{\"type\":\"value\",\"value\":\"#1f77b4\"},\"fill_alpha\":{\"type\":\"value\",\"value\":0.2},\"hatch_alpha\":{\"type\":\"value\",\"value\":0.2}}}}},{\"type\":\"object\",\"name\":\"GlyphRenderer\",\"id\":\"p1056\",\"attributes\":{\"data_source\":{\"type\":\"object\",\"name\":\"ColumnDataSource\",\"id\":\"p1047\",\"attributes\":{\"selected\":{\"type\":\"object\",\"name\":\"Selection\",\"id\":\"p1048\",\"attributes\":{\"indices\":[],\"line_indices\":[]}},\"selection_policy\":{\"type\":\"object\",\"name\":\"UnionRenderers\",\"id\":\"p1049\"},\"data\":{\"type\":\"map\",\"entries\":[[\"index\",{\"type\":\"ndarray\",\"array\":{\"type\":\"bytes\",\"data\":\"AQAAAAMAAAAFAAAABwAAAAkAAAALAAAADQAAAA8AAAARAAAAEwAAABUAAAAXAAAAGQAAABsAAAAdAAAAHwAAACEAAAAjAAAAJQAAACcAAAApAAAAKwAAAC0AAAAvAAAAMQAAADMAAAA1AAAANwAAADkAAAA7AAAAPQAAAD8AAABBAAAAQwAAAEUAAABHAAAASQAAAEsAAABNAAAATwAAAFEAAABTAAAAVQAAAFcAAABZAAAAWwAAAF0AAABfAAAAYQAAAGMAAABlAAAAZwAAAGkAAABrAAAAbQAAAG8AAABxAAAAcwAAAHUAAAB3AAAAeQAAAHsAAAB9AAAAfwAAAIEAAACDAAAAhQAAAIcAAACJAAAAiwAAAI0AAACPAAAAkQAAAJMAAACVAAAAlwAAAJkAAACbAAAAnQAAAJ8AAAChAAAAowAAAKUAAACnAAAAqQAAAKsAAACtAAAArwAAALEAAACzAAAAtQAAALcAAAC5AAAAuwAAAL0AAAC/AAAAwQAAAMMAAADFAAAAxwAAAA==\"},\"shape\":[100],\"dtype\":\"int32\",\"order\":\"little\"}],[\"Explainer\",{\"type\":\"ndarray\",\"array\":[\"GNN\",\"GNN\",\"GNN\",\"GNN\",\"GNN\",\"GNN\",\"GNN\",\"GNN\",\"GNN\",\"GNN\",\"GNN\",\"GNN\",\"GNN\",\"GNN\",\"GNN\",\"GNN\",\"GNN\",\"GNN\",\"GNN\",\"GNN\",\"GNN\",\"GNN\",\"GNN\",\"GNN\",\"GNN\",\"GNN\",\"GNN\",\"GNN\",\"GNN\",\"GNN\",\"GNN\",\"GNN\",\"GNN\",\"GNN\",\"GNN\",\"GNN\",\"GNN\",\"GNN\",\"GNN\",\"GNN\",\"GNN\",\"GNN\",\"GNN\",\"GNN\",\"GNN\",\"GNN\",\"GNN\",\"GNN\",\"GNN\",\"GNN\",\"GNN\",\"GNN\",\"GNN\",\"GNN\",\"GNN\",\"GNN\",\"GNN\",\"GNN\",\"GNN\",\"GNN\",\"GNN\",\"GNN\",\"GNN\",\"GNN\",\"GNN\",\"GNN\",\"GNN\",\"GNN\",\"GNN\",\"GNN\",\"GNN\",\"GNN\",\"GNN\",\"GNN\",\"GNN\",\"GNN\",\"GNN\",\"GNN\",\"GNN\",\"GNN\",\"GNN\",\"GNN\",\"GNN\",\"GNN\",\"GNN\",\"GNN\",\"GNN\",\"GNN\",\"GNN\",\"GNN\",\"GNN\",\"GNN\",\"GNN\",\"GNN\",\"GNN\",\"GNN\",\"GNN\",\"GNN\",\"GNN\",\"GNN\"],\"shape\":[100],\"dtype\":\"object\",\"order\":\"little\"}],[\"# Epochs\",{\"type\":\"ndarray\",\"array\":{\"type\":\"bytes\",\"data\":\"MgAAADIAAAAyAAAAMgAAADIAAAAyAAAAMgAAADIAAAAyAAAAMgAAADIAAAAyAAAAMgAAADIAAAAyAAAAMgAAADIAAAAyAAAAMgAAADIAAAAyAAAAMgAAADIAAAAyAAAAMgAAADIAAAAyAAAAMgAAADIAAAAyAAAAMgAAADIAAAAyAAAAMgAAADIAAAAyAAAAMgAAADIAAAAyAAAAMgAAADIAAAAyAAAAMgAAADIAAAAyAAAAMgAAADIAAAAyAAAAMgAAADIAAAAyAAAAMgAAADIAAAAyAAAAMgAAADIAAAAyAAAAMgAAADIAAAAyAAAAMgAAADIAAAAyAAAAMgAAADIAAAAyAAAAMgAAADIAAAAyAAAAMgAAADIAAAAyAAAAMgAAADIAAAAyAAAAMgAAADIAAAAyAAAAMgAAADIAAAAyAAAAMgAAADIAAAAyAAAAMgAAADIAAAAyAAAAMgAAADIAAAAyAAAAMgAAADIAAAAyAAAAMgAAADIAAAAyAAAAMgAAADIAAAAyAAAAMgAAAA==\"},\"shape\":[100],\"dtype\":\"int32\",\"order\":\"little\"}],[\"Runtime (Seconds)\",{\"type\":\"ndarray\",\"array\":{\"type\":\"bytes\",\"data\":\"AAAAAGC84j8AAAAADr7aP/////9kjNs/AAAAgMPx4j8AAACAsMHpPwAAAIAxo+k/AAAAAJ7b5j8AAAAASWXiPwAAAABSzOc/AAAAgPmX6T8AAACAS1jpPwAAAADNuew/AAAAwA9h8D8AAAAAx4ftPwAAAAABO/U/////v8MP8z8AAACA7/DxPwAAAMBAe/E/AQAAgLnn7j8AAABASkr0PwAAAADoYPI//////5O58j8AAAAAmufyPwEAAIALvfY/////f3TG8j8AAACALQv3PwAAAIB+ifI/AAAAgGUM9D////9/th33PwAAAECYZ/U/AAAAwMAM+T8AAABAGHL2PwAAAECAZvk/AAAAgB6R+D8AAAAAcen6PwAAAMB9n/E/////P2Vz/D8AAACAH//5PwAAAMDfGfQ/AAAAgMD/+j8AAABAcVn7PwAAAICrB/g//v//P1TT/D8AAADALa/6PwAAAEAEvfk/AQAAAGk79T8AAAAAg836PwAAAMDpg/k/AAAAAN9Z+T8AAABACnj+PwEAAMCa1Ps/AAAAgENN/D//////U039PwAAAIBnYP4/AAAAgHxb/D8BAADAe+T+PwAAAMB64f8/AAAAQETj/D8AAACAqeL+PwAAACDwkABA////Py6+/z8AAABAcSIAQAAAACAJ+ABAAAAAYC2mAUAAAABgGX8BQAAAAGAhKgBAAAAAAEUAAUAAAADAOM0CQAAAAIDBHgJAAAAAgI22AkAAAAAg5wYCQAAAAOAQAQNA////P2NeAUAAAABA72cCQAEAACCoYAFA/////xHiAUAAAABAGsj/PwAAAOAQ1QBAAAAAQDDhA0AAAABAZqYCQAAAAKC+RwBAAAAA4Il7A0AAAAAAihkAQAAAAIDMQwRAAAAAYNmAAkAAAADgITgDQP///1/r+wFAAAAAoN5/BEAAAACgbR8EQAAAAACEUgVAAAAAgJL4AkAAAADgZwsBQAAAAICdWAVAAAAAoDlABkAAAABgYcgDQAAAAKCtBwBAAAAAgPqqAUAAAADgzDIHQAAAAABGYvI/AAAA4KorBkA=\"},\"shape\":[100],\"dtype\":\"float64\",\"order\":\"little\"}],[\"Number of Edges\",{\"type\":\"ndarray\",\"array\":{\"type\":\"bytes\",\"data\":\"MgAAAGQAAACWAAAAyAAAAPoAAAAsAQAAXgEAAJABAADCAQAA9AEAACYCAABYAgAAigIAALwCAADuAgAAIAMAAFIDAACEAwAAtgMAAOgDAAAaBAAATAQAAH4EAACwBAAA4gQAABQFAABGBQAAeAUAAKoFAADcBQAADgYAAEAGAAByBgAApAYAANYGAAAIBwAAOgcAAGwHAACeBwAA0AcAAAIIAAA0CAAAZggAAJgIAADKCAAA/AgAAC4JAABgCQAAkgkAAMQJAAD2CQAAKAoAAFoKAACMCgAAvgoAAPAKAAAiCwAAVAsAAIYLAAC4CwAA6gsAABwMAABODAAAgAwAALIMAADkDAAAFg0AAEgNAAB6DQAArA0AAN4NAAAQDgAAQg4AAHQOAACmDgAA2A4AAAoPAAA8DwAAbg8AAKAPAADSDwAABBAAADYQAABoEAAAmhAAAMwQAAD+EAAAMBEAAGIRAACUEQAAxhEAAPgRAAAqEgAAXBIAAI4SAADAEgAA8hIAACQTAABWEwAAiBMAAA==\"},\"shape\":[100],\"dtype\":\"int32\",\"order\":\"little\"}]]}}},\"view\":{\"type\":\"object\",\"name\":\"CDSView\",\"id\":\"p1057\",\"attributes\":{\"filter\":{\"type\":\"object\",\"name\":\"AllIndices\",\"id\":\"p1058\"}}},\"glyph\":{\"type\":\"object\",\"name\":\"Circle\",\"id\":\"p1053\",\"attributes\":{\"x\":{\"type\":\"field\",\"field\":\"Number of Edges\"},\"y\":{\"type\":\"field\",\"field\":\"Runtime (Seconds)\"},\"line_color\":{\"type\":\"value\",\"value\":\"orange\"},\"fill_color\":{\"type\":\"value\",\"value\":\"orange\"},\"hatch_color\":{\"type\":\"value\",\"value\":\"orange\"}}},\"nonselection_glyph\":{\"type\":\"object\",\"name\":\"Circle\",\"id\":\"p1054\",\"attributes\":{\"x\":{\"type\":\"field\",\"field\":\"Number of Edges\"},\"y\":{\"type\":\"field\",\"field\":\"Runtime (Seconds)\"},\"line_color\":{\"type\":\"value\",\"value\":\"orange\"},\"line_alpha\":{\"type\":\"value\",\"value\":0.1},\"fill_color\":{\"type\":\"value\",\"value\":\"orange\"},\"fill_alpha\":{\"type\":\"value\",\"value\":0.1},\"hatch_color\":{\"type\":\"value\",\"value\":\"orange\"},\"hatch_alpha\":{\"type\":\"value\",\"value\":0.1}}},\"muted_glyph\":{\"type\":\"object\",\"name\":\"Circle\",\"id\":\"p1055\",\"attributes\":{\"x\":{\"type\":\"field\",\"field\":\"Number of Edges\"},\"y\":{\"type\":\"field\",\"field\":\"Runtime (Seconds)\"},\"line_color\":{\"type\":\"value\",\"value\":\"orange\"},\"line_alpha\":{\"type\":\"value\",\"value\":0.2},\"fill_color\":{\"type\":\"value\",\"value\":\"orange\"},\"fill_alpha\":{\"type\":\"value\",\"value\":0.2},\"hatch_color\":{\"type\":\"value\",\"value\":\"orange\"},\"hatch_alpha\":{\"type\":\"value\",\"value\":0.2}}}}}],\"toolbar\":{\"type\":\"object\",\"name\":\"Toolbar\",\"id\":\"p1009\",\"attributes\":{\"tools\":[{\"type\":\"object\",\"name\":\"PanTool\",\"id\":\"p1022\"},{\"type\":\"object\",\"name\":\"WheelZoomTool\",\"id\":\"p1023\",\"attributes\":{\"renderers\":\"auto\"}},{\"type\":\"object\",\"name\":\"BoxZoomTool\",\"id\":\"p1024\",\"attributes\":{\"overlay\":{\"type\":\"object\",\"name\":\"BoxAnnotation\",\"id\":\"p1025\",\"attributes\":{\"syncable\":false,\"level\":\"overlay\",\"visible\":false,\"left\":{\"type\":\"number\",\"value\":\"nan\"},\"right\":{\"type\":\"number\",\"value\":\"nan\"},\"top\":{\"type\":\"number\",\"value\":\"nan\"},\"bottom\":{\"type\":\"number\",\"value\":\"nan\"},\"left_units\":\"canvas\",\"right_units\":\"canvas\",\"top_units\":\"canvas\",\"bottom_units\":\"canvas\",\"line_color\":\"black\",\"line_alpha\":1.0,\"line_width\":2,\"line_dash\":[4,4],\"fill_color\":\"lightgrey\",\"fill_alpha\":0.5}}}},{\"type\":\"object\",\"name\":\"SaveTool\",\"id\":\"p1030\"},{\"type\":\"object\",\"name\":\"ResetTool\",\"id\":\"p1031\"},{\"type\":\"object\",\"name\":\"HelpTool\",\"id\":\"p1032\"}]}},\"left\":[{\"type\":\"object\",\"name\":\"LinearAxis\",\"id\":\"p1017\",\"attributes\":{\"ticker\":{\"type\":\"object\",\"name\":\"BasicTicker\",\"id\":\"p1018\",\"attributes\":{\"mantissas\":[1,2,5]}},\"formatter\":{\"type\":\"object\",\"name\":\"BasicTickFormatter\",\"id\":\"p1019\"},\"axis_label\":\"Runtime (Seconds)\",\"major_label_policy\":{\"type\":\"object\",\"name\":\"AllLabels\",\"id\":\"p1020\"}}}],\"below\":[{\"type\":\"object\",\"name\":\"LinearAxis\",\"id\":\"p1012\",\"attributes\":{\"ticker\":{\"type\":\"object\",\"name\":\"BasicTicker\",\"id\":\"p1013\",\"attributes\":{\"mantissas\":[1,2,5]}},\"formatter\":{\"type\":\"object\",\"name\":\"BasicTickFormatter\",\"id\":\"p1014\"},\"axis_label\":\"Number of Edges\",\"major_label_policy\":{\"type\":\"object\",\"name\":\"AllLabels\",\"id\":\"p1015\"}}}],\"center\":[{\"type\":\"object\",\"name\":\"Grid\",\"id\":\"p1016\",\"attributes\":{\"axis\":{\"id\":\"p1012\"}}},{\"type\":\"object\",\"name\":\"Grid\",\"id\":\"p1021\",\"attributes\":{\"dimension\":1,\"axis\":{\"id\":\"p1017\"}}},{\"type\":\"object\",\"name\":\"Legend\",\"id\":\"p1045\",\"attributes\":{\"location\":\"top_left\",\"items\":[{\"type\":\"object\",\"name\":\"LegendItem\",\"id\":\"p1046\",\"attributes\":{\"label\":{\"type\":\"value\",\"value\":\"Beta\"},\"renderers\":[{\"id\":\"p1042\"}]}},{\"type\":\"object\",\"name\":\"LegendItem\",\"id\":\"p1059\",\"attributes\":{\"label\":{\"type\":\"value\",\"value\":\"GNN\"},\"renderers\":[{\"id\":\"p1056\"}]}}]}}]}}]}};\n",
       "  const render_items = [{\"docid\":\"1dc0256b-108f-4518-92ff-40ef7e9b5385\",\"roots\":{\"p1001\":\"aa00ca7f-60a9-4cb7-9212-1fbd3ff23945\"},\"root_ids\":[\"p1001\"]}];\n",
       "  root.Bokeh.embed.embed_items_notebook(docs_json, render_items);\n",
       "  }\n",
       "  if (root.Bokeh !== undefined) {\n",
       "    embed_document(root);\n",
       "  } else {\n",
       "    let attempts = 0;\n",
       "    const timer = setInterval(function(root) {\n",
       "      if (root.Bokeh !== undefined) {\n",
       "        clearInterval(timer);\n",
       "        embed_document(root);\n",
       "      } else {\n",
       "        attempts++;\n",
       "        if (attempts > 100) {\n",
       "          clearInterval(timer);\n",
       "          console.log(\"Bokeh: ERROR: Unable to run BokehJS code because BokehJS library is missing\");\n",
       "        }\n",
       "      }\n",
       "    }, 10, root)\n",
       "  }\n",
       "})(window);"
      ],
      "application/vnd.bokehjs_exec.v0+json": ""
     },
     "metadata": {
      "application/vnd.bokehjs_exec.v0+json": {
       "id": "p1001"
      }
     },
     "output_type": "display_data"
    }
   ],
   "source": [
    "x = \"Number of Edges\"\n",
    "y = \"Runtime (Seconds)\"\n",
    "p = bokeh.plotting.figure(\n",
    "    width=400,\n",
    "    height=300,\n",
    "    x_axis_label=x,\n",
    "    y_axis_label=y,\n",
    ")\n",
    "p.circle(\n",
    "    source=effects[effects['Explainer'] == 'Beta'],\n",
    "    x=x,\n",
    "    y=y,\n",
    "    legend_label=\"Beta\",\n",
    ")\n",
    "p.circle(\n",
    "    source=effects[effects['Explainer'] == 'GNN'],\n",
    "    x=x,\n",
    "    y=y,\n",
    "    legend_label=\"GNN\",\n",
    "    color='orange'\n",
    ")\n",
    "p.legend.location = \"top_left\"\n",
    "p.title.text = 'Effect of Graph Size on Runtime for Wisconsin'\n",
    "bokeh.io.show(p)"
   ]
  },
  {
   "cell_type": "code",
   "execution_count": 4,
   "id": "066cc59d-ae27-49b0-b522-af635845abb8",
   "metadata": {
    "scrolled": true,
    "tags": []
   },
   "outputs": [
    {
     "data": {
      "text/html": [
       "\n",
       "  <div id=\"e90a724a-9637-4aa3-b9ad-255aadada0e4\" data-root-id=\"p1068\" style=\"display: contents;\"></div>\n"
      ]
     },
     "metadata": {},
     "output_type": "display_data"
    },
    {
     "data": {
      "application/javascript": [
       "(function(root) {\n",
       "  function embed_document(root) {\n",
       "  const docs_json = {\"2d198284-244d-43f3-bcee-28bb429d3694\":{\"version\":\"3.3.4\",\"title\":\"Bokeh Application\",\"roots\":[{\"type\":\"object\",\"name\":\"Figure\",\"id\":\"p1068\",\"attributes\":{\"width\":400,\"height\":300,\"x_range\":{\"type\":\"object\",\"name\":\"DataRange1d\",\"id\":\"p1069\"},\"y_range\":{\"type\":\"object\",\"name\":\"DataRange1d\",\"id\":\"p1070\"},\"x_scale\":{\"type\":\"object\",\"name\":\"LinearScale\",\"id\":\"p1077\"},\"y_scale\":{\"type\":\"object\",\"name\":\"LinearScale\",\"id\":\"p1078\"},\"title\":{\"type\":\"object\",\"name\":\"Title\",\"id\":\"p1075\"},\"renderers\":[{\"type\":\"object\",\"name\":\"GlyphRenderer\",\"id\":\"p1109\",\"attributes\":{\"data_source\":{\"type\":\"object\",\"name\":\"ColumnDataSource\",\"id\":\"p1100\",\"attributes\":{\"selected\":{\"type\":\"object\",\"name\":\"Selection\",\"id\":\"p1101\",\"attributes\":{\"indices\":[],\"line_indices\":[]}},\"selection_policy\":{\"type\":\"object\",\"name\":\"UnionRenderers\",\"id\":\"p1102\"},\"data\":{\"type\":\"map\",\"entries\":[[\"index\",{\"type\":\"ndarray\",\"array\":{\"type\":\"bytes\",\"data\":\"AAAAAAEAAAACAAAAAwAAAAQAAAAFAAAABgAAAAcAAAAIAAAACQAAAAoAAAALAAAADAAAAA0AAAAOAAAADwAAABAAAAARAAAAEgAAABMAAAAUAAAAFQAAABYAAAAXAAAAGAAAABkAAAAaAAAAGwAAABwAAAAdAAAAHgAAAB8AAAAgAAAAIQAAACIAAAAjAAAAJAAAACUAAAAmAAAAJwAAACgAAAApAAAAKgAAACsAAAAsAAAALQAAAC4AAAAvAAAAMAAAADEAAAAyAAAAMwAAADQAAAA1AAAANgAAADcAAAA4AAAAOQAAADoAAAA7AAAAPAAAAD0AAAA+AAAAPwAAAEAAAABBAAAAQgAAAEMAAABEAAAARQAAAEYAAABHAAAASAAAAEkAAABKAAAASwAAAEwAAABNAAAATgAAAE8AAABQAAAAUQAAAFIAAABTAAAAVAAAAFUAAABWAAAAVwAAAFgAAABZAAAAWgAAAFsAAABcAAAAXQAAAF4AAABfAAAAYAAAAGEAAABiAAAAYwAAAA==\"},\"shape\":[100],\"dtype\":\"int32\",\"order\":\"little\"}],[\"# Epochs\",{\"type\":\"ndarray\",\"array\":{\"type\":\"bytes\",\"data\":\"MgAAADIAAAAyAAAAMgAAADIAAAAyAAAAMgAAADIAAAAyAAAAMgAAADIAAAAyAAAAMgAAADIAAAAyAAAAMgAAADIAAAAyAAAAMgAAADIAAAAyAAAAMgAAADIAAAAyAAAAMgAAADIAAAAyAAAAMgAAADIAAAAyAAAAMgAAADIAAAAyAAAAMgAAADIAAAAyAAAAMgAAADIAAAAyAAAAMgAAADIAAAAyAAAAMgAAADIAAAAyAAAAMgAAADIAAAAyAAAAMgAAADIAAAAyAAAAMgAAADIAAAAyAAAAMgAAADIAAAAyAAAAMgAAADIAAAAyAAAAMgAAADIAAAAyAAAAMgAAADIAAAAyAAAAMgAAADIAAAAyAAAAMgAAADIAAAAyAAAAMgAAADIAAAAyAAAAMgAAADIAAAAyAAAAMgAAADIAAAAyAAAAMgAAADIAAAAyAAAAMgAAADIAAAAyAAAAMgAAADIAAAAyAAAAMgAAADIAAAAyAAAAMgAAADIAAAAyAAAAMgAAADIAAAAyAAAAMgAAAA==\"},\"shape\":[100],\"dtype\":\"int32\",\"order\":\"little\"}],[\"GNN Runtime (Seconds)\",{\"type\":\"ndarray\",\"array\":{\"type\":\"bytes\",\"data\":\"AAAAAGC84j8AAAAADr7aP/////9kjNs/AAAAgMPx4j8AAACAsMHpPwAAAIAxo+k/AAAAAJ7b5j8AAAAASWXiPwAAAABSzOc/AAAAgPmX6T8AAACAS1jpPwAAAADNuew/AAAAwA9h8D8AAAAAx4ftPwAAAAABO/U/////v8MP8z8AAACA7/DxPwAAAMBAe/E/AQAAgLnn7j8AAABASkr0PwAAAADoYPI//////5O58j8AAAAAmufyPwEAAIALvfY/////f3TG8j8AAACALQv3PwAAAIB+ifI/AAAAgGUM9D////9/th33PwAAAECYZ/U/AAAAwMAM+T8AAABAGHL2PwAAAECAZvk/AAAAgB6R+D8AAAAAcen6PwAAAMB9n/E/////P2Vz/D8AAACAH//5PwAAAMDfGfQ/AAAAgMD/+j8AAABAcVn7PwAAAICrB/g//v//P1TT/D8AAADALa/6PwAAAEAEvfk/AQAAAGk79T8AAAAAg836PwAAAMDpg/k/AAAAAN9Z+T8AAABACnj+PwEAAMCa1Ps/AAAAgENN/D//////U039PwAAAIBnYP4/AAAAgHxb/D8BAADAe+T+PwAAAMB64f8/AAAAQETj/D8AAACAqeL+PwAAACDwkABA////Py6+/z8AAABAcSIAQAAAACAJ+ABAAAAAYC2mAUAAAABgGX8BQAAAAGAhKgBAAAAAAEUAAUAAAADAOM0CQAAAAIDBHgJAAAAAgI22AkAAAAAg5wYCQAAAAOAQAQNA////P2NeAUAAAABA72cCQAEAACCoYAFA/////xHiAUAAAABAGsj/PwAAAOAQ1QBAAAAAQDDhA0AAAABAZqYCQAAAAKC+RwBAAAAA4Il7A0AAAAAAihkAQAAAAIDMQwRAAAAAYNmAAkAAAADgITgDQP///1/r+wFAAAAAoN5/BEAAAACgbR8EQAAAAACEUgVAAAAAgJL4AkAAAADgZwsBQAAAAICdWAVAAAAAoDlABkAAAABgYcgDQAAAAKCtBwBAAAAAgPqqAUAAAADgzDIHQAAAAABGYvI/AAAA4KorBkA=\"},\"shape\":[100],\"dtype\":\"float64\",\"order\":\"little\"}],[\"Number of Edges\",{\"type\":\"ndarray\",\"array\":{\"type\":\"bytes\",\"data\":\"MgAAAGQAAACWAAAAyAAAAPoAAAAsAQAAXgEAAJABAADCAQAA9AEAACYCAABYAgAAigIAALwCAADuAgAAIAMAAFIDAACEAwAAtgMAAOgDAAAaBAAATAQAAH4EAACwBAAA4gQAABQFAABGBQAAeAUAAKoFAADcBQAADgYAAEAGAAByBgAApAYAANYGAAAIBwAAOgcAAGwHAACeBwAA0AcAAAIIAAA0CAAAZggAAJgIAADKCAAA/AgAAC4JAABgCQAAkgkAAMQJAAD2CQAAKAoAAFoKAACMCgAAvgoAAPAKAAAiCwAAVAsAAIYLAAC4CwAA6gsAABwMAABODAAAgAwAALIMAADkDAAAFg0AAEgNAAB6DQAArA0AAN4NAAAQDgAAQg4AAHQOAACmDgAA2A4AAAoPAAA8DwAAbg8AAKAPAADSDwAABBAAADYQAABoEAAAmhAAAMwQAAD+EAAAMBEAAGIRAACUEQAAxhEAAPgRAAAqEgAAXBIAAI4SAADAEgAA8hIAACQTAABWEwAAiBMAAA==\"},\"shape\":[100],\"dtype\":\"int32\",\"order\":\"little\"}],[\"Beta Runtime (Seconds)\",{\"type\":\"ndarray\",\"array\":{\"type\":\"bytes\",\"data\":\"AQAAAGwo7j8AAAAAOpvvPwAAAEAgf/A/////v4N68T8AAADA8BnzPwAAAAD1k/U/AAAAgP+I9z8AAABAdiL2PwAAAEBge/M/AAAAAOp29D8AAAAAe/X0PwAAAACYCvQ/AAAAQA9f8z8AAADAAez5P/////9WtPY/AAAAAHbx+T8AAAAAg/T6PwAAAIAsjPo/AAAAgGLl+T8AAACA0JL6PwAAAIAjLfo/AAAAAKLj+z8AAAAAfHP7PwAAAED+iP0/AAAAgNun+T8AAAAgRucBQP///79FG/4/AAAAgCii+j/+//9/Gzv9PwAAAMBd/Ps/////n2CwAEABAAAAJwH+PwAAAEAD+/8/AQAA4BujAUAAAACAaRn+PwAAAIBeU/w/AAAAAFYJBUAAAABAZJACQAAAAMCy8/4/AAAAIPN+AEAAAAAAqLICQAAAAKBEzgFA////v8VF/z8AAACAZOQCQAAAAABG7QJAAQAAgEgA/z8AAABAgcQCQAAAAGCaLgFAAAAA4EPWA0AAAAAA5mcEQAAAAMDvTwJAAAAAoMT9AkAAAACArRkDQAEAAABdiARAAQAA4EIdA0AAAABgqasDQAAAAOB0GQJAAAAA4KqSBEAAAACgVgoGQAAAAGCMcQVAAAAAYBh7BkAAAABAGzQJQAAAAACb/wdAAQAAoGy1BkAAAABA+3EHQAAAAEDyHgZAAAAAgHUdCEAAAADg+soFQAAAAGDovghAAAAA4GZDCUAAAABAh0wGQP///z/EjwhAAAAAQOTDB0AAAABgAMMIQAAAAACBnAZA////f9pWBUAAAACA76gFQAEAAABJEghAAAAAwAYtCUAAAADADOEHQAAAAOC0rwVA////n3qPCkABAACApg8GQAAAAIBk2AhAAAAAwP64B0ABAABgeX0LQAAAAEA+zglAAAAA4GbNCUD///9/2hoMQP///99SMw1AAQAAgGutCUAAAABgAZMGQAAAAOBmGghAAAAAoPTaC0ABAADAldMMQAAAAED56QhAAAAAAL5mBUAAAADAHeoNQAAAAADbXgFAAAAAQM/CCkA=\"},\"shape\":[100],\"dtype\":\"float64\",\"order\":\"little\"}],[\"Difference (Seconds)\",{\"type\":\"ndarray\",\"array\":{\"type\":\"bytes\",\"data\":\"AgAAABjY1j8AAAAAMzziPwAAAAAOOOM//v///0MD4D8AAAAAYuTYPwAAAIC4hOE/AAAAAGE26D8AAACAo9/pPwAAAADdVN4/AAAAALWr3j8AAACAqpLgPwAAAADGttY/AAAAAPzvxz8AAACAPFDmP/D///9flbc/BAAAAMmG2z8AAAAAJwfiPwAAAIDXIeI/////fwvj5D8AAAAAGSLZPwAAAADuMN8/AgAAABxU4j8AAAAAxBfhP/z////KL9s/BAAAAJyF2z8AAACAvYbpP/7//3+OI+c/AAAAAAxX2j/8////k3XYPwAAAAAWU9o//P///wCo4D8EAAAAOzzePwAAAAAMUto/BAAAgDJq5T8AAAAAxH/JPwAAAIDBZ+U/AgAAgI0+6z8AAAAAUkPmPwAAAACms+U/AAAAAJf41z8AAACAvRfkPwAAAIC7Kec/CAAAAIyTwz8AAACANjPmPwAAAIAPO+g/AAAAAL+J4z8AAAAA/3blPwAAAACWsuE/AAAAgFGl7D8AAACAg6/kP/7//3+JluE/AAAAgItc4z8CAAAADszhPwQAAAClYOU/BAAAgBK+4z/+////reXgPwAAAAC8RdE/AAAAACOE6D8AAACAB2TqPwAAAABxguM/AgAAAAVw6j8AAAAAVCPyPwAAAIBHHuw/BAAAAP085D8AAACAh8vnPwAAAIBD0+c/AAAAAMJ07D8AAAAAEe7XPwAAAICbgOo/AAAAgGUz6j8AAACAgBbhP/z//3/NOuY/BAAAAASW6T8AAACARGzpP/z//39j7+Q/AAAAAESm2z8AAACAiRPnPwQAAIDg9Ow/AAAAAFov5T8AAAAAmurkPwAAAADZn+U//P///8JP7D8EAAAActjnPwAAAABgUuI/AAAAgJXg5D8CAAAAr4rwPwQAAIBLSe8/AAAAACE25T/8//9/s+3vP/z//387g+8/BAAAAGTT6j8AAAAAZh7mPwAAAABLDtY/AAAAAOxq5j8CAADAaBbyPwAAAECXxPE/AAAAABze3T8AAACAQ93qPwAAAABwW/A/AAAAgJFc4j8=\"},\"shape\":[100],\"dtype\":\"float64\",\"order\":\"little\"}]]}}},\"view\":{\"type\":\"object\",\"name\":\"CDSView\",\"id\":\"p1110\",\"attributes\":{\"filter\":{\"type\":\"object\",\"name\":\"AllIndices\",\"id\":\"p1111\"}}},\"glyph\":{\"type\":\"object\",\"name\":\"Circle\",\"id\":\"p1106\",\"attributes\":{\"x\":{\"type\":\"field\",\"field\":\"Number of Edges\"},\"y\":{\"type\":\"field\",\"field\":\"Difference (Seconds)\"},\"line_color\":{\"type\":\"value\",\"value\":\"#1f77b4\"},\"fill_color\":{\"type\":\"value\",\"value\":\"#1f77b4\"}}},\"nonselection_glyph\":{\"type\":\"object\",\"name\":\"Circle\",\"id\":\"p1107\",\"attributes\":{\"x\":{\"type\":\"field\",\"field\":\"Number of Edges\"},\"y\":{\"type\":\"field\",\"field\":\"Difference (Seconds)\"},\"line_color\":{\"type\":\"value\",\"value\":\"#1f77b4\"},\"line_alpha\":{\"type\":\"value\",\"value\":0.1},\"fill_color\":{\"type\":\"value\",\"value\":\"#1f77b4\"},\"fill_alpha\":{\"type\":\"value\",\"value\":0.1},\"hatch_alpha\":{\"type\":\"value\",\"value\":0.1}}},\"muted_glyph\":{\"type\":\"object\",\"name\":\"Circle\",\"id\":\"p1108\",\"attributes\":{\"x\":{\"type\":\"field\",\"field\":\"Number of Edges\"},\"y\":{\"type\":\"field\",\"field\":\"Difference (Seconds)\"},\"line_color\":{\"type\":\"value\",\"value\":\"#1f77b4\"},\"line_alpha\":{\"type\":\"value\",\"value\":0.2},\"fill_color\":{\"type\":\"value\",\"value\":\"#1f77b4\"},\"fill_alpha\":{\"type\":\"value\",\"value\":0.2},\"hatch_alpha\":{\"type\":\"value\",\"value\":0.2}}}}}],\"toolbar\":{\"type\":\"object\",\"name\":\"Toolbar\",\"id\":\"p1076\",\"attributes\":{\"tools\":[{\"type\":\"object\",\"name\":\"PanTool\",\"id\":\"p1089\"},{\"type\":\"object\",\"name\":\"WheelZoomTool\",\"id\":\"p1090\",\"attributes\":{\"renderers\":\"auto\"}},{\"type\":\"object\",\"name\":\"BoxZoomTool\",\"id\":\"p1091\",\"attributes\":{\"overlay\":{\"type\":\"object\",\"name\":\"BoxAnnotation\",\"id\":\"p1092\",\"attributes\":{\"syncable\":false,\"level\":\"overlay\",\"visible\":false,\"left\":{\"type\":\"number\",\"value\":\"nan\"},\"right\":{\"type\":\"number\",\"value\":\"nan\"},\"top\":{\"type\":\"number\",\"value\":\"nan\"},\"bottom\":{\"type\":\"number\",\"value\":\"nan\"},\"left_units\":\"canvas\",\"right_units\":\"canvas\",\"top_units\":\"canvas\",\"bottom_units\":\"canvas\",\"line_color\":\"black\",\"line_alpha\":1.0,\"line_width\":2,\"line_dash\":[4,4],\"fill_color\":\"lightgrey\",\"fill_alpha\":0.5}}}},{\"type\":\"object\",\"name\":\"SaveTool\",\"id\":\"p1097\"},{\"type\":\"object\",\"name\":\"ResetTool\",\"id\":\"p1098\"},{\"type\":\"object\",\"name\":\"HelpTool\",\"id\":\"p1099\"}]}},\"left\":[{\"type\":\"object\",\"name\":\"LinearAxis\",\"id\":\"p1084\",\"attributes\":{\"ticker\":{\"type\":\"object\",\"name\":\"BasicTicker\",\"id\":\"p1085\",\"attributes\":{\"mantissas\":[1,2,5]}},\"formatter\":{\"type\":\"object\",\"name\":\"BasicTickFormatter\",\"id\":\"p1086\"},\"axis_label\":\"Difference (Seconds)\",\"major_label_policy\":{\"type\":\"object\",\"name\":\"AllLabels\",\"id\":\"p1087\"}}}],\"below\":[{\"type\":\"object\",\"name\":\"LinearAxis\",\"id\":\"p1079\",\"attributes\":{\"ticker\":{\"type\":\"object\",\"name\":\"BasicTicker\",\"id\":\"p1080\",\"attributes\":{\"mantissas\":[1,2,5]}},\"formatter\":{\"type\":\"object\",\"name\":\"BasicTickFormatter\",\"id\":\"p1081\"},\"axis_label\":\"Number of Edges\",\"major_label_policy\":{\"type\":\"object\",\"name\":\"AllLabels\",\"id\":\"p1082\"}}}],\"center\":[{\"type\":\"object\",\"name\":\"Grid\",\"id\":\"p1083\",\"attributes\":{\"axis\":{\"id\":\"p1079\"}}},{\"type\":\"object\",\"name\":\"Grid\",\"id\":\"p1088\",\"attributes\":{\"dimension\":1,\"axis\":{\"id\":\"p1084\"}}}]}}]}};\n",
       "  const render_items = [{\"docid\":\"2d198284-244d-43f3-bcee-28bb429d3694\",\"roots\":{\"p1068\":\"e90a724a-9637-4aa3-b9ad-255aadada0e4\"},\"root_ids\":[\"p1068\"]}];\n",
       "  root.Bokeh.embed.embed_items_notebook(docs_json, render_items);\n",
       "  }\n",
       "  if (root.Bokeh !== undefined) {\n",
       "    embed_document(root);\n",
       "  } else {\n",
       "    let attempts = 0;\n",
       "    const timer = setInterval(function(root) {\n",
       "      if (root.Bokeh !== undefined) {\n",
       "        clearInterval(timer);\n",
       "        embed_document(root);\n",
       "      } else {\n",
       "        attempts++;\n",
       "        if (attempts > 100) {\n",
       "          clearInterval(timer);\n",
       "          console.log(\"Bokeh: ERROR: Unable to run BokehJS code because BokehJS library is missing\");\n",
       "        }\n",
       "      }\n",
       "    }, 10, root)\n",
       "  }\n",
       "})(window);"
      ],
      "application/vnd.bokehjs_exec.v0+json": ""
     },
     "metadata": {
      "application/vnd.bokehjs_exec.v0+json": {
       "id": "p1068"
      }
     },
     "output_type": "display_data"
    }
   ],
   "source": [
    "x = \"Number of Edges\"\n",
    "y = \"Difference (Seconds)\"\n",
    "p = bokeh.plotting.figure(\n",
    "    width=400,\n",
    "    height=300,\n",
    "    x_axis_label=x,\n",
    "    y_axis_label=y,\n",
    ")\n",
    "p.circle(\n",
    "    source=diff,\n",
    "    x=x,\n",
    "    y=y,\n",
    ")\n",
    "bokeh.io.show(p)"
   ]
  },
  {
   "cell_type": "code",
   "execution_count": 5,
   "id": "5e4480bb-e5f5-4ecd-9d2e-c0fd97eeccbc",
   "metadata": {
    "jupyter": {
     "source_hidden": true
    }
   },
   "outputs": [],
   "source": [
    "effects = pd.read_csv('TexasGraphRuntimes.csv')\n",
    "effects = effects.drop(['Average Runtime', 'Unnamed: 0', 'Data'], axis=1)\n",
    "effects = effects.rename({'# Edges': 'Number of Edges', 'Full Runtime': 'Runtime (Seconds)'}, axis=1)\n",
    "gnn = effects[effects['Explainer'] == 'GNN']\n",
    "gnn = gnn.rename({'Runtime (Seconds)': 'GNN Runtime (Seconds)'}, axis=1)\n",
    "gnn = gnn.drop(['Explainer'], axis=1)\n",
    "beta = effects[effects['Explainer'] == 'Beta']\n",
    "beta = beta.rename({'Runtime (Seconds)': 'Beta Runtime (Seconds)'}, axis=1)\n",
    "beta = beta.drop(['Explainer'], axis=1)\n",
    "diff = pd.merge(gnn, beta, how=\"right\", on=[\"# Epochs\",'Number of Edges'])\n",
    "diff['Difference (Seconds)'] = diff['Beta Runtime (Seconds)'] - diff['GNN Runtime (Seconds)']"
   ]
  },
  {
   "cell_type": "code",
   "execution_count": 6,
   "id": "aac95a88-2571-498c-a413-a00c7640bfa2",
   "metadata": {
    "jupyter": {
     "source_hidden": true
    },
    "scrolled": true
   },
   "outputs": [
    {
     "data": {
      "text/html": [
       "\n",
       "  <div id=\"d0205b26-4b58-4615-bb55-7b8bb113d1e2\" data-root-id=\"p1118\" style=\"display: contents;\"></div>\n"
      ]
     },
     "metadata": {},
     "output_type": "display_data"
    },
    {
     "data": {
      "application/javascript": [
       "(function(root) {\n",
       "  function embed_document(root) {\n",
       "  const docs_json = {\"e608fae0-5965-487a-a926-001e1b46cee4\":{\"version\":\"3.3.4\",\"title\":\"Bokeh Application\",\"roots\":[{\"type\":\"object\",\"name\":\"Figure\",\"id\":\"p1118\",\"attributes\":{\"width\":400,\"height\":300,\"x_range\":{\"type\":\"object\",\"name\":\"DataRange1d\",\"id\":\"p1119\"},\"y_range\":{\"type\":\"object\",\"name\":\"DataRange1d\",\"id\":\"p1120\"},\"x_scale\":{\"type\":\"object\",\"name\":\"LinearScale\",\"id\":\"p1127\"},\"y_scale\":{\"type\":\"object\",\"name\":\"LinearScale\",\"id\":\"p1128\"},\"title\":{\"type\":\"object\",\"name\":\"Title\",\"id\":\"p1125\"},\"renderers\":[{\"type\":\"object\",\"name\":\"GlyphRenderer\",\"id\":\"p1159\",\"attributes\":{\"data_source\":{\"type\":\"object\",\"name\":\"ColumnDataSource\",\"id\":\"p1150\",\"attributes\":{\"selected\":{\"type\":\"object\",\"name\":\"Selection\",\"id\":\"p1151\",\"attributes\":{\"indices\":[],\"line_indices\":[]}},\"selection_policy\":{\"type\":\"object\",\"name\":\"UnionRenderers\",\"id\":\"p1152\"},\"data\":{\"type\":\"map\",\"entries\":[[\"index\",{\"type\":\"ndarray\",\"array\":{\"type\":\"bytes\",\"data\":\"AAAAAAIAAAAEAAAABgAAAAgAAAAKAAAADAAAAA4AAAAQAAAAEgAAABQAAAAWAAAAGAAAABoAAAAcAAAAHgAAACAAAAAiAAAAJAAAACYAAAAoAAAAKgAAACwAAAAuAAAAMAAAADIAAAA0AAAANgAAADgAAAA6AAAAPAAAAD4AAABAAAAAQgAAAEQAAABGAAAASAAAAEoAAABMAAAATgAAAFAAAABSAAAAVAAAAFYAAABYAAAAWgAAAFwAAABeAAAAYAAAAGIAAABkAAAAZgAAAGgAAABqAAAAbAAAAG4AAABwAAAAcgAAAHQAAAB2AAAAeAAAAHoAAAB8AAAAfgAAAIAAAACCAAAAhAAAAIYAAACIAAAAigAAAIwAAACOAAAAkAAAAJIAAACUAAAAlgAAAJgAAACaAAAAnAAAAJ4AAACgAAAAogAAAKQAAACmAAAAqAAAAKoAAACsAAAArgAAALAAAACyAAAAtAAAALYAAAC4AAAAugAAALwAAAC+AAAAwAAAAMIAAADEAAAAxgAAAA==\"},\"shape\":[100],\"dtype\":\"int32\",\"order\":\"little\"}],[\"Explainer\",{\"type\":\"ndarray\",\"array\":[\"Beta\",\"Beta\",\"Beta\",\"Beta\",\"Beta\",\"Beta\",\"Beta\",\"Beta\",\"Beta\",\"Beta\",\"Beta\",\"Beta\",\"Beta\",\"Beta\",\"Beta\",\"Beta\",\"Beta\",\"Beta\",\"Beta\",\"Beta\",\"Beta\",\"Beta\",\"Beta\",\"Beta\",\"Beta\",\"Beta\",\"Beta\",\"Beta\",\"Beta\",\"Beta\",\"Beta\",\"Beta\",\"Beta\",\"Beta\",\"Beta\",\"Beta\",\"Beta\",\"Beta\",\"Beta\",\"Beta\",\"Beta\",\"Beta\",\"Beta\",\"Beta\",\"Beta\",\"Beta\",\"Beta\",\"Beta\",\"Beta\",\"Beta\",\"Beta\",\"Beta\",\"Beta\",\"Beta\",\"Beta\",\"Beta\",\"Beta\",\"Beta\",\"Beta\",\"Beta\",\"Beta\",\"Beta\",\"Beta\",\"Beta\",\"Beta\",\"Beta\",\"Beta\",\"Beta\",\"Beta\",\"Beta\",\"Beta\",\"Beta\",\"Beta\",\"Beta\",\"Beta\",\"Beta\",\"Beta\",\"Beta\",\"Beta\",\"Beta\",\"Beta\",\"Beta\",\"Beta\",\"Beta\",\"Beta\",\"Beta\",\"Beta\",\"Beta\",\"Beta\",\"Beta\",\"Beta\",\"Beta\",\"Beta\",\"Beta\",\"Beta\",\"Beta\",\"Beta\",\"Beta\",\"Beta\",\"Beta\"],\"shape\":[100],\"dtype\":\"object\",\"order\":\"little\"}],[\"# Epochs\",{\"type\":\"ndarray\",\"array\":{\"type\":\"bytes\",\"data\":\"MgAAADIAAAAyAAAAMgAAADIAAAAyAAAAMgAAADIAAAAyAAAAMgAAADIAAAAyAAAAMgAAADIAAAAyAAAAMgAAADIAAAAyAAAAMgAAADIAAAAyAAAAMgAAADIAAAAyAAAAMgAAADIAAAAyAAAAMgAAADIAAAAyAAAAMgAAADIAAAAyAAAAMgAAADIAAAAyAAAAMgAAADIAAAAyAAAAMgAAADIAAAAyAAAAMgAAADIAAAAyAAAAMgAAADIAAAAyAAAAMgAAADIAAAAyAAAAMgAAADIAAAAyAAAAMgAAADIAAAAyAAAAMgAAADIAAAAyAAAAMgAAADIAAAAyAAAAMgAAADIAAAAyAAAAMgAAADIAAAAyAAAAMgAAADIAAAAyAAAAMgAAADIAAAAyAAAAMgAAADIAAAAyAAAAMgAAADIAAAAyAAAAMgAAADIAAAAyAAAAMgAAADIAAAAyAAAAMgAAADIAAAAyAAAAMgAAADIAAAAyAAAAMgAAADIAAAAyAAAAMgAAADIAAAAyAAAAMgAAAA==\"},\"shape\":[100],\"dtype\":\"int32\",\"order\":\"little\"}],[\"Runtime (Seconds)\",{\"type\":\"ndarray\",\"array\":{\"type\":\"bytes\",\"data\":\"AAAAgK6R6j8AAAAAJKTyPwAAAIB7a/M/AAAAANZq8T8AAAAATcvtPwAAAMC8H/M/AAAAANG99D8AAAAAwn7yPwAAAEAKs/U/AAAAQAQs9D8AAADAX631PwAAAIDFqPU/AAAAgGzz9D8AAADAI0/1PwAAAEDfiPw/AAAAQO739T8AAACAVhr2PwAAAABjDvY/AAAAgK7j9T8AAAAAySf5PwAAAMAdxfA/AAAAgGlm9T8AAACAa4X9PwEAAEDq/P4/AAAAQBS5/j8AAABAasz4PwAAAECBcfs/AAAAAGM++D8AAADAoif9PwAAAMBlr/w/AAAAwGlv+j8AAADA7ND7PwAAACBI8QFAAAAAwLke+z8AAADAfvn3PwAAAIAj2ABAAAAAQBRbAUAAAACAjDICQAAAAIAj2wBAAAAA4OMjAEAAAABAcNgEQAAAAOCPjAZAAAAAIOf1A0AAAADAXLIDQAAAAEBwmANAAQAAAGyhBEAAAABA7E0DQAAAAGDdMAFAAAAAAK5kAEAAAACAlcP7PwAAAGCkNAJAAAAAgGlbA0AAAAAAUxgGQAAAACD6nABAAAAA4CrSAEAAAADgItoHQAAAAOBFPgFAAAAA4EUDAkAAAAAA4zMHQAAAAGC/8AFAAAAAoDyGAkAAAADAcEQCQAAAAIBYuANAAAAAQItcAkAAAAAAsg4FQAAAACBWrARAAAAAoAFVAkAAAADgMBoHQAAAAAABVgVAAAAAQLpDA0AAAADAB/oFQAAAAECLiQVAAAAAIIZOBEAAAAAA9iMIQAAAACBGHgVAAAAAYHoVBUAAAADg/M4FQAAAAMCJqARAAAAAACpIB0AAAACgDKoHQP7//39XUP8/AAAAYBaaCkABAABAmqUFQP///38VnwdAAAAAIGFHCkAAAABgnDkCQAAAAMC52glAAAAAgF8rB0AAAAAgG8oFQAAAAADE7wVAAAAAwAhZB0AAAACANkkKQAAAAGBG1AZAAAAAoKoiDEAAAAAgYdUNQAAAAIC8dAtAAQAAIHKrDEAAAACg/eIHQAAAAABKSw1AAAAAAPCJCkA=\"},\"shape\":[100],\"dtype\":\"float64\",\"order\":\"little\"}],[\"Number of Edges\",{\"type\":\"ndarray\",\"array\":{\"type\":\"bytes\",\"data\":\"MgAAAGQAAACWAAAAyAAAAPoAAAAsAQAAXgEAAJABAADCAQAA9AEAACYCAABYAgAAigIAALwCAADuAgAAIAMAAFIDAACEAwAAtgMAAOgDAAAaBAAATAQAAH4EAACwBAAA4gQAABQFAABGBQAAeAUAAKoFAADcBQAADgYAAEAGAAByBgAApAYAANYGAAAIBwAAOgcAAGwHAACeBwAA0AcAAAIIAAA0CAAAZggAAJgIAADKCAAA/AgAAC4JAABgCQAAkgkAAMQJAAD2CQAAKAoAAFoKAACMCgAAvgoAAPAKAAAiCwAAVAsAAIYLAAC4CwAA6gsAABwMAABODAAAgAwAALIMAADkDAAAFg0AAEgNAAB6DQAArA0AAN4NAAAQDgAAQg4AAHQOAACmDgAA2A4AAAoPAAA8DwAAbg8AAKAPAADSDwAABBAAADYQAABoEAAAmhAAAMwQAAD+EAAAMBEAAGIRAACUEQAAxhEAAPgRAAAqEgAAXBIAAI4SAADAEgAA8hIAACQTAABWEwAAiBMAAA==\"},\"shape\":[100],\"dtype\":\"int32\",\"order\":\"little\"}]]}}},\"view\":{\"type\":\"object\",\"name\":\"CDSView\",\"id\":\"p1160\",\"attributes\":{\"filter\":{\"type\":\"object\",\"name\":\"AllIndices\",\"id\":\"p1161\"}}},\"glyph\":{\"type\":\"object\",\"name\":\"Circle\",\"id\":\"p1156\",\"attributes\":{\"x\":{\"type\":\"field\",\"field\":\"Number of Edges\"},\"y\":{\"type\":\"field\",\"field\":\"Runtime (Seconds)\"},\"line_color\":{\"type\":\"value\",\"value\":\"#1f77b4\"},\"fill_color\":{\"type\":\"value\",\"value\":\"#1f77b4\"}}},\"nonselection_glyph\":{\"type\":\"object\",\"name\":\"Circle\",\"id\":\"p1157\",\"attributes\":{\"x\":{\"type\":\"field\",\"field\":\"Number of Edges\"},\"y\":{\"type\":\"field\",\"field\":\"Runtime (Seconds)\"},\"line_color\":{\"type\":\"value\",\"value\":\"#1f77b4\"},\"line_alpha\":{\"type\":\"value\",\"value\":0.1},\"fill_color\":{\"type\":\"value\",\"value\":\"#1f77b4\"},\"fill_alpha\":{\"type\":\"value\",\"value\":0.1},\"hatch_alpha\":{\"type\":\"value\",\"value\":0.1}}},\"muted_glyph\":{\"type\":\"object\",\"name\":\"Circle\",\"id\":\"p1158\",\"attributes\":{\"x\":{\"type\":\"field\",\"field\":\"Number of Edges\"},\"y\":{\"type\":\"field\",\"field\":\"Runtime (Seconds)\"},\"line_color\":{\"type\":\"value\",\"value\":\"#1f77b4\"},\"line_alpha\":{\"type\":\"value\",\"value\":0.2},\"fill_color\":{\"type\":\"value\",\"value\":\"#1f77b4\"},\"fill_alpha\":{\"type\":\"value\",\"value\":0.2},\"hatch_alpha\":{\"type\":\"value\",\"value\":0.2}}}}},{\"type\":\"object\",\"name\":\"GlyphRenderer\",\"id\":\"p1173\",\"attributes\":{\"data_source\":{\"type\":\"object\",\"name\":\"ColumnDataSource\",\"id\":\"p1164\",\"attributes\":{\"selected\":{\"type\":\"object\",\"name\":\"Selection\",\"id\":\"p1165\",\"attributes\":{\"indices\":[],\"line_indices\":[]}},\"selection_policy\":{\"type\":\"object\",\"name\":\"UnionRenderers\",\"id\":\"p1166\"},\"data\":{\"type\":\"map\",\"entries\":[[\"index\",{\"type\":\"ndarray\",\"array\":{\"type\":\"bytes\",\"data\":\"AQAAAAMAAAAFAAAABwAAAAkAAAALAAAADQAAAA8AAAARAAAAEwAAABUAAAAXAAAAGQAAABsAAAAdAAAAHwAAACEAAAAjAAAAJQAAACcAAAApAAAAKwAAAC0AAAAvAAAAMQAAADMAAAA1AAAANwAAADkAAAA7AAAAPQAAAD8AAABBAAAAQwAAAEUAAABHAAAASQAAAEsAAABNAAAATwAAAFEAAABTAAAAVQAAAFcAAABZAAAAWwAAAF0AAABfAAAAYQAAAGMAAABlAAAAZwAAAGkAAABrAAAAbQAAAG8AAABxAAAAcwAAAHUAAAB3AAAAeQAAAHsAAAB9AAAAfwAAAIEAAACDAAAAhQAAAIcAAACJAAAAiwAAAI0AAACPAAAAkQAAAJMAAACVAAAAlwAAAJkAAACbAAAAnQAAAJ8AAAChAAAAowAAAKUAAACnAAAAqQAAAKsAAACtAAAArwAAALEAAACzAAAAtQAAALcAAAC5AAAAuwAAAL0AAAC/AAAAwQAAAMMAAADFAAAAxwAAAA==\"},\"shape\":[100],\"dtype\":\"int32\",\"order\":\"little\"}],[\"Explainer\",{\"type\":\"ndarray\",\"array\":[\"GNN\",\"GNN\",\"GNN\",\"GNN\",\"GNN\",\"GNN\",\"GNN\",\"GNN\",\"GNN\",\"GNN\",\"GNN\",\"GNN\",\"GNN\",\"GNN\",\"GNN\",\"GNN\",\"GNN\",\"GNN\",\"GNN\",\"GNN\",\"GNN\",\"GNN\",\"GNN\",\"GNN\",\"GNN\",\"GNN\",\"GNN\",\"GNN\",\"GNN\",\"GNN\",\"GNN\",\"GNN\",\"GNN\",\"GNN\",\"GNN\",\"GNN\",\"GNN\",\"GNN\",\"GNN\",\"GNN\",\"GNN\",\"GNN\",\"GNN\",\"GNN\",\"GNN\",\"GNN\",\"GNN\",\"GNN\",\"GNN\",\"GNN\",\"GNN\",\"GNN\",\"GNN\",\"GNN\",\"GNN\",\"GNN\",\"GNN\",\"GNN\",\"GNN\",\"GNN\",\"GNN\",\"GNN\",\"GNN\",\"GNN\",\"GNN\",\"GNN\",\"GNN\",\"GNN\",\"GNN\",\"GNN\",\"GNN\",\"GNN\",\"GNN\",\"GNN\",\"GNN\",\"GNN\",\"GNN\",\"GNN\",\"GNN\",\"GNN\",\"GNN\",\"GNN\",\"GNN\",\"GNN\",\"GNN\",\"GNN\",\"GNN\",\"GNN\",\"GNN\",\"GNN\",\"GNN\",\"GNN\",\"GNN\",\"GNN\",\"GNN\",\"GNN\",\"GNN\",\"GNN\",\"GNN\",\"GNN\"],\"shape\":[100],\"dtype\":\"object\",\"order\":\"little\"}],[\"# Epochs\",{\"type\":\"ndarray\",\"array\":{\"type\":\"bytes\",\"data\":\"MgAAADIAAAAyAAAAMgAAADIAAAAyAAAAMgAAADIAAAAyAAAAMgAAADIAAAAyAAAAMgAAADIAAAAyAAAAMgAAADIAAAAyAAAAMgAAADIAAAAyAAAAMgAAADIAAAAyAAAAMgAAADIAAAAyAAAAMgAAADIAAAAyAAAAMgAAADIAAAAyAAAAMgAAADIAAAAyAAAAMgAAADIAAAAyAAAAMgAAADIAAAAyAAAAMgAAADIAAAAyAAAAMgAAADIAAAAyAAAAMgAAADIAAAAyAAAAMgAAADIAAAAyAAAAMgAAADIAAAAyAAAAMgAAADIAAAAyAAAAMgAAADIAAAAyAAAAMgAAADIAAAAyAAAAMgAAADIAAAAyAAAAMgAAADIAAAAyAAAAMgAAADIAAAAyAAAAMgAAADIAAAAyAAAAMgAAADIAAAAyAAAAMgAAADIAAAAyAAAAMgAAADIAAAAyAAAAMgAAADIAAAAyAAAAMgAAADIAAAAyAAAAMgAAADIAAAAyAAAAMgAAADIAAAAyAAAAMgAAAA==\"},\"shape\":[100],\"dtype\":\"int32\",\"order\":\"little\"}],[\"Runtime (Seconds)\",{\"type\":\"ndarray\",\"array\":{\"type\":\"bytes\",\"data\":\"AAAAADQ22T8AAAAAuOLnPwAAAIB0D+Y/AAAAgKZz6D8AAAAAxLDhPwAAAIDSSeA/AAAAgFsp4T8AAAAA9YHqPwEAAABmLe0/AAAAgL+s6j8AAAAAhQLmP//////qoO8/AAAAgJkS5j8AAACAmiTvPwAAAMARf/M/AAAAAEok7T8BAAAAJ23uPwEAAACrQu8/AAAAAE3r7T8AAACADrDwPwAAAABzfOs/AAAAANhX8T8AAADAqi75PwAAAIAYd/Q/AAAAQJQP9z8AAAAAFu/wPwAAAIAgUPI/AQAAQHlk9T8AAADASF/1PwAAAEDitfA/AAAAwHJz8j8AAADAoFPxPwAAAABa4vQ/AAAAwN9/9D8AAACA/bDxPwAAAECCqvg/AAAAgNXT9j8AAABA3ST6PwAAAMC9U/g/AAAAwEE+9z8BAAAAaB3/PwAAAECN5f4/AAAAgJ5V/T8AAAAAjAL6PwAAAADBEfk/AAAAQEU1/T8AAACADKH8PwAAAADZafc/AAAAgILW+D8AAADAamr1PwEAAIAEj/4/AAAAALP3+T8AAADAeb4BQAAAAIAVbvc/AAAAgDqh+D8BAABAbp79PwAAAMDIlPo/AAAAwJAx+T8AAABg4pcAQP////9Rlvo/AAAAgCgy+j8AAABAVeL5PwEAAACuhvw/////P6Nk+j8AAACA6XT/PwEAAECyMP8/AAAAAI1G/D8AAABgiCEBQAAAAEAAk/4/AQAAQDnJ/T////9/Cbf/PwEAAKBsNQFAAAAAwH+s/j8AAADgEdIBQAAAAGARpwBAAAAAwPbRAUAAAADA7owBQAAAAMAqLf8/AAAAABaBAkAAAAAA4OkAQAAAAMBnAvo/AAAAoKIaBEABAACA5j8BQP///x+DgQNAAAAAoPJ3BEAAAACALAb/PwAAAAB9gANAAAAAoDUzAEAAAACAR/39P//////jIgJAAAAAgFevAEAAAACgH84EQAAAAIDaZP8/AAAAIEimBEAAAAAAID0FQAAAAEC1AwVAAAAAAHSnBUAAAABg4ugBQAAAAIAMOQVAAAAAADH/BEA=\"},\"shape\":[100],\"dtype\":\"float64\",\"order\":\"little\"}],[\"Number of Edges\",{\"type\":\"ndarray\",\"array\":{\"type\":\"bytes\",\"data\":\"MgAAAGQAAACWAAAAyAAAAPoAAAAsAQAAXgEAAJABAADCAQAA9AEAACYCAABYAgAAigIAALwCAADuAgAAIAMAAFIDAACEAwAAtgMAAOgDAAAaBAAATAQAAH4EAACwBAAA4gQAABQFAABGBQAAeAUAAKoFAADcBQAADgYAAEAGAAByBgAApAYAANYGAAAIBwAAOgcAAGwHAACeBwAA0AcAAAIIAAA0CAAAZggAAJgIAADKCAAA/AgAAC4JAABgCQAAkgkAAMQJAAD2CQAAKAoAAFoKAACMCgAAvgoAAPAKAAAiCwAAVAsAAIYLAAC4CwAA6gsAABwMAABODAAAgAwAALIMAADkDAAAFg0AAEgNAAB6DQAArA0AAN4NAAAQDgAAQg4AAHQOAACmDgAA2A4AAAoPAAA8DwAAbg8AAKAPAADSDwAABBAAADYQAABoEAAAmhAAAMwQAAD+EAAAMBEAAGIRAACUEQAAxhEAAPgRAAAqEgAAXBIAAI4SAADAEgAA8hIAACQTAABWEwAAiBMAAA==\"},\"shape\":[100],\"dtype\":\"int32\",\"order\":\"little\"}]]}}},\"view\":{\"type\":\"object\",\"name\":\"CDSView\",\"id\":\"p1174\",\"attributes\":{\"filter\":{\"type\":\"object\",\"name\":\"AllIndices\",\"id\":\"p1175\"}}},\"glyph\":{\"type\":\"object\",\"name\":\"Circle\",\"id\":\"p1170\",\"attributes\":{\"x\":{\"type\":\"field\",\"field\":\"Number of Edges\"},\"y\":{\"type\":\"field\",\"field\":\"Runtime (Seconds)\"},\"line_color\":{\"type\":\"value\",\"value\":\"orange\"},\"fill_color\":{\"type\":\"value\",\"value\":\"orange\"},\"hatch_color\":{\"type\":\"value\",\"value\":\"orange\"}}},\"nonselection_glyph\":{\"type\":\"object\",\"name\":\"Circle\",\"id\":\"p1171\",\"attributes\":{\"x\":{\"type\":\"field\",\"field\":\"Number of Edges\"},\"y\":{\"type\":\"field\",\"field\":\"Runtime (Seconds)\"},\"line_color\":{\"type\":\"value\",\"value\":\"orange\"},\"line_alpha\":{\"type\":\"value\",\"value\":0.1},\"fill_color\":{\"type\":\"value\",\"value\":\"orange\"},\"fill_alpha\":{\"type\":\"value\",\"value\":0.1},\"hatch_color\":{\"type\":\"value\",\"value\":\"orange\"},\"hatch_alpha\":{\"type\":\"value\",\"value\":0.1}}},\"muted_glyph\":{\"type\":\"object\",\"name\":\"Circle\",\"id\":\"p1172\",\"attributes\":{\"x\":{\"type\":\"field\",\"field\":\"Number of Edges\"},\"y\":{\"type\":\"field\",\"field\":\"Runtime (Seconds)\"},\"line_color\":{\"type\":\"value\",\"value\":\"orange\"},\"line_alpha\":{\"type\":\"value\",\"value\":0.2},\"fill_color\":{\"type\":\"value\",\"value\":\"orange\"},\"fill_alpha\":{\"type\":\"value\",\"value\":0.2},\"hatch_color\":{\"type\":\"value\",\"value\":\"orange\"},\"hatch_alpha\":{\"type\":\"value\",\"value\":0.2}}}}}],\"toolbar\":{\"type\":\"object\",\"name\":\"Toolbar\",\"id\":\"p1126\",\"attributes\":{\"tools\":[{\"type\":\"object\",\"name\":\"PanTool\",\"id\":\"p1139\"},{\"type\":\"object\",\"name\":\"WheelZoomTool\",\"id\":\"p1140\",\"attributes\":{\"renderers\":\"auto\"}},{\"type\":\"object\",\"name\":\"BoxZoomTool\",\"id\":\"p1141\",\"attributes\":{\"overlay\":{\"type\":\"object\",\"name\":\"BoxAnnotation\",\"id\":\"p1142\",\"attributes\":{\"syncable\":false,\"level\":\"overlay\",\"visible\":false,\"left\":{\"type\":\"number\",\"value\":\"nan\"},\"right\":{\"type\":\"number\",\"value\":\"nan\"},\"top\":{\"type\":\"number\",\"value\":\"nan\"},\"bottom\":{\"type\":\"number\",\"value\":\"nan\"},\"left_units\":\"canvas\",\"right_units\":\"canvas\",\"top_units\":\"canvas\",\"bottom_units\":\"canvas\",\"line_color\":\"black\",\"line_alpha\":1.0,\"line_width\":2,\"line_dash\":[4,4],\"fill_color\":\"lightgrey\",\"fill_alpha\":0.5}}}},{\"type\":\"object\",\"name\":\"SaveTool\",\"id\":\"p1147\"},{\"type\":\"object\",\"name\":\"ResetTool\",\"id\":\"p1148\"},{\"type\":\"object\",\"name\":\"HelpTool\",\"id\":\"p1149\"}]}},\"left\":[{\"type\":\"object\",\"name\":\"LinearAxis\",\"id\":\"p1134\",\"attributes\":{\"ticker\":{\"type\":\"object\",\"name\":\"BasicTicker\",\"id\":\"p1135\",\"attributes\":{\"mantissas\":[1,2,5]}},\"formatter\":{\"type\":\"object\",\"name\":\"BasicTickFormatter\",\"id\":\"p1136\"},\"axis_label\":\"Runtime (Seconds)\",\"major_label_policy\":{\"type\":\"object\",\"name\":\"AllLabels\",\"id\":\"p1137\"}}}],\"below\":[{\"type\":\"object\",\"name\":\"LinearAxis\",\"id\":\"p1129\",\"attributes\":{\"ticker\":{\"type\":\"object\",\"name\":\"BasicTicker\",\"id\":\"p1130\",\"attributes\":{\"mantissas\":[1,2,5]}},\"formatter\":{\"type\":\"object\",\"name\":\"BasicTickFormatter\",\"id\":\"p1131\"},\"axis_label\":\"Number of Edges\",\"major_label_policy\":{\"type\":\"object\",\"name\":\"AllLabels\",\"id\":\"p1132\"}}}],\"center\":[{\"type\":\"object\",\"name\":\"Grid\",\"id\":\"p1133\",\"attributes\":{\"axis\":{\"id\":\"p1129\"}}},{\"type\":\"object\",\"name\":\"Grid\",\"id\":\"p1138\",\"attributes\":{\"dimension\":1,\"axis\":{\"id\":\"p1134\"}}},{\"type\":\"object\",\"name\":\"Legend\",\"id\":\"p1162\",\"attributes\":{\"location\":\"top_left\",\"items\":[{\"type\":\"object\",\"name\":\"LegendItem\",\"id\":\"p1163\",\"attributes\":{\"label\":{\"type\":\"value\",\"value\":\"Beta\"},\"renderers\":[{\"id\":\"p1159\"}]}},{\"type\":\"object\",\"name\":\"LegendItem\",\"id\":\"p1176\",\"attributes\":{\"label\":{\"type\":\"value\",\"value\":\"GNN\"},\"renderers\":[{\"id\":\"p1173\"}]}}]}}]}}]}};\n",
       "  const render_items = [{\"docid\":\"e608fae0-5965-487a-a926-001e1b46cee4\",\"roots\":{\"p1118\":\"d0205b26-4b58-4615-bb55-7b8bb113d1e2\"},\"root_ids\":[\"p1118\"]}];\n",
       "  root.Bokeh.embed.embed_items_notebook(docs_json, render_items);\n",
       "  }\n",
       "  if (root.Bokeh !== undefined) {\n",
       "    embed_document(root);\n",
       "  } else {\n",
       "    let attempts = 0;\n",
       "    const timer = setInterval(function(root) {\n",
       "      if (root.Bokeh !== undefined) {\n",
       "        clearInterval(timer);\n",
       "        embed_document(root);\n",
       "      } else {\n",
       "        attempts++;\n",
       "        if (attempts > 100) {\n",
       "          clearInterval(timer);\n",
       "          console.log(\"Bokeh: ERROR: Unable to run BokehJS code because BokehJS library is missing\");\n",
       "        }\n",
       "      }\n",
       "    }, 10, root)\n",
       "  }\n",
       "})(window);"
      ],
      "application/vnd.bokehjs_exec.v0+json": ""
     },
     "metadata": {
      "application/vnd.bokehjs_exec.v0+json": {
       "id": "p1118"
      }
     },
     "output_type": "display_data"
    }
   ],
   "source": [
    "x = \"Number of Edges\"\n",
    "y = \"Runtime (Seconds)\"\n",
    "p = bokeh.plotting.figure(\n",
    "    width=400,\n",
    "    height=300,\n",
    "    x_axis_label=x,\n",
    "    y_axis_label=y,\n",
    ")\n",
    "p.circle(\n",
    "    source=effects[effects['Explainer'] == 'Beta'],\n",
    "    x=x,\n",
    "    y=y,\n",
    "    legend_label=\"Beta\",\n",
    ")\n",
    "p.circle(\n",
    "    source=effects[effects['Explainer'] == 'GNN'],\n",
    "    x=x,\n",
    "    y=y,\n",
    "    legend_label=\"GNN\",\n",
    "    color='orange'\n",
    ")\n",
    "p.legend.location = \"top_left\"\n",
    "bokeh.io.show(p)"
   ]
  },
  {
   "cell_type": "code",
   "execution_count": 7,
   "id": "134c8d0a-3603-41c5-a600-c3e4011f0e19",
   "metadata": {},
   "outputs": [
    {
     "data": {
      "text/html": [
       "\n",
       "  <div id=\"a506ad10-6f7b-42fd-9064-70bc88645f3a\" data-root-id=\"p1185\" style=\"display: contents;\"></div>\n"
      ]
     },
     "metadata": {},
     "output_type": "display_data"
    },
    {
     "data": {
      "application/javascript": [
       "(function(root) {\n",
       "  function embed_document(root) {\n",
       "  const docs_json = {\"9e66bc02-1a78-44ba-9d89-1466f1e98d13\":{\"version\":\"3.3.4\",\"title\":\"Bokeh Application\",\"roots\":[{\"type\":\"object\",\"name\":\"Figure\",\"id\":\"p1185\",\"attributes\":{\"width\":400,\"height\":300,\"x_range\":{\"type\":\"object\",\"name\":\"DataRange1d\",\"id\":\"p1186\"},\"y_range\":{\"type\":\"object\",\"name\":\"DataRange1d\",\"id\":\"p1187\"},\"x_scale\":{\"type\":\"object\",\"name\":\"LinearScale\",\"id\":\"p1194\"},\"y_scale\":{\"type\":\"object\",\"name\":\"LinearScale\",\"id\":\"p1195\"},\"title\":{\"type\":\"object\",\"name\":\"Title\",\"id\":\"p1192\"},\"renderers\":[{\"type\":\"object\",\"name\":\"GlyphRenderer\",\"id\":\"p1226\",\"attributes\":{\"data_source\":{\"type\":\"object\",\"name\":\"ColumnDataSource\",\"id\":\"p1217\",\"attributes\":{\"selected\":{\"type\":\"object\",\"name\":\"Selection\",\"id\":\"p1218\",\"attributes\":{\"indices\":[],\"line_indices\":[]}},\"selection_policy\":{\"type\":\"object\",\"name\":\"UnionRenderers\",\"id\":\"p1219\"},\"data\":{\"type\":\"map\",\"entries\":[[\"index\",{\"type\":\"ndarray\",\"array\":{\"type\":\"bytes\",\"data\":\"AAAAAAEAAAACAAAAAwAAAAQAAAAFAAAABgAAAAcAAAAIAAAACQAAAAoAAAALAAAADAAAAA0AAAAOAAAADwAAABAAAAARAAAAEgAAABMAAAAUAAAAFQAAABYAAAAXAAAAGAAAABkAAAAaAAAAGwAAABwAAAAdAAAAHgAAAB8AAAAgAAAAIQAAACIAAAAjAAAAJAAAACUAAAAmAAAAJwAAACgAAAApAAAAKgAAACsAAAAsAAAALQAAAC4AAAAvAAAAMAAAADEAAAAyAAAAMwAAADQAAAA1AAAANgAAADcAAAA4AAAAOQAAADoAAAA7AAAAPAAAAD0AAAA+AAAAPwAAAEAAAABBAAAAQgAAAEMAAABEAAAARQAAAEYAAABHAAAASAAAAEkAAABKAAAASwAAAEwAAABNAAAATgAAAE8AAABQAAAAUQAAAFIAAABTAAAAVAAAAFUAAABWAAAAVwAAAFgAAABZAAAAWgAAAFsAAABcAAAAXQAAAF4AAABfAAAAYAAAAGEAAABiAAAAYwAAAA==\"},\"shape\":[100],\"dtype\":\"int32\",\"order\":\"little\"}],[\"# Epochs\",{\"type\":\"ndarray\",\"array\":{\"type\":\"bytes\",\"data\":\"MgAAADIAAAAyAAAAMgAAADIAAAAyAAAAMgAAADIAAAAyAAAAMgAAADIAAAAyAAAAMgAAADIAAAAyAAAAMgAAADIAAAAyAAAAMgAAADIAAAAyAAAAMgAAADIAAAAyAAAAMgAAADIAAAAyAAAAMgAAADIAAAAyAAAAMgAAADIAAAAyAAAAMgAAADIAAAAyAAAAMgAAADIAAAAyAAAAMgAAADIAAAAyAAAAMgAAADIAAAAyAAAAMgAAADIAAAAyAAAAMgAAADIAAAAyAAAAMgAAADIAAAAyAAAAMgAAADIAAAAyAAAAMgAAADIAAAAyAAAAMgAAADIAAAAyAAAAMgAAADIAAAAyAAAAMgAAADIAAAAyAAAAMgAAADIAAAAyAAAAMgAAADIAAAAyAAAAMgAAADIAAAAyAAAAMgAAADIAAAAyAAAAMgAAADIAAAAyAAAAMgAAADIAAAAyAAAAMgAAADIAAAAyAAAAMgAAADIAAAAyAAAAMgAAADIAAAAyAAAAMgAAADIAAAAyAAAAMgAAAA==\"},\"shape\":[100],\"dtype\":\"int32\",\"order\":\"little\"}],[\"GNN Runtime (Seconds)\",{\"type\":\"ndarray\",\"array\":{\"type\":\"bytes\",\"data\":\"AAAAADQ22T8AAAAAuOLnPwAAAIB0D+Y/AAAAgKZz6D8AAAAAxLDhPwAAAIDSSeA/AAAAgFsp4T8AAAAA9YHqPwEAAABmLe0/AAAAgL+s6j8AAAAAhQLmP//////qoO8/AAAAgJkS5j8AAACAmiTvPwAAAMARf/M/AAAAAEok7T8BAAAAJ23uPwEAAACrQu8/AAAAAE3r7T8AAACADrDwPwAAAABzfOs/AAAAANhX8T8AAADAqi75PwAAAIAYd/Q/AAAAQJQP9z8AAAAAFu/wPwAAAIAgUPI/AQAAQHlk9T8AAADASF/1PwAAAEDitfA/AAAAwHJz8j8AAADAoFPxPwAAAABa4vQ/AAAAwN9/9D8AAACA/bDxPwAAAECCqvg/AAAAgNXT9j8AAABA3ST6PwAAAMC9U/g/AAAAwEE+9z8BAAAAaB3/PwAAAECN5f4/AAAAgJ5V/T8AAAAAjAL6PwAAAADBEfk/AAAAQEU1/T8AAACADKH8PwAAAADZafc/AAAAgILW+D8AAADAamr1PwEAAIAEj/4/AAAAALP3+T8AAADAeb4BQAAAAIAVbvc/AAAAgDqh+D8BAABAbp79PwAAAMDIlPo/AAAAwJAx+T8AAABg4pcAQP////9Rlvo/AAAAgCgy+j8AAABAVeL5PwEAAACuhvw/////P6Nk+j8AAACA6XT/PwEAAECyMP8/AAAAAI1G/D8AAABgiCEBQAAAAEAAk/4/AQAAQDnJ/T////9/Cbf/PwEAAKBsNQFAAAAAwH+s/j8AAADgEdIBQAAAAGARpwBAAAAAwPbRAUAAAADA7owBQAAAAMAqLf8/AAAAABaBAkAAAAAA4OkAQAAAAMBnAvo/AAAAoKIaBEABAACA5j8BQP///x+DgQNAAAAAoPJ3BEAAAACALAb/PwAAAAB9gANAAAAAoDUzAEAAAACAR/39P//////jIgJAAAAAgFevAEAAAACgH84EQAAAAIDaZP8/AAAAIEimBEAAAAAAID0FQAAAAEC1AwVAAAAAAHSnBUAAAABg4ugBQAAAAIAMOQVAAAAAADH/BEA=\"},\"shape\":[100],\"dtype\":\"float64\",\"order\":\"little\"}],[\"Number of Edges\",{\"type\":\"ndarray\",\"array\":{\"type\":\"bytes\",\"data\":\"MgAAAGQAAACWAAAAyAAAAPoAAAAsAQAAXgEAAJABAADCAQAA9AEAACYCAABYAgAAigIAALwCAADuAgAAIAMAAFIDAACEAwAAtgMAAOgDAAAaBAAATAQAAH4EAACwBAAA4gQAABQFAABGBQAAeAUAAKoFAADcBQAADgYAAEAGAAByBgAApAYAANYGAAAIBwAAOgcAAGwHAACeBwAA0AcAAAIIAAA0CAAAZggAAJgIAADKCAAA/AgAAC4JAABgCQAAkgkAAMQJAAD2CQAAKAoAAFoKAACMCgAAvgoAAPAKAAAiCwAAVAsAAIYLAAC4CwAA6gsAABwMAABODAAAgAwAALIMAADkDAAAFg0AAEgNAAB6DQAArA0AAN4NAAAQDgAAQg4AAHQOAACmDgAA2A4AAAoPAAA8DwAAbg8AAKAPAADSDwAABBAAADYQAABoEAAAmhAAAMwQAAD+EAAAMBEAAGIRAACUEQAAxhEAAPgRAAAqEgAAXBIAAI4SAADAEgAA8hIAACQTAABWEwAAiBMAAA==\"},\"shape\":[100],\"dtype\":\"int32\",\"order\":\"little\"}],[\"Beta Runtime (Seconds)\",{\"type\":\"ndarray\",\"array\":{\"type\":\"bytes\",\"data\":\"AAAAgK6R6j8AAAAAJKTyPwAAAIB7a/M/AAAAANZq8T8AAAAATcvtPwAAAMC8H/M/AAAAANG99D8AAAAAwn7yPwAAAEAKs/U/AAAAQAQs9D8AAADAX631PwAAAIDFqPU/AAAAgGzz9D8AAADAI0/1PwAAAEDfiPw/AAAAQO739T8AAACAVhr2PwAAAABjDvY/AAAAgK7j9T8AAAAAySf5PwAAAMAdxfA/AAAAgGlm9T8AAACAa4X9PwEAAEDq/P4/AAAAQBS5/j8AAABAasz4PwAAAECBcfs/AAAAAGM++D8AAADAoif9PwAAAMBlr/w/AAAAwGlv+j8AAADA7ND7PwAAACBI8QFAAAAAwLke+z8AAADAfvn3PwAAAIAj2ABAAAAAQBRbAUAAAACAjDICQAAAAIAj2wBAAAAA4OMjAEAAAABAcNgEQAAAAOCPjAZAAAAAIOf1A0AAAADAXLIDQAAAAEBwmANAAQAAAGyhBEAAAABA7E0DQAAAAGDdMAFAAAAAAK5kAEAAAACAlcP7PwAAAGCkNAJAAAAAgGlbA0AAAAAAUxgGQAAAACD6nABAAAAA4CrSAEAAAADgItoHQAAAAOBFPgFAAAAA4EUDAkAAAAAA4zMHQAAAAGC/8AFAAAAAoDyGAkAAAADAcEQCQAAAAIBYuANAAAAAQItcAkAAAAAAsg4FQAAAACBWrARAAAAAoAFVAkAAAADgMBoHQAAAAAABVgVAAAAAQLpDA0AAAADAB/oFQAAAAECLiQVAAAAAIIZOBEAAAAAA9iMIQAAAACBGHgVAAAAAYHoVBUAAAADg/M4FQAAAAMCJqARAAAAAACpIB0AAAACgDKoHQP7//39XUP8/AAAAYBaaCkABAABAmqUFQP///38VnwdAAAAAIGFHCkAAAABgnDkCQAAAAMC52glAAAAAgF8rB0AAAAAgG8oFQAAAAADE7wVAAAAAwAhZB0AAAACANkkKQAAAAGBG1AZAAAAAoKoiDEAAAAAgYdUNQAAAAIC8dAtAAQAAIHKrDEAAAACg/eIHQAAAAABKSw1AAAAAAPCJCkA=\"},\"shape\":[100],\"dtype\":\"float64\",\"order\":\"little\"}],[\"Difference (Seconds)\",{\"type\":\"ndarray\",\"array\":{\"type\":\"bytes\",\"data\":\"AAAAACnt2z8AAAAAIMvaPwAAAICCx+A/AAAAAAvE1D8AAAAAEjXYPwAAAACn9eU/AAAAgEZS6D8AAAAAHvfUP/7///9ccdw/AAAAAJJW2z8AAACAOljlPwIAAABAYdc/AAAAgD/U4z8AAAAAWvPWPwAAAACbE+I/AAAAACWX3T/+////C4/bP/7///81tNk/AAAAACC42z8AAAAAde/gPwAAAAAiN8g/AAAAAEY60D8AAAAAA1vRPwIAAICjC+U/AAAAAACm3j8AAAAAUXXfPwAAAIDBQuI/+P///03Pxj8AAAAAaCHfPwAAAAAH8+c/AAAAANzv3z8AAAAAmPrkPwAAAIBsAO4/AAAAAGh72j8AAAAABSLZPwAAAICJC+I/AAAAAKbE5z8AAACAd4DkPwAAAIASxeI/AAAAAAwT4j/+////8CblPwAAAAAlZ+w/AAAAgF8s5T8AAAAAW8TqPwAAAAA/Puw/BAAAgCUb6D8AAAAAmPXjPwAAAIDD7+U/AAAAAGbL3z8AAAAAq2TZP/z///8Qadc/AAAAAEB+6T8AAAAAZWfhPwAAAIC9l+M/AAAAgDYG4j////9/1xXyPwAAAAAMn98/AAAAAPap5T8AAACAAnDqPwIAAIBZluI/AAAAgKG05T8AAACAGE3lP/7///8F1OU/AgAAgOao5D8AAAAA9VDlP/7////zT+Q/AAAAgOzG4D8AAAAAouLnPwAAAIADMug//v//f3Z84T8CAAAADHroP/z//396UOE/AAAAABnh4z8AAACAkEfpPwAAAADT3OE/AAAAAB0c2j8AAACAOAjhPwAAAIDRR+Q/AAAAAFAc4z8AAACAsgDrP/j///++N9U/AAAAAM/96T8AAAAAz5bhPwAAAIBJduA/AAAAALo95z8AAAAAMbTVPwAAAADzaOk/AAAAgKfg6z8AAACA3S3rPwgAAAAAZ94/AAAAAMWm6j8AAACAW+zlPwAAAIBkh+w/AAAAAIrx7T8AAABAgjDxPwAAAAAdxOk/BAAAgPgP7D8AAAAAbejnPwAAAAB7JPA/AAAAAPwq5j8=\"},\"shape\":[100],\"dtype\":\"float64\",\"order\":\"little\"}]]}}},\"view\":{\"type\":\"object\",\"name\":\"CDSView\",\"id\":\"p1227\",\"attributes\":{\"filter\":{\"type\":\"object\",\"name\":\"AllIndices\",\"id\":\"p1228\"}}},\"glyph\":{\"type\":\"object\",\"name\":\"Circle\",\"id\":\"p1223\",\"attributes\":{\"x\":{\"type\":\"field\",\"field\":\"Number of Edges\"},\"y\":{\"type\":\"field\",\"field\":\"Difference (Seconds)\"},\"line_color\":{\"type\":\"value\",\"value\":\"#1f77b4\"},\"fill_color\":{\"type\":\"value\",\"value\":\"#1f77b4\"}}},\"nonselection_glyph\":{\"type\":\"object\",\"name\":\"Circle\",\"id\":\"p1224\",\"attributes\":{\"x\":{\"type\":\"field\",\"field\":\"Number of Edges\"},\"y\":{\"type\":\"field\",\"field\":\"Difference (Seconds)\"},\"line_color\":{\"type\":\"value\",\"value\":\"#1f77b4\"},\"line_alpha\":{\"type\":\"value\",\"value\":0.1},\"fill_color\":{\"type\":\"value\",\"value\":\"#1f77b4\"},\"fill_alpha\":{\"type\":\"value\",\"value\":0.1},\"hatch_alpha\":{\"type\":\"value\",\"value\":0.1}}},\"muted_glyph\":{\"type\":\"object\",\"name\":\"Circle\",\"id\":\"p1225\",\"attributes\":{\"x\":{\"type\":\"field\",\"field\":\"Number of Edges\"},\"y\":{\"type\":\"field\",\"field\":\"Difference (Seconds)\"},\"line_color\":{\"type\":\"value\",\"value\":\"#1f77b4\"},\"line_alpha\":{\"type\":\"value\",\"value\":0.2},\"fill_color\":{\"type\":\"value\",\"value\":\"#1f77b4\"},\"fill_alpha\":{\"type\":\"value\",\"value\":0.2},\"hatch_alpha\":{\"type\":\"value\",\"value\":0.2}}}}}],\"toolbar\":{\"type\":\"object\",\"name\":\"Toolbar\",\"id\":\"p1193\",\"attributes\":{\"tools\":[{\"type\":\"object\",\"name\":\"PanTool\",\"id\":\"p1206\"},{\"type\":\"object\",\"name\":\"WheelZoomTool\",\"id\":\"p1207\",\"attributes\":{\"renderers\":\"auto\"}},{\"type\":\"object\",\"name\":\"BoxZoomTool\",\"id\":\"p1208\",\"attributes\":{\"overlay\":{\"type\":\"object\",\"name\":\"BoxAnnotation\",\"id\":\"p1209\",\"attributes\":{\"syncable\":false,\"level\":\"overlay\",\"visible\":false,\"left\":{\"type\":\"number\",\"value\":\"nan\"},\"right\":{\"type\":\"number\",\"value\":\"nan\"},\"top\":{\"type\":\"number\",\"value\":\"nan\"},\"bottom\":{\"type\":\"number\",\"value\":\"nan\"},\"left_units\":\"canvas\",\"right_units\":\"canvas\",\"top_units\":\"canvas\",\"bottom_units\":\"canvas\",\"line_color\":\"black\",\"line_alpha\":1.0,\"line_width\":2,\"line_dash\":[4,4],\"fill_color\":\"lightgrey\",\"fill_alpha\":0.5}}}},{\"type\":\"object\",\"name\":\"SaveTool\",\"id\":\"p1214\"},{\"type\":\"object\",\"name\":\"ResetTool\",\"id\":\"p1215\"},{\"type\":\"object\",\"name\":\"HelpTool\",\"id\":\"p1216\"}]}},\"left\":[{\"type\":\"object\",\"name\":\"LinearAxis\",\"id\":\"p1201\",\"attributes\":{\"ticker\":{\"type\":\"object\",\"name\":\"BasicTicker\",\"id\":\"p1202\",\"attributes\":{\"mantissas\":[1,2,5]}},\"formatter\":{\"type\":\"object\",\"name\":\"BasicTickFormatter\",\"id\":\"p1203\"},\"axis_label\":\"Difference (Seconds)\",\"major_label_policy\":{\"type\":\"object\",\"name\":\"AllLabels\",\"id\":\"p1204\"}}}],\"below\":[{\"type\":\"object\",\"name\":\"LinearAxis\",\"id\":\"p1196\",\"attributes\":{\"ticker\":{\"type\":\"object\",\"name\":\"BasicTicker\",\"id\":\"p1197\",\"attributes\":{\"mantissas\":[1,2,5]}},\"formatter\":{\"type\":\"object\",\"name\":\"BasicTickFormatter\",\"id\":\"p1198\"},\"axis_label\":\"Number of Edges\",\"major_label_policy\":{\"type\":\"object\",\"name\":\"AllLabels\",\"id\":\"p1199\"}}}],\"center\":[{\"type\":\"object\",\"name\":\"Grid\",\"id\":\"p1200\",\"attributes\":{\"axis\":{\"id\":\"p1196\"}}},{\"type\":\"object\",\"name\":\"Grid\",\"id\":\"p1205\",\"attributes\":{\"dimension\":1,\"axis\":{\"id\":\"p1201\"}}}]}}]}};\n",
       "  const render_items = [{\"docid\":\"9e66bc02-1a78-44ba-9d89-1466f1e98d13\",\"roots\":{\"p1185\":\"a506ad10-6f7b-42fd-9064-70bc88645f3a\"},\"root_ids\":[\"p1185\"]}];\n",
       "  root.Bokeh.embed.embed_items_notebook(docs_json, render_items);\n",
       "  }\n",
       "  if (root.Bokeh !== undefined) {\n",
       "    embed_document(root);\n",
       "  } else {\n",
       "    let attempts = 0;\n",
       "    const timer = setInterval(function(root) {\n",
       "      if (root.Bokeh !== undefined) {\n",
       "        clearInterval(timer);\n",
       "        embed_document(root);\n",
       "      } else {\n",
       "        attempts++;\n",
       "        if (attempts > 100) {\n",
       "          clearInterval(timer);\n",
       "          console.log(\"Bokeh: ERROR: Unable to run BokehJS code because BokehJS library is missing\");\n",
       "        }\n",
       "      }\n",
       "    }, 10, root)\n",
       "  }\n",
       "})(window);"
      ],
      "application/vnd.bokehjs_exec.v0+json": ""
     },
     "metadata": {
      "application/vnd.bokehjs_exec.v0+json": {
       "id": "p1185"
      }
     },
     "output_type": "display_data"
    }
   ],
   "source": [
    "x = \"Number of Edges\"\n",
    "y = \"Difference (Seconds)\"\n",
    "p = bokeh.plotting.figure(\n",
    "    width=400,\n",
    "    height=300,\n",
    "    x_axis_label=x,\n",
    "    y_axis_label=y,\n",
    ")\n",
    "p.circle(\n",
    "    source=diff,\n",
    "    x=x,\n",
    "    y=y,\n",
    ")\n",
    "bokeh.io.show(p)"
   ]
  },
  {
   "cell_type": "code",
   "execution_count": 8,
   "id": "f8355335-4cd2-430f-840a-b1026e224f68",
   "metadata": {},
   "outputs": [],
   "source": [
    "effects = pd.read_csv('CoraGraphRuntimes.csv')\n",
    "effects = effects.drop(['Average Runtime', 'Unnamed: 0', 'Data'], axis=1)\n",
    "effects = effects.rename({'# Edges': 'Number of Edges', 'Full Runtime': 'Runtime (Seconds)'}, axis=1)\n",
    "gnn = effects[effects['Explainer'] == 'GNN']\n",
    "gnn = gnn.rename({'Runtime (Seconds)': 'GNN Runtime (Seconds)'}, axis=1)\n",
    "gnn = gnn.drop(['Explainer'], axis=1)\n",
    "beta = effects[effects['Explainer'] == 'Beta']\n",
    "beta = beta.rename({'Runtime (Seconds)': 'Beta Runtime (Seconds)'}, axis=1)\n",
    "beta = beta.drop(['Explainer'], axis=1)\n",
    "diff = pd.merge(gnn, beta, how=\"right\", on=[\"# Epochs\",'Number of Edges'])\n",
    "diff['Difference (Seconds)'] = diff['Beta Runtime (Seconds)'] - diff['GNN Runtime (Seconds)']"
   ]
  },
  {
   "cell_type": "code",
   "execution_count": 14,
   "id": "fede293e-2758-4aa8-a7a1-d58915d6b872",
   "metadata": {
    "scrolled": true
   },
   "outputs": [
    {
     "data": {
      "text/html": [
       "\n",
       "  <div id=\"e194a5d7-7478-45de-bce2-d54c3e23b12a\" data-root-id=\"p1235\" style=\"display: contents;\"></div>\n"
      ]
     },
     "metadata": {},
     "output_type": "display_data"
    },
    {
     "data": {
      "application/javascript": [
       "(function(root) {\n",
       "  function embed_document(root) {\n",
       "  const docs_json = {\"a4a7733f-d372-46f8-8071-ae8ebbe3e3e4\":{\"version\":\"3.3.4\",\"title\":\"Bokeh Application\",\"roots\":[{\"type\":\"object\",\"name\":\"Figure\",\"id\":\"p1235\",\"attributes\":{\"width\":400,\"height\":300,\"x_range\":{\"type\":\"object\",\"name\":\"DataRange1d\",\"id\":\"p1236\"},\"y_range\":{\"type\":\"object\",\"name\":\"DataRange1d\",\"id\":\"p1237\"},\"x_scale\":{\"type\":\"object\",\"name\":\"LinearScale\",\"id\":\"p1244\"},\"y_scale\":{\"type\":\"object\",\"name\":\"LinearScale\",\"id\":\"p1245\"},\"title\":{\"type\":\"object\",\"name\":\"Title\",\"id\":\"p1242\"},\"renderers\":[{\"type\":\"object\",\"name\":\"GlyphRenderer\",\"id\":\"p1276\",\"attributes\":{\"data_source\":{\"type\":\"object\",\"name\":\"ColumnDataSource\",\"id\":\"p1267\",\"attributes\":{\"selected\":{\"type\":\"object\",\"name\":\"Selection\",\"id\":\"p1268\",\"attributes\":{\"indices\":[],\"line_indices\":[]}},\"selection_policy\":{\"type\":\"object\",\"name\":\"UnionRenderers\",\"id\":\"p1269\"},\"data\":{\"type\":\"map\",\"entries\":[[\"index\",{\"type\":\"ndarray\",\"array\":{\"type\":\"bytes\",\"data\":\"AAAAAAIAAAAEAAAABgAAAAgAAAAKAAAADAAAAA4AAAAQAAAAEgAAABQAAAAWAAAAGAAAABoAAAAcAAAA\"},\"shape\":[15],\"dtype\":\"int32\",\"order\":\"little\"}],[\"Explainer\",{\"type\":\"ndarray\",\"array\":[\"Beta\",\"Beta\",\"Beta\",\"Beta\",\"Beta\",\"Beta\",\"Beta\",\"Beta\",\"Beta\",\"Beta\",\"Beta\",\"Beta\",\"Beta\",\"Beta\",\"Beta\"],\"shape\":[15],\"dtype\":\"object\",\"order\":\"little\"}],[\"# Epochs\",{\"type\":\"ndarray\",\"array\":{\"type\":\"bytes\",\"data\":\"MgAAADIAAAAyAAAAMgAAADIAAAAyAAAAMgAAADIAAAAyAAAAMgAAADIAAAAyAAAAMgAAADIAAAAyAAAA\"},\"shape\":[15],\"dtype\":\"int32\",\"order\":\"little\"}],[\"Runtime (Seconds)\",{\"type\":\"ndarray\",\"array\":{\"type\":\"bytes\",\"data\":\"AAAAYIpnGUAAAADA3jEhQAEAADi5PCVAAAAAMFhIJ0AAAAAQ6IwkQP///0+dzSVAAQAAkCEGLkAAAABo2dYjQAAAANi43SBAAAAA4COAJ0AAAACgOW4lQAAAAODxNSNAAAAAwOBELkAAAACo1PwtQAAAAGRtuTBA\"},\"shape\":[15],\"dtype\":\"float64\",\"order\":\"little\"}],[\"Number of Edges\",{\"type\":\"ndarray\",\"array\":{\"type\":\"bytes\",\"data\":\"MgAAAGQAAACWAAAAyAAAAPoAAAAsAQAAXgEAAJABAADCAQAA9AEAACYCAABYAgAAigIAALwCAADuAgAA\"},\"shape\":[15],\"dtype\":\"int32\",\"order\":\"little\"}]]}}},\"view\":{\"type\":\"object\",\"name\":\"CDSView\",\"id\":\"p1277\",\"attributes\":{\"filter\":{\"type\":\"object\",\"name\":\"AllIndices\",\"id\":\"p1278\"}}},\"glyph\":{\"type\":\"object\",\"name\":\"Circle\",\"id\":\"p1273\",\"attributes\":{\"x\":{\"type\":\"field\",\"field\":\"Number of Edges\"},\"y\":{\"type\":\"field\",\"field\":\"Runtime (Seconds)\"},\"line_color\":{\"type\":\"value\",\"value\":\"#1f77b4\"},\"fill_color\":{\"type\":\"value\",\"value\":\"#1f77b4\"}}},\"nonselection_glyph\":{\"type\":\"object\",\"name\":\"Circle\",\"id\":\"p1274\",\"attributes\":{\"x\":{\"type\":\"field\",\"field\":\"Number of Edges\"},\"y\":{\"type\":\"field\",\"field\":\"Runtime (Seconds)\"},\"line_color\":{\"type\":\"value\",\"value\":\"#1f77b4\"},\"line_alpha\":{\"type\":\"value\",\"value\":0.1},\"fill_color\":{\"type\":\"value\",\"value\":\"#1f77b4\"},\"fill_alpha\":{\"type\":\"value\",\"value\":0.1},\"hatch_alpha\":{\"type\":\"value\",\"value\":0.1}}},\"muted_glyph\":{\"type\":\"object\",\"name\":\"Circle\",\"id\":\"p1275\",\"attributes\":{\"x\":{\"type\":\"field\",\"field\":\"Number of Edges\"},\"y\":{\"type\":\"field\",\"field\":\"Runtime (Seconds)\"},\"line_color\":{\"type\":\"value\",\"value\":\"#1f77b4\"},\"line_alpha\":{\"type\":\"value\",\"value\":0.2},\"fill_color\":{\"type\":\"value\",\"value\":\"#1f77b4\"},\"fill_alpha\":{\"type\":\"value\",\"value\":0.2},\"hatch_alpha\":{\"type\":\"value\",\"value\":0.2}}}}},{\"type\":\"object\",\"name\":\"GlyphRenderer\",\"id\":\"p1290\",\"attributes\":{\"data_source\":{\"type\":\"object\",\"name\":\"ColumnDataSource\",\"id\":\"p1281\",\"attributes\":{\"selected\":{\"type\":\"object\",\"name\":\"Selection\",\"id\":\"p1282\",\"attributes\":{\"indices\":[],\"line_indices\":[]}},\"selection_policy\":{\"type\":\"object\",\"name\":\"UnionRenderers\",\"id\":\"p1283\"},\"data\":{\"type\":\"map\",\"entries\":[[\"index\",{\"type\":\"ndarray\",\"array\":{\"type\":\"bytes\",\"data\":\"AQAAAAMAAAAFAAAABwAAAAkAAAALAAAADQAAAA8AAAARAAAAEwAAABUAAAAXAAAAGQAAABsAAAAdAAAA\"},\"shape\":[15],\"dtype\":\"int32\",\"order\":\"little\"}],[\"Explainer\",{\"type\":\"ndarray\",\"array\":[\"GNN\",\"GNN\",\"GNN\",\"GNN\",\"GNN\",\"GNN\",\"GNN\",\"GNN\",\"GNN\",\"GNN\",\"GNN\",\"GNN\",\"GNN\",\"GNN\",\"GNN\"],\"shape\":[15],\"dtype\":\"object\",\"order\":\"little\"}],[\"# Epochs\",{\"type\":\"ndarray\",\"array\":{\"type\":\"bytes\",\"data\":\"MgAAADIAAAAyAAAAMgAAADIAAAAyAAAAMgAAADIAAAAyAAAAMgAAADIAAAAyAAAAMgAAADIAAAAyAAAA\"},\"shape\":[15],\"dtype\":\"int32\",\"order\":\"little\"}],[\"Runtime (Seconds)\",{\"type\":\"ndarray\",\"array\":{\"type\":\"bytes\",\"data\":\"AAAAgFHCDEAAAAAAIhQXQAAAABAZVh5AAAAAAHLXGUAAAAAAltMTQAAAAKCZdxxAAAAA4MfNDEAAAABAnyAgQAEAAPAAwBFAAAAAGCIyIEAAAADApKoPQAAAAMDHQxNAAAAAMHa9F0AAAACgR1kVQAAAAHAsPhdA\"},\"shape\":[15],\"dtype\":\"float64\",\"order\":\"little\"}],[\"Number of Edges\",{\"type\":\"ndarray\",\"array\":{\"type\":\"bytes\",\"data\":\"MgAAAGQAAACWAAAAyAAAAPoAAAAsAQAAXgEAAJABAADCAQAA9AEAACYCAABYAgAAigIAALwCAADuAgAA\"},\"shape\":[15],\"dtype\":\"int32\",\"order\":\"little\"}]]}}},\"view\":{\"type\":\"object\",\"name\":\"CDSView\",\"id\":\"p1291\",\"attributes\":{\"filter\":{\"type\":\"object\",\"name\":\"AllIndices\",\"id\":\"p1292\"}}},\"glyph\":{\"type\":\"object\",\"name\":\"Circle\",\"id\":\"p1287\",\"attributes\":{\"x\":{\"type\":\"field\",\"field\":\"Number of Edges\"},\"y\":{\"type\":\"field\",\"field\":\"Runtime (Seconds)\"},\"line_color\":{\"type\":\"value\",\"value\":\"orange\"},\"fill_color\":{\"type\":\"value\",\"value\":\"orange\"},\"hatch_color\":{\"type\":\"value\",\"value\":\"orange\"}}},\"nonselection_glyph\":{\"type\":\"object\",\"name\":\"Circle\",\"id\":\"p1288\",\"attributes\":{\"x\":{\"type\":\"field\",\"field\":\"Number of Edges\"},\"y\":{\"type\":\"field\",\"field\":\"Runtime (Seconds)\"},\"line_color\":{\"type\":\"value\",\"value\":\"orange\"},\"line_alpha\":{\"type\":\"value\",\"value\":0.1},\"fill_color\":{\"type\":\"value\",\"value\":\"orange\"},\"fill_alpha\":{\"type\":\"value\",\"value\":0.1},\"hatch_color\":{\"type\":\"value\",\"value\":\"orange\"},\"hatch_alpha\":{\"type\":\"value\",\"value\":0.1}}},\"muted_glyph\":{\"type\":\"object\",\"name\":\"Circle\",\"id\":\"p1289\",\"attributes\":{\"x\":{\"type\":\"field\",\"field\":\"Number of Edges\"},\"y\":{\"type\":\"field\",\"field\":\"Runtime (Seconds)\"},\"line_color\":{\"type\":\"value\",\"value\":\"orange\"},\"line_alpha\":{\"type\":\"value\",\"value\":0.2},\"fill_color\":{\"type\":\"value\",\"value\":\"orange\"},\"fill_alpha\":{\"type\":\"value\",\"value\":0.2},\"hatch_color\":{\"type\":\"value\",\"value\":\"orange\"},\"hatch_alpha\":{\"type\":\"value\",\"value\":0.2}}}}}],\"toolbar\":{\"type\":\"object\",\"name\":\"Toolbar\",\"id\":\"p1243\",\"attributes\":{\"tools\":[{\"type\":\"object\",\"name\":\"PanTool\",\"id\":\"p1256\"},{\"type\":\"object\",\"name\":\"WheelZoomTool\",\"id\":\"p1257\",\"attributes\":{\"renderers\":\"auto\"}},{\"type\":\"object\",\"name\":\"BoxZoomTool\",\"id\":\"p1258\",\"attributes\":{\"overlay\":{\"type\":\"object\",\"name\":\"BoxAnnotation\",\"id\":\"p1259\",\"attributes\":{\"syncable\":false,\"level\":\"overlay\",\"visible\":false,\"left\":{\"type\":\"number\",\"value\":\"nan\"},\"right\":{\"type\":\"number\",\"value\":\"nan\"},\"top\":{\"type\":\"number\",\"value\":\"nan\"},\"bottom\":{\"type\":\"number\",\"value\":\"nan\"},\"left_units\":\"canvas\",\"right_units\":\"canvas\",\"top_units\":\"canvas\",\"bottom_units\":\"canvas\",\"line_color\":\"black\",\"line_alpha\":1.0,\"line_width\":2,\"line_dash\":[4,4],\"fill_color\":\"lightgrey\",\"fill_alpha\":0.5}}}},{\"type\":\"object\",\"name\":\"SaveTool\",\"id\":\"p1264\"},{\"type\":\"object\",\"name\":\"ResetTool\",\"id\":\"p1265\"},{\"type\":\"object\",\"name\":\"HelpTool\",\"id\":\"p1266\"}]}},\"left\":[{\"type\":\"object\",\"name\":\"LinearAxis\",\"id\":\"p1251\",\"attributes\":{\"ticker\":{\"type\":\"object\",\"name\":\"BasicTicker\",\"id\":\"p1252\",\"attributes\":{\"mantissas\":[1,2,5]}},\"formatter\":{\"type\":\"object\",\"name\":\"BasicTickFormatter\",\"id\":\"p1253\"},\"axis_label\":\"Runtime (Seconds)\",\"major_label_policy\":{\"type\":\"object\",\"name\":\"AllLabels\",\"id\":\"p1254\"}}}],\"below\":[{\"type\":\"object\",\"name\":\"LinearAxis\",\"id\":\"p1246\",\"attributes\":{\"ticker\":{\"type\":\"object\",\"name\":\"BasicTicker\",\"id\":\"p1247\",\"attributes\":{\"mantissas\":[1,2,5]}},\"formatter\":{\"type\":\"object\",\"name\":\"BasicTickFormatter\",\"id\":\"p1248\"},\"axis_label\":\"Number of Edges\",\"major_label_policy\":{\"type\":\"object\",\"name\":\"AllLabels\",\"id\":\"p1249\"}}}],\"center\":[{\"type\":\"object\",\"name\":\"Grid\",\"id\":\"p1250\",\"attributes\":{\"axis\":{\"id\":\"p1246\"}}},{\"type\":\"object\",\"name\":\"Grid\",\"id\":\"p1255\",\"attributes\":{\"dimension\":1,\"axis\":{\"id\":\"p1251\"}}},{\"type\":\"object\",\"name\":\"Legend\",\"id\":\"p1279\",\"attributes\":{\"location\":\"top_left\",\"items\":[{\"type\":\"object\",\"name\":\"LegendItem\",\"id\":\"p1280\",\"attributes\":{\"label\":{\"type\":\"value\",\"value\":\"Beta\"},\"renderers\":[{\"id\":\"p1276\"}]}},{\"type\":\"object\",\"name\":\"LegendItem\",\"id\":\"p1293\",\"attributes\":{\"label\":{\"type\":\"value\",\"value\":\"GNN\"},\"renderers\":[{\"id\":\"p1290\"}]}}]}}]}}]}};\n",
       "  const render_items = [{\"docid\":\"a4a7733f-d372-46f8-8071-ae8ebbe3e3e4\",\"roots\":{\"p1235\":\"e194a5d7-7478-45de-bce2-d54c3e23b12a\"},\"root_ids\":[\"p1235\"]}];\n",
       "  root.Bokeh.embed.embed_items_notebook(docs_json, render_items);\n",
       "  }\n",
       "  if (root.Bokeh !== undefined) {\n",
       "    embed_document(root);\n",
       "  } else {\n",
       "    let attempts = 0;\n",
       "    const timer = setInterval(function(root) {\n",
       "      if (root.Bokeh !== undefined) {\n",
       "        clearInterval(timer);\n",
       "        embed_document(root);\n",
       "      } else {\n",
       "        attempts++;\n",
       "        if (attempts > 100) {\n",
       "          clearInterval(timer);\n",
       "          console.log(\"Bokeh: ERROR: Unable to run BokehJS code because BokehJS library is missing\");\n",
       "        }\n",
       "      }\n",
       "    }, 10, root)\n",
       "  }\n",
       "})(window);"
      ],
      "application/vnd.bokehjs_exec.v0+json": ""
     },
     "metadata": {
      "application/vnd.bokehjs_exec.v0+json": {
       "id": "p1235"
      }
     },
     "output_type": "display_data"
    }
   ],
   "source": [
    "x = \"Number of Edges\"\n",
    "y = \"Runtime (Seconds)\"\n",
    "p = bokeh.plotting.figure(\n",
    "    width=400,\n",
    "    height=300,\n",
    "    x_axis_label=x,\n",
    "    y_axis_label=y,\n",
    ")\n",
    "p.circle(\n",
    "    source=effects[effects['Explainer'] == 'Beta'],\n",
    "    x=x,\n",
    "    y=y,\n",
    "    legend_label=\"Beta\",\n",
    ")\n",
    "p.circle(\n",
    "    source=effects[effects['Explainer'] == 'GNN'],\n",
    "    x=x,\n",
    "    y=y,\n",
    "    legend_label=\"GNN\",\n",
    "    color='orange'\n",
    ")\n",
    "p.legend.location = \"top_left\"\n",
    "bokeh.io.show(p)"
   ]
  },
  {
   "cell_type": "code",
   "execution_count": 19,
   "id": "a3707d2d-b2d3-4ef9-b920-8476b4a704f2",
   "metadata": {
    "scrolled": true
   },
   "outputs": [
    {
     "data": {
      "text/html": [
       "\n",
       "  <div id=\"fe6e9b41-76e1-4194-a2af-2ef5b30f0cb7\" data-root-id=\"p1302\" style=\"display: contents;\"></div>\n"
      ]
     },
     "metadata": {},
     "output_type": "display_data"
    },
    {
     "data": {
      "application/javascript": [
       "(function(root) {\n",
       "  function embed_document(root) {\n",
       "  const docs_json = {\"3369f5f3-0aba-4842-afdf-415d59b6f7e2\":{\"version\":\"3.3.4\",\"title\":\"Bokeh Application\",\"roots\":[{\"type\":\"object\",\"name\":\"Figure\",\"id\":\"p1302\",\"attributes\":{\"width\":400,\"height\":300,\"x_range\":{\"type\":\"object\",\"name\":\"DataRange1d\",\"id\":\"p1303\"},\"y_range\":{\"type\":\"object\",\"name\":\"DataRange1d\",\"id\":\"p1304\"},\"x_scale\":{\"type\":\"object\",\"name\":\"LinearScale\",\"id\":\"p1311\"},\"y_scale\":{\"type\":\"object\",\"name\":\"LinearScale\",\"id\":\"p1312\"},\"title\":{\"type\":\"object\",\"name\":\"Title\",\"id\":\"p1309\"},\"renderers\":[{\"type\":\"object\",\"name\":\"GlyphRenderer\",\"id\":\"p1343\",\"attributes\":{\"data_source\":{\"type\":\"object\",\"name\":\"ColumnDataSource\",\"id\":\"p1334\",\"attributes\":{\"selected\":{\"type\":\"object\",\"name\":\"Selection\",\"id\":\"p1335\",\"attributes\":{\"indices\":[],\"line_indices\":[]}},\"selection_policy\":{\"type\":\"object\",\"name\":\"UnionRenderers\",\"id\":\"p1336\"},\"data\":{\"type\":\"map\",\"entries\":[[\"index\",{\"type\":\"ndarray\",\"array\":{\"type\":\"bytes\",\"data\":\"AAAAAAEAAAACAAAAAwAAAAQAAAAFAAAABgAAAAcAAAAIAAAACQAAAAoAAAALAAAADAAAAA0AAAAOAAAA\"},\"shape\":[15],\"dtype\":\"int32\",\"order\":\"little\"}],[\"# Epochs\",{\"type\":\"ndarray\",\"array\":{\"type\":\"bytes\",\"data\":\"MgAAADIAAAAyAAAAMgAAADIAAAAyAAAAMgAAADIAAAAyAAAAMgAAADIAAAAyAAAAMgAAADIAAAAyAAAA\"},\"shape\":[15],\"dtype\":\"int32\",\"order\":\"little\"}],[\"GNN Runtime (Seconds)\",{\"type\":\"ndarray\",\"array\":{\"type\":\"bytes\",\"data\":\"AAAAgFHCDEAAAAAAIhQXQAAAABAZVh5AAAAAAHLXGUAAAAAAltMTQAAAAKCZdxxAAAAA4MfNDEAAAABAnyAgQAEAAPAAwBFAAAAAGCIyIEAAAADApKoPQAAAAMDHQxNAAAAAMHa9F0AAAACgR1kVQAAAAHAsPhdA\"},\"shape\":[15],\"dtype\":\"float64\",\"order\":\"little\"}],[\"Number of Edges\",{\"type\":\"ndarray\",\"array\":{\"type\":\"bytes\",\"data\":\"MgAAAGQAAACWAAAAyAAAAPoAAAAsAQAAXgEAAJABAADCAQAA9AEAACYCAABYAgAAigIAALwCAADuAgAA\"},\"shape\":[15],\"dtype\":\"int32\",\"order\":\"little\"}],[\"Beta Runtime (Seconds)\",{\"type\":\"ndarray\",\"array\":{\"type\":\"bytes\",\"data\":\"AAAAYIpnGUAAAADA3jEhQAEAADi5PCVAAAAAMFhIJ0AAAAAQ6IwkQP///0+dzSVAAQAAkCEGLkAAAABo2dYjQAAAANi43SBAAAAA4COAJ0AAAACgOW4lQAAAAODxNSNAAAAAwOBELkAAAACo1PwtQAAAAGRtuTBA\"},\"shape\":[15],\"dtype\":\"float64\",\"order\":\"little\"}],[\"Difference (Seconds)\",{\"type\":\"ndarray\",\"array\":{\"type\":\"bytes\",\"data\":\"AAAAQMMMBkAAAAAAN58GQAQAAMCyRghAAAAAYD65FEAAAAAgOkYVQPz///9BRw5AAQAAmK/SJkAAAABA0bH9P/7//3/h9g9AAAAAIAc4DUAAAADgIAcbQAAAAAAcKBNAAAAAqCVmIkAAAADYMFAjQAAAAJDE0yVA\"},\"shape\":[15],\"dtype\":\"float64\",\"order\":\"little\"}]]}}},\"view\":{\"type\":\"object\",\"name\":\"CDSView\",\"id\":\"p1344\",\"attributes\":{\"filter\":{\"type\":\"object\",\"name\":\"AllIndices\",\"id\":\"p1345\"}}},\"glyph\":{\"type\":\"object\",\"name\":\"Circle\",\"id\":\"p1340\",\"attributes\":{\"x\":{\"type\":\"field\",\"field\":\"Number of Edges\"},\"y\":{\"type\":\"field\",\"field\":\"Difference (Seconds)\"},\"line_color\":{\"type\":\"value\",\"value\":\"#1f77b4\"},\"fill_color\":{\"type\":\"value\",\"value\":\"#1f77b4\"}}},\"nonselection_glyph\":{\"type\":\"object\",\"name\":\"Circle\",\"id\":\"p1341\",\"attributes\":{\"x\":{\"type\":\"field\",\"field\":\"Number of Edges\"},\"y\":{\"type\":\"field\",\"field\":\"Difference (Seconds)\"},\"line_color\":{\"type\":\"value\",\"value\":\"#1f77b4\"},\"line_alpha\":{\"type\":\"value\",\"value\":0.1},\"fill_color\":{\"type\":\"value\",\"value\":\"#1f77b4\"},\"fill_alpha\":{\"type\":\"value\",\"value\":0.1},\"hatch_alpha\":{\"type\":\"value\",\"value\":0.1}}},\"muted_glyph\":{\"type\":\"object\",\"name\":\"Circle\",\"id\":\"p1342\",\"attributes\":{\"x\":{\"type\":\"field\",\"field\":\"Number of Edges\"},\"y\":{\"type\":\"field\",\"field\":\"Difference (Seconds)\"},\"line_color\":{\"type\":\"value\",\"value\":\"#1f77b4\"},\"line_alpha\":{\"type\":\"value\",\"value\":0.2},\"fill_color\":{\"type\":\"value\",\"value\":\"#1f77b4\"},\"fill_alpha\":{\"type\":\"value\",\"value\":0.2},\"hatch_alpha\":{\"type\":\"value\",\"value\":0.2}}}}}],\"toolbar\":{\"type\":\"object\",\"name\":\"Toolbar\",\"id\":\"p1310\",\"attributes\":{\"tools\":[{\"type\":\"object\",\"name\":\"PanTool\",\"id\":\"p1323\"},{\"type\":\"object\",\"name\":\"WheelZoomTool\",\"id\":\"p1324\",\"attributes\":{\"renderers\":\"auto\"}},{\"type\":\"object\",\"name\":\"BoxZoomTool\",\"id\":\"p1325\",\"attributes\":{\"overlay\":{\"type\":\"object\",\"name\":\"BoxAnnotation\",\"id\":\"p1326\",\"attributes\":{\"syncable\":false,\"level\":\"overlay\",\"visible\":false,\"left\":{\"type\":\"number\",\"value\":\"nan\"},\"right\":{\"type\":\"number\",\"value\":\"nan\"},\"top\":{\"type\":\"number\",\"value\":\"nan\"},\"bottom\":{\"type\":\"number\",\"value\":\"nan\"},\"left_units\":\"canvas\",\"right_units\":\"canvas\",\"top_units\":\"canvas\",\"bottom_units\":\"canvas\",\"line_color\":\"black\",\"line_alpha\":1.0,\"line_width\":2,\"line_dash\":[4,4],\"fill_color\":\"lightgrey\",\"fill_alpha\":0.5}}}},{\"type\":\"object\",\"name\":\"SaveTool\",\"id\":\"p1331\"},{\"type\":\"object\",\"name\":\"ResetTool\",\"id\":\"p1332\"},{\"type\":\"object\",\"name\":\"HelpTool\",\"id\":\"p1333\"}]}},\"left\":[{\"type\":\"object\",\"name\":\"LinearAxis\",\"id\":\"p1318\",\"attributes\":{\"ticker\":{\"type\":\"object\",\"name\":\"BasicTicker\",\"id\":\"p1319\",\"attributes\":{\"mantissas\":[1,2,5]}},\"formatter\":{\"type\":\"object\",\"name\":\"BasicTickFormatter\",\"id\":\"p1320\"},\"axis_label\":\"Difference (Seconds)\",\"major_label_policy\":{\"type\":\"object\",\"name\":\"AllLabels\",\"id\":\"p1321\"}}}],\"below\":[{\"type\":\"object\",\"name\":\"LinearAxis\",\"id\":\"p1313\",\"attributes\":{\"ticker\":{\"type\":\"object\",\"name\":\"BasicTicker\",\"id\":\"p1314\",\"attributes\":{\"mantissas\":[1,2,5]}},\"formatter\":{\"type\":\"object\",\"name\":\"BasicTickFormatter\",\"id\":\"p1315\"},\"axis_label\":\"Number of Edges\",\"major_label_policy\":{\"type\":\"object\",\"name\":\"AllLabels\",\"id\":\"p1316\"}}}],\"center\":[{\"type\":\"object\",\"name\":\"Grid\",\"id\":\"p1317\",\"attributes\":{\"axis\":{\"id\":\"p1313\"}}},{\"type\":\"object\",\"name\":\"Grid\",\"id\":\"p1322\",\"attributes\":{\"dimension\":1,\"axis\":{\"id\":\"p1318\"}}}]}}]}};\n",
       "  const render_items = [{\"docid\":\"3369f5f3-0aba-4842-afdf-415d59b6f7e2\",\"roots\":{\"p1302\":\"fe6e9b41-76e1-4194-a2af-2ef5b30f0cb7\"},\"root_ids\":[\"p1302\"]}];\n",
       "  root.Bokeh.embed.embed_items_notebook(docs_json, render_items);\n",
       "  }\n",
       "  if (root.Bokeh !== undefined) {\n",
       "    embed_document(root);\n",
       "  } else {\n",
       "    let attempts = 0;\n",
       "    const timer = setInterval(function(root) {\n",
       "      if (root.Bokeh !== undefined) {\n",
       "        clearInterval(timer);\n",
       "        embed_document(root);\n",
       "      } else {\n",
       "        attempts++;\n",
       "        if (attempts > 100) {\n",
       "          clearInterval(timer);\n",
       "          console.log(\"Bokeh: ERROR: Unable to run BokehJS code because BokehJS library is missing\");\n",
       "        }\n",
       "      }\n",
       "    }, 10, root)\n",
       "  }\n",
       "})(window);"
      ],
      "application/vnd.bokehjs_exec.v0+json": ""
     },
     "metadata": {
      "application/vnd.bokehjs_exec.v0+json": {
       "id": "p1302"
      }
     },
     "output_type": "display_data"
    }
   ],
   "source": [
    "x = \"Number of Edges\"\n",
    "y = \"Difference (Seconds)\"\n",
    "p = bokeh.plotting.figure(\n",
    "    width=400,\n",
    "    height=300,\n",
    "    x_axis_label=x,\n",
    "    y_axis_label=y,\n",
    ")\n",
    "p.circle(\n",
    "    source=diff,\n",
    "    x=x,\n",
    "    y=y,\n",
    ")\n",
    "bokeh.io.show(p)"
   ]
  },
  {
   "cell_type": "code",
   "execution_count": 21,
   "id": "aad29eb0-cedb-4500-aae8-a8e384f9b39d",
   "metadata": {},
   "outputs": [],
   "source": [
    "effects = pd.read_csv('CiteSeerGraphRuntimes.csv')\n",
    "effects = effects.drop(['Average Runtime', 'Unnamed: 0', 'Data'], axis=1)\n",
    "effects = effects.rename({'# Edges': 'Number of Edges', 'Full Runtime': 'Runtime (Seconds)'}, axis=1)\n",
    "gnn = effects[effects['Explainer'] == 'GNN']\n",
    "gnn = gnn.rename({'Runtime (Seconds)': 'GNN Runtime (Seconds)'}, axis=1)\n",
    "gnn = gnn.drop(['Explainer'], axis=1)\n",
    "beta = effects[effects['Explainer'] == 'Beta']\n",
    "beta = beta.rename({'Runtime (Seconds)': 'Beta Runtime (Seconds)'}, axis=1)\n",
    "beta = beta.drop(['Explainer'], axis=1)\n",
    "diff = pd.merge(gnn, beta, how=\"right\", on=[\"# Epochs\",'Number of Edges'])\n",
    "diff['Difference (Seconds)'] = diff['Beta Runtime (Seconds)'] - diff['GNN Runtime (Seconds)']"
   ]
  },
  {
   "cell_type": "code",
   "execution_count": 23,
   "id": "b16ec807-eea0-476b-8df6-847af04c7b27",
   "metadata": {
    "jupyter": {
     "source_hidden": true
    },
    "scrolled": true
   },
   "outputs": [
    {
     "data": {
      "text/html": [
       "\n",
       "  <div id=\"fc0297e0-222a-49db-9c9e-d332bf40ac3d\" data-root-id=\"p1352\" style=\"display: contents;\"></div>\n"
      ]
     },
     "metadata": {},
     "output_type": "display_data"
    },
    {
     "data": {
      "application/javascript": [
       "(function(root) {\n",
       "  function embed_document(root) {\n",
       "  const docs_json = {\"8d4bec0c-f17b-4274-afed-446caea45c91\":{\"version\":\"3.3.4\",\"title\":\"Bokeh Application\",\"roots\":[{\"type\":\"object\",\"name\":\"Figure\",\"id\":\"p1352\",\"attributes\":{\"width\":400,\"height\":300,\"x_range\":{\"type\":\"object\",\"name\":\"DataRange1d\",\"id\":\"p1353\"},\"y_range\":{\"type\":\"object\",\"name\":\"DataRange1d\",\"id\":\"p1354\"},\"x_scale\":{\"type\":\"object\",\"name\":\"LinearScale\",\"id\":\"p1361\"},\"y_scale\":{\"type\":\"object\",\"name\":\"LinearScale\",\"id\":\"p1362\"},\"title\":{\"type\":\"object\",\"name\":\"Title\",\"id\":\"p1359\"},\"renderers\":[{\"type\":\"object\",\"name\":\"GlyphRenderer\",\"id\":\"p1393\",\"attributes\":{\"data_source\":{\"type\":\"object\",\"name\":\"ColumnDataSource\",\"id\":\"p1384\",\"attributes\":{\"selected\":{\"type\":\"object\",\"name\":\"Selection\",\"id\":\"p1385\",\"attributes\":{\"indices\":[],\"line_indices\":[]}},\"selection_policy\":{\"type\":\"object\",\"name\":\"UnionRenderers\",\"id\":\"p1386\"},\"data\":{\"type\":\"map\",\"entries\":[[\"index\",{\"type\":\"ndarray\",\"array\":{\"type\":\"bytes\",\"data\":\"AAAAAAIAAAAEAAAABgAAAAgAAAAKAAAADAAAAA4AAAAQAAAAEgAAABQAAAAWAAAAGAAAABoAAAAcAAAA\"},\"shape\":[15],\"dtype\":\"int32\",\"order\":\"little\"}],[\"Explainer\",{\"type\":\"ndarray\",\"array\":[\"Beta\",\"Beta\",\"Beta\",\"Beta\",\"Beta\",\"Beta\",\"Beta\",\"Beta\",\"Beta\",\"Beta\",\"Beta\",\"Beta\",\"Beta\",\"Beta\",\"Beta\"],\"shape\":[15],\"dtype\":\"object\",\"order\":\"little\"}],[\"# Epochs\",{\"type\":\"ndarray\",\"array\":{\"type\":\"bytes\",\"data\":\"MgAAADIAAAAyAAAAMgAAADIAAAAyAAAAMgAAADIAAAAyAAAAMgAAADIAAAAyAAAAMgAAADIAAAAyAAAA\"},\"shape\":[15],\"dtype\":\"int32\",\"order\":\"little\"}],[\"Runtime (Seconds)\",{\"type\":\"ndarray\",\"array\":{\"type\":\"bytes\",\"data\":\"AAAAoOU0LkAAAACAB18fQAAAANDqmxpAAQAAAMxWIkAAAACgnaAkQP///xdLuyZAAAAA4JZXKEAAAAAoS2EwQAAAABwZtzFA////p7DPJEAAAACwVSUoQAAAAGBEGDFAAAAAcHsgL0D///83oY8vQAAAAHSxUjFA\"},\"shape\":[15],\"dtype\":\"float64\",\"order\":\"little\"}],[\"Number of Edges\",{\"type\":\"ndarray\",\"array\":{\"type\":\"bytes\",\"data\":\"MgAAAGQAAACWAAAAyAAAAPoAAAAsAQAAXgEAAJABAADCAQAA9AEAACYCAABYAgAAigIAALwCAADuAgAA\"},\"shape\":[15],\"dtype\":\"int32\",\"order\":\"little\"}]]}}},\"view\":{\"type\":\"object\",\"name\":\"CDSView\",\"id\":\"p1394\",\"attributes\":{\"filter\":{\"type\":\"object\",\"name\":\"AllIndices\",\"id\":\"p1395\"}}},\"glyph\":{\"type\":\"object\",\"name\":\"Circle\",\"id\":\"p1390\",\"attributes\":{\"x\":{\"type\":\"field\",\"field\":\"Number of Edges\"},\"y\":{\"type\":\"field\",\"field\":\"Runtime (Seconds)\"},\"line_color\":{\"type\":\"value\",\"value\":\"#1f77b4\"},\"fill_color\":{\"type\":\"value\",\"value\":\"#1f77b4\"}}},\"nonselection_glyph\":{\"type\":\"object\",\"name\":\"Circle\",\"id\":\"p1391\",\"attributes\":{\"x\":{\"type\":\"field\",\"field\":\"Number of Edges\"},\"y\":{\"type\":\"field\",\"field\":\"Runtime (Seconds)\"},\"line_color\":{\"type\":\"value\",\"value\":\"#1f77b4\"},\"line_alpha\":{\"type\":\"value\",\"value\":0.1},\"fill_color\":{\"type\":\"value\",\"value\":\"#1f77b4\"},\"fill_alpha\":{\"type\":\"value\",\"value\":0.1},\"hatch_alpha\":{\"type\":\"value\",\"value\":0.1}}},\"muted_glyph\":{\"type\":\"object\",\"name\":\"Circle\",\"id\":\"p1392\",\"attributes\":{\"x\":{\"type\":\"field\",\"field\":\"Number of Edges\"},\"y\":{\"type\":\"field\",\"field\":\"Runtime (Seconds)\"},\"line_color\":{\"type\":\"value\",\"value\":\"#1f77b4\"},\"line_alpha\":{\"type\":\"value\",\"value\":0.2},\"fill_color\":{\"type\":\"value\",\"value\":\"#1f77b4\"},\"fill_alpha\":{\"type\":\"value\",\"value\":0.2},\"hatch_alpha\":{\"type\":\"value\",\"value\":0.2}}}}},{\"type\":\"object\",\"name\":\"GlyphRenderer\",\"id\":\"p1407\",\"attributes\":{\"data_source\":{\"type\":\"object\",\"name\":\"ColumnDataSource\",\"id\":\"p1398\",\"attributes\":{\"selected\":{\"type\":\"object\",\"name\":\"Selection\",\"id\":\"p1399\",\"attributes\":{\"indices\":[],\"line_indices\":[]}},\"selection_policy\":{\"type\":\"object\",\"name\":\"UnionRenderers\",\"id\":\"p1400\"},\"data\":{\"type\":\"map\",\"entries\":[[\"index\",{\"type\":\"ndarray\",\"array\":{\"type\":\"bytes\",\"data\":\"AQAAAAMAAAAFAAAABwAAAAkAAAALAAAADQAAAA8AAAARAAAAEwAAABUAAAAXAAAAGQAAABsAAAAdAAAA\"},\"shape\":[15],\"dtype\":\"int32\",\"order\":\"little\"}],[\"Explainer\",{\"type\":\"ndarray\",\"array\":[\"GNN\",\"GNN\",\"GNN\",\"GNN\",\"GNN\",\"GNN\",\"GNN\",\"GNN\",\"GNN\",\"GNN\",\"GNN\",\"GNN\",\"GNN\",\"GNN\",\"GNN\"],\"shape\":[15],\"dtype\":\"object\",\"order\":\"little\"}],[\"# Epochs\",{\"type\":\"ndarray\",\"array\":{\"type\":\"bytes\",\"data\":\"MgAAADIAAAAyAAAAMgAAADIAAAAyAAAAMgAAADIAAAAyAAAAMgAAADIAAAAyAAAAMgAAADIAAAAyAAAA\"},\"shape\":[15],\"dtype\":\"int32\",\"order\":\"little\"}],[\"Runtime (Seconds)\",{\"type\":\"ndarray\",\"array\":{\"type\":\"bytes\",\"data\":\"AAAA8IS2HkAAAABw0kYXQAAAADAW1BJAAAAAoNJcJEABAABYSpEkQP///1/12ypAAQAA8EOhJEABAADQbU8oQAAAAFBTbCJAAAAAkCnEH0AAAAAAQd4bQAAAAKAgzB9AAAAAiG4sIUAAAAB45qUqQP///6+ZcydA\"},\"shape\":[15],\"dtype\":\"float64\",\"order\":\"little\"}],[\"Number of Edges\",{\"type\":\"ndarray\",\"array\":{\"type\":\"bytes\",\"data\":\"MgAAAGQAAACWAAAAyAAAAPoAAAAsAQAAXgEAAJABAADCAQAA9AEAACYCAABYAgAAigIAALwCAADuAgAA\"},\"shape\":[15],\"dtype\":\"int32\",\"order\":\"little\"}]]}}},\"view\":{\"type\":\"object\",\"name\":\"CDSView\",\"id\":\"p1408\",\"attributes\":{\"filter\":{\"type\":\"object\",\"name\":\"AllIndices\",\"id\":\"p1409\"}}},\"glyph\":{\"type\":\"object\",\"name\":\"Circle\",\"id\":\"p1404\",\"attributes\":{\"x\":{\"type\":\"field\",\"field\":\"Number of Edges\"},\"y\":{\"type\":\"field\",\"field\":\"Runtime (Seconds)\"},\"line_color\":{\"type\":\"value\",\"value\":\"orange\"},\"fill_color\":{\"type\":\"value\",\"value\":\"orange\"},\"hatch_color\":{\"type\":\"value\",\"value\":\"orange\"}}},\"nonselection_glyph\":{\"type\":\"object\",\"name\":\"Circle\",\"id\":\"p1405\",\"attributes\":{\"x\":{\"type\":\"field\",\"field\":\"Number of Edges\"},\"y\":{\"type\":\"field\",\"field\":\"Runtime (Seconds)\"},\"line_color\":{\"type\":\"value\",\"value\":\"orange\"},\"line_alpha\":{\"type\":\"value\",\"value\":0.1},\"fill_color\":{\"type\":\"value\",\"value\":\"orange\"},\"fill_alpha\":{\"type\":\"value\",\"value\":0.1},\"hatch_color\":{\"type\":\"value\",\"value\":\"orange\"},\"hatch_alpha\":{\"type\":\"value\",\"value\":0.1}}},\"muted_glyph\":{\"type\":\"object\",\"name\":\"Circle\",\"id\":\"p1406\",\"attributes\":{\"x\":{\"type\":\"field\",\"field\":\"Number of Edges\"},\"y\":{\"type\":\"field\",\"field\":\"Runtime (Seconds)\"},\"line_color\":{\"type\":\"value\",\"value\":\"orange\"},\"line_alpha\":{\"type\":\"value\",\"value\":0.2},\"fill_color\":{\"type\":\"value\",\"value\":\"orange\"},\"fill_alpha\":{\"type\":\"value\",\"value\":0.2},\"hatch_color\":{\"type\":\"value\",\"value\":\"orange\"},\"hatch_alpha\":{\"type\":\"value\",\"value\":0.2}}}}}],\"toolbar\":{\"type\":\"object\",\"name\":\"Toolbar\",\"id\":\"p1360\",\"attributes\":{\"tools\":[{\"type\":\"object\",\"name\":\"PanTool\",\"id\":\"p1373\"},{\"type\":\"object\",\"name\":\"WheelZoomTool\",\"id\":\"p1374\",\"attributes\":{\"renderers\":\"auto\"}},{\"type\":\"object\",\"name\":\"BoxZoomTool\",\"id\":\"p1375\",\"attributes\":{\"overlay\":{\"type\":\"object\",\"name\":\"BoxAnnotation\",\"id\":\"p1376\",\"attributes\":{\"syncable\":false,\"level\":\"overlay\",\"visible\":false,\"left\":{\"type\":\"number\",\"value\":\"nan\"},\"right\":{\"type\":\"number\",\"value\":\"nan\"},\"top\":{\"type\":\"number\",\"value\":\"nan\"},\"bottom\":{\"type\":\"number\",\"value\":\"nan\"},\"left_units\":\"canvas\",\"right_units\":\"canvas\",\"top_units\":\"canvas\",\"bottom_units\":\"canvas\",\"line_color\":\"black\",\"line_alpha\":1.0,\"line_width\":2,\"line_dash\":[4,4],\"fill_color\":\"lightgrey\",\"fill_alpha\":0.5}}}},{\"type\":\"object\",\"name\":\"SaveTool\",\"id\":\"p1381\"},{\"type\":\"object\",\"name\":\"ResetTool\",\"id\":\"p1382\"},{\"type\":\"object\",\"name\":\"HelpTool\",\"id\":\"p1383\"}]}},\"left\":[{\"type\":\"object\",\"name\":\"LinearAxis\",\"id\":\"p1368\",\"attributes\":{\"ticker\":{\"type\":\"object\",\"name\":\"BasicTicker\",\"id\":\"p1369\",\"attributes\":{\"mantissas\":[1,2,5]}},\"formatter\":{\"type\":\"object\",\"name\":\"BasicTickFormatter\",\"id\":\"p1370\"},\"axis_label\":\"Runtime (Seconds)\",\"major_label_policy\":{\"type\":\"object\",\"name\":\"AllLabels\",\"id\":\"p1371\"}}}],\"below\":[{\"type\":\"object\",\"name\":\"LinearAxis\",\"id\":\"p1363\",\"attributes\":{\"ticker\":{\"type\":\"object\",\"name\":\"BasicTicker\",\"id\":\"p1364\",\"attributes\":{\"mantissas\":[1,2,5]}},\"formatter\":{\"type\":\"object\",\"name\":\"BasicTickFormatter\",\"id\":\"p1365\"},\"axis_label\":\"Number of Edges\",\"major_label_policy\":{\"type\":\"object\",\"name\":\"AllLabels\",\"id\":\"p1366\"}}}],\"center\":[{\"type\":\"object\",\"name\":\"Grid\",\"id\":\"p1367\",\"attributes\":{\"axis\":{\"id\":\"p1363\"}}},{\"type\":\"object\",\"name\":\"Grid\",\"id\":\"p1372\",\"attributes\":{\"dimension\":1,\"axis\":{\"id\":\"p1368\"}}},{\"type\":\"object\",\"name\":\"Legend\",\"id\":\"p1396\",\"attributes\":{\"location\":\"top_left\",\"items\":[{\"type\":\"object\",\"name\":\"LegendItem\",\"id\":\"p1397\",\"attributes\":{\"label\":{\"type\":\"value\",\"value\":\"Beta\"},\"renderers\":[{\"id\":\"p1393\"}]}},{\"type\":\"object\",\"name\":\"LegendItem\",\"id\":\"p1410\",\"attributes\":{\"label\":{\"type\":\"value\",\"value\":\"GNN\"},\"renderers\":[{\"id\":\"p1407\"}]}}]}}]}}]}};\n",
       "  const render_items = [{\"docid\":\"8d4bec0c-f17b-4274-afed-446caea45c91\",\"roots\":{\"p1352\":\"fc0297e0-222a-49db-9c9e-d332bf40ac3d\"},\"root_ids\":[\"p1352\"]}];\n",
       "  root.Bokeh.embed.embed_items_notebook(docs_json, render_items);\n",
       "  }\n",
       "  if (root.Bokeh !== undefined) {\n",
       "    embed_document(root);\n",
       "  } else {\n",
       "    let attempts = 0;\n",
       "    const timer = setInterval(function(root) {\n",
       "      if (root.Bokeh !== undefined) {\n",
       "        clearInterval(timer);\n",
       "        embed_document(root);\n",
       "      } else {\n",
       "        attempts++;\n",
       "        if (attempts > 100) {\n",
       "          clearInterval(timer);\n",
       "          console.log(\"Bokeh: ERROR: Unable to run BokehJS code because BokehJS library is missing\");\n",
       "        }\n",
       "      }\n",
       "    }, 10, root)\n",
       "  }\n",
       "})(window);"
      ],
      "application/vnd.bokehjs_exec.v0+json": ""
     },
     "metadata": {
      "application/vnd.bokehjs_exec.v0+json": {
       "id": "p1352"
      }
     },
     "output_type": "display_data"
    }
   ],
   "source": [
    "x = \"Number of Edges\"\n",
    "y = \"Runtime (Seconds)\"\n",
    "p = bokeh.plotting.figure(\n",
    "    width=400,\n",
    "    height=300,\n",
    "    x_axis_label=x,\n",
    "    y_axis_label=y,\n",
    ")\n",
    "p.circle(\n",
    "    source=effects[effects['Explainer'] == 'Beta'],\n",
    "    x=x,\n",
    "    y=y,\n",
    "    legend_label=\"Beta\",\n",
    ")\n",
    "p.circle(\n",
    "    source=effects[effects['Explainer'] == 'GNN'],\n",
    "    x=x,\n",
    "    y=y,\n",
    "    legend_label=\"GNN\",\n",
    "    color='orange'\n",
    ")\n",
    "p.legend.location = \"top_left\"\n",
    "bokeh.io.show(p)"
   ]
  },
  {
   "cell_type": "code",
   "execution_count": 25,
   "id": "66c5d930-0a1a-46f0-83c9-43bc865528c3",
   "metadata": {
    "scrolled": true
   },
   "outputs": [
    {
     "data": {
      "text/html": [
       "\n",
       "  <div id=\"ed5a9540-b1f8-43a4-9ed6-5b0a90b4db0b\" data-root-id=\"p1419\" style=\"display: contents;\"></div>\n"
      ]
     },
     "metadata": {},
     "output_type": "display_data"
    },
    {
     "data": {
      "application/javascript": [
       "(function(root) {\n",
       "  function embed_document(root) {\n",
       "  const docs_json = {\"77b7350c-70da-49ea-8724-e09a91f3c491\":{\"version\":\"3.3.4\",\"title\":\"Bokeh Application\",\"roots\":[{\"type\":\"object\",\"name\":\"Figure\",\"id\":\"p1419\",\"attributes\":{\"width\":400,\"height\":300,\"x_range\":{\"type\":\"object\",\"name\":\"DataRange1d\",\"id\":\"p1420\"},\"y_range\":{\"type\":\"object\",\"name\":\"DataRange1d\",\"id\":\"p1421\"},\"x_scale\":{\"type\":\"object\",\"name\":\"LinearScale\",\"id\":\"p1428\"},\"y_scale\":{\"type\":\"object\",\"name\":\"LinearScale\",\"id\":\"p1429\"},\"title\":{\"type\":\"object\",\"name\":\"Title\",\"id\":\"p1426\"},\"renderers\":[{\"type\":\"object\",\"name\":\"GlyphRenderer\",\"id\":\"p1460\",\"attributes\":{\"data_source\":{\"type\":\"object\",\"name\":\"ColumnDataSource\",\"id\":\"p1451\",\"attributes\":{\"selected\":{\"type\":\"object\",\"name\":\"Selection\",\"id\":\"p1452\",\"attributes\":{\"indices\":[],\"line_indices\":[]}},\"selection_policy\":{\"type\":\"object\",\"name\":\"UnionRenderers\",\"id\":\"p1453\"},\"data\":{\"type\":\"map\",\"entries\":[[\"index\",{\"type\":\"ndarray\",\"array\":{\"type\":\"bytes\",\"data\":\"AAAAAAEAAAACAAAAAwAAAAQAAAAFAAAABgAAAAcAAAAIAAAACQAAAAoAAAALAAAADAAAAA0AAAAOAAAA\"},\"shape\":[15],\"dtype\":\"int32\",\"order\":\"little\"}],[\"# Epochs\",{\"type\":\"ndarray\",\"array\":{\"type\":\"bytes\",\"data\":\"MgAAADIAAAAyAAAAMgAAADIAAAAyAAAAMgAAADIAAAAyAAAAMgAAADIAAAAyAAAAMgAAADIAAAAyAAAA\"},\"shape\":[15],\"dtype\":\"int32\",\"order\":\"little\"}],[\"GNN Runtime (Seconds)\",{\"type\":\"ndarray\",\"array\":{\"type\":\"bytes\",\"data\":\"AAAA8IS2HkAAAABw0kYXQAAAADAW1BJAAAAAoNJcJEABAABYSpEkQP///1/12ypAAQAA8EOhJEABAADQbU8oQAAAAFBTbCJAAAAAkCnEH0AAAAAAQd4bQAAAAKAgzB9AAAAAiG4sIUAAAAB45qUqQP///6+ZcydA\"},\"shape\":[15],\"dtype\":\"float64\",\"order\":\"little\"}],[\"Number of Edges\",{\"type\":\"ndarray\",\"array\":{\"type\":\"bytes\",\"data\":\"MgAAAGQAAACWAAAAyAAAAPoAAAAsAQAAXgEAAJABAADCAQAA9AEAACYCAABYAgAAigIAALwCAADuAgAA\"},\"shape\":[15],\"dtype\":\"int32\",\"order\":\"little\"}],[\"Beta Runtime (Seconds)\",{\"type\":\"ndarray\",\"array\":{\"type\":\"bytes\",\"data\":\"AAAAoOU0LkAAAACAB18fQAAAANDqmxpAAQAAAMxWIkAAAACgnaAkQP///xdLuyZAAAAA4JZXKEAAAAAoS2EwQAAAABwZtzFA////p7DPJEAAAACwVSUoQAAAAGBEGDFAAAAAcHsgL0D///83oY8vQAAAAHSxUjFA\"},\"shape\":[15],\"dtype\":\"float64\",\"order\":\"little\"}],[\"Difference (Seconds)\",{\"type\":\"ndarray\",\"array\":{\"type\":\"bytes\",\"data\":\"AAAAUEazHUAAAAAgajAAQAAAAIBSH/8/+P///zQw8L8A/v//j6aePwAAACCpggDA+P//f5ey/T/+////UOYQQAAAAOjeASFA/P//f2+2A0AAAABgamwUQAAAAHB4SiJAAAAA0BnoG0D8////6qYDQAIAAHCSYxZA\"},\"shape\":[15],\"dtype\":\"float64\",\"order\":\"little\"}]]}}},\"view\":{\"type\":\"object\",\"name\":\"CDSView\",\"id\":\"p1461\",\"attributes\":{\"filter\":{\"type\":\"object\",\"name\":\"AllIndices\",\"id\":\"p1462\"}}},\"glyph\":{\"type\":\"object\",\"name\":\"Circle\",\"id\":\"p1457\",\"attributes\":{\"x\":{\"type\":\"field\",\"field\":\"Number of Edges\"},\"y\":{\"type\":\"field\",\"field\":\"Difference (Seconds)\"},\"line_color\":{\"type\":\"value\",\"value\":\"#1f77b4\"},\"fill_color\":{\"type\":\"value\",\"value\":\"#1f77b4\"}}},\"nonselection_glyph\":{\"type\":\"object\",\"name\":\"Circle\",\"id\":\"p1458\",\"attributes\":{\"x\":{\"type\":\"field\",\"field\":\"Number of Edges\"},\"y\":{\"type\":\"field\",\"field\":\"Difference (Seconds)\"},\"line_color\":{\"type\":\"value\",\"value\":\"#1f77b4\"},\"line_alpha\":{\"type\":\"value\",\"value\":0.1},\"fill_color\":{\"type\":\"value\",\"value\":\"#1f77b4\"},\"fill_alpha\":{\"type\":\"value\",\"value\":0.1},\"hatch_alpha\":{\"type\":\"value\",\"value\":0.1}}},\"muted_glyph\":{\"type\":\"object\",\"name\":\"Circle\",\"id\":\"p1459\",\"attributes\":{\"x\":{\"type\":\"field\",\"field\":\"Number of Edges\"},\"y\":{\"type\":\"field\",\"field\":\"Difference (Seconds)\"},\"line_color\":{\"type\":\"value\",\"value\":\"#1f77b4\"},\"line_alpha\":{\"type\":\"value\",\"value\":0.2},\"fill_color\":{\"type\":\"value\",\"value\":\"#1f77b4\"},\"fill_alpha\":{\"type\":\"value\",\"value\":0.2},\"hatch_alpha\":{\"type\":\"value\",\"value\":0.2}}}}}],\"toolbar\":{\"type\":\"object\",\"name\":\"Toolbar\",\"id\":\"p1427\",\"attributes\":{\"tools\":[{\"type\":\"object\",\"name\":\"PanTool\",\"id\":\"p1440\"},{\"type\":\"object\",\"name\":\"WheelZoomTool\",\"id\":\"p1441\",\"attributes\":{\"renderers\":\"auto\"}},{\"type\":\"object\",\"name\":\"BoxZoomTool\",\"id\":\"p1442\",\"attributes\":{\"overlay\":{\"type\":\"object\",\"name\":\"BoxAnnotation\",\"id\":\"p1443\",\"attributes\":{\"syncable\":false,\"level\":\"overlay\",\"visible\":false,\"left\":{\"type\":\"number\",\"value\":\"nan\"},\"right\":{\"type\":\"number\",\"value\":\"nan\"},\"top\":{\"type\":\"number\",\"value\":\"nan\"},\"bottom\":{\"type\":\"number\",\"value\":\"nan\"},\"left_units\":\"canvas\",\"right_units\":\"canvas\",\"top_units\":\"canvas\",\"bottom_units\":\"canvas\",\"line_color\":\"black\",\"line_alpha\":1.0,\"line_width\":2,\"line_dash\":[4,4],\"fill_color\":\"lightgrey\",\"fill_alpha\":0.5}}}},{\"type\":\"object\",\"name\":\"SaveTool\",\"id\":\"p1448\"},{\"type\":\"object\",\"name\":\"ResetTool\",\"id\":\"p1449\"},{\"type\":\"object\",\"name\":\"HelpTool\",\"id\":\"p1450\"}]}},\"left\":[{\"type\":\"object\",\"name\":\"LinearAxis\",\"id\":\"p1435\",\"attributes\":{\"ticker\":{\"type\":\"object\",\"name\":\"BasicTicker\",\"id\":\"p1436\",\"attributes\":{\"mantissas\":[1,2,5]}},\"formatter\":{\"type\":\"object\",\"name\":\"BasicTickFormatter\",\"id\":\"p1437\"},\"axis_label\":\"Difference (Seconds)\",\"major_label_policy\":{\"type\":\"object\",\"name\":\"AllLabels\",\"id\":\"p1438\"}}}],\"below\":[{\"type\":\"object\",\"name\":\"LinearAxis\",\"id\":\"p1430\",\"attributes\":{\"ticker\":{\"type\":\"object\",\"name\":\"BasicTicker\",\"id\":\"p1431\",\"attributes\":{\"mantissas\":[1,2,5]}},\"formatter\":{\"type\":\"object\",\"name\":\"BasicTickFormatter\",\"id\":\"p1432\"},\"axis_label\":\"Number of Edges\",\"major_label_policy\":{\"type\":\"object\",\"name\":\"AllLabels\",\"id\":\"p1433\"}}}],\"center\":[{\"type\":\"object\",\"name\":\"Grid\",\"id\":\"p1434\",\"attributes\":{\"axis\":{\"id\":\"p1430\"}}},{\"type\":\"object\",\"name\":\"Grid\",\"id\":\"p1439\",\"attributes\":{\"dimension\":1,\"axis\":{\"id\":\"p1435\"}}}]}}]}};\n",
       "  const render_items = [{\"docid\":\"77b7350c-70da-49ea-8724-e09a91f3c491\",\"roots\":{\"p1419\":\"ed5a9540-b1f8-43a4-9ed6-5b0a90b4db0b\"},\"root_ids\":[\"p1419\"]}];\n",
       "  root.Bokeh.embed.embed_items_notebook(docs_json, render_items);\n",
       "  }\n",
       "  if (root.Bokeh !== undefined) {\n",
       "    embed_document(root);\n",
       "  } else {\n",
       "    let attempts = 0;\n",
       "    const timer = setInterval(function(root) {\n",
       "      if (root.Bokeh !== undefined) {\n",
       "        clearInterval(timer);\n",
       "        embed_document(root);\n",
       "      } else {\n",
       "        attempts++;\n",
       "        if (attempts > 100) {\n",
       "          clearInterval(timer);\n",
       "          console.log(\"Bokeh: ERROR: Unable to run BokehJS code because BokehJS library is missing\");\n",
       "        }\n",
       "      }\n",
       "    }, 10, root)\n",
       "  }\n",
       "})(window);"
      ],
      "application/vnd.bokehjs_exec.v0+json": ""
     },
     "metadata": {
      "application/vnd.bokehjs_exec.v0+json": {
       "id": "p1419"
      }
     },
     "output_type": "display_data"
    }
   ],
   "source": [
    "x = \"Number of Edges\"\n",
    "y = \"Difference (Seconds)\"\n",
    "p = bokeh.plotting.figure(\n",
    "    width=400,\n",
    "    height=300,\n",
    "    x_axis_label=x,\n",
    "    y_axis_label=y,\n",
    ")\n",
    "p.circle(\n",
    "    source=diff,\n",
    "    x=x,\n",
    "    y=y,\n",
    ")\n",
    "bokeh.io.show(p)"
   ]
  },
  {
   "cell_type": "code",
   "execution_count": 27,
   "id": "02430edd-9b07-44e3-b38f-9d08bf0efab7",
   "metadata": {},
   "outputs": [],
   "source": [
    "effects = pd.read_csv('baseGraphRuntimes.csv')\n",
    "effects = effects.drop(['Average Runtime', 'Unnamed: 0', 'Data'], axis=1)\n",
    "effects = effects.rename({'# Edges': 'Number of Edges', 'Full Runtime': 'Runtime (Seconds)'}, axis=1)\n",
    "gnn = effects[effects['Explainer'] == 'GNN']\n",
    "gnn = gnn.rename({'Runtime (Seconds)': 'GNN Runtime (Seconds)'}, axis=1)\n",
    "gnn = gnn.drop(['Explainer'], axis=1)\n",
    "beta = effects[effects['Explainer'] == 'Beta']\n",
    "beta = beta.rename({'Runtime (Seconds)': 'Beta Runtime (Seconds)'}, axis=1)\n",
    "beta = beta.drop(['Explainer'], axis=1)\n",
    "diff = pd.merge(gnn, beta, how=\"right\", on=[\"# Epochs\",'Number of Edges'])\n",
    "diff['Difference (Seconds)'] = diff['Beta Runtime (Seconds)'] - diff['GNN Runtime (Seconds)']"
   ]
  },
  {
   "cell_type": "code",
   "execution_count": 29,
   "id": "314dc745-bd87-4764-b8cb-feb153a1654b",
   "metadata": {},
   "outputs": [
    {
     "data": {
      "text/html": [
       "\n",
       "  <div id=\"fa719b45-a11c-460a-b53f-295adb0b19e1\" data-root-id=\"p1469\" style=\"display: contents;\"></div>\n"
      ]
     },
     "metadata": {},
     "output_type": "display_data"
    },
    {
     "data": {
      "application/javascript": [
       "(function(root) {\n",
       "  function embed_document(root) {\n",
       "  const docs_json = {\"6d9261f5-119e-4373-87fa-339009c41527\":{\"version\":\"3.3.4\",\"title\":\"Bokeh Application\",\"roots\":[{\"type\":\"object\",\"name\":\"Figure\",\"id\":\"p1469\",\"attributes\":{\"width\":400,\"height\":300,\"x_range\":{\"type\":\"object\",\"name\":\"DataRange1d\",\"id\":\"p1470\"},\"y_range\":{\"type\":\"object\",\"name\":\"DataRange1d\",\"id\":\"p1471\"},\"x_scale\":{\"type\":\"object\",\"name\":\"LinearScale\",\"id\":\"p1478\"},\"y_scale\":{\"type\":\"object\",\"name\":\"LinearScale\",\"id\":\"p1479\"},\"title\":{\"type\":\"object\",\"name\":\"Title\",\"id\":\"p1476\"},\"renderers\":[{\"type\":\"object\",\"name\":\"GlyphRenderer\",\"id\":\"p1510\",\"attributes\":{\"data_source\":{\"type\":\"object\",\"name\":\"ColumnDataSource\",\"id\":\"p1501\",\"attributes\":{\"selected\":{\"type\":\"object\",\"name\":\"Selection\",\"id\":\"p1502\",\"attributes\":{\"indices\":[],\"line_indices\":[]}},\"selection_policy\":{\"type\":\"object\",\"name\":\"UnionRenderers\",\"id\":\"p1503\"},\"data\":{\"type\":\"map\",\"entries\":[[\"index\",{\"type\":\"ndarray\",\"array\":{\"type\":\"bytes\",\"data\":\"AAAAAAIAAAAEAAAABgAAAAgAAAAKAAAADAAAAA4AAAAQAAAAEgAAABQAAAAWAAAAGAAAABoAAAAcAAAAHgAAACAAAAAiAAAAJAAAACYAAAAoAAAAKgAAACwAAAAuAAAAMAAAADIAAAA0AAAANgAAADgAAAA6AAAAPAAAAD4AAABAAAAAQgAAAEQAAABGAAAASAAAAEoAAABMAAAATgAAAFAAAABSAAAAVAAAAFYAAABYAAAAWgAAAFwAAABeAAAAYAAAAGIAAAA=\"},\"shape\":[50],\"dtype\":\"int32\",\"order\":\"little\"}],[\"Explainer\",{\"type\":\"ndarray\",\"array\":[\"Beta\",\"Beta\",\"Beta\",\"Beta\",\"Beta\",\"Beta\",\"Beta\",\"Beta\",\"Beta\",\"Beta\",\"Beta\",\"Beta\",\"Beta\",\"Beta\",\"Beta\",\"Beta\",\"Beta\",\"Beta\",\"Beta\",\"Beta\",\"Beta\",\"Beta\",\"Beta\",\"Beta\",\"Beta\",\"Beta\",\"Beta\",\"Beta\",\"Beta\",\"Beta\",\"Beta\",\"Beta\",\"Beta\",\"Beta\",\"Beta\",\"Beta\",\"Beta\",\"Beta\",\"Beta\",\"Beta\",\"Beta\",\"Beta\",\"Beta\",\"Beta\",\"Beta\",\"Beta\",\"Beta\",\"Beta\",\"Beta\",\"Beta\"],\"shape\":[50],\"dtype\":\"object\",\"order\":\"little\"}],[\"# Epochs\",{\"type\":\"ndarray\",\"array\":{\"type\":\"bytes\",\"data\":\"MgAAADIAAAAyAAAAMgAAADIAAAAyAAAAMgAAADIAAAAyAAAAMgAAADIAAAAyAAAAMgAAADIAAAAyAAAAMgAAADIAAAAyAAAAMgAAADIAAAAyAAAAMgAAADIAAAAyAAAAMgAAADIAAAAyAAAAMgAAADIAAAAyAAAAMgAAADIAAAAyAAAAMgAAADIAAAAyAAAAMgAAADIAAAAyAAAAMgAAADIAAAAyAAAAMgAAADIAAAAyAAAAMgAAADIAAAAyAAAAMgAAADIAAAA=\"},\"shape\":[50],\"dtype\":\"int32\",\"order\":\"little\"}],[\"Runtime (Seconds)\",{\"type\":\"ndarray\",\"array\":{\"type\":\"bytes\",\"data\":\"AAAA0NNrFEAAAACgaD4PQAAAAKDJUhVAAAAAANqLD0AAAAAwCWsQQAAAAEAnOBFAAAAAkF2VEEAAAACQBbMTQAAAAFBlpBBAAAAAYDZoFEAAAABgKv8RQAAAAMCsrRhAAAAAYKbyEkAAAABwaB4WQAAAAGAQ1xVAAAAAkAxWEEAAAACAvb8PQAAAAHBCgxBAAAAAUFLoEkAAAADwR2cQQAAAAHAZrRVAAAAAgBvOFkAAAABAV6cTQAAAADDr4xNAAAAA4EdxFUAAAABgcQgUQAAAAJDzmhVAAAAAwMTsFEAAAAAwbEgXQAAAADB44hhAAAAA4BBRH0AAAADggGIZQAAAADCzjxdAAAAAcHIvFEAAAACAU9UTQAAAABC+YBZAAAAAwHANFEABAAAw2lcUQAAAAKAd1R1AAAAAsLSlEkAAAABAi84TQAAAAJAwSRNAAAAAwKMXFkAAAABwdFMVQAAAAMAwPBNAAAAAwJHpEkAAAAAgxSUWQAEAAEBdWBNAAAAA0OVlFEAAAABwtFMTQA==\"},\"shape\":[50],\"dtype\":\"float64\",\"order\":\"little\"}],[\"Number of Edges\",{\"type\":\"ndarray\",\"array\":{\"type\":\"bytes\",\"data\":\"ZAAAAMgAAAAsAQAAkAEAAPQBAABYAgAAvAIAACADAACEAwAA6AMAAEwEAACwBAAAFAUAAHgFAADcBQAAQAYAAKQGAAAIBwAAbAcAANAHAAA0CAAAmAgAAPwIAABgCQAAxAkAACgKAACMCgAA8AoAAFQLAAC4CwAAHAwAAIAMAADkDAAASA0AAKwNAAAQDgAAdA4AANgOAAA8DwAAoA8AAAQQAABoEAAAzBAAADARAACUEQAA+BEAAFwSAADAEgAAJBMAAIgTAAA=\"},\"shape\":[50],\"dtype\":\"int32\",\"order\":\"little\"}]]}}},\"view\":{\"type\":\"object\",\"name\":\"CDSView\",\"id\":\"p1511\",\"attributes\":{\"filter\":{\"type\":\"object\",\"name\":\"AllIndices\",\"id\":\"p1512\"}}},\"glyph\":{\"type\":\"object\",\"name\":\"Circle\",\"id\":\"p1507\",\"attributes\":{\"x\":{\"type\":\"field\",\"field\":\"Number of Edges\"},\"y\":{\"type\":\"field\",\"field\":\"Runtime (Seconds)\"},\"line_color\":{\"type\":\"value\",\"value\":\"#1f77b4\"},\"fill_color\":{\"type\":\"value\",\"value\":\"#1f77b4\"}}},\"nonselection_glyph\":{\"type\":\"object\",\"name\":\"Circle\",\"id\":\"p1508\",\"attributes\":{\"x\":{\"type\":\"field\",\"field\":\"Number of Edges\"},\"y\":{\"type\":\"field\",\"field\":\"Runtime (Seconds)\"},\"line_color\":{\"type\":\"value\",\"value\":\"#1f77b4\"},\"line_alpha\":{\"type\":\"value\",\"value\":0.1},\"fill_color\":{\"type\":\"value\",\"value\":\"#1f77b4\"},\"fill_alpha\":{\"type\":\"value\",\"value\":0.1},\"hatch_alpha\":{\"type\":\"value\",\"value\":0.1}}},\"muted_glyph\":{\"type\":\"object\",\"name\":\"Circle\",\"id\":\"p1509\",\"attributes\":{\"x\":{\"type\":\"field\",\"field\":\"Number of Edges\"},\"y\":{\"type\":\"field\",\"field\":\"Runtime (Seconds)\"},\"line_color\":{\"type\":\"value\",\"value\":\"#1f77b4\"},\"line_alpha\":{\"type\":\"value\",\"value\":0.2},\"fill_color\":{\"type\":\"value\",\"value\":\"#1f77b4\"},\"fill_alpha\":{\"type\":\"value\",\"value\":0.2},\"hatch_alpha\":{\"type\":\"value\",\"value\":0.2}}}}},{\"type\":\"object\",\"name\":\"GlyphRenderer\",\"id\":\"p1524\",\"attributes\":{\"data_source\":{\"type\":\"object\",\"name\":\"ColumnDataSource\",\"id\":\"p1515\",\"attributes\":{\"selected\":{\"type\":\"object\",\"name\":\"Selection\",\"id\":\"p1516\",\"attributes\":{\"indices\":[],\"line_indices\":[]}},\"selection_policy\":{\"type\":\"object\",\"name\":\"UnionRenderers\",\"id\":\"p1517\"},\"data\":{\"type\":\"map\",\"entries\":[[\"index\",{\"type\":\"ndarray\",\"array\":{\"type\":\"bytes\",\"data\":\"AQAAAAMAAAAFAAAABwAAAAkAAAALAAAADQAAAA8AAAARAAAAEwAAABUAAAAXAAAAGQAAABsAAAAdAAAAHwAAACEAAAAjAAAAJQAAACcAAAApAAAAKwAAAC0AAAAvAAAAMQAAADMAAAA1AAAANwAAADkAAAA7AAAAPQAAAD8AAABBAAAAQwAAAEUAAABHAAAASQAAAEsAAABNAAAATwAAAFEAAABTAAAAVQAAAFcAAABZAAAAWwAAAF0AAABfAAAAYQAAAGMAAAA=\"},\"shape\":[50],\"dtype\":\"int32\",\"order\":\"little\"}],[\"Explainer\",{\"type\":\"ndarray\",\"array\":[\"GNN\",\"GNN\",\"GNN\",\"GNN\",\"GNN\",\"GNN\",\"GNN\",\"GNN\",\"GNN\",\"GNN\",\"GNN\",\"GNN\",\"GNN\",\"GNN\",\"GNN\",\"GNN\",\"GNN\",\"GNN\",\"GNN\",\"GNN\",\"GNN\",\"GNN\",\"GNN\",\"GNN\",\"GNN\",\"GNN\",\"GNN\",\"GNN\",\"GNN\",\"GNN\",\"GNN\",\"GNN\",\"GNN\",\"GNN\",\"GNN\",\"GNN\",\"GNN\",\"GNN\",\"GNN\",\"GNN\",\"GNN\",\"GNN\",\"GNN\",\"GNN\",\"GNN\",\"GNN\",\"GNN\",\"GNN\",\"GNN\",\"GNN\"],\"shape\":[50],\"dtype\":\"object\",\"order\":\"little\"}],[\"# Epochs\",{\"type\":\"ndarray\",\"array\":{\"type\":\"bytes\",\"data\":\"MgAAADIAAAAyAAAAMgAAADIAAAAyAAAAMgAAADIAAAAyAAAAMgAAADIAAAAyAAAAMgAAADIAAAAyAAAAMgAAADIAAAAyAAAAMgAAADIAAAAyAAAAMgAAADIAAAAyAAAAMgAAADIAAAAyAAAAMgAAADIAAAAyAAAAMgAAADIAAAAyAAAAMgAAADIAAAAyAAAAMgAAADIAAAAyAAAAMgAAADIAAAAyAAAAMgAAADIAAAAyAAAAMgAAADIAAAAyAAAAMgAAADIAAAA=\"},\"shape\":[50],\"dtype\":\"int32\",\"order\":\"little\"}],[\"Runtime (Seconds)\",{\"type\":\"ndarray\",\"array\":{\"type\":\"bytes\",\"data\":\"AAAAANmS7D8AAACAaJboPwAAAAB2fuo/AAAAgMeR7D//////LRLvPwAAAIAScew/AAAAQBSi8D8AAAAAZvrzPwAAAAB3cu0/AAAAwA3n9T8AAACAkFzsPwAAAEBU0vA/AAAAgBDg7j8AAACA1g/tPwAAAIAiHu8/AAAAgFRG6D8AAAAAJD3mPwAAAIBzoOs/AAAAAETS7D8AAACAmO/oPwAAAAB9fPE/AAAAADjd8j8AAACA1ertPwAAAICsuOw/AAAAQKHK8z8AAAAAUBXwPwAAAAAmEfA/AQAAgMlL7z8AAADA7O/wPwAAAECnU/I/AAAAgEBP8j8AAAAAplH0P////z9mFfE/AAAAgBYq6T8AAAAA0ovqPwAAAECK2vA/AQAAgMvh7z8AAAAAiZTrPwAAAAALPfU/AAAAAMAL6j8AAACApErwPwAAAIA5aOs/AAAAgFkb8D8AAAAAfETtPwAAAADIDOs/AAAAAARC7j8AAACAJ1jqPwAAAAA//+g/AAAAgNa48T8AAACA2R7rPw==\"},\"shape\":[50],\"dtype\":\"float64\",\"order\":\"little\"}],[\"Number of Edges\",{\"type\":\"ndarray\",\"array\":{\"type\":\"bytes\",\"data\":\"ZAAAAMgAAAAsAQAAkAEAAPQBAABYAgAAvAIAACADAACEAwAA6AMAAEwEAACwBAAAFAUAAHgFAADcBQAAQAYAAKQGAAAIBwAAbAcAANAHAAA0CAAAmAgAAPwIAABgCQAAxAkAACgKAACMCgAA8AoAAFQLAAC4CwAAHAwAAIAMAADkDAAASA0AAKwNAAAQDgAAdA4AANgOAAA8DwAAoA8AAAQQAABoEAAAzBAAADARAACUEQAA+BEAAFwSAADAEgAAJBMAAIgTAAA=\"},\"shape\":[50],\"dtype\":\"int32\",\"order\":\"little\"}]]}}},\"view\":{\"type\":\"object\",\"name\":\"CDSView\",\"id\":\"p1525\",\"attributes\":{\"filter\":{\"type\":\"object\",\"name\":\"AllIndices\",\"id\":\"p1526\"}}},\"glyph\":{\"type\":\"object\",\"name\":\"Circle\",\"id\":\"p1521\",\"attributes\":{\"x\":{\"type\":\"field\",\"field\":\"Number of Edges\"},\"y\":{\"type\":\"field\",\"field\":\"Runtime (Seconds)\"},\"line_color\":{\"type\":\"value\",\"value\":\"orange\"},\"fill_color\":{\"type\":\"value\",\"value\":\"orange\"},\"hatch_color\":{\"type\":\"value\",\"value\":\"orange\"}}},\"nonselection_glyph\":{\"type\":\"object\",\"name\":\"Circle\",\"id\":\"p1522\",\"attributes\":{\"x\":{\"type\":\"field\",\"field\":\"Number of Edges\"},\"y\":{\"type\":\"field\",\"field\":\"Runtime (Seconds)\"},\"line_color\":{\"type\":\"value\",\"value\":\"orange\"},\"line_alpha\":{\"type\":\"value\",\"value\":0.1},\"fill_color\":{\"type\":\"value\",\"value\":\"orange\"},\"fill_alpha\":{\"type\":\"value\",\"value\":0.1},\"hatch_color\":{\"type\":\"value\",\"value\":\"orange\"},\"hatch_alpha\":{\"type\":\"value\",\"value\":0.1}}},\"muted_glyph\":{\"type\":\"object\",\"name\":\"Circle\",\"id\":\"p1523\",\"attributes\":{\"x\":{\"type\":\"field\",\"field\":\"Number of Edges\"},\"y\":{\"type\":\"field\",\"field\":\"Runtime (Seconds)\"},\"line_color\":{\"type\":\"value\",\"value\":\"orange\"},\"line_alpha\":{\"type\":\"value\",\"value\":0.2},\"fill_color\":{\"type\":\"value\",\"value\":\"orange\"},\"fill_alpha\":{\"type\":\"value\",\"value\":0.2},\"hatch_color\":{\"type\":\"value\",\"value\":\"orange\"},\"hatch_alpha\":{\"type\":\"value\",\"value\":0.2}}}}}],\"toolbar\":{\"type\":\"object\",\"name\":\"Toolbar\",\"id\":\"p1477\",\"attributes\":{\"tools\":[{\"type\":\"object\",\"name\":\"PanTool\",\"id\":\"p1490\"},{\"type\":\"object\",\"name\":\"WheelZoomTool\",\"id\":\"p1491\",\"attributes\":{\"renderers\":\"auto\"}},{\"type\":\"object\",\"name\":\"BoxZoomTool\",\"id\":\"p1492\",\"attributes\":{\"overlay\":{\"type\":\"object\",\"name\":\"BoxAnnotation\",\"id\":\"p1493\",\"attributes\":{\"syncable\":false,\"level\":\"overlay\",\"visible\":false,\"left\":{\"type\":\"number\",\"value\":\"nan\"},\"right\":{\"type\":\"number\",\"value\":\"nan\"},\"top\":{\"type\":\"number\",\"value\":\"nan\"},\"bottom\":{\"type\":\"number\",\"value\":\"nan\"},\"left_units\":\"canvas\",\"right_units\":\"canvas\",\"top_units\":\"canvas\",\"bottom_units\":\"canvas\",\"line_color\":\"black\",\"line_alpha\":1.0,\"line_width\":2,\"line_dash\":[4,4],\"fill_color\":\"lightgrey\",\"fill_alpha\":0.5}}}},{\"type\":\"object\",\"name\":\"SaveTool\",\"id\":\"p1498\"},{\"type\":\"object\",\"name\":\"ResetTool\",\"id\":\"p1499\"},{\"type\":\"object\",\"name\":\"HelpTool\",\"id\":\"p1500\"}]}},\"left\":[{\"type\":\"object\",\"name\":\"LinearAxis\",\"id\":\"p1485\",\"attributes\":{\"ticker\":{\"type\":\"object\",\"name\":\"BasicTicker\",\"id\":\"p1486\",\"attributes\":{\"mantissas\":[1,2,5]}},\"formatter\":{\"type\":\"object\",\"name\":\"BasicTickFormatter\",\"id\":\"p1487\"},\"axis_label\":\"Runtime (Seconds)\",\"major_label_policy\":{\"type\":\"object\",\"name\":\"AllLabels\",\"id\":\"p1488\"}}}],\"below\":[{\"type\":\"object\",\"name\":\"LinearAxis\",\"id\":\"p1480\",\"attributes\":{\"ticker\":{\"type\":\"object\",\"name\":\"BasicTicker\",\"id\":\"p1481\",\"attributes\":{\"mantissas\":[1,2,5]}},\"formatter\":{\"type\":\"object\",\"name\":\"BasicTickFormatter\",\"id\":\"p1482\"},\"axis_label\":\"Number of Edges\",\"major_label_policy\":{\"type\":\"object\",\"name\":\"AllLabels\",\"id\":\"p1483\"}}}],\"center\":[{\"type\":\"object\",\"name\":\"Grid\",\"id\":\"p1484\",\"attributes\":{\"axis\":{\"id\":\"p1480\"}}},{\"type\":\"object\",\"name\":\"Grid\",\"id\":\"p1489\",\"attributes\":{\"dimension\":1,\"axis\":{\"id\":\"p1485\"}}},{\"type\":\"object\",\"name\":\"Legend\",\"id\":\"p1513\",\"attributes\":{\"location\":\"top_left\",\"items\":[{\"type\":\"object\",\"name\":\"LegendItem\",\"id\":\"p1514\",\"attributes\":{\"label\":{\"type\":\"value\",\"value\":\"Beta\"},\"renderers\":[{\"id\":\"p1510\"}]}},{\"type\":\"object\",\"name\":\"LegendItem\",\"id\":\"p1527\",\"attributes\":{\"label\":{\"type\":\"value\",\"value\":\"GNN\"},\"renderers\":[{\"id\":\"p1524\"}]}}]}}]}}]}};\n",
       "  const render_items = [{\"docid\":\"6d9261f5-119e-4373-87fa-339009c41527\",\"roots\":{\"p1469\":\"fa719b45-a11c-460a-b53f-295adb0b19e1\"},\"root_ids\":[\"p1469\"]}];\n",
       "  root.Bokeh.embed.embed_items_notebook(docs_json, render_items);\n",
       "  }\n",
       "  if (root.Bokeh !== undefined) {\n",
       "    embed_document(root);\n",
       "  } else {\n",
       "    let attempts = 0;\n",
       "    const timer = setInterval(function(root) {\n",
       "      if (root.Bokeh !== undefined) {\n",
       "        clearInterval(timer);\n",
       "        embed_document(root);\n",
       "      } else {\n",
       "        attempts++;\n",
       "        if (attempts > 100) {\n",
       "          clearInterval(timer);\n",
       "          console.log(\"Bokeh: ERROR: Unable to run BokehJS code because BokehJS library is missing\");\n",
       "        }\n",
       "      }\n",
       "    }, 10, root)\n",
       "  }\n",
       "})(window);"
      ],
      "application/vnd.bokehjs_exec.v0+json": ""
     },
     "metadata": {
      "application/vnd.bokehjs_exec.v0+json": {
       "id": "p1469"
      }
     },
     "output_type": "display_data"
    }
   ],
   "source": [
    "x = \"Number of Edges\"\n",
    "y = \"Runtime (Seconds)\"\n",
    "p = bokeh.plotting.figure(\n",
    "    width=400,\n",
    "    height=300,\n",
    "    x_axis_label=x,\n",
    "    y_axis_label=y,\n",
    ")\n",
    "p.circle(\n",
    "    source=effects[effects['Explainer'] == 'Beta'],\n",
    "    x=x,\n",
    "    y=y,\n",
    "    legend_label=\"Beta\",\n",
    ")\n",
    "p.circle(\n",
    "    source=effects[effects['Explainer'] == 'GNN'],\n",
    "    x=x,\n",
    "    y=y,\n",
    "    legend_label=\"GNN\",\n",
    "    color='orange'\n",
    ")\n",
    "p.legend.location = \"top_left\"\n",
    "bokeh.io.show(p)"
   ]
  },
  {
   "cell_type": "code",
   "execution_count": 31,
   "id": "88ccbaa2-9ae6-4886-813c-c51e7a80f2ab",
   "metadata": {
    "jupyter": {
     "source_hidden": true
    }
   },
   "outputs": [
    {
     "data": {
      "text/html": [
       "\n",
       "  <div id=\"e424e975-ad88-4c5c-9611-0e83228a2e69\" data-root-id=\"p1536\" style=\"display: contents;\"></div>\n"
      ]
     },
     "metadata": {},
     "output_type": "display_data"
    },
    {
     "data": {
      "application/javascript": [
       "(function(root) {\n",
       "  function embed_document(root) {\n",
       "  const docs_json = {\"472a19bc-28c8-45d6-ada3-1686d71c0d5c\":{\"version\":\"3.3.4\",\"title\":\"Bokeh Application\",\"roots\":[{\"type\":\"object\",\"name\":\"Figure\",\"id\":\"p1536\",\"attributes\":{\"width\":400,\"height\":300,\"x_range\":{\"type\":\"object\",\"name\":\"DataRange1d\",\"id\":\"p1537\"},\"y_range\":{\"type\":\"object\",\"name\":\"DataRange1d\",\"id\":\"p1538\"},\"x_scale\":{\"type\":\"object\",\"name\":\"LinearScale\",\"id\":\"p1545\"},\"y_scale\":{\"type\":\"object\",\"name\":\"LinearScale\",\"id\":\"p1546\"},\"title\":{\"type\":\"object\",\"name\":\"Title\",\"id\":\"p1543\"},\"renderers\":[{\"type\":\"object\",\"name\":\"GlyphRenderer\",\"id\":\"p1577\",\"attributes\":{\"data_source\":{\"type\":\"object\",\"name\":\"ColumnDataSource\",\"id\":\"p1568\",\"attributes\":{\"selected\":{\"type\":\"object\",\"name\":\"Selection\",\"id\":\"p1569\",\"attributes\":{\"indices\":[],\"line_indices\":[]}},\"selection_policy\":{\"type\":\"object\",\"name\":\"UnionRenderers\",\"id\":\"p1570\"},\"data\":{\"type\":\"map\",\"entries\":[[\"index\",{\"type\":\"ndarray\",\"array\":{\"type\":\"bytes\",\"data\":\"AAAAAAEAAAACAAAAAwAAAAQAAAAFAAAABgAAAAcAAAAIAAAACQAAAAoAAAALAAAADAAAAA0AAAAOAAAADwAAABAAAAARAAAAEgAAABMAAAAUAAAAFQAAABYAAAAXAAAAGAAAABkAAAAaAAAAGwAAABwAAAAdAAAAHgAAAB8AAAAgAAAAIQAAACIAAAAjAAAAJAAAACUAAAAmAAAAJwAAACgAAAApAAAAKgAAACsAAAAsAAAALQAAAC4AAAAvAAAAMAAAADEAAAA=\"},\"shape\":[50],\"dtype\":\"int32\",\"order\":\"little\"}],[\"# Epochs\",{\"type\":\"ndarray\",\"array\":{\"type\":\"bytes\",\"data\":\"MgAAADIAAAAyAAAAMgAAADIAAAAyAAAAMgAAADIAAAAyAAAAMgAAADIAAAAyAAAAMgAAADIAAAAyAAAAMgAAADIAAAAyAAAAMgAAADIAAAAyAAAAMgAAADIAAAAyAAAAMgAAADIAAAAyAAAAMgAAADIAAAAyAAAAMgAAADIAAAAyAAAAMgAAADIAAAAyAAAAMgAAADIAAAAyAAAAMgAAADIAAAAyAAAAMgAAADIAAAAyAAAAMgAAADIAAAAyAAAAMgAAADIAAAA=\"},\"shape\":[50],\"dtype\":\"int32\",\"order\":\"little\"}],[\"GNN Runtime (Seconds)\",{\"type\":\"ndarray\",\"array\":{\"type\":\"bytes\",\"data\":\"AAAAANmS7D8AAACAaJboPwAAAAB2fuo/AAAAgMeR7D//////LRLvPwAAAIAScew/AAAAQBSi8D8AAAAAZvrzPwAAAAB3cu0/AAAAwA3n9T8AAACAkFzsPwAAAEBU0vA/AAAAgBDg7j8AAACA1g/tPwAAAIAiHu8/AAAAgFRG6D8AAAAAJD3mPwAAAIBzoOs/AAAAAETS7D8AAACAmO/oPwAAAAB9fPE/AAAAADjd8j8AAACA1ertPwAAAICsuOw/AAAAQKHK8z8AAAAAUBXwPwAAAAAmEfA/AQAAgMlL7z8AAADA7O/wPwAAAECnU/I/AAAAgEBP8j8AAAAAplH0P////z9mFfE/AAAAgBYq6T8AAAAA0ovqPwAAAECK2vA/AQAAgMvh7z8AAAAAiZTrPwAAAAALPfU/AAAAAMAL6j8AAACApErwPwAAAIA5aOs/AAAAgFkb8D8AAAAAfETtPwAAAADIDOs/AAAAAARC7j8AAACAJ1jqPwAAAAA//+g/AAAAgNa48T8AAACA2R7rPw==\"},\"shape\":[50],\"dtype\":\"float64\",\"order\":\"little\"}],[\"Number of Edges\",{\"type\":\"ndarray\",\"array\":{\"type\":\"bytes\",\"data\":\"ZAAAAMgAAAAsAQAAkAEAAPQBAABYAgAAvAIAACADAACEAwAA6AMAAEwEAACwBAAAFAUAAHgFAADcBQAAQAYAAKQGAAAIBwAAbAcAANAHAAA0CAAAmAgAAPwIAABgCQAAxAkAACgKAACMCgAA8AoAAFQLAAC4CwAAHAwAAIAMAADkDAAASA0AAKwNAAAQDgAAdA4AANgOAAA8DwAAoA8AAAQQAABoEAAAzBAAADARAACUEQAA+BEAAFwSAADAEgAAJBMAAIgTAAA=\"},\"shape\":[50],\"dtype\":\"int32\",\"order\":\"little\"}],[\"Beta Runtime (Seconds)\",{\"type\":\"ndarray\",\"array\":{\"type\":\"bytes\",\"data\":\"AAAA0NNrFEAAAACgaD4PQAAAAKDJUhVAAAAAANqLD0AAAAAwCWsQQAAAAEAnOBFAAAAAkF2VEEAAAACQBbMTQAAAAFBlpBBAAAAAYDZoFEAAAABgKv8RQAAAAMCsrRhAAAAAYKbyEkAAAABwaB4WQAAAAGAQ1xVAAAAAkAxWEEAAAACAvb8PQAAAAHBCgxBAAAAAUFLoEkAAAADwR2cQQAAAAHAZrRVAAAAAgBvOFkAAAABAV6cTQAAAADDr4xNAAAAA4EdxFUAAAABgcQgUQAAAAJDzmhVAAAAAwMTsFEAAAAAwbEgXQAAAADB44hhAAAAA4BBRH0AAAADggGIZQAAAADCzjxdAAAAAcHIvFEAAAACAU9UTQAAAABC+YBZAAAAAwHANFEABAAAw2lcUQAAAAKAd1R1AAAAAsLSlEkAAAABAi84TQAAAAJAwSRNAAAAAwKMXFkAAAABwdFMVQAAAAMAwPBNAAAAAwJHpEkAAAAAgxSUWQAEAAEBdWBNAAAAA0OVlFEAAAABwtFMTQA==\"},\"shape\":[50],\"dtype\":\"float64\",\"order\":\"little\"}],[\"Difference (Seconds)\",{\"type\":\"ndarray\",\"array\":{\"type\":\"bytes\",\"data\":\"AAAAsHjZEEAAAACAzhgJQAAAAOD6AhJAAAAAIGhnCEAAAADghhEJQAAAAOAJVAtAAAAAALHZCEAAAAAg2GgNQAAAAOAs7AlAAAAA4OXcDUAAAACgMOcMQAAAALAXeRRAAAAAoEgtDkAAAACgbXwSQAAAABBM8xFAAAAAAISaCkAAAACAdDAKQAAAAABoHgpAAAAAoBOcDkAAAADAqZIKQAAAADD6TRFAAAAAgM0WEkAAAAAg+dMPQAAAAKDVTBBAAAAAkJ9+EEAAAABgHQMQQAAAABCqlhFAAAAAkEsDEUAAAAAAcQwTQAAAAGCOTRRAAAAAwEC9GkAAAABgF04UQAAAAKBZShNAAAAAoC8KEUAAAABA2YMQQAAAAIAbKhJAAAAAUDcREEABAAAQSeUQQAAAAODahRhAAAAAYHnIDkAAAABAxHcPQAAAAMBSuA9AAAAAYM0QEkAAAADw5KoRQAAAAIAvtQ9AAAAAgKJCDkAAAAAwwNoSQAEAAGB1OBBAAAAAYGDvD0AAAACAst8PQA==\"},\"shape\":[50],\"dtype\":\"float64\",\"order\":\"little\"}]]}}},\"view\":{\"type\":\"object\",\"name\":\"CDSView\",\"id\":\"p1578\",\"attributes\":{\"filter\":{\"type\":\"object\",\"name\":\"AllIndices\",\"id\":\"p1579\"}}},\"glyph\":{\"type\":\"object\",\"name\":\"Circle\",\"id\":\"p1574\",\"attributes\":{\"x\":{\"type\":\"field\",\"field\":\"Number of Edges\"},\"y\":{\"type\":\"field\",\"field\":\"Difference (Seconds)\"},\"line_color\":{\"type\":\"value\",\"value\":\"#1f77b4\"},\"fill_color\":{\"type\":\"value\",\"value\":\"#1f77b4\"}}},\"nonselection_glyph\":{\"type\":\"object\",\"name\":\"Circle\",\"id\":\"p1575\",\"attributes\":{\"x\":{\"type\":\"field\",\"field\":\"Number of Edges\"},\"y\":{\"type\":\"field\",\"field\":\"Difference (Seconds)\"},\"line_color\":{\"type\":\"value\",\"value\":\"#1f77b4\"},\"line_alpha\":{\"type\":\"value\",\"value\":0.1},\"fill_color\":{\"type\":\"value\",\"value\":\"#1f77b4\"},\"fill_alpha\":{\"type\":\"value\",\"value\":0.1},\"hatch_alpha\":{\"type\":\"value\",\"value\":0.1}}},\"muted_glyph\":{\"type\":\"object\",\"name\":\"Circle\",\"id\":\"p1576\",\"attributes\":{\"x\":{\"type\":\"field\",\"field\":\"Number of Edges\"},\"y\":{\"type\":\"field\",\"field\":\"Difference (Seconds)\"},\"line_color\":{\"type\":\"value\",\"value\":\"#1f77b4\"},\"line_alpha\":{\"type\":\"value\",\"value\":0.2},\"fill_color\":{\"type\":\"value\",\"value\":\"#1f77b4\"},\"fill_alpha\":{\"type\":\"value\",\"value\":0.2},\"hatch_alpha\":{\"type\":\"value\",\"value\":0.2}}}}}],\"toolbar\":{\"type\":\"object\",\"name\":\"Toolbar\",\"id\":\"p1544\",\"attributes\":{\"tools\":[{\"type\":\"object\",\"name\":\"PanTool\",\"id\":\"p1557\"},{\"type\":\"object\",\"name\":\"WheelZoomTool\",\"id\":\"p1558\",\"attributes\":{\"renderers\":\"auto\"}},{\"type\":\"object\",\"name\":\"BoxZoomTool\",\"id\":\"p1559\",\"attributes\":{\"overlay\":{\"type\":\"object\",\"name\":\"BoxAnnotation\",\"id\":\"p1560\",\"attributes\":{\"syncable\":false,\"level\":\"overlay\",\"visible\":false,\"left\":{\"type\":\"number\",\"value\":\"nan\"},\"right\":{\"type\":\"number\",\"value\":\"nan\"},\"top\":{\"type\":\"number\",\"value\":\"nan\"},\"bottom\":{\"type\":\"number\",\"value\":\"nan\"},\"left_units\":\"canvas\",\"right_units\":\"canvas\",\"top_units\":\"canvas\",\"bottom_units\":\"canvas\",\"line_color\":\"black\",\"line_alpha\":1.0,\"line_width\":2,\"line_dash\":[4,4],\"fill_color\":\"lightgrey\",\"fill_alpha\":0.5}}}},{\"type\":\"object\",\"name\":\"SaveTool\",\"id\":\"p1565\"},{\"type\":\"object\",\"name\":\"ResetTool\",\"id\":\"p1566\"},{\"type\":\"object\",\"name\":\"HelpTool\",\"id\":\"p1567\"}]}},\"left\":[{\"type\":\"object\",\"name\":\"LinearAxis\",\"id\":\"p1552\",\"attributes\":{\"ticker\":{\"type\":\"object\",\"name\":\"BasicTicker\",\"id\":\"p1553\",\"attributes\":{\"mantissas\":[1,2,5]}},\"formatter\":{\"type\":\"object\",\"name\":\"BasicTickFormatter\",\"id\":\"p1554\"},\"axis_label\":\"Difference (Seconds)\",\"major_label_policy\":{\"type\":\"object\",\"name\":\"AllLabels\",\"id\":\"p1555\"}}}],\"below\":[{\"type\":\"object\",\"name\":\"LinearAxis\",\"id\":\"p1547\",\"attributes\":{\"ticker\":{\"type\":\"object\",\"name\":\"BasicTicker\",\"id\":\"p1548\",\"attributes\":{\"mantissas\":[1,2,5]}},\"formatter\":{\"type\":\"object\",\"name\":\"BasicTickFormatter\",\"id\":\"p1549\"},\"axis_label\":\"Number of Edges\",\"major_label_policy\":{\"type\":\"object\",\"name\":\"AllLabels\",\"id\":\"p1550\"}}}],\"center\":[{\"type\":\"object\",\"name\":\"Grid\",\"id\":\"p1551\",\"attributes\":{\"axis\":{\"id\":\"p1547\"}}},{\"type\":\"object\",\"name\":\"Grid\",\"id\":\"p1556\",\"attributes\":{\"dimension\":1,\"axis\":{\"id\":\"p1552\"}}}]}}]}};\n",
       "  const render_items = [{\"docid\":\"472a19bc-28c8-45d6-ada3-1686d71c0d5c\",\"roots\":{\"p1536\":\"e424e975-ad88-4c5c-9611-0e83228a2e69\"},\"root_ids\":[\"p1536\"]}];\n",
       "  root.Bokeh.embed.embed_items_notebook(docs_json, render_items);\n",
       "  }\n",
       "  if (root.Bokeh !== undefined) {\n",
       "    embed_document(root);\n",
       "  } else {\n",
       "    let attempts = 0;\n",
       "    const timer = setInterval(function(root) {\n",
       "      if (root.Bokeh !== undefined) {\n",
       "        clearInterval(timer);\n",
       "        embed_document(root);\n",
       "      } else {\n",
       "        attempts++;\n",
       "        if (attempts > 100) {\n",
       "          clearInterval(timer);\n",
       "          console.log(\"Bokeh: ERROR: Unable to run BokehJS code because BokehJS library is missing\");\n",
       "        }\n",
       "      }\n",
       "    }, 10, root)\n",
       "  }\n",
       "})(window);"
      ],
      "application/vnd.bokehjs_exec.v0+json": ""
     },
     "metadata": {
      "application/vnd.bokehjs_exec.v0+json": {
       "id": "p1536"
      }
     },
     "output_type": "display_data"
    }
   ],
   "source": [
    "x = \"Number of Edges\"\n",
    "y = \"Difference (Seconds)\"\n",
    "p = bokeh.plotting.figure(\n",
    "    width=400,\n",
    "    height=300,\n",
    "    x_axis_label=x,\n",
    "    y_axis_label=y,\n",
    ")\n",
    "p.circle(\n",
    "    source=diff,\n",
    "    x=x,\n",
    "    y=y,\n",
    ")\n",
    "bokeh.io.show(p)"
   ]
  },
  {
   "cell_type": "code",
   "execution_count": 33,
   "id": "741312b2-fe71-4723-b7a4-0b1d536401fa",
   "metadata": {},
   "outputs": [],
   "source": [
    "effects = pd.read_csv('heteroGraphRuntimes.csv')\n",
    "effects = effects.drop(['Average Runtime', 'Unnamed: 0', 'Data'], axis=1)\n",
    "effects = effects.rename({'# Edges': 'Number of Edges', 'Full Runtime': 'Runtime (Seconds)'}, axis=1)\n",
    "gnn = effects[effects['Explainer'] == 'GNN']\n",
    "gnn = gnn.rename({'Runtime (Seconds)': 'GNN Runtime (Seconds)'}, axis=1)\n",
    "gnn = gnn.drop(['Explainer'], axis=1)\n",
    "beta = effects[effects['Explainer'] == 'Beta']\n",
    "beta = beta.rename({'Runtime (Seconds)': 'Beta Runtime (Seconds)'}, axis=1)\n",
    "beta = beta.drop(['Explainer'], axis=1)\n",
    "diff = pd.merge(gnn, beta, how=\"right\", on=[\"# Epochs\",'Number of Edges'])\n",
    "diff['Difference (Seconds)'] = diff['Beta Runtime (Seconds)'] - diff['GNN Runtime (Seconds)']"
   ]
  },
  {
   "cell_type": "code",
   "execution_count": 35,
   "id": "44aa183b-98e6-4d82-a936-514bbf60720d",
   "metadata": {
    "jupyter": {
     "source_hidden": true
    }
   },
   "outputs": [
    {
     "data": {
      "text/html": [
       "\n",
       "  <div id=\"b7859865-e061-4d52-b75f-5b823e522f91\" data-root-id=\"p1586\" style=\"display: contents;\"></div>\n"
      ]
     },
     "metadata": {},
     "output_type": "display_data"
    },
    {
     "data": {
      "application/javascript": [
       "(function(root) {\n",
       "  function embed_document(root) {\n",
       "  const docs_json = {\"fec22cd9-c1ad-4a32-bacb-838e35a61e3f\":{\"version\":\"3.3.4\",\"title\":\"Bokeh Application\",\"roots\":[{\"type\":\"object\",\"name\":\"Figure\",\"id\":\"p1586\",\"attributes\":{\"width\":400,\"height\":300,\"x_range\":{\"type\":\"object\",\"name\":\"DataRange1d\",\"id\":\"p1587\"},\"y_range\":{\"type\":\"object\",\"name\":\"DataRange1d\",\"id\":\"p1588\"},\"x_scale\":{\"type\":\"object\",\"name\":\"LinearScale\",\"id\":\"p1595\"},\"y_scale\":{\"type\":\"object\",\"name\":\"LinearScale\",\"id\":\"p1596\"},\"title\":{\"type\":\"object\",\"name\":\"Title\",\"id\":\"p1593\"},\"renderers\":[{\"type\":\"object\",\"name\":\"GlyphRenderer\",\"id\":\"p1627\",\"attributes\":{\"data_source\":{\"type\":\"object\",\"name\":\"ColumnDataSource\",\"id\":\"p1618\",\"attributes\":{\"selected\":{\"type\":\"object\",\"name\":\"Selection\",\"id\":\"p1619\",\"attributes\":{\"indices\":[],\"line_indices\":[]}},\"selection_policy\":{\"type\":\"object\",\"name\":\"UnionRenderers\",\"id\":\"p1620\"},\"data\":{\"type\":\"map\",\"entries\":[[\"index\",{\"type\":\"ndarray\",\"array\":{\"type\":\"bytes\",\"data\":\"AAAAAAIAAAAEAAAABgAAAAgAAAAKAAAADAAAAA4AAAAQAAAAEgAAABQAAAAWAAAAGAAAABoAAAAcAAAAHgAAACAAAAAiAAAAJAAAACYAAAAoAAAAKgAAACwAAAAuAAAAMAAAADIAAAA0AAAANgAAADgAAAA6AAAAPAAAAD4AAABAAAAAQgAAAEQAAABGAAAASAAAAEoAAABMAAAATgAAAFAAAABSAAAAVAAAAFYAAABYAAAAWgAAAFwAAABeAAAAYAAAAGIAAAA=\"},\"shape\":[50],\"dtype\":\"int32\",\"order\":\"little\"}],[\"Explainer\",{\"type\":\"ndarray\",\"array\":[\"Beta\",\"Beta\",\"Beta\",\"Beta\",\"Beta\",\"Beta\",\"Beta\",\"Beta\",\"Beta\",\"Beta\",\"Beta\",\"Beta\",\"Beta\",\"Beta\",\"Beta\",\"Beta\",\"Beta\",\"Beta\",\"Beta\",\"Beta\",\"Beta\",\"Beta\",\"Beta\",\"Beta\",\"Beta\",\"Beta\",\"Beta\",\"Beta\",\"Beta\",\"Beta\",\"Beta\",\"Beta\",\"Beta\",\"Beta\",\"Beta\",\"Beta\",\"Beta\",\"Beta\",\"Beta\",\"Beta\",\"Beta\",\"Beta\",\"Beta\",\"Beta\",\"Beta\",\"Beta\",\"Beta\",\"Beta\",\"Beta\",\"Beta\"],\"shape\":[50],\"dtype\":\"object\",\"order\":\"little\"}],[\"# Epochs\",{\"type\":\"ndarray\",\"array\":{\"type\":\"bytes\",\"data\":\"MgAAADIAAAAyAAAAMgAAADIAAAAyAAAAMgAAADIAAAAyAAAAMgAAADIAAAAyAAAAMgAAADIAAAAyAAAAMgAAADIAAAAyAAAAMgAAADIAAAAyAAAAMgAAADIAAAAyAAAAMgAAADIAAAAyAAAAMgAAADIAAAAyAAAAMgAAADIAAAAyAAAAMgAAADIAAAAyAAAAMgAAADIAAAAyAAAAMgAAADIAAAAyAAAAMgAAADIAAAAyAAAAMgAAADIAAAAyAAAAMgAAADIAAAA=\"},\"shape\":[50],\"dtype\":\"int32\",\"order\":\"little\"}],[\"Runtime (Seconds)\",{\"type\":\"ndarray\",\"array\":{\"type\":\"bytes\",\"data\":\"AAAAgDeLDED+//8ffzQOQAAAAEAIzA5AAAAAIBnUC0AAAAAQcLsQQP////9owQ1AAQAAYNsOEUAAAACw9VsQQAAAAAALfhBAAAAAIIbED0AAAACg4W0QQAAAAHCRBhNAAAAAENYtEkAAAADA8asRQAAAAHDIGhdAAAAAEEnFEkAAAABwAToQQAAAAPAgyBdAAAAAUIHtEUAAAADApKoSQAAAAFB0WRNAAAAAIOejFUAAAADQyf0RQAAAAKCdIxFAAAAAcLvFEkAAAACQ/cwRQAAAAFBByBFAAAAAAAJ4E0AAAABQbYgSQAAAACD6tBNAAAAAYKS3GkAAAABAqNgUQAAAAKAndxRAAAAAoM+1FUAAAADA7AMXQAAAANC7ERNAAAAA8KXZFEAAAABw7mgXQAAAAOByOBRAAAAAAEmZFkAAAABwL90UQAAAABAtuBpAAAAA4PgOGkAAAAAQou0XQAAAADALsxxAAAAAQKlZGkAAAACQrVMdQAAAALD6JRxAAQAAoPRRGUAAAAC407UgQA==\"},\"shape\":[50],\"dtype\":\"float64\",\"order\":\"little\"}],[\"Number of Edges\",{\"type\":\"ndarray\",\"array\":{\"type\":\"bytes\",\"data\":\"ZAAAAMgAAAAsAQAAkAEAAPQBAABYAgAAvAIAACADAACEAwAA6AMAAEwEAACwBAAAFAUAAHgFAADcBQAAQAYAAKQGAAAIBwAAbAcAANAHAAA0CAAAmAgAAPwIAABgCQAAxAkAACgKAACMCgAA8AoAAFQLAAC4CwAAHAwAAIAMAADkDAAASA0AAKwNAAAQDgAAdA4AANgOAAA8DwAAoA8AAAQQAABoEAAAzBAAADARAACUEQAA+BEAAFwSAADAEgAAJBMAAIgTAAA=\"},\"shape\":[50],\"dtype\":\"int32\",\"order\":\"little\"}]]}}},\"view\":{\"type\":\"object\",\"name\":\"CDSView\",\"id\":\"p1628\",\"attributes\":{\"filter\":{\"type\":\"object\",\"name\":\"AllIndices\",\"id\":\"p1629\"}}},\"glyph\":{\"type\":\"object\",\"name\":\"Circle\",\"id\":\"p1624\",\"attributes\":{\"x\":{\"type\":\"field\",\"field\":\"Number of Edges\"},\"y\":{\"type\":\"field\",\"field\":\"Runtime (Seconds)\"},\"line_color\":{\"type\":\"value\",\"value\":\"#1f77b4\"},\"fill_color\":{\"type\":\"value\",\"value\":\"#1f77b4\"}}},\"nonselection_glyph\":{\"type\":\"object\",\"name\":\"Circle\",\"id\":\"p1625\",\"attributes\":{\"x\":{\"type\":\"field\",\"field\":\"Number of Edges\"},\"y\":{\"type\":\"field\",\"field\":\"Runtime (Seconds)\"},\"line_color\":{\"type\":\"value\",\"value\":\"#1f77b4\"},\"line_alpha\":{\"type\":\"value\",\"value\":0.1},\"fill_color\":{\"type\":\"value\",\"value\":\"#1f77b4\"},\"fill_alpha\":{\"type\":\"value\",\"value\":0.1},\"hatch_alpha\":{\"type\":\"value\",\"value\":0.1}}},\"muted_glyph\":{\"type\":\"object\",\"name\":\"Circle\",\"id\":\"p1626\",\"attributes\":{\"x\":{\"type\":\"field\",\"field\":\"Number of Edges\"},\"y\":{\"type\":\"field\",\"field\":\"Runtime (Seconds)\"},\"line_color\":{\"type\":\"value\",\"value\":\"#1f77b4\"},\"line_alpha\":{\"type\":\"value\",\"value\":0.2},\"fill_color\":{\"type\":\"value\",\"value\":\"#1f77b4\"},\"fill_alpha\":{\"type\":\"value\",\"value\":0.2},\"hatch_alpha\":{\"type\":\"value\",\"value\":0.2}}}}},{\"type\":\"object\",\"name\":\"GlyphRenderer\",\"id\":\"p1641\",\"attributes\":{\"data_source\":{\"type\":\"object\",\"name\":\"ColumnDataSource\",\"id\":\"p1632\",\"attributes\":{\"selected\":{\"type\":\"object\",\"name\":\"Selection\",\"id\":\"p1633\",\"attributes\":{\"indices\":[],\"line_indices\":[]}},\"selection_policy\":{\"type\":\"object\",\"name\":\"UnionRenderers\",\"id\":\"p1634\"},\"data\":{\"type\":\"map\",\"entries\":[[\"index\",{\"type\":\"ndarray\",\"array\":{\"type\":\"bytes\",\"data\":\"AQAAAAMAAAAFAAAABwAAAAkAAAALAAAADQAAAA8AAAARAAAAEwAAABUAAAAXAAAAGQAAABsAAAAdAAAAHwAAACEAAAAjAAAAJQAAACcAAAApAAAAKwAAAC0AAAAvAAAAMQAAADMAAAA1AAAANwAAADkAAAA7AAAAPQAAAD8AAABBAAAAQwAAAEUAAABHAAAASQAAAEsAAABNAAAATwAAAFEAAABTAAAAVQAAAFcAAABZAAAAWwAAAF0AAABfAAAAYQAAAGMAAAA=\"},\"shape\":[50],\"dtype\":\"int32\",\"order\":\"little\"}],[\"Explainer\",{\"type\":\"ndarray\",\"array\":[\"GNN\",\"GNN\",\"GNN\",\"GNN\",\"GNN\",\"GNN\",\"GNN\",\"GNN\",\"GNN\",\"GNN\",\"GNN\",\"GNN\",\"GNN\",\"GNN\",\"GNN\",\"GNN\",\"GNN\",\"GNN\",\"GNN\",\"GNN\",\"GNN\",\"GNN\",\"GNN\",\"GNN\",\"GNN\",\"GNN\",\"GNN\",\"GNN\",\"GNN\",\"GNN\",\"GNN\",\"GNN\",\"GNN\",\"GNN\",\"GNN\",\"GNN\",\"GNN\",\"GNN\",\"GNN\",\"GNN\",\"GNN\",\"GNN\",\"GNN\",\"GNN\",\"GNN\",\"GNN\",\"GNN\",\"GNN\",\"GNN\",\"GNN\"],\"shape\":[50],\"dtype\":\"object\",\"order\":\"little\"}],[\"# Epochs\",{\"type\":\"ndarray\",\"array\":{\"type\":\"bytes\",\"data\":\"MgAAADIAAAAyAAAAMgAAADIAAAAyAAAAMgAAADIAAAAyAAAAMgAAADIAAAAyAAAAMgAAADIAAAAyAAAAMgAAADIAAAAyAAAAMgAAADIAAAAyAAAAMgAAADIAAAAyAAAAMgAAADIAAAAyAAAAMgAAADIAAAAyAAAAMgAAADIAAAAyAAAAMgAAADIAAAAyAAAAMgAAADIAAAAyAAAAMgAAADIAAAAyAAAAMgAAADIAAAAyAAAAMgAAADIAAAAyAAAAMgAAADIAAAA=\"},\"shape\":[50],\"dtype\":\"int32\",\"order\":\"little\"}],[\"Runtime (Seconds)\",{\"type\":\"ndarray\",\"array\":{\"type\":\"bytes\",\"data\":\"/////+ZQ2D//////qk/aPwAAAABfGuY/AAAAAKDT4j8AAACAcZHiPwAAAAAWSuE/AAAAAPdD8z8AAACA89fmPwAAAAAMYOk/AAAAgEld5T8AAACAkyviPwAAAABRieI/AAAAAK3l4D8AAAAAhF7nPwAAAADICOg/AAAAADR/6T8AAACAT+rmPwAAAEBamfE/AAAAgLIA6j8AAAAAsX3oPwEAAACjTu0/AAAAgJA16T//////Fy7tPwAAAICJ2OA/AAAAgPFL6D8AAAAAghHqPwAAAADQVew/AAAAAMI94z8AAAAAKNXlPwAAAAB31+A/AAAAwD/G9z8AAAAAsC3oPwAAAIDo2Oo/AQAAgHr77T8AAACAAdH3PwAAAIDnquk/AAAAAFeH6j8AAAAAMmbrPwAAAMCE//A/AQAAgLNp7z8AAACAYw3uPwAAAMC0VfE/AQAAgArj8T////8/pMX0PwAAAIB/KfE/AAAAAC1b5z8AAADAtxfzPwEAAMAaBvI/AAAAAIBY8z8AAABAn83yPw==\"},\"shape\":[50],\"dtype\":\"float64\",\"order\":\"little\"}],[\"Number of Edges\",{\"type\":\"ndarray\",\"array\":{\"type\":\"bytes\",\"data\":\"ZAAAAMgAAAAsAQAAkAEAAPQBAABYAgAAvAIAACADAACEAwAA6AMAAEwEAACwBAAAFAUAAHgFAADcBQAAQAYAAKQGAAAIBwAAbAcAANAHAAA0CAAAmAgAAPwIAABgCQAAxAkAACgKAACMCgAA8AoAAFQLAAC4CwAAHAwAAIAMAADkDAAASA0AAKwNAAAQDgAAdA4AANgOAAA8DwAAoA8AAAQQAABoEAAAzBAAADARAACUEQAA+BEAAFwSAADAEgAAJBMAAIgTAAA=\"},\"shape\":[50],\"dtype\":\"int32\",\"order\":\"little\"}]]}}},\"view\":{\"type\":\"object\",\"name\":\"CDSView\",\"id\":\"p1642\",\"attributes\":{\"filter\":{\"type\":\"object\",\"name\":\"AllIndices\",\"id\":\"p1643\"}}},\"glyph\":{\"type\":\"object\",\"name\":\"Circle\",\"id\":\"p1638\",\"attributes\":{\"x\":{\"type\":\"field\",\"field\":\"Number of Edges\"},\"y\":{\"type\":\"field\",\"field\":\"Runtime (Seconds)\"},\"line_color\":{\"type\":\"value\",\"value\":\"orange\"},\"fill_color\":{\"type\":\"value\",\"value\":\"orange\"},\"hatch_color\":{\"type\":\"value\",\"value\":\"orange\"}}},\"nonselection_glyph\":{\"type\":\"object\",\"name\":\"Circle\",\"id\":\"p1639\",\"attributes\":{\"x\":{\"type\":\"field\",\"field\":\"Number of Edges\"},\"y\":{\"type\":\"field\",\"field\":\"Runtime (Seconds)\"},\"line_color\":{\"type\":\"value\",\"value\":\"orange\"},\"line_alpha\":{\"type\":\"value\",\"value\":0.1},\"fill_color\":{\"type\":\"value\",\"value\":\"orange\"},\"fill_alpha\":{\"type\":\"value\",\"value\":0.1},\"hatch_color\":{\"type\":\"value\",\"value\":\"orange\"},\"hatch_alpha\":{\"type\":\"value\",\"value\":0.1}}},\"muted_glyph\":{\"type\":\"object\",\"name\":\"Circle\",\"id\":\"p1640\",\"attributes\":{\"x\":{\"type\":\"field\",\"field\":\"Number of Edges\"},\"y\":{\"type\":\"field\",\"field\":\"Runtime (Seconds)\"},\"line_color\":{\"type\":\"value\",\"value\":\"orange\"},\"line_alpha\":{\"type\":\"value\",\"value\":0.2},\"fill_color\":{\"type\":\"value\",\"value\":\"orange\"},\"fill_alpha\":{\"type\":\"value\",\"value\":0.2},\"hatch_color\":{\"type\":\"value\",\"value\":\"orange\"},\"hatch_alpha\":{\"type\":\"value\",\"value\":0.2}}}}}],\"toolbar\":{\"type\":\"object\",\"name\":\"Toolbar\",\"id\":\"p1594\",\"attributes\":{\"tools\":[{\"type\":\"object\",\"name\":\"PanTool\",\"id\":\"p1607\"},{\"type\":\"object\",\"name\":\"WheelZoomTool\",\"id\":\"p1608\",\"attributes\":{\"renderers\":\"auto\"}},{\"type\":\"object\",\"name\":\"BoxZoomTool\",\"id\":\"p1609\",\"attributes\":{\"overlay\":{\"type\":\"object\",\"name\":\"BoxAnnotation\",\"id\":\"p1610\",\"attributes\":{\"syncable\":false,\"level\":\"overlay\",\"visible\":false,\"left\":{\"type\":\"number\",\"value\":\"nan\"},\"right\":{\"type\":\"number\",\"value\":\"nan\"},\"top\":{\"type\":\"number\",\"value\":\"nan\"},\"bottom\":{\"type\":\"number\",\"value\":\"nan\"},\"left_units\":\"canvas\",\"right_units\":\"canvas\",\"top_units\":\"canvas\",\"bottom_units\":\"canvas\",\"line_color\":\"black\",\"line_alpha\":1.0,\"line_width\":2,\"line_dash\":[4,4],\"fill_color\":\"lightgrey\",\"fill_alpha\":0.5}}}},{\"type\":\"object\",\"name\":\"SaveTool\",\"id\":\"p1615\"},{\"type\":\"object\",\"name\":\"ResetTool\",\"id\":\"p1616\"},{\"type\":\"object\",\"name\":\"HelpTool\",\"id\":\"p1617\"}]}},\"left\":[{\"type\":\"object\",\"name\":\"LinearAxis\",\"id\":\"p1602\",\"attributes\":{\"ticker\":{\"type\":\"object\",\"name\":\"BasicTicker\",\"id\":\"p1603\",\"attributes\":{\"mantissas\":[1,2,5]}},\"formatter\":{\"type\":\"object\",\"name\":\"BasicTickFormatter\",\"id\":\"p1604\"},\"axis_label\":\"Runtime (Seconds)\",\"major_label_policy\":{\"type\":\"object\",\"name\":\"AllLabels\",\"id\":\"p1605\"}}}],\"below\":[{\"type\":\"object\",\"name\":\"LinearAxis\",\"id\":\"p1597\",\"attributes\":{\"ticker\":{\"type\":\"object\",\"name\":\"BasicTicker\",\"id\":\"p1598\",\"attributes\":{\"mantissas\":[1,2,5]}},\"formatter\":{\"type\":\"object\",\"name\":\"BasicTickFormatter\",\"id\":\"p1599\"},\"axis_label\":\"Number of Edges\",\"major_label_policy\":{\"type\":\"object\",\"name\":\"AllLabels\",\"id\":\"p1600\"}}}],\"center\":[{\"type\":\"object\",\"name\":\"Grid\",\"id\":\"p1601\",\"attributes\":{\"axis\":{\"id\":\"p1597\"}}},{\"type\":\"object\",\"name\":\"Grid\",\"id\":\"p1606\",\"attributes\":{\"dimension\":1,\"axis\":{\"id\":\"p1602\"}}},{\"type\":\"object\",\"name\":\"Legend\",\"id\":\"p1630\",\"attributes\":{\"location\":\"top_left\",\"items\":[{\"type\":\"object\",\"name\":\"LegendItem\",\"id\":\"p1631\",\"attributes\":{\"label\":{\"type\":\"value\",\"value\":\"Beta\"},\"renderers\":[{\"id\":\"p1627\"}]}},{\"type\":\"object\",\"name\":\"LegendItem\",\"id\":\"p1644\",\"attributes\":{\"label\":{\"type\":\"value\",\"value\":\"GNN\"},\"renderers\":[{\"id\":\"p1641\"}]}}]}}]}}]}};\n",
       "  const render_items = [{\"docid\":\"fec22cd9-c1ad-4a32-bacb-838e35a61e3f\",\"roots\":{\"p1586\":\"b7859865-e061-4d52-b75f-5b823e522f91\"},\"root_ids\":[\"p1586\"]}];\n",
       "  root.Bokeh.embed.embed_items_notebook(docs_json, render_items);\n",
       "  }\n",
       "  if (root.Bokeh !== undefined) {\n",
       "    embed_document(root);\n",
       "  } else {\n",
       "    let attempts = 0;\n",
       "    const timer = setInterval(function(root) {\n",
       "      if (root.Bokeh !== undefined) {\n",
       "        clearInterval(timer);\n",
       "        embed_document(root);\n",
       "      } else {\n",
       "        attempts++;\n",
       "        if (attempts > 100) {\n",
       "          clearInterval(timer);\n",
       "          console.log(\"Bokeh: ERROR: Unable to run BokehJS code because BokehJS library is missing\");\n",
       "        }\n",
       "      }\n",
       "    }, 10, root)\n",
       "  }\n",
       "})(window);"
      ],
      "application/vnd.bokehjs_exec.v0+json": ""
     },
     "metadata": {
      "application/vnd.bokehjs_exec.v0+json": {
       "id": "p1586"
      }
     },
     "output_type": "display_data"
    }
   ],
   "source": [
    "x = \"Number of Edges\"\n",
    "y = \"Runtime (Seconds)\"\n",
    "p = bokeh.plotting.figure(\n",
    "    width=400,\n",
    "    height=300,\n",
    "    x_axis_label=x,\n",
    "    y_axis_label=y,\n",
    ")\n",
    "p.circle(\n",
    "    source=effects[effects['Explainer'] == 'Beta'],\n",
    "    x=x,\n",
    "    y=y,\n",
    "    legend_label=\"Beta\",\n",
    ")\n",
    "p.circle(\n",
    "    source=effects[effects['Explainer'] == 'GNN'],\n",
    "    x=x,\n",
    "    y=y,\n",
    "    legend_label=\"GNN\",\n",
    "    color='orange'\n",
    ")\n",
    "p.legend.location = \"top_left\"\n",
    "bokeh.io.show(p)"
   ]
  },
  {
   "cell_type": "code",
   "execution_count": 37,
   "id": "0d8d007f-da25-4152-bbc0-77b70b421825",
   "metadata": {
    "jupyter": {
     "source_hidden": true
    }
   },
   "outputs": [
    {
     "data": {
      "text/html": [
       "\n",
       "  <div id=\"f061dbe5-ddf6-4005-8d04-f3201d27b56a\" data-root-id=\"p1653\" style=\"display: contents;\"></div>\n"
      ]
     },
     "metadata": {},
     "output_type": "display_data"
    },
    {
     "data": {
      "application/javascript": [
       "(function(root) {\n",
       "  function embed_document(root) {\n",
       "  const docs_json = {\"83a5bd5d-5ab6-4519-a6ca-c90a6bbb7904\":{\"version\":\"3.3.4\",\"title\":\"Bokeh Application\",\"roots\":[{\"type\":\"object\",\"name\":\"Figure\",\"id\":\"p1653\",\"attributes\":{\"width\":400,\"height\":300,\"x_range\":{\"type\":\"object\",\"name\":\"DataRange1d\",\"id\":\"p1654\"},\"y_range\":{\"type\":\"object\",\"name\":\"DataRange1d\",\"id\":\"p1655\"},\"x_scale\":{\"type\":\"object\",\"name\":\"LinearScale\",\"id\":\"p1662\"},\"y_scale\":{\"type\":\"object\",\"name\":\"LinearScale\",\"id\":\"p1663\"},\"title\":{\"type\":\"object\",\"name\":\"Title\",\"id\":\"p1660\"},\"renderers\":[{\"type\":\"object\",\"name\":\"GlyphRenderer\",\"id\":\"p1694\",\"attributes\":{\"data_source\":{\"type\":\"object\",\"name\":\"ColumnDataSource\",\"id\":\"p1685\",\"attributes\":{\"selected\":{\"type\":\"object\",\"name\":\"Selection\",\"id\":\"p1686\",\"attributes\":{\"indices\":[],\"line_indices\":[]}},\"selection_policy\":{\"type\":\"object\",\"name\":\"UnionRenderers\",\"id\":\"p1687\"},\"data\":{\"type\":\"map\",\"entries\":[[\"index\",{\"type\":\"ndarray\",\"array\":{\"type\":\"bytes\",\"data\":\"AAAAAAEAAAACAAAAAwAAAAQAAAAFAAAABgAAAAcAAAAIAAAACQAAAAoAAAALAAAADAAAAA0AAAAOAAAADwAAABAAAAARAAAAEgAAABMAAAAUAAAAFQAAABYAAAAXAAAAGAAAABkAAAAaAAAAGwAAABwAAAAdAAAAHgAAAB8AAAAgAAAAIQAAACIAAAAjAAAAJAAAACUAAAAmAAAAJwAAACgAAAApAAAAKgAAACsAAAAsAAAALQAAAC4AAAAvAAAAMAAAADEAAAA=\"},\"shape\":[50],\"dtype\":\"int32\",\"order\":\"little\"}],[\"# Epochs\",{\"type\":\"ndarray\",\"array\":{\"type\":\"bytes\",\"data\":\"MgAAADIAAAAyAAAAMgAAADIAAAAyAAAAMgAAADIAAAAyAAAAMgAAADIAAAAyAAAAMgAAADIAAAAyAAAAMgAAADIAAAAyAAAAMgAAADIAAAAyAAAAMgAAADIAAAAyAAAAMgAAADIAAAAyAAAAMgAAADIAAAAyAAAAMgAAADIAAAAyAAAAMgAAADIAAAAyAAAAMgAAADIAAAAyAAAAMgAAADIAAAAyAAAAMgAAADIAAAAyAAAAMgAAADIAAAAyAAAAMgAAADIAAAA=\"},\"shape\":[50],\"dtype\":\"int32\",\"order\":\"little\"}],[\"GNN Runtime (Seconds)\",{\"type\":\"ndarray\",\"array\":{\"type\":\"bytes\",\"data\":\"/////+ZQ2D//////qk/aPwAAAABfGuY/AAAAAKDT4j8AAACAcZHiPwAAAAAWSuE/AAAAAPdD8z8AAACA89fmPwAAAAAMYOk/AAAAgEld5T8AAACAkyviPwAAAABRieI/AAAAAK3l4D8AAAAAhF7nPwAAAADICOg/AAAAADR/6T8AAACAT+rmPwAAAEBamfE/AAAAgLIA6j8AAAAAsX3oPwEAAACjTu0/AAAAgJA16T//////Fy7tPwAAAICJ2OA/AAAAgPFL6D8AAAAAghHqPwAAAADQVew/AAAAAMI94z8AAAAAKNXlPwAAAAB31+A/AAAAwD/G9z8AAAAAsC3oPwAAAIDo2Oo/AQAAgHr77T8AAACAAdH3PwAAAIDnquk/AAAAAFeH6j8AAAAAMmbrPwAAAMCE//A/AQAAgLNp7z8AAACAYw3uPwAAAMC0VfE/AQAAgArj8T////8/pMX0PwAAAIB/KfE/AAAAAC1b5z8AAADAtxfzPwEAAMAaBvI/AAAAAIBY8z8AAABAn83yPw==\"},\"shape\":[50],\"dtype\":\"float64\",\"order\":\"little\"}],[\"Number of Edges\",{\"type\":\"ndarray\",\"array\":{\"type\":\"bytes\",\"data\":\"ZAAAAMgAAAAsAQAAkAEAAPQBAABYAgAAvAIAACADAACEAwAA6AMAAEwEAACwBAAAFAUAAHgFAADcBQAAQAYAAKQGAAAIBwAAbAcAANAHAAA0CAAAmAgAAPwIAABgCQAAxAkAACgKAACMCgAA8AoAAFQLAAC4CwAAHAwAAIAMAADkDAAASA0AAKwNAAAQDgAAdA4AANgOAAA8DwAAoA8AAAQQAABoEAAAzBAAADARAACUEQAA+BEAAFwSAADAEgAAJBMAAIgTAAA=\"},\"shape\":[50],\"dtype\":\"int32\",\"order\":\"little\"}],[\"Beta Runtime (Seconds)\",{\"type\":\"ndarray\",\"array\":{\"type\":\"bytes\",\"data\":\"AAAAgDeLDED+//8ffzQOQAAAAEAIzA5AAAAAIBnUC0AAAAAQcLsQQP////9owQ1AAQAAYNsOEUAAAACw9VsQQAAAAAALfhBAAAAAIIbED0AAAACg4W0QQAAAAHCRBhNAAAAAENYtEkAAAADA8asRQAAAAHDIGhdAAAAAEEnFEkAAAABwAToQQAAAAPAgyBdAAAAAUIHtEUAAAADApKoSQAAAAFB0WRNAAAAAIOejFUAAAADQyf0RQAAAAKCdIxFAAAAAcLvFEkAAAACQ/cwRQAAAAFBByBFAAAAAAAJ4E0AAAABQbYgSQAAAACD6tBNAAAAAYKS3GkAAAABAqNgUQAAAAKAndxRAAAAAoM+1FUAAAADA7AMXQAAAANC7ERNAAAAA8KXZFEAAAABw7mgXQAAAAOByOBRAAAAAAEmZFkAAAABwL90UQAAAABAtuBpAAAAA4PgOGkAAAAAQou0XQAAAADALsxxAAAAAQKlZGkAAAACQrVMdQAAAALD6JRxAAQAAoPRRGUAAAAC407UgQA==\"},\"shape\":[50],\"dtype\":\"float64\",\"order\":\"little\"}],[\"Difference (Seconds)\",{\"type\":\"ndarray\",\"array\":{\"type\":\"bytes\",\"data\":\"AAAAoBqBCUD+//+/ieoKQAAAAIBwRQlAAAAAIDEfB0AAAADAg9IMQP///3/jbglAAgAAQLt7CEAAAACA7gELQAAAAAATpApAAAAAwDNtCkAAAABg3lAMQAAAAFBntRBAAAAAcCAREEAAAACAQoANQAAAAHCvGRRAAAAAIMUqD0AAAAAAb7kKQAAAAGDKYRNAAAAAANZaDUAAAABA3TUPQAAAAOA/Xw9AAAAAEDV9EkAAAACgDbAMQAAAAOAYEQ5AAAAAgHp4D0AAAACgmhUNQAAAAKAOewxAAAAAwEkQEUAAAACgkJsPQAAAAEALmhFAAAAAcBTGFEAAAABA8tIRQAAAAJAKHBFAAAAAUGD2EUAAAABgrA8RQAAAAMC9uA9AAAAAELuIEUAAAAAwKPwTQAAAAGAj8Q9AAAAAkBKsEkAAAAAAgxsRQAAAAOC/YhZAAAAAQDaWFUAAAAAAObwSQAAAAFCraBhAAAAAoENuF0AAAACgv40YQAAAAAB0pBdAAQAAoNR7FEAAAACgP7gcQA==\"},\"shape\":[50],\"dtype\":\"float64\",\"order\":\"little\"}]]}}},\"view\":{\"type\":\"object\",\"name\":\"CDSView\",\"id\":\"p1695\",\"attributes\":{\"filter\":{\"type\":\"object\",\"name\":\"AllIndices\",\"id\":\"p1696\"}}},\"glyph\":{\"type\":\"object\",\"name\":\"Circle\",\"id\":\"p1691\",\"attributes\":{\"x\":{\"type\":\"field\",\"field\":\"Number of Edges\"},\"y\":{\"type\":\"field\",\"field\":\"Difference (Seconds)\"},\"line_color\":{\"type\":\"value\",\"value\":\"#1f77b4\"},\"fill_color\":{\"type\":\"value\",\"value\":\"#1f77b4\"}}},\"nonselection_glyph\":{\"type\":\"object\",\"name\":\"Circle\",\"id\":\"p1692\",\"attributes\":{\"x\":{\"type\":\"field\",\"field\":\"Number of Edges\"},\"y\":{\"type\":\"field\",\"field\":\"Difference (Seconds)\"},\"line_color\":{\"type\":\"value\",\"value\":\"#1f77b4\"},\"line_alpha\":{\"type\":\"value\",\"value\":0.1},\"fill_color\":{\"type\":\"value\",\"value\":\"#1f77b4\"},\"fill_alpha\":{\"type\":\"value\",\"value\":0.1},\"hatch_alpha\":{\"type\":\"value\",\"value\":0.1}}},\"muted_glyph\":{\"type\":\"object\",\"name\":\"Circle\",\"id\":\"p1693\",\"attributes\":{\"x\":{\"type\":\"field\",\"field\":\"Number of Edges\"},\"y\":{\"type\":\"field\",\"field\":\"Difference (Seconds)\"},\"line_color\":{\"type\":\"value\",\"value\":\"#1f77b4\"},\"line_alpha\":{\"type\":\"value\",\"value\":0.2},\"fill_color\":{\"type\":\"value\",\"value\":\"#1f77b4\"},\"fill_alpha\":{\"type\":\"value\",\"value\":0.2},\"hatch_alpha\":{\"type\":\"value\",\"value\":0.2}}}}}],\"toolbar\":{\"type\":\"object\",\"name\":\"Toolbar\",\"id\":\"p1661\",\"attributes\":{\"tools\":[{\"type\":\"object\",\"name\":\"PanTool\",\"id\":\"p1674\"},{\"type\":\"object\",\"name\":\"WheelZoomTool\",\"id\":\"p1675\",\"attributes\":{\"renderers\":\"auto\"}},{\"type\":\"object\",\"name\":\"BoxZoomTool\",\"id\":\"p1676\",\"attributes\":{\"overlay\":{\"type\":\"object\",\"name\":\"BoxAnnotation\",\"id\":\"p1677\",\"attributes\":{\"syncable\":false,\"level\":\"overlay\",\"visible\":false,\"left\":{\"type\":\"number\",\"value\":\"nan\"},\"right\":{\"type\":\"number\",\"value\":\"nan\"},\"top\":{\"type\":\"number\",\"value\":\"nan\"},\"bottom\":{\"type\":\"number\",\"value\":\"nan\"},\"left_units\":\"canvas\",\"right_units\":\"canvas\",\"top_units\":\"canvas\",\"bottom_units\":\"canvas\",\"line_color\":\"black\",\"line_alpha\":1.0,\"line_width\":2,\"line_dash\":[4,4],\"fill_color\":\"lightgrey\",\"fill_alpha\":0.5}}}},{\"type\":\"object\",\"name\":\"SaveTool\",\"id\":\"p1682\"},{\"type\":\"object\",\"name\":\"ResetTool\",\"id\":\"p1683\"},{\"type\":\"object\",\"name\":\"HelpTool\",\"id\":\"p1684\"}]}},\"left\":[{\"type\":\"object\",\"name\":\"LinearAxis\",\"id\":\"p1669\",\"attributes\":{\"ticker\":{\"type\":\"object\",\"name\":\"BasicTicker\",\"id\":\"p1670\",\"attributes\":{\"mantissas\":[1,2,5]}},\"formatter\":{\"type\":\"object\",\"name\":\"BasicTickFormatter\",\"id\":\"p1671\"},\"axis_label\":\"Difference (Seconds)\",\"major_label_policy\":{\"type\":\"object\",\"name\":\"AllLabels\",\"id\":\"p1672\"}}}],\"below\":[{\"type\":\"object\",\"name\":\"LinearAxis\",\"id\":\"p1664\",\"attributes\":{\"ticker\":{\"type\":\"object\",\"name\":\"BasicTicker\",\"id\":\"p1665\",\"attributes\":{\"mantissas\":[1,2,5]}},\"formatter\":{\"type\":\"object\",\"name\":\"BasicTickFormatter\",\"id\":\"p1666\"},\"axis_label\":\"Number of Edges\",\"major_label_policy\":{\"type\":\"object\",\"name\":\"AllLabels\",\"id\":\"p1667\"}}}],\"center\":[{\"type\":\"object\",\"name\":\"Grid\",\"id\":\"p1668\",\"attributes\":{\"axis\":{\"id\":\"p1664\"}}},{\"type\":\"object\",\"name\":\"Grid\",\"id\":\"p1673\",\"attributes\":{\"dimension\":1,\"axis\":{\"id\":\"p1669\"}}}]}}]}};\n",
       "  const render_items = [{\"docid\":\"83a5bd5d-5ab6-4519-a6ca-c90a6bbb7904\",\"roots\":{\"p1653\":\"f061dbe5-ddf6-4005-8d04-f3201d27b56a\"},\"root_ids\":[\"p1653\"]}];\n",
       "  root.Bokeh.embed.embed_items_notebook(docs_json, render_items);\n",
       "  }\n",
       "  if (root.Bokeh !== undefined) {\n",
       "    embed_document(root);\n",
       "  } else {\n",
       "    let attempts = 0;\n",
       "    const timer = setInterval(function(root) {\n",
       "      if (root.Bokeh !== undefined) {\n",
       "        clearInterval(timer);\n",
       "        embed_document(root);\n",
       "      } else {\n",
       "        attempts++;\n",
       "        if (attempts > 100) {\n",
       "          clearInterval(timer);\n",
       "          console.log(\"Bokeh: ERROR: Unable to run BokehJS code because BokehJS library is missing\");\n",
       "        }\n",
       "      }\n",
       "    }, 10, root)\n",
       "  }\n",
       "})(window);"
      ],
      "application/vnd.bokehjs_exec.v0+json": ""
     },
     "metadata": {
      "application/vnd.bokehjs_exec.v0+json": {
       "id": "p1653"
      }
     },
     "output_type": "display_data"
    }
   ],
   "source": [
    "x = \"Number of Edges\"\n",
    "y = \"Difference (Seconds)\"\n",
    "p = bokeh.plotting.figure(\n",
    "    width=400,\n",
    "    height=300,\n",
    "    x_axis_label=x,\n",
    "    y_axis_label=y,\n",
    ")\n",
    "p.circle(\n",
    "    source=diff,\n",
    "    x=x,\n",
    "    y=y,\n",
    ")\n",
    "bokeh.io.show(p)"
   ]
  },
  {
   "cell_type": "code",
   "execution_count": 39,
   "id": "aa5be819-a1cf-48f4-ba05-46d682f475cb",
   "metadata": {},
   "outputs": [],
   "source": [
    "effects = pd.read_csv('unfairGraphRuntimes.csv')\n",
    "effects = effects.drop(['Average Runtime', 'Unnamed: 0', 'Data'], axis=1)\n",
    "effects = effects.rename({'# Edges': 'Number of Edges', 'Full Runtime': 'Runtime (Seconds)'}, axis=1)\n",
    "gnn = effects[effects['Explainer'] == 'GNN']\n",
    "gnn = gnn.rename({'Runtime (Seconds)': 'GNN Runtime (Seconds)'}, axis=1)\n",
    "gnn = gnn.drop(['Explainer'], axis=1)\n",
    "beta = effects[effects['Explainer'] == 'Beta']\n",
    "beta = beta.rename({'Runtime (Seconds)': 'Beta Runtime (Seconds)'}, axis=1)\n",
    "beta = beta.drop(['Explainer'], axis=1)\n",
    "diff = pd.merge(gnn, beta, how=\"right\", on=[\"# Epochs\",'Number of Edges'])\n",
    "diff['Difference (Seconds)'] = diff['Beta Runtime (Seconds)'] - diff['GNN Runtime (Seconds)']"
   ]
  },
  {
   "cell_type": "code",
   "execution_count": 41,
   "id": "4f1684c3-f2d9-47f0-b670-802efd7055a3",
   "metadata": {
    "jupyter": {
     "source_hidden": true
    }
   },
   "outputs": [
    {
     "data": {
      "text/html": [
       "\n",
       "  <div id=\"bc038b2a-28d7-4996-b3a3-0792fe674e90\" data-root-id=\"p1703\" style=\"display: contents;\"></div>\n"
      ]
     },
     "metadata": {},
     "output_type": "display_data"
    },
    {
     "data": {
      "application/javascript": [
       "(function(root) {\n",
       "  function embed_document(root) {\n",
       "  const docs_json = {\"74bd57cf-e7ca-44be-9a98-980251ece5ce\":{\"version\":\"3.3.4\",\"title\":\"Bokeh Application\",\"roots\":[{\"type\":\"object\",\"name\":\"Figure\",\"id\":\"p1703\",\"attributes\":{\"width\":400,\"height\":300,\"x_range\":{\"type\":\"object\",\"name\":\"DataRange1d\",\"id\":\"p1704\"},\"y_range\":{\"type\":\"object\",\"name\":\"DataRange1d\",\"id\":\"p1705\"},\"x_scale\":{\"type\":\"object\",\"name\":\"LinearScale\",\"id\":\"p1712\"},\"y_scale\":{\"type\":\"object\",\"name\":\"LinearScale\",\"id\":\"p1713\"},\"title\":{\"type\":\"object\",\"name\":\"Title\",\"id\":\"p1710\"},\"renderers\":[{\"type\":\"object\",\"name\":\"GlyphRenderer\",\"id\":\"p1744\",\"attributes\":{\"data_source\":{\"type\":\"object\",\"name\":\"ColumnDataSource\",\"id\":\"p1735\",\"attributes\":{\"selected\":{\"type\":\"object\",\"name\":\"Selection\",\"id\":\"p1736\",\"attributes\":{\"indices\":[],\"line_indices\":[]}},\"selection_policy\":{\"type\":\"object\",\"name\":\"UnionRenderers\",\"id\":\"p1737\"},\"data\":{\"type\":\"map\",\"entries\":[[\"index\",{\"type\":\"ndarray\",\"array\":{\"type\":\"bytes\",\"data\":\"AAAAAAIAAAAEAAAABgAAAAgAAAAKAAAADAAAAA4AAAAQAAAAEgAAABQAAAAWAAAAGAAAABoAAAAcAAAAHgAAACAAAAAiAAAAJAAAACYAAAAoAAAAKgAAACwAAAAuAAAAMAAAADIAAAA0AAAANgAAADgAAAA6AAAAPAAAAD4AAABAAAAAQgAAAEQAAABGAAAASAAAAEoAAABMAAAATgAAAFAAAABSAAAAVAAAAFYAAABYAAAAWgAAAFwAAABeAAAAYAAAAGIAAAA=\"},\"shape\":[50],\"dtype\":\"int32\",\"order\":\"little\"}],[\"Explainer\",{\"type\":\"ndarray\",\"array\":[\"Beta\",\"Beta\",\"Beta\",\"Beta\",\"Beta\",\"Beta\",\"Beta\",\"Beta\",\"Beta\",\"Beta\",\"Beta\",\"Beta\",\"Beta\",\"Beta\",\"Beta\",\"Beta\",\"Beta\",\"Beta\",\"Beta\",\"Beta\",\"Beta\",\"Beta\",\"Beta\",\"Beta\",\"Beta\",\"Beta\",\"Beta\",\"Beta\",\"Beta\",\"Beta\",\"Beta\",\"Beta\",\"Beta\",\"Beta\",\"Beta\",\"Beta\",\"Beta\",\"Beta\",\"Beta\",\"Beta\",\"Beta\",\"Beta\",\"Beta\",\"Beta\",\"Beta\",\"Beta\",\"Beta\",\"Beta\",\"Beta\",\"Beta\"],\"shape\":[50],\"dtype\":\"object\",\"order\":\"little\"}],[\"# Epochs\",{\"type\":\"ndarray\",\"array\":{\"type\":\"bytes\",\"data\":\"MgAAADIAAAAyAAAAMgAAADIAAAAyAAAAMgAAADIAAAAyAAAAMgAAADIAAAAyAAAAMgAAADIAAAAyAAAAMgAAADIAAAAyAAAAMgAAADIAAAAyAAAAMgAAADIAAAAyAAAAMgAAADIAAAAyAAAAMgAAADIAAAAyAAAAMgAAADIAAAAyAAAAMgAAADIAAAAyAAAAMgAAADIAAAAyAAAAMgAAADIAAAAyAAAAMgAAADIAAAAyAAAAMgAAADIAAAAyAAAAMgAAADIAAAA=\"},\"shape\":[50],\"dtype\":\"int32\",\"order\":\"little\"}],[\"Runtime (Seconds)\",{\"type\":\"ndarray\",\"array\":{\"type\":\"bytes\",\"data\":\"AAAAkM0QEUAAAAAwF58QQAAAAACmvg9AAAAA4OwREEAAAADAqzwQQAAAABA1BhJAAAAAMMfKEUAAAADgObYSQAAAALAdAxJAAAAAUF1fEkAAAACwKC4SQAAAABB+zRFAAAAAEN+sEkAAAAAw/N0RQAAAAHBZjBJAAAAAgEi3EkAAAAAQ8/4SQAAAAAC2XhJAAAAAgDAtE0AAAACwkVMTQAAAAPC0bRNAAAAAMI+IE0AAAACQf+ATQAAAAAAL2RNAAAAAoOi0E0AAAABQ7e4TQAAAALB74hNAAAAAwBenE0AAAABQctsUQAAAAAD74hVAAQAA4P3XEkAAAABAblEUQAAAADBHcBJAAAAA0JJxE0AAAABgFyUTQAAAAGDhoBNAAQAAQNXrFkAAAABgAsETQAAAAMCSzRJAAAAA4DhmE0AAAADwFnkTQAAAAMDDFBRAAAAAQFe4E0AAAAAgQo0UQAEAAHBeChNAAAAAtC1kMEAAAACAX/wsQAAAAPA7XixAAAAAkKurKED/////7DMyQA==\"},\"shape\":[50],\"dtype\":\"float64\",\"order\":\"little\"}],[\"Number of Edges\",{\"type\":\"ndarray\",\"array\":{\"type\":\"bytes\",\"data\":\"ZAAAAMgAAAAsAQAAkAEAAPQBAABYAgAAvAIAACADAACEAwAA6AMAAEwEAACwBAAAFAUAAHgFAADcBQAAQAYAAKQGAAAIBwAAbAcAANAHAAA0CAAAmAgAAPwIAABgCQAAxAkAACgKAACMCgAA8AoAAFQLAAC4CwAAHAwAAIAMAADkDAAASA0AAKwNAAAQDgAAdA4AANgOAAA8DwAAoA8AAAQQAABoEAAAzBAAADARAACUEQAA+BEAAFwSAADAEgAAJBMAAIgTAAA=\"},\"shape\":[50],\"dtype\":\"int32\",\"order\":\"little\"}]]}}},\"view\":{\"type\":\"object\",\"name\":\"CDSView\",\"id\":\"p1745\",\"attributes\":{\"filter\":{\"type\":\"object\",\"name\":\"AllIndices\",\"id\":\"p1746\"}}},\"glyph\":{\"type\":\"object\",\"name\":\"Circle\",\"id\":\"p1741\",\"attributes\":{\"x\":{\"type\":\"field\",\"field\":\"Number of Edges\"},\"y\":{\"type\":\"field\",\"field\":\"Runtime (Seconds)\"},\"line_color\":{\"type\":\"value\",\"value\":\"#1f77b4\"},\"fill_color\":{\"type\":\"value\",\"value\":\"#1f77b4\"}}},\"nonselection_glyph\":{\"type\":\"object\",\"name\":\"Circle\",\"id\":\"p1742\",\"attributes\":{\"x\":{\"type\":\"field\",\"field\":\"Number of Edges\"},\"y\":{\"type\":\"field\",\"field\":\"Runtime (Seconds)\"},\"line_color\":{\"type\":\"value\",\"value\":\"#1f77b4\"},\"line_alpha\":{\"type\":\"value\",\"value\":0.1},\"fill_color\":{\"type\":\"value\",\"value\":\"#1f77b4\"},\"fill_alpha\":{\"type\":\"value\",\"value\":0.1},\"hatch_alpha\":{\"type\":\"value\",\"value\":0.1}}},\"muted_glyph\":{\"type\":\"object\",\"name\":\"Circle\",\"id\":\"p1743\",\"attributes\":{\"x\":{\"type\":\"field\",\"field\":\"Number of Edges\"},\"y\":{\"type\":\"field\",\"field\":\"Runtime (Seconds)\"},\"line_color\":{\"type\":\"value\",\"value\":\"#1f77b4\"},\"line_alpha\":{\"type\":\"value\",\"value\":0.2},\"fill_color\":{\"type\":\"value\",\"value\":\"#1f77b4\"},\"fill_alpha\":{\"type\":\"value\",\"value\":0.2},\"hatch_alpha\":{\"type\":\"value\",\"value\":0.2}}}}},{\"type\":\"object\",\"name\":\"GlyphRenderer\",\"id\":\"p1758\",\"attributes\":{\"data_source\":{\"type\":\"object\",\"name\":\"ColumnDataSource\",\"id\":\"p1749\",\"attributes\":{\"selected\":{\"type\":\"object\",\"name\":\"Selection\",\"id\":\"p1750\",\"attributes\":{\"indices\":[],\"line_indices\":[]}},\"selection_policy\":{\"type\":\"object\",\"name\":\"UnionRenderers\",\"id\":\"p1751\"},\"data\":{\"type\":\"map\",\"entries\":[[\"index\",{\"type\":\"ndarray\",\"array\":{\"type\":\"bytes\",\"data\":\"AQAAAAMAAAAFAAAABwAAAAkAAAALAAAADQAAAA8AAAARAAAAEwAAABUAAAAXAAAAGQAAABsAAAAdAAAAHwAAACEAAAAjAAAAJQAAACcAAAApAAAAKwAAAC0AAAAvAAAAMQAAADMAAAA1AAAANwAAADkAAAA7AAAAPQAAAD8AAABBAAAAQwAAAEUAAABHAAAASQAAAEsAAABNAAAATwAAAFEAAABTAAAAVQAAAFcAAABZAAAAWwAAAF0AAABfAAAAYQAAAGMAAAA=\"},\"shape\":[50],\"dtype\":\"int32\",\"order\":\"little\"}],[\"Explainer\",{\"type\":\"ndarray\",\"array\":[\"GNN\",\"GNN\",\"GNN\",\"GNN\",\"GNN\",\"GNN\",\"GNN\",\"GNN\",\"GNN\",\"GNN\",\"GNN\",\"GNN\",\"GNN\",\"GNN\",\"GNN\",\"GNN\",\"GNN\",\"GNN\",\"GNN\",\"GNN\",\"GNN\",\"GNN\",\"GNN\",\"GNN\",\"GNN\",\"GNN\",\"GNN\",\"GNN\",\"GNN\",\"GNN\",\"GNN\",\"GNN\",\"GNN\",\"GNN\",\"GNN\",\"GNN\",\"GNN\",\"GNN\",\"GNN\",\"GNN\",\"GNN\",\"GNN\",\"GNN\",\"GNN\",\"GNN\",\"GNN\",\"GNN\",\"GNN\",\"GNN\",\"GNN\"],\"shape\":[50],\"dtype\":\"object\",\"order\":\"little\"}],[\"# Epochs\",{\"type\":\"ndarray\",\"array\":{\"type\":\"bytes\",\"data\":\"MgAAADIAAAAyAAAAMgAAADIAAAAyAAAAMgAAADIAAAAyAAAAMgAAADIAAAAyAAAAMgAAADIAAAAyAAAAMgAAADIAAAAyAAAAMgAAADIAAAAyAAAAMgAAADIAAAAyAAAAMgAAADIAAAAyAAAAMgAAADIAAAAyAAAAMgAAADIAAAAyAAAAMgAAADIAAAAyAAAAMgAAADIAAAAyAAAAMgAAADIAAAAyAAAAMgAAADIAAAAyAAAAMgAAADIAAAAyAAAAMgAAADIAAAA=\"},\"shape\":[50],\"dtype\":\"int32\",\"order\":\"little\"}],[\"Runtime (Seconds)\",{\"type\":\"ndarray\",\"array\":{\"type\":\"bytes\",\"data\":\"AAAAgGJm5T8AAAAA7ebhPwAAAAB9yt8/AAAAAE3z5z8AAACAZf/rPwAAAABE2+w/AAAAACk47D8AAABAcxfwPwAAAAA/fO0/AQAAwNnL8D8AAACArGXqPwAAAIBbnOk/AAAAAB7R6T8AAACAVuPpPwAAAACMZ+k/AAAAAAd/6j8AAAAAkQ3qPwAAAIC0wuk/AAAAgPzy6j8AAAAAU8nqPwAAAIBuKeo/AAAAAJL16j8AAAAA7uPrPwAAAACE/uo/AAAAgKzW6z8AAAAA0KfpPwAAAADndus/AAAAgMan7D8AAACAFyHsPwAAAEAFTPQ/AAAAgKMQ8T8AAAAAxXXyPwAAAMBgN/I/AAAAALSe7j8AAAAAjIPyPwAAAIDlIfI/AAAAwF11BkAAAAAA+MrwPwAAAICHVPI/AAAAANBZ8j8AAACAnjHxPwAAAABAYfE/AAAAALUv8D8AAACAnrD1P////3+3NfA/AAAAgKGj8z8AAAAAQY/yPwAAAAAW2/c/AAAAwBa99D8AAADAaiL1Pw==\"},\"shape\":[50],\"dtype\":\"float64\",\"order\":\"little\"}],[\"Number of Edges\",{\"type\":\"ndarray\",\"array\":{\"type\":\"bytes\",\"data\":\"ZAAAAMgAAAAsAQAAkAEAAPQBAABYAgAAvAIAACADAACEAwAA6AMAAEwEAACwBAAAFAUAAHgFAADcBQAAQAYAAKQGAAAIBwAAbAcAANAHAAA0CAAAmAgAAPwIAABgCQAAxAkAACgKAACMCgAA8AoAAFQLAAC4CwAAHAwAAIAMAADkDAAASA0AAKwNAAAQDgAAdA4AANgOAAA8DwAAoA8AAAQQAABoEAAAzBAAADARAACUEQAA+BEAAFwSAADAEgAAJBMAAIgTAAA=\"},\"shape\":[50],\"dtype\":\"int32\",\"order\":\"little\"}]]}}},\"view\":{\"type\":\"object\",\"name\":\"CDSView\",\"id\":\"p1759\",\"attributes\":{\"filter\":{\"type\":\"object\",\"name\":\"AllIndices\",\"id\":\"p1760\"}}},\"glyph\":{\"type\":\"object\",\"name\":\"Circle\",\"id\":\"p1755\",\"attributes\":{\"x\":{\"type\":\"field\",\"field\":\"Number of Edges\"},\"y\":{\"type\":\"field\",\"field\":\"Runtime (Seconds)\"},\"line_color\":{\"type\":\"value\",\"value\":\"orange\"},\"fill_color\":{\"type\":\"value\",\"value\":\"orange\"},\"hatch_color\":{\"type\":\"value\",\"value\":\"orange\"}}},\"nonselection_glyph\":{\"type\":\"object\",\"name\":\"Circle\",\"id\":\"p1756\",\"attributes\":{\"x\":{\"type\":\"field\",\"field\":\"Number of Edges\"},\"y\":{\"type\":\"field\",\"field\":\"Runtime (Seconds)\"},\"line_color\":{\"type\":\"value\",\"value\":\"orange\"},\"line_alpha\":{\"type\":\"value\",\"value\":0.1},\"fill_color\":{\"type\":\"value\",\"value\":\"orange\"},\"fill_alpha\":{\"type\":\"value\",\"value\":0.1},\"hatch_color\":{\"type\":\"value\",\"value\":\"orange\"},\"hatch_alpha\":{\"type\":\"value\",\"value\":0.1}}},\"muted_glyph\":{\"type\":\"object\",\"name\":\"Circle\",\"id\":\"p1757\",\"attributes\":{\"x\":{\"type\":\"field\",\"field\":\"Number of Edges\"},\"y\":{\"type\":\"field\",\"field\":\"Runtime (Seconds)\"},\"line_color\":{\"type\":\"value\",\"value\":\"orange\"},\"line_alpha\":{\"type\":\"value\",\"value\":0.2},\"fill_color\":{\"type\":\"value\",\"value\":\"orange\"},\"fill_alpha\":{\"type\":\"value\",\"value\":0.2},\"hatch_color\":{\"type\":\"value\",\"value\":\"orange\"},\"hatch_alpha\":{\"type\":\"value\",\"value\":0.2}}}}}],\"toolbar\":{\"type\":\"object\",\"name\":\"Toolbar\",\"id\":\"p1711\",\"attributes\":{\"tools\":[{\"type\":\"object\",\"name\":\"PanTool\",\"id\":\"p1724\"},{\"type\":\"object\",\"name\":\"WheelZoomTool\",\"id\":\"p1725\",\"attributes\":{\"renderers\":\"auto\"}},{\"type\":\"object\",\"name\":\"BoxZoomTool\",\"id\":\"p1726\",\"attributes\":{\"overlay\":{\"type\":\"object\",\"name\":\"BoxAnnotation\",\"id\":\"p1727\",\"attributes\":{\"syncable\":false,\"level\":\"overlay\",\"visible\":false,\"left\":{\"type\":\"number\",\"value\":\"nan\"},\"right\":{\"type\":\"number\",\"value\":\"nan\"},\"top\":{\"type\":\"number\",\"value\":\"nan\"},\"bottom\":{\"type\":\"number\",\"value\":\"nan\"},\"left_units\":\"canvas\",\"right_units\":\"canvas\",\"top_units\":\"canvas\",\"bottom_units\":\"canvas\",\"line_color\":\"black\",\"line_alpha\":1.0,\"line_width\":2,\"line_dash\":[4,4],\"fill_color\":\"lightgrey\",\"fill_alpha\":0.5}}}},{\"type\":\"object\",\"name\":\"SaveTool\",\"id\":\"p1732\"},{\"type\":\"object\",\"name\":\"ResetTool\",\"id\":\"p1733\"},{\"type\":\"object\",\"name\":\"HelpTool\",\"id\":\"p1734\"}]}},\"left\":[{\"type\":\"object\",\"name\":\"LinearAxis\",\"id\":\"p1719\",\"attributes\":{\"ticker\":{\"type\":\"object\",\"name\":\"BasicTicker\",\"id\":\"p1720\",\"attributes\":{\"mantissas\":[1,2,5]}},\"formatter\":{\"type\":\"object\",\"name\":\"BasicTickFormatter\",\"id\":\"p1721\"},\"axis_label\":\"Runtime (Seconds)\",\"major_label_policy\":{\"type\":\"object\",\"name\":\"AllLabels\",\"id\":\"p1722\"}}}],\"below\":[{\"type\":\"object\",\"name\":\"LinearAxis\",\"id\":\"p1714\",\"attributes\":{\"ticker\":{\"type\":\"object\",\"name\":\"BasicTicker\",\"id\":\"p1715\",\"attributes\":{\"mantissas\":[1,2,5]}},\"formatter\":{\"type\":\"object\",\"name\":\"BasicTickFormatter\",\"id\":\"p1716\"},\"axis_label\":\"Number of Edges\",\"major_label_policy\":{\"type\":\"object\",\"name\":\"AllLabels\",\"id\":\"p1717\"}}}],\"center\":[{\"type\":\"object\",\"name\":\"Grid\",\"id\":\"p1718\",\"attributes\":{\"axis\":{\"id\":\"p1714\"}}},{\"type\":\"object\",\"name\":\"Grid\",\"id\":\"p1723\",\"attributes\":{\"dimension\":1,\"axis\":{\"id\":\"p1719\"}}},{\"type\":\"object\",\"name\":\"Legend\",\"id\":\"p1747\",\"attributes\":{\"location\":\"top_left\",\"items\":[{\"type\":\"object\",\"name\":\"LegendItem\",\"id\":\"p1748\",\"attributes\":{\"label\":{\"type\":\"value\",\"value\":\"Beta\"},\"renderers\":[{\"id\":\"p1744\"}]}},{\"type\":\"object\",\"name\":\"LegendItem\",\"id\":\"p1761\",\"attributes\":{\"label\":{\"type\":\"value\",\"value\":\"GNN\"},\"renderers\":[{\"id\":\"p1758\"}]}}]}}]}}]}};\n",
       "  const render_items = [{\"docid\":\"74bd57cf-e7ca-44be-9a98-980251ece5ce\",\"roots\":{\"p1703\":\"bc038b2a-28d7-4996-b3a3-0792fe674e90\"},\"root_ids\":[\"p1703\"]}];\n",
       "  root.Bokeh.embed.embed_items_notebook(docs_json, render_items);\n",
       "  }\n",
       "  if (root.Bokeh !== undefined) {\n",
       "    embed_document(root);\n",
       "  } else {\n",
       "    let attempts = 0;\n",
       "    const timer = setInterval(function(root) {\n",
       "      if (root.Bokeh !== undefined) {\n",
       "        clearInterval(timer);\n",
       "        embed_document(root);\n",
       "      } else {\n",
       "        attempts++;\n",
       "        if (attempts > 100) {\n",
       "          clearInterval(timer);\n",
       "          console.log(\"Bokeh: ERROR: Unable to run BokehJS code because BokehJS library is missing\");\n",
       "        }\n",
       "      }\n",
       "    }, 10, root)\n",
       "  }\n",
       "})(window);"
      ],
      "application/vnd.bokehjs_exec.v0+json": ""
     },
     "metadata": {
      "application/vnd.bokehjs_exec.v0+json": {
       "id": "p1703"
      }
     },
     "output_type": "display_data"
    }
   ],
   "source": [
    "x = \"Number of Edges\"\n",
    "y = \"Runtime (Seconds)\"\n",
    "p = bokeh.plotting.figure(\n",
    "    width=400,\n",
    "    height=300,\n",
    "    x_axis_label=x,\n",
    "    y_axis_label=y,\n",
    ")\n",
    "p.circle(\n",
    "    source=effects[effects['Explainer'] == 'Beta'],\n",
    "    x=x,\n",
    "    y=y,\n",
    "    legend_label=\"Beta\",\n",
    ")\n",
    "p.circle(\n",
    "    source=effects[effects['Explainer'] == 'GNN'],\n",
    "    x=x,\n",
    "    y=y,\n",
    "    legend_label=\"GNN\",\n",
    "    color='orange'\n",
    ")\n",
    "p.legend.location = \"top_left\"\n",
    "bokeh.io.show(p)"
   ]
  },
  {
   "cell_type": "code",
   "execution_count": 43,
   "id": "47cec23a-457d-40c7-a5dc-840f0c2514b6",
   "metadata": {
    "jupyter": {
     "source_hidden": true
    }
   },
   "outputs": [
    {
     "data": {
      "text/html": [
       "\n",
       "  <div id=\"cc2b1c6b-6de9-4aa6-832f-74bacdfd364b\" data-root-id=\"p1770\" style=\"display: contents;\"></div>\n"
      ]
     },
     "metadata": {},
     "output_type": "display_data"
    },
    {
     "data": {
      "application/javascript": [
       "(function(root) {\n",
       "  function embed_document(root) {\n",
       "  const docs_json = {\"7cd86b5d-259c-417e-b50c-ab8429a9f890\":{\"version\":\"3.3.4\",\"title\":\"Bokeh Application\",\"roots\":[{\"type\":\"object\",\"name\":\"Figure\",\"id\":\"p1770\",\"attributes\":{\"width\":400,\"height\":300,\"x_range\":{\"type\":\"object\",\"name\":\"DataRange1d\",\"id\":\"p1771\"},\"y_range\":{\"type\":\"object\",\"name\":\"DataRange1d\",\"id\":\"p1772\"},\"x_scale\":{\"type\":\"object\",\"name\":\"LinearScale\",\"id\":\"p1779\"},\"y_scale\":{\"type\":\"object\",\"name\":\"LinearScale\",\"id\":\"p1780\"},\"title\":{\"type\":\"object\",\"name\":\"Title\",\"id\":\"p1777\"},\"renderers\":[{\"type\":\"object\",\"name\":\"GlyphRenderer\",\"id\":\"p1811\",\"attributes\":{\"data_source\":{\"type\":\"object\",\"name\":\"ColumnDataSource\",\"id\":\"p1802\",\"attributes\":{\"selected\":{\"type\":\"object\",\"name\":\"Selection\",\"id\":\"p1803\",\"attributes\":{\"indices\":[],\"line_indices\":[]}},\"selection_policy\":{\"type\":\"object\",\"name\":\"UnionRenderers\",\"id\":\"p1804\"},\"data\":{\"type\":\"map\",\"entries\":[[\"index\",{\"type\":\"ndarray\",\"array\":{\"type\":\"bytes\",\"data\":\"AAAAAAEAAAACAAAAAwAAAAQAAAAFAAAABgAAAAcAAAAIAAAACQAAAAoAAAALAAAADAAAAA0AAAAOAAAADwAAABAAAAARAAAAEgAAABMAAAAUAAAAFQAAABYAAAAXAAAAGAAAABkAAAAaAAAAGwAAABwAAAAdAAAAHgAAAB8AAAAgAAAAIQAAACIAAAAjAAAAJAAAACUAAAAmAAAAJwAAACgAAAApAAAAKgAAACsAAAAsAAAALQAAAC4AAAAvAAAAMAAAADEAAAA=\"},\"shape\":[50],\"dtype\":\"int32\",\"order\":\"little\"}],[\"# Epochs\",{\"type\":\"ndarray\",\"array\":{\"type\":\"bytes\",\"data\":\"MgAAADIAAAAyAAAAMgAAADIAAAAyAAAAMgAAADIAAAAyAAAAMgAAADIAAAAyAAAAMgAAADIAAAAyAAAAMgAAADIAAAAyAAAAMgAAADIAAAAyAAAAMgAAADIAAAAyAAAAMgAAADIAAAAyAAAAMgAAADIAAAAyAAAAMgAAADIAAAAyAAAAMgAAADIAAAAyAAAAMgAAADIAAAAyAAAAMgAAADIAAAAyAAAAMgAAADIAAAAyAAAAMgAAADIAAAAyAAAAMgAAADIAAAA=\"},\"shape\":[50],\"dtype\":\"int32\",\"order\":\"little\"}],[\"GNN Runtime (Seconds)\",{\"type\":\"ndarray\",\"array\":{\"type\":\"bytes\",\"data\":\"AAAAgGJm5T8AAAAA7ebhPwAAAAB9yt8/AAAAAE3z5z8AAACAZf/rPwAAAABE2+w/AAAAACk47D8AAABAcxfwPwAAAAA/fO0/AQAAwNnL8D8AAACArGXqPwAAAIBbnOk/AAAAAB7R6T8AAACAVuPpPwAAAACMZ+k/AAAAAAd/6j8AAAAAkQ3qPwAAAIC0wuk/AAAAgPzy6j8AAAAAU8nqPwAAAIBuKeo/AAAAAJL16j8AAAAA7uPrPwAAAACE/uo/AAAAgKzW6z8AAAAA0KfpPwAAAADndus/AAAAgMan7D8AAACAFyHsPwAAAEAFTPQ/AAAAgKMQ8T8AAAAAxXXyPwAAAMBgN/I/AAAAALSe7j8AAAAAjIPyPwAAAIDlIfI/AAAAwF11BkAAAAAA+MrwPwAAAICHVPI/AAAAANBZ8j8AAACAnjHxPwAAAABAYfE/AAAAALUv8D8AAACAnrD1P////3+3NfA/AAAAgKGj8z8AAAAAQY/yPwAAAAAW2/c/AAAAwBa99D8AAADAaiL1Pw==\"},\"shape\":[50],\"dtype\":\"float64\",\"order\":\"little\"}],[\"Number of Edges\",{\"type\":\"ndarray\",\"array\":{\"type\":\"bytes\",\"data\":\"ZAAAAMgAAAAsAQAAkAEAAPQBAABYAgAAvAIAACADAACEAwAA6AMAAEwEAACwBAAAFAUAAHgFAADcBQAAQAYAAKQGAAAIBwAAbAcAANAHAAA0CAAAmAgAAPwIAABgCQAAxAkAACgKAACMCgAA8AoAAFQLAAC4CwAAHAwAAIAMAADkDAAASA0AAKwNAAAQDgAAdA4AANgOAAA8DwAAoA8AAAQQAABoEAAAzBAAADARAACUEQAA+BEAAFwSAADAEgAAJBMAAIgTAAA=\"},\"shape\":[50],\"dtype\":\"int32\",\"order\":\"little\"}],[\"Beta Runtime (Seconds)\",{\"type\":\"ndarray\",\"array\":{\"type\":\"bytes\",\"data\":\"AAAAkM0QEUAAAAAwF58QQAAAAACmvg9AAAAA4OwREEAAAADAqzwQQAAAABA1BhJAAAAAMMfKEUAAAADgObYSQAAAALAdAxJAAAAAUF1fEkAAAACwKC4SQAAAABB+zRFAAAAAEN+sEkAAAAAw/N0RQAAAAHBZjBJAAAAAgEi3EkAAAAAQ8/4SQAAAAAC2XhJAAAAAgDAtE0AAAACwkVMTQAAAAPC0bRNAAAAAMI+IE0AAAACQf+ATQAAAAAAL2RNAAAAAoOi0E0AAAABQ7e4TQAAAALB74hNAAAAAwBenE0AAAABQctsUQAAAAAD74hVAAQAA4P3XEkAAAABAblEUQAAAADBHcBJAAAAA0JJxE0AAAABgFyUTQAAAAGDhoBNAAQAAQNXrFkAAAABgAsETQAAAAMCSzRJAAAAA4DhmE0AAAADwFnkTQAAAAMDDFBRAAAAAQFe4E0AAAAAgQo0UQAEAAHBeChNAAAAAtC1kMEAAAACAX/wsQAAAAPA7XixAAAAAkKurKED/////7DMyQA==\"},\"shape\":[50],\"dtype\":\"float64\",\"order\":\"little\"}],[\"Difference (Seconds)\",{\"type\":\"ndarray\",\"array\":{\"type\":\"bytes\",\"data\":\"AAAAgALIDEAAAAAgc8QMQAAAAGBWxQtAAAAAgAYnCkAAAAAgfnkJQAAAACCZ1QxAAAAAIISHDEAAAAAgumANQAAAAKArpwxAAAAAwM1YDEAAAABA5sINQAAAAEDlMw1AAAAAoHblDkAAAADAIkMNQAAAAODPvg5AAAAAQM/ODkAAAADggXoPQAAAAOC+TA5AAAAA4KGdD0AAAACgzvQPQAAAACCHKBBAAAAA8NwpEEAAAADQAWQQQAAAAIA6eRBAAAAAEBM6EEAAAABQ87kQQAAAANCecxBAAAAA8B4SEEAAAABgT1cRQAAAALD5zxBAAgAAAKonDUAAAAAA+mcPQAAAAADexAtAAAAAoHg7D0AAAADAaAgNQAAAAADQMA5AAgAAwExiB0AAAADAiBwPQAAAAMDhcAxAAAAAwImfDUAAAACgXlkOQAAAAIDneA9AAAAAANRYD0AAAAAANUIOQAIAACDh+Q1AAAAAOOdTLkAAAABgd6oqQAAAADDZYilAAAAAuAgUJkD///9TxuEwQA==\"},\"shape\":[50],\"dtype\":\"float64\",\"order\":\"little\"}]]}}},\"view\":{\"type\":\"object\",\"name\":\"CDSView\",\"id\":\"p1812\",\"attributes\":{\"filter\":{\"type\":\"object\",\"name\":\"AllIndices\",\"id\":\"p1813\"}}},\"glyph\":{\"type\":\"object\",\"name\":\"Circle\",\"id\":\"p1808\",\"attributes\":{\"x\":{\"type\":\"field\",\"field\":\"Number of Edges\"},\"y\":{\"type\":\"field\",\"field\":\"Difference (Seconds)\"},\"line_color\":{\"type\":\"value\",\"value\":\"#1f77b4\"},\"fill_color\":{\"type\":\"value\",\"value\":\"#1f77b4\"}}},\"nonselection_glyph\":{\"type\":\"object\",\"name\":\"Circle\",\"id\":\"p1809\",\"attributes\":{\"x\":{\"type\":\"field\",\"field\":\"Number of Edges\"},\"y\":{\"type\":\"field\",\"field\":\"Difference (Seconds)\"},\"line_color\":{\"type\":\"value\",\"value\":\"#1f77b4\"},\"line_alpha\":{\"type\":\"value\",\"value\":0.1},\"fill_color\":{\"type\":\"value\",\"value\":\"#1f77b4\"},\"fill_alpha\":{\"type\":\"value\",\"value\":0.1},\"hatch_alpha\":{\"type\":\"value\",\"value\":0.1}}},\"muted_glyph\":{\"type\":\"object\",\"name\":\"Circle\",\"id\":\"p1810\",\"attributes\":{\"x\":{\"type\":\"field\",\"field\":\"Number of Edges\"},\"y\":{\"type\":\"field\",\"field\":\"Difference (Seconds)\"},\"line_color\":{\"type\":\"value\",\"value\":\"#1f77b4\"},\"line_alpha\":{\"type\":\"value\",\"value\":0.2},\"fill_color\":{\"type\":\"value\",\"value\":\"#1f77b4\"},\"fill_alpha\":{\"type\":\"value\",\"value\":0.2},\"hatch_alpha\":{\"type\":\"value\",\"value\":0.2}}}}}],\"toolbar\":{\"type\":\"object\",\"name\":\"Toolbar\",\"id\":\"p1778\",\"attributes\":{\"tools\":[{\"type\":\"object\",\"name\":\"PanTool\",\"id\":\"p1791\"},{\"type\":\"object\",\"name\":\"WheelZoomTool\",\"id\":\"p1792\",\"attributes\":{\"renderers\":\"auto\"}},{\"type\":\"object\",\"name\":\"BoxZoomTool\",\"id\":\"p1793\",\"attributes\":{\"overlay\":{\"type\":\"object\",\"name\":\"BoxAnnotation\",\"id\":\"p1794\",\"attributes\":{\"syncable\":false,\"level\":\"overlay\",\"visible\":false,\"left\":{\"type\":\"number\",\"value\":\"nan\"},\"right\":{\"type\":\"number\",\"value\":\"nan\"},\"top\":{\"type\":\"number\",\"value\":\"nan\"},\"bottom\":{\"type\":\"number\",\"value\":\"nan\"},\"left_units\":\"canvas\",\"right_units\":\"canvas\",\"top_units\":\"canvas\",\"bottom_units\":\"canvas\",\"line_color\":\"black\",\"line_alpha\":1.0,\"line_width\":2,\"line_dash\":[4,4],\"fill_color\":\"lightgrey\",\"fill_alpha\":0.5}}}},{\"type\":\"object\",\"name\":\"SaveTool\",\"id\":\"p1799\"},{\"type\":\"object\",\"name\":\"ResetTool\",\"id\":\"p1800\"},{\"type\":\"object\",\"name\":\"HelpTool\",\"id\":\"p1801\"}]}},\"left\":[{\"type\":\"object\",\"name\":\"LinearAxis\",\"id\":\"p1786\",\"attributes\":{\"ticker\":{\"type\":\"object\",\"name\":\"BasicTicker\",\"id\":\"p1787\",\"attributes\":{\"mantissas\":[1,2,5]}},\"formatter\":{\"type\":\"object\",\"name\":\"BasicTickFormatter\",\"id\":\"p1788\"},\"axis_label\":\"Difference (Seconds)\",\"major_label_policy\":{\"type\":\"object\",\"name\":\"AllLabels\",\"id\":\"p1789\"}}}],\"below\":[{\"type\":\"object\",\"name\":\"LinearAxis\",\"id\":\"p1781\",\"attributes\":{\"ticker\":{\"type\":\"object\",\"name\":\"BasicTicker\",\"id\":\"p1782\",\"attributes\":{\"mantissas\":[1,2,5]}},\"formatter\":{\"type\":\"object\",\"name\":\"BasicTickFormatter\",\"id\":\"p1783\"},\"axis_label\":\"Number of Edges\",\"major_label_policy\":{\"type\":\"object\",\"name\":\"AllLabels\",\"id\":\"p1784\"}}}],\"center\":[{\"type\":\"object\",\"name\":\"Grid\",\"id\":\"p1785\",\"attributes\":{\"axis\":{\"id\":\"p1781\"}}},{\"type\":\"object\",\"name\":\"Grid\",\"id\":\"p1790\",\"attributes\":{\"dimension\":1,\"axis\":{\"id\":\"p1786\"}}}]}}]}};\n",
       "  const render_items = [{\"docid\":\"7cd86b5d-259c-417e-b50c-ab8429a9f890\",\"roots\":{\"p1770\":\"cc2b1c6b-6de9-4aa6-832f-74bacdfd364b\"},\"root_ids\":[\"p1770\"]}];\n",
       "  root.Bokeh.embed.embed_items_notebook(docs_json, render_items);\n",
       "  }\n",
       "  if (root.Bokeh !== undefined) {\n",
       "    embed_document(root);\n",
       "  } else {\n",
       "    let attempts = 0;\n",
       "    const timer = setInterval(function(root) {\n",
       "      if (root.Bokeh !== undefined) {\n",
       "        clearInterval(timer);\n",
       "        embed_document(root);\n",
       "      } else {\n",
       "        attempts++;\n",
       "        if (attempts > 100) {\n",
       "          clearInterval(timer);\n",
       "          console.log(\"Bokeh: ERROR: Unable to run BokehJS code because BokehJS library is missing\");\n",
       "        }\n",
       "      }\n",
       "    }, 10, root)\n",
       "  }\n",
       "})(window);"
      ],
      "application/vnd.bokehjs_exec.v0+json": ""
     },
     "metadata": {
      "application/vnd.bokehjs_exec.v0+json": {
       "id": "p1770"
      }
     },
     "output_type": "display_data"
    }
   ],
   "source": [
    "x = \"Number of Edges\"\n",
    "y = \"Difference (Seconds)\"\n",
    "p = bokeh.plotting.figure(\n",
    "    width=400,\n",
    "    height=300,\n",
    "    x_axis_label=x,\n",
    "    y_axis_label=y,\n",
    ")\n",
    "p.circle(\n",
    "    source=diff,\n",
    "    x=x,\n",
    "    y=y,\n",
    ")\n",
    "bokeh.io.show(p)"
   ]
  },
  {
   "cell_type": "code",
   "execution_count": 45,
   "id": "8d0c3567-044d-4870-823b-a18528418a89",
   "metadata": {},
   "outputs": [],
   "source": [
    "effects = pd.read_csv('moreinformGraphRuntimes.csv')\n",
    "effects = effects.drop(['Average Runtime', 'Unnamed: 0', 'Data'], axis=1)\n",
    "effects = effects.rename({'# Edges': 'Number of Edges', 'Full Runtime': 'Runtime (Seconds)'}, axis=1)\n",
    "gnn = effects[effects['Explainer'] == 'GNN']\n",
    "gnn = gnn.rename({'Runtime (Seconds)': 'GNN Runtime (Seconds)'}, axis=1)\n",
    "gnn = gnn.drop(['Explainer'], axis=1)\n",
    "beta = effects[effects['Explainer'] == 'Beta']\n",
    "beta = beta.rename({'Runtime (Seconds)': 'Beta Runtime (Seconds)'}, axis=1)\n",
    "beta = beta.drop(['Explainer'], axis=1)\n",
    "diff = pd.merge(gnn, beta, how=\"right\", on=[\"# Epochs\",'Number of Edges'])\n",
    "diff['Difference (Seconds)'] = diff['Beta Runtime (Seconds)'] - diff['GNN Runtime (Seconds)']"
   ]
  },
  {
   "cell_type": "code",
   "execution_count": 47,
   "id": "4aa7f300-0169-4575-ae24-623f47fe9fc7",
   "metadata": {
    "jupyter": {
     "source_hidden": true
    }
   },
   "outputs": [
    {
     "data": {
      "text/html": [
       "\n",
       "  <div id=\"e0f487af-b880-4ddc-90ad-0ef885fc0153\" data-root-id=\"p1820\" style=\"display: contents;\"></div>\n"
      ]
     },
     "metadata": {},
     "output_type": "display_data"
    },
    {
     "data": {
      "application/javascript": [
       "(function(root) {\n",
       "  function embed_document(root) {\n",
       "  const docs_json = {\"1e2b122d-672c-4919-a8f6-ecb024b773ee\":{\"version\":\"3.3.4\",\"title\":\"Bokeh Application\",\"roots\":[{\"type\":\"object\",\"name\":\"Figure\",\"id\":\"p1820\",\"attributes\":{\"width\":400,\"height\":300,\"x_range\":{\"type\":\"object\",\"name\":\"DataRange1d\",\"id\":\"p1821\"},\"y_range\":{\"type\":\"object\",\"name\":\"DataRange1d\",\"id\":\"p1822\"},\"x_scale\":{\"type\":\"object\",\"name\":\"LinearScale\",\"id\":\"p1829\"},\"y_scale\":{\"type\":\"object\",\"name\":\"LinearScale\",\"id\":\"p1830\"},\"title\":{\"type\":\"object\",\"name\":\"Title\",\"id\":\"p1827\"},\"renderers\":[{\"type\":\"object\",\"name\":\"GlyphRenderer\",\"id\":\"p1861\",\"attributes\":{\"data_source\":{\"type\":\"object\",\"name\":\"ColumnDataSource\",\"id\":\"p1852\",\"attributes\":{\"selected\":{\"type\":\"object\",\"name\":\"Selection\",\"id\":\"p1853\",\"attributes\":{\"indices\":[],\"line_indices\":[]}},\"selection_policy\":{\"type\":\"object\",\"name\":\"UnionRenderers\",\"id\":\"p1854\"},\"data\":{\"type\":\"map\",\"entries\":[[\"index\",{\"type\":\"ndarray\",\"array\":{\"type\":\"bytes\",\"data\":\"AAAAAAIAAAAEAAAABgAAAAgAAAAKAAAADAAAAA4AAAAQAAAAEgAAABQAAAAWAAAAGAAAABoAAAAcAAAAHgAAACAAAAAiAAAAJAAAACYAAAAoAAAAKgAAACwAAAAuAAAAMAAAADIAAAA0AAAANgAAADgAAAA6AAAAPAAAAD4AAABAAAAAQgAAAEQAAABGAAAASAAAAEoAAABMAAAATgAAAFAAAABSAAAAVAAAAFYAAABYAAAAWgAAAFwAAABeAAAAYAAAAGIAAAA=\"},\"shape\":[50],\"dtype\":\"int32\",\"order\":\"little\"}],[\"Explainer\",{\"type\":\"ndarray\",\"array\":[\"Beta\",\"Beta\",\"Beta\",\"Beta\",\"Beta\",\"Beta\",\"Beta\",\"Beta\",\"Beta\",\"Beta\",\"Beta\",\"Beta\",\"Beta\",\"Beta\",\"Beta\",\"Beta\",\"Beta\",\"Beta\",\"Beta\",\"Beta\",\"Beta\",\"Beta\",\"Beta\",\"Beta\",\"Beta\",\"Beta\",\"Beta\",\"Beta\",\"Beta\",\"Beta\",\"Beta\",\"Beta\",\"Beta\",\"Beta\",\"Beta\",\"Beta\",\"Beta\",\"Beta\",\"Beta\",\"Beta\",\"Beta\",\"Beta\",\"Beta\",\"Beta\",\"Beta\",\"Beta\",\"Beta\",\"Beta\",\"Beta\",\"Beta\"],\"shape\":[50],\"dtype\":\"object\",\"order\":\"little\"}],[\"# Epochs\",{\"type\":\"ndarray\",\"array\":{\"type\":\"bytes\",\"data\":\"MgAAADIAAAAyAAAAMgAAADIAAAAyAAAAMgAAADIAAAAyAAAAMgAAADIAAAAyAAAAMgAAADIAAAAyAAAAMgAAADIAAAAyAAAAMgAAADIAAAAyAAAAMgAAADIAAAAyAAAAMgAAADIAAAAyAAAAMgAAADIAAAAyAAAAMgAAADIAAAAyAAAAMgAAADIAAAAyAAAAMgAAADIAAAAyAAAAMgAAADIAAAAyAAAAMgAAADIAAAAyAAAAMgAAADIAAAAyAAAAMgAAADIAAAA=\"},\"shape\":[50],\"dtype\":\"int32\",\"order\":\"little\"}],[\"Runtime (Seconds)\",{\"type\":\"ndarray\",\"array\":{\"type\":\"bytes\",\"data\":\"AAAAIFA5DUAAAABgXQUOQAEAACAZ6wxAAAAAMGlaEEAAAABASNANQAAAAHCcrhBAAAAAEDNcEEAAAADA8E8OQAAAAMBwJhFAAAAA0L2XEEAAAADARocQQAAAACB2IA9AAAAAwAQsEEAAAABwPgIRQAAAAICneRJAAAAAwN2bEkAAAACgxpsQQAAAAJAmJhNAAAAAAA7vEEAAAACwXecRQAAAAGD7rhJAAAAAQPRBEUAAAAAgYcMRQAAAAKCntRFAAAAA8L+kEUAAAABw5PYSQAAAAJDUpxNAAAAAoMnaEUABAACQkZ8SQAAAAJAi7RJAAAAAYAAEEkAAAABwNrgTQAAAAACCvhBAAAAA0KJFEUABAABgAzQSQAAAABDVkxJAAAAAYELDEUAAAABw8ZYRQAAAAKAkoRRAAAAA0DrCEkAAAADARfYTQAAAAMD8bRNAAAAAAH4QFEAAAACwJJUUQAAAAMBsrxJAAAAAYMIkEkAAAADgwL8RQAAAAHBFqxNAAAAAkNY2E0AAAACgye8SQA==\"},\"shape\":[50],\"dtype\":\"float64\",\"order\":\"little\"}],[\"Number of Edges\",{\"type\":\"ndarray\",\"array\":{\"type\":\"bytes\",\"data\":\"ZAAAAMgAAAAsAQAAkAEAAPQBAABYAgAAvAIAACADAACEAwAA6AMAAEwEAACwBAAAFAUAAHgFAADcBQAAQAYAAKQGAAAIBwAAbAcAANAHAAA0CAAAmAgAAPwIAABgCQAAxAkAACgKAACMCgAA8AoAAFQLAAC4CwAAHAwAAIAMAADkDAAASA0AAKwNAAAQDgAAdA4AANgOAAA8DwAAoA8AAAQQAABoEAAAzBAAADARAACUEQAA+BEAAFwSAADAEgAAJBMAAIgTAAA=\"},\"shape\":[50],\"dtype\":\"int32\",\"order\":\"little\"}]]}}},\"view\":{\"type\":\"object\",\"name\":\"CDSView\",\"id\":\"p1862\",\"attributes\":{\"filter\":{\"type\":\"object\",\"name\":\"AllIndices\",\"id\":\"p1863\"}}},\"glyph\":{\"type\":\"object\",\"name\":\"Circle\",\"id\":\"p1858\",\"attributes\":{\"x\":{\"type\":\"field\",\"field\":\"Number of Edges\"},\"y\":{\"type\":\"field\",\"field\":\"Runtime (Seconds)\"},\"line_color\":{\"type\":\"value\",\"value\":\"#1f77b4\"},\"fill_color\":{\"type\":\"value\",\"value\":\"#1f77b4\"}}},\"nonselection_glyph\":{\"type\":\"object\",\"name\":\"Circle\",\"id\":\"p1859\",\"attributes\":{\"x\":{\"type\":\"field\",\"field\":\"Number of Edges\"},\"y\":{\"type\":\"field\",\"field\":\"Runtime (Seconds)\"},\"line_color\":{\"type\":\"value\",\"value\":\"#1f77b4\"},\"line_alpha\":{\"type\":\"value\",\"value\":0.1},\"fill_color\":{\"type\":\"value\",\"value\":\"#1f77b4\"},\"fill_alpha\":{\"type\":\"value\",\"value\":0.1},\"hatch_alpha\":{\"type\":\"value\",\"value\":0.1}}},\"muted_glyph\":{\"type\":\"object\",\"name\":\"Circle\",\"id\":\"p1860\",\"attributes\":{\"x\":{\"type\":\"field\",\"field\":\"Number of Edges\"},\"y\":{\"type\":\"field\",\"field\":\"Runtime (Seconds)\"},\"line_color\":{\"type\":\"value\",\"value\":\"#1f77b4\"},\"line_alpha\":{\"type\":\"value\",\"value\":0.2},\"fill_color\":{\"type\":\"value\",\"value\":\"#1f77b4\"},\"fill_alpha\":{\"type\":\"value\",\"value\":0.2},\"hatch_alpha\":{\"type\":\"value\",\"value\":0.2}}}}},{\"type\":\"object\",\"name\":\"GlyphRenderer\",\"id\":\"p1875\",\"attributes\":{\"data_source\":{\"type\":\"object\",\"name\":\"ColumnDataSource\",\"id\":\"p1866\",\"attributes\":{\"selected\":{\"type\":\"object\",\"name\":\"Selection\",\"id\":\"p1867\",\"attributes\":{\"indices\":[],\"line_indices\":[]}},\"selection_policy\":{\"type\":\"object\",\"name\":\"UnionRenderers\",\"id\":\"p1868\"},\"data\":{\"type\":\"map\",\"entries\":[[\"index\",{\"type\":\"ndarray\",\"array\":{\"type\":\"bytes\",\"data\":\"AQAAAAMAAAAFAAAABwAAAAkAAAALAAAADQAAAA8AAAARAAAAEwAAABUAAAAXAAAAGQAAABsAAAAdAAAAHwAAACEAAAAjAAAAJQAAACcAAAApAAAAKwAAAC0AAAAvAAAAMQAAADMAAAA1AAAANwAAADkAAAA7AAAAPQAAAD8AAABBAAAAQwAAAEUAAABHAAAASQAAAEsAAABNAAAATwAAAFEAAABTAAAAVQAAAFcAAABZAAAAWwAAAF0AAABfAAAAYQAAAGMAAAA=\"},\"shape\":[50],\"dtype\":\"int32\",\"order\":\"little\"}],[\"Explainer\",{\"type\":\"ndarray\",\"array\":[\"GNN\",\"GNN\",\"GNN\",\"GNN\",\"GNN\",\"GNN\",\"GNN\",\"GNN\",\"GNN\",\"GNN\",\"GNN\",\"GNN\",\"GNN\",\"GNN\",\"GNN\",\"GNN\",\"GNN\",\"GNN\",\"GNN\",\"GNN\",\"GNN\",\"GNN\",\"GNN\",\"GNN\",\"GNN\",\"GNN\",\"GNN\",\"GNN\",\"GNN\",\"GNN\",\"GNN\",\"GNN\",\"GNN\",\"GNN\",\"GNN\",\"GNN\",\"GNN\",\"GNN\",\"GNN\",\"GNN\",\"GNN\",\"GNN\",\"GNN\",\"GNN\",\"GNN\",\"GNN\",\"GNN\",\"GNN\",\"GNN\",\"GNN\"],\"shape\":[50],\"dtype\":\"object\",\"order\":\"little\"}],[\"# Epochs\",{\"type\":\"ndarray\",\"array\":{\"type\":\"bytes\",\"data\":\"MgAAADIAAAAyAAAAMgAAADIAAAAyAAAAMgAAADIAAAAyAAAAMgAAADIAAAAyAAAAMgAAADIAAAAyAAAAMgAAADIAAAAyAAAAMgAAADIAAAAyAAAAMgAAADIAAAAyAAAAMgAAADIAAAAyAAAAMgAAADIAAAAyAAAAMgAAADIAAAAyAAAAMgAAADIAAAAyAAAAMgAAADIAAAAyAAAAMgAAADIAAAAyAAAAMgAAADIAAAAyAAAAMgAAADIAAAAyAAAAMgAAADIAAAA=\"},\"shape\":[50],\"dtype\":\"int32\",\"order\":\"little\"}],[\"Runtime (Seconds)\",{\"type\":\"ndarray\",\"array\":{\"type\":\"bytes\",\"data\":\"AAAAgACg5D8AAAAA5tbnPwAAAIBl0Oc/AAAAAFh54D8AAAAAMgbmPwAAAICYc+g/AAAAgLre5z8AAAAAD4zoPwAAAID6XOo/AAAAgND+7z8AAAAAJg3oPwAAAIBWoeU/AAAAAI1P5D8AAACAlJzkPwAAAICCoOw/AAAAgDHt7D8AAACA28jpPwAAAABya+w/AAAAgHd+5T8AAACAqdjlPwAAAIA46uk/AAAAgNkQ5z8AAAAAE3/lPwAAAIDyHOs/AAAAgJgS5j8AAACAJA3mP/////8b9+w/AAAAgCId5T8AAAAAZHXoPwAAAIDuLOY/AAAAgE7O7j8AAAAACX/pPwAAAABzNOU/AAAAAIhw5j8AAAAArkjnPwAAAADZpec/AAAAgJJG5j8AAACA71jmPwAAAICsRPM/AAAAgJF/6D8AAACAE6fmPwAAAID8Xug/AAAAgEk55z8AAAAAxiDpPwAAAIDfsOU/AAAAgNmR5j8AAACAHornPwAAAACcOuw/AAAAAE/i5z8AAACAFujpPw==\"},\"shape\":[50],\"dtype\":\"float64\",\"order\":\"little\"}],[\"Number of Edges\",{\"type\":\"ndarray\",\"array\":{\"type\":\"bytes\",\"data\":\"ZAAAAMgAAAAsAQAAkAEAAPQBAABYAgAAvAIAACADAACEAwAA6AMAAEwEAACwBAAAFAUAAHgFAADcBQAAQAYAAKQGAAAIBwAAbAcAANAHAAA0CAAAmAgAAPwIAABgCQAAxAkAACgKAACMCgAA8AoAAFQLAAC4CwAAHAwAAIAMAADkDAAASA0AAKwNAAAQDgAAdA4AANgOAAA8DwAAoA8AAAQQAABoEAAAzBAAADARAACUEQAA+BEAAFwSAADAEgAAJBMAAIgTAAA=\"},\"shape\":[50],\"dtype\":\"int32\",\"order\":\"little\"}]]}}},\"view\":{\"type\":\"object\",\"name\":\"CDSView\",\"id\":\"p1876\",\"attributes\":{\"filter\":{\"type\":\"object\",\"name\":\"AllIndices\",\"id\":\"p1877\"}}},\"glyph\":{\"type\":\"object\",\"name\":\"Circle\",\"id\":\"p1872\",\"attributes\":{\"x\":{\"type\":\"field\",\"field\":\"Number of Edges\"},\"y\":{\"type\":\"field\",\"field\":\"Runtime (Seconds)\"},\"line_color\":{\"type\":\"value\",\"value\":\"orange\"},\"fill_color\":{\"type\":\"value\",\"value\":\"orange\"},\"hatch_color\":{\"type\":\"value\",\"value\":\"orange\"}}},\"nonselection_glyph\":{\"type\":\"object\",\"name\":\"Circle\",\"id\":\"p1873\",\"attributes\":{\"x\":{\"type\":\"field\",\"field\":\"Number of Edges\"},\"y\":{\"type\":\"field\",\"field\":\"Runtime (Seconds)\"},\"line_color\":{\"type\":\"value\",\"value\":\"orange\"},\"line_alpha\":{\"type\":\"value\",\"value\":0.1},\"fill_color\":{\"type\":\"value\",\"value\":\"orange\"},\"fill_alpha\":{\"type\":\"value\",\"value\":0.1},\"hatch_color\":{\"type\":\"value\",\"value\":\"orange\"},\"hatch_alpha\":{\"type\":\"value\",\"value\":0.1}}},\"muted_glyph\":{\"type\":\"object\",\"name\":\"Circle\",\"id\":\"p1874\",\"attributes\":{\"x\":{\"type\":\"field\",\"field\":\"Number of Edges\"},\"y\":{\"type\":\"field\",\"field\":\"Runtime (Seconds)\"},\"line_color\":{\"type\":\"value\",\"value\":\"orange\"},\"line_alpha\":{\"type\":\"value\",\"value\":0.2},\"fill_color\":{\"type\":\"value\",\"value\":\"orange\"},\"fill_alpha\":{\"type\":\"value\",\"value\":0.2},\"hatch_color\":{\"type\":\"value\",\"value\":\"orange\"},\"hatch_alpha\":{\"type\":\"value\",\"value\":0.2}}}}}],\"toolbar\":{\"type\":\"object\",\"name\":\"Toolbar\",\"id\":\"p1828\",\"attributes\":{\"tools\":[{\"type\":\"object\",\"name\":\"PanTool\",\"id\":\"p1841\"},{\"type\":\"object\",\"name\":\"WheelZoomTool\",\"id\":\"p1842\",\"attributes\":{\"renderers\":\"auto\"}},{\"type\":\"object\",\"name\":\"BoxZoomTool\",\"id\":\"p1843\",\"attributes\":{\"overlay\":{\"type\":\"object\",\"name\":\"BoxAnnotation\",\"id\":\"p1844\",\"attributes\":{\"syncable\":false,\"level\":\"overlay\",\"visible\":false,\"left\":{\"type\":\"number\",\"value\":\"nan\"},\"right\":{\"type\":\"number\",\"value\":\"nan\"},\"top\":{\"type\":\"number\",\"value\":\"nan\"},\"bottom\":{\"type\":\"number\",\"value\":\"nan\"},\"left_units\":\"canvas\",\"right_units\":\"canvas\",\"top_units\":\"canvas\",\"bottom_units\":\"canvas\",\"line_color\":\"black\",\"line_alpha\":1.0,\"line_width\":2,\"line_dash\":[4,4],\"fill_color\":\"lightgrey\",\"fill_alpha\":0.5}}}},{\"type\":\"object\",\"name\":\"SaveTool\",\"id\":\"p1849\"},{\"type\":\"object\",\"name\":\"ResetTool\",\"id\":\"p1850\"},{\"type\":\"object\",\"name\":\"HelpTool\",\"id\":\"p1851\"}]}},\"left\":[{\"type\":\"object\",\"name\":\"LinearAxis\",\"id\":\"p1836\",\"attributes\":{\"ticker\":{\"type\":\"object\",\"name\":\"BasicTicker\",\"id\":\"p1837\",\"attributes\":{\"mantissas\":[1,2,5]}},\"formatter\":{\"type\":\"object\",\"name\":\"BasicTickFormatter\",\"id\":\"p1838\"},\"axis_label\":\"Runtime (Seconds)\",\"major_label_policy\":{\"type\":\"object\",\"name\":\"AllLabels\",\"id\":\"p1839\"}}}],\"below\":[{\"type\":\"object\",\"name\":\"LinearAxis\",\"id\":\"p1831\",\"attributes\":{\"ticker\":{\"type\":\"object\",\"name\":\"BasicTicker\",\"id\":\"p1832\",\"attributes\":{\"mantissas\":[1,2,5]}},\"formatter\":{\"type\":\"object\",\"name\":\"BasicTickFormatter\",\"id\":\"p1833\"},\"axis_label\":\"Number of Edges\",\"major_label_policy\":{\"type\":\"object\",\"name\":\"AllLabels\",\"id\":\"p1834\"}}}],\"center\":[{\"type\":\"object\",\"name\":\"Grid\",\"id\":\"p1835\",\"attributes\":{\"axis\":{\"id\":\"p1831\"}}},{\"type\":\"object\",\"name\":\"Grid\",\"id\":\"p1840\",\"attributes\":{\"dimension\":1,\"axis\":{\"id\":\"p1836\"}}},{\"type\":\"object\",\"name\":\"Legend\",\"id\":\"p1864\",\"attributes\":{\"location\":\"top_left\",\"items\":[{\"type\":\"object\",\"name\":\"LegendItem\",\"id\":\"p1865\",\"attributes\":{\"label\":{\"type\":\"value\",\"value\":\"Beta\"},\"renderers\":[{\"id\":\"p1861\"}]}},{\"type\":\"object\",\"name\":\"LegendItem\",\"id\":\"p1878\",\"attributes\":{\"label\":{\"type\":\"value\",\"value\":\"GNN\"},\"renderers\":[{\"id\":\"p1875\"}]}}]}}]}}]}};\n",
       "  const render_items = [{\"docid\":\"1e2b122d-672c-4919-a8f6-ecb024b773ee\",\"roots\":{\"p1820\":\"e0f487af-b880-4ddc-90ad-0ef885fc0153\"},\"root_ids\":[\"p1820\"]}];\n",
       "  root.Bokeh.embed.embed_items_notebook(docs_json, render_items);\n",
       "  }\n",
       "  if (root.Bokeh !== undefined) {\n",
       "    embed_document(root);\n",
       "  } else {\n",
       "    let attempts = 0;\n",
       "    const timer = setInterval(function(root) {\n",
       "      if (root.Bokeh !== undefined) {\n",
       "        clearInterval(timer);\n",
       "        embed_document(root);\n",
       "      } else {\n",
       "        attempts++;\n",
       "        if (attempts > 100) {\n",
       "          clearInterval(timer);\n",
       "          console.log(\"Bokeh: ERROR: Unable to run BokehJS code because BokehJS library is missing\");\n",
       "        }\n",
       "      }\n",
       "    }, 10, root)\n",
       "  }\n",
       "})(window);"
      ],
      "application/vnd.bokehjs_exec.v0+json": ""
     },
     "metadata": {
      "application/vnd.bokehjs_exec.v0+json": {
       "id": "p1820"
      }
     },
     "output_type": "display_data"
    }
   ],
   "source": [
    "x = \"Number of Edges\"\n",
    "y = \"Runtime (Seconds)\"\n",
    "p = bokeh.plotting.figure(\n",
    "    width=400,\n",
    "    height=300,\n",
    "    x_axis_label=x,\n",
    "    y_axis_label=y,\n",
    ")\n",
    "p.circle(\n",
    "    source=effects[effects['Explainer'] == 'Beta'],\n",
    "    x=x,\n",
    "    y=y,\n",
    "    legend_label=\"Beta\",\n",
    ")\n",
    "p.circle(\n",
    "    source=effects[effects['Explainer'] == 'GNN'],\n",
    "    x=x,\n",
    "    y=y,\n",
    "    legend_label=\"GNN\",\n",
    "    color='orange'\n",
    ")\n",
    "p.legend.location = \"top_left\"\n",
    "bokeh.io.show(p)"
   ]
  },
  {
   "cell_type": "code",
   "execution_count": 49,
   "id": "ac59d7bb-f4e3-4af9-a319-90c8adababef",
   "metadata": {
    "jupyter": {
     "source_hidden": true
    }
   },
   "outputs": [
    {
     "data": {
      "text/html": [
       "\n",
       "  <div id=\"e0e02e3b-00f9-4bf7-bb34-597654498e88\" data-root-id=\"p1887\" style=\"display: contents;\"></div>\n"
      ]
     },
     "metadata": {},
     "output_type": "display_data"
    },
    {
     "data": {
      "application/javascript": [
       "(function(root) {\n",
       "  function embed_document(root) {\n",
       "  const docs_json = {\"10e6f360-b4e5-4a9d-852c-9c5304366375\":{\"version\":\"3.3.4\",\"title\":\"Bokeh Application\",\"roots\":[{\"type\":\"object\",\"name\":\"Figure\",\"id\":\"p1887\",\"attributes\":{\"width\":400,\"height\":300,\"x_range\":{\"type\":\"object\",\"name\":\"DataRange1d\",\"id\":\"p1888\"},\"y_range\":{\"type\":\"object\",\"name\":\"DataRange1d\",\"id\":\"p1889\"},\"x_scale\":{\"type\":\"object\",\"name\":\"LinearScale\",\"id\":\"p1896\"},\"y_scale\":{\"type\":\"object\",\"name\":\"LinearScale\",\"id\":\"p1897\"},\"title\":{\"type\":\"object\",\"name\":\"Title\",\"id\":\"p1894\"},\"renderers\":[{\"type\":\"object\",\"name\":\"GlyphRenderer\",\"id\":\"p1928\",\"attributes\":{\"data_source\":{\"type\":\"object\",\"name\":\"ColumnDataSource\",\"id\":\"p1919\",\"attributes\":{\"selected\":{\"type\":\"object\",\"name\":\"Selection\",\"id\":\"p1920\",\"attributes\":{\"indices\":[],\"line_indices\":[]}},\"selection_policy\":{\"type\":\"object\",\"name\":\"UnionRenderers\",\"id\":\"p1921\"},\"data\":{\"type\":\"map\",\"entries\":[[\"index\",{\"type\":\"ndarray\",\"array\":{\"type\":\"bytes\",\"data\":\"AAAAAAEAAAACAAAAAwAAAAQAAAAFAAAABgAAAAcAAAAIAAAACQAAAAoAAAALAAAADAAAAA0AAAAOAAAADwAAABAAAAARAAAAEgAAABMAAAAUAAAAFQAAABYAAAAXAAAAGAAAABkAAAAaAAAAGwAAABwAAAAdAAAAHgAAAB8AAAAgAAAAIQAAACIAAAAjAAAAJAAAACUAAAAmAAAAJwAAACgAAAApAAAAKgAAACsAAAAsAAAALQAAAC4AAAAvAAAAMAAAADEAAAA=\"},\"shape\":[50],\"dtype\":\"int32\",\"order\":\"little\"}],[\"# Epochs\",{\"type\":\"ndarray\",\"array\":{\"type\":\"bytes\",\"data\":\"MgAAADIAAAAyAAAAMgAAADIAAAAyAAAAMgAAADIAAAAyAAAAMgAAADIAAAAyAAAAMgAAADIAAAAyAAAAMgAAADIAAAAyAAAAMgAAADIAAAAyAAAAMgAAADIAAAAyAAAAMgAAADIAAAAyAAAAMgAAADIAAAAyAAAAMgAAADIAAAAyAAAAMgAAADIAAAAyAAAAMgAAADIAAAAyAAAAMgAAADIAAAAyAAAAMgAAADIAAAAyAAAAMgAAADIAAAAyAAAAMgAAADIAAAA=\"},\"shape\":[50],\"dtype\":\"int32\",\"order\":\"little\"}],[\"GNN Runtime (Seconds)\",{\"type\":\"ndarray\",\"array\":{\"type\":\"bytes\",\"data\":\"AAAAgACg5D8AAAAA5tbnPwAAAIBl0Oc/AAAAAFh54D8AAAAAMgbmPwAAAICYc+g/AAAAgLre5z8AAAAAD4zoPwAAAID6XOo/AAAAgND+7z8AAAAAJg3oPwAAAIBWoeU/AAAAAI1P5D8AAACAlJzkPwAAAICCoOw/AAAAgDHt7D8AAACA28jpPwAAAABya+w/AAAAgHd+5T8AAACAqdjlPwAAAIA46uk/AAAAgNkQ5z8AAAAAE3/lPwAAAIDyHOs/AAAAgJgS5j8AAACAJA3mP/////8b9+w/AAAAgCId5T8AAAAAZHXoPwAAAIDuLOY/AAAAgE7O7j8AAAAACX/pPwAAAABzNOU/AAAAAIhw5j8AAAAArkjnPwAAAADZpec/AAAAgJJG5j8AAACA71jmPwAAAICsRPM/AAAAgJF/6D8AAACAE6fmPwAAAID8Xug/AAAAgEk55z8AAAAAxiDpPwAAAIDfsOU/AAAAgNmR5j8AAACAHornPwAAAACcOuw/AAAAAE/i5z8AAACAFujpPw==\"},\"shape\":[50],\"dtype\":\"float64\",\"order\":\"little\"}],[\"Number of Edges\",{\"type\":\"ndarray\",\"array\":{\"type\":\"bytes\",\"data\":\"ZAAAAMgAAAAsAQAAkAEAAPQBAABYAgAAvAIAACADAACEAwAA6AMAAEwEAACwBAAAFAUAAHgFAADcBQAAQAYAAKQGAAAIBwAAbAcAANAHAAA0CAAAmAgAAPwIAABgCQAAxAkAACgKAACMCgAA8AoAAFQLAAC4CwAAHAwAAIAMAADkDAAASA0AAKwNAAAQDgAAdA4AANgOAAA8DwAAoA8AAAQQAABoEAAAzBAAADARAACUEQAA+BEAAFwSAADAEgAAJBMAAIgTAAA=\"},\"shape\":[50],\"dtype\":\"int32\",\"order\":\"little\"}],[\"Beta Runtime (Seconds)\",{\"type\":\"ndarray\",\"array\":{\"type\":\"bytes\",\"data\":\"AAAAIFA5DUAAAABgXQUOQAEAACAZ6wxAAAAAMGlaEEAAAABASNANQAAAAHCcrhBAAAAAEDNcEEAAAADA8E8OQAAAAMBwJhFAAAAA0L2XEEAAAADARocQQAAAACB2IA9AAAAAwAQsEEAAAABwPgIRQAAAAICneRJAAAAAwN2bEkAAAACgxpsQQAAAAJAmJhNAAAAAAA7vEEAAAACwXecRQAAAAGD7rhJAAAAAQPRBEUAAAAAgYcMRQAAAAKCntRFAAAAA8L+kEUAAAABw5PYSQAAAAJDUpxNAAAAAoMnaEUABAACQkZ8SQAAAAJAi7RJAAAAAYAAEEkAAAABwNrgTQAAAAACCvhBAAAAA0KJFEUABAABgAzQSQAAAABDVkxJAAAAAYELDEUAAAABw8ZYRQAAAAKAkoRRAAAAA0DrCEkAAAADARfYTQAAAAMD8bRNAAAAAAH4QFEAAAACwJJUUQAAAAMBsrxJAAAAAYMIkEkAAAADgwL8RQAAAAHBFqxNAAAAAkNY2E0AAAACgye8SQA==\"},\"shape\":[50],\"dtype\":\"float64\",\"order\":\"little\"}],[\"Difference (Seconds)\",{\"type\":\"ndarray\",\"array\":{\"type\":\"bytes\",\"data\":\"AAAAAFARCEAAAADgow8IQAEAAMD/9gZAAAAAYHyWDEAAAADAu04IQAAAAMBSQAtAAAAAgLfACkAAAAAA7SwIQAAAAOCitQtAAAAAgMcvCUAAAAAARAsLQAAAAIAguAlAAAAAQCZEC0AAAADAV90MQAAAAGAuyw1AAAAAIG/8DUAAAABgVsUKQAAAAKBwMQ9AAAAAIH5+DEAAAAAAkVgOQAAAAKBo4w5AAAAAILK/DEAAAACA/SYOQAAAAKASpAxAAAAAwNnEDUAAAADgPzUQQAAAABDxCBBAAAAAoEpuDkACAAAgyiEPQAAAAMCEJxBAAAAAIG1UDEAAAABQVYgQQAAAAEDnLwxAAAAAoCPvDEACAABA25UOQAAAAOAzPg9AAAAAIOD0DUAAAAAAp5cNQAAAAADznw9AAAAAQJFkD0AAAABQYyERQAAAADAdYhBAAAAA0FQpEUAAAADwC3ERQAAAAKCh8g9AAAAAYA6lDkAAAAAg+pwNQAAAAPDxIxBAAAAAsIw6EEAAAACgjWUPQA==\"},\"shape\":[50],\"dtype\":\"float64\",\"order\":\"little\"}]]}}},\"view\":{\"type\":\"object\",\"name\":\"CDSView\",\"id\":\"p1929\",\"attributes\":{\"filter\":{\"type\":\"object\",\"name\":\"AllIndices\",\"id\":\"p1930\"}}},\"glyph\":{\"type\":\"object\",\"name\":\"Circle\",\"id\":\"p1925\",\"attributes\":{\"x\":{\"type\":\"field\",\"field\":\"Number of Edges\"},\"y\":{\"type\":\"field\",\"field\":\"Difference (Seconds)\"},\"line_color\":{\"type\":\"value\",\"value\":\"#1f77b4\"},\"fill_color\":{\"type\":\"value\",\"value\":\"#1f77b4\"}}},\"nonselection_glyph\":{\"type\":\"object\",\"name\":\"Circle\",\"id\":\"p1926\",\"attributes\":{\"x\":{\"type\":\"field\",\"field\":\"Number of Edges\"},\"y\":{\"type\":\"field\",\"field\":\"Difference (Seconds)\"},\"line_color\":{\"type\":\"value\",\"value\":\"#1f77b4\"},\"line_alpha\":{\"type\":\"value\",\"value\":0.1},\"fill_color\":{\"type\":\"value\",\"value\":\"#1f77b4\"},\"fill_alpha\":{\"type\":\"value\",\"value\":0.1},\"hatch_alpha\":{\"type\":\"value\",\"value\":0.1}}},\"muted_glyph\":{\"type\":\"object\",\"name\":\"Circle\",\"id\":\"p1927\",\"attributes\":{\"x\":{\"type\":\"field\",\"field\":\"Number of Edges\"},\"y\":{\"type\":\"field\",\"field\":\"Difference (Seconds)\"},\"line_color\":{\"type\":\"value\",\"value\":\"#1f77b4\"},\"line_alpha\":{\"type\":\"value\",\"value\":0.2},\"fill_color\":{\"type\":\"value\",\"value\":\"#1f77b4\"},\"fill_alpha\":{\"type\":\"value\",\"value\":0.2},\"hatch_alpha\":{\"type\":\"value\",\"value\":0.2}}}}}],\"toolbar\":{\"type\":\"object\",\"name\":\"Toolbar\",\"id\":\"p1895\",\"attributes\":{\"tools\":[{\"type\":\"object\",\"name\":\"PanTool\",\"id\":\"p1908\"},{\"type\":\"object\",\"name\":\"WheelZoomTool\",\"id\":\"p1909\",\"attributes\":{\"renderers\":\"auto\"}},{\"type\":\"object\",\"name\":\"BoxZoomTool\",\"id\":\"p1910\",\"attributes\":{\"overlay\":{\"type\":\"object\",\"name\":\"BoxAnnotation\",\"id\":\"p1911\",\"attributes\":{\"syncable\":false,\"level\":\"overlay\",\"visible\":false,\"left\":{\"type\":\"number\",\"value\":\"nan\"},\"right\":{\"type\":\"number\",\"value\":\"nan\"},\"top\":{\"type\":\"number\",\"value\":\"nan\"},\"bottom\":{\"type\":\"number\",\"value\":\"nan\"},\"left_units\":\"canvas\",\"right_units\":\"canvas\",\"top_units\":\"canvas\",\"bottom_units\":\"canvas\",\"line_color\":\"black\",\"line_alpha\":1.0,\"line_width\":2,\"line_dash\":[4,4],\"fill_color\":\"lightgrey\",\"fill_alpha\":0.5}}}},{\"type\":\"object\",\"name\":\"SaveTool\",\"id\":\"p1916\"},{\"type\":\"object\",\"name\":\"ResetTool\",\"id\":\"p1917\"},{\"type\":\"object\",\"name\":\"HelpTool\",\"id\":\"p1918\"}]}},\"left\":[{\"type\":\"object\",\"name\":\"LinearAxis\",\"id\":\"p1903\",\"attributes\":{\"ticker\":{\"type\":\"object\",\"name\":\"BasicTicker\",\"id\":\"p1904\",\"attributes\":{\"mantissas\":[1,2,5]}},\"formatter\":{\"type\":\"object\",\"name\":\"BasicTickFormatter\",\"id\":\"p1905\"},\"axis_label\":\"Difference (Seconds)\",\"major_label_policy\":{\"type\":\"object\",\"name\":\"AllLabels\",\"id\":\"p1906\"}}}],\"below\":[{\"type\":\"object\",\"name\":\"LinearAxis\",\"id\":\"p1898\",\"attributes\":{\"ticker\":{\"type\":\"object\",\"name\":\"BasicTicker\",\"id\":\"p1899\",\"attributes\":{\"mantissas\":[1,2,5]}},\"formatter\":{\"type\":\"object\",\"name\":\"BasicTickFormatter\",\"id\":\"p1900\"},\"axis_label\":\"Number of Edges\",\"major_label_policy\":{\"type\":\"object\",\"name\":\"AllLabels\",\"id\":\"p1901\"}}}],\"center\":[{\"type\":\"object\",\"name\":\"Grid\",\"id\":\"p1902\",\"attributes\":{\"axis\":{\"id\":\"p1898\"}}},{\"type\":\"object\",\"name\":\"Grid\",\"id\":\"p1907\",\"attributes\":{\"dimension\":1,\"axis\":{\"id\":\"p1903\"}}}]}}]}};\n",
       "  const render_items = [{\"docid\":\"10e6f360-b4e5-4a9d-852c-9c5304366375\",\"roots\":{\"p1887\":\"e0e02e3b-00f9-4bf7-bb34-597654498e88\"},\"root_ids\":[\"p1887\"]}];\n",
       "  root.Bokeh.embed.embed_items_notebook(docs_json, render_items);\n",
       "  }\n",
       "  if (root.Bokeh !== undefined) {\n",
       "    embed_document(root);\n",
       "  } else {\n",
       "    let attempts = 0;\n",
       "    const timer = setInterval(function(root) {\n",
       "      if (root.Bokeh !== undefined) {\n",
       "        clearInterval(timer);\n",
       "        embed_document(root);\n",
       "      } else {\n",
       "        attempts++;\n",
       "        if (attempts > 100) {\n",
       "          clearInterval(timer);\n",
       "          console.log(\"Bokeh: ERROR: Unable to run BokehJS code because BokehJS library is missing\");\n",
       "        }\n",
       "      }\n",
       "    }, 10, root)\n",
       "  }\n",
       "})(window);"
      ],
      "application/vnd.bokehjs_exec.v0+json": ""
     },
     "metadata": {
      "application/vnd.bokehjs_exec.v0+json": {
       "id": "p1887"
      }
     },
     "output_type": "display_data"
    }
   ],
   "source": [
    "x = \"Number of Edges\"\n",
    "y = \"Difference (Seconds)\"\n",
    "p = bokeh.plotting.figure(\n",
    "    width=400,\n",
    "    height=300,\n",
    "    x_axis_label=x,\n",
    "    y_axis_label=y,\n",
    ")\n",
    "p.circle(\n",
    "    source=diff,\n",
    "    x=x,\n",
    "    y=y,\n",
    ")\n",
    "bokeh.io.show(p)"
   ]
  },
  {
   "cell_type": "code",
   "execution_count": 51,
   "id": "7318a1fa-4820-4728-aba2-66317f2fe184",
   "metadata": {},
   "outputs": [],
   "source": [
    "effects = pd.read_csv('lessinformGraphRuntimes.csv')\n",
    "effects = effects.drop(['Average Runtime', 'Unnamed: 0', 'Data'], axis=1)\n",
    "effects = effects.rename({'# Edges': 'Number of Edges', 'Full Runtime': 'Runtime (Seconds)'}, axis=1)\n",
    "gnn = effects[effects['Explainer'] == 'GNN']\n",
    "gnn = gnn.rename({'Runtime (Seconds)': 'GNN Runtime (Seconds)'}, axis=1)\n",
    "gnn = gnn.drop(['Explainer'], axis=1)\n",
    "beta = effects[effects['Explainer'] == 'Beta']\n",
    "beta = beta.rename({'Runtime (Seconds)': 'Beta Runtime (Seconds)'}, axis=1)\n",
    "beta = beta.drop(['Explainer'], axis=1)\n",
    "diff = pd.merge(gnn, beta, how=\"right\", on=[\"# Epochs\",'Number of Edges'])\n",
    "diff['Difference (Seconds)'] = diff['Beta Runtime (Seconds)'] - diff['GNN Runtime (Seconds)']"
   ]
  },
  {
   "cell_type": "code",
   "execution_count": 53,
   "id": "71684283-89e6-4428-8d58-883acbc95922",
   "metadata": {
    "jupyter": {
     "source_hidden": true
    }
   },
   "outputs": [
    {
     "data": {
      "text/html": [
       "\n",
       "  <div id=\"b9152389-a659-4123-b551-d257d53334b3\" data-root-id=\"p1937\" style=\"display: contents;\"></div>\n"
      ]
     },
     "metadata": {},
     "output_type": "display_data"
    },
    {
     "data": {
      "application/javascript": [
       "(function(root) {\n",
       "  function embed_document(root) {\n",
       "  const docs_json = {\"2f058011-c422-4a38-b174-3f52baa11752\":{\"version\":\"3.3.4\",\"title\":\"Bokeh Application\",\"roots\":[{\"type\":\"object\",\"name\":\"Figure\",\"id\":\"p1937\",\"attributes\":{\"width\":400,\"height\":300,\"x_range\":{\"type\":\"object\",\"name\":\"DataRange1d\",\"id\":\"p1938\"},\"y_range\":{\"type\":\"object\",\"name\":\"DataRange1d\",\"id\":\"p1939\"},\"x_scale\":{\"type\":\"object\",\"name\":\"LinearScale\",\"id\":\"p1946\"},\"y_scale\":{\"type\":\"object\",\"name\":\"LinearScale\",\"id\":\"p1947\"},\"title\":{\"type\":\"object\",\"name\":\"Title\",\"id\":\"p1944\"},\"renderers\":[{\"type\":\"object\",\"name\":\"GlyphRenderer\",\"id\":\"p1978\",\"attributes\":{\"data_source\":{\"type\":\"object\",\"name\":\"ColumnDataSource\",\"id\":\"p1969\",\"attributes\":{\"selected\":{\"type\":\"object\",\"name\":\"Selection\",\"id\":\"p1970\",\"attributes\":{\"indices\":[],\"line_indices\":[]}},\"selection_policy\":{\"type\":\"object\",\"name\":\"UnionRenderers\",\"id\":\"p1971\"},\"data\":{\"type\":\"map\",\"entries\":[[\"index\",{\"type\":\"ndarray\",\"array\":{\"type\":\"bytes\",\"data\":\"AAAAAAIAAAAEAAAABgAAAAgAAAAKAAAADAAAAA4AAAAQAAAAEgAAABQAAAAWAAAAGAAAABoAAAAcAAAAHgAAACAAAAAiAAAAJAAAACYAAAAoAAAAKgAAACwAAAAuAAAAMAAAADIAAAA0AAAANgAAADgAAAA6AAAAPAAAAD4AAABAAAAAQgAAAEQAAABGAAAASAAAAEoAAABMAAAATgAAAFAAAABSAAAAVAAAAFYAAABYAAAAWgAAAFwAAABeAAAAYAAAAGIAAAA=\"},\"shape\":[50],\"dtype\":\"int32\",\"order\":\"little\"}],[\"Explainer\",{\"type\":\"ndarray\",\"array\":[\"Beta\",\"Beta\",\"Beta\",\"Beta\",\"Beta\",\"Beta\",\"Beta\",\"Beta\",\"Beta\",\"Beta\",\"Beta\",\"Beta\",\"Beta\",\"Beta\",\"Beta\",\"Beta\",\"Beta\",\"Beta\",\"Beta\",\"Beta\",\"Beta\",\"Beta\",\"Beta\",\"Beta\",\"Beta\",\"Beta\",\"Beta\",\"Beta\",\"Beta\",\"Beta\",\"Beta\",\"Beta\",\"Beta\",\"Beta\",\"Beta\",\"Beta\",\"Beta\",\"Beta\",\"Beta\",\"Beta\",\"Beta\",\"Beta\",\"Beta\",\"Beta\",\"Beta\",\"Beta\",\"Beta\",\"Beta\",\"Beta\",\"Beta\"],\"shape\":[50],\"dtype\":\"object\",\"order\":\"little\"}],[\"# Epochs\",{\"type\":\"ndarray\",\"array\":{\"type\":\"bytes\",\"data\":\"MgAAADIAAAAyAAAAMgAAADIAAAAyAAAAMgAAADIAAAAyAAAAMgAAADIAAAAyAAAAMgAAADIAAAAyAAAAMgAAADIAAAAyAAAAMgAAADIAAAAyAAAAMgAAADIAAAAyAAAAMgAAADIAAAAyAAAAMgAAADIAAAAyAAAAMgAAADIAAAAyAAAAMgAAADIAAAAyAAAAMgAAADIAAAAyAAAAMgAAADIAAAAyAAAAMgAAADIAAAAyAAAAMgAAADIAAAAyAAAAMgAAADIAAAA=\"},\"shape\":[50],\"dtype\":\"int32\",\"order\":\"little\"}],[\"Runtime (Seconds)\",{\"type\":\"ndarray\",\"array\":{\"type\":\"bytes\",\"data\":\"AAAAcA0cNkAAAABQy+8eQAAAAABqqR5AAAAAiPyjJEAAAADgJigtQAAAACAGtyRA////J37eJUAAAAC4+VkhQAAAABClHB1AAAAASK89IUD///93wq0iQAEAAEBj4yJAAAAAVOsiMUAAAABYh/cvQP///8eWXi5A////x1vCI0AAAAAgcKwtQAAAAEjmCCdAAQAASMz8KUD///+fFLUdQAAAAAwvIDFAAAAA6JOKK0D////fvUMjQAAAAFQ8EzBAAAAAoJqvMUABAADkOjUzQAAAAHhmCCxAAQAAeCXkJkAAAADA+PIUQAAAAKDljxRAAAAA8DskEEAAAACwdW4UQAAAAGDk9xNAAAAAoDl4FEAAAABQ/eQTQP///8/VKRVAAAAAoHimE0AAAABwHGsTQAEAAKBUVxVAAAAA8BzKFEAAAACwZXMTQAAAAMBVaBZAAAAAwPtYFUAAAADA7uMVQAAAABBniRVAAAAAIDN6FUAAAAAwSzgVQAAAAOCTfxRAAAAAwFmsFEAAAADgwSQWQA==\"},\"shape\":[50],\"dtype\":\"float64\",\"order\":\"little\"}],[\"Number of Edges\",{\"type\":\"ndarray\",\"array\":{\"type\":\"bytes\",\"data\":\"ZAAAAMgAAAAsAQAAkAEAAPQBAABYAgAAvAIAACADAACEAwAA6AMAAEwEAACwBAAAFAUAAHgFAADcBQAAQAYAAKQGAAAIBwAAbAcAANAHAAA0CAAAmAgAAPwIAABgCQAAxAkAACgKAACMCgAA8AoAAFQLAAC4CwAAHAwAAIAMAADkDAAASA0AAKwNAAAQDgAAdA4AANgOAAA8DwAAoA8AAAQQAABoEAAAzBAAADARAACUEQAA+BEAAFwSAADAEgAAJBMAAIgTAAA=\"},\"shape\":[50],\"dtype\":\"int32\",\"order\":\"little\"}]]}}},\"view\":{\"type\":\"object\",\"name\":\"CDSView\",\"id\":\"p1979\",\"attributes\":{\"filter\":{\"type\":\"object\",\"name\":\"AllIndices\",\"id\":\"p1980\"}}},\"glyph\":{\"type\":\"object\",\"name\":\"Circle\",\"id\":\"p1975\",\"attributes\":{\"x\":{\"type\":\"field\",\"field\":\"Number of Edges\"},\"y\":{\"type\":\"field\",\"field\":\"Runtime (Seconds)\"},\"line_color\":{\"type\":\"value\",\"value\":\"#1f77b4\"},\"fill_color\":{\"type\":\"value\",\"value\":\"#1f77b4\"}}},\"nonselection_glyph\":{\"type\":\"object\",\"name\":\"Circle\",\"id\":\"p1976\",\"attributes\":{\"x\":{\"type\":\"field\",\"field\":\"Number of Edges\"},\"y\":{\"type\":\"field\",\"field\":\"Runtime (Seconds)\"},\"line_color\":{\"type\":\"value\",\"value\":\"#1f77b4\"},\"line_alpha\":{\"type\":\"value\",\"value\":0.1},\"fill_color\":{\"type\":\"value\",\"value\":\"#1f77b4\"},\"fill_alpha\":{\"type\":\"value\",\"value\":0.1},\"hatch_alpha\":{\"type\":\"value\",\"value\":0.1}}},\"muted_glyph\":{\"type\":\"object\",\"name\":\"Circle\",\"id\":\"p1977\",\"attributes\":{\"x\":{\"type\":\"field\",\"field\":\"Number of Edges\"},\"y\":{\"type\":\"field\",\"field\":\"Runtime (Seconds)\"},\"line_color\":{\"type\":\"value\",\"value\":\"#1f77b4\"},\"line_alpha\":{\"type\":\"value\",\"value\":0.2},\"fill_color\":{\"type\":\"value\",\"value\":\"#1f77b4\"},\"fill_alpha\":{\"type\":\"value\",\"value\":0.2},\"hatch_alpha\":{\"type\":\"value\",\"value\":0.2}}}}},{\"type\":\"object\",\"name\":\"GlyphRenderer\",\"id\":\"p1992\",\"attributes\":{\"data_source\":{\"type\":\"object\",\"name\":\"ColumnDataSource\",\"id\":\"p1983\",\"attributes\":{\"selected\":{\"type\":\"object\",\"name\":\"Selection\",\"id\":\"p1984\",\"attributes\":{\"indices\":[],\"line_indices\":[]}},\"selection_policy\":{\"type\":\"object\",\"name\":\"UnionRenderers\",\"id\":\"p1985\"},\"data\":{\"type\":\"map\",\"entries\":[[\"index\",{\"type\":\"ndarray\",\"array\":{\"type\":\"bytes\",\"data\":\"AQAAAAMAAAAFAAAABwAAAAkAAAALAAAADQAAAA8AAAARAAAAEwAAABUAAAAXAAAAGQAAABsAAAAdAAAAHwAAACEAAAAjAAAAJQAAACcAAAApAAAAKwAAAC0AAAAvAAAAMQAAADMAAAA1AAAANwAAADkAAAA7AAAAPQAAAD8AAABBAAAAQwAAAEUAAABHAAAASQAAAEsAAABNAAAATwAAAFEAAABTAAAAVQAAAFcAAABZAAAAWwAAAF0AAABfAAAAYQAAAGMAAAA=\"},\"shape\":[50],\"dtype\":\"int32\",\"order\":\"little\"}],[\"Explainer\",{\"type\":\"ndarray\",\"array\":[\"GNN\",\"GNN\",\"GNN\",\"GNN\",\"GNN\",\"GNN\",\"GNN\",\"GNN\",\"GNN\",\"GNN\",\"GNN\",\"GNN\",\"GNN\",\"GNN\",\"GNN\",\"GNN\",\"GNN\",\"GNN\",\"GNN\",\"GNN\",\"GNN\",\"GNN\",\"GNN\",\"GNN\",\"GNN\",\"GNN\",\"GNN\",\"GNN\",\"GNN\",\"GNN\",\"GNN\",\"GNN\",\"GNN\",\"GNN\",\"GNN\",\"GNN\",\"GNN\",\"GNN\",\"GNN\",\"GNN\",\"GNN\",\"GNN\",\"GNN\",\"GNN\",\"GNN\",\"GNN\",\"GNN\",\"GNN\",\"GNN\",\"GNN\"],\"shape\":[50],\"dtype\":\"object\",\"order\":\"little\"}],[\"# Epochs\",{\"type\":\"ndarray\",\"array\":{\"type\":\"bytes\",\"data\":\"MgAAADIAAAAyAAAAMgAAADIAAAAyAAAAMgAAADIAAAAyAAAAMgAAADIAAAAyAAAAMgAAADIAAAAyAAAAMgAAADIAAAAyAAAAMgAAADIAAAAyAAAAMgAAADIAAAAyAAAAMgAAADIAAAAyAAAAMgAAADIAAAAyAAAAMgAAADIAAAAyAAAAMgAAADIAAAAyAAAAMgAAADIAAAAyAAAAMgAAADIAAAAyAAAAMgAAADIAAAAyAAAAMgAAADIAAAAyAAAAMgAAADIAAAA=\"},\"shape\":[50],\"dtype\":\"int32\",\"order\":\"little\"}],[\"Runtime (Seconds)\",{\"type\":\"ndarray\",\"array\":{\"type\":\"bytes\",\"data\":\"AAAAAJgT+j8AAAAAr0TjPwAAAAAhnfA/AAAAgExz5D8AAACAH7T9PwAAAIBsBfg/AAAAgCE/9j8AAACA6an3PwAAAIBYK/E/AQAAQLlp/D8AAABAaND0PwEAAIDN1/E/AAAAQGei+z8BAACAiLv5PwEAAED8i/o/AAAAwPMK8z8AAADACAT4PwAAAAABE/U/AAAAANhj5D8AAAAAIAPyPwAAAMDB5PI/AAAAwAXsAEAAAACAj+P1PwAAAMCtLfo/AAAAwMyJDEAAAAAABlz1PwAAAIDrjfk/////fzan9D8AAAAAhtXrPwAAAABfWek/AAAAgB8k5z8AAACAJirqPwAAAIDQ5ug/AAAAAIGS7D8AAACACYXoPwAAAICNQeo/AAAAAMvf7j8AAACAHn/sPwAAAICQNPA/AAAAAHGZ7D8AAAAAAM7pPwAAAMCNjfA/AAAAgHHl7j8AAACAHYLqPwAAAIDDkvA/AAAAANlt8D8AAABAwhv1PwAAAIAlh/A/AAAAQM6f8T8AAADATLnxPw==\"},\"shape\":[50],\"dtype\":\"float64\",\"order\":\"little\"}],[\"Number of Edges\",{\"type\":\"ndarray\",\"array\":{\"type\":\"bytes\",\"data\":\"ZAAAAMgAAAAsAQAAkAEAAPQBAABYAgAAvAIAACADAACEAwAA6AMAAEwEAACwBAAAFAUAAHgFAADcBQAAQAYAAKQGAAAIBwAAbAcAANAHAAA0CAAAmAgAAPwIAABgCQAAxAkAACgKAACMCgAA8AoAAFQLAAC4CwAAHAwAAIAMAADkDAAASA0AAKwNAAAQDgAAdA4AANgOAAA8DwAAoA8AAAQQAABoEAAAzBAAADARAACUEQAA+BEAAFwSAADAEgAAJBMAAIgTAAA=\"},\"shape\":[50],\"dtype\":\"int32\",\"order\":\"little\"}]]}}},\"view\":{\"type\":\"object\",\"name\":\"CDSView\",\"id\":\"p1993\",\"attributes\":{\"filter\":{\"type\":\"object\",\"name\":\"AllIndices\",\"id\":\"p1994\"}}},\"glyph\":{\"type\":\"object\",\"name\":\"Circle\",\"id\":\"p1989\",\"attributes\":{\"x\":{\"type\":\"field\",\"field\":\"Number of Edges\"},\"y\":{\"type\":\"field\",\"field\":\"Runtime (Seconds)\"},\"line_color\":{\"type\":\"value\",\"value\":\"orange\"},\"fill_color\":{\"type\":\"value\",\"value\":\"orange\"},\"hatch_color\":{\"type\":\"value\",\"value\":\"orange\"}}},\"nonselection_glyph\":{\"type\":\"object\",\"name\":\"Circle\",\"id\":\"p1990\",\"attributes\":{\"x\":{\"type\":\"field\",\"field\":\"Number of Edges\"},\"y\":{\"type\":\"field\",\"field\":\"Runtime (Seconds)\"},\"line_color\":{\"type\":\"value\",\"value\":\"orange\"},\"line_alpha\":{\"type\":\"value\",\"value\":0.1},\"fill_color\":{\"type\":\"value\",\"value\":\"orange\"},\"fill_alpha\":{\"type\":\"value\",\"value\":0.1},\"hatch_color\":{\"type\":\"value\",\"value\":\"orange\"},\"hatch_alpha\":{\"type\":\"value\",\"value\":0.1}}},\"muted_glyph\":{\"type\":\"object\",\"name\":\"Circle\",\"id\":\"p1991\",\"attributes\":{\"x\":{\"type\":\"field\",\"field\":\"Number of Edges\"},\"y\":{\"type\":\"field\",\"field\":\"Runtime (Seconds)\"},\"line_color\":{\"type\":\"value\",\"value\":\"orange\"},\"line_alpha\":{\"type\":\"value\",\"value\":0.2},\"fill_color\":{\"type\":\"value\",\"value\":\"orange\"},\"fill_alpha\":{\"type\":\"value\",\"value\":0.2},\"hatch_color\":{\"type\":\"value\",\"value\":\"orange\"},\"hatch_alpha\":{\"type\":\"value\",\"value\":0.2}}}}}],\"toolbar\":{\"type\":\"object\",\"name\":\"Toolbar\",\"id\":\"p1945\",\"attributes\":{\"tools\":[{\"type\":\"object\",\"name\":\"PanTool\",\"id\":\"p1958\"},{\"type\":\"object\",\"name\":\"WheelZoomTool\",\"id\":\"p1959\",\"attributes\":{\"renderers\":\"auto\"}},{\"type\":\"object\",\"name\":\"BoxZoomTool\",\"id\":\"p1960\",\"attributes\":{\"overlay\":{\"type\":\"object\",\"name\":\"BoxAnnotation\",\"id\":\"p1961\",\"attributes\":{\"syncable\":false,\"level\":\"overlay\",\"visible\":false,\"left\":{\"type\":\"number\",\"value\":\"nan\"},\"right\":{\"type\":\"number\",\"value\":\"nan\"},\"top\":{\"type\":\"number\",\"value\":\"nan\"},\"bottom\":{\"type\":\"number\",\"value\":\"nan\"},\"left_units\":\"canvas\",\"right_units\":\"canvas\",\"top_units\":\"canvas\",\"bottom_units\":\"canvas\",\"line_color\":\"black\",\"line_alpha\":1.0,\"line_width\":2,\"line_dash\":[4,4],\"fill_color\":\"lightgrey\",\"fill_alpha\":0.5}}}},{\"type\":\"object\",\"name\":\"SaveTool\",\"id\":\"p1966\"},{\"type\":\"object\",\"name\":\"ResetTool\",\"id\":\"p1967\"},{\"type\":\"object\",\"name\":\"HelpTool\",\"id\":\"p1968\"}]}},\"left\":[{\"type\":\"object\",\"name\":\"LinearAxis\",\"id\":\"p1953\",\"attributes\":{\"ticker\":{\"type\":\"object\",\"name\":\"BasicTicker\",\"id\":\"p1954\",\"attributes\":{\"mantissas\":[1,2,5]}},\"formatter\":{\"type\":\"object\",\"name\":\"BasicTickFormatter\",\"id\":\"p1955\"},\"axis_label\":\"Runtime (Seconds)\",\"major_label_policy\":{\"type\":\"object\",\"name\":\"AllLabels\",\"id\":\"p1956\"}}}],\"below\":[{\"type\":\"object\",\"name\":\"LinearAxis\",\"id\":\"p1948\",\"attributes\":{\"ticker\":{\"type\":\"object\",\"name\":\"BasicTicker\",\"id\":\"p1949\",\"attributes\":{\"mantissas\":[1,2,5]}},\"formatter\":{\"type\":\"object\",\"name\":\"BasicTickFormatter\",\"id\":\"p1950\"},\"axis_label\":\"Number of Edges\",\"major_label_policy\":{\"type\":\"object\",\"name\":\"AllLabels\",\"id\":\"p1951\"}}}],\"center\":[{\"type\":\"object\",\"name\":\"Grid\",\"id\":\"p1952\",\"attributes\":{\"axis\":{\"id\":\"p1948\"}}},{\"type\":\"object\",\"name\":\"Grid\",\"id\":\"p1957\",\"attributes\":{\"dimension\":1,\"axis\":{\"id\":\"p1953\"}}},{\"type\":\"object\",\"name\":\"Legend\",\"id\":\"p1981\",\"attributes\":{\"location\":\"top_left\",\"items\":[{\"type\":\"object\",\"name\":\"LegendItem\",\"id\":\"p1982\",\"attributes\":{\"label\":{\"type\":\"value\",\"value\":\"Beta\"},\"renderers\":[{\"id\":\"p1978\"}]}},{\"type\":\"object\",\"name\":\"LegendItem\",\"id\":\"p1995\",\"attributes\":{\"label\":{\"type\":\"value\",\"value\":\"GNN\"},\"renderers\":[{\"id\":\"p1992\"}]}}]}}]}}]}};\n",
       "  const render_items = [{\"docid\":\"2f058011-c422-4a38-b174-3f52baa11752\",\"roots\":{\"p1937\":\"b9152389-a659-4123-b551-d257d53334b3\"},\"root_ids\":[\"p1937\"]}];\n",
       "  root.Bokeh.embed.embed_items_notebook(docs_json, render_items);\n",
       "  }\n",
       "  if (root.Bokeh !== undefined) {\n",
       "    embed_document(root);\n",
       "  } else {\n",
       "    let attempts = 0;\n",
       "    const timer = setInterval(function(root) {\n",
       "      if (root.Bokeh !== undefined) {\n",
       "        clearInterval(timer);\n",
       "        embed_document(root);\n",
       "      } else {\n",
       "        attempts++;\n",
       "        if (attempts > 100) {\n",
       "          clearInterval(timer);\n",
       "          console.log(\"Bokeh: ERROR: Unable to run BokehJS code because BokehJS library is missing\");\n",
       "        }\n",
       "      }\n",
       "    }, 10, root)\n",
       "  }\n",
       "})(window);"
      ],
      "application/vnd.bokehjs_exec.v0+json": ""
     },
     "metadata": {
      "application/vnd.bokehjs_exec.v0+json": {
       "id": "p1937"
      }
     },
     "output_type": "display_data"
    }
   ],
   "source": [
    "x = \"Number of Edges\"\n",
    "y = \"Runtime (Seconds)\"\n",
    "p = bokeh.plotting.figure(\n",
    "    width=400,\n",
    "    height=300,\n",
    "    x_axis_label=x,\n",
    "    y_axis_label=y,\n",
    ")\n",
    "p.circle(\n",
    "    source=effects[effects['Explainer'] == 'Beta'],\n",
    "    x=x,\n",
    "    y=y,\n",
    "    legend_label=\"Beta\",\n",
    ")\n",
    "p.circle(\n",
    "    source=effects[effects['Explainer'] == 'GNN'],\n",
    "    x=x,\n",
    "    y=y,\n",
    "    legend_label=\"GNN\",\n",
    "    color='orange'\n",
    ")\n",
    "p.legend.location = \"top_left\"\n",
    "bokeh.io.show(p)"
   ]
  },
  {
   "cell_type": "code",
   "execution_count": 55,
   "id": "b3250611-1fc3-4c91-96a0-5efebf19dfcc",
   "metadata": {
    "jupyter": {
     "source_hidden": true
    }
   },
   "outputs": [
    {
     "data": {
      "text/html": [
       "\n",
       "  <div id=\"f35748ea-320a-45b5-9f8b-4a3f31ad176e\" data-root-id=\"p2004\" style=\"display: contents;\"></div>\n"
      ]
     },
     "metadata": {},
     "output_type": "display_data"
    },
    {
     "data": {
      "application/javascript": [
       "(function(root) {\n",
       "  function embed_document(root) {\n",
       "  const docs_json = {\"fc4bdb1d-8442-4acd-83d1-cae3268dae7b\":{\"version\":\"3.3.4\",\"title\":\"Bokeh Application\",\"roots\":[{\"type\":\"object\",\"name\":\"Figure\",\"id\":\"p2004\",\"attributes\":{\"width\":400,\"height\":300,\"x_range\":{\"type\":\"object\",\"name\":\"DataRange1d\",\"id\":\"p2005\"},\"y_range\":{\"type\":\"object\",\"name\":\"DataRange1d\",\"id\":\"p2006\"},\"x_scale\":{\"type\":\"object\",\"name\":\"LinearScale\",\"id\":\"p2013\"},\"y_scale\":{\"type\":\"object\",\"name\":\"LinearScale\",\"id\":\"p2014\"},\"title\":{\"type\":\"object\",\"name\":\"Title\",\"id\":\"p2011\"},\"renderers\":[{\"type\":\"object\",\"name\":\"GlyphRenderer\",\"id\":\"p2045\",\"attributes\":{\"data_source\":{\"type\":\"object\",\"name\":\"ColumnDataSource\",\"id\":\"p2036\",\"attributes\":{\"selected\":{\"type\":\"object\",\"name\":\"Selection\",\"id\":\"p2037\",\"attributes\":{\"indices\":[],\"line_indices\":[]}},\"selection_policy\":{\"type\":\"object\",\"name\":\"UnionRenderers\",\"id\":\"p2038\"},\"data\":{\"type\":\"map\",\"entries\":[[\"index\",{\"type\":\"ndarray\",\"array\":{\"type\":\"bytes\",\"data\":\"AAAAAAEAAAACAAAAAwAAAAQAAAAFAAAABgAAAAcAAAAIAAAACQAAAAoAAAALAAAADAAAAA0AAAAOAAAADwAAABAAAAARAAAAEgAAABMAAAAUAAAAFQAAABYAAAAXAAAAGAAAABkAAAAaAAAAGwAAABwAAAAdAAAAHgAAAB8AAAAgAAAAIQAAACIAAAAjAAAAJAAAACUAAAAmAAAAJwAAACgAAAApAAAAKgAAACsAAAAsAAAALQAAAC4AAAAvAAAAMAAAADEAAAA=\"},\"shape\":[50],\"dtype\":\"int32\",\"order\":\"little\"}],[\"# Epochs\",{\"type\":\"ndarray\",\"array\":{\"type\":\"bytes\",\"data\":\"MgAAADIAAAAyAAAAMgAAADIAAAAyAAAAMgAAADIAAAAyAAAAMgAAADIAAAAyAAAAMgAAADIAAAAyAAAAMgAAADIAAAAyAAAAMgAAADIAAAAyAAAAMgAAADIAAAAyAAAAMgAAADIAAAAyAAAAMgAAADIAAAAyAAAAMgAAADIAAAAyAAAAMgAAADIAAAAyAAAAMgAAADIAAAAyAAAAMgAAADIAAAAyAAAAMgAAADIAAAAyAAAAMgAAADIAAAAyAAAAMgAAADIAAAA=\"},\"shape\":[50],\"dtype\":\"int32\",\"order\":\"little\"}],[\"GNN Runtime (Seconds)\",{\"type\":\"ndarray\",\"array\":{\"type\":\"bytes\",\"data\":\"AAAAAJgT+j8AAAAAr0TjPwAAAAAhnfA/AAAAgExz5D8AAACAH7T9PwAAAIBsBfg/AAAAgCE/9j8AAACA6an3PwAAAIBYK/E/AQAAQLlp/D8AAABAaND0PwEAAIDN1/E/AAAAQGei+z8BAACAiLv5PwEAAED8i/o/AAAAwPMK8z8AAADACAT4PwAAAAABE/U/AAAAANhj5D8AAAAAIAPyPwAAAMDB5PI/AAAAwAXsAEAAAACAj+P1PwAAAMCtLfo/AAAAwMyJDEAAAAAABlz1PwAAAIDrjfk/////fzan9D8AAAAAhtXrPwAAAABfWek/AAAAgB8k5z8AAACAJirqPwAAAIDQ5ug/AAAAAIGS7D8AAACACYXoPwAAAICNQeo/AAAAAMvf7j8AAACAHn/sPwAAAICQNPA/AAAAAHGZ7D8AAAAAAM7pPwAAAMCNjfA/AAAAgHHl7j8AAACAHYLqPwAAAIDDkvA/AAAAANlt8D8AAABAwhv1PwAAAIAlh/A/AAAAQM6f8T8AAADATLnxPw==\"},\"shape\":[50],\"dtype\":\"float64\",\"order\":\"little\"}],[\"Number of Edges\",{\"type\":\"ndarray\",\"array\":{\"type\":\"bytes\",\"data\":\"ZAAAAMgAAAAsAQAAkAEAAPQBAABYAgAAvAIAACADAACEAwAA6AMAAEwEAACwBAAAFAUAAHgFAADcBQAAQAYAAKQGAAAIBwAAbAcAANAHAAA0CAAAmAgAAPwIAABgCQAAxAkAACgKAACMCgAA8AoAAFQLAAC4CwAAHAwAAIAMAADkDAAASA0AAKwNAAAQDgAAdA4AANgOAAA8DwAAoA8AAAQQAABoEAAAzBAAADARAACUEQAA+BEAAFwSAADAEgAAJBMAAIgTAAA=\"},\"shape\":[50],\"dtype\":\"int32\",\"order\":\"little\"}],[\"Beta Runtime (Seconds)\",{\"type\":\"ndarray\",\"array\":{\"type\":\"bytes\",\"data\":\"AAAAcA0cNkAAAABQy+8eQAAAAABqqR5AAAAAiPyjJEAAAADgJigtQAAAACAGtyRA////J37eJUAAAAC4+VkhQAAAABClHB1AAAAASK89IUD///93wq0iQAEAAEBj4yJAAAAAVOsiMUAAAABYh/cvQP///8eWXi5A////x1vCI0AAAAAgcKwtQAAAAEjmCCdAAQAASMz8KUD///+fFLUdQAAAAAwvIDFAAAAA6JOKK0D////fvUMjQAAAAFQ8EzBAAAAAoJqvMUABAADkOjUzQAAAAHhmCCxAAQAAeCXkJkAAAADA+PIUQAAAAKDljxRAAAAA8DskEEAAAACwdW4UQAAAAGDk9xNAAAAAoDl4FEAAAABQ/eQTQP///8/VKRVAAAAAoHimE0AAAABwHGsTQAEAAKBUVxVAAAAA8BzKFEAAAACwZXMTQAAAAMBVaBZAAAAAwPtYFUAAAADA7uMVQAAAABBniRVAAAAAIDN6FUAAAAAwSzgVQAAAAOCTfxRAAAAAwFmsFEAAAADgwSQWQA==\"},\"shape\":[50],\"dtype\":\"float64\",\"order\":\"little\"}],[\"Difference (Seconds)\",{\"type\":\"ndarray\",\"array\":{\"type\":\"bytes\",\"data\":\"AAAA8NN6NEAAAABwNYccQAAAAMAhghpAAAAAwMdcI0AAAADwonEpQAAAAJBYtiFA////95kWI0AAAAAQeckcQAAAAPDO0RhAAAAAQPBgG0D///9vtRMgQAEAAJBpqCBAAAAAwInRLkAAAABIFsAsQP///z8XDStA////T/1gIUAAAAAI76sqQAAAACiGZiRAAQAAyI62KED///+fTDQZQAAAAODF4y9AAAAAeJJPJ0D////vS4cgQAAAAPDC4CxAAAAAEMI8LEABAACEet8xQAAAAAip1ihAAQAAqD5PJEAAAAAASHgRQAAAAMC5ZBFAAAAAAHB/CkAAAADgMCkRQAAAAFAK2xBAAAAAgOnlEEAAAAAgXNQQQP///x+k4RFAAAAAgP6UD0AAAABAcbYPQAEAAIAwShFAAAAA0O42EUAAAACwpTkQQAAAAFDyRBJAAAAAkE18EUAAAAAQq5MSQAAAADC2ZBFAAAAA4LxeEUAAAABAteIPQAAAAIDKXRBAAAAAMGZEEEAAAACwbrYRQA==\"},\"shape\":[50],\"dtype\":\"float64\",\"order\":\"little\"}]]}}},\"view\":{\"type\":\"object\",\"name\":\"CDSView\",\"id\":\"p2046\",\"attributes\":{\"filter\":{\"type\":\"object\",\"name\":\"AllIndices\",\"id\":\"p2047\"}}},\"glyph\":{\"type\":\"object\",\"name\":\"Circle\",\"id\":\"p2042\",\"attributes\":{\"x\":{\"type\":\"field\",\"field\":\"Number of Edges\"},\"y\":{\"type\":\"field\",\"field\":\"Difference (Seconds)\"},\"line_color\":{\"type\":\"value\",\"value\":\"#1f77b4\"},\"fill_color\":{\"type\":\"value\",\"value\":\"#1f77b4\"}}},\"nonselection_glyph\":{\"type\":\"object\",\"name\":\"Circle\",\"id\":\"p2043\",\"attributes\":{\"x\":{\"type\":\"field\",\"field\":\"Number of Edges\"},\"y\":{\"type\":\"field\",\"field\":\"Difference (Seconds)\"},\"line_color\":{\"type\":\"value\",\"value\":\"#1f77b4\"},\"line_alpha\":{\"type\":\"value\",\"value\":0.1},\"fill_color\":{\"type\":\"value\",\"value\":\"#1f77b4\"},\"fill_alpha\":{\"type\":\"value\",\"value\":0.1},\"hatch_alpha\":{\"type\":\"value\",\"value\":0.1}}},\"muted_glyph\":{\"type\":\"object\",\"name\":\"Circle\",\"id\":\"p2044\",\"attributes\":{\"x\":{\"type\":\"field\",\"field\":\"Number of Edges\"},\"y\":{\"type\":\"field\",\"field\":\"Difference (Seconds)\"},\"line_color\":{\"type\":\"value\",\"value\":\"#1f77b4\"},\"line_alpha\":{\"type\":\"value\",\"value\":0.2},\"fill_color\":{\"type\":\"value\",\"value\":\"#1f77b4\"},\"fill_alpha\":{\"type\":\"value\",\"value\":0.2},\"hatch_alpha\":{\"type\":\"value\",\"value\":0.2}}}}}],\"toolbar\":{\"type\":\"object\",\"name\":\"Toolbar\",\"id\":\"p2012\",\"attributes\":{\"tools\":[{\"type\":\"object\",\"name\":\"PanTool\",\"id\":\"p2025\"},{\"type\":\"object\",\"name\":\"WheelZoomTool\",\"id\":\"p2026\",\"attributes\":{\"renderers\":\"auto\"}},{\"type\":\"object\",\"name\":\"BoxZoomTool\",\"id\":\"p2027\",\"attributes\":{\"overlay\":{\"type\":\"object\",\"name\":\"BoxAnnotation\",\"id\":\"p2028\",\"attributes\":{\"syncable\":false,\"level\":\"overlay\",\"visible\":false,\"left\":{\"type\":\"number\",\"value\":\"nan\"},\"right\":{\"type\":\"number\",\"value\":\"nan\"},\"top\":{\"type\":\"number\",\"value\":\"nan\"},\"bottom\":{\"type\":\"number\",\"value\":\"nan\"},\"left_units\":\"canvas\",\"right_units\":\"canvas\",\"top_units\":\"canvas\",\"bottom_units\":\"canvas\",\"line_color\":\"black\",\"line_alpha\":1.0,\"line_width\":2,\"line_dash\":[4,4],\"fill_color\":\"lightgrey\",\"fill_alpha\":0.5}}}},{\"type\":\"object\",\"name\":\"SaveTool\",\"id\":\"p2033\"},{\"type\":\"object\",\"name\":\"ResetTool\",\"id\":\"p2034\"},{\"type\":\"object\",\"name\":\"HelpTool\",\"id\":\"p2035\"}]}},\"left\":[{\"type\":\"object\",\"name\":\"LinearAxis\",\"id\":\"p2020\",\"attributes\":{\"ticker\":{\"type\":\"object\",\"name\":\"BasicTicker\",\"id\":\"p2021\",\"attributes\":{\"mantissas\":[1,2,5]}},\"formatter\":{\"type\":\"object\",\"name\":\"BasicTickFormatter\",\"id\":\"p2022\"},\"axis_label\":\"Difference (Seconds)\",\"major_label_policy\":{\"type\":\"object\",\"name\":\"AllLabels\",\"id\":\"p2023\"}}}],\"below\":[{\"type\":\"object\",\"name\":\"LinearAxis\",\"id\":\"p2015\",\"attributes\":{\"ticker\":{\"type\":\"object\",\"name\":\"BasicTicker\",\"id\":\"p2016\",\"attributes\":{\"mantissas\":[1,2,5]}},\"formatter\":{\"type\":\"object\",\"name\":\"BasicTickFormatter\",\"id\":\"p2017\"},\"axis_label\":\"Number of Edges\",\"major_label_policy\":{\"type\":\"object\",\"name\":\"AllLabels\",\"id\":\"p2018\"}}}],\"center\":[{\"type\":\"object\",\"name\":\"Grid\",\"id\":\"p2019\",\"attributes\":{\"axis\":{\"id\":\"p2015\"}}},{\"type\":\"object\",\"name\":\"Grid\",\"id\":\"p2024\",\"attributes\":{\"dimension\":1,\"axis\":{\"id\":\"p2020\"}}}]}}]}};\n",
       "  const render_items = [{\"docid\":\"fc4bdb1d-8442-4acd-83d1-cae3268dae7b\",\"roots\":{\"p2004\":\"f35748ea-320a-45b5-9f8b-4a3f31ad176e\"},\"root_ids\":[\"p2004\"]}];\n",
       "  root.Bokeh.embed.embed_items_notebook(docs_json, render_items);\n",
       "  }\n",
       "  if (root.Bokeh !== undefined) {\n",
       "    embed_document(root);\n",
       "  } else {\n",
       "    let attempts = 0;\n",
       "    const timer = setInterval(function(root) {\n",
       "      if (root.Bokeh !== undefined) {\n",
       "        clearInterval(timer);\n",
       "        embed_document(root);\n",
       "      } else {\n",
       "        attempts++;\n",
       "        if (attempts > 100) {\n",
       "          clearInterval(timer);\n",
       "          console.log(\"Bokeh: ERROR: Unable to run BokehJS code because BokehJS library is missing\");\n",
       "        }\n",
       "      }\n",
       "    }, 10, root)\n",
       "  }\n",
       "})(window);"
      ],
      "application/vnd.bokehjs_exec.v0+json": ""
     },
     "metadata": {
      "application/vnd.bokehjs_exec.v0+json": {
       "id": "p2004"
      }
     },
     "output_type": "display_data"
    }
   ],
   "source": [
    "x = \"Number of Edges\"\n",
    "y = \"Difference (Seconds)\"\n",
    "p = bokeh.plotting.figure(\n",
    "    width=400,\n",
    "    height=300,\n",
    "    x_axis_label=x,\n",
    "    y_axis_label=y,\n",
    ")\n",
    "p.circle(\n",
    "    source=diff,\n",
    "    x=x,\n",
    "    y=y,\n",
    ")\n",
    "bokeh.io.show(p)"
   ]
  },
  {
   "cell_type": "code",
   "execution_count": 57,
   "id": "fa74c785-c973-4c73-9da8-d0e98cd641d0",
   "metadata": {},
   "outputs": [],
   "source": [
    "effects = pd.read_csv('SERGIO25GraphRuntimes.csv')\n",
    "effects = effects.drop(['Average Runtime', 'Unnamed: 0', 'Data'], axis=1)\n",
    "effects = effects.rename({'# Edges': 'Number of Edges', 'Full Runtime': 'Runtime (Seconds)'}, axis=1)\n",
    "gnn = effects[effects['Explainer'] == 'GNN']\n",
    "gnn = gnn.rename({'Runtime (Seconds)': 'GNN Runtime (Seconds)'}, axis=1)\n",
    "gnn = gnn.drop(['Explainer'], axis=1)\n",
    "beta = effects[effects['Explainer'] == 'Beta']\n",
    "beta = beta.rename({'Runtime (Seconds)': 'Beta Runtime (Seconds)'}, axis=1)\n",
    "beta = beta.drop(['Explainer'], axis=1)\n",
    "diff = pd.merge(gnn, beta, how=\"right\", on=[\"# Epochs\",'Number of Edges'])\n",
    "diff['Difference (Seconds)'] = diff['Beta Runtime (Seconds)'] - diff['GNN Runtime (Seconds)']"
   ]
  },
  {
   "cell_type": "code",
   "execution_count": 59,
   "id": "3246fac3-576e-4020-b239-a7d65d22f6f3",
   "metadata": {
    "jupyter": {
     "source_hidden": true
    }
   },
   "outputs": [
    {
     "data": {
      "text/html": [
       "\n",
       "  <div id=\"ef6f6ded-1614-4b84-8b7f-9853dccebfe6\" data-root-id=\"p2054\" style=\"display: contents;\"></div>\n"
      ]
     },
     "metadata": {},
     "output_type": "display_data"
    },
    {
     "data": {
      "application/javascript": [
       "(function(root) {\n",
       "  function embed_document(root) {\n",
       "  const docs_json = {\"c63ff81e-7ca1-4d00-8810-11291d49e6b7\":{\"version\":\"3.3.4\",\"title\":\"Bokeh Application\",\"roots\":[{\"type\":\"object\",\"name\":\"Figure\",\"id\":\"p2054\",\"attributes\":{\"width\":400,\"height\":300,\"x_range\":{\"type\":\"object\",\"name\":\"DataRange1d\",\"id\":\"p2055\"},\"y_range\":{\"type\":\"object\",\"name\":\"DataRange1d\",\"id\":\"p2056\"},\"x_scale\":{\"type\":\"object\",\"name\":\"LinearScale\",\"id\":\"p2063\"},\"y_scale\":{\"type\":\"object\",\"name\":\"LinearScale\",\"id\":\"p2064\"},\"title\":{\"type\":\"object\",\"name\":\"Title\",\"id\":\"p2061\"},\"renderers\":[{\"type\":\"object\",\"name\":\"GlyphRenderer\",\"id\":\"p2095\",\"attributes\":{\"data_source\":{\"type\":\"object\",\"name\":\"ColumnDataSource\",\"id\":\"p2086\",\"attributes\":{\"selected\":{\"type\":\"object\",\"name\":\"Selection\",\"id\":\"p2087\",\"attributes\":{\"indices\":[],\"line_indices\":[]}},\"selection_policy\":{\"type\":\"object\",\"name\":\"UnionRenderers\",\"id\":\"p2088\"},\"data\":{\"type\":\"map\",\"entries\":[[\"index\",{\"type\":\"ndarray\",\"array\":{\"type\":\"bytes\",\"data\":\"AAAAAAIAAAAEAAAABgAAAAgAAAA=\"},\"shape\":[5],\"dtype\":\"int32\",\"order\":\"little\"}],[\"Explainer\",{\"type\":\"ndarray\",\"array\":[\"Beta\",\"Beta\",\"Beta\",\"Beta\",\"Beta\"],\"shape\":[5],\"dtype\":\"object\",\"order\":\"little\"}],[\"# Epochs\",{\"type\":\"ndarray\",\"array\":{\"type\":\"bytes\",\"data\":\"MgAAADIAAAAyAAAAMgAAADIAAAA=\"},\"shape\":[5],\"dtype\":\"int32\",\"order\":\"little\"}],[\"Runtime (Seconds)\",{\"type\":\"ndarray\",\"array\":{\"type\":\"bytes\",\"data\":\"AABAe1qZjEAAADDt22WWQAAAoHBbBJBAAACgGLfXgkAAAMAeEYRwQA==\"},\"shape\":[5],\"dtype\":\"float64\",\"order\":\"little\"}],[\"Number of Edges\",{\"type\":\"ndarray\",\"array\":{\"type\":\"bytes\",\"data\":\"MgAAAGQAAACWAAAAyAAAAPoAAAA=\"},\"shape\":[5],\"dtype\":\"int32\",\"order\":\"little\"}]]}}},\"view\":{\"type\":\"object\",\"name\":\"CDSView\",\"id\":\"p2096\",\"attributes\":{\"filter\":{\"type\":\"object\",\"name\":\"AllIndices\",\"id\":\"p2097\"}}},\"glyph\":{\"type\":\"object\",\"name\":\"Circle\",\"id\":\"p2092\",\"attributes\":{\"x\":{\"type\":\"field\",\"field\":\"Number of Edges\"},\"y\":{\"type\":\"field\",\"field\":\"Runtime (Seconds)\"},\"line_color\":{\"type\":\"value\",\"value\":\"#1f77b4\"},\"fill_color\":{\"type\":\"value\",\"value\":\"#1f77b4\"}}},\"nonselection_glyph\":{\"type\":\"object\",\"name\":\"Circle\",\"id\":\"p2093\",\"attributes\":{\"x\":{\"type\":\"field\",\"field\":\"Number of Edges\"},\"y\":{\"type\":\"field\",\"field\":\"Runtime (Seconds)\"},\"line_color\":{\"type\":\"value\",\"value\":\"#1f77b4\"},\"line_alpha\":{\"type\":\"value\",\"value\":0.1},\"fill_color\":{\"type\":\"value\",\"value\":\"#1f77b4\"},\"fill_alpha\":{\"type\":\"value\",\"value\":0.1},\"hatch_alpha\":{\"type\":\"value\",\"value\":0.1}}},\"muted_glyph\":{\"type\":\"object\",\"name\":\"Circle\",\"id\":\"p2094\",\"attributes\":{\"x\":{\"type\":\"field\",\"field\":\"Number of Edges\"},\"y\":{\"type\":\"field\",\"field\":\"Runtime (Seconds)\"},\"line_color\":{\"type\":\"value\",\"value\":\"#1f77b4\"},\"line_alpha\":{\"type\":\"value\",\"value\":0.2},\"fill_color\":{\"type\":\"value\",\"value\":\"#1f77b4\"},\"fill_alpha\":{\"type\":\"value\",\"value\":0.2},\"hatch_alpha\":{\"type\":\"value\",\"value\":0.2}}}}},{\"type\":\"object\",\"name\":\"GlyphRenderer\",\"id\":\"p2109\",\"attributes\":{\"data_source\":{\"type\":\"object\",\"name\":\"ColumnDataSource\",\"id\":\"p2100\",\"attributes\":{\"selected\":{\"type\":\"object\",\"name\":\"Selection\",\"id\":\"p2101\",\"attributes\":{\"indices\":[],\"line_indices\":[]}},\"selection_policy\":{\"type\":\"object\",\"name\":\"UnionRenderers\",\"id\":\"p2102\"},\"data\":{\"type\":\"map\",\"entries\":[[\"index\",{\"type\":\"ndarray\",\"array\":{\"type\":\"bytes\",\"data\":\"AQAAAAMAAAAFAAAABwAAAAkAAAA=\"},\"shape\":[5],\"dtype\":\"int32\",\"order\":\"little\"}],[\"Explainer\",{\"type\":\"ndarray\",\"array\":[\"GNN\",\"GNN\",\"GNN\",\"GNN\",\"GNN\"],\"shape\":[5],\"dtype\":\"object\",\"order\":\"little\"}],[\"# Epochs\",{\"type\":\"ndarray\",\"array\":{\"type\":\"bytes\",\"data\":\"MgAAADIAAAAyAAAAMgAAADIAAAA=\"},\"shape\":[5],\"dtype\":\"int32\",\"order\":\"little\"}],[\"Runtime (Seconds)\",{\"type\":\"ndarray\",\"array\":{\"type\":\"bytes\",\"data\":\"/////6gs3D8AAACAmpbiPwAAAABvvNE//////53Owz/7////pwi0Pw==\"},\"shape\":[5],\"dtype\":\"float64\",\"order\":\"little\"}],[\"Number of Edges\",{\"type\":\"ndarray\",\"array\":{\"type\":\"bytes\",\"data\":\"MgAAAGQAAACWAAAAyAAAAPoAAAA=\"},\"shape\":[5],\"dtype\":\"int32\",\"order\":\"little\"}]]}}},\"view\":{\"type\":\"object\",\"name\":\"CDSView\",\"id\":\"p2110\",\"attributes\":{\"filter\":{\"type\":\"object\",\"name\":\"AllIndices\",\"id\":\"p2111\"}}},\"glyph\":{\"type\":\"object\",\"name\":\"Circle\",\"id\":\"p2106\",\"attributes\":{\"x\":{\"type\":\"field\",\"field\":\"Number of Edges\"},\"y\":{\"type\":\"field\",\"field\":\"Runtime (Seconds)\"},\"line_color\":{\"type\":\"value\",\"value\":\"orange\"},\"fill_color\":{\"type\":\"value\",\"value\":\"orange\"},\"hatch_color\":{\"type\":\"value\",\"value\":\"orange\"}}},\"nonselection_glyph\":{\"type\":\"object\",\"name\":\"Circle\",\"id\":\"p2107\",\"attributes\":{\"x\":{\"type\":\"field\",\"field\":\"Number of Edges\"},\"y\":{\"type\":\"field\",\"field\":\"Runtime (Seconds)\"},\"line_color\":{\"type\":\"value\",\"value\":\"orange\"},\"line_alpha\":{\"type\":\"value\",\"value\":0.1},\"fill_color\":{\"type\":\"value\",\"value\":\"orange\"},\"fill_alpha\":{\"type\":\"value\",\"value\":0.1},\"hatch_color\":{\"type\":\"value\",\"value\":\"orange\"},\"hatch_alpha\":{\"type\":\"value\",\"value\":0.1}}},\"muted_glyph\":{\"type\":\"object\",\"name\":\"Circle\",\"id\":\"p2108\",\"attributes\":{\"x\":{\"type\":\"field\",\"field\":\"Number of Edges\"},\"y\":{\"type\":\"field\",\"field\":\"Runtime (Seconds)\"},\"line_color\":{\"type\":\"value\",\"value\":\"orange\"},\"line_alpha\":{\"type\":\"value\",\"value\":0.2},\"fill_color\":{\"type\":\"value\",\"value\":\"orange\"},\"fill_alpha\":{\"type\":\"value\",\"value\":0.2},\"hatch_color\":{\"type\":\"value\",\"value\":\"orange\"},\"hatch_alpha\":{\"type\":\"value\",\"value\":0.2}}}}}],\"toolbar\":{\"type\":\"object\",\"name\":\"Toolbar\",\"id\":\"p2062\",\"attributes\":{\"tools\":[{\"type\":\"object\",\"name\":\"PanTool\",\"id\":\"p2075\"},{\"type\":\"object\",\"name\":\"WheelZoomTool\",\"id\":\"p2076\",\"attributes\":{\"renderers\":\"auto\"}},{\"type\":\"object\",\"name\":\"BoxZoomTool\",\"id\":\"p2077\",\"attributes\":{\"overlay\":{\"type\":\"object\",\"name\":\"BoxAnnotation\",\"id\":\"p2078\",\"attributes\":{\"syncable\":false,\"level\":\"overlay\",\"visible\":false,\"left\":{\"type\":\"number\",\"value\":\"nan\"},\"right\":{\"type\":\"number\",\"value\":\"nan\"},\"top\":{\"type\":\"number\",\"value\":\"nan\"},\"bottom\":{\"type\":\"number\",\"value\":\"nan\"},\"left_units\":\"canvas\",\"right_units\":\"canvas\",\"top_units\":\"canvas\",\"bottom_units\":\"canvas\",\"line_color\":\"black\",\"line_alpha\":1.0,\"line_width\":2,\"line_dash\":[4,4],\"fill_color\":\"lightgrey\",\"fill_alpha\":0.5}}}},{\"type\":\"object\",\"name\":\"SaveTool\",\"id\":\"p2083\"},{\"type\":\"object\",\"name\":\"ResetTool\",\"id\":\"p2084\"},{\"type\":\"object\",\"name\":\"HelpTool\",\"id\":\"p2085\"}]}},\"left\":[{\"type\":\"object\",\"name\":\"LinearAxis\",\"id\":\"p2070\",\"attributes\":{\"ticker\":{\"type\":\"object\",\"name\":\"BasicTicker\",\"id\":\"p2071\",\"attributes\":{\"mantissas\":[1,2,5]}},\"formatter\":{\"type\":\"object\",\"name\":\"BasicTickFormatter\",\"id\":\"p2072\"},\"axis_label\":\"Runtime (Seconds)\",\"major_label_policy\":{\"type\":\"object\",\"name\":\"AllLabels\",\"id\":\"p2073\"}}}],\"below\":[{\"type\":\"object\",\"name\":\"LinearAxis\",\"id\":\"p2065\",\"attributes\":{\"ticker\":{\"type\":\"object\",\"name\":\"BasicTicker\",\"id\":\"p2066\",\"attributes\":{\"mantissas\":[1,2,5]}},\"formatter\":{\"type\":\"object\",\"name\":\"BasicTickFormatter\",\"id\":\"p2067\"},\"axis_label\":\"Number of Edges\",\"major_label_policy\":{\"type\":\"object\",\"name\":\"AllLabels\",\"id\":\"p2068\"}}}],\"center\":[{\"type\":\"object\",\"name\":\"Grid\",\"id\":\"p2069\",\"attributes\":{\"axis\":{\"id\":\"p2065\"}}},{\"type\":\"object\",\"name\":\"Grid\",\"id\":\"p2074\",\"attributes\":{\"dimension\":1,\"axis\":{\"id\":\"p2070\"}}},{\"type\":\"object\",\"name\":\"Legend\",\"id\":\"p2098\",\"attributes\":{\"location\":\"top_left\",\"items\":[{\"type\":\"object\",\"name\":\"LegendItem\",\"id\":\"p2099\",\"attributes\":{\"label\":{\"type\":\"value\",\"value\":\"Beta\"},\"renderers\":[{\"id\":\"p2095\"}]}},{\"type\":\"object\",\"name\":\"LegendItem\",\"id\":\"p2112\",\"attributes\":{\"label\":{\"type\":\"value\",\"value\":\"GNN\"},\"renderers\":[{\"id\":\"p2109\"}]}}]}}]}}]}};\n",
       "  const render_items = [{\"docid\":\"c63ff81e-7ca1-4d00-8810-11291d49e6b7\",\"roots\":{\"p2054\":\"ef6f6ded-1614-4b84-8b7f-9853dccebfe6\"},\"root_ids\":[\"p2054\"]}];\n",
       "  root.Bokeh.embed.embed_items_notebook(docs_json, render_items);\n",
       "  }\n",
       "  if (root.Bokeh !== undefined) {\n",
       "    embed_document(root);\n",
       "  } else {\n",
       "    let attempts = 0;\n",
       "    const timer = setInterval(function(root) {\n",
       "      if (root.Bokeh !== undefined) {\n",
       "        clearInterval(timer);\n",
       "        embed_document(root);\n",
       "      } else {\n",
       "        attempts++;\n",
       "        if (attempts > 100) {\n",
       "          clearInterval(timer);\n",
       "          console.log(\"Bokeh: ERROR: Unable to run BokehJS code because BokehJS library is missing\");\n",
       "        }\n",
       "      }\n",
       "    }, 10, root)\n",
       "  }\n",
       "})(window);"
      ],
      "application/vnd.bokehjs_exec.v0+json": ""
     },
     "metadata": {
      "application/vnd.bokehjs_exec.v0+json": {
       "id": "p2054"
      }
     },
     "output_type": "display_data"
    }
   ],
   "source": [
    "x = \"Number of Edges\"\n",
    "y = \"Runtime (Seconds)\"\n",
    "p = bokeh.plotting.figure(\n",
    "    width=400,\n",
    "    height=300,\n",
    "    x_axis_label=x,\n",
    "    y_axis_label=y,\n",
    ")\n",
    "p.circle(\n",
    "    source=effects[effects['Explainer'] == 'Beta'],\n",
    "    x=x,\n",
    "    y=y,\n",
    "    legend_label=\"Beta\",\n",
    ")\n",
    "p.circle(\n",
    "    source=effects[effects['Explainer'] == 'GNN'],\n",
    "    x=x,\n",
    "    y=y,\n",
    "    legend_label=\"GNN\",\n",
    "    color='orange'\n",
    ")\n",
    "p.legend.location = \"top_left\"\n",
    "bokeh.io.show(p)"
   ]
  },
  {
   "cell_type": "code",
   "execution_count": 61,
   "id": "1d036707-8461-4be3-93e2-33b8ba7de9a6",
   "metadata": {
    "jupyter": {
     "source_hidden": true
    }
   },
   "outputs": [
    {
     "data": {
      "text/html": [
       "\n",
       "  <div id=\"b360b4f2-80b2-40b7-83c5-4492ce3f6a1e\" data-root-id=\"p2121\" style=\"display: contents;\"></div>\n"
      ]
     },
     "metadata": {},
     "output_type": "display_data"
    },
    {
     "data": {
      "application/javascript": [
       "(function(root) {\n",
       "  function embed_document(root) {\n",
       "  const docs_json = {\"10d04fdc-1240-4b88-bdd8-20ce3b0e417a\":{\"version\":\"3.3.4\",\"title\":\"Bokeh Application\",\"roots\":[{\"type\":\"object\",\"name\":\"Figure\",\"id\":\"p2121\",\"attributes\":{\"width\":400,\"height\":300,\"x_range\":{\"type\":\"object\",\"name\":\"DataRange1d\",\"id\":\"p2122\"},\"y_range\":{\"type\":\"object\",\"name\":\"DataRange1d\",\"id\":\"p2123\"},\"x_scale\":{\"type\":\"object\",\"name\":\"LinearScale\",\"id\":\"p2130\"},\"y_scale\":{\"type\":\"object\",\"name\":\"LinearScale\",\"id\":\"p2131\"},\"title\":{\"type\":\"object\",\"name\":\"Title\",\"id\":\"p2128\"},\"renderers\":[{\"type\":\"object\",\"name\":\"GlyphRenderer\",\"id\":\"p2162\",\"attributes\":{\"data_source\":{\"type\":\"object\",\"name\":\"ColumnDataSource\",\"id\":\"p2153\",\"attributes\":{\"selected\":{\"type\":\"object\",\"name\":\"Selection\",\"id\":\"p2154\",\"attributes\":{\"indices\":[],\"line_indices\":[]}},\"selection_policy\":{\"type\":\"object\",\"name\":\"UnionRenderers\",\"id\":\"p2155\"},\"data\":{\"type\":\"map\",\"entries\":[[\"index\",{\"type\":\"ndarray\",\"array\":{\"type\":\"bytes\",\"data\":\"AAAAAAEAAAACAAAAAwAAAAQAAAA=\"},\"shape\":[5],\"dtype\":\"int32\",\"order\":\"little\"}],[\"# Epochs\",{\"type\":\"ndarray\",\"array\":{\"type\":\"bytes\",\"data\":\"MgAAADIAAAAyAAAAMgAAADIAAAA=\"},\"shape\":[5],\"dtype\":\"int32\",\"order\":\"little\"}],[\"GNN Runtime (Seconds)\",{\"type\":\"ndarray\",\"array\":{\"type\":\"bytes\",\"data\":\"/////6gs3D8AAACAmpbiPwAAAABvvNE//////53Owz/7////pwi0Pw==\"},\"shape\":[5],\"dtype\":\"float64\",\"order\":\"little\"}],[\"Number of Edges\",{\"type\":\"ndarray\",\"array\":{\"type\":\"bytes\",\"data\":\"MgAAAGQAAACWAAAAyAAAAPoAAAA=\"},\"shape\":[5],\"dtype\":\"int32\",\"order\":\"little\"}],[\"Beta Runtime (Seconds)\",{\"type\":\"ndarray\",\"array\":{\"type\":\"bytes\",\"data\":\"AABAe1qZjEAAADDt22WWQAAAoHBbBJBAAACgGLfXgkAAAMAeEYRwQA==\"},\"shape\":[5],\"dtype\":\"float64\",\"order\":\"little\"}],[\"Difference (Seconds)\",{\"type\":\"ndarray\",\"array\":{\"type\":\"bytes\",\"data\":\"AAAg5tSVjEAAAOAZiWOWQAAAsKk/A5BAAADALnrWgkAAAECU0IJwQA==\"},\"shape\":[5],\"dtype\":\"float64\",\"order\":\"little\"}]]}}},\"view\":{\"type\":\"object\",\"name\":\"CDSView\",\"id\":\"p2163\",\"attributes\":{\"filter\":{\"type\":\"object\",\"name\":\"AllIndices\",\"id\":\"p2164\"}}},\"glyph\":{\"type\":\"object\",\"name\":\"Circle\",\"id\":\"p2159\",\"attributes\":{\"x\":{\"type\":\"field\",\"field\":\"Number of Edges\"},\"y\":{\"type\":\"field\",\"field\":\"Difference (Seconds)\"},\"line_color\":{\"type\":\"value\",\"value\":\"#1f77b4\"},\"fill_color\":{\"type\":\"value\",\"value\":\"#1f77b4\"}}},\"nonselection_glyph\":{\"type\":\"object\",\"name\":\"Circle\",\"id\":\"p2160\",\"attributes\":{\"x\":{\"type\":\"field\",\"field\":\"Number of Edges\"},\"y\":{\"type\":\"field\",\"field\":\"Difference (Seconds)\"},\"line_color\":{\"type\":\"value\",\"value\":\"#1f77b4\"},\"line_alpha\":{\"type\":\"value\",\"value\":0.1},\"fill_color\":{\"type\":\"value\",\"value\":\"#1f77b4\"},\"fill_alpha\":{\"type\":\"value\",\"value\":0.1},\"hatch_alpha\":{\"type\":\"value\",\"value\":0.1}}},\"muted_glyph\":{\"type\":\"object\",\"name\":\"Circle\",\"id\":\"p2161\",\"attributes\":{\"x\":{\"type\":\"field\",\"field\":\"Number of Edges\"},\"y\":{\"type\":\"field\",\"field\":\"Difference (Seconds)\"},\"line_color\":{\"type\":\"value\",\"value\":\"#1f77b4\"},\"line_alpha\":{\"type\":\"value\",\"value\":0.2},\"fill_color\":{\"type\":\"value\",\"value\":\"#1f77b4\"},\"fill_alpha\":{\"type\":\"value\",\"value\":0.2},\"hatch_alpha\":{\"type\":\"value\",\"value\":0.2}}}}}],\"toolbar\":{\"type\":\"object\",\"name\":\"Toolbar\",\"id\":\"p2129\",\"attributes\":{\"tools\":[{\"type\":\"object\",\"name\":\"PanTool\",\"id\":\"p2142\"},{\"type\":\"object\",\"name\":\"WheelZoomTool\",\"id\":\"p2143\",\"attributes\":{\"renderers\":\"auto\"}},{\"type\":\"object\",\"name\":\"BoxZoomTool\",\"id\":\"p2144\",\"attributes\":{\"overlay\":{\"type\":\"object\",\"name\":\"BoxAnnotation\",\"id\":\"p2145\",\"attributes\":{\"syncable\":false,\"level\":\"overlay\",\"visible\":false,\"left\":{\"type\":\"number\",\"value\":\"nan\"},\"right\":{\"type\":\"number\",\"value\":\"nan\"},\"top\":{\"type\":\"number\",\"value\":\"nan\"},\"bottom\":{\"type\":\"number\",\"value\":\"nan\"},\"left_units\":\"canvas\",\"right_units\":\"canvas\",\"top_units\":\"canvas\",\"bottom_units\":\"canvas\",\"line_color\":\"black\",\"line_alpha\":1.0,\"line_width\":2,\"line_dash\":[4,4],\"fill_color\":\"lightgrey\",\"fill_alpha\":0.5}}}},{\"type\":\"object\",\"name\":\"SaveTool\",\"id\":\"p2150\"},{\"type\":\"object\",\"name\":\"ResetTool\",\"id\":\"p2151\"},{\"type\":\"object\",\"name\":\"HelpTool\",\"id\":\"p2152\"}]}},\"left\":[{\"type\":\"object\",\"name\":\"LinearAxis\",\"id\":\"p2137\",\"attributes\":{\"ticker\":{\"type\":\"object\",\"name\":\"BasicTicker\",\"id\":\"p2138\",\"attributes\":{\"mantissas\":[1,2,5]}},\"formatter\":{\"type\":\"object\",\"name\":\"BasicTickFormatter\",\"id\":\"p2139\"},\"axis_label\":\"Difference (Seconds)\",\"major_label_policy\":{\"type\":\"object\",\"name\":\"AllLabels\",\"id\":\"p2140\"}}}],\"below\":[{\"type\":\"object\",\"name\":\"LinearAxis\",\"id\":\"p2132\",\"attributes\":{\"ticker\":{\"type\":\"object\",\"name\":\"BasicTicker\",\"id\":\"p2133\",\"attributes\":{\"mantissas\":[1,2,5]}},\"formatter\":{\"type\":\"object\",\"name\":\"BasicTickFormatter\",\"id\":\"p2134\"},\"axis_label\":\"Number of Edges\",\"major_label_policy\":{\"type\":\"object\",\"name\":\"AllLabels\",\"id\":\"p2135\"}}}],\"center\":[{\"type\":\"object\",\"name\":\"Grid\",\"id\":\"p2136\",\"attributes\":{\"axis\":{\"id\":\"p2132\"}}},{\"type\":\"object\",\"name\":\"Grid\",\"id\":\"p2141\",\"attributes\":{\"dimension\":1,\"axis\":{\"id\":\"p2137\"}}}]}}]}};\n",
       "  const render_items = [{\"docid\":\"10d04fdc-1240-4b88-bdd8-20ce3b0e417a\",\"roots\":{\"p2121\":\"b360b4f2-80b2-40b7-83c5-4492ce3f6a1e\"},\"root_ids\":[\"p2121\"]}];\n",
       "  root.Bokeh.embed.embed_items_notebook(docs_json, render_items);\n",
       "  }\n",
       "  if (root.Bokeh !== undefined) {\n",
       "    embed_document(root);\n",
       "  } else {\n",
       "    let attempts = 0;\n",
       "    const timer = setInterval(function(root) {\n",
       "      if (root.Bokeh !== undefined) {\n",
       "        clearInterval(timer);\n",
       "        embed_document(root);\n",
       "      } else {\n",
       "        attempts++;\n",
       "        if (attempts > 100) {\n",
       "          clearInterval(timer);\n",
       "          console.log(\"Bokeh: ERROR: Unable to run BokehJS code because BokehJS library is missing\");\n",
       "        }\n",
       "      }\n",
       "    }, 10, root)\n",
       "  }\n",
       "})(window);"
      ],
      "application/vnd.bokehjs_exec.v0+json": ""
     },
     "metadata": {
      "application/vnd.bokehjs_exec.v0+json": {
       "id": "p2121"
      }
     },
     "output_type": "display_data"
    }
   ],
   "source": [
    "x = \"Number of Edges\"\n",
    "y = \"Difference (Seconds)\"\n",
    "p = bokeh.plotting.figure(\n",
    "    width=400,\n",
    "    height=300,\n",
    "    x_axis_label=x,\n",
    "    y_axis_label=y,\n",
    ")\n",
    "p.circle(\n",
    "    source=diff,\n",
    "    x=x,\n",
    "    y=y,\n",
    ")\n",
    "bokeh.io.show(p)"
   ]
  },
  {
   "cell_type": "code",
   "execution_count": 41,
   "id": "480552cd-039c-4269-919e-38aa84757b4d",
   "metadata": {},
   "outputs": [],
   "source": [
    "effects = pd.read_csv('SERGIO50GraphRuntimes.csv')\n",
    "effects = effects.drop(['Average Runtime', 'Unnamed: 0', 'Data'], axis=1)\n",
    "effects = effects.rename({'# Edges': 'Number of Edges', 'Full Runtime': 'Runtime (Seconds)'}, axis=1)\n",
    "gnn = effects[effects['Explainer'] == 'GNN']\n",
    "gnn = gnn.rename({'Runtime (Seconds)': 'GNN Runtime (Seconds)'}, axis=1)\n",
    "gnn = gnn.drop(['Explainer'], axis=1)\n",
    "beta = effects[effects['Explainer'] == 'Beta']\n",
    "beta = beta.rename({'Runtime (Seconds)': 'Beta Runtime (Seconds)'}, axis=1)\n",
    "beta = beta.drop(['Explainer'], axis=1)\n",
    "diff = pd.merge(gnn, beta, how=\"right\", on=[\"# Epochs\",'Number of Edges'])\n",
    "diff['Difference (Seconds)'] = diff['Beta Runtime (Seconds)'] - diff['GNN Runtime (Seconds)']"
   ]
  },
  {
   "cell_type": "code",
   "execution_count": 42,
   "id": "c747d4f9-d5b8-48a7-86f9-d2e809ce94b2",
   "metadata": {
    "jupyter": {
     "source_hidden": true
    }
   },
   "outputs": [
    {
     "data": {
      "text/html": [
       "\n",
       "  <div id=\"f997aa1d-6afe-4c48-8655-88b3d16b0577\" data-root-id=\"p2522\" style=\"display: contents;\"></div>\n"
      ]
     },
     "metadata": {},
     "output_type": "display_data"
    },
    {
     "data": {
      "application/javascript": [
       "(function(root) {\n",
       "  function embed_document(root) {\n",
       "  const docs_json = {\"d23bc71f-dcfa-42bb-a24a-aef0a1d4e945\":{\"version\":\"3.3.4\",\"title\":\"Bokeh Application\",\"roots\":[{\"type\":\"object\",\"name\":\"Figure\",\"id\":\"p2522\",\"attributes\":{\"width\":400,\"height\":300,\"x_range\":{\"type\":\"object\",\"name\":\"DataRange1d\",\"id\":\"p2523\"},\"y_range\":{\"type\":\"object\",\"name\":\"DataRange1d\",\"id\":\"p2524\"},\"x_scale\":{\"type\":\"object\",\"name\":\"LinearScale\",\"id\":\"p2531\"},\"y_scale\":{\"type\":\"object\",\"name\":\"LinearScale\",\"id\":\"p2532\"},\"title\":{\"type\":\"object\",\"name\":\"Title\",\"id\":\"p2529\"},\"renderers\":[{\"type\":\"object\",\"name\":\"GlyphRenderer\",\"id\":\"p2563\",\"attributes\":{\"data_source\":{\"type\":\"object\",\"name\":\"ColumnDataSource\",\"id\":\"p2554\",\"attributes\":{\"selected\":{\"type\":\"object\",\"name\":\"Selection\",\"id\":\"p2555\",\"attributes\":{\"indices\":[],\"line_indices\":[]}},\"selection_policy\":{\"type\":\"object\",\"name\":\"UnionRenderers\",\"id\":\"p2556\"},\"data\":{\"type\":\"map\",\"entries\":[[\"index\",{\"type\":\"ndarray\",\"array\":{\"type\":\"bytes\",\"data\":\"AAAAAAIAAAAEAAAABgAAAAgAAAA=\"},\"shape\":[5],\"dtype\":\"int32\",\"order\":\"little\"}],[\"Explainer\",{\"type\":\"ndarray\",\"array\":[\"Beta\",\"Beta\",\"Beta\",\"Beta\",\"Beta\"],\"shape\":[5],\"dtype\":\"object\",\"order\":\"little\"}],[\"# Epochs\",{\"type\":\"ndarray\",\"array\":{\"type\":\"bytes\",\"data\":\"MgAAADIAAAAyAAAAMgAAADIAAAA=\"},\"shape\":[5],\"dtype\":\"int32\",\"order\":\"little\"}],[\"Runtime (Seconds)\",{\"type\":\"ndarray\",\"array\":{\"type\":\"bytes\",\"data\":\"AQDgqwqqjEAAAABOFoWWQAAAIBgWyY9AAABAhrbggkAAAEBfDGVwQA==\"},\"shape\":[5],\"dtype\":\"float64\",\"order\":\"little\"}],[\"Number of Edges\",{\"type\":\"ndarray\",\"array\":{\"type\":\"bytes\",\"data\":\"MgAAAGQAAACWAAAAyAAAAPoAAAA=\"},\"shape\":[5],\"dtype\":\"int32\",\"order\":\"little\"}]]}}},\"view\":{\"type\":\"object\",\"name\":\"CDSView\",\"id\":\"p2564\",\"attributes\":{\"filter\":{\"type\":\"object\",\"name\":\"AllIndices\",\"id\":\"p2565\"}}},\"glyph\":{\"type\":\"object\",\"name\":\"Circle\",\"id\":\"p2560\",\"attributes\":{\"x\":{\"type\":\"field\",\"field\":\"Number of Edges\"},\"y\":{\"type\":\"field\",\"field\":\"Runtime (Seconds)\"},\"line_color\":{\"type\":\"value\",\"value\":\"#1f77b4\"},\"fill_color\":{\"type\":\"value\",\"value\":\"#1f77b4\"}}},\"nonselection_glyph\":{\"type\":\"object\",\"name\":\"Circle\",\"id\":\"p2561\",\"attributes\":{\"x\":{\"type\":\"field\",\"field\":\"Number of Edges\"},\"y\":{\"type\":\"field\",\"field\":\"Runtime (Seconds)\"},\"line_color\":{\"type\":\"value\",\"value\":\"#1f77b4\"},\"line_alpha\":{\"type\":\"value\",\"value\":0.1},\"fill_color\":{\"type\":\"value\",\"value\":\"#1f77b4\"},\"fill_alpha\":{\"type\":\"value\",\"value\":0.1},\"hatch_alpha\":{\"type\":\"value\",\"value\":0.1}}},\"muted_glyph\":{\"type\":\"object\",\"name\":\"Circle\",\"id\":\"p2562\",\"attributes\":{\"x\":{\"type\":\"field\",\"field\":\"Number of Edges\"},\"y\":{\"type\":\"field\",\"field\":\"Runtime (Seconds)\"},\"line_color\":{\"type\":\"value\",\"value\":\"#1f77b4\"},\"line_alpha\":{\"type\":\"value\",\"value\":0.2},\"fill_color\":{\"type\":\"value\",\"value\":\"#1f77b4\"},\"fill_alpha\":{\"type\":\"value\",\"value\":0.2},\"hatch_alpha\":{\"type\":\"value\",\"value\":0.2}}}}},{\"type\":\"object\",\"name\":\"GlyphRenderer\",\"id\":\"p2577\",\"attributes\":{\"data_source\":{\"type\":\"object\",\"name\":\"ColumnDataSource\",\"id\":\"p2568\",\"attributes\":{\"selected\":{\"type\":\"object\",\"name\":\"Selection\",\"id\":\"p2569\",\"attributes\":{\"indices\":[],\"line_indices\":[]}},\"selection_policy\":{\"type\":\"object\",\"name\":\"UnionRenderers\",\"id\":\"p2570\"},\"data\":{\"type\":\"map\",\"entries\":[[\"index\",{\"type\":\"ndarray\",\"array\":{\"type\":\"bytes\",\"data\":\"AQAAAAMAAAAFAAAABwAAAAkAAAA=\"},\"shape\":[5],\"dtype\":\"int32\",\"order\":\"little\"}],[\"Explainer\",{\"type\":\"ndarray\",\"array\":[\"GNN\",\"GNN\",\"GNN\",\"GNN\",\"GNN\"],\"shape\":[5],\"dtype\":\"object\",\"order\":\"little\"}],[\"# Epochs\",{\"type\":\"ndarray\",\"array\":{\"type\":\"bytes\",\"data\":\"MgAAADIAAAAyAAAAMgAAADIAAAA=\"},\"shape\":[5],\"dtype\":\"int32\",\"order\":\"little\"}],[\"Runtime (Seconds)\",{\"type\":\"ndarray\",\"array\":{\"type\":\"bytes\",\"data\":\"/////+zG2j8AAAAAnsbkP/////8d9tA//////9Fs0D/0////tw+vPw==\"},\"shape\":[5],\"dtype\":\"float64\",\"order\":\"little\"}],[\"Number of Edges\",{\"type\":\"ndarray\",\"array\":{\"type\":\"bytes\",\"data\":\"MgAAAGQAAACWAAAAyAAAAPoAAAA=\"},\"shape\":[5],\"dtype\":\"int32\",\"order\":\"little\"}]]}}},\"view\":{\"type\":\"object\",\"name\":\"CDSView\",\"id\":\"p2578\",\"attributes\":{\"filter\":{\"type\":\"object\",\"name\":\"AllIndices\",\"id\":\"p2579\"}}},\"glyph\":{\"type\":\"object\",\"name\":\"Circle\",\"id\":\"p2574\",\"attributes\":{\"x\":{\"type\":\"field\",\"field\":\"Number of Edges\"},\"y\":{\"type\":\"field\",\"field\":\"Runtime (Seconds)\"},\"line_color\":{\"type\":\"value\",\"value\":\"orange\"},\"fill_color\":{\"type\":\"value\",\"value\":\"orange\"},\"hatch_color\":{\"type\":\"value\",\"value\":\"orange\"}}},\"nonselection_glyph\":{\"type\":\"object\",\"name\":\"Circle\",\"id\":\"p2575\",\"attributes\":{\"x\":{\"type\":\"field\",\"field\":\"Number of Edges\"},\"y\":{\"type\":\"field\",\"field\":\"Runtime (Seconds)\"},\"line_color\":{\"type\":\"value\",\"value\":\"orange\"},\"line_alpha\":{\"type\":\"value\",\"value\":0.1},\"fill_color\":{\"type\":\"value\",\"value\":\"orange\"},\"fill_alpha\":{\"type\":\"value\",\"value\":0.1},\"hatch_color\":{\"type\":\"value\",\"value\":\"orange\"},\"hatch_alpha\":{\"type\":\"value\",\"value\":0.1}}},\"muted_glyph\":{\"type\":\"object\",\"name\":\"Circle\",\"id\":\"p2576\",\"attributes\":{\"x\":{\"type\":\"field\",\"field\":\"Number of Edges\"},\"y\":{\"type\":\"field\",\"field\":\"Runtime (Seconds)\"},\"line_color\":{\"type\":\"value\",\"value\":\"orange\"},\"line_alpha\":{\"type\":\"value\",\"value\":0.2},\"fill_color\":{\"type\":\"value\",\"value\":\"orange\"},\"fill_alpha\":{\"type\":\"value\",\"value\":0.2},\"hatch_color\":{\"type\":\"value\",\"value\":\"orange\"},\"hatch_alpha\":{\"type\":\"value\",\"value\":0.2}}}}}],\"toolbar\":{\"type\":\"object\",\"name\":\"Toolbar\",\"id\":\"p2530\",\"attributes\":{\"tools\":[{\"type\":\"object\",\"name\":\"PanTool\",\"id\":\"p2543\"},{\"type\":\"object\",\"name\":\"WheelZoomTool\",\"id\":\"p2544\",\"attributes\":{\"renderers\":\"auto\"}},{\"type\":\"object\",\"name\":\"BoxZoomTool\",\"id\":\"p2545\",\"attributes\":{\"overlay\":{\"type\":\"object\",\"name\":\"BoxAnnotation\",\"id\":\"p2546\",\"attributes\":{\"syncable\":false,\"level\":\"overlay\",\"visible\":false,\"left\":{\"type\":\"number\",\"value\":\"nan\"},\"right\":{\"type\":\"number\",\"value\":\"nan\"},\"top\":{\"type\":\"number\",\"value\":\"nan\"},\"bottom\":{\"type\":\"number\",\"value\":\"nan\"},\"left_units\":\"canvas\",\"right_units\":\"canvas\",\"top_units\":\"canvas\",\"bottom_units\":\"canvas\",\"line_color\":\"black\",\"line_alpha\":1.0,\"line_width\":2,\"line_dash\":[4,4],\"fill_color\":\"lightgrey\",\"fill_alpha\":0.5}}}},{\"type\":\"object\",\"name\":\"SaveTool\",\"id\":\"p2551\"},{\"type\":\"object\",\"name\":\"ResetTool\",\"id\":\"p2552\"},{\"type\":\"object\",\"name\":\"HelpTool\",\"id\":\"p2553\"}]}},\"left\":[{\"type\":\"object\",\"name\":\"LinearAxis\",\"id\":\"p2538\",\"attributes\":{\"ticker\":{\"type\":\"object\",\"name\":\"BasicTicker\",\"id\":\"p2539\",\"attributes\":{\"mantissas\":[1,2,5]}},\"formatter\":{\"type\":\"object\",\"name\":\"BasicTickFormatter\",\"id\":\"p2540\"},\"axis_label\":\"Runtime (Seconds)\",\"major_label_policy\":{\"type\":\"object\",\"name\":\"AllLabels\",\"id\":\"p2541\"}}}],\"below\":[{\"type\":\"object\",\"name\":\"LinearAxis\",\"id\":\"p2533\",\"attributes\":{\"ticker\":{\"type\":\"object\",\"name\":\"BasicTicker\",\"id\":\"p2534\",\"attributes\":{\"mantissas\":[1,2,5]}},\"formatter\":{\"type\":\"object\",\"name\":\"BasicTickFormatter\",\"id\":\"p2535\"},\"axis_label\":\"Number of Edges\",\"major_label_policy\":{\"type\":\"object\",\"name\":\"AllLabels\",\"id\":\"p2536\"}}}],\"center\":[{\"type\":\"object\",\"name\":\"Grid\",\"id\":\"p2537\",\"attributes\":{\"axis\":{\"id\":\"p2533\"}}},{\"type\":\"object\",\"name\":\"Grid\",\"id\":\"p2542\",\"attributes\":{\"dimension\":1,\"axis\":{\"id\":\"p2538\"}}},{\"type\":\"object\",\"name\":\"Legend\",\"id\":\"p2566\",\"attributes\":{\"location\":\"top_left\",\"items\":[{\"type\":\"object\",\"name\":\"LegendItem\",\"id\":\"p2567\",\"attributes\":{\"label\":{\"type\":\"value\",\"value\":\"Beta\"},\"renderers\":[{\"id\":\"p2563\"}]}},{\"type\":\"object\",\"name\":\"LegendItem\",\"id\":\"p2580\",\"attributes\":{\"label\":{\"type\":\"value\",\"value\":\"GNN\"},\"renderers\":[{\"id\":\"p2577\"}]}}]}}]}}]}};\n",
       "  const render_items = [{\"docid\":\"d23bc71f-dcfa-42bb-a24a-aef0a1d4e945\",\"roots\":{\"p2522\":\"f997aa1d-6afe-4c48-8655-88b3d16b0577\"},\"root_ids\":[\"p2522\"]}];\n",
       "  root.Bokeh.embed.embed_items_notebook(docs_json, render_items);\n",
       "  }\n",
       "  if (root.Bokeh !== undefined) {\n",
       "    embed_document(root);\n",
       "  } else {\n",
       "    let attempts = 0;\n",
       "    const timer = setInterval(function(root) {\n",
       "      if (root.Bokeh !== undefined) {\n",
       "        clearInterval(timer);\n",
       "        embed_document(root);\n",
       "      } else {\n",
       "        attempts++;\n",
       "        if (attempts > 100) {\n",
       "          clearInterval(timer);\n",
       "          console.log(\"Bokeh: ERROR: Unable to run BokehJS code because BokehJS library is missing\");\n",
       "        }\n",
       "      }\n",
       "    }, 10, root)\n",
       "  }\n",
       "})(window);"
      ],
      "application/vnd.bokehjs_exec.v0+json": ""
     },
     "metadata": {
      "application/vnd.bokehjs_exec.v0+json": {
       "id": "p2522"
      }
     },
     "output_type": "display_data"
    }
   ],
   "source": [
    "x = \"Number of Edges\"\n",
    "y = \"Runtime (Seconds)\"\n",
    "p = bokeh.plotting.figure(\n",
    "    width=400,\n",
    "    height=300,\n",
    "    x_axis_label=x,\n",
    "    y_axis_label=y,\n",
    ")\n",
    "p.circle(\n",
    "    source=effects[effects['Explainer'] == 'Beta'],\n",
    "    x=x,\n",
    "    y=y,\n",
    "    legend_label=\"Beta\",\n",
    ")\n",
    "p.circle(\n",
    "    source=effects[effects['Explainer'] == 'GNN'],\n",
    "    x=x,\n",
    "    y=y,\n",
    "    legend_label=\"GNN\",\n",
    "    color='orange'\n",
    ")\n",
    "p.legend.location = \"top_left\"\n",
    "bokeh.io.show(p)"
   ]
  },
  {
   "cell_type": "code",
   "execution_count": 43,
   "id": "c55592c3-701e-42af-8b0c-c48e6afbb345",
   "metadata": {
    "jupyter": {
     "source_hidden": true
    }
   },
   "outputs": [
    {
     "data": {
      "text/html": [
       "\n",
       "  <div id=\"ba2d2276-2cc3-4a3a-8985-54289317d601\" data-root-id=\"p2589\" style=\"display: contents;\"></div>\n"
      ]
     },
     "metadata": {},
     "output_type": "display_data"
    },
    {
     "data": {
      "application/javascript": [
       "(function(root) {\n",
       "  function embed_document(root) {\n",
       "  const docs_json = {\"5382cb60-4b8e-4676-a018-ef4ff6c50afd\":{\"version\":\"3.3.4\",\"title\":\"Bokeh Application\",\"roots\":[{\"type\":\"object\",\"name\":\"Figure\",\"id\":\"p2589\",\"attributes\":{\"width\":400,\"height\":300,\"x_range\":{\"type\":\"object\",\"name\":\"DataRange1d\",\"id\":\"p2590\"},\"y_range\":{\"type\":\"object\",\"name\":\"DataRange1d\",\"id\":\"p2591\"},\"x_scale\":{\"type\":\"object\",\"name\":\"LinearScale\",\"id\":\"p2598\"},\"y_scale\":{\"type\":\"object\",\"name\":\"LinearScale\",\"id\":\"p2599\"},\"title\":{\"type\":\"object\",\"name\":\"Title\",\"id\":\"p2596\"},\"renderers\":[{\"type\":\"object\",\"name\":\"GlyphRenderer\",\"id\":\"p2630\",\"attributes\":{\"data_source\":{\"type\":\"object\",\"name\":\"ColumnDataSource\",\"id\":\"p2621\",\"attributes\":{\"selected\":{\"type\":\"object\",\"name\":\"Selection\",\"id\":\"p2622\",\"attributes\":{\"indices\":[],\"line_indices\":[]}},\"selection_policy\":{\"type\":\"object\",\"name\":\"UnionRenderers\",\"id\":\"p2623\"},\"data\":{\"type\":\"map\",\"entries\":[[\"index\",{\"type\":\"ndarray\",\"array\":{\"type\":\"bytes\",\"data\":\"AAAAAAEAAAACAAAAAwAAAAQAAAA=\"},\"shape\":[5],\"dtype\":\"int32\",\"order\":\"little\"}],[\"# Epochs\",{\"type\":\"ndarray\",\"array\":{\"type\":\"bytes\",\"data\":\"MgAAADIAAAAyAAAAMgAAADIAAAA=\"},\"shape\":[5],\"dtype\":\"int32\",\"order\":\"little\"}],[\"GNN Runtime (Seconds)\",{\"type\":\"ndarray\",\"array\":{\"type\":\"bytes\",\"data\":\"/////+zG2j8AAAAAnsbkP/////8d9tA//////9Fs0D/0////tw+vPw==\"},\"shape\":[5],\"dtype\":\"float64\",\"order\":\"little\"}],[\"Number of Edges\",{\"type\":\"ndarray\",\"array\":{\"type\":\"bytes\",\"data\":\"MgAAAGQAAACWAAAAyAAAAPoAAAA=\"},\"shape\":[5],\"dtype\":\"int32\",\"order\":\"little\"}],[\"Beta Runtime (Seconds)\",{\"type\":\"ndarray\",\"array\":{\"type\":\"bytes\",\"data\":\"AQDgqwqqjEAAAABOFoWWQAAAIBgWyY9AAABAhrbggkAAAEBfDGVwQA==\"},\"shape\":[5],\"dtype\":\"float64\",\"order\":\"little\"}],[\"Difference (Seconds)\",{\"type\":\"ndarray\",\"array\":{\"type\":\"bytes\",\"data\":\"AQBAzrGmjEAAAEB6fYKWQAAAYFT3xo9AAAAA7KjegkAAAIDhE2RwQA==\"},\"shape\":[5],\"dtype\":\"float64\",\"order\":\"little\"}]]}}},\"view\":{\"type\":\"object\",\"name\":\"CDSView\",\"id\":\"p2631\",\"attributes\":{\"filter\":{\"type\":\"object\",\"name\":\"AllIndices\",\"id\":\"p2632\"}}},\"glyph\":{\"type\":\"object\",\"name\":\"Circle\",\"id\":\"p2627\",\"attributes\":{\"x\":{\"type\":\"field\",\"field\":\"Number of Edges\"},\"y\":{\"type\":\"field\",\"field\":\"Difference (Seconds)\"},\"line_color\":{\"type\":\"value\",\"value\":\"#1f77b4\"},\"fill_color\":{\"type\":\"value\",\"value\":\"#1f77b4\"}}},\"nonselection_glyph\":{\"type\":\"object\",\"name\":\"Circle\",\"id\":\"p2628\",\"attributes\":{\"x\":{\"type\":\"field\",\"field\":\"Number of Edges\"},\"y\":{\"type\":\"field\",\"field\":\"Difference (Seconds)\"},\"line_color\":{\"type\":\"value\",\"value\":\"#1f77b4\"},\"line_alpha\":{\"type\":\"value\",\"value\":0.1},\"fill_color\":{\"type\":\"value\",\"value\":\"#1f77b4\"},\"fill_alpha\":{\"type\":\"value\",\"value\":0.1},\"hatch_alpha\":{\"type\":\"value\",\"value\":0.1}}},\"muted_glyph\":{\"type\":\"object\",\"name\":\"Circle\",\"id\":\"p2629\",\"attributes\":{\"x\":{\"type\":\"field\",\"field\":\"Number of Edges\"},\"y\":{\"type\":\"field\",\"field\":\"Difference (Seconds)\"},\"line_color\":{\"type\":\"value\",\"value\":\"#1f77b4\"},\"line_alpha\":{\"type\":\"value\",\"value\":0.2},\"fill_color\":{\"type\":\"value\",\"value\":\"#1f77b4\"},\"fill_alpha\":{\"type\":\"value\",\"value\":0.2},\"hatch_alpha\":{\"type\":\"value\",\"value\":0.2}}}}}],\"toolbar\":{\"type\":\"object\",\"name\":\"Toolbar\",\"id\":\"p2597\",\"attributes\":{\"tools\":[{\"type\":\"object\",\"name\":\"PanTool\",\"id\":\"p2610\"},{\"type\":\"object\",\"name\":\"WheelZoomTool\",\"id\":\"p2611\",\"attributes\":{\"renderers\":\"auto\"}},{\"type\":\"object\",\"name\":\"BoxZoomTool\",\"id\":\"p2612\",\"attributes\":{\"overlay\":{\"type\":\"object\",\"name\":\"BoxAnnotation\",\"id\":\"p2613\",\"attributes\":{\"syncable\":false,\"level\":\"overlay\",\"visible\":false,\"left\":{\"type\":\"number\",\"value\":\"nan\"},\"right\":{\"type\":\"number\",\"value\":\"nan\"},\"top\":{\"type\":\"number\",\"value\":\"nan\"},\"bottom\":{\"type\":\"number\",\"value\":\"nan\"},\"left_units\":\"canvas\",\"right_units\":\"canvas\",\"top_units\":\"canvas\",\"bottom_units\":\"canvas\",\"line_color\":\"black\",\"line_alpha\":1.0,\"line_width\":2,\"line_dash\":[4,4],\"fill_color\":\"lightgrey\",\"fill_alpha\":0.5}}}},{\"type\":\"object\",\"name\":\"SaveTool\",\"id\":\"p2618\"},{\"type\":\"object\",\"name\":\"ResetTool\",\"id\":\"p2619\"},{\"type\":\"object\",\"name\":\"HelpTool\",\"id\":\"p2620\"}]}},\"left\":[{\"type\":\"object\",\"name\":\"LinearAxis\",\"id\":\"p2605\",\"attributes\":{\"ticker\":{\"type\":\"object\",\"name\":\"BasicTicker\",\"id\":\"p2606\",\"attributes\":{\"mantissas\":[1,2,5]}},\"formatter\":{\"type\":\"object\",\"name\":\"BasicTickFormatter\",\"id\":\"p2607\"},\"axis_label\":\"Difference (Seconds)\",\"major_label_policy\":{\"type\":\"object\",\"name\":\"AllLabels\",\"id\":\"p2608\"}}}],\"below\":[{\"type\":\"object\",\"name\":\"LinearAxis\",\"id\":\"p2600\",\"attributes\":{\"ticker\":{\"type\":\"object\",\"name\":\"BasicTicker\",\"id\":\"p2601\",\"attributes\":{\"mantissas\":[1,2,5]}},\"formatter\":{\"type\":\"object\",\"name\":\"BasicTickFormatter\",\"id\":\"p2602\"},\"axis_label\":\"Number of Edges\",\"major_label_policy\":{\"type\":\"object\",\"name\":\"AllLabels\",\"id\":\"p2603\"}}}],\"center\":[{\"type\":\"object\",\"name\":\"Grid\",\"id\":\"p2604\",\"attributes\":{\"axis\":{\"id\":\"p2600\"}}},{\"type\":\"object\",\"name\":\"Grid\",\"id\":\"p2609\",\"attributes\":{\"dimension\":1,\"axis\":{\"id\":\"p2605\"}}}]}}]}};\n",
       "  const render_items = [{\"docid\":\"5382cb60-4b8e-4676-a018-ef4ff6c50afd\",\"roots\":{\"p2589\":\"ba2d2276-2cc3-4a3a-8985-54289317d601\"},\"root_ids\":[\"p2589\"]}];\n",
       "  root.Bokeh.embed.embed_items_notebook(docs_json, render_items);\n",
       "  }\n",
       "  if (root.Bokeh !== undefined) {\n",
       "    embed_document(root);\n",
       "  } else {\n",
       "    let attempts = 0;\n",
       "    const timer = setInterval(function(root) {\n",
       "      if (root.Bokeh !== undefined) {\n",
       "        clearInterval(timer);\n",
       "        embed_document(root);\n",
       "      } else {\n",
       "        attempts++;\n",
       "        if (attempts > 100) {\n",
       "          clearInterval(timer);\n",
       "          console.log(\"Bokeh: ERROR: Unable to run BokehJS code because BokehJS library is missing\");\n",
       "        }\n",
       "      }\n",
       "    }, 10, root)\n",
       "  }\n",
       "})(window);"
      ],
      "application/vnd.bokehjs_exec.v0+json": ""
     },
     "metadata": {
      "application/vnd.bokehjs_exec.v0+json": {
       "id": "p2589"
      }
     },
     "output_type": "display_data"
    }
   ],
   "source": [
    "x = \"Number of Edges\"\n",
    "y = \"Difference (Seconds)\"\n",
    "p = bokeh.plotting.figure(\n",
    "    width=400,\n",
    "    height=300,\n",
    "    x_axis_label=x,\n",
    "    y_axis_label=y,\n",
    ")\n",
    "p.circle(\n",
    "    source=diff,\n",
    "    x=x,\n",
    "    y=y,\n",
    ")\n",
    "bokeh.io.show(p)"
   ]
  },
  {
   "cell_type": "code",
   "execution_count": 44,
   "id": "3ab90d23-421c-4c76-a349-4bb391a00eb0",
   "metadata": {},
   "outputs": [],
   "source": [
    "effects = pd.read_csv('SERGIO75GraphRuntimes.csv')\n",
    "effects = effects.drop(['Average Runtime', 'Unnamed: 0', 'Data'], axis=1)\n",
    "effects = effects.rename({'# Edges': 'Number of Edges', 'Full Runtime': 'Runtime (Seconds)'}, axis=1)\n",
    "gnn = effects[effects['Explainer'] == 'GNN']\n",
    "gnn = gnn.rename({'Runtime (Seconds)': 'GNN Runtime (Seconds)'}, axis=1)\n",
    "gnn = gnn.drop(['Explainer'], axis=1)\n",
    "beta = effects[effects['Explainer'] == 'Beta']\n",
    "beta = beta.rename({'Runtime (Seconds)': 'Beta Runtime (Seconds)'}, axis=1)\n",
    "beta = beta.drop(['Explainer'], axis=1)\n",
    "diff = pd.merge(gnn, beta, how=\"right\", on=[\"# Epochs\",'Number of Edges'])\n",
    "diff['Difference (Seconds)'] = diff['Beta Runtime (Seconds)'] - diff['GNN Runtime (Seconds)']"
   ]
  },
  {
   "cell_type": "code",
   "execution_count": 45,
   "id": "d126073a-f2ad-4064-a958-ebbc59b49027",
   "metadata": {
    "jupyter": {
     "source_hidden": true
    }
   },
   "outputs": [
    {
     "data": {
      "text/html": [
       "\n",
       "  <div id=\"acb160a0-52f2-4f5a-a1f3-b516599154dc\" data-root-id=\"p2639\" style=\"display: contents;\"></div>\n"
      ]
     },
     "metadata": {},
     "output_type": "display_data"
    },
    {
     "data": {
      "application/javascript": [
       "(function(root) {\n",
       "  function embed_document(root) {\n",
       "  const docs_json = {\"ef201d40-89db-4c50-b207-becf8695b40e\":{\"version\":\"3.3.4\",\"title\":\"Bokeh Application\",\"roots\":[{\"type\":\"object\",\"name\":\"Figure\",\"id\":\"p2639\",\"attributes\":{\"width\":400,\"height\":300,\"x_range\":{\"type\":\"object\",\"name\":\"DataRange1d\",\"id\":\"p2640\"},\"y_range\":{\"type\":\"object\",\"name\":\"DataRange1d\",\"id\":\"p2641\"},\"x_scale\":{\"type\":\"object\",\"name\":\"LinearScale\",\"id\":\"p2648\"},\"y_scale\":{\"type\":\"object\",\"name\":\"LinearScale\",\"id\":\"p2649\"},\"title\":{\"type\":\"object\",\"name\":\"Title\",\"id\":\"p2646\"},\"renderers\":[{\"type\":\"object\",\"name\":\"GlyphRenderer\",\"id\":\"p2680\",\"attributes\":{\"data_source\":{\"type\":\"object\",\"name\":\"ColumnDataSource\",\"id\":\"p2671\",\"attributes\":{\"selected\":{\"type\":\"object\",\"name\":\"Selection\",\"id\":\"p2672\",\"attributes\":{\"indices\":[],\"line_indices\":[]}},\"selection_policy\":{\"type\":\"object\",\"name\":\"UnionRenderers\",\"id\":\"p2673\"},\"data\":{\"type\":\"map\",\"entries\":[[\"index\",{\"type\":\"ndarray\",\"array\":{\"type\":\"bytes\",\"data\":\"AAAAAAIAAAAEAAAABgAAAAgAAAA=\"},\"shape\":[5],\"dtype\":\"int32\",\"order\":\"little\"}],[\"Explainer\",{\"type\":\"ndarray\",\"array\":[\"Beta\",\"Beta\",\"Beta\",\"Beta\",\"Beta\"],\"shape\":[5],\"dtype\":\"object\",\"order\":\"little\"}],[\"# Epochs\",{\"type\":\"ndarray\",\"array\":{\"type\":\"bytes\",\"data\":\"MgAAADIAAAAyAAAAMgAAADIAAAA=\"},\"shape\":[5],\"dtype\":\"int32\",\"order\":\"little\"}],[\"Runtime (Seconds)\",{\"type\":\"ndarray\",\"array\":{\"type\":\"bytes\",\"data\":\"AQAgX4qMjEAAAPB1enmWQP//v0uBqI9AAABgw3TWgkAAAEDniopwQA==\"},\"shape\":[5],\"dtype\":\"float64\",\"order\":\"little\"}],[\"Number of Edges\",{\"type\":\"ndarray\",\"array\":{\"type\":\"bytes\",\"data\":\"MgAAAGQAAACWAAAAyAAAAPoAAAA=\"},\"shape\":[5],\"dtype\":\"int32\",\"order\":\"little\"}]]}}},\"view\":{\"type\":\"object\",\"name\":\"CDSView\",\"id\":\"p2681\",\"attributes\":{\"filter\":{\"type\":\"object\",\"name\":\"AllIndices\",\"id\":\"p2682\"}}},\"glyph\":{\"type\":\"object\",\"name\":\"Circle\",\"id\":\"p2677\",\"attributes\":{\"x\":{\"type\":\"field\",\"field\":\"Number of Edges\"},\"y\":{\"type\":\"field\",\"field\":\"Runtime (Seconds)\"},\"line_color\":{\"type\":\"value\",\"value\":\"#1f77b4\"},\"fill_color\":{\"type\":\"value\",\"value\":\"#1f77b4\"}}},\"nonselection_glyph\":{\"type\":\"object\",\"name\":\"Circle\",\"id\":\"p2678\",\"attributes\":{\"x\":{\"type\":\"field\",\"field\":\"Number of Edges\"},\"y\":{\"type\":\"field\",\"field\":\"Runtime (Seconds)\"},\"line_color\":{\"type\":\"value\",\"value\":\"#1f77b4\"},\"line_alpha\":{\"type\":\"value\",\"value\":0.1},\"fill_color\":{\"type\":\"value\",\"value\":\"#1f77b4\"},\"fill_alpha\":{\"type\":\"value\",\"value\":0.1},\"hatch_alpha\":{\"type\":\"value\",\"value\":0.1}}},\"muted_glyph\":{\"type\":\"object\",\"name\":\"Circle\",\"id\":\"p2679\",\"attributes\":{\"x\":{\"type\":\"field\",\"field\":\"Number of Edges\"},\"y\":{\"type\":\"field\",\"field\":\"Runtime (Seconds)\"},\"line_color\":{\"type\":\"value\",\"value\":\"#1f77b4\"},\"line_alpha\":{\"type\":\"value\",\"value\":0.2},\"fill_color\":{\"type\":\"value\",\"value\":\"#1f77b4\"},\"fill_alpha\":{\"type\":\"value\",\"value\":0.2},\"hatch_alpha\":{\"type\":\"value\",\"value\":0.2}}}}},{\"type\":\"object\",\"name\":\"GlyphRenderer\",\"id\":\"p2694\",\"attributes\":{\"data_source\":{\"type\":\"object\",\"name\":\"ColumnDataSource\",\"id\":\"p2685\",\"attributes\":{\"selected\":{\"type\":\"object\",\"name\":\"Selection\",\"id\":\"p2686\",\"attributes\":{\"indices\":[],\"line_indices\":[]}},\"selection_policy\":{\"type\":\"object\",\"name\":\"UnionRenderers\",\"id\":\"p2687\"},\"data\":{\"type\":\"map\",\"entries\":[[\"index\",{\"type\":\"ndarray\",\"array\":{\"type\":\"bytes\",\"data\":\"AQAAAAMAAAAFAAAABwAAAAkAAAA=\"},\"shape\":[5],\"dtype\":\"int32\",\"order\":\"little\"}],[\"Explainer\",{\"type\":\"ndarray\",\"array\":[\"GNN\",\"GNN\",\"GNN\",\"GNN\",\"GNN\"],\"shape\":[5],\"dtype\":\"object\",\"order\":\"little\"}],[\"# Epochs\",{\"type\":\"ndarray\",\"array\":{\"type\":\"bytes\",\"data\":\"MgAAADIAAAAyAAAAMgAAADIAAAA=\"},\"shape\":[5],\"dtype\":\"int32\",\"order\":\"little\"}],[\"Runtime (Seconds)\",{\"type\":\"ndarray\",\"array\":{\"type\":\"bytes\",\"data\":\"/////9oG2z8AAAAA24PhP/3///9fBc8//////59Mwz/9////a9SyPw==\"},\"shape\":[5],\"dtype\":\"float64\",\"order\":\"little\"}],[\"Number of Edges\",{\"type\":\"ndarray\",\"array\":{\"type\":\"bytes\",\"data\":\"MgAAAGQAAACWAAAAyAAAAPoAAAA=\"},\"shape\":[5],\"dtype\":\"int32\",\"order\":\"little\"}]]}}},\"view\":{\"type\":\"object\",\"name\":\"CDSView\",\"id\":\"p2695\",\"attributes\":{\"filter\":{\"type\":\"object\",\"name\":\"AllIndices\",\"id\":\"p2696\"}}},\"glyph\":{\"type\":\"object\",\"name\":\"Circle\",\"id\":\"p2691\",\"attributes\":{\"x\":{\"type\":\"field\",\"field\":\"Number of Edges\"},\"y\":{\"type\":\"field\",\"field\":\"Runtime (Seconds)\"},\"line_color\":{\"type\":\"value\",\"value\":\"orange\"},\"fill_color\":{\"type\":\"value\",\"value\":\"orange\"},\"hatch_color\":{\"type\":\"value\",\"value\":\"orange\"}}},\"nonselection_glyph\":{\"type\":\"object\",\"name\":\"Circle\",\"id\":\"p2692\",\"attributes\":{\"x\":{\"type\":\"field\",\"field\":\"Number of Edges\"},\"y\":{\"type\":\"field\",\"field\":\"Runtime (Seconds)\"},\"line_color\":{\"type\":\"value\",\"value\":\"orange\"},\"line_alpha\":{\"type\":\"value\",\"value\":0.1},\"fill_color\":{\"type\":\"value\",\"value\":\"orange\"},\"fill_alpha\":{\"type\":\"value\",\"value\":0.1},\"hatch_color\":{\"type\":\"value\",\"value\":\"orange\"},\"hatch_alpha\":{\"type\":\"value\",\"value\":0.1}}},\"muted_glyph\":{\"type\":\"object\",\"name\":\"Circle\",\"id\":\"p2693\",\"attributes\":{\"x\":{\"type\":\"field\",\"field\":\"Number of Edges\"},\"y\":{\"type\":\"field\",\"field\":\"Runtime (Seconds)\"},\"line_color\":{\"type\":\"value\",\"value\":\"orange\"},\"line_alpha\":{\"type\":\"value\",\"value\":0.2},\"fill_color\":{\"type\":\"value\",\"value\":\"orange\"},\"fill_alpha\":{\"type\":\"value\",\"value\":0.2},\"hatch_color\":{\"type\":\"value\",\"value\":\"orange\"},\"hatch_alpha\":{\"type\":\"value\",\"value\":0.2}}}}}],\"toolbar\":{\"type\":\"object\",\"name\":\"Toolbar\",\"id\":\"p2647\",\"attributes\":{\"tools\":[{\"type\":\"object\",\"name\":\"PanTool\",\"id\":\"p2660\"},{\"type\":\"object\",\"name\":\"WheelZoomTool\",\"id\":\"p2661\",\"attributes\":{\"renderers\":\"auto\"}},{\"type\":\"object\",\"name\":\"BoxZoomTool\",\"id\":\"p2662\",\"attributes\":{\"overlay\":{\"type\":\"object\",\"name\":\"BoxAnnotation\",\"id\":\"p2663\",\"attributes\":{\"syncable\":false,\"level\":\"overlay\",\"visible\":false,\"left\":{\"type\":\"number\",\"value\":\"nan\"},\"right\":{\"type\":\"number\",\"value\":\"nan\"},\"top\":{\"type\":\"number\",\"value\":\"nan\"},\"bottom\":{\"type\":\"number\",\"value\":\"nan\"},\"left_units\":\"canvas\",\"right_units\":\"canvas\",\"top_units\":\"canvas\",\"bottom_units\":\"canvas\",\"line_color\":\"black\",\"line_alpha\":1.0,\"line_width\":2,\"line_dash\":[4,4],\"fill_color\":\"lightgrey\",\"fill_alpha\":0.5}}}},{\"type\":\"object\",\"name\":\"SaveTool\",\"id\":\"p2668\"},{\"type\":\"object\",\"name\":\"ResetTool\",\"id\":\"p2669\"},{\"type\":\"object\",\"name\":\"HelpTool\",\"id\":\"p2670\"}]}},\"left\":[{\"type\":\"object\",\"name\":\"LinearAxis\",\"id\":\"p2655\",\"attributes\":{\"ticker\":{\"type\":\"object\",\"name\":\"BasicTicker\",\"id\":\"p2656\",\"attributes\":{\"mantissas\":[1,2,5]}},\"formatter\":{\"type\":\"object\",\"name\":\"BasicTickFormatter\",\"id\":\"p2657\"},\"axis_label\":\"Runtime (Seconds)\",\"major_label_policy\":{\"type\":\"object\",\"name\":\"AllLabels\",\"id\":\"p2658\"}}}],\"below\":[{\"type\":\"object\",\"name\":\"LinearAxis\",\"id\":\"p2650\",\"attributes\":{\"ticker\":{\"type\":\"object\",\"name\":\"BasicTicker\",\"id\":\"p2651\",\"attributes\":{\"mantissas\":[1,2,5]}},\"formatter\":{\"type\":\"object\",\"name\":\"BasicTickFormatter\",\"id\":\"p2652\"},\"axis_label\":\"Number of Edges\",\"major_label_policy\":{\"type\":\"object\",\"name\":\"AllLabels\",\"id\":\"p2653\"}}}],\"center\":[{\"type\":\"object\",\"name\":\"Grid\",\"id\":\"p2654\",\"attributes\":{\"axis\":{\"id\":\"p2650\"}}},{\"type\":\"object\",\"name\":\"Grid\",\"id\":\"p2659\",\"attributes\":{\"dimension\":1,\"axis\":{\"id\":\"p2655\"}}},{\"type\":\"object\",\"name\":\"Legend\",\"id\":\"p2683\",\"attributes\":{\"location\":\"top_left\",\"items\":[{\"type\":\"object\",\"name\":\"LegendItem\",\"id\":\"p2684\",\"attributes\":{\"label\":{\"type\":\"value\",\"value\":\"Beta\"},\"renderers\":[{\"id\":\"p2680\"}]}},{\"type\":\"object\",\"name\":\"LegendItem\",\"id\":\"p2697\",\"attributes\":{\"label\":{\"type\":\"value\",\"value\":\"GNN\"},\"renderers\":[{\"id\":\"p2694\"}]}}]}}]}}]}};\n",
       "  const render_items = [{\"docid\":\"ef201d40-89db-4c50-b207-becf8695b40e\",\"roots\":{\"p2639\":\"acb160a0-52f2-4f5a-a1f3-b516599154dc\"},\"root_ids\":[\"p2639\"]}];\n",
       "  root.Bokeh.embed.embed_items_notebook(docs_json, render_items);\n",
       "  }\n",
       "  if (root.Bokeh !== undefined) {\n",
       "    embed_document(root);\n",
       "  } else {\n",
       "    let attempts = 0;\n",
       "    const timer = setInterval(function(root) {\n",
       "      if (root.Bokeh !== undefined) {\n",
       "        clearInterval(timer);\n",
       "        embed_document(root);\n",
       "      } else {\n",
       "        attempts++;\n",
       "        if (attempts > 100) {\n",
       "          clearInterval(timer);\n",
       "          console.log(\"Bokeh: ERROR: Unable to run BokehJS code because BokehJS library is missing\");\n",
       "        }\n",
       "      }\n",
       "    }, 10, root)\n",
       "  }\n",
       "})(window);"
      ],
      "application/vnd.bokehjs_exec.v0+json": ""
     },
     "metadata": {
      "application/vnd.bokehjs_exec.v0+json": {
       "id": "p2639"
      }
     },
     "output_type": "display_data"
    }
   ],
   "source": [
    "x = \"Number of Edges\"\n",
    "y = \"Runtime (Seconds)\"\n",
    "p = bokeh.plotting.figure(\n",
    "    width=400,\n",
    "    height=300,\n",
    "    x_axis_label=x,\n",
    "    y_axis_label=y,\n",
    ")\n",
    "p.circle(\n",
    "    source=effects[effects['Explainer'] == 'Beta'],\n",
    "    x=x,\n",
    "    y=y,\n",
    "    legend_label=\"Beta\",\n",
    ")\n",
    "p.circle(\n",
    "    source=effects[effects['Explainer'] == 'GNN'],\n",
    "    x=x,\n",
    "    y=y,\n",
    "    legend_label=\"GNN\",\n",
    "    color='orange'\n",
    ")\n",
    "p.legend.location = \"top_left\"\n",
    "bokeh.io.show(p)"
   ]
  },
  {
   "cell_type": "code",
   "execution_count": 46,
   "id": "f378e029-b7c1-4524-8189-c7adaf32765f",
   "metadata": {
    "jupyter": {
     "source_hidden": true
    }
   },
   "outputs": [
    {
     "data": {
      "text/html": [
       "\n",
       "  <div id=\"f372e48e-63ea-407a-8ace-80a0925afcdd\" data-root-id=\"p2706\" style=\"display: contents;\"></div>\n"
      ]
     },
     "metadata": {},
     "output_type": "display_data"
    },
    {
     "data": {
      "application/javascript": [
       "(function(root) {\n",
       "  function embed_document(root) {\n",
       "  const docs_json = {\"f270a895-a5bb-453b-8c8c-b474bb058186\":{\"version\":\"3.3.4\",\"title\":\"Bokeh Application\",\"roots\":[{\"type\":\"object\",\"name\":\"Figure\",\"id\":\"p2706\",\"attributes\":{\"width\":400,\"height\":300,\"x_range\":{\"type\":\"object\",\"name\":\"DataRange1d\",\"id\":\"p2707\"},\"y_range\":{\"type\":\"object\",\"name\":\"DataRange1d\",\"id\":\"p2708\"},\"x_scale\":{\"type\":\"object\",\"name\":\"LinearScale\",\"id\":\"p2715\"},\"y_scale\":{\"type\":\"object\",\"name\":\"LinearScale\",\"id\":\"p2716\"},\"title\":{\"type\":\"object\",\"name\":\"Title\",\"id\":\"p2713\"},\"renderers\":[{\"type\":\"object\",\"name\":\"GlyphRenderer\",\"id\":\"p2747\",\"attributes\":{\"data_source\":{\"type\":\"object\",\"name\":\"ColumnDataSource\",\"id\":\"p2738\",\"attributes\":{\"selected\":{\"type\":\"object\",\"name\":\"Selection\",\"id\":\"p2739\",\"attributes\":{\"indices\":[],\"line_indices\":[]}},\"selection_policy\":{\"type\":\"object\",\"name\":\"UnionRenderers\",\"id\":\"p2740\"},\"data\":{\"type\":\"map\",\"entries\":[[\"index\",{\"type\":\"ndarray\",\"array\":{\"type\":\"bytes\",\"data\":\"AAAAAAEAAAACAAAAAwAAAAQAAAA=\"},\"shape\":[5],\"dtype\":\"int32\",\"order\":\"little\"}],[\"# Epochs\",{\"type\":\"ndarray\",\"array\":{\"type\":\"bytes\",\"data\":\"MgAAADIAAAAyAAAAMgAAADIAAAA=\"},\"shape\":[5],\"dtype\":\"int32\",\"order\":\"little\"}],[\"GNN Runtime (Seconds)\",{\"type\":\"ndarray\",\"array\":{\"type\":\"bytes\",\"data\":\"/////9oG2z8AAAAA24PhP/3///9fBc8//////59Mwz/9////a9SyPw==\"},\"shape\":[5],\"dtype\":\"float64\",\"order\":\"little\"}],[\"Number of Edges\",{\"type\":\"ndarray\",\"array\":{\"type\":\"bytes\",\"data\":\"MgAAAGQAAACWAAAAyAAAAPoAAAA=\"},\"shape\":[5],\"dtype\":\"int32\",\"order\":\"little\"}],[\"Beta Runtime (Seconds)\",{\"type\":\"ndarray\",\"array\":{\"type\":\"bytes\",\"data\":\"AQAgX4qMjEAAAPB1enmWQP//v0uBqI9AAABgw3TWgkAAAEDniopwQA==\"},\"shape\":[5],\"dtype\":\"float64\",\"order\":\"little\"}],[\"Difference (Seconds)\",{\"type\":\"ndarray\",\"array\":{\"type\":\"bytes\",\"data\":\"AQDAgymJjEAAAJD6SXeWQP//v/WQpo9AAABg+T/VgkAAAICgXYlwQA==\"},\"shape\":[5],\"dtype\":\"float64\",\"order\":\"little\"}]]}}},\"view\":{\"type\":\"object\",\"name\":\"CDSView\",\"id\":\"p2748\",\"attributes\":{\"filter\":{\"type\":\"object\",\"name\":\"AllIndices\",\"id\":\"p2749\"}}},\"glyph\":{\"type\":\"object\",\"name\":\"Circle\",\"id\":\"p2744\",\"attributes\":{\"x\":{\"type\":\"field\",\"field\":\"Number of Edges\"},\"y\":{\"type\":\"field\",\"field\":\"Difference (Seconds)\"},\"line_color\":{\"type\":\"value\",\"value\":\"#1f77b4\"},\"fill_color\":{\"type\":\"value\",\"value\":\"#1f77b4\"}}},\"nonselection_glyph\":{\"type\":\"object\",\"name\":\"Circle\",\"id\":\"p2745\",\"attributes\":{\"x\":{\"type\":\"field\",\"field\":\"Number of Edges\"},\"y\":{\"type\":\"field\",\"field\":\"Difference (Seconds)\"},\"line_color\":{\"type\":\"value\",\"value\":\"#1f77b4\"},\"line_alpha\":{\"type\":\"value\",\"value\":0.1},\"fill_color\":{\"type\":\"value\",\"value\":\"#1f77b4\"},\"fill_alpha\":{\"type\":\"value\",\"value\":0.1},\"hatch_alpha\":{\"type\":\"value\",\"value\":0.1}}},\"muted_glyph\":{\"type\":\"object\",\"name\":\"Circle\",\"id\":\"p2746\",\"attributes\":{\"x\":{\"type\":\"field\",\"field\":\"Number of Edges\"},\"y\":{\"type\":\"field\",\"field\":\"Difference (Seconds)\"},\"line_color\":{\"type\":\"value\",\"value\":\"#1f77b4\"},\"line_alpha\":{\"type\":\"value\",\"value\":0.2},\"fill_color\":{\"type\":\"value\",\"value\":\"#1f77b4\"},\"fill_alpha\":{\"type\":\"value\",\"value\":0.2},\"hatch_alpha\":{\"type\":\"value\",\"value\":0.2}}}}}],\"toolbar\":{\"type\":\"object\",\"name\":\"Toolbar\",\"id\":\"p2714\",\"attributes\":{\"tools\":[{\"type\":\"object\",\"name\":\"PanTool\",\"id\":\"p2727\"},{\"type\":\"object\",\"name\":\"WheelZoomTool\",\"id\":\"p2728\",\"attributes\":{\"renderers\":\"auto\"}},{\"type\":\"object\",\"name\":\"BoxZoomTool\",\"id\":\"p2729\",\"attributes\":{\"overlay\":{\"type\":\"object\",\"name\":\"BoxAnnotation\",\"id\":\"p2730\",\"attributes\":{\"syncable\":false,\"level\":\"overlay\",\"visible\":false,\"left\":{\"type\":\"number\",\"value\":\"nan\"},\"right\":{\"type\":\"number\",\"value\":\"nan\"},\"top\":{\"type\":\"number\",\"value\":\"nan\"},\"bottom\":{\"type\":\"number\",\"value\":\"nan\"},\"left_units\":\"canvas\",\"right_units\":\"canvas\",\"top_units\":\"canvas\",\"bottom_units\":\"canvas\",\"line_color\":\"black\",\"line_alpha\":1.0,\"line_width\":2,\"line_dash\":[4,4],\"fill_color\":\"lightgrey\",\"fill_alpha\":0.5}}}},{\"type\":\"object\",\"name\":\"SaveTool\",\"id\":\"p2735\"},{\"type\":\"object\",\"name\":\"ResetTool\",\"id\":\"p2736\"},{\"type\":\"object\",\"name\":\"HelpTool\",\"id\":\"p2737\"}]}},\"left\":[{\"type\":\"object\",\"name\":\"LinearAxis\",\"id\":\"p2722\",\"attributes\":{\"ticker\":{\"type\":\"object\",\"name\":\"BasicTicker\",\"id\":\"p2723\",\"attributes\":{\"mantissas\":[1,2,5]}},\"formatter\":{\"type\":\"object\",\"name\":\"BasicTickFormatter\",\"id\":\"p2724\"},\"axis_label\":\"Difference (Seconds)\",\"major_label_policy\":{\"type\":\"object\",\"name\":\"AllLabels\",\"id\":\"p2725\"}}}],\"below\":[{\"type\":\"object\",\"name\":\"LinearAxis\",\"id\":\"p2717\",\"attributes\":{\"ticker\":{\"type\":\"object\",\"name\":\"BasicTicker\",\"id\":\"p2718\",\"attributes\":{\"mantissas\":[1,2,5]}},\"formatter\":{\"type\":\"object\",\"name\":\"BasicTickFormatter\",\"id\":\"p2719\"},\"axis_label\":\"Number of Edges\",\"major_label_policy\":{\"type\":\"object\",\"name\":\"AllLabels\",\"id\":\"p2720\"}}}],\"center\":[{\"type\":\"object\",\"name\":\"Grid\",\"id\":\"p2721\",\"attributes\":{\"axis\":{\"id\":\"p2717\"}}},{\"type\":\"object\",\"name\":\"Grid\",\"id\":\"p2726\",\"attributes\":{\"dimension\":1,\"axis\":{\"id\":\"p2722\"}}}]}}]}};\n",
       "  const render_items = [{\"docid\":\"f270a895-a5bb-453b-8c8c-b474bb058186\",\"roots\":{\"p2706\":\"f372e48e-63ea-407a-8ace-80a0925afcdd\"},\"root_ids\":[\"p2706\"]}];\n",
       "  root.Bokeh.embed.embed_items_notebook(docs_json, render_items);\n",
       "  }\n",
       "  if (root.Bokeh !== undefined) {\n",
       "    embed_document(root);\n",
       "  } else {\n",
       "    let attempts = 0;\n",
       "    const timer = setInterval(function(root) {\n",
       "      if (root.Bokeh !== undefined) {\n",
       "        clearInterval(timer);\n",
       "        embed_document(root);\n",
       "      } else {\n",
       "        attempts++;\n",
       "        if (attempts > 100) {\n",
       "          clearInterval(timer);\n",
       "          console.log(\"Bokeh: ERROR: Unable to run BokehJS code because BokehJS library is missing\");\n",
       "        }\n",
       "      }\n",
       "    }, 10, root)\n",
       "  }\n",
       "})(window);"
      ],
      "application/vnd.bokehjs_exec.v0+json": ""
     },
     "metadata": {
      "application/vnd.bokehjs_exec.v0+json": {
       "id": "p2706"
      }
     },
     "output_type": "display_data"
    }
   ],
   "source": [
    "x = \"Number of Edges\"\n",
    "y = \"Difference (Seconds)\"\n",
    "p = bokeh.plotting.figure(\n",
    "    width=400,\n",
    "    height=300,\n",
    "    x_axis_label=x,\n",
    "    y_axis_label=y,\n",
    ")\n",
    "p.circle(\n",
    "    source=diff,\n",
    "    x=x,\n",
    "    y=y,\n",
    ")\n",
    "bokeh.io.show(p)"
   ]
  },
  {
   "cell_type": "code",
   "execution_count": 47,
   "id": "5c106517-00cd-40f4-ae83-d3e27dc7b99c",
   "metadata": {},
   "outputs": [],
   "source": [
    "effects = pd.read_csv('SERGIO25BatchGraphRuntimes.csv')\n",
    "effects = effects.drop(['Average Runtime', 'Unnamed: 0', 'Data'], axis=1)\n",
    "effects = effects.rename({'# Edges': 'Number of Edges', 'Full Runtime': 'Runtime (Seconds)'}, axis=1)\n",
    "gnn = effects[effects['Explainer'] == 'GNN']\n",
    "gnn = gnn.rename({'Runtime (Seconds)': 'GNN Runtime (Seconds)'}, axis=1)\n",
    "gnn = gnn.drop(['Explainer'], axis=1)\n",
    "beta = effects[effects['Explainer'] == 'Beta']\n",
    "beta = beta.rename({'Runtime (Seconds)': 'Beta Runtime (Seconds)'}, axis=1)\n",
    "beta = beta.drop(['Explainer'], axis=1)\n",
    "diff = pd.merge(gnn, beta, how=\"right\", on=[\"# Epochs\",'Number of Edges'])\n",
    "diff['Difference (Seconds)'] = diff['Beta Runtime (Seconds)'] - diff['GNN Runtime (Seconds)']"
   ]
  },
  {
   "cell_type": "code",
   "execution_count": 48,
   "id": "cb882868-2f43-4459-be4f-1882547b81c0",
   "metadata": {},
   "outputs": [
    {
     "data": {
      "text/html": [
       "\n",
       "  <div id=\"d8747ace-d6b7-428f-b8d6-c75d9ff52565\" data-root-id=\"p2756\" style=\"display: contents;\"></div>\n"
      ]
     },
     "metadata": {},
     "output_type": "display_data"
    },
    {
     "data": {
      "application/javascript": [
       "(function(root) {\n",
       "  function embed_document(root) {\n",
       "  const docs_json = {\"77653a7d-c67c-4a02-8ad7-a9ef8f195224\":{\"version\":\"3.3.4\",\"title\":\"Bokeh Application\",\"roots\":[{\"type\":\"object\",\"name\":\"Figure\",\"id\":\"p2756\",\"attributes\":{\"width\":400,\"height\":300,\"x_range\":{\"type\":\"object\",\"name\":\"DataRange1d\",\"id\":\"p2757\"},\"y_range\":{\"type\":\"object\",\"name\":\"DataRange1d\",\"id\":\"p2758\"},\"x_scale\":{\"type\":\"object\",\"name\":\"LinearScale\",\"id\":\"p2765\"},\"y_scale\":{\"type\":\"object\",\"name\":\"LinearScale\",\"id\":\"p2766\"},\"title\":{\"type\":\"object\",\"name\":\"Title\",\"id\":\"p2763\"},\"renderers\":[{\"type\":\"object\",\"name\":\"GlyphRenderer\",\"id\":\"p2797\",\"attributes\":{\"data_source\":{\"type\":\"object\",\"name\":\"ColumnDataSource\",\"id\":\"p2788\",\"attributes\":{\"selected\":{\"type\":\"object\",\"name\":\"Selection\",\"id\":\"p2789\",\"attributes\":{\"indices\":[],\"line_indices\":[]}},\"selection_policy\":{\"type\":\"object\",\"name\":\"UnionRenderers\",\"id\":\"p2790\"},\"data\":{\"type\":\"map\",\"entries\":[[\"index\",{\"type\":\"ndarray\",\"array\":{\"type\":\"bytes\",\"data\":\"AAAAAAIAAAAEAAAABgAAAAgAAAAKAAAADAAAAA4AAAAQAAAAEgAAABQAAAAWAAAAGAAAABoAAAAcAAAAHgAAACAAAAAiAAAAJAAAACYAAAA=\"},\"shape\":[20],\"dtype\":\"int32\",\"order\":\"little\"}],[\"Explainer\",{\"type\":\"ndarray\",\"array\":[\"Beta\",\"Beta\",\"Beta\",\"Beta\",\"Beta\",\"Beta\",\"Beta\",\"Beta\",\"Beta\",\"Beta\",\"Beta\",\"Beta\",\"Beta\",\"Beta\",\"Beta\",\"Beta\",\"Beta\",\"Beta\",\"Beta\",\"Beta\"],\"shape\":[20],\"dtype\":\"object\",\"order\":\"little\"}],[\"# Epochs\",{\"type\":\"ndarray\",\"array\":{\"type\":\"bytes\",\"data\":\"MgAAADIAAAAyAAAAMgAAADIAAAAyAAAAMgAAADIAAAAyAAAAMgAAADIAAAAyAAAAMgAAADIAAAAyAAAAMgAAADIAAAAyAAAAMgAAADIAAAA=\"},\"shape\":[20],\"dtype\":\"int32\",\"order\":\"little\"}],[\"Runtime (Seconds)\",{\"type\":\"ndarray\",\"array\":{\"type\":\"bytes\",\"data\":\"AACA/aPLe0AAAAApu7ZdQAAAAJdij19AAAAAde+YYED///8boH1YQAAAAL65FFxAAAAA7aC8X0AAAIAOGBZgQAAAAHinImBAAAAAUEJqY0AAAAAUIcFkQAAAgJwxTWZAAQCAVnKKb0AAAICuCddrQAEAAOnB9GhAAAAAqtISY0AAAADOM2dhQAAAADtP1V5AAQAApiItX0AAAAC0SLFZQA==\"},\"shape\":[20],\"dtype\":\"float64\",\"order\":\"little\"}],[\"Number of Edges\",{\"type\":\"ndarray\",\"array\":{\"type\":\"bytes\",\"data\":\"MgAAAGQAAACWAAAAyAAAAPoAAAAsAQAAXgEAAJABAADCAQAA9AEAACYCAABYAgAAigIAALwCAADuAgAAIAMAAFIDAACEAwAAtgMAAOgDAAA=\"},\"shape\":[20],\"dtype\":\"int32\",\"order\":\"little\"}]]}}},\"view\":{\"type\":\"object\",\"name\":\"CDSView\",\"id\":\"p2798\",\"attributes\":{\"filter\":{\"type\":\"object\",\"name\":\"AllIndices\",\"id\":\"p2799\"}}},\"glyph\":{\"type\":\"object\",\"name\":\"Circle\",\"id\":\"p2794\",\"attributes\":{\"x\":{\"type\":\"field\",\"field\":\"Number of Edges\"},\"y\":{\"type\":\"field\",\"field\":\"Runtime (Seconds)\"},\"line_color\":{\"type\":\"value\",\"value\":\"#1f77b4\"},\"fill_color\":{\"type\":\"value\",\"value\":\"#1f77b4\"}}},\"nonselection_glyph\":{\"type\":\"object\",\"name\":\"Circle\",\"id\":\"p2795\",\"attributes\":{\"x\":{\"type\":\"field\",\"field\":\"Number of Edges\"},\"y\":{\"type\":\"field\",\"field\":\"Runtime (Seconds)\"},\"line_color\":{\"type\":\"value\",\"value\":\"#1f77b4\"},\"line_alpha\":{\"type\":\"value\",\"value\":0.1},\"fill_color\":{\"type\":\"value\",\"value\":\"#1f77b4\"},\"fill_alpha\":{\"type\":\"value\",\"value\":0.1},\"hatch_alpha\":{\"type\":\"value\",\"value\":0.1}}},\"muted_glyph\":{\"type\":\"object\",\"name\":\"Circle\",\"id\":\"p2796\",\"attributes\":{\"x\":{\"type\":\"field\",\"field\":\"Number of Edges\"},\"y\":{\"type\":\"field\",\"field\":\"Runtime (Seconds)\"},\"line_color\":{\"type\":\"value\",\"value\":\"#1f77b4\"},\"line_alpha\":{\"type\":\"value\",\"value\":0.2},\"fill_color\":{\"type\":\"value\",\"value\":\"#1f77b4\"},\"fill_alpha\":{\"type\":\"value\",\"value\":0.2},\"hatch_alpha\":{\"type\":\"value\",\"value\":0.2}}}}},{\"type\":\"object\",\"name\":\"GlyphRenderer\",\"id\":\"p2811\",\"attributes\":{\"data_source\":{\"type\":\"object\",\"name\":\"ColumnDataSource\",\"id\":\"p2802\",\"attributes\":{\"selected\":{\"type\":\"object\",\"name\":\"Selection\",\"id\":\"p2803\",\"attributes\":{\"indices\":[],\"line_indices\":[]}},\"selection_policy\":{\"type\":\"object\",\"name\":\"UnionRenderers\",\"id\":\"p2804\"},\"data\":{\"type\":\"map\",\"entries\":[[\"index\",{\"type\":\"ndarray\",\"array\":{\"type\":\"bytes\",\"data\":\"AQAAAAMAAAAFAAAABwAAAAkAAAALAAAADQAAAA8AAAARAAAAEwAAABUAAAAXAAAAGQAAABsAAAAdAAAAHwAAACEAAAAjAAAAJQAAACcAAAA=\"},\"shape\":[20],\"dtype\":\"int32\",\"order\":\"little\"}],[\"Explainer\",{\"type\":\"ndarray\",\"array\":[\"GNN\",\"GNN\",\"GNN\",\"GNN\",\"GNN\",\"GNN\",\"GNN\",\"GNN\",\"GNN\",\"GNN\",\"GNN\",\"GNN\",\"GNN\",\"GNN\",\"GNN\",\"GNN\",\"GNN\",\"GNN\",\"GNN\",\"GNN\"],\"shape\":[20],\"dtype\":\"object\",\"order\":\"little\"}],[\"# Epochs\",{\"type\":\"ndarray\",\"array\":{\"type\":\"bytes\",\"data\":\"MgAAADIAAAAyAAAAMgAAADIAAAAyAAAAMgAAADIAAAAyAAAAMgAAADIAAAAyAAAAMgAAADIAAAAyAAAAMgAAADIAAAAyAAAAMgAAADIAAAA=\"},\"shape\":[20],\"dtype\":\"int32\",\"order\":\"little\"}],[\"Runtime (Seconds)\",{\"type\":\"ndarray\",\"array\":{\"type\":\"bytes\",\"data\":\"AAAAoKWlAED/////YXjRP/////8j4NA//////5ju2D//////FyvKPwAAAAA8+9k//////+DJ0D8AAAAAwC/UPwAAAAD+zNM/AAAAAPWu2z8AAAAARmzaPwAAAAA8z+A/AAAAADKd1z8AAAAA9KLiPwAAAAB0utQ/AAAAANAp1T//////3dHSPwAAAABDF9Q/AAAAAHwzyj8AAAAAEAvGPw==\"},\"shape\":[20],\"dtype\":\"float64\",\"order\":\"little\"}],[\"Number of Edges\",{\"type\":\"ndarray\",\"array\":{\"type\":\"bytes\",\"data\":\"MgAAAGQAAACWAAAAyAAAAPoAAAAsAQAAXgEAAJABAADCAQAA9AEAACYCAABYAgAAigIAALwCAADuAgAAIAMAAFIDAACEAwAAtgMAAOgDAAA=\"},\"shape\":[20],\"dtype\":\"int32\",\"order\":\"little\"}]]}}},\"view\":{\"type\":\"object\",\"name\":\"CDSView\",\"id\":\"p2812\",\"attributes\":{\"filter\":{\"type\":\"object\",\"name\":\"AllIndices\",\"id\":\"p2813\"}}},\"glyph\":{\"type\":\"object\",\"name\":\"Circle\",\"id\":\"p2808\",\"attributes\":{\"x\":{\"type\":\"field\",\"field\":\"Number of Edges\"},\"y\":{\"type\":\"field\",\"field\":\"Runtime (Seconds)\"},\"line_color\":{\"type\":\"value\",\"value\":\"orange\"},\"fill_color\":{\"type\":\"value\",\"value\":\"orange\"},\"hatch_color\":{\"type\":\"value\",\"value\":\"orange\"}}},\"nonselection_glyph\":{\"type\":\"object\",\"name\":\"Circle\",\"id\":\"p2809\",\"attributes\":{\"x\":{\"type\":\"field\",\"field\":\"Number of Edges\"},\"y\":{\"type\":\"field\",\"field\":\"Runtime (Seconds)\"},\"line_color\":{\"type\":\"value\",\"value\":\"orange\"},\"line_alpha\":{\"type\":\"value\",\"value\":0.1},\"fill_color\":{\"type\":\"value\",\"value\":\"orange\"},\"fill_alpha\":{\"type\":\"value\",\"value\":0.1},\"hatch_color\":{\"type\":\"value\",\"value\":\"orange\"},\"hatch_alpha\":{\"type\":\"value\",\"value\":0.1}}},\"muted_glyph\":{\"type\":\"object\",\"name\":\"Circle\",\"id\":\"p2810\",\"attributes\":{\"x\":{\"type\":\"field\",\"field\":\"Number of Edges\"},\"y\":{\"type\":\"field\",\"field\":\"Runtime (Seconds)\"},\"line_color\":{\"type\":\"value\",\"value\":\"orange\"},\"line_alpha\":{\"type\":\"value\",\"value\":0.2},\"fill_color\":{\"type\":\"value\",\"value\":\"orange\"},\"fill_alpha\":{\"type\":\"value\",\"value\":0.2},\"hatch_color\":{\"type\":\"value\",\"value\":\"orange\"},\"hatch_alpha\":{\"type\":\"value\",\"value\":0.2}}}}}],\"toolbar\":{\"type\":\"object\",\"name\":\"Toolbar\",\"id\":\"p2764\",\"attributes\":{\"tools\":[{\"type\":\"object\",\"name\":\"PanTool\",\"id\":\"p2777\"},{\"type\":\"object\",\"name\":\"WheelZoomTool\",\"id\":\"p2778\",\"attributes\":{\"renderers\":\"auto\"}},{\"type\":\"object\",\"name\":\"BoxZoomTool\",\"id\":\"p2779\",\"attributes\":{\"overlay\":{\"type\":\"object\",\"name\":\"BoxAnnotation\",\"id\":\"p2780\",\"attributes\":{\"syncable\":false,\"level\":\"overlay\",\"visible\":false,\"left\":{\"type\":\"number\",\"value\":\"nan\"},\"right\":{\"type\":\"number\",\"value\":\"nan\"},\"top\":{\"type\":\"number\",\"value\":\"nan\"},\"bottom\":{\"type\":\"number\",\"value\":\"nan\"},\"left_units\":\"canvas\",\"right_units\":\"canvas\",\"top_units\":\"canvas\",\"bottom_units\":\"canvas\",\"line_color\":\"black\",\"line_alpha\":1.0,\"line_width\":2,\"line_dash\":[4,4],\"fill_color\":\"lightgrey\",\"fill_alpha\":0.5}}}},{\"type\":\"object\",\"name\":\"SaveTool\",\"id\":\"p2785\"},{\"type\":\"object\",\"name\":\"ResetTool\",\"id\":\"p2786\"},{\"type\":\"object\",\"name\":\"HelpTool\",\"id\":\"p2787\"}]}},\"left\":[{\"type\":\"object\",\"name\":\"LinearAxis\",\"id\":\"p2772\",\"attributes\":{\"ticker\":{\"type\":\"object\",\"name\":\"BasicTicker\",\"id\":\"p2773\",\"attributes\":{\"mantissas\":[1,2,5]}},\"formatter\":{\"type\":\"object\",\"name\":\"BasicTickFormatter\",\"id\":\"p2774\"},\"axis_label\":\"Runtime (Seconds)\",\"major_label_policy\":{\"type\":\"object\",\"name\":\"AllLabels\",\"id\":\"p2775\"}}}],\"below\":[{\"type\":\"object\",\"name\":\"LinearAxis\",\"id\":\"p2767\",\"attributes\":{\"ticker\":{\"type\":\"object\",\"name\":\"BasicTicker\",\"id\":\"p2768\",\"attributes\":{\"mantissas\":[1,2,5]}},\"formatter\":{\"type\":\"object\",\"name\":\"BasicTickFormatter\",\"id\":\"p2769\"},\"axis_label\":\"Number of Edges\",\"major_label_policy\":{\"type\":\"object\",\"name\":\"AllLabels\",\"id\":\"p2770\"}}}],\"center\":[{\"type\":\"object\",\"name\":\"Grid\",\"id\":\"p2771\",\"attributes\":{\"axis\":{\"id\":\"p2767\"}}},{\"type\":\"object\",\"name\":\"Grid\",\"id\":\"p2776\",\"attributes\":{\"dimension\":1,\"axis\":{\"id\":\"p2772\"}}},{\"type\":\"object\",\"name\":\"Legend\",\"id\":\"p2800\",\"attributes\":{\"location\":\"top_left\",\"items\":[{\"type\":\"object\",\"name\":\"LegendItem\",\"id\":\"p2801\",\"attributes\":{\"label\":{\"type\":\"value\",\"value\":\"Beta\"},\"renderers\":[{\"id\":\"p2797\"}]}},{\"type\":\"object\",\"name\":\"LegendItem\",\"id\":\"p2814\",\"attributes\":{\"label\":{\"type\":\"value\",\"value\":\"GNN\"},\"renderers\":[{\"id\":\"p2811\"}]}}]}}]}}]}};\n",
       "  const render_items = [{\"docid\":\"77653a7d-c67c-4a02-8ad7-a9ef8f195224\",\"roots\":{\"p2756\":\"d8747ace-d6b7-428f-b8d6-c75d9ff52565\"},\"root_ids\":[\"p2756\"]}];\n",
       "  root.Bokeh.embed.embed_items_notebook(docs_json, render_items);\n",
       "  }\n",
       "  if (root.Bokeh !== undefined) {\n",
       "    embed_document(root);\n",
       "  } else {\n",
       "    let attempts = 0;\n",
       "    const timer = setInterval(function(root) {\n",
       "      if (root.Bokeh !== undefined) {\n",
       "        clearInterval(timer);\n",
       "        embed_document(root);\n",
       "      } else {\n",
       "        attempts++;\n",
       "        if (attempts > 100) {\n",
       "          clearInterval(timer);\n",
       "          console.log(\"Bokeh: ERROR: Unable to run BokehJS code because BokehJS library is missing\");\n",
       "        }\n",
       "      }\n",
       "    }, 10, root)\n",
       "  }\n",
       "})(window);"
      ],
      "application/vnd.bokehjs_exec.v0+json": ""
     },
     "metadata": {
      "application/vnd.bokehjs_exec.v0+json": {
       "id": "p2756"
      }
     },
     "output_type": "display_data"
    }
   ],
   "source": [
    "x = \"Number of Edges\"\n",
    "y = \"Runtime (Seconds)\"\n",
    "p = bokeh.plotting.figure(\n",
    "    width=400,\n",
    "    height=300,\n",
    "    x_axis_label=x,\n",
    "    y_axis_label=y,\n",
    ")\n",
    "p.circle(\n",
    "    source=effects[effects['Explainer'] == 'Beta'],\n",
    "    x=x,\n",
    "    y=y,\n",
    "    legend_label=\"Beta\",\n",
    ")\n",
    "p.circle(\n",
    "    source=effects[effects['Explainer'] == 'GNN'],\n",
    "    x=x,\n",
    "    y=y,\n",
    "    legend_label=\"GNN\",\n",
    "    color='orange'\n",
    ")\n",
    "p.legend.location = \"top_left\"\n",
    "bokeh.io.show(p)"
   ]
  },
  {
   "cell_type": "code",
   "execution_count": 49,
   "id": "33bc4a04-7c0f-43f0-a3b1-18dfecf0d162",
   "metadata": {},
   "outputs": [
    {
     "data": {
      "text/html": [
       "\n",
       "  <div id=\"e85ffbf1-e28d-4f60-8ebd-f0d19e69a3e1\" data-root-id=\"p2823\" style=\"display: contents;\"></div>\n"
      ]
     },
     "metadata": {},
     "output_type": "display_data"
    },
    {
     "data": {
      "application/javascript": [
       "(function(root) {\n",
       "  function embed_document(root) {\n",
       "  const docs_json = {\"974fd6ff-53fe-412b-9418-8768fd36d0e0\":{\"version\":\"3.3.4\",\"title\":\"Bokeh Application\",\"roots\":[{\"type\":\"object\",\"name\":\"Figure\",\"id\":\"p2823\",\"attributes\":{\"width\":400,\"height\":300,\"x_range\":{\"type\":\"object\",\"name\":\"DataRange1d\",\"id\":\"p2824\"},\"y_range\":{\"type\":\"object\",\"name\":\"DataRange1d\",\"id\":\"p2825\"},\"x_scale\":{\"type\":\"object\",\"name\":\"LinearScale\",\"id\":\"p2832\"},\"y_scale\":{\"type\":\"object\",\"name\":\"LinearScale\",\"id\":\"p2833\"},\"title\":{\"type\":\"object\",\"name\":\"Title\",\"id\":\"p2830\"},\"renderers\":[{\"type\":\"object\",\"name\":\"GlyphRenderer\",\"id\":\"p2864\",\"attributes\":{\"data_source\":{\"type\":\"object\",\"name\":\"ColumnDataSource\",\"id\":\"p2855\",\"attributes\":{\"selected\":{\"type\":\"object\",\"name\":\"Selection\",\"id\":\"p2856\",\"attributes\":{\"indices\":[],\"line_indices\":[]}},\"selection_policy\":{\"type\":\"object\",\"name\":\"UnionRenderers\",\"id\":\"p2857\"},\"data\":{\"type\":\"map\",\"entries\":[[\"index\",{\"type\":\"ndarray\",\"array\":{\"type\":\"bytes\",\"data\":\"AAAAAAEAAAACAAAAAwAAAAQAAAAFAAAABgAAAAcAAAAIAAAACQAAAAoAAAALAAAADAAAAA0AAAAOAAAADwAAABAAAAARAAAAEgAAABMAAAA=\"},\"shape\":[20],\"dtype\":\"int32\",\"order\":\"little\"}],[\"# Epochs\",{\"type\":\"ndarray\",\"array\":{\"type\":\"bytes\",\"data\":\"MgAAADIAAAAyAAAAMgAAADIAAAAyAAAAMgAAADIAAAAyAAAAMgAAADIAAAAyAAAAMgAAADIAAAAyAAAAMgAAADIAAAAyAAAAMgAAADIAAAA=\"},\"shape\":[20],\"dtype\":\"int32\",\"order\":\"little\"}],[\"GNN Runtime (Seconds)\",{\"type\":\"ndarray\",\"array\":{\"type\":\"bytes\",\"data\":\"AAAAoKWlAED/////YXjRP/////8j4NA//////5ju2D//////FyvKPwAAAAA8+9k//////+DJ0D8AAAAAwC/UPwAAAAD+zNM/AAAAAPWu2z8AAAAARmzaPwAAAAA8z+A/AAAAADKd1z8AAAAA9KLiPwAAAAB0utQ/AAAAANAp1T//////3dHSPwAAAABDF9Q/AAAAAHwzyj8AAAAAEAvGPw==\"},\"shape\":[20],\"dtype\":\"float64\",\"order\":\"little\"}],[\"Number of Edges\",{\"type\":\"ndarray\",\"array\":{\"type\":\"bytes\",\"data\":\"MgAAAGQAAACWAAAAyAAAAPoAAAAsAQAAXgEAAJABAADCAQAA9AEAACYCAABYAgAAigIAALwCAADuAgAAIAMAAFIDAACEAwAAtgMAAOgDAAA=\"},\"shape\":[20],\"dtype\":\"int32\",\"order\":\"little\"}],[\"Beta Runtime (Seconds)\",{\"type\":\"ndarray\",\"array\":{\"type\":\"bytes\",\"data\":\"AACA/aPLe0AAAAApu7ZdQAAAAJdij19AAAAAde+YYED///8boH1YQAAAAL65FFxAAAAA7aC8X0AAAIAOGBZgQAAAAHinImBAAAAAUEJqY0AAAAAUIcFkQAAAgJwxTWZAAQCAVnKKb0AAAICuCddrQAEAAOnB9GhAAAAAqtISY0AAAADOM2dhQAAAADtP1V5AAQAApiItX0AAAAC0SLFZQA==\"},\"shape\":[20],\"dtype\":\"float64\",\"order\":\"little\"}],[\"Difference (Seconds)\",{\"type\":\"ndarray\",\"array\":{\"type\":\"bytes\",\"data\":\"AABAsliqe0AAAADHQqVdQAAAAHOCfl9AAACAKHiMYED///+PinBYQAAAAIK++ltAAAAADNerX0AAAIAuAAxgQAAAAPnAGGBAAACA1WpcY0AAAADx6rNkQAAAgGBiPGZAAQCAvaN+b0AAAIC6ZsRrQAEAAK9k6mhAAAAAwj0IY0AAAADfyl1hQAAAAPg3wV5AAQAA6AggX0AAAAAsQ6ZZQA==\"},\"shape\":[20],\"dtype\":\"float64\",\"order\":\"little\"}]]}}},\"view\":{\"type\":\"object\",\"name\":\"CDSView\",\"id\":\"p2865\",\"attributes\":{\"filter\":{\"type\":\"object\",\"name\":\"AllIndices\",\"id\":\"p2866\"}}},\"glyph\":{\"type\":\"object\",\"name\":\"Circle\",\"id\":\"p2861\",\"attributes\":{\"x\":{\"type\":\"field\",\"field\":\"Number of Edges\"},\"y\":{\"type\":\"field\",\"field\":\"Difference (Seconds)\"},\"line_color\":{\"type\":\"value\",\"value\":\"#1f77b4\"},\"fill_color\":{\"type\":\"value\",\"value\":\"#1f77b4\"}}},\"nonselection_glyph\":{\"type\":\"object\",\"name\":\"Circle\",\"id\":\"p2862\",\"attributes\":{\"x\":{\"type\":\"field\",\"field\":\"Number of Edges\"},\"y\":{\"type\":\"field\",\"field\":\"Difference (Seconds)\"},\"line_color\":{\"type\":\"value\",\"value\":\"#1f77b4\"},\"line_alpha\":{\"type\":\"value\",\"value\":0.1},\"fill_color\":{\"type\":\"value\",\"value\":\"#1f77b4\"},\"fill_alpha\":{\"type\":\"value\",\"value\":0.1},\"hatch_alpha\":{\"type\":\"value\",\"value\":0.1}}},\"muted_glyph\":{\"type\":\"object\",\"name\":\"Circle\",\"id\":\"p2863\",\"attributes\":{\"x\":{\"type\":\"field\",\"field\":\"Number of Edges\"},\"y\":{\"type\":\"field\",\"field\":\"Difference (Seconds)\"},\"line_color\":{\"type\":\"value\",\"value\":\"#1f77b4\"},\"line_alpha\":{\"type\":\"value\",\"value\":0.2},\"fill_color\":{\"type\":\"value\",\"value\":\"#1f77b4\"},\"fill_alpha\":{\"type\":\"value\",\"value\":0.2},\"hatch_alpha\":{\"type\":\"value\",\"value\":0.2}}}}}],\"toolbar\":{\"type\":\"object\",\"name\":\"Toolbar\",\"id\":\"p2831\",\"attributes\":{\"tools\":[{\"type\":\"object\",\"name\":\"PanTool\",\"id\":\"p2844\"},{\"type\":\"object\",\"name\":\"WheelZoomTool\",\"id\":\"p2845\",\"attributes\":{\"renderers\":\"auto\"}},{\"type\":\"object\",\"name\":\"BoxZoomTool\",\"id\":\"p2846\",\"attributes\":{\"overlay\":{\"type\":\"object\",\"name\":\"BoxAnnotation\",\"id\":\"p2847\",\"attributes\":{\"syncable\":false,\"level\":\"overlay\",\"visible\":false,\"left\":{\"type\":\"number\",\"value\":\"nan\"},\"right\":{\"type\":\"number\",\"value\":\"nan\"},\"top\":{\"type\":\"number\",\"value\":\"nan\"},\"bottom\":{\"type\":\"number\",\"value\":\"nan\"},\"left_units\":\"canvas\",\"right_units\":\"canvas\",\"top_units\":\"canvas\",\"bottom_units\":\"canvas\",\"line_color\":\"black\",\"line_alpha\":1.0,\"line_width\":2,\"line_dash\":[4,4],\"fill_color\":\"lightgrey\",\"fill_alpha\":0.5}}}},{\"type\":\"object\",\"name\":\"SaveTool\",\"id\":\"p2852\"},{\"type\":\"object\",\"name\":\"ResetTool\",\"id\":\"p2853\"},{\"type\":\"object\",\"name\":\"HelpTool\",\"id\":\"p2854\"}]}},\"left\":[{\"type\":\"object\",\"name\":\"LinearAxis\",\"id\":\"p2839\",\"attributes\":{\"ticker\":{\"type\":\"object\",\"name\":\"BasicTicker\",\"id\":\"p2840\",\"attributes\":{\"mantissas\":[1,2,5]}},\"formatter\":{\"type\":\"object\",\"name\":\"BasicTickFormatter\",\"id\":\"p2841\"},\"axis_label\":\"Difference (Seconds)\",\"major_label_policy\":{\"type\":\"object\",\"name\":\"AllLabels\",\"id\":\"p2842\"}}}],\"below\":[{\"type\":\"object\",\"name\":\"LinearAxis\",\"id\":\"p2834\",\"attributes\":{\"ticker\":{\"type\":\"object\",\"name\":\"BasicTicker\",\"id\":\"p2835\",\"attributes\":{\"mantissas\":[1,2,5]}},\"formatter\":{\"type\":\"object\",\"name\":\"BasicTickFormatter\",\"id\":\"p2836\"},\"axis_label\":\"Number of Edges\",\"major_label_policy\":{\"type\":\"object\",\"name\":\"AllLabels\",\"id\":\"p2837\"}}}],\"center\":[{\"type\":\"object\",\"name\":\"Grid\",\"id\":\"p2838\",\"attributes\":{\"axis\":{\"id\":\"p2834\"}}},{\"type\":\"object\",\"name\":\"Grid\",\"id\":\"p2843\",\"attributes\":{\"dimension\":1,\"axis\":{\"id\":\"p2839\"}}}]}}]}};\n",
       "  const render_items = [{\"docid\":\"974fd6ff-53fe-412b-9418-8768fd36d0e0\",\"roots\":{\"p2823\":\"e85ffbf1-e28d-4f60-8ebd-f0d19e69a3e1\"},\"root_ids\":[\"p2823\"]}];\n",
       "  root.Bokeh.embed.embed_items_notebook(docs_json, render_items);\n",
       "  }\n",
       "  if (root.Bokeh !== undefined) {\n",
       "    embed_document(root);\n",
       "  } else {\n",
       "    let attempts = 0;\n",
       "    const timer = setInterval(function(root) {\n",
       "      if (root.Bokeh !== undefined) {\n",
       "        clearInterval(timer);\n",
       "        embed_document(root);\n",
       "      } else {\n",
       "        attempts++;\n",
       "        if (attempts > 100) {\n",
       "          clearInterval(timer);\n",
       "          console.log(\"Bokeh: ERROR: Unable to run BokehJS code because BokehJS library is missing\");\n",
       "        }\n",
       "      }\n",
       "    }, 10, root)\n",
       "  }\n",
       "})(window);"
      ],
      "application/vnd.bokehjs_exec.v0+json": ""
     },
     "metadata": {
      "application/vnd.bokehjs_exec.v0+json": {
       "id": "p2823"
      }
     },
     "output_type": "display_data"
    }
   ],
   "source": [
    "x = \"Number of Edges\"\n",
    "y = \"Difference (Seconds)\"\n",
    "p = bokeh.plotting.figure(\n",
    "    width=400,\n",
    "    height=300,\n",
    "    x_axis_label=x,\n",
    "    y_axis_label=y,\n",
    ")\n",
    "p.circle(\n",
    "    source=diff,\n",
    "    x=x,\n",
    "    y=y,\n",
    ")\n",
    "bokeh.io.show(p)"
   ]
  },
  {
   "cell_type": "code",
   "execution_count": 50,
   "id": "a3986fd4-5548-4dff-8b34-fef07ed487e7",
   "metadata": {},
   "outputs": [],
   "source": [
    "effects = pd.read_csv('SERGIO50BatchGraphRuntimes.csv')\n",
    "effects = effects.drop(['Average Runtime', 'Unnamed: 0', 'Data'], axis=1)\n",
    "effects = effects.rename({'# Edges': 'Number of Edges', 'Full Runtime': 'Runtime (Seconds)'}, axis=1)\n",
    "gnn = effects[effects['Explainer'] == 'GNN']\n",
    "gnn = gnn.rename({'Runtime (Seconds)': 'GNN Runtime (Seconds)'}, axis=1)\n",
    "gnn = gnn.drop(['Explainer'], axis=1)\n",
    "beta = effects[effects['Explainer'] == 'Beta']\n",
    "beta = beta.rename({'Runtime (Seconds)': 'Beta Runtime (Seconds)'}, axis=1)\n",
    "beta = beta.drop(['Explainer'], axis=1)\n",
    "diff = pd.merge(gnn, beta, how=\"right\", on=[\"# Epochs\",'Number of Edges'])\n",
    "diff['Difference (Seconds)'] = diff['Beta Runtime (Seconds)'] - diff['GNN Runtime (Seconds)']"
   ]
  },
  {
   "cell_type": "code",
   "execution_count": 51,
   "id": "426a0e5a-8c45-4f1b-b0e7-1d7e814faaff",
   "metadata": {},
   "outputs": [
    {
     "data": {
      "text/html": [
       "\n",
       "  <div id=\"bcec6b66-e057-4ef7-9e5e-b721652aba75\" data-root-id=\"p2873\" style=\"display: contents;\"></div>\n"
      ]
     },
     "metadata": {},
     "output_type": "display_data"
    },
    {
     "data": {
      "application/javascript": [
       "(function(root) {\n",
       "  function embed_document(root) {\n",
       "  const docs_json = {\"b9070a4a-4562-4d95-a153-13d09b0e783d\":{\"version\":\"3.3.4\",\"title\":\"Bokeh Application\",\"roots\":[{\"type\":\"object\",\"name\":\"Figure\",\"id\":\"p2873\",\"attributes\":{\"width\":400,\"height\":300,\"x_range\":{\"type\":\"object\",\"name\":\"DataRange1d\",\"id\":\"p2874\"},\"y_range\":{\"type\":\"object\",\"name\":\"DataRange1d\",\"id\":\"p2875\"},\"x_scale\":{\"type\":\"object\",\"name\":\"LinearScale\",\"id\":\"p2882\"},\"y_scale\":{\"type\":\"object\",\"name\":\"LinearScale\",\"id\":\"p2883\"},\"title\":{\"type\":\"object\",\"name\":\"Title\",\"id\":\"p2880\"},\"renderers\":[{\"type\":\"object\",\"name\":\"GlyphRenderer\",\"id\":\"p2914\",\"attributes\":{\"data_source\":{\"type\":\"object\",\"name\":\"ColumnDataSource\",\"id\":\"p2905\",\"attributes\":{\"selected\":{\"type\":\"object\",\"name\":\"Selection\",\"id\":\"p2906\",\"attributes\":{\"indices\":[],\"line_indices\":[]}},\"selection_policy\":{\"type\":\"object\",\"name\":\"UnionRenderers\",\"id\":\"p2907\"},\"data\":{\"type\":\"map\",\"entries\":[[\"index\",{\"type\":\"ndarray\",\"array\":{\"type\":\"bytes\",\"data\":\"AAAAAAIAAAAEAAAABgAAAAgAAAAKAAAADAAAAA4AAAAQAAAAEgAAABQAAAAWAAAAGAAAABoAAAAcAAAAHgAAACAAAAAiAAAAJAAAACYAAAA=\"},\"shape\":[20],\"dtype\":\"int32\",\"order\":\"little\"}],[\"Explainer\",{\"type\":\"ndarray\",\"array\":[\"Beta\",\"Beta\",\"Beta\",\"Beta\",\"Beta\",\"Beta\",\"Beta\",\"Beta\",\"Beta\",\"Beta\",\"Beta\",\"Beta\",\"Beta\",\"Beta\",\"Beta\",\"Beta\",\"Beta\",\"Beta\",\"Beta\",\"Beta\"],\"shape\":[20],\"dtype\":\"object\",\"order\":\"little\"}],[\"# Epochs\",{\"type\":\"ndarray\",\"array\":{\"type\":\"bytes\",\"data\":\"MgAAADIAAAAyAAAAMgAAADIAAAAyAAAAMgAAADIAAAAyAAAAMgAAADIAAAAyAAAAMgAAADIAAAAyAAAAMgAAADIAAAAyAAAAMgAAADIAAAA=\"},\"shape\":[20],\"dtype\":\"int32\",\"order\":\"little\"}],[\"Runtime (Seconds)\",{\"type\":\"ndarray\",\"array\":{\"type\":\"bytes\",\"data\":\"AABAFBcEfEABAAD9DMZdQAAAAIkSzl5AAACAu5ltYEABAABT1GhYQAEAALHlXVxAAAAAYaGuX0AAAABHHSZgQAAAAMx2AWBAAACAeiJVY0AAAICsKJBkQAAAgAugRmZAAQCAhEYXb0AAAAC/Y6ZrQAAAAMz0SWhAAACA30DgYkAAAICWLJZgQAAAABIEe19AAAAAXvJLXkAAAAA+OCtZQA==\"},\"shape\":[20],\"dtype\":\"float64\",\"order\":\"little\"}],[\"Number of Edges\",{\"type\":\"ndarray\",\"array\":{\"type\":\"bytes\",\"data\":\"MgAAAGQAAACWAAAAyAAAAPoAAAAsAQAAXgEAAJABAADCAQAA9AEAACYCAABYAgAAigIAALwCAADuAgAAIAMAAFIDAACEAwAAtgMAAOgDAAA=\"},\"shape\":[20],\"dtype\":\"int32\",\"order\":\"little\"}]]}}},\"view\":{\"type\":\"object\",\"name\":\"CDSView\",\"id\":\"p2915\",\"attributes\":{\"filter\":{\"type\":\"object\",\"name\":\"AllIndices\",\"id\":\"p2916\"}}},\"glyph\":{\"type\":\"object\",\"name\":\"Circle\",\"id\":\"p2911\",\"attributes\":{\"x\":{\"type\":\"field\",\"field\":\"Number of Edges\"},\"y\":{\"type\":\"field\",\"field\":\"Runtime (Seconds)\"},\"line_color\":{\"type\":\"value\",\"value\":\"#1f77b4\"},\"fill_color\":{\"type\":\"value\",\"value\":\"#1f77b4\"}}},\"nonselection_glyph\":{\"type\":\"object\",\"name\":\"Circle\",\"id\":\"p2912\",\"attributes\":{\"x\":{\"type\":\"field\",\"field\":\"Number of Edges\"},\"y\":{\"type\":\"field\",\"field\":\"Runtime (Seconds)\"},\"line_color\":{\"type\":\"value\",\"value\":\"#1f77b4\"},\"line_alpha\":{\"type\":\"value\",\"value\":0.1},\"fill_color\":{\"type\":\"value\",\"value\":\"#1f77b4\"},\"fill_alpha\":{\"type\":\"value\",\"value\":0.1},\"hatch_alpha\":{\"type\":\"value\",\"value\":0.1}}},\"muted_glyph\":{\"type\":\"object\",\"name\":\"Circle\",\"id\":\"p2913\",\"attributes\":{\"x\":{\"type\":\"field\",\"field\":\"Number of Edges\"},\"y\":{\"type\":\"field\",\"field\":\"Runtime (Seconds)\"},\"line_color\":{\"type\":\"value\",\"value\":\"#1f77b4\"},\"line_alpha\":{\"type\":\"value\",\"value\":0.2},\"fill_color\":{\"type\":\"value\",\"value\":\"#1f77b4\"},\"fill_alpha\":{\"type\":\"value\",\"value\":0.2},\"hatch_alpha\":{\"type\":\"value\",\"value\":0.2}}}}},{\"type\":\"object\",\"name\":\"GlyphRenderer\",\"id\":\"p2928\",\"attributes\":{\"data_source\":{\"type\":\"object\",\"name\":\"ColumnDataSource\",\"id\":\"p2919\",\"attributes\":{\"selected\":{\"type\":\"object\",\"name\":\"Selection\",\"id\":\"p2920\",\"attributes\":{\"indices\":[],\"line_indices\":[]}},\"selection_policy\":{\"type\":\"object\",\"name\":\"UnionRenderers\",\"id\":\"p2921\"},\"data\":{\"type\":\"map\",\"entries\":[[\"index\",{\"type\":\"ndarray\",\"array\":{\"type\":\"bytes\",\"data\":\"AQAAAAMAAAAFAAAABwAAAAkAAAALAAAADQAAAA8AAAARAAAAEwAAABUAAAAXAAAAGQAAABsAAAAdAAAAHwAAACEAAAAjAAAAJQAAACcAAAA=\"},\"shape\":[20],\"dtype\":\"int32\",\"order\":\"little\"}],[\"Explainer\",{\"type\":\"ndarray\",\"array\":[\"GNN\",\"GNN\",\"GNN\",\"GNN\",\"GNN\",\"GNN\",\"GNN\",\"GNN\",\"GNN\",\"GNN\",\"GNN\",\"GNN\",\"GNN\",\"GNN\",\"GNN\",\"GNN\",\"GNN\",\"GNN\",\"GNN\",\"GNN\"],\"shape\":[20],\"dtype\":\"object\",\"order\":\"little\"}],[\"# Epochs\",{\"type\":\"ndarray\",\"array\":{\"type\":\"bytes\",\"data\":\"MgAAADIAAAAyAAAAMgAAADIAAAAyAAAAMgAAADIAAAAyAAAAMgAAADIAAAAyAAAAMgAAADIAAAAyAAAAMgAAADIAAAAyAAAAMgAAADIAAAA=\"},\"shape\":[20],\"dtype\":\"int32\",\"order\":\"little\"}],[\"Runtime (Seconds)\",{\"type\":\"ndarray\",\"array\":{\"type\":\"bytes\",\"data\":\"AAAAgACX+T8AAAAAeTvUPwAAAAB+LdE//////2kw0D//////o7nHPwAAAACPVds//////2up0j8AAAAAztXSPwAAAABJhdM/AAAAAIf41j8AAAAAcmDaP//////Yqt4/AAAAAMpL4D8AAACAmDrhPwAAAABxPdw/AAAAADfn0z/+////waLNPwAAAAC6jug//////5OH0T/+////N6TKPw==\"},\"shape\":[20],\"dtype\":\"float64\",\"order\":\"little\"}],[\"Number of Edges\",{\"type\":\"ndarray\",\"array\":{\"type\":\"bytes\",\"data\":\"MgAAAGQAAACWAAAAyAAAAPoAAAAsAQAAXgEAAJABAADCAQAA9AEAACYCAABYAgAAigIAALwCAADuAgAAIAMAAFIDAACEAwAAtgMAAOgDAAA=\"},\"shape\":[20],\"dtype\":\"int32\",\"order\":\"little\"}]]}}},\"view\":{\"type\":\"object\",\"name\":\"CDSView\",\"id\":\"p2929\",\"attributes\":{\"filter\":{\"type\":\"object\",\"name\":\"AllIndices\",\"id\":\"p2930\"}}},\"glyph\":{\"type\":\"object\",\"name\":\"Circle\",\"id\":\"p2925\",\"attributes\":{\"x\":{\"type\":\"field\",\"field\":\"Number of Edges\"},\"y\":{\"type\":\"field\",\"field\":\"Runtime (Seconds)\"},\"line_color\":{\"type\":\"value\",\"value\":\"orange\"},\"fill_color\":{\"type\":\"value\",\"value\":\"orange\"},\"hatch_color\":{\"type\":\"value\",\"value\":\"orange\"}}},\"nonselection_glyph\":{\"type\":\"object\",\"name\":\"Circle\",\"id\":\"p2926\",\"attributes\":{\"x\":{\"type\":\"field\",\"field\":\"Number of Edges\"},\"y\":{\"type\":\"field\",\"field\":\"Runtime (Seconds)\"},\"line_color\":{\"type\":\"value\",\"value\":\"orange\"},\"line_alpha\":{\"type\":\"value\",\"value\":0.1},\"fill_color\":{\"type\":\"value\",\"value\":\"orange\"},\"fill_alpha\":{\"type\":\"value\",\"value\":0.1},\"hatch_color\":{\"type\":\"value\",\"value\":\"orange\"},\"hatch_alpha\":{\"type\":\"value\",\"value\":0.1}}},\"muted_glyph\":{\"type\":\"object\",\"name\":\"Circle\",\"id\":\"p2927\",\"attributes\":{\"x\":{\"type\":\"field\",\"field\":\"Number of Edges\"},\"y\":{\"type\":\"field\",\"field\":\"Runtime (Seconds)\"},\"line_color\":{\"type\":\"value\",\"value\":\"orange\"},\"line_alpha\":{\"type\":\"value\",\"value\":0.2},\"fill_color\":{\"type\":\"value\",\"value\":\"orange\"},\"fill_alpha\":{\"type\":\"value\",\"value\":0.2},\"hatch_color\":{\"type\":\"value\",\"value\":\"orange\"},\"hatch_alpha\":{\"type\":\"value\",\"value\":0.2}}}}}],\"toolbar\":{\"type\":\"object\",\"name\":\"Toolbar\",\"id\":\"p2881\",\"attributes\":{\"tools\":[{\"type\":\"object\",\"name\":\"PanTool\",\"id\":\"p2894\"},{\"type\":\"object\",\"name\":\"WheelZoomTool\",\"id\":\"p2895\",\"attributes\":{\"renderers\":\"auto\"}},{\"type\":\"object\",\"name\":\"BoxZoomTool\",\"id\":\"p2896\",\"attributes\":{\"overlay\":{\"type\":\"object\",\"name\":\"BoxAnnotation\",\"id\":\"p2897\",\"attributes\":{\"syncable\":false,\"level\":\"overlay\",\"visible\":false,\"left\":{\"type\":\"number\",\"value\":\"nan\"},\"right\":{\"type\":\"number\",\"value\":\"nan\"},\"top\":{\"type\":\"number\",\"value\":\"nan\"},\"bottom\":{\"type\":\"number\",\"value\":\"nan\"},\"left_units\":\"canvas\",\"right_units\":\"canvas\",\"top_units\":\"canvas\",\"bottom_units\":\"canvas\",\"line_color\":\"black\",\"line_alpha\":1.0,\"line_width\":2,\"line_dash\":[4,4],\"fill_color\":\"lightgrey\",\"fill_alpha\":0.5}}}},{\"type\":\"object\",\"name\":\"SaveTool\",\"id\":\"p2902\"},{\"type\":\"object\",\"name\":\"ResetTool\",\"id\":\"p2903\"},{\"type\":\"object\",\"name\":\"HelpTool\",\"id\":\"p2904\"}]}},\"left\":[{\"type\":\"object\",\"name\":\"LinearAxis\",\"id\":\"p2889\",\"attributes\":{\"ticker\":{\"type\":\"object\",\"name\":\"BasicTicker\",\"id\":\"p2890\",\"attributes\":{\"mantissas\":[1,2,5]}},\"formatter\":{\"type\":\"object\",\"name\":\"BasicTickFormatter\",\"id\":\"p2891\"},\"axis_label\":\"Runtime (Seconds)\",\"major_label_policy\":{\"type\":\"object\",\"name\":\"AllLabels\",\"id\":\"p2892\"}}}],\"below\":[{\"type\":\"object\",\"name\":\"LinearAxis\",\"id\":\"p2884\",\"attributes\":{\"ticker\":{\"type\":\"object\",\"name\":\"BasicTicker\",\"id\":\"p2885\",\"attributes\":{\"mantissas\":[1,2,5]}},\"formatter\":{\"type\":\"object\",\"name\":\"BasicTickFormatter\",\"id\":\"p2886\"},\"axis_label\":\"Number of Edges\",\"major_label_policy\":{\"type\":\"object\",\"name\":\"AllLabels\",\"id\":\"p2887\"}}}],\"center\":[{\"type\":\"object\",\"name\":\"Grid\",\"id\":\"p2888\",\"attributes\":{\"axis\":{\"id\":\"p2884\"}}},{\"type\":\"object\",\"name\":\"Grid\",\"id\":\"p2893\",\"attributes\":{\"dimension\":1,\"axis\":{\"id\":\"p2889\"}}},{\"type\":\"object\",\"name\":\"Legend\",\"id\":\"p2917\",\"attributes\":{\"location\":\"top_left\",\"items\":[{\"type\":\"object\",\"name\":\"LegendItem\",\"id\":\"p2918\",\"attributes\":{\"label\":{\"type\":\"value\",\"value\":\"Beta\"},\"renderers\":[{\"id\":\"p2914\"}]}},{\"type\":\"object\",\"name\":\"LegendItem\",\"id\":\"p2931\",\"attributes\":{\"label\":{\"type\":\"value\",\"value\":\"GNN\"},\"renderers\":[{\"id\":\"p2928\"}]}}]}}]}}]}};\n",
       "  const render_items = [{\"docid\":\"b9070a4a-4562-4d95-a153-13d09b0e783d\",\"roots\":{\"p2873\":\"bcec6b66-e057-4ef7-9e5e-b721652aba75\"},\"root_ids\":[\"p2873\"]}];\n",
       "  root.Bokeh.embed.embed_items_notebook(docs_json, render_items);\n",
       "  }\n",
       "  if (root.Bokeh !== undefined) {\n",
       "    embed_document(root);\n",
       "  } else {\n",
       "    let attempts = 0;\n",
       "    const timer = setInterval(function(root) {\n",
       "      if (root.Bokeh !== undefined) {\n",
       "        clearInterval(timer);\n",
       "        embed_document(root);\n",
       "      } else {\n",
       "        attempts++;\n",
       "        if (attempts > 100) {\n",
       "          clearInterval(timer);\n",
       "          console.log(\"Bokeh: ERROR: Unable to run BokehJS code because BokehJS library is missing\");\n",
       "        }\n",
       "      }\n",
       "    }, 10, root)\n",
       "  }\n",
       "})(window);"
      ],
      "application/vnd.bokehjs_exec.v0+json": ""
     },
     "metadata": {
      "application/vnd.bokehjs_exec.v0+json": {
       "id": "p2873"
      }
     },
     "output_type": "display_data"
    }
   ],
   "source": [
    "x = \"Number of Edges\"\n",
    "y = \"Runtime (Seconds)\"\n",
    "p = bokeh.plotting.figure(\n",
    "    width=400,\n",
    "    height=300,\n",
    "    x_axis_label=x,\n",
    "    y_axis_label=y,\n",
    ")\n",
    "p.circle(\n",
    "    source=effects[effects['Explainer'] == 'Beta'],\n",
    "    x=x,\n",
    "    y=y,\n",
    "    legend_label=\"Beta\",\n",
    ")\n",
    "p.circle(\n",
    "    source=effects[effects['Explainer'] == 'GNN'],\n",
    "    x=x,\n",
    "    y=y,\n",
    "    legend_label=\"GNN\",\n",
    "    color='orange'\n",
    ")\n",
    "p.legend.location = \"top_left\"\n",
    "bokeh.io.show(p)"
   ]
  },
  {
   "cell_type": "code",
   "execution_count": 52,
   "id": "eb503fff-e3b1-4efd-9d1e-2c1922aa1642",
   "metadata": {},
   "outputs": [
    {
     "data": {
      "text/html": [
       "\n",
       "  <div id=\"f7543606-883f-45a8-97c3-9316bd7ec756\" data-root-id=\"p2940\" style=\"display: contents;\"></div>\n"
      ]
     },
     "metadata": {},
     "output_type": "display_data"
    },
    {
     "data": {
      "application/javascript": [
       "(function(root) {\n",
       "  function embed_document(root) {\n",
       "  const docs_json = {\"332f0491-5d0f-46f4-8c29-25c47b13c428\":{\"version\":\"3.3.4\",\"title\":\"Bokeh Application\",\"roots\":[{\"type\":\"object\",\"name\":\"Figure\",\"id\":\"p2940\",\"attributes\":{\"width\":400,\"height\":300,\"x_range\":{\"type\":\"object\",\"name\":\"DataRange1d\",\"id\":\"p2941\"},\"y_range\":{\"type\":\"object\",\"name\":\"DataRange1d\",\"id\":\"p2942\"},\"x_scale\":{\"type\":\"object\",\"name\":\"LinearScale\",\"id\":\"p2949\"},\"y_scale\":{\"type\":\"object\",\"name\":\"LinearScale\",\"id\":\"p2950\"},\"title\":{\"type\":\"object\",\"name\":\"Title\",\"id\":\"p2947\"},\"renderers\":[{\"type\":\"object\",\"name\":\"GlyphRenderer\",\"id\":\"p2981\",\"attributes\":{\"data_source\":{\"type\":\"object\",\"name\":\"ColumnDataSource\",\"id\":\"p2972\",\"attributes\":{\"selected\":{\"type\":\"object\",\"name\":\"Selection\",\"id\":\"p2973\",\"attributes\":{\"indices\":[],\"line_indices\":[]}},\"selection_policy\":{\"type\":\"object\",\"name\":\"UnionRenderers\",\"id\":\"p2974\"},\"data\":{\"type\":\"map\",\"entries\":[[\"index\",{\"type\":\"ndarray\",\"array\":{\"type\":\"bytes\",\"data\":\"AAAAAAEAAAACAAAAAwAAAAQAAAAFAAAABgAAAAcAAAAIAAAACQAAAAoAAAALAAAADAAAAA0AAAAOAAAADwAAABAAAAARAAAAEgAAABMAAAA=\"},\"shape\":[20],\"dtype\":\"int32\",\"order\":\"little\"}],[\"# Epochs\",{\"type\":\"ndarray\",\"array\":{\"type\":\"bytes\",\"data\":\"MgAAADIAAAAyAAAAMgAAADIAAAAyAAAAMgAAADIAAAAyAAAAMgAAADIAAAAyAAAAMgAAADIAAAAyAAAAMgAAADIAAAAyAAAAMgAAADIAAAA=\"},\"shape\":[20],\"dtype\":\"int32\",\"order\":\"little\"}],[\"GNN Runtime (Seconds)\",{\"type\":\"ndarray\",\"array\":{\"type\":\"bytes\",\"data\":\"AAAAgACX+T8AAAAAeTvUPwAAAAB+LdE//////2kw0D//////o7nHPwAAAACPVds//////2up0j8AAAAAztXSPwAAAABJhdM/AAAAAIf41j8AAAAAcmDaP//////Yqt4/AAAAAMpL4D8AAACAmDrhPwAAAABxPdw/AAAAADfn0z/+////waLNPwAAAAC6jug//////5OH0T/+////N6TKPw==\"},\"shape\":[20],\"dtype\":\"float64\",\"order\":\"little\"}],[\"Number of Edges\",{\"type\":\"ndarray\",\"array\":{\"type\":\"bytes\",\"data\":\"MgAAAGQAAACWAAAAyAAAAPoAAAAsAQAAXgEAAJABAADCAQAA9AEAACYCAABYAgAAigIAALwCAADuAgAAIAMAAFIDAACEAwAAtgMAAOgDAAA=\"},\"shape\":[20],\"dtype\":\"int32\",\"order\":\"little\"}],[\"Beta Runtime (Seconds)\",{\"type\":\"ndarray\",\"array\":{\"type\":\"bytes\",\"data\":\"AABAFBcEfEABAAD9DMZdQAAAAIkSzl5AAACAu5ltYEABAABT1GhYQAEAALHlXVxAAAAAYaGuX0AAAABHHSZgQAAAAMx2AWBAAACAeiJVY0AAAICsKJBkQAAAgAugRmZAAQCAhEYXb0AAAAC/Y6ZrQAAAAMz0SWhAAACA30DgYkAAAICWLJZgQAAAABIEe19AAAAAXvJLXkAAAAA+OCtZQA==\"},\"shape\":[20],\"dtype\":\"float64\",\"order\":\"little\"}],[\"Difference (Seconds)\",{\"type\":\"ndarray\",\"array\":{\"type\":\"bytes\",\"data\":\"AADAE4Dqe0ABAACE0bFdQAAAAAvlvF5AAACAhoFlYEABAACB91xYQAEAACKQQlxAAAAA9febX0AAAABgshxgQAAAAE9o719AAAAAN6ZJY0AAAIBz+IJkQAAAAJ9KN2ZAAQCAuvoGb0AAAIAmKZVrQAAAgBPWO2hAAAAARE3WYkAAAADmw45gQAAAAJ7mSV9AAAAAymo6XkAAAAAi5h1ZQA==\"},\"shape\":[20],\"dtype\":\"float64\",\"order\":\"little\"}]]}}},\"view\":{\"type\":\"object\",\"name\":\"CDSView\",\"id\":\"p2982\",\"attributes\":{\"filter\":{\"type\":\"object\",\"name\":\"AllIndices\",\"id\":\"p2983\"}}},\"glyph\":{\"type\":\"object\",\"name\":\"Circle\",\"id\":\"p2978\",\"attributes\":{\"x\":{\"type\":\"field\",\"field\":\"Number of Edges\"},\"y\":{\"type\":\"field\",\"field\":\"Difference (Seconds)\"},\"line_color\":{\"type\":\"value\",\"value\":\"#1f77b4\"},\"fill_color\":{\"type\":\"value\",\"value\":\"#1f77b4\"}}},\"nonselection_glyph\":{\"type\":\"object\",\"name\":\"Circle\",\"id\":\"p2979\",\"attributes\":{\"x\":{\"type\":\"field\",\"field\":\"Number of Edges\"},\"y\":{\"type\":\"field\",\"field\":\"Difference (Seconds)\"},\"line_color\":{\"type\":\"value\",\"value\":\"#1f77b4\"},\"line_alpha\":{\"type\":\"value\",\"value\":0.1},\"fill_color\":{\"type\":\"value\",\"value\":\"#1f77b4\"},\"fill_alpha\":{\"type\":\"value\",\"value\":0.1},\"hatch_alpha\":{\"type\":\"value\",\"value\":0.1}}},\"muted_glyph\":{\"type\":\"object\",\"name\":\"Circle\",\"id\":\"p2980\",\"attributes\":{\"x\":{\"type\":\"field\",\"field\":\"Number of Edges\"},\"y\":{\"type\":\"field\",\"field\":\"Difference (Seconds)\"},\"line_color\":{\"type\":\"value\",\"value\":\"#1f77b4\"},\"line_alpha\":{\"type\":\"value\",\"value\":0.2},\"fill_color\":{\"type\":\"value\",\"value\":\"#1f77b4\"},\"fill_alpha\":{\"type\":\"value\",\"value\":0.2},\"hatch_alpha\":{\"type\":\"value\",\"value\":0.2}}}}}],\"toolbar\":{\"type\":\"object\",\"name\":\"Toolbar\",\"id\":\"p2948\",\"attributes\":{\"tools\":[{\"type\":\"object\",\"name\":\"PanTool\",\"id\":\"p2961\"},{\"type\":\"object\",\"name\":\"WheelZoomTool\",\"id\":\"p2962\",\"attributes\":{\"renderers\":\"auto\"}},{\"type\":\"object\",\"name\":\"BoxZoomTool\",\"id\":\"p2963\",\"attributes\":{\"overlay\":{\"type\":\"object\",\"name\":\"BoxAnnotation\",\"id\":\"p2964\",\"attributes\":{\"syncable\":false,\"level\":\"overlay\",\"visible\":false,\"left\":{\"type\":\"number\",\"value\":\"nan\"},\"right\":{\"type\":\"number\",\"value\":\"nan\"},\"top\":{\"type\":\"number\",\"value\":\"nan\"},\"bottom\":{\"type\":\"number\",\"value\":\"nan\"},\"left_units\":\"canvas\",\"right_units\":\"canvas\",\"top_units\":\"canvas\",\"bottom_units\":\"canvas\",\"line_color\":\"black\",\"line_alpha\":1.0,\"line_width\":2,\"line_dash\":[4,4],\"fill_color\":\"lightgrey\",\"fill_alpha\":0.5}}}},{\"type\":\"object\",\"name\":\"SaveTool\",\"id\":\"p2969\"},{\"type\":\"object\",\"name\":\"ResetTool\",\"id\":\"p2970\"},{\"type\":\"object\",\"name\":\"HelpTool\",\"id\":\"p2971\"}]}},\"left\":[{\"type\":\"object\",\"name\":\"LinearAxis\",\"id\":\"p2956\",\"attributes\":{\"ticker\":{\"type\":\"object\",\"name\":\"BasicTicker\",\"id\":\"p2957\",\"attributes\":{\"mantissas\":[1,2,5]}},\"formatter\":{\"type\":\"object\",\"name\":\"BasicTickFormatter\",\"id\":\"p2958\"},\"axis_label\":\"Difference (Seconds)\",\"major_label_policy\":{\"type\":\"object\",\"name\":\"AllLabels\",\"id\":\"p2959\"}}}],\"below\":[{\"type\":\"object\",\"name\":\"LinearAxis\",\"id\":\"p2951\",\"attributes\":{\"ticker\":{\"type\":\"object\",\"name\":\"BasicTicker\",\"id\":\"p2952\",\"attributes\":{\"mantissas\":[1,2,5]}},\"formatter\":{\"type\":\"object\",\"name\":\"BasicTickFormatter\",\"id\":\"p2953\"},\"axis_label\":\"Number of Edges\",\"major_label_policy\":{\"type\":\"object\",\"name\":\"AllLabels\",\"id\":\"p2954\"}}}],\"center\":[{\"type\":\"object\",\"name\":\"Grid\",\"id\":\"p2955\",\"attributes\":{\"axis\":{\"id\":\"p2951\"}}},{\"type\":\"object\",\"name\":\"Grid\",\"id\":\"p2960\",\"attributes\":{\"dimension\":1,\"axis\":{\"id\":\"p2956\"}}}]}}]}};\n",
       "  const render_items = [{\"docid\":\"332f0491-5d0f-46f4-8c29-25c47b13c428\",\"roots\":{\"p2940\":\"f7543606-883f-45a8-97c3-9316bd7ec756\"},\"root_ids\":[\"p2940\"]}];\n",
       "  root.Bokeh.embed.embed_items_notebook(docs_json, render_items);\n",
       "  }\n",
       "  if (root.Bokeh !== undefined) {\n",
       "    embed_document(root);\n",
       "  } else {\n",
       "    let attempts = 0;\n",
       "    const timer = setInterval(function(root) {\n",
       "      if (root.Bokeh !== undefined) {\n",
       "        clearInterval(timer);\n",
       "        embed_document(root);\n",
       "      } else {\n",
       "        attempts++;\n",
       "        if (attempts > 100) {\n",
       "          clearInterval(timer);\n",
       "          console.log(\"Bokeh: ERROR: Unable to run BokehJS code because BokehJS library is missing\");\n",
       "        }\n",
       "      }\n",
       "    }, 10, root)\n",
       "  }\n",
       "})(window);"
      ],
      "application/vnd.bokehjs_exec.v0+json": ""
     },
     "metadata": {
      "application/vnd.bokehjs_exec.v0+json": {
       "id": "p2940"
      }
     },
     "output_type": "display_data"
    }
   ],
   "source": [
    "x = \"Number of Edges\"\n",
    "y = \"Difference (Seconds)\"\n",
    "p = bokeh.plotting.figure(\n",
    "    width=400,\n",
    "    height=300,\n",
    "    x_axis_label=x,\n",
    "    y_axis_label=y,\n",
    ")\n",
    "p.circle(\n",
    "    source=diff,\n",
    "    x=x,\n",
    "    y=y,\n",
    ")\n",
    "bokeh.io.show(p)"
   ]
  },
  {
   "cell_type": "code",
   "execution_count": 53,
   "id": "4e12032b-fd26-405f-8ee3-32b27fd183e5",
   "metadata": {},
   "outputs": [],
   "source": [
    "effects = pd.read_csv('SERGIO75BatchGraphRuntimes.csv')\n",
    "effects = effects.drop(['Average Runtime', 'Unnamed: 0', 'Data'], axis=1)\n",
    "effects = effects.rename({'# Edges': 'Number of Edges', 'Full Runtime': 'Runtime (Seconds)'}, axis=1)\n",
    "gnn = effects[effects['Explainer'] == 'GNN']\n",
    "gnn = gnn.rename({'Runtime (Seconds)': 'GNN Runtime (Seconds)'}, axis=1)\n",
    "gnn = gnn.drop(['Explainer'], axis=1)\n",
    "beta = effects[effects['Explainer'] == 'Beta']\n",
    "beta = beta.rename({'Runtime (Seconds)': 'Beta Runtime (Seconds)'}, axis=1)\n",
    "beta = beta.drop(['Explainer'], axis=1)\n",
    "diff = pd.merge(gnn, beta, how=\"right\", on=[\"# Epochs\",'Number of Edges'])\n",
    "diff['Difference (Seconds)'] = diff['Beta Runtime (Seconds)'] - diff['GNN Runtime (Seconds)']"
   ]
  },
  {
   "cell_type": "code",
   "execution_count": 54,
   "id": "d960b966-489e-4f56-a2a3-401d38df8468",
   "metadata": {},
   "outputs": [
    {
     "data": {
      "text/html": [
       "\n",
       "  <div id=\"cef8ad37-a0a4-4ffd-8824-2195fe20cfc2\" data-root-id=\"p2990\" style=\"display: contents;\"></div>\n"
      ]
     },
     "metadata": {},
     "output_type": "display_data"
    },
    {
     "data": {
      "application/javascript": [
       "(function(root) {\n",
       "  function embed_document(root) {\n",
       "  const docs_json = {\"ef53b319-5d64-421f-9dc0-01043cd25796\":{\"version\":\"3.3.4\",\"title\":\"Bokeh Application\",\"roots\":[{\"type\":\"object\",\"name\":\"Figure\",\"id\":\"p2990\",\"attributes\":{\"width\":400,\"height\":300,\"x_range\":{\"type\":\"object\",\"name\":\"DataRange1d\",\"id\":\"p2991\"},\"y_range\":{\"type\":\"object\",\"name\":\"DataRange1d\",\"id\":\"p2992\"},\"x_scale\":{\"type\":\"object\",\"name\":\"LinearScale\",\"id\":\"p2999\"},\"y_scale\":{\"type\":\"object\",\"name\":\"LinearScale\",\"id\":\"p3000\"},\"title\":{\"type\":\"object\",\"name\":\"Title\",\"id\":\"p2997\"},\"renderers\":[{\"type\":\"object\",\"name\":\"GlyphRenderer\",\"id\":\"p3031\",\"attributes\":{\"data_source\":{\"type\":\"object\",\"name\":\"ColumnDataSource\",\"id\":\"p3022\",\"attributes\":{\"selected\":{\"type\":\"object\",\"name\":\"Selection\",\"id\":\"p3023\",\"attributes\":{\"indices\":[],\"line_indices\":[]}},\"selection_policy\":{\"type\":\"object\",\"name\":\"UnionRenderers\",\"id\":\"p3024\"},\"data\":{\"type\":\"map\",\"entries\":[[\"index\",{\"type\":\"ndarray\",\"array\":{\"type\":\"bytes\",\"data\":\"AAAAAAIAAAAEAAAABgAAAAgAAAA=\"},\"shape\":[5],\"dtype\":\"int32\",\"order\":\"little\"}],[\"Explainer\",{\"type\":\"ndarray\",\"array\":[\"Beta\",\"Beta\",\"Beta\",\"Beta\",\"Beta\"],\"shape\":[5],\"dtype\":\"object\",\"order\":\"little\"}],[\"# Epochs\",{\"type\":\"ndarray\",\"array\":{\"type\":\"bytes\",\"data\":\"MgAAADIAAAAyAAAAMgAAADIAAAA=\"},\"shape\":[5],\"dtype\":\"int32\",\"order\":\"little\"}],[\"Runtime (Seconds)\",{\"type\":\"ndarray\",\"array\":{\"type\":\"bytes\",\"data\":\"AAAAc/DSZ0D//38jhgtoQAAAAFmGaWVAAAAAGk3VYUAAAIAQHMBgQA==\"},\"shape\":[5],\"dtype\":\"float64\",\"order\":\"little\"}],[\"Number of Edges\",{\"type\":\"ndarray\",\"array\":{\"type\":\"bytes\",\"data\":\"MgAAAGQAAACWAAAAyAAAAPoAAAA=\"},\"shape\":[5],\"dtype\":\"int32\",\"order\":\"little\"}]]}}},\"view\":{\"type\":\"object\",\"name\":\"CDSView\",\"id\":\"p3032\",\"attributes\":{\"filter\":{\"type\":\"object\",\"name\":\"AllIndices\",\"id\":\"p3033\"}}},\"glyph\":{\"type\":\"object\",\"name\":\"Circle\",\"id\":\"p3028\",\"attributes\":{\"x\":{\"type\":\"field\",\"field\":\"Number of Edges\"},\"y\":{\"type\":\"field\",\"field\":\"Runtime (Seconds)\"},\"line_color\":{\"type\":\"value\",\"value\":\"#1f77b4\"},\"fill_color\":{\"type\":\"value\",\"value\":\"#1f77b4\"}}},\"nonselection_glyph\":{\"type\":\"object\",\"name\":\"Circle\",\"id\":\"p3029\",\"attributes\":{\"x\":{\"type\":\"field\",\"field\":\"Number of Edges\"},\"y\":{\"type\":\"field\",\"field\":\"Runtime (Seconds)\"},\"line_color\":{\"type\":\"value\",\"value\":\"#1f77b4\"},\"line_alpha\":{\"type\":\"value\",\"value\":0.1},\"fill_color\":{\"type\":\"value\",\"value\":\"#1f77b4\"},\"fill_alpha\":{\"type\":\"value\",\"value\":0.1},\"hatch_alpha\":{\"type\":\"value\",\"value\":0.1}}},\"muted_glyph\":{\"type\":\"object\",\"name\":\"Circle\",\"id\":\"p3030\",\"attributes\":{\"x\":{\"type\":\"field\",\"field\":\"Number of Edges\"},\"y\":{\"type\":\"field\",\"field\":\"Runtime (Seconds)\"},\"line_color\":{\"type\":\"value\",\"value\":\"#1f77b4\"},\"line_alpha\":{\"type\":\"value\",\"value\":0.2},\"fill_color\":{\"type\":\"value\",\"value\":\"#1f77b4\"},\"fill_alpha\":{\"type\":\"value\",\"value\":0.2},\"hatch_alpha\":{\"type\":\"value\",\"value\":0.2}}}}},{\"type\":\"object\",\"name\":\"GlyphRenderer\",\"id\":\"p3045\",\"attributes\":{\"data_source\":{\"type\":\"object\",\"name\":\"ColumnDataSource\",\"id\":\"p3036\",\"attributes\":{\"selected\":{\"type\":\"object\",\"name\":\"Selection\",\"id\":\"p3037\",\"attributes\":{\"indices\":[],\"line_indices\":[]}},\"selection_policy\":{\"type\":\"object\",\"name\":\"UnionRenderers\",\"id\":\"p3038\"},\"data\":{\"type\":\"map\",\"entries\":[[\"index\",{\"type\":\"ndarray\",\"array\":{\"type\":\"bytes\",\"data\":\"AQAAAAMAAAAFAAAABwAAAAkAAAA=\"},\"shape\":[5],\"dtype\":\"int32\",\"order\":\"little\"}],[\"Explainer\",{\"type\":\"ndarray\",\"array\":[\"GNN\",\"GNN\",\"GNN\",\"GNN\",\"GNN\"],\"shape\":[5],\"dtype\":\"object\",\"order\":\"little\"}],[\"# Epochs\",{\"type\":\"ndarray\",\"array\":{\"type\":\"bytes\",\"data\":\"MgAAADIAAAAyAAAAMgAAADIAAAA=\"},\"shape\":[5],\"dtype\":\"int32\",\"order\":\"little\"}],[\"Runtime (Seconds)\",{\"type\":\"ndarray\",\"array\":{\"type\":\"bytes\",\"data\":\"AAAAANfC6z8AAAAAeDDiPwAAAIBRDeE//////93X1D//////HTnVPw==\"},\"shape\":[5],\"dtype\":\"float64\",\"order\":\"little\"}],[\"Number of Edges\",{\"type\":\"ndarray\",\"array\":{\"type\":\"bytes\",\"data\":\"MgAAAGQAAACWAAAAyAAAAPoAAAA=\"},\"shape\":[5],\"dtype\":\"int32\",\"order\":\"little\"}]]}}},\"view\":{\"type\":\"object\",\"name\":\"CDSView\",\"id\":\"p3046\",\"attributes\":{\"filter\":{\"type\":\"object\",\"name\":\"AllIndices\",\"id\":\"p3047\"}}},\"glyph\":{\"type\":\"object\",\"name\":\"Circle\",\"id\":\"p3042\",\"attributes\":{\"x\":{\"type\":\"field\",\"field\":\"Number of Edges\"},\"y\":{\"type\":\"field\",\"field\":\"Runtime (Seconds)\"},\"line_color\":{\"type\":\"value\",\"value\":\"orange\"},\"fill_color\":{\"type\":\"value\",\"value\":\"orange\"},\"hatch_color\":{\"type\":\"value\",\"value\":\"orange\"}}},\"nonselection_glyph\":{\"type\":\"object\",\"name\":\"Circle\",\"id\":\"p3043\",\"attributes\":{\"x\":{\"type\":\"field\",\"field\":\"Number of Edges\"},\"y\":{\"type\":\"field\",\"field\":\"Runtime (Seconds)\"},\"line_color\":{\"type\":\"value\",\"value\":\"orange\"},\"line_alpha\":{\"type\":\"value\",\"value\":0.1},\"fill_color\":{\"type\":\"value\",\"value\":\"orange\"},\"fill_alpha\":{\"type\":\"value\",\"value\":0.1},\"hatch_color\":{\"type\":\"value\",\"value\":\"orange\"},\"hatch_alpha\":{\"type\":\"value\",\"value\":0.1}}},\"muted_glyph\":{\"type\":\"object\",\"name\":\"Circle\",\"id\":\"p3044\",\"attributes\":{\"x\":{\"type\":\"field\",\"field\":\"Number of Edges\"},\"y\":{\"type\":\"field\",\"field\":\"Runtime (Seconds)\"},\"line_color\":{\"type\":\"value\",\"value\":\"orange\"},\"line_alpha\":{\"type\":\"value\",\"value\":0.2},\"fill_color\":{\"type\":\"value\",\"value\":\"orange\"},\"fill_alpha\":{\"type\":\"value\",\"value\":0.2},\"hatch_color\":{\"type\":\"value\",\"value\":\"orange\"},\"hatch_alpha\":{\"type\":\"value\",\"value\":0.2}}}}}],\"toolbar\":{\"type\":\"object\",\"name\":\"Toolbar\",\"id\":\"p2998\",\"attributes\":{\"tools\":[{\"type\":\"object\",\"name\":\"PanTool\",\"id\":\"p3011\"},{\"type\":\"object\",\"name\":\"WheelZoomTool\",\"id\":\"p3012\",\"attributes\":{\"renderers\":\"auto\"}},{\"type\":\"object\",\"name\":\"BoxZoomTool\",\"id\":\"p3013\",\"attributes\":{\"overlay\":{\"type\":\"object\",\"name\":\"BoxAnnotation\",\"id\":\"p3014\",\"attributes\":{\"syncable\":false,\"level\":\"overlay\",\"visible\":false,\"left\":{\"type\":\"number\",\"value\":\"nan\"},\"right\":{\"type\":\"number\",\"value\":\"nan\"},\"top\":{\"type\":\"number\",\"value\":\"nan\"},\"bottom\":{\"type\":\"number\",\"value\":\"nan\"},\"left_units\":\"canvas\",\"right_units\":\"canvas\",\"top_units\":\"canvas\",\"bottom_units\":\"canvas\",\"line_color\":\"black\",\"line_alpha\":1.0,\"line_width\":2,\"line_dash\":[4,4],\"fill_color\":\"lightgrey\",\"fill_alpha\":0.5}}}},{\"type\":\"object\",\"name\":\"SaveTool\",\"id\":\"p3019\"},{\"type\":\"object\",\"name\":\"ResetTool\",\"id\":\"p3020\"},{\"type\":\"object\",\"name\":\"HelpTool\",\"id\":\"p3021\"}]}},\"left\":[{\"type\":\"object\",\"name\":\"LinearAxis\",\"id\":\"p3006\",\"attributes\":{\"ticker\":{\"type\":\"object\",\"name\":\"BasicTicker\",\"id\":\"p3007\",\"attributes\":{\"mantissas\":[1,2,5]}},\"formatter\":{\"type\":\"object\",\"name\":\"BasicTickFormatter\",\"id\":\"p3008\"},\"axis_label\":\"Runtime (Seconds)\",\"major_label_policy\":{\"type\":\"object\",\"name\":\"AllLabels\",\"id\":\"p3009\"}}}],\"below\":[{\"type\":\"object\",\"name\":\"LinearAxis\",\"id\":\"p3001\",\"attributes\":{\"ticker\":{\"type\":\"object\",\"name\":\"BasicTicker\",\"id\":\"p3002\",\"attributes\":{\"mantissas\":[1,2,5]}},\"formatter\":{\"type\":\"object\",\"name\":\"BasicTickFormatter\",\"id\":\"p3003\"},\"axis_label\":\"Number of Edges\",\"major_label_policy\":{\"type\":\"object\",\"name\":\"AllLabels\",\"id\":\"p3004\"}}}],\"center\":[{\"type\":\"object\",\"name\":\"Grid\",\"id\":\"p3005\",\"attributes\":{\"axis\":{\"id\":\"p3001\"}}},{\"type\":\"object\",\"name\":\"Grid\",\"id\":\"p3010\",\"attributes\":{\"dimension\":1,\"axis\":{\"id\":\"p3006\"}}},{\"type\":\"object\",\"name\":\"Legend\",\"id\":\"p3034\",\"attributes\":{\"location\":\"top_left\",\"items\":[{\"type\":\"object\",\"name\":\"LegendItem\",\"id\":\"p3035\",\"attributes\":{\"label\":{\"type\":\"value\",\"value\":\"Beta\"},\"renderers\":[{\"id\":\"p3031\"}]}},{\"type\":\"object\",\"name\":\"LegendItem\",\"id\":\"p3048\",\"attributes\":{\"label\":{\"type\":\"value\",\"value\":\"GNN\"},\"renderers\":[{\"id\":\"p3045\"}]}}]}}]}}]}};\n",
       "  const render_items = [{\"docid\":\"ef53b319-5d64-421f-9dc0-01043cd25796\",\"roots\":{\"p2990\":\"cef8ad37-a0a4-4ffd-8824-2195fe20cfc2\"},\"root_ids\":[\"p2990\"]}];\n",
       "  root.Bokeh.embed.embed_items_notebook(docs_json, render_items);\n",
       "  }\n",
       "  if (root.Bokeh !== undefined) {\n",
       "    embed_document(root);\n",
       "  } else {\n",
       "    let attempts = 0;\n",
       "    const timer = setInterval(function(root) {\n",
       "      if (root.Bokeh !== undefined) {\n",
       "        clearInterval(timer);\n",
       "        embed_document(root);\n",
       "      } else {\n",
       "        attempts++;\n",
       "        if (attempts > 100) {\n",
       "          clearInterval(timer);\n",
       "          console.log(\"Bokeh: ERROR: Unable to run BokehJS code because BokehJS library is missing\");\n",
       "        }\n",
       "      }\n",
       "    }, 10, root)\n",
       "  }\n",
       "})(window);"
      ],
      "application/vnd.bokehjs_exec.v0+json": ""
     },
     "metadata": {
      "application/vnd.bokehjs_exec.v0+json": {
       "id": "p2990"
      }
     },
     "output_type": "display_data"
    }
   ],
   "source": [
    "x = \"Number of Edges\"\n",
    "y = \"Runtime (Seconds)\"\n",
    "p = bokeh.plotting.figure(\n",
    "    width=400,\n",
    "    height=300,\n",
    "    x_axis_label=x,\n",
    "    y_axis_label=y,\n",
    ")\n",
    "p.circle(\n",
    "    source=effects[effects['Explainer'] == 'Beta'],\n",
    "    x=x,\n",
    "    y=y,\n",
    "    legend_label=\"Beta\",\n",
    ")\n",
    "p.circle(\n",
    "    source=effects[effects['Explainer'] == 'GNN'],\n",
    "    x=x,\n",
    "    y=y,\n",
    "    legend_label=\"GNN\",\n",
    "    color='orange'\n",
    ")\n",
    "p.legend.location = \"top_left\"\n",
    "bokeh.io.show(p)"
   ]
  },
  {
   "cell_type": "code",
   "execution_count": 55,
   "id": "cbe8883f-e053-4bf5-bad1-12b1b56f2f90",
   "metadata": {},
   "outputs": [
    {
     "data": {
      "text/html": [
       "\n",
       "  <div id=\"f04694ab-d662-4b87-b31d-3f2a5ce0f9c0\" data-root-id=\"p3057\" style=\"display: contents;\"></div>\n"
      ]
     },
     "metadata": {},
     "output_type": "display_data"
    },
    {
     "data": {
      "application/javascript": [
       "(function(root) {\n",
       "  function embed_document(root) {\n",
       "  const docs_json = {\"61d0baa3-859c-4d45-9227-1f9f5567d04a\":{\"version\":\"3.3.4\",\"title\":\"Bokeh Application\",\"roots\":[{\"type\":\"object\",\"name\":\"Figure\",\"id\":\"p3057\",\"attributes\":{\"width\":400,\"height\":300,\"x_range\":{\"type\":\"object\",\"name\":\"DataRange1d\",\"id\":\"p3058\"},\"y_range\":{\"type\":\"object\",\"name\":\"DataRange1d\",\"id\":\"p3059\"},\"x_scale\":{\"type\":\"object\",\"name\":\"LinearScale\",\"id\":\"p3066\"},\"y_scale\":{\"type\":\"object\",\"name\":\"LinearScale\",\"id\":\"p3067\"},\"title\":{\"type\":\"object\",\"name\":\"Title\",\"id\":\"p3064\"},\"renderers\":[{\"type\":\"object\",\"name\":\"GlyphRenderer\",\"id\":\"p3098\",\"attributes\":{\"data_source\":{\"type\":\"object\",\"name\":\"ColumnDataSource\",\"id\":\"p3089\",\"attributes\":{\"selected\":{\"type\":\"object\",\"name\":\"Selection\",\"id\":\"p3090\",\"attributes\":{\"indices\":[],\"line_indices\":[]}},\"selection_policy\":{\"type\":\"object\",\"name\":\"UnionRenderers\",\"id\":\"p3091\"},\"data\":{\"type\":\"map\",\"entries\":[[\"index\",{\"type\":\"ndarray\",\"array\":{\"type\":\"bytes\",\"data\":\"AAAAAAEAAAACAAAAAwAAAAQAAAA=\"},\"shape\":[5],\"dtype\":\"int32\",\"order\":\"little\"}],[\"# Epochs\",{\"type\":\"ndarray\",\"array\":{\"type\":\"bytes\",\"data\":\"MgAAADIAAAAyAAAAMgAAADIAAAA=\"},\"shape\":[5],\"dtype\":\"int32\",\"order\":\"little\"}],[\"GNN Runtime (Seconds)\",{\"type\":\"ndarray\",\"array\":{\"type\":\"bytes\",\"data\":\"AAAAANfC6z8AAAAAeDDiPwAAAIBRDeE//////93X1D//////HTnVPw==\"},\"shape\":[5],\"dtype\":\"float64\",\"order\":\"little\"}],[\"Number of Edges\",{\"type\":\"ndarray\",\"array\":{\"type\":\"bytes\",\"data\":\"MgAAAGQAAACWAAAAyAAAAPoAAAA=\"},\"shape\":[5],\"dtype\":\"int32\",\"order\":\"little\"}],[\"Beta Runtime (Seconds)\",{\"type\":\"ndarray\",\"array\":{\"type\":\"bytes\",\"data\":\"AAAAc/DSZ0D//38jhgtoQAAAAFmGaWVAAAAAGk3VYUAAAIAQHMBgQA==\"},\"shape\":[5],\"dtype\":\"float64\",\"order\":\"little\"}],[\"Difference (Seconds)\",{\"type\":\"ndarray\",\"array\":{\"type\":\"bytes\",\"data\":\"AAAAnC23Z0D//3+rVflnQAAAgAd5WGVAAAAAK+HKYUAAAICBf7VgQA==\"},\"shape\":[5],\"dtype\":\"float64\",\"order\":\"little\"}]]}}},\"view\":{\"type\":\"object\",\"name\":\"CDSView\",\"id\":\"p3099\",\"attributes\":{\"filter\":{\"type\":\"object\",\"name\":\"AllIndices\",\"id\":\"p3100\"}}},\"glyph\":{\"type\":\"object\",\"name\":\"Circle\",\"id\":\"p3095\",\"attributes\":{\"x\":{\"type\":\"field\",\"field\":\"Number of Edges\"},\"y\":{\"type\":\"field\",\"field\":\"Difference (Seconds)\"},\"line_color\":{\"type\":\"value\",\"value\":\"#1f77b4\"},\"fill_color\":{\"type\":\"value\",\"value\":\"#1f77b4\"}}},\"nonselection_glyph\":{\"type\":\"object\",\"name\":\"Circle\",\"id\":\"p3096\",\"attributes\":{\"x\":{\"type\":\"field\",\"field\":\"Number of Edges\"},\"y\":{\"type\":\"field\",\"field\":\"Difference (Seconds)\"},\"line_color\":{\"type\":\"value\",\"value\":\"#1f77b4\"},\"line_alpha\":{\"type\":\"value\",\"value\":0.1},\"fill_color\":{\"type\":\"value\",\"value\":\"#1f77b4\"},\"fill_alpha\":{\"type\":\"value\",\"value\":0.1},\"hatch_alpha\":{\"type\":\"value\",\"value\":0.1}}},\"muted_glyph\":{\"type\":\"object\",\"name\":\"Circle\",\"id\":\"p3097\",\"attributes\":{\"x\":{\"type\":\"field\",\"field\":\"Number of Edges\"},\"y\":{\"type\":\"field\",\"field\":\"Difference (Seconds)\"},\"line_color\":{\"type\":\"value\",\"value\":\"#1f77b4\"},\"line_alpha\":{\"type\":\"value\",\"value\":0.2},\"fill_color\":{\"type\":\"value\",\"value\":\"#1f77b4\"},\"fill_alpha\":{\"type\":\"value\",\"value\":0.2},\"hatch_alpha\":{\"type\":\"value\",\"value\":0.2}}}}}],\"toolbar\":{\"type\":\"object\",\"name\":\"Toolbar\",\"id\":\"p3065\",\"attributes\":{\"tools\":[{\"type\":\"object\",\"name\":\"PanTool\",\"id\":\"p3078\"},{\"type\":\"object\",\"name\":\"WheelZoomTool\",\"id\":\"p3079\",\"attributes\":{\"renderers\":\"auto\"}},{\"type\":\"object\",\"name\":\"BoxZoomTool\",\"id\":\"p3080\",\"attributes\":{\"overlay\":{\"type\":\"object\",\"name\":\"BoxAnnotation\",\"id\":\"p3081\",\"attributes\":{\"syncable\":false,\"level\":\"overlay\",\"visible\":false,\"left\":{\"type\":\"number\",\"value\":\"nan\"},\"right\":{\"type\":\"number\",\"value\":\"nan\"},\"top\":{\"type\":\"number\",\"value\":\"nan\"},\"bottom\":{\"type\":\"number\",\"value\":\"nan\"},\"left_units\":\"canvas\",\"right_units\":\"canvas\",\"top_units\":\"canvas\",\"bottom_units\":\"canvas\",\"line_color\":\"black\",\"line_alpha\":1.0,\"line_width\":2,\"line_dash\":[4,4],\"fill_color\":\"lightgrey\",\"fill_alpha\":0.5}}}},{\"type\":\"object\",\"name\":\"SaveTool\",\"id\":\"p3086\"},{\"type\":\"object\",\"name\":\"ResetTool\",\"id\":\"p3087\"},{\"type\":\"object\",\"name\":\"HelpTool\",\"id\":\"p3088\"}]}},\"left\":[{\"type\":\"object\",\"name\":\"LinearAxis\",\"id\":\"p3073\",\"attributes\":{\"ticker\":{\"type\":\"object\",\"name\":\"BasicTicker\",\"id\":\"p3074\",\"attributes\":{\"mantissas\":[1,2,5]}},\"formatter\":{\"type\":\"object\",\"name\":\"BasicTickFormatter\",\"id\":\"p3075\"},\"axis_label\":\"Difference (Seconds)\",\"major_label_policy\":{\"type\":\"object\",\"name\":\"AllLabels\",\"id\":\"p3076\"}}}],\"below\":[{\"type\":\"object\",\"name\":\"LinearAxis\",\"id\":\"p3068\",\"attributes\":{\"ticker\":{\"type\":\"object\",\"name\":\"BasicTicker\",\"id\":\"p3069\",\"attributes\":{\"mantissas\":[1,2,5]}},\"formatter\":{\"type\":\"object\",\"name\":\"BasicTickFormatter\",\"id\":\"p3070\"},\"axis_label\":\"Number of Edges\",\"major_label_policy\":{\"type\":\"object\",\"name\":\"AllLabels\",\"id\":\"p3071\"}}}],\"center\":[{\"type\":\"object\",\"name\":\"Grid\",\"id\":\"p3072\",\"attributes\":{\"axis\":{\"id\":\"p3068\"}}},{\"type\":\"object\",\"name\":\"Grid\",\"id\":\"p3077\",\"attributes\":{\"dimension\":1,\"axis\":{\"id\":\"p3073\"}}}]}}]}};\n",
       "  const render_items = [{\"docid\":\"61d0baa3-859c-4d45-9227-1f9f5567d04a\",\"roots\":{\"p3057\":\"f04694ab-d662-4b87-b31d-3f2a5ce0f9c0\"},\"root_ids\":[\"p3057\"]}];\n",
       "  root.Bokeh.embed.embed_items_notebook(docs_json, render_items);\n",
       "  }\n",
       "  if (root.Bokeh !== undefined) {\n",
       "    embed_document(root);\n",
       "  } else {\n",
       "    let attempts = 0;\n",
       "    const timer = setInterval(function(root) {\n",
       "      if (root.Bokeh !== undefined) {\n",
       "        clearInterval(timer);\n",
       "        embed_document(root);\n",
       "      } else {\n",
       "        attempts++;\n",
       "        if (attempts > 100) {\n",
       "          clearInterval(timer);\n",
       "          console.log(\"Bokeh: ERROR: Unable to run BokehJS code because BokehJS library is missing\");\n",
       "        }\n",
       "      }\n",
       "    }, 10, root)\n",
       "  }\n",
       "})(window);"
      ],
      "application/vnd.bokehjs_exec.v0+json": ""
     },
     "metadata": {
      "application/vnd.bokehjs_exec.v0+json": {
       "id": "p3057"
      }
     },
     "output_type": "display_data"
    }
   ],
   "source": [
    "x = \"Number of Edges\"\n",
    "y = \"Difference (Seconds)\"\n",
    "p = bokeh.plotting.figure(\n",
    "    width=400,\n",
    "    height=300,\n",
    "    x_axis_label=x,\n",
    "    y_axis_label=y,\n",
    ")\n",
    "p.circle(\n",
    "    source=diff,\n",
    "    x=x,\n",
    "    y=y,\n",
    ")\n",
    "bokeh.io.show(p)"
   ]
  },
  {
   "cell_type": "code",
   "execution_count": 56,
   "id": "b720a7e5-d32c-4ae2-bb2b-24651368f035",
   "metadata": {},
   "outputs": [],
   "source": [
    "effects = pd.read_csv('TexasCorrGraphRuntimes.csv')\n",
    "effects = effects.drop(['Average Runtime', 'Unnamed: 0', 'Data'], axis=1)\n",
    "effects = effects.rename({'# Edges': 'Number of Edges', 'Full Runtime': 'Runtime (Seconds)'}, axis=1)\n",
    "gnn = effects[effects['Explainer'] == 'GNN']\n",
    "gnn = gnn.rename({'Runtime (Seconds)': 'GNN Runtime (Seconds)'}, axis=1)\n",
    "gnn = gnn.drop(['Explainer'], axis=1)\n",
    "beta = effects[effects['Explainer'] == 'Beta']\n",
    "beta = beta.rename({'Runtime (Seconds)': 'Beta Runtime (Seconds)'}, axis=1)\n",
    "beta = beta.drop(['Explainer'], axis=1)\n",
    "diff = pd.merge(gnn, beta, how=\"right\", on=[\"# Epochs\",'Number of Edges'])\n",
    "diff['Difference (Seconds)'] = diff['Beta Runtime (Seconds)'] - diff['GNN Runtime (Seconds)']"
   ]
  },
  {
   "cell_type": "code",
   "execution_count": 57,
   "id": "71db0d74-f145-48a1-ad02-448313937629",
   "metadata": {
    "scrolled": true
   },
   "outputs": [
    {
     "data": {
      "text/html": [
       "\n",
       "  <div id=\"eb311f1a-38ca-47d6-a2fd-edec5ba34c7a\" data-root-id=\"p3107\" style=\"display: contents;\"></div>\n"
      ]
     },
     "metadata": {},
     "output_type": "display_data"
    },
    {
     "data": {
      "application/javascript": [
       "(function(root) {\n",
       "  function embed_document(root) {\n",
       "  const docs_json = {\"3b76fc3f-9f93-453c-ba52-ef0f71900fa3\":{\"version\":\"3.3.4\",\"title\":\"Bokeh Application\",\"roots\":[{\"type\":\"object\",\"name\":\"Figure\",\"id\":\"p3107\",\"attributes\":{\"width\":400,\"height\":300,\"x_range\":{\"type\":\"object\",\"name\":\"DataRange1d\",\"id\":\"p3108\"},\"y_range\":{\"type\":\"object\",\"name\":\"DataRange1d\",\"id\":\"p3109\"},\"x_scale\":{\"type\":\"object\",\"name\":\"LinearScale\",\"id\":\"p3116\"},\"y_scale\":{\"type\":\"object\",\"name\":\"LinearScale\",\"id\":\"p3117\"},\"title\":{\"type\":\"object\",\"name\":\"Title\",\"id\":\"p3114\"},\"renderers\":[{\"type\":\"object\",\"name\":\"GlyphRenderer\",\"id\":\"p3148\",\"attributes\":{\"data_source\":{\"type\":\"object\",\"name\":\"ColumnDataSource\",\"id\":\"p3139\",\"attributes\":{\"selected\":{\"type\":\"object\",\"name\":\"Selection\",\"id\":\"p3140\",\"attributes\":{\"indices\":[],\"line_indices\":[]}},\"selection_policy\":{\"type\":\"object\",\"name\":\"UnionRenderers\",\"id\":\"p3141\"},\"data\":{\"type\":\"map\",\"entries\":[[\"index\",{\"type\":\"ndarray\",\"array\":{\"type\":\"bytes\",\"data\":\"AAAAAAIAAAAEAAAABgAAAAgAAAA=\"},\"shape\":[5],\"dtype\":\"int32\",\"order\":\"little\"}],[\"Explainer\",{\"type\":\"ndarray\",\"array\":[\"Beta\",\"Beta\",\"Beta\",\"Beta\",\"Beta\"],\"shape\":[5],\"dtype\":\"object\",\"order\":\"little\"}],[\"# Epochs\",{\"type\":\"ndarray\",\"array\":{\"type\":\"bytes\",\"data\":\"MgAAADIAAAAyAAAAMgAAADIAAAA=\"},\"shape\":[5],\"dtype\":\"int32\",\"order\":\"little\"}],[\"Runtime (Seconds)\",{\"type\":\"ndarray\",\"array\":{\"type\":\"bytes\",\"data\":\"AAAAwHMl+T8AAABAW4z3PwAAAECr+vU/AAAAQLbF9T8BAACACubzPw==\"},\"shape\":[5],\"dtype\":\"float64\",\"order\":\"little\"}],[\"Number of Edges\",{\"type\":\"ndarray\",\"array\":{\"type\":\"bytes\",\"data\":\"MgAAAGQAAACWAAAAyAAAAPoAAAA=\"},\"shape\":[5],\"dtype\":\"int32\",\"order\":\"little\"}]]}}},\"view\":{\"type\":\"object\",\"name\":\"CDSView\",\"id\":\"p3149\",\"attributes\":{\"filter\":{\"type\":\"object\",\"name\":\"AllIndices\",\"id\":\"p3150\"}}},\"glyph\":{\"type\":\"object\",\"name\":\"Circle\",\"id\":\"p3145\",\"attributes\":{\"x\":{\"type\":\"field\",\"field\":\"Number of Edges\"},\"y\":{\"type\":\"field\",\"field\":\"Runtime (Seconds)\"},\"line_color\":{\"type\":\"value\",\"value\":\"#1f77b4\"},\"fill_color\":{\"type\":\"value\",\"value\":\"#1f77b4\"}}},\"nonselection_glyph\":{\"type\":\"object\",\"name\":\"Circle\",\"id\":\"p3146\",\"attributes\":{\"x\":{\"type\":\"field\",\"field\":\"Number of Edges\"},\"y\":{\"type\":\"field\",\"field\":\"Runtime (Seconds)\"},\"line_color\":{\"type\":\"value\",\"value\":\"#1f77b4\"},\"line_alpha\":{\"type\":\"value\",\"value\":0.1},\"fill_color\":{\"type\":\"value\",\"value\":\"#1f77b4\"},\"fill_alpha\":{\"type\":\"value\",\"value\":0.1},\"hatch_alpha\":{\"type\":\"value\",\"value\":0.1}}},\"muted_glyph\":{\"type\":\"object\",\"name\":\"Circle\",\"id\":\"p3147\",\"attributes\":{\"x\":{\"type\":\"field\",\"field\":\"Number of Edges\"},\"y\":{\"type\":\"field\",\"field\":\"Runtime (Seconds)\"},\"line_color\":{\"type\":\"value\",\"value\":\"#1f77b4\"},\"line_alpha\":{\"type\":\"value\",\"value\":0.2},\"fill_color\":{\"type\":\"value\",\"value\":\"#1f77b4\"},\"fill_alpha\":{\"type\":\"value\",\"value\":0.2},\"hatch_alpha\":{\"type\":\"value\",\"value\":0.2}}}}},{\"type\":\"object\",\"name\":\"GlyphRenderer\",\"id\":\"p3162\",\"attributes\":{\"data_source\":{\"type\":\"object\",\"name\":\"ColumnDataSource\",\"id\":\"p3153\",\"attributes\":{\"selected\":{\"type\":\"object\",\"name\":\"Selection\",\"id\":\"p3154\",\"attributes\":{\"indices\":[],\"line_indices\":[]}},\"selection_policy\":{\"type\":\"object\",\"name\":\"UnionRenderers\",\"id\":\"p3155\"},\"data\":{\"type\":\"map\",\"entries\":[[\"index\",{\"type\":\"ndarray\",\"array\":{\"type\":\"bytes\",\"data\":\"AQAAAAMAAAAFAAAABwAAAAkAAAA=\"},\"shape\":[5],\"dtype\":\"int32\",\"order\":\"little\"}],[\"Explainer\",{\"type\":\"ndarray\",\"array\":[\"GNN\",\"GNN\",\"GNN\",\"GNN\",\"GNN\"],\"shape\":[5],\"dtype\":\"object\",\"order\":\"little\"}],[\"# Epochs\",{\"type\":\"ndarray\",\"array\":{\"type\":\"bytes\",\"data\":\"MgAAADIAAAAyAAAAMgAAADIAAAA=\"},\"shape\":[5],\"dtype\":\"int32\",\"order\":\"little\"}],[\"Runtime (Seconds)\",{\"type\":\"ndarray\",\"array\":{\"type\":\"bytes\",\"data\":\"AAAAADVa8j8AAACAXqLrPwAAAACMO+0/AAAAACYF6T8BAAAAXpbtPw==\"},\"shape\":[5],\"dtype\":\"float64\",\"order\":\"little\"}],[\"Number of Edges\",{\"type\":\"ndarray\",\"array\":{\"type\":\"bytes\",\"data\":\"MgAAAGQAAACWAAAAyAAAAPoAAAA=\"},\"shape\":[5],\"dtype\":\"int32\",\"order\":\"little\"}]]}}},\"view\":{\"type\":\"object\",\"name\":\"CDSView\",\"id\":\"p3163\",\"attributes\":{\"filter\":{\"type\":\"object\",\"name\":\"AllIndices\",\"id\":\"p3164\"}}},\"glyph\":{\"type\":\"object\",\"name\":\"Circle\",\"id\":\"p3159\",\"attributes\":{\"x\":{\"type\":\"field\",\"field\":\"Number of Edges\"},\"y\":{\"type\":\"field\",\"field\":\"Runtime (Seconds)\"},\"line_color\":{\"type\":\"value\",\"value\":\"orange\"},\"fill_color\":{\"type\":\"value\",\"value\":\"orange\"},\"hatch_color\":{\"type\":\"value\",\"value\":\"orange\"}}},\"nonselection_glyph\":{\"type\":\"object\",\"name\":\"Circle\",\"id\":\"p3160\",\"attributes\":{\"x\":{\"type\":\"field\",\"field\":\"Number of Edges\"},\"y\":{\"type\":\"field\",\"field\":\"Runtime (Seconds)\"},\"line_color\":{\"type\":\"value\",\"value\":\"orange\"},\"line_alpha\":{\"type\":\"value\",\"value\":0.1},\"fill_color\":{\"type\":\"value\",\"value\":\"orange\"},\"fill_alpha\":{\"type\":\"value\",\"value\":0.1},\"hatch_color\":{\"type\":\"value\",\"value\":\"orange\"},\"hatch_alpha\":{\"type\":\"value\",\"value\":0.1}}},\"muted_glyph\":{\"type\":\"object\",\"name\":\"Circle\",\"id\":\"p3161\",\"attributes\":{\"x\":{\"type\":\"field\",\"field\":\"Number of Edges\"},\"y\":{\"type\":\"field\",\"field\":\"Runtime (Seconds)\"},\"line_color\":{\"type\":\"value\",\"value\":\"orange\"},\"line_alpha\":{\"type\":\"value\",\"value\":0.2},\"fill_color\":{\"type\":\"value\",\"value\":\"orange\"},\"fill_alpha\":{\"type\":\"value\",\"value\":0.2},\"hatch_color\":{\"type\":\"value\",\"value\":\"orange\"},\"hatch_alpha\":{\"type\":\"value\",\"value\":0.2}}}}}],\"toolbar\":{\"type\":\"object\",\"name\":\"Toolbar\",\"id\":\"p3115\",\"attributes\":{\"tools\":[{\"type\":\"object\",\"name\":\"PanTool\",\"id\":\"p3128\"},{\"type\":\"object\",\"name\":\"WheelZoomTool\",\"id\":\"p3129\",\"attributes\":{\"renderers\":\"auto\"}},{\"type\":\"object\",\"name\":\"BoxZoomTool\",\"id\":\"p3130\",\"attributes\":{\"overlay\":{\"type\":\"object\",\"name\":\"BoxAnnotation\",\"id\":\"p3131\",\"attributes\":{\"syncable\":false,\"level\":\"overlay\",\"visible\":false,\"left\":{\"type\":\"number\",\"value\":\"nan\"},\"right\":{\"type\":\"number\",\"value\":\"nan\"},\"top\":{\"type\":\"number\",\"value\":\"nan\"},\"bottom\":{\"type\":\"number\",\"value\":\"nan\"},\"left_units\":\"canvas\",\"right_units\":\"canvas\",\"top_units\":\"canvas\",\"bottom_units\":\"canvas\",\"line_color\":\"black\",\"line_alpha\":1.0,\"line_width\":2,\"line_dash\":[4,4],\"fill_color\":\"lightgrey\",\"fill_alpha\":0.5}}}},{\"type\":\"object\",\"name\":\"SaveTool\",\"id\":\"p3136\"},{\"type\":\"object\",\"name\":\"ResetTool\",\"id\":\"p3137\"},{\"type\":\"object\",\"name\":\"HelpTool\",\"id\":\"p3138\"}]}},\"left\":[{\"type\":\"object\",\"name\":\"LinearAxis\",\"id\":\"p3123\",\"attributes\":{\"ticker\":{\"type\":\"object\",\"name\":\"BasicTicker\",\"id\":\"p3124\",\"attributes\":{\"mantissas\":[1,2,5]}},\"formatter\":{\"type\":\"object\",\"name\":\"BasicTickFormatter\",\"id\":\"p3125\"},\"axis_label\":\"Runtime (Seconds)\",\"major_label_policy\":{\"type\":\"object\",\"name\":\"AllLabels\",\"id\":\"p3126\"}}}],\"below\":[{\"type\":\"object\",\"name\":\"LinearAxis\",\"id\":\"p3118\",\"attributes\":{\"ticker\":{\"type\":\"object\",\"name\":\"BasicTicker\",\"id\":\"p3119\",\"attributes\":{\"mantissas\":[1,2,5]}},\"formatter\":{\"type\":\"object\",\"name\":\"BasicTickFormatter\",\"id\":\"p3120\"},\"axis_label\":\"Number of Edges\",\"major_label_policy\":{\"type\":\"object\",\"name\":\"AllLabels\",\"id\":\"p3121\"}}}],\"center\":[{\"type\":\"object\",\"name\":\"Grid\",\"id\":\"p3122\",\"attributes\":{\"axis\":{\"id\":\"p3118\"}}},{\"type\":\"object\",\"name\":\"Grid\",\"id\":\"p3127\",\"attributes\":{\"dimension\":1,\"axis\":{\"id\":\"p3123\"}}},{\"type\":\"object\",\"name\":\"Legend\",\"id\":\"p3151\",\"attributes\":{\"location\":\"top_left\",\"items\":[{\"type\":\"object\",\"name\":\"LegendItem\",\"id\":\"p3152\",\"attributes\":{\"label\":{\"type\":\"value\",\"value\":\"Beta\"},\"renderers\":[{\"id\":\"p3148\"}]}},{\"type\":\"object\",\"name\":\"LegendItem\",\"id\":\"p3165\",\"attributes\":{\"label\":{\"type\":\"value\",\"value\":\"GNN\"},\"renderers\":[{\"id\":\"p3162\"}]}}]}}]}}]}};\n",
       "  const render_items = [{\"docid\":\"3b76fc3f-9f93-453c-ba52-ef0f71900fa3\",\"roots\":{\"p3107\":\"eb311f1a-38ca-47d6-a2fd-edec5ba34c7a\"},\"root_ids\":[\"p3107\"]}];\n",
       "  root.Bokeh.embed.embed_items_notebook(docs_json, render_items);\n",
       "  }\n",
       "  if (root.Bokeh !== undefined) {\n",
       "    embed_document(root);\n",
       "  } else {\n",
       "    let attempts = 0;\n",
       "    const timer = setInterval(function(root) {\n",
       "      if (root.Bokeh !== undefined) {\n",
       "        clearInterval(timer);\n",
       "        embed_document(root);\n",
       "      } else {\n",
       "        attempts++;\n",
       "        if (attempts > 100) {\n",
       "          clearInterval(timer);\n",
       "          console.log(\"Bokeh: ERROR: Unable to run BokehJS code because BokehJS library is missing\");\n",
       "        }\n",
       "      }\n",
       "    }, 10, root)\n",
       "  }\n",
       "})(window);"
      ],
      "application/vnd.bokehjs_exec.v0+json": ""
     },
     "metadata": {
      "application/vnd.bokehjs_exec.v0+json": {
       "id": "p3107"
      }
     },
     "output_type": "display_data"
    }
   ],
   "source": [
    "x = \"Number of Edges\"\n",
    "y = \"Runtime (Seconds)\"\n",
    "p = bokeh.plotting.figure(\n",
    "    width=400,\n",
    "    height=300,\n",
    "    x_axis_label=x,\n",
    "    y_axis_label=y,\n",
    ")\n",
    "p.circle(\n",
    "    source=effects[effects['Explainer'] == 'Beta'],\n",
    "    x=x,\n",
    "    y=y,\n",
    "    legend_label=\"Beta\",\n",
    ")\n",
    "p.circle(\n",
    "    source=effects[effects['Explainer'] == 'GNN'],\n",
    "    x=x,\n",
    "    y=y,\n",
    "    legend_label=\"GNN\",\n",
    "    color='orange'\n",
    ")\n",
    "p.legend.location = \"top_left\"\n",
    "bokeh.io.show(p)"
   ]
  },
  {
   "cell_type": "code",
   "execution_count": 58,
   "id": "dda55015-7715-4404-9ed9-dc3a7f0a221d",
   "metadata": {},
   "outputs": [
    {
     "data": {
      "text/html": [
       "\n",
       "  <div id=\"f10f8d9e-04cf-42c7-a8a1-68cf39d76c63\" data-root-id=\"p3174\" style=\"display: contents;\"></div>\n"
      ]
     },
     "metadata": {},
     "output_type": "display_data"
    },
    {
     "data": {
      "application/javascript": [
       "(function(root) {\n",
       "  function embed_document(root) {\n",
       "  const docs_json = {\"b1983027-7b8a-4b09-aa02-7d81a9330745\":{\"version\":\"3.3.4\",\"title\":\"Bokeh Application\",\"roots\":[{\"type\":\"object\",\"name\":\"Figure\",\"id\":\"p3174\",\"attributes\":{\"width\":400,\"height\":300,\"x_range\":{\"type\":\"object\",\"name\":\"DataRange1d\",\"id\":\"p3175\"},\"y_range\":{\"type\":\"object\",\"name\":\"DataRange1d\",\"id\":\"p3176\"},\"x_scale\":{\"type\":\"object\",\"name\":\"LinearScale\",\"id\":\"p3183\"},\"y_scale\":{\"type\":\"object\",\"name\":\"LinearScale\",\"id\":\"p3184\"},\"title\":{\"type\":\"object\",\"name\":\"Title\",\"id\":\"p3181\"},\"renderers\":[{\"type\":\"object\",\"name\":\"GlyphRenderer\",\"id\":\"p3215\",\"attributes\":{\"data_source\":{\"type\":\"object\",\"name\":\"ColumnDataSource\",\"id\":\"p3206\",\"attributes\":{\"selected\":{\"type\":\"object\",\"name\":\"Selection\",\"id\":\"p3207\",\"attributes\":{\"indices\":[],\"line_indices\":[]}},\"selection_policy\":{\"type\":\"object\",\"name\":\"UnionRenderers\",\"id\":\"p3208\"},\"data\":{\"type\":\"map\",\"entries\":[[\"index\",{\"type\":\"ndarray\",\"array\":{\"type\":\"bytes\",\"data\":\"AAAAAAEAAAACAAAAAwAAAAQAAAA=\"},\"shape\":[5],\"dtype\":\"int32\",\"order\":\"little\"}],[\"# Epochs\",{\"type\":\"ndarray\",\"array\":{\"type\":\"bytes\",\"data\":\"MgAAADIAAAAyAAAAMgAAADIAAAA=\"},\"shape\":[5],\"dtype\":\"int32\",\"order\":\"little\"}],[\"GNN Runtime (Seconds)\",{\"type\":\"ndarray\",\"array\":{\"type\":\"bytes\",\"data\":\"AAAAADVa8j8AAACAXqLrPwAAAACMO+0/AAAAACYF6T8BAAAAXpbtPw==\"},\"shape\":[5],\"dtype\":\"float64\",\"order\":\"little\"}],[\"Number of Edges\",{\"type\":\"ndarray\",\"array\":{\"type\":\"bytes\",\"data\":\"MgAAAGQAAACWAAAAyAAAAPoAAAA=\"},\"shape\":[5],\"dtype\":\"int32\",\"order\":\"little\"}],[\"Beta Runtime (Seconds)\",{\"type\":\"ndarray\",\"array\":{\"type\":\"bytes\",\"data\":\"AAAAwHMl+T8AAABAW4z3PwAAAECr+vU/AAAAQLbF9T8BAACACubzPw==\"},\"shape\":[5],\"dtype\":\"float64\",\"order\":\"little\"}],[\"Difference (Seconds)\",{\"type\":\"ndarray\",\"array\":{\"type\":\"bytes\",\"data\":\"AAAAAPss2z8AAAAAWHbjPwAAAACVc90/AAAAgEaG4j8CAAAAbmvUPw==\"},\"shape\":[5],\"dtype\":\"float64\",\"order\":\"little\"}]]}}},\"view\":{\"type\":\"object\",\"name\":\"CDSView\",\"id\":\"p3216\",\"attributes\":{\"filter\":{\"type\":\"object\",\"name\":\"AllIndices\",\"id\":\"p3217\"}}},\"glyph\":{\"type\":\"object\",\"name\":\"Circle\",\"id\":\"p3212\",\"attributes\":{\"x\":{\"type\":\"field\",\"field\":\"Number of Edges\"},\"y\":{\"type\":\"field\",\"field\":\"Difference (Seconds)\"},\"line_color\":{\"type\":\"value\",\"value\":\"#1f77b4\"},\"fill_color\":{\"type\":\"value\",\"value\":\"#1f77b4\"}}},\"nonselection_glyph\":{\"type\":\"object\",\"name\":\"Circle\",\"id\":\"p3213\",\"attributes\":{\"x\":{\"type\":\"field\",\"field\":\"Number of Edges\"},\"y\":{\"type\":\"field\",\"field\":\"Difference (Seconds)\"},\"line_color\":{\"type\":\"value\",\"value\":\"#1f77b4\"},\"line_alpha\":{\"type\":\"value\",\"value\":0.1},\"fill_color\":{\"type\":\"value\",\"value\":\"#1f77b4\"},\"fill_alpha\":{\"type\":\"value\",\"value\":0.1},\"hatch_alpha\":{\"type\":\"value\",\"value\":0.1}}},\"muted_glyph\":{\"type\":\"object\",\"name\":\"Circle\",\"id\":\"p3214\",\"attributes\":{\"x\":{\"type\":\"field\",\"field\":\"Number of Edges\"},\"y\":{\"type\":\"field\",\"field\":\"Difference (Seconds)\"},\"line_color\":{\"type\":\"value\",\"value\":\"#1f77b4\"},\"line_alpha\":{\"type\":\"value\",\"value\":0.2},\"fill_color\":{\"type\":\"value\",\"value\":\"#1f77b4\"},\"fill_alpha\":{\"type\":\"value\",\"value\":0.2},\"hatch_alpha\":{\"type\":\"value\",\"value\":0.2}}}}}],\"toolbar\":{\"type\":\"object\",\"name\":\"Toolbar\",\"id\":\"p3182\",\"attributes\":{\"tools\":[{\"type\":\"object\",\"name\":\"PanTool\",\"id\":\"p3195\"},{\"type\":\"object\",\"name\":\"WheelZoomTool\",\"id\":\"p3196\",\"attributes\":{\"renderers\":\"auto\"}},{\"type\":\"object\",\"name\":\"BoxZoomTool\",\"id\":\"p3197\",\"attributes\":{\"overlay\":{\"type\":\"object\",\"name\":\"BoxAnnotation\",\"id\":\"p3198\",\"attributes\":{\"syncable\":false,\"level\":\"overlay\",\"visible\":false,\"left\":{\"type\":\"number\",\"value\":\"nan\"},\"right\":{\"type\":\"number\",\"value\":\"nan\"},\"top\":{\"type\":\"number\",\"value\":\"nan\"},\"bottom\":{\"type\":\"number\",\"value\":\"nan\"},\"left_units\":\"canvas\",\"right_units\":\"canvas\",\"top_units\":\"canvas\",\"bottom_units\":\"canvas\",\"line_color\":\"black\",\"line_alpha\":1.0,\"line_width\":2,\"line_dash\":[4,4],\"fill_color\":\"lightgrey\",\"fill_alpha\":0.5}}}},{\"type\":\"object\",\"name\":\"SaveTool\",\"id\":\"p3203\"},{\"type\":\"object\",\"name\":\"ResetTool\",\"id\":\"p3204\"},{\"type\":\"object\",\"name\":\"HelpTool\",\"id\":\"p3205\"}]}},\"left\":[{\"type\":\"object\",\"name\":\"LinearAxis\",\"id\":\"p3190\",\"attributes\":{\"ticker\":{\"type\":\"object\",\"name\":\"BasicTicker\",\"id\":\"p3191\",\"attributes\":{\"mantissas\":[1,2,5]}},\"formatter\":{\"type\":\"object\",\"name\":\"BasicTickFormatter\",\"id\":\"p3192\"},\"axis_label\":\"Difference (Seconds)\",\"major_label_policy\":{\"type\":\"object\",\"name\":\"AllLabels\",\"id\":\"p3193\"}}}],\"below\":[{\"type\":\"object\",\"name\":\"LinearAxis\",\"id\":\"p3185\",\"attributes\":{\"ticker\":{\"type\":\"object\",\"name\":\"BasicTicker\",\"id\":\"p3186\",\"attributes\":{\"mantissas\":[1,2,5]}},\"formatter\":{\"type\":\"object\",\"name\":\"BasicTickFormatter\",\"id\":\"p3187\"},\"axis_label\":\"Number of Edges\",\"major_label_policy\":{\"type\":\"object\",\"name\":\"AllLabels\",\"id\":\"p3188\"}}}],\"center\":[{\"type\":\"object\",\"name\":\"Grid\",\"id\":\"p3189\",\"attributes\":{\"axis\":{\"id\":\"p3185\"}}},{\"type\":\"object\",\"name\":\"Grid\",\"id\":\"p3194\",\"attributes\":{\"dimension\":1,\"axis\":{\"id\":\"p3190\"}}}]}}]}};\n",
       "  const render_items = [{\"docid\":\"b1983027-7b8a-4b09-aa02-7d81a9330745\",\"roots\":{\"p3174\":\"f10f8d9e-04cf-42c7-a8a1-68cf39d76c63\"},\"root_ids\":[\"p3174\"]}];\n",
       "  root.Bokeh.embed.embed_items_notebook(docs_json, render_items);\n",
       "  }\n",
       "  if (root.Bokeh !== undefined) {\n",
       "    embed_document(root);\n",
       "  } else {\n",
       "    let attempts = 0;\n",
       "    const timer = setInterval(function(root) {\n",
       "      if (root.Bokeh !== undefined) {\n",
       "        clearInterval(timer);\n",
       "        embed_document(root);\n",
       "      } else {\n",
       "        attempts++;\n",
       "        if (attempts > 100) {\n",
       "          clearInterval(timer);\n",
       "          console.log(\"Bokeh: ERROR: Unable to run BokehJS code because BokehJS library is missing\");\n",
       "        }\n",
       "      }\n",
       "    }, 10, root)\n",
       "  }\n",
       "})(window);"
      ],
      "application/vnd.bokehjs_exec.v0+json": ""
     },
     "metadata": {
      "application/vnd.bokehjs_exec.v0+json": {
       "id": "p3174"
      }
     },
     "output_type": "display_data"
    }
   ],
   "source": [
    "x = \"Number of Edges\"\n",
    "y = \"Difference (Seconds)\"\n",
    "p = bokeh.plotting.figure(\n",
    "    width=400,\n",
    "    height=300,\n",
    "    x_axis_label=x,\n",
    "    y_axis_label=y,\n",
    ")\n",
    "p.circle(\n",
    "    source=diff,\n",
    "    x=x,\n",
    "    y=y,\n",
    ")\n",
    "bokeh.io.show(p)"
   ]
  },
  {
   "cell_type": "code",
   "execution_count": 59,
   "id": "0d6c2732-aee8-41fa-ae9d-87c7938a9509",
   "metadata": {},
   "outputs": [],
   "source": [
    "effects = pd.read_csv('WisconsinCorrGraphRuntimes.csv')\n",
    "effects = effects.drop(['Average Runtime', 'Unnamed: 0', 'Data'], axis=1)\n",
    "effects = effects.rename({'# Edges': 'Number of Edges', 'Full Runtime': 'Runtime (Seconds)'}, axis=1)\n",
    "gnn = effects[effects['Explainer'] == 'GNN']\n",
    "gnn = gnn.rename({'Runtime (Seconds)': 'GNN Runtime (Seconds)'}, axis=1)\n",
    "gnn = gnn.drop(['Explainer'], axis=1)\n",
    "beta = effects[effects['Explainer'] == 'Beta']\n",
    "beta = beta.rename({'Runtime (Seconds)': 'Beta Runtime (Seconds)'}, axis=1)\n",
    "beta = beta.drop(['Explainer'], axis=1)\n",
    "diff = pd.merge(gnn, beta, how=\"right\", on=[\"# Epochs\",'Number of Edges'])\n",
    "diff['Difference (Seconds)'] = diff['Beta Runtime (Seconds)'] - diff['GNN Runtime (Seconds)']"
   ]
  },
  {
   "cell_type": "code",
   "execution_count": 60,
   "id": "92f6dff3-5988-4bb2-8385-e2c1c04fd1a4",
   "metadata": {},
   "outputs": [
    {
     "data": {
      "text/html": [
       "\n",
       "  <div id=\"da8c5c7c-bef7-468c-afa5-121760c753aa\" data-root-id=\"p3224\" style=\"display: contents;\"></div>\n"
      ]
     },
     "metadata": {},
     "output_type": "display_data"
    },
    {
     "data": {
      "application/javascript": [
       "(function(root) {\n",
       "  function embed_document(root) {\n",
       "  const docs_json = {\"b6a6d90e-1d4c-48c0-8dd8-f80978d277e6\":{\"version\":\"3.3.4\",\"title\":\"Bokeh Application\",\"roots\":[{\"type\":\"object\",\"name\":\"Figure\",\"id\":\"p3224\",\"attributes\":{\"width\":400,\"height\":300,\"x_range\":{\"type\":\"object\",\"name\":\"DataRange1d\",\"id\":\"p3225\"},\"y_range\":{\"type\":\"object\",\"name\":\"DataRange1d\",\"id\":\"p3226\"},\"x_scale\":{\"type\":\"object\",\"name\":\"LinearScale\",\"id\":\"p3233\"},\"y_scale\":{\"type\":\"object\",\"name\":\"LinearScale\",\"id\":\"p3234\"},\"title\":{\"type\":\"object\",\"name\":\"Title\",\"id\":\"p3231\"},\"renderers\":[{\"type\":\"object\",\"name\":\"GlyphRenderer\",\"id\":\"p3265\",\"attributes\":{\"data_source\":{\"type\":\"object\",\"name\":\"ColumnDataSource\",\"id\":\"p3256\",\"attributes\":{\"selected\":{\"type\":\"object\",\"name\":\"Selection\",\"id\":\"p3257\",\"attributes\":{\"indices\":[],\"line_indices\":[]}},\"selection_policy\":{\"type\":\"object\",\"name\":\"UnionRenderers\",\"id\":\"p3258\"},\"data\":{\"type\":\"map\",\"entries\":[[\"index\",{\"type\":\"ndarray\",\"array\":{\"type\":\"bytes\",\"data\":\"AAAAAAIAAAAEAAAABgAAAAgAAAA=\"},\"shape\":[5],\"dtype\":\"int32\",\"order\":\"little\"}],[\"Explainer\",{\"type\":\"ndarray\",\"array\":[\"Beta\",\"Beta\",\"Beta\",\"Beta\",\"Beta\"],\"shape\":[5],\"dtype\":\"object\",\"order\":\"little\"}],[\"# Epochs\",{\"type\":\"ndarray\",\"array\":{\"type\":\"bytes\",\"data\":\"MgAAADIAAAAyAAAAMgAAADIAAAA=\"},\"shape\":[5],\"dtype\":\"int32\",\"order\":\"little\"}],[\"Runtime (Seconds)\",{\"type\":\"ndarray\",\"array\":{\"type\":\"bytes\",\"data\":\"AAAAQFBU9z8AAAAAACf2PwAAAADJMPY/AAAAQCgV9T8AAAAAfeH0Pw==\"},\"shape\":[5],\"dtype\":\"float64\",\"order\":\"little\"}],[\"Number of Edges\",{\"type\":\"ndarray\",\"array\":{\"type\":\"bytes\",\"data\":\"MgAAAGQAAACWAAAAyAAAAPoAAAA=\"},\"shape\":[5],\"dtype\":\"int32\",\"order\":\"little\"}]]}}},\"view\":{\"type\":\"object\",\"name\":\"CDSView\",\"id\":\"p3266\",\"attributes\":{\"filter\":{\"type\":\"object\",\"name\":\"AllIndices\",\"id\":\"p3267\"}}},\"glyph\":{\"type\":\"object\",\"name\":\"Circle\",\"id\":\"p3262\",\"attributes\":{\"x\":{\"type\":\"field\",\"field\":\"Number of Edges\"},\"y\":{\"type\":\"field\",\"field\":\"Runtime (Seconds)\"},\"line_color\":{\"type\":\"value\",\"value\":\"#1f77b4\"},\"fill_color\":{\"type\":\"value\",\"value\":\"#1f77b4\"}}},\"nonselection_glyph\":{\"type\":\"object\",\"name\":\"Circle\",\"id\":\"p3263\",\"attributes\":{\"x\":{\"type\":\"field\",\"field\":\"Number of Edges\"},\"y\":{\"type\":\"field\",\"field\":\"Runtime (Seconds)\"},\"line_color\":{\"type\":\"value\",\"value\":\"#1f77b4\"},\"line_alpha\":{\"type\":\"value\",\"value\":0.1},\"fill_color\":{\"type\":\"value\",\"value\":\"#1f77b4\"},\"fill_alpha\":{\"type\":\"value\",\"value\":0.1},\"hatch_alpha\":{\"type\":\"value\",\"value\":0.1}}},\"muted_glyph\":{\"type\":\"object\",\"name\":\"Circle\",\"id\":\"p3264\",\"attributes\":{\"x\":{\"type\":\"field\",\"field\":\"Number of Edges\"},\"y\":{\"type\":\"field\",\"field\":\"Runtime (Seconds)\"},\"line_color\":{\"type\":\"value\",\"value\":\"#1f77b4\"},\"line_alpha\":{\"type\":\"value\",\"value\":0.2},\"fill_color\":{\"type\":\"value\",\"value\":\"#1f77b4\"},\"fill_alpha\":{\"type\":\"value\",\"value\":0.2},\"hatch_alpha\":{\"type\":\"value\",\"value\":0.2}}}}},{\"type\":\"object\",\"name\":\"GlyphRenderer\",\"id\":\"p3279\",\"attributes\":{\"data_source\":{\"type\":\"object\",\"name\":\"ColumnDataSource\",\"id\":\"p3270\",\"attributes\":{\"selected\":{\"type\":\"object\",\"name\":\"Selection\",\"id\":\"p3271\",\"attributes\":{\"indices\":[],\"line_indices\":[]}},\"selection_policy\":{\"type\":\"object\",\"name\":\"UnionRenderers\",\"id\":\"p3272\"},\"data\":{\"type\":\"map\",\"entries\":[[\"index\",{\"type\":\"ndarray\",\"array\":{\"type\":\"bytes\",\"data\":\"AQAAAAMAAAAFAAAABwAAAAkAAAA=\"},\"shape\":[5],\"dtype\":\"int32\",\"order\":\"little\"}],[\"Explainer\",{\"type\":\"ndarray\",\"array\":[\"GNN\",\"GNN\",\"GNN\",\"GNN\",\"GNN\"],\"shape\":[5],\"dtype\":\"object\",\"order\":\"little\"}],[\"# Epochs\",{\"type\":\"ndarray\",\"array\":{\"type\":\"bytes\",\"data\":\"MgAAADIAAAAyAAAAMgAAADIAAAA=\"},\"shape\":[5],\"dtype\":\"int32\",\"order\":\"little\"}],[\"Runtime (Seconds)\",{\"type\":\"ndarray\",\"array\":{\"type\":\"bytes\",\"data\":\"AAAAgIzT6z8AAACAYKLsPwAAAIDJ+Ok/AAAAgBxV7T8AAAAAckvxPw==\"},\"shape\":[5],\"dtype\":\"float64\",\"order\":\"little\"}],[\"Number of Edges\",{\"type\":\"ndarray\",\"array\":{\"type\":\"bytes\",\"data\":\"MgAAAGQAAACWAAAAyAAAAPoAAAA=\"},\"shape\":[5],\"dtype\":\"int32\",\"order\":\"little\"}]]}}},\"view\":{\"type\":\"object\",\"name\":\"CDSView\",\"id\":\"p3280\",\"attributes\":{\"filter\":{\"type\":\"object\",\"name\":\"AllIndices\",\"id\":\"p3281\"}}},\"glyph\":{\"type\":\"object\",\"name\":\"Circle\",\"id\":\"p3276\",\"attributes\":{\"x\":{\"type\":\"field\",\"field\":\"Number of Edges\"},\"y\":{\"type\":\"field\",\"field\":\"Runtime (Seconds)\"},\"line_color\":{\"type\":\"value\",\"value\":\"orange\"},\"fill_color\":{\"type\":\"value\",\"value\":\"orange\"},\"hatch_color\":{\"type\":\"value\",\"value\":\"orange\"}}},\"nonselection_glyph\":{\"type\":\"object\",\"name\":\"Circle\",\"id\":\"p3277\",\"attributes\":{\"x\":{\"type\":\"field\",\"field\":\"Number of Edges\"},\"y\":{\"type\":\"field\",\"field\":\"Runtime (Seconds)\"},\"line_color\":{\"type\":\"value\",\"value\":\"orange\"},\"line_alpha\":{\"type\":\"value\",\"value\":0.1},\"fill_color\":{\"type\":\"value\",\"value\":\"orange\"},\"fill_alpha\":{\"type\":\"value\",\"value\":0.1},\"hatch_color\":{\"type\":\"value\",\"value\":\"orange\"},\"hatch_alpha\":{\"type\":\"value\",\"value\":0.1}}},\"muted_glyph\":{\"type\":\"object\",\"name\":\"Circle\",\"id\":\"p3278\",\"attributes\":{\"x\":{\"type\":\"field\",\"field\":\"Number of Edges\"},\"y\":{\"type\":\"field\",\"field\":\"Runtime (Seconds)\"},\"line_color\":{\"type\":\"value\",\"value\":\"orange\"},\"line_alpha\":{\"type\":\"value\",\"value\":0.2},\"fill_color\":{\"type\":\"value\",\"value\":\"orange\"},\"fill_alpha\":{\"type\":\"value\",\"value\":0.2},\"hatch_color\":{\"type\":\"value\",\"value\":\"orange\"},\"hatch_alpha\":{\"type\":\"value\",\"value\":0.2}}}}}],\"toolbar\":{\"type\":\"object\",\"name\":\"Toolbar\",\"id\":\"p3232\",\"attributes\":{\"tools\":[{\"type\":\"object\",\"name\":\"PanTool\",\"id\":\"p3245\"},{\"type\":\"object\",\"name\":\"WheelZoomTool\",\"id\":\"p3246\",\"attributes\":{\"renderers\":\"auto\"}},{\"type\":\"object\",\"name\":\"BoxZoomTool\",\"id\":\"p3247\",\"attributes\":{\"overlay\":{\"type\":\"object\",\"name\":\"BoxAnnotation\",\"id\":\"p3248\",\"attributes\":{\"syncable\":false,\"level\":\"overlay\",\"visible\":false,\"left\":{\"type\":\"number\",\"value\":\"nan\"},\"right\":{\"type\":\"number\",\"value\":\"nan\"},\"top\":{\"type\":\"number\",\"value\":\"nan\"},\"bottom\":{\"type\":\"number\",\"value\":\"nan\"},\"left_units\":\"canvas\",\"right_units\":\"canvas\",\"top_units\":\"canvas\",\"bottom_units\":\"canvas\",\"line_color\":\"black\",\"line_alpha\":1.0,\"line_width\":2,\"line_dash\":[4,4],\"fill_color\":\"lightgrey\",\"fill_alpha\":0.5}}}},{\"type\":\"object\",\"name\":\"SaveTool\",\"id\":\"p3253\"},{\"type\":\"object\",\"name\":\"ResetTool\",\"id\":\"p3254\"},{\"type\":\"object\",\"name\":\"HelpTool\",\"id\":\"p3255\"}]}},\"left\":[{\"type\":\"object\",\"name\":\"LinearAxis\",\"id\":\"p3240\",\"attributes\":{\"ticker\":{\"type\":\"object\",\"name\":\"BasicTicker\",\"id\":\"p3241\",\"attributes\":{\"mantissas\":[1,2,5]}},\"formatter\":{\"type\":\"object\",\"name\":\"BasicTickFormatter\",\"id\":\"p3242\"},\"axis_label\":\"Runtime (Seconds)\",\"major_label_policy\":{\"type\":\"object\",\"name\":\"AllLabels\",\"id\":\"p3243\"}}}],\"below\":[{\"type\":\"object\",\"name\":\"LinearAxis\",\"id\":\"p3235\",\"attributes\":{\"ticker\":{\"type\":\"object\",\"name\":\"BasicTicker\",\"id\":\"p3236\",\"attributes\":{\"mantissas\":[1,2,5]}},\"formatter\":{\"type\":\"object\",\"name\":\"BasicTickFormatter\",\"id\":\"p3237\"},\"axis_label\":\"Number of Edges\",\"major_label_policy\":{\"type\":\"object\",\"name\":\"AllLabels\",\"id\":\"p3238\"}}}],\"center\":[{\"type\":\"object\",\"name\":\"Grid\",\"id\":\"p3239\",\"attributes\":{\"axis\":{\"id\":\"p3235\"}}},{\"type\":\"object\",\"name\":\"Grid\",\"id\":\"p3244\",\"attributes\":{\"dimension\":1,\"axis\":{\"id\":\"p3240\"}}},{\"type\":\"object\",\"name\":\"Legend\",\"id\":\"p3268\",\"attributes\":{\"location\":\"top_left\",\"items\":[{\"type\":\"object\",\"name\":\"LegendItem\",\"id\":\"p3269\",\"attributes\":{\"label\":{\"type\":\"value\",\"value\":\"Beta\"},\"renderers\":[{\"id\":\"p3265\"}]}},{\"type\":\"object\",\"name\":\"LegendItem\",\"id\":\"p3282\",\"attributes\":{\"label\":{\"type\":\"value\",\"value\":\"GNN\"},\"renderers\":[{\"id\":\"p3279\"}]}}]}}]}}]}};\n",
       "  const render_items = [{\"docid\":\"b6a6d90e-1d4c-48c0-8dd8-f80978d277e6\",\"roots\":{\"p3224\":\"da8c5c7c-bef7-468c-afa5-121760c753aa\"},\"root_ids\":[\"p3224\"]}];\n",
       "  root.Bokeh.embed.embed_items_notebook(docs_json, render_items);\n",
       "  }\n",
       "  if (root.Bokeh !== undefined) {\n",
       "    embed_document(root);\n",
       "  } else {\n",
       "    let attempts = 0;\n",
       "    const timer = setInterval(function(root) {\n",
       "      if (root.Bokeh !== undefined) {\n",
       "        clearInterval(timer);\n",
       "        embed_document(root);\n",
       "      } else {\n",
       "        attempts++;\n",
       "        if (attempts > 100) {\n",
       "          clearInterval(timer);\n",
       "          console.log(\"Bokeh: ERROR: Unable to run BokehJS code because BokehJS library is missing\");\n",
       "        }\n",
       "      }\n",
       "    }, 10, root)\n",
       "  }\n",
       "})(window);"
      ],
      "application/vnd.bokehjs_exec.v0+json": ""
     },
     "metadata": {
      "application/vnd.bokehjs_exec.v0+json": {
       "id": "p3224"
      }
     },
     "output_type": "display_data"
    }
   ],
   "source": [
    "x = \"Number of Edges\"\n",
    "y = \"Runtime (Seconds)\"\n",
    "p = bokeh.plotting.figure(\n",
    "    width=400,\n",
    "    height=300,\n",
    "    x_axis_label=x,\n",
    "    y_axis_label=y,\n",
    ")\n",
    "p.circle(\n",
    "    source=effects[effects['Explainer'] == 'Beta'],\n",
    "    x=x,\n",
    "    y=y,\n",
    "    legend_label=\"Beta\",\n",
    ")\n",
    "p.circle(\n",
    "    source=effects[effects['Explainer'] == 'GNN'],\n",
    "    x=x,\n",
    "    y=y,\n",
    "    legend_label=\"GNN\",\n",
    "    color='orange'\n",
    ")\n",
    "p.legend.location = \"top_left\"\n",
    "bokeh.io.show(p)"
   ]
  },
  {
   "cell_type": "code",
   "execution_count": 62,
   "id": "c877ea78-264c-4a5a-b063-eb16750ee321",
   "metadata": {},
   "outputs": [
    {
     "data": {
      "text/html": [
       "\n",
       "  <div id=\"e5375072-a3d1-4125-80bf-02ab5bb83ead\" data-root-id=\"p3341\" style=\"display: contents;\"></div>\n"
      ]
     },
     "metadata": {},
     "output_type": "display_data"
    },
    {
     "data": {
      "application/javascript": [
       "(function(root) {\n",
       "  function embed_document(root) {\n",
       "  const docs_json = {\"c4202cb1-7a7c-4f3b-84eb-94a8170093c6\":{\"version\":\"3.3.4\",\"title\":\"Bokeh Application\",\"roots\":[{\"type\":\"object\",\"name\":\"Figure\",\"id\":\"p3341\",\"attributes\":{\"width\":400,\"height\":300,\"x_range\":{\"type\":\"object\",\"name\":\"DataRange1d\",\"id\":\"p3342\"},\"y_range\":{\"type\":\"object\",\"name\":\"DataRange1d\",\"id\":\"p3343\"},\"x_scale\":{\"type\":\"object\",\"name\":\"LinearScale\",\"id\":\"p3350\"},\"y_scale\":{\"type\":\"object\",\"name\":\"LinearScale\",\"id\":\"p3351\"},\"title\":{\"type\":\"object\",\"name\":\"Title\",\"id\":\"p3348\"},\"renderers\":[{\"type\":\"object\",\"name\":\"GlyphRenderer\",\"id\":\"p3382\",\"attributes\":{\"data_source\":{\"type\":\"object\",\"name\":\"ColumnDataSource\",\"id\":\"p3373\",\"attributes\":{\"selected\":{\"type\":\"object\",\"name\":\"Selection\",\"id\":\"p3374\",\"attributes\":{\"indices\":[],\"line_indices\":[]}},\"selection_policy\":{\"type\":\"object\",\"name\":\"UnionRenderers\",\"id\":\"p3375\"},\"data\":{\"type\":\"map\",\"entries\":[[\"index\",{\"type\":\"ndarray\",\"array\":{\"type\":\"bytes\",\"data\":\"AAAAAAEAAAACAAAAAwAAAAQAAAA=\"},\"shape\":[5],\"dtype\":\"int32\",\"order\":\"little\"}],[\"# Epochs\",{\"type\":\"ndarray\",\"array\":{\"type\":\"bytes\",\"data\":\"MgAAADIAAAAyAAAAMgAAADIAAAA=\"},\"shape\":[5],\"dtype\":\"int32\",\"order\":\"little\"}],[\"GNN Runtime (Seconds)\",{\"type\":\"ndarray\",\"array\":{\"type\":\"bytes\",\"data\":\"AAAAgIzT6z8AAACAYKLsPwAAAIDJ+Ok/AAAAgBxV7T8AAAAAckvxPw==\"},\"shape\":[5],\"dtype\":\"float64\",\"order\":\"little\"}],[\"Number of Edges\",{\"type\":\"ndarray\",\"array\":{\"type\":\"bytes\",\"data\":\"MgAAAGQAAACWAAAAyAAAAPoAAAA=\"},\"shape\":[5],\"dtype\":\"int32\",\"order\":\"little\"}],[\"Beta Runtime (Seconds)\",{\"type\":\"ndarray\",\"array\":{\"type\":\"bytes\",\"data\":\"AAAAQFBU9z8AAAAAACf2PwAAAADJMPY/AAAAQCgV9T8AAAAAfeH0Pw==\"},\"shape\":[5],\"dtype\":\"float64\",\"order\":\"little\"}],[\"Difference (Seconds)\",{\"type\":\"ndarray\",\"array\":{\"type\":\"bytes\",\"data\":\"AAAAABTV4j8AAAAAP1ffPwAAAIDIaOI/AAAAAGiq2T8AAAAAWLDMPw==\"},\"shape\":[5],\"dtype\":\"float64\",\"order\":\"little\"}]]}}},\"view\":{\"type\":\"object\",\"name\":\"CDSView\",\"id\":\"p3383\",\"attributes\":{\"filter\":{\"type\":\"object\",\"name\":\"AllIndices\",\"id\":\"p3384\"}}},\"glyph\":{\"type\":\"object\",\"name\":\"Circle\",\"id\":\"p3379\",\"attributes\":{\"x\":{\"type\":\"field\",\"field\":\"Number of Edges\"},\"y\":{\"type\":\"field\",\"field\":\"Difference (Seconds)\"},\"line_color\":{\"type\":\"value\",\"value\":\"#1f77b4\"},\"fill_color\":{\"type\":\"value\",\"value\":\"#1f77b4\"}}},\"nonselection_glyph\":{\"type\":\"object\",\"name\":\"Circle\",\"id\":\"p3380\",\"attributes\":{\"x\":{\"type\":\"field\",\"field\":\"Number of Edges\"},\"y\":{\"type\":\"field\",\"field\":\"Difference (Seconds)\"},\"line_color\":{\"type\":\"value\",\"value\":\"#1f77b4\"},\"line_alpha\":{\"type\":\"value\",\"value\":0.1},\"fill_color\":{\"type\":\"value\",\"value\":\"#1f77b4\"},\"fill_alpha\":{\"type\":\"value\",\"value\":0.1},\"hatch_alpha\":{\"type\":\"value\",\"value\":0.1}}},\"muted_glyph\":{\"type\":\"object\",\"name\":\"Circle\",\"id\":\"p3381\",\"attributes\":{\"x\":{\"type\":\"field\",\"field\":\"Number of Edges\"},\"y\":{\"type\":\"field\",\"field\":\"Difference (Seconds)\"},\"line_color\":{\"type\":\"value\",\"value\":\"#1f77b4\"},\"line_alpha\":{\"type\":\"value\",\"value\":0.2},\"fill_color\":{\"type\":\"value\",\"value\":\"#1f77b4\"},\"fill_alpha\":{\"type\":\"value\",\"value\":0.2},\"hatch_alpha\":{\"type\":\"value\",\"value\":0.2}}}}}],\"toolbar\":{\"type\":\"object\",\"name\":\"Toolbar\",\"id\":\"p3349\",\"attributes\":{\"tools\":[{\"type\":\"object\",\"name\":\"PanTool\",\"id\":\"p3362\"},{\"type\":\"object\",\"name\":\"WheelZoomTool\",\"id\":\"p3363\",\"attributes\":{\"renderers\":\"auto\"}},{\"type\":\"object\",\"name\":\"BoxZoomTool\",\"id\":\"p3364\",\"attributes\":{\"overlay\":{\"type\":\"object\",\"name\":\"BoxAnnotation\",\"id\":\"p3365\",\"attributes\":{\"syncable\":false,\"level\":\"overlay\",\"visible\":false,\"left\":{\"type\":\"number\",\"value\":\"nan\"},\"right\":{\"type\":\"number\",\"value\":\"nan\"},\"top\":{\"type\":\"number\",\"value\":\"nan\"},\"bottom\":{\"type\":\"number\",\"value\":\"nan\"},\"left_units\":\"canvas\",\"right_units\":\"canvas\",\"top_units\":\"canvas\",\"bottom_units\":\"canvas\",\"line_color\":\"black\",\"line_alpha\":1.0,\"line_width\":2,\"line_dash\":[4,4],\"fill_color\":\"lightgrey\",\"fill_alpha\":0.5}}}},{\"type\":\"object\",\"name\":\"SaveTool\",\"id\":\"p3370\"},{\"type\":\"object\",\"name\":\"ResetTool\",\"id\":\"p3371\"},{\"type\":\"object\",\"name\":\"HelpTool\",\"id\":\"p3372\"}]}},\"left\":[{\"type\":\"object\",\"name\":\"LinearAxis\",\"id\":\"p3357\",\"attributes\":{\"ticker\":{\"type\":\"object\",\"name\":\"BasicTicker\",\"id\":\"p3358\",\"attributes\":{\"mantissas\":[1,2,5]}},\"formatter\":{\"type\":\"object\",\"name\":\"BasicTickFormatter\",\"id\":\"p3359\"},\"axis_label\":\"Difference (Seconds)\",\"major_label_policy\":{\"type\":\"object\",\"name\":\"AllLabels\",\"id\":\"p3360\"}}}],\"below\":[{\"type\":\"object\",\"name\":\"LinearAxis\",\"id\":\"p3352\",\"attributes\":{\"ticker\":{\"type\":\"object\",\"name\":\"BasicTicker\",\"id\":\"p3353\",\"attributes\":{\"mantissas\":[1,2,5]}},\"formatter\":{\"type\":\"object\",\"name\":\"BasicTickFormatter\",\"id\":\"p3354\"},\"axis_label\":\"Number of Edges\",\"major_label_policy\":{\"type\":\"object\",\"name\":\"AllLabels\",\"id\":\"p3355\"}}}],\"center\":[{\"type\":\"object\",\"name\":\"Grid\",\"id\":\"p3356\",\"attributes\":{\"axis\":{\"id\":\"p3352\"}}},{\"type\":\"object\",\"name\":\"Grid\",\"id\":\"p3361\",\"attributes\":{\"dimension\":1,\"axis\":{\"id\":\"p3357\"}}}]}}]}};\n",
       "  const render_items = [{\"docid\":\"c4202cb1-7a7c-4f3b-84eb-94a8170093c6\",\"roots\":{\"p3341\":\"e5375072-a3d1-4125-80bf-02ab5bb83ead\"},\"root_ids\":[\"p3341\"]}];\n",
       "  root.Bokeh.embed.embed_items_notebook(docs_json, render_items);\n",
       "  }\n",
       "  if (root.Bokeh !== undefined) {\n",
       "    embed_document(root);\n",
       "  } else {\n",
       "    let attempts = 0;\n",
       "    const timer = setInterval(function(root) {\n",
       "      if (root.Bokeh !== undefined) {\n",
       "        clearInterval(timer);\n",
       "        embed_document(root);\n",
       "      } else {\n",
       "        attempts++;\n",
       "        if (attempts > 100) {\n",
       "          clearInterval(timer);\n",
       "          console.log(\"Bokeh: ERROR: Unable to run BokehJS code because BokehJS library is missing\");\n",
       "        }\n",
       "      }\n",
       "    }, 10, root)\n",
       "  }\n",
       "})(window);"
      ],
      "application/vnd.bokehjs_exec.v0+json": ""
     },
     "metadata": {
      "application/vnd.bokehjs_exec.v0+json": {
       "id": "p3341"
      }
     },
     "output_type": "display_data"
    }
   ],
   "source": [
    "x = \"Number of Edges\"\n",
    "y = \"Difference (Seconds)\"\n",
    "p = bokeh.plotting.figure(\n",
    "    width=400,\n",
    "    height=300,\n",
    "    x_axis_label=x,\n",
    "    y_axis_label=y,\n",
    ")\n",
    "p.circle(\n",
    "    source=diff,\n",
    "    x=x,\n",
    "    y=y,\n",
    ")\n",
    "bokeh.io.show(p)"
   ]
  },
  {
   "cell_type": "code",
   "execution_count": null,
   "id": "825d88bf-a4ce-4c61-87b1-6cc6926d19fa",
   "metadata": {},
   "outputs": [],
   "source": []
  },
  {
   "cell_type": "code",
   "execution_count": null,
   "id": "edb80ec3-be9a-4c66-a2bc-a47c136602bb",
   "metadata": {},
   "outputs": [],
   "source": []
  },
  {
   "cell_type": "code",
   "execution_count": null,
   "id": "983acd44-4e24-4994-a167-7cac79d3009a",
   "metadata": {},
   "outputs": [],
   "source": []
  }
 ],
 "metadata": {
  "kernelspec": {
   "display_name": "Python 3 (ipykernel)",
   "language": "python",
   "name": "python3"
  },
  "language_info": {
   "codemirror_mode": {
    "name": "ipython",
    "version": 3
   },
   "file_extension": ".py",
   "mimetype": "text/x-python",
   "name": "python",
   "nbconvert_exporter": "python",
   "pygments_lexer": "ipython3",
   "version": "3.11.7"
  }
 },
 "nbformat": 4,
 "nbformat_minor": 5
}
