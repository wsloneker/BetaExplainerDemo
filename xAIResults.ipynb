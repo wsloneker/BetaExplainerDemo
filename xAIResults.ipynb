{
 "cells": [
  {
   "cell_type": "code",
   "execution_count": 2,
   "id": "fad0d188-3b56-497a-b4b3-6764c86393a2",
   "metadata": {},
   "outputs": [
    {
     "data": {
      "text/html": [
       "    <style>\n",
       "        .bk-notebook-logo {\n",
       "            display: block;\n",
       "            width: 20px;\n",
       "            height: 20px;\n",
       "            background-image: url(data:image/png;base64,iVBORw0KGgoAAAANSUhEUgAAABQAAAAUCAYAAACNiR0NAAAABHNCSVQICAgIfAhkiAAAAAlwSFlzAAALEgAACxIB0t1+/AAAABx0RVh0U29mdHdhcmUAQWRvYmUgRmlyZXdvcmtzIENTNui8sowAAAOkSURBVDiNjZRtaJVlGMd/1/08zzln5zjP1LWcU9N0NkN8m2CYjpgQYQXqSs0I84OLIC0hkEKoPtiH3gmKoiJDU7QpLgoLjLIQCpEsNJ1vqUOdO7ppbuec5+V+rj4ctwzd8IIbbi6u+8f1539dt3A78eXC7QizUF7gyV1fD1Yqg4JWz84yffhm0qkFqBogB9rM8tZdtwVsPUhWhGcFJngGeWrPzHm5oaMmkfEg1usvLFyc8jLRqDOMru7AyC8saQr7GG7f5fvDeH7Ej8CM66nIF+8yngt6HWaKh7k49Soy9nXurCi1o3qUbS3zWfrYeQDTB/Qj6kX6Ybhw4B+bOYoLKCC9H3Nu/leUTZ1JdRWkkn2ldcCamzrcf47KKXdAJllSlxAOkRgyHsGC/zRday5Qld9DyoM4/q/rUoy/CXh3jzOu3bHUVZeU+DEn8FInkPBFlu3+nW3Nw0mk6vCDiWg8CeJaxEwuHS3+z5RgY+YBR6V1Z1nxSOfoaPa4LASWxxdNp+VWTk7+4vzaou8v8PN+xo+KY2xsw6une2frhw05CTYOmQvsEhjhWjn0bmXPjpE1+kplmmkP3suftwTubK9Vq22qKmrBhpY4jvd5afdRA3wGjFAgcnTK2s4hY0/GPNIb0nErGMCRxWOOX64Z8RAC4oCXdklmEvcL8o0BfkNK4lUg9HTl+oPlQxdNo3Mg4Nv175e/1LDGzZen30MEjRUtmXSfiTVu1kK8W4txyV6BMKlbgk3lMwYCiusNy9fVfvvwMxv8Ynl6vxoByANLTWplvuj/nF9m2+PDtt1eiHPBr1oIfhCChQMBw6Aw0UulqTKZdfVvfG7VcfIqLG9bcldL/+pdWTLxLUy8Qq38heUIjh4XlzZxzQm19lLFlr8vdQ97rjZVOLf8nclzckbcD4wxXMidpX30sFd37Fv/GtwwhzhxGVAprjbg0gCAEeIgwCZyTV2Z1REEW8O4py0wsjeloKoMr6iCY6dP92H6Vw/oTyICIthibxjm/DfN9lVz8IqtqKYLUXfoKVMVQVVJOElGjrnnUt9T9wbgp8AyYKaGlqingHZU/uG2NTZSVqwHQTWkx9hxjkpWDaCg6Ckj5qebgBVbT3V3NNXMSiWSDdGV3hrtzla7J+duwPOToIg42ChPQOQjspnSlp1V+Gjdged7+8UN5CRAV7a5EdFNwCjEaBR27b3W890TE7g24NAP/mMDXRWrGoFPQI9ls/MWO2dWFAar/xcOIImbbpA3zgAAAABJRU5ErkJggg==);\n",
       "        }\n",
       "    </style>\n",
       "    <div>\n",
       "        <a href=\"https://bokeh.org\" target=\"_blank\" class=\"bk-notebook-logo\"></a>\n",
       "        <span id=\"b44cd598-227a-46e4-915c-349c9f3310ec\">Loading BokehJS ...</span>\n",
       "    </div>\n"
      ]
     },
     "metadata": {},
     "output_type": "display_data"
    },
    {
     "data": {
      "application/javascript": [
       "(function(root) {\n",
       "  function now() {\n",
       "    return new Date();\n",
       "  }\n",
       "\n",
       "  const force = true;\n",
       "\n",
       "  if (typeof root._bokeh_onload_callbacks === \"undefined\" || force === true) {\n",
       "    root._bokeh_onload_callbacks = [];\n",
       "    root._bokeh_is_loading = undefined;\n",
       "  }\n",
       "\n",
       "const JS_MIME_TYPE = 'application/javascript';\n",
       "  const HTML_MIME_TYPE = 'text/html';\n",
       "  const EXEC_MIME_TYPE = 'application/vnd.bokehjs_exec.v0+json';\n",
       "  const CLASS_NAME = 'output_bokeh rendered_html';\n",
       "\n",
       "  /**\n",
       "   * Render data to the DOM node\n",
       "   */\n",
       "  function render(props, node) {\n",
       "    const script = document.createElement(\"script\");\n",
       "    node.appendChild(script);\n",
       "  }\n",
       "\n",
       "  /**\n",
       "   * Handle when an output is cleared or removed\n",
       "   */\n",
       "  function handleClearOutput(event, handle) {\n",
       "    function drop(id) {\n",
       "      const view = Bokeh.index.get_by_id(id)\n",
       "      if (view != null) {\n",
       "        view.model.document.clear()\n",
       "        Bokeh.index.delete(view)\n",
       "      }\n",
       "    }\n",
       "\n",
       "    const cell = handle.cell;\n",
       "\n",
       "    const id = cell.output_area._bokeh_element_id;\n",
       "    const server_id = cell.output_area._bokeh_server_id;\n",
       "\n",
       "    // Clean up Bokeh references\n",
       "    if (id != null) {\n",
       "      drop(id)\n",
       "    }\n",
       "\n",
       "    if (server_id !== undefined) {\n",
       "      // Clean up Bokeh references\n",
       "      const cmd_clean = \"from bokeh.io.state import curstate; print(curstate().uuid_to_server['\" + server_id + \"'].get_sessions()[0].document.roots[0]._id)\";\n",
       "      cell.notebook.kernel.execute(cmd_clean, {\n",
       "        iopub: {\n",
       "          output: function(msg) {\n",
       "            const id = msg.content.text.trim()\n",
       "            drop(id)\n",
       "          }\n",
       "        }\n",
       "      });\n",
       "      // Destroy server and session\n",
       "      const cmd_destroy = \"import bokeh.io.notebook as ion; ion.destroy_server('\" + server_id + \"')\";\n",
       "      cell.notebook.kernel.execute(cmd_destroy);\n",
       "    }\n",
       "  }\n",
       "\n",
       "  /**\n",
       "   * Handle when a new output is added\n",
       "   */\n",
       "  function handleAddOutput(event, handle) {\n",
       "    const output_area = handle.output_area;\n",
       "    const output = handle.output;\n",
       "\n",
       "    // limit handleAddOutput to display_data with EXEC_MIME_TYPE content only\n",
       "    if ((output.output_type != \"display_data\") || (!Object.prototype.hasOwnProperty.call(output.data, EXEC_MIME_TYPE))) {\n",
       "      return\n",
       "    }\n",
       "\n",
       "    const toinsert = output_area.element.find(\".\" + CLASS_NAME.split(' ')[0]);\n",
       "\n",
       "    if (output.metadata[EXEC_MIME_TYPE][\"id\"] !== undefined) {\n",
       "      toinsert[toinsert.length - 1].firstChild.textContent = output.data[JS_MIME_TYPE];\n",
       "      // store reference to embed id on output_area\n",
       "      output_area._bokeh_element_id = output.metadata[EXEC_MIME_TYPE][\"id\"];\n",
       "    }\n",
       "    if (output.metadata[EXEC_MIME_TYPE][\"server_id\"] !== undefined) {\n",
       "      const bk_div = document.createElement(\"div\");\n",
       "      bk_div.innerHTML = output.data[HTML_MIME_TYPE];\n",
       "      const script_attrs = bk_div.children[0].attributes;\n",
       "      for (let i = 0; i < script_attrs.length; i++) {\n",
       "        toinsert[toinsert.length - 1].firstChild.setAttribute(script_attrs[i].name, script_attrs[i].value);\n",
       "        toinsert[toinsert.length - 1].firstChild.textContent = bk_div.children[0].textContent\n",
       "      }\n",
       "      // store reference to server id on output_area\n",
       "      output_area._bokeh_server_id = output.metadata[EXEC_MIME_TYPE][\"server_id\"];\n",
       "    }\n",
       "  }\n",
       "\n",
       "  function register_renderer(events, OutputArea) {\n",
       "\n",
       "    function append_mime(data, metadata, element) {\n",
       "      // create a DOM node to render to\n",
       "      const toinsert = this.create_output_subarea(\n",
       "        metadata,\n",
       "        CLASS_NAME,\n",
       "        EXEC_MIME_TYPE\n",
       "      );\n",
       "      this.keyboard_manager.register_events(toinsert);\n",
       "      // Render to node\n",
       "      const props = {data: data, metadata: metadata[EXEC_MIME_TYPE]};\n",
       "      render(props, toinsert[toinsert.length - 1]);\n",
       "      element.append(toinsert);\n",
       "      return toinsert\n",
       "    }\n",
       "\n",
       "    /* Handle when an output is cleared or removed */\n",
       "    events.on('clear_output.CodeCell', handleClearOutput);\n",
       "    events.on('delete.Cell', handleClearOutput);\n",
       "\n",
       "    /* Handle when a new output is added */\n",
       "    events.on('output_added.OutputArea', handleAddOutput);\n",
       "\n",
       "    /**\n",
       "     * Register the mime type and append_mime function with output_area\n",
       "     */\n",
       "    OutputArea.prototype.register_mime_type(EXEC_MIME_TYPE, append_mime, {\n",
       "      /* Is output safe? */\n",
       "      safe: true,\n",
       "      /* Index of renderer in `output_area.display_order` */\n",
       "      index: 0\n",
       "    });\n",
       "  }\n",
       "\n",
       "  // register the mime type if in Jupyter Notebook environment and previously unregistered\n",
       "  if (root.Jupyter !== undefined) {\n",
       "    const events = require('base/js/events');\n",
       "    const OutputArea = require('notebook/js/outputarea').OutputArea;\n",
       "\n",
       "    if (OutputArea.prototype.mime_types().indexOf(EXEC_MIME_TYPE) == -1) {\n",
       "      register_renderer(events, OutputArea);\n",
       "    }\n",
       "  }\n",
       "  if (typeof (root._bokeh_timeout) === \"undefined\" || force === true) {\n",
       "    root._bokeh_timeout = Date.now() + 5000;\n",
       "    root._bokeh_failed_load = false;\n",
       "  }\n",
       "\n",
       "  const NB_LOAD_WARNING = {'data': {'text/html':\n",
       "     \"<div style='background-color: #fdd'>\\n\"+\n",
       "     \"<p>\\n\"+\n",
       "     \"BokehJS does not appear to have successfully loaded. If loading BokehJS from CDN, this \\n\"+\n",
       "     \"may be due to a slow or bad network connection. Possible fixes:\\n\"+\n",
       "     \"</p>\\n\"+\n",
       "     \"<ul>\\n\"+\n",
       "     \"<li>re-rerun `output_notebook()` to attempt to load from CDN again, or</li>\\n\"+\n",
       "     \"<li>use INLINE resources instead, as so:</li>\\n\"+\n",
       "     \"</ul>\\n\"+\n",
       "     \"<code>\\n\"+\n",
       "     \"from bokeh.resources import INLINE\\n\"+\n",
       "     \"output_notebook(resources=INLINE)\\n\"+\n",
       "     \"</code>\\n\"+\n",
       "     \"</div>\"}};\n",
       "\n",
       "  function display_loaded() {\n",
       "    const el = document.getElementById(\"b44cd598-227a-46e4-915c-349c9f3310ec\");\n",
       "    if (el != null) {\n",
       "      el.textContent = \"BokehJS is loading...\";\n",
       "    }\n",
       "    if (root.Bokeh !== undefined) {\n",
       "      if (el != null) {\n",
       "        el.textContent = \"BokehJS \" + root.Bokeh.version + \" successfully loaded.\";\n",
       "      }\n",
       "    } else if (Date.now() < root._bokeh_timeout) {\n",
       "      setTimeout(display_loaded, 100)\n",
       "    }\n",
       "  }\n",
       "\n",
       "  function run_callbacks() {\n",
       "    try {\n",
       "      root._bokeh_onload_callbacks.forEach(function(callback) {\n",
       "        if (callback != null)\n",
       "          callback();\n",
       "      });\n",
       "    } finally {\n",
       "      delete root._bokeh_onload_callbacks\n",
       "    }\n",
       "    console.debug(\"Bokeh: all callbacks have finished\");\n",
       "  }\n",
       "\n",
       "  function load_libs(css_urls, js_urls, callback) {\n",
       "    if (css_urls == null) css_urls = [];\n",
       "    if (js_urls == null) js_urls = [];\n",
       "\n",
       "    root._bokeh_onload_callbacks.push(callback);\n",
       "    if (root._bokeh_is_loading > 0) {\n",
       "      console.debug(\"Bokeh: BokehJS is being loaded, scheduling callback at\", now());\n",
       "      return null;\n",
       "    }\n",
       "    if (js_urls == null || js_urls.length === 0) {\n",
       "      run_callbacks();\n",
       "      return null;\n",
       "    }\n",
       "    console.debug(\"Bokeh: BokehJS not loaded, scheduling load and callback at\", now());\n",
       "    root._bokeh_is_loading = css_urls.length + js_urls.length;\n",
       "\n",
       "    function on_load() {\n",
       "      root._bokeh_is_loading--;\n",
       "      if (root._bokeh_is_loading === 0) {\n",
       "        console.debug(\"Bokeh: all BokehJS libraries/stylesheets loaded\");\n",
       "        run_callbacks()\n",
       "      }\n",
       "    }\n",
       "\n",
       "    function on_error(url) {\n",
       "      console.error(\"failed to load \" + url);\n",
       "    }\n",
       "\n",
       "    for (let i = 0; i < css_urls.length; i++) {\n",
       "      const url = css_urls[i];\n",
       "      const element = document.createElement(\"link\");\n",
       "      element.onload = on_load;\n",
       "      element.onerror = on_error.bind(null, url);\n",
       "      element.rel = \"stylesheet\";\n",
       "      element.type = \"text/css\";\n",
       "      element.href = url;\n",
       "      console.debug(\"Bokeh: injecting link tag for BokehJS stylesheet: \", url);\n",
       "      document.body.appendChild(element);\n",
       "    }\n",
       "\n",
       "    for (let i = 0; i < js_urls.length; i++) {\n",
       "      const url = js_urls[i];\n",
       "      const element = document.createElement('script');\n",
       "      element.onload = on_load;\n",
       "      element.onerror = on_error.bind(null, url);\n",
       "      element.async = false;\n",
       "      element.src = url;\n",
       "      console.debug(\"Bokeh: injecting script tag for BokehJS library: \", url);\n",
       "      document.head.appendChild(element);\n",
       "    }\n",
       "  };\n",
       "\n",
       "  function inject_raw_css(css) {\n",
       "    const element = document.createElement(\"style\");\n",
       "    element.appendChild(document.createTextNode(css));\n",
       "    document.body.appendChild(element);\n",
       "  }\n",
       "\n",
       "  const js_urls = [\"https://cdn.bokeh.org/bokeh/release/bokeh-3.3.4.min.js\", \"https://cdn.bokeh.org/bokeh/release/bokeh-gl-3.3.4.min.js\", \"https://cdn.bokeh.org/bokeh/release/bokeh-widgets-3.3.4.min.js\", \"https://cdn.bokeh.org/bokeh/release/bokeh-tables-3.3.4.min.js\", \"https://cdn.bokeh.org/bokeh/release/bokeh-mathjax-3.3.4.min.js\"];\n",
       "  const css_urls = [];\n",
       "\n",
       "  const inline_js = [    function(Bokeh) {\n",
       "      Bokeh.set_log_level(\"info\");\n",
       "    },\n",
       "function(Bokeh) {\n",
       "    }\n",
       "  ];\n",
       "\n",
       "  function run_inline_js() {\n",
       "    if (root.Bokeh !== undefined || force === true) {\n",
       "          for (let i = 0; i < inline_js.length; i++) {\n",
       "      inline_js[i].call(root, root.Bokeh);\n",
       "    }\n",
       "if (force === true) {\n",
       "        display_loaded();\n",
       "      }} else if (Date.now() < root._bokeh_timeout) {\n",
       "      setTimeout(run_inline_js, 100);\n",
       "    } else if (!root._bokeh_failed_load) {\n",
       "      console.log(\"Bokeh: BokehJS failed to load within specified timeout.\");\n",
       "      root._bokeh_failed_load = true;\n",
       "    } else if (force !== true) {\n",
       "      const cell = $(document.getElementById(\"b44cd598-227a-46e4-915c-349c9f3310ec\")).parents('.cell').data().cell;\n",
       "      cell.output_area.append_execute_result(NB_LOAD_WARNING)\n",
       "    }\n",
       "  }\n",
       "\n",
       "  if (root._bokeh_is_loading === 0) {\n",
       "    console.debug(\"Bokeh: BokehJS loaded, going straight to plotting\");\n",
       "    run_inline_js();\n",
       "  } else {\n",
       "    load_libs(css_urls, js_urls, function() {\n",
       "      console.debug(\"Bokeh: BokehJS plotting callback run at\", now());\n",
       "      run_inline_js();\n",
       "    });\n",
       "  }\n",
       "}(window));"
      ],
      "application/vnd.bokehjs_load.v0+json": "(function(root) {\n  function now() {\n    return new Date();\n  }\n\n  const force = true;\n\n  if (typeof root._bokeh_onload_callbacks === \"undefined\" || force === true) {\n    root._bokeh_onload_callbacks = [];\n    root._bokeh_is_loading = undefined;\n  }\n\n\n  if (typeof (root._bokeh_timeout) === \"undefined\" || force === true) {\n    root._bokeh_timeout = Date.now() + 5000;\n    root._bokeh_failed_load = false;\n  }\n\n  const NB_LOAD_WARNING = {'data': {'text/html':\n     \"<div style='background-color: #fdd'>\\n\"+\n     \"<p>\\n\"+\n     \"BokehJS does not appear to have successfully loaded. If loading BokehJS from CDN, this \\n\"+\n     \"may be due to a slow or bad network connection. Possible fixes:\\n\"+\n     \"</p>\\n\"+\n     \"<ul>\\n\"+\n     \"<li>re-rerun `output_notebook()` to attempt to load from CDN again, or</li>\\n\"+\n     \"<li>use INLINE resources instead, as so:</li>\\n\"+\n     \"</ul>\\n\"+\n     \"<code>\\n\"+\n     \"from bokeh.resources import INLINE\\n\"+\n     \"output_notebook(resources=INLINE)\\n\"+\n     \"</code>\\n\"+\n     \"</div>\"}};\n\n  function display_loaded() {\n    const el = document.getElementById(\"b44cd598-227a-46e4-915c-349c9f3310ec\");\n    if (el != null) {\n      el.textContent = \"BokehJS is loading...\";\n    }\n    if (root.Bokeh !== undefined) {\n      if (el != null) {\n        el.textContent = \"BokehJS \" + root.Bokeh.version + \" successfully loaded.\";\n      }\n    } else if (Date.now() < root._bokeh_timeout) {\n      setTimeout(display_loaded, 100)\n    }\n  }\n\n  function run_callbacks() {\n    try {\n      root._bokeh_onload_callbacks.forEach(function(callback) {\n        if (callback != null)\n          callback();\n      });\n    } finally {\n      delete root._bokeh_onload_callbacks\n    }\n    console.debug(\"Bokeh: all callbacks have finished\");\n  }\n\n  function load_libs(css_urls, js_urls, callback) {\n    if (css_urls == null) css_urls = [];\n    if (js_urls == null) js_urls = [];\n\n    root._bokeh_onload_callbacks.push(callback);\n    if (root._bokeh_is_loading > 0) {\n      console.debug(\"Bokeh: BokehJS is being loaded, scheduling callback at\", now());\n      return null;\n    }\n    if (js_urls == null || js_urls.length === 0) {\n      run_callbacks();\n      return null;\n    }\n    console.debug(\"Bokeh: BokehJS not loaded, scheduling load and callback at\", now());\n    root._bokeh_is_loading = css_urls.length + js_urls.length;\n\n    function on_load() {\n      root._bokeh_is_loading--;\n      if (root._bokeh_is_loading === 0) {\n        console.debug(\"Bokeh: all BokehJS libraries/stylesheets loaded\");\n        run_callbacks()\n      }\n    }\n\n    function on_error(url) {\n      console.error(\"failed to load \" + url);\n    }\n\n    for (let i = 0; i < css_urls.length; i++) {\n      const url = css_urls[i];\n      const element = document.createElement(\"link\");\n      element.onload = on_load;\n      element.onerror = on_error.bind(null, url);\n      element.rel = \"stylesheet\";\n      element.type = \"text/css\";\n      element.href = url;\n      console.debug(\"Bokeh: injecting link tag for BokehJS stylesheet: \", url);\n      document.body.appendChild(element);\n    }\n\n    for (let i = 0; i < js_urls.length; i++) {\n      const url = js_urls[i];\n      const element = document.createElement('script');\n      element.onload = on_load;\n      element.onerror = on_error.bind(null, url);\n      element.async = false;\n      element.src = url;\n      console.debug(\"Bokeh: injecting script tag for BokehJS library: \", url);\n      document.head.appendChild(element);\n    }\n  };\n\n  function inject_raw_css(css) {\n    const element = document.createElement(\"style\");\n    element.appendChild(document.createTextNode(css));\n    document.body.appendChild(element);\n  }\n\n  const js_urls = [\"https://cdn.bokeh.org/bokeh/release/bokeh-3.3.4.min.js\", \"https://cdn.bokeh.org/bokeh/release/bokeh-gl-3.3.4.min.js\", \"https://cdn.bokeh.org/bokeh/release/bokeh-widgets-3.3.4.min.js\", \"https://cdn.bokeh.org/bokeh/release/bokeh-tables-3.3.4.min.js\", \"https://cdn.bokeh.org/bokeh/release/bokeh-mathjax-3.3.4.min.js\"];\n  const css_urls = [];\n\n  const inline_js = [    function(Bokeh) {\n      Bokeh.set_log_level(\"info\");\n    },\nfunction(Bokeh) {\n    }\n  ];\n\n  function run_inline_js() {\n    if (root.Bokeh !== undefined || force === true) {\n          for (let i = 0; i < inline_js.length; i++) {\n      inline_js[i].call(root, root.Bokeh);\n    }\nif (force === true) {\n        display_loaded();\n      }} else if (Date.now() < root._bokeh_timeout) {\n      setTimeout(run_inline_js, 100);\n    } else if (!root._bokeh_failed_load) {\n      console.log(\"Bokeh: BokehJS failed to load within specified timeout.\");\n      root._bokeh_failed_load = true;\n    } else if (force !== true) {\n      const cell = $(document.getElementById(\"b44cd598-227a-46e4-915c-349c9f3310ec\")).parents('.cell').data().cell;\n      cell.output_area.append_execute_result(NB_LOAD_WARNING)\n    }\n  }\n\n  if (root._bokeh_is_loading === 0) {\n    console.debug(\"Bokeh: BokehJS loaded, going straight to plotting\");\n    run_inline_js();\n  } else {\n    load_libs(css_urls, js_urls, function() {\n      console.debug(\"Bokeh: BokehJS plotting callback run at\", now());\n      run_inline_js();\n    });\n  }\n}(window));"
     },
     "metadata": {},
     "output_type": "display_data"
    }
   ],
   "source": [
    "import pandas as pd\n",
    "import numpy as np\n",
    "from scipy import stats\n",
    "import ast\n",
    "import networkx as nx\n",
    "from pyvis.network import Network\n",
    "import graphviz\n",
    "import seaborn as sns\n",
    "import matplotlib.pyplot as plt\n",
    "plt.style.use('tableau-colorblind10')\n",
    "import numba\n",
    "import seaborn as sns\n",
    "import iqplot\n",
    "from sklearn import metrics\n",
    "import bokeh.models\n",
    "import bokeh.plotting\n",
    "import bokeh.io\n",
    "bokeh.io.output_notebook()"
   ]
  },
  {
   "cell_type": "code",
   "execution_count": 3,
   "id": "818c3152-9de6-40f1-82c6-040e5cbb5618",
   "metadata": {},
   "outputs": [],
   "source": [
    "ec1 = '#1A85FF'\n",
    "ec0 = '#D41159'"
   ]
  },
  {
   "cell_type": "code",
   "execution_count": 4,
   "id": "db9e13b0-b4f3-42c0-bf3b-94bea8686a8e",
   "metadata": {},
   "outputs": [],
   "source": [
    "basegnn = pd.read_csv('data/xAI/baseGNNExpxAISeedResults.csv')\n",
    "heterognn = pd.read_csv('data/xAI/heteroGNNExpxAISeedResults.csv')\n",
    "unfairgnn = pd.read_csv('data/xAI/unfairGNNExpxAISeedResults.csv')\n",
    "lessgnn = pd.read_csv('data/xAI/lessinformGNNExpxAISeedResults.csv')\n",
    "moregnn = pd.read_csv('data/xAI/moreinformGNNExpxAISeedResults.csv')"
   ]
  },
  {
   "cell_type": "code",
   "execution_count": 5,
   "id": "c4edd254-0a06-4fcb-94c7-f9278eb335e7",
   "metadata": {},
   "outputs": [],
   "source": [
    "basebeta = pd.read_csv('data/xAI/baseBetaExpxAISeedResults.csv')\n",
    "heterobeta = pd.read_csv('data/xAI/heteroBetaExpxAISeedResults.csv')\n",
    "unfairbeta = pd.read_csv('data/xAI/unfairBetaExpxAISeedResults.csv')\n",
    "lessbeta = pd.read_csv('data/xAI/lessinformBetaExpxAISeedResults.csv')\n",
    "morebeta = pd.read_csv('data/xAI/moreinformBetaExpxAISeedResults.csv')"
   ]
  },
  {
   "cell_type": "code",
   "execution_count": 6,
   "id": "94d9990f-060e-4b96-b488-353c56775ecc",
   "metadata": {},
   "outputs": [
    {
     "data": {
      "text/html": [
       "<div>\n",
       "<style scoped>\n",
       "    .dataframe tbody tr th:only-of-type {\n",
       "        vertical-align: middle;\n",
       "    }\n",
       "\n",
       "    .dataframe tbody tr th {\n",
       "        vertical-align: top;\n",
       "    }\n",
       "\n",
       "    .dataframe thead th {\n",
       "        text-align: right;\n",
       "    }\n",
       "</style>\n",
       "<table border=\"1\" class=\"dataframe\">\n",
       "  <thead>\n",
       "    <tr style=\"text-align: right;\">\n",
       "      <th></th>\n",
       "      <th>Avg Acc</th>\n",
       "      <th>Avg Prec</th>\n",
       "      <th>Avg Rec</th>\n",
       "      <th>Best Acc</th>\n",
       "      <th>Best Prec</th>\n",
       "      <th>Best Rec</th>\n",
       "      <th>Avg Faith</th>\n",
       "      <th>Best Faith</th>\n",
       "      <th>Alpha</th>\n",
       "      <th>Beta</th>\n",
       "      <th>Seed</th>\n",
       "      <th>LR</th>\n",
       "      <th>IDX</th>\n",
       "    </tr>\n",
       "  </thead>\n",
       "  <tbody>\n",
       "    <tr>\n",
       "      <th>0</th>\n",
       "      <td>0.171724</td>\n",
       "      <td>0.228906</td>\n",
       "      <td>0.425278</td>\n",
       "      <td>0.571429</td>\n",
       "      <td>0.631579</td>\n",
       "      <td>0.857143</td>\n",
       "      <td>0.986568</td>\n",
       "      <td>0.802408</td>\n",
       "      <td>NaN</td>\n",
       "      <td>NaN</td>\n",
       "      <td>0</td>\n",
       "      <td>0.00001</td>\n",
       "      <td>6814</td>\n",
       "    </tr>\n",
       "    <tr>\n",
       "      <th>1</th>\n",
       "      <td>0.174632</td>\n",
       "      <td>0.231685</td>\n",
       "      <td>0.433414</td>\n",
       "      <td>0.526316</td>\n",
       "      <td>0.666667</td>\n",
       "      <td>0.714286</td>\n",
       "      <td>0.986105</td>\n",
       "      <td>0.873000</td>\n",
       "      <td>NaN</td>\n",
       "      <td>NaN</td>\n",
       "      <td>1</td>\n",
       "      <td>0.00001</td>\n",
       "      <td>9547</td>\n",
       "    </tr>\n",
       "    <tr>\n",
       "      <th>2</th>\n",
       "      <td>0.175550</td>\n",
       "      <td>0.232782</td>\n",
       "      <td>0.435596</td>\n",
       "      <td>0.562500</td>\n",
       "      <td>0.818182</td>\n",
       "      <td>0.642857</td>\n",
       "      <td>0.985953</td>\n",
       "      <td>0.929757</td>\n",
       "      <td>NaN</td>\n",
       "      <td>NaN</td>\n",
       "      <td>2</td>\n",
       "      <td>0.00001</td>\n",
       "      <td>11543</td>\n",
       "    </tr>\n",
       "    <tr>\n",
       "      <th>3</th>\n",
       "      <td>0.174822</td>\n",
       "      <td>0.232278</td>\n",
       "      <td>0.433534</td>\n",
       "      <td>0.647059</td>\n",
       "      <td>0.785714</td>\n",
       "      <td>0.785714</td>\n",
       "      <td>0.985898</td>\n",
       "      <td>0.783319</td>\n",
       "      <td>NaN</td>\n",
       "      <td>NaN</td>\n",
       "      <td>3</td>\n",
       "      <td>0.00001</td>\n",
       "      <td>8895</td>\n",
       "    </tr>\n",
       "    <tr>\n",
       "      <th>4</th>\n",
       "      <td>0.177893</td>\n",
       "      <td>0.235152</td>\n",
       "      <td>0.441703</td>\n",
       "      <td>0.550000</td>\n",
       "      <td>0.647059</td>\n",
       "      <td>0.785714</td>\n",
       "      <td>0.985603</td>\n",
       "      <td>0.910429</td>\n",
       "      <td>NaN</td>\n",
       "      <td>NaN</td>\n",
       "      <td>4</td>\n",
       "      <td>0.00001</td>\n",
       "      <td>1776</td>\n",
       "    </tr>\n",
       "  </tbody>\n",
       "</table>\n",
       "</div>"
      ],
      "text/plain": [
       "    Avg Acc  Avg Prec   Avg Rec  Best Acc  Best Prec  Best Rec  Avg Faith  \\\n",
       "0  0.171724  0.228906  0.425278  0.571429   0.631579  0.857143   0.986568   \n",
       "1  0.174632  0.231685  0.433414  0.526316   0.666667  0.714286   0.986105   \n",
       "2  0.175550  0.232782  0.435596  0.562500   0.818182  0.642857   0.985953   \n",
       "3  0.174822  0.232278  0.433534  0.647059   0.785714  0.785714   0.985898   \n",
       "4  0.177893  0.235152  0.441703  0.550000   0.647059  0.785714   0.985603   \n",
       "\n",
       "   Best Faith  Alpha  Beta  Seed       LR    IDX  \n",
       "0    0.802408    NaN   NaN     0  0.00001   6814  \n",
       "1    0.873000    NaN   NaN     1  0.00001   9547  \n",
       "2    0.929757    NaN   NaN     2  0.00001  11543  \n",
       "3    0.783319    NaN   NaN     3  0.00001   8895  \n",
       "4    0.910429    NaN   NaN     4  0.00001   1776  "
      ]
     },
     "execution_count": 6,
     "metadata": {},
     "output_type": "execute_result"
    }
   ],
   "source": [
    "basegnn.head()"
   ]
  },
  {
   "cell_type": "code",
   "execution_count": 7,
   "id": "a120a81e-b9ff-4949-bcf3-129c6c1a9708",
   "metadata": {},
   "outputs": [
    {
     "name": "stdout",
     "output_type": "stream",
     "text": [
      "Best | Acc: 0.0681, Prec: 0.117, Rec: 0.113\n",
      "Unfaithfulness: 0.245\n",
      "Averages | Acc: 0.00159, Prec: 0.00160, Rec: 0.00440\n",
      "Unfaithfulness: 0.000438\n"
     ]
    }
   ],
   "source": [
    "aa = np.std(list(basegnn['Best Acc']))\n",
    "ap = np.std(list(basegnn['Best Prec']))\n",
    "ar = np.std(list(basegnn['Best Rec']))\n",
    "af = np.std(list(basegnn['Best Faith']))\n",
    "print(f'Best | Acc: {aa:.4f}, Prec: {ap:.3f}, Rec: {ar:.3f}')\n",
    "print(f'Unfaithfulness: {af:.3f}')\n",
    "aa = np.std(list(basegnn['Avg Acc']))\n",
    "ap = np.std(list(basegnn['Avg Prec']))\n",
    "ar = np.std(list(basegnn['Avg Rec']))\n",
    "af = np.std(list(basegnn['Avg Faith']))\n",
    "print(f'Averages | Acc: {aa:.5f}, Prec: {ap:.5f}, Rec: {ar:.5f}')\n",
    "print(f'Unfaithfulness: {af:.6f}')"
   ]
  },
  {
   "cell_type": "code",
   "execution_count": 8,
   "id": "faf9fc15-379f-4d13-beeb-99e85e8b32c7",
   "metadata": {},
   "outputs": [
    {
     "name": "stdout",
     "output_type": "stream",
     "text": [
      "Best | Acc: 0.100, Prec: 0.100, Rec: 0.0\n",
      "Unfaithfulness: 0.112\n",
      "Avg | Acc: 0.000422, Prec: 0.000350, Rec: 0.00196\n",
      "Unfaithfulness: 0.00947\n"
     ]
    }
   ],
   "source": [
    "aa = np.std(list(basebeta['Best Acc']))\n",
    "ap = np.std(list(basebeta['Best Prec']))\n",
    "ar = np.std(list(basebeta['Best Rec']))\n",
    "af = np.std(list(basebeta['Best Faith']))\n",
    "print(f'Best | Acc: {aa:.3f}, Prec: {ap:.3f}, Rec: {ar}')\n",
    "print(f'Unfaithfulness: {af:.3f}')\n",
    "aa = np.std(list(basebeta['Avg Acc']))\n",
    "ap = np.std(list(basebeta['Avg Prec']))\n",
    "ar = np.std(list(basebeta['Avg Rec']))\n",
    "af = np.std(list(basebeta['Avg Faith']))\n",
    "print(f'Avg | Acc: {aa:.6f}, Prec: {ap:.6f}, Rec: {ar:.5f}')\n",
    "print(f'Unfaithfulness: {af:.5f}')"
   ]
  },
  {
   "cell_type": "code",
   "execution_count": 9,
   "id": "315e1af3-270c-4dfc-b583-1f78cf3fa1ae",
   "metadata": {},
   "outputs": [
    {
     "name": "stdout",
     "output_type": "stream",
     "text": [
      "Best | Acc: 0.0877, Prec: 0.126, Rec: 0.0793\n",
      "Unfaithfulness: 0.219\n",
      "Avg | Acc: 0.00117, Prec: 0.00121, Rec: 0.00311\n",
      "Unfaithfulness: 0.000445\n"
     ]
    }
   ],
   "source": [
    "aa = np.std(list(heterognn['Best Acc']))\n",
    "ap = np.std(list(heterognn['Best Prec']))\n",
    "ar = np.std(list(heterognn['Best Rec']))\n",
    "af = np.std(list(heterognn['Best Faith']))\n",
    "print(f'Best | Acc: {aa:.4f}, Prec: {ap:.3f}, Rec: {ar:.4f}')\n",
    "print(f'Unfaithfulness: {af:.3f}')\n",
    "aa = np.std(list(heterognn['Avg Acc']))\n",
    "ap = np.std(list(heterognn['Avg Prec']))\n",
    "ar = np.std(list(heterognn['Avg Rec']))\n",
    "af = np.std(list(heterognn['Avg Faith']))\n",
    "print(f'Avg | Acc: {aa:.5f}, Prec: {ap:.5f}, Rec: {ar:.5f}')\n",
    "print(f'Unfaithfulness: {af:6f}')"
   ]
  },
  {
   "cell_type": "code",
   "execution_count": 10,
   "id": "3902e04d-3961-4d95-837b-629cc19e5eb8",
   "metadata": {},
   "outputs": [
    {
     "name": "stdout",
     "output_type": "stream",
     "text": [
      "Best | Acc: 0.125, Prec: 0.125, Rec: 0.0\n",
      "Unfaithfulness: 0.339\n",
      "Avg | Acc: 0.000750, Prec: 0.000559, Rec: 0.00428\n",
      "Unfaithfulness: 0.00638\n"
     ]
    }
   ],
   "source": [
    "aa = np.std(list(heterobeta['Best Acc']))\n",
    "ap = np.std(list(heterobeta['Best Prec']))\n",
    "ar = np.std(list(heterobeta['Best Rec']))\n",
    "af = np.std(list(heterobeta['Best Faith']))\n",
    "print(f'Best | Acc: {aa:.3f}, Prec: {ap:.3f}, Rec: {ar:}')\n",
    "print(f'Unfaithfulness: {af:.3f}')\n",
    "aa = np.std(list(heterobeta['Avg Acc']))\n",
    "ap = np.std(list(heterobeta['Avg Prec']))\n",
    "ar = np.std(list(heterobeta['Avg Rec']))\n",
    "af = np.std(list(heterobeta['Avg Faith']))\n",
    "print(f'Avg | Acc: {aa:.6f}, Prec: {ap:.6f}, Rec: {ar:.5f}')\n",
    "print(f'Unfaithfulness: {af:.5f}')"
   ]
  },
  {
   "cell_type": "code",
   "execution_count": 11,
   "id": "6c6e4ab4-6c6c-4d11-978b-06b1e8ac612a",
   "metadata": {},
   "outputs": [
    {
     "name": "stdout",
     "output_type": "stream",
     "text": [
      "Best | Acc: 0.0668, Prec: 0.118, Rec: 0.0780\n",
      "Unfaithfulness: 0.158\n",
      "Avg | Acc: 0.00104, Prec: 0.00116, Rec: 0.00266\n",
      "Unfaithfulness: 0.000413\n"
     ]
    }
   ],
   "source": [
    "aa = np.std(list(unfairgnn['Best Acc']))\n",
    "ap = np.std(list(unfairgnn['Best Prec']))\n",
    "ar = np.std(list(unfairgnn['Best Rec']))\n",
    "af = np.std(list(unfairgnn['Best Faith']))\n",
    "print(f'Best | Acc: {aa:.4f}, Prec: {ap:.3f}, Rec: {ar:.4f}')\n",
    "print(f'Unfaithfulness: {af:.3f}')\n",
    "aa = np.std(list(unfairgnn['Avg Acc']))\n",
    "ap = np.std(list(unfairgnn['Avg Prec']))\n",
    "ar = np.std(list(unfairgnn['Avg Rec']))\n",
    "af = np.std(list(unfairgnn['Avg Faith']))\n",
    "print(f'Avg | Acc: {aa:.5f}, Prec: {ap:.5f}, Rec: {ar:.5f}')\n",
    "print(f'Unfaithfulness: {af:.6f}')"
   ]
  },
  {
   "cell_type": "code",
   "execution_count": 12,
   "id": "5859087c-1dc6-45df-984d-285d7febc62c",
   "metadata": {},
   "outputs": [
    {
     "name": "stdout",
     "output_type": "stream",
     "text": [
      "Best | Acc: 0.0538, Prec: 0.0538, Rec: 0.0\n",
      "Unfaithfulness: 0.189\n",
      "Avg | Acc: 0.000409, Prec: 0.000328, Rec: 0.00171\n",
      "Unfaithfulness: 0.0111\n"
     ]
    }
   ],
   "source": [
    "aa = np.std(list(unfairbeta['Best Acc']))\n",
    "ap = np.std(list(unfairbeta['Best Prec']))\n",
    "ar = np.std(list(unfairbeta['Best Rec']))\n",
    "af = np.std(list(unfairbeta['Best Faith']))\n",
    "print(f'Best | Acc: {aa:.4f}, Prec: {ap:.4f}, Rec: {ar}')\n",
    "print(f'Unfaithfulness: {af:.3f}')\n",
    "aa = np.std(list(unfairbeta['Avg Acc']))\n",
    "ap = np.std(list(unfairbeta['Avg Prec']))\n",
    "ar = np.std(list(unfairbeta['Avg Rec']))\n",
    "af = np.std(list(unfairbeta['Avg Faith']))\n",
    "print(f'Avg | Acc: {aa:.6f}, Prec: {ap:.6f}, Rec: {ar:.5f}')\n",
    "print(f'Unfaithfulness: {af:.4f}')"
   ]
  },
  {
   "cell_type": "code",
   "execution_count": 13,
   "id": "073f0b3b-d9d5-49fe-a342-9df729d7b795",
   "metadata": {},
   "outputs": [
    {
     "name": "stdout",
     "output_type": "stream",
     "text": [
      "Best | Acc: 0.0616, Prec: 0.0968, Rec: 0.0734\n",
      "Unfaithfulness: 0.204\n",
      "Avg | Acc: 0.00118, Prec: 0.00125, Rec: 0.00329\n",
      "Unfaithfulness: 0.000352\n"
     ]
    }
   ],
   "source": [
    "aa = np.std(list(lessgnn['Best Acc']))\n",
    "ap = np.std(list(lessgnn['Best Prec']))\n",
    "ar = np.std(list(lessgnn['Best Rec']))\n",
    "af = np.std(list(lessgnn['Best Faith']))\n",
    "print(f'Best | Acc: {aa:.4f}, Prec: {ap:.4f}, Rec: {ar:.4f}')\n",
    "print(f'Unfaithfulness: {af:.3f}')\n",
    "aa = np.std(list(lessgnn['Avg Acc']))\n",
    "ap = np.std(list(lessgnn['Avg Prec']))\n",
    "ar = np.std(list(lessgnn['Avg Rec']))\n",
    "af = np.std(list(lessgnn['Avg Faith']))\n",
    "print(f'Avg | Acc: {aa:.5f}, Prec: {ap:.5f}, Rec: {ar:.5f}')\n",
    "print(f'Unfaithfulness: {af:.6f}')"
   ]
  },
  {
   "cell_type": "code",
   "execution_count": 14,
   "id": "3b7144b3-5104-40fd-aa8b-3016c2a0523f",
   "metadata": {},
   "outputs": [
    {
     "name": "stdout",
     "output_type": "stream",
     "text": [
      "Best | Acc: 0.106, Prec: 0.105, Rec: 0.0387\n",
      "Unfaithfulness: 0.293\n",
      "Averages | Acc: 0.00117, Prec: 0.00126, Rec: 0.00442\n",
      "Unfaithfulness: 0.000770\n"
     ]
    }
   ],
   "source": [
    "aa = np.std(list(lessbeta['Best Acc']))\n",
    "ap = np.std(list(lessbeta['Best Prec']))\n",
    "ar = np.std(list(lessbeta['Best Rec']))\n",
    "af = np.std(list(lessbeta['Best Faith']))\n",
    "print(f'Best | Acc: {aa:.3f}, Prec: {ap:.3f}, Rec: {ar:.4f}')\n",
    "print(f'Unfaithfulness: {af:.3f}')\n",
    "aa = np.std(list(lessbeta['Avg Acc']))\n",
    "ap = np.std(list(lessbeta['Avg Prec']))\n",
    "ar = np.std(list(lessbeta['Avg Rec']))\n",
    "af = np.std(list(lessbeta['Avg Faith']))\n",
    "print(f'Averages | Acc: {aa:.5f}, Prec: {ap:.5f}, Rec: {ar:.5f}')\n",
    "print(f'Unfaithfulness: {af:.6f}')"
   ]
  },
  {
   "cell_type": "code",
   "execution_count": 15,
   "id": "baf890c0-1dcf-4109-9c04-4867bd4bbfeb",
   "metadata": {},
   "outputs": [
    {
     "name": "stdout",
     "output_type": "stream",
     "text": [
      "Best | Acc: 0.0739, Prec: 0.115, Rec: 0.0629\n",
      "Unfaithfulness: 0.220\n",
      "Avg | Acc: 0.000973, Prec: 0.00111, Rec: 0.00277\n",
      "Unfaithfulness: 0.000280\n"
     ]
    }
   ],
   "source": [
    "aa = np.std(list(moregnn['Best Acc']))\n",
    "ap = np.std(list(moregnn['Best Prec']))\n",
    "ar = np.std(list(moregnn['Best Rec']))\n",
    "af = np.std(list(moregnn['Best Faith']))\n",
    "print(f'Best | Acc: {aa:.4f}, Prec: {ap:.3f}, Rec: {ar:.4f}')\n",
    "print(f'Unfaithfulness: {af:.3f}')\n",
    "aa = np.std(list(moregnn['Avg Acc']))\n",
    "ap = np.std(list(moregnn['Avg Prec']))\n",
    "ar = np.std(list(moregnn['Avg Rec']))\n",
    "af = np.std(list(moregnn['Avg Faith']))\n",
    "print(f'Avg | Acc: {aa:.6f}, Prec: {ap:.5f}, Rec: {ar:.5f}')\n",
    "print(f'Unfaithfulness: {af:.6f}')"
   ]
  },
  {
   "cell_type": "code",
   "execution_count": 16,
   "id": "480892b1-32ad-4175-ae71-97c43d8101ca",
   "metadata": {},
   "outputs": [
    {
     "name": "stdout",
     "output_type": "stream",
     "text": [
      "Best | Acc: 0.0796, Prec: 0.103, Rec: 0.0602\n",
      "Unfaithfulness: 0.314\n",
      "Best | Acc: 0.00183, Prec: 0.00154, Rec: 0.00677\n",
      "Unfaithfulness: 0.000691\n"
     ]
    }
   ],
   "source": [
    "aa = np.std(list(morebeta['Best Acc']))\n",
    "ap = np.std(list(morebeta['Best Prec']))\n",
    "ar = np.std(list(morebeta['Best Rec']))\n",
    "af = np.std(list(morebeta['Best Faith']))\n",
    "print(f'Best | Acc: {aa:.4f}, Prec: {ap:.3f}, Rec: {ar:.4f}')\n",
    "print(f'Unfaithfulness: {af:.3f}')\n",
    "aa = np.std(list(morebeta['Avg Acc']))\n",
    "ap = np.std(list(morebeta['Avg Prec']))\n",
    "ar = np.std(list(morebeta['Avg Rec']))\n",
    "af = np.std(list(morebeta['Avg Faith']))\n",
    "print(f'Best | Acc: {aa:.5f}, Prec: {ap:.5f}, Rec: {ar:.5f}')\n",
    "print(f'Unfaithfulness: {af:.6f}')"
   ]
  },
  {
   "cell_type": "code",
   "execution_count": 17,
   "id": "570c5fcd-cb7b-4aa6-b058-b88912012e08",
   "metadata": {},
   "outputs": [],
   "source": [
    "basebetabest = pd.read_csv('data/xAI/baseBetaExpxAIRunBestProbsVSGT.csv')\n",
    "basebetagraph = basebetabest[basebetabest['Run'] == 15]\n",
    "unfairbetabest = pd.read_csv('data/xAI/unfairBetaExpxAIRunBestProbsVSGT.csv')\n",
    "unfairbetagraph = unfairbetabest[unfairbetabest['Run'] == 14]\n",
    "heterobetabest = pd.read_csv('data/xAI/heteroBetaExpxAIRunBestProbsVSGT.csv')\n",
    "heterobetagraph = heterobetabest[heterobetabest['Run'] == 14]\n",
    "lessbetabest = pd.read_csv('data/xAI/lessinformBetaExpxAIRunBestProbsVSGT.csv')\n",
    "lessbetagraph = lessbetabest[lessbetabest['Run'] == 17]\n",
    "morebetabest = pd.read_csv('data/xAI/moreinformBetaExpxAIRunBestProbsVSGT.csv')\n",
    "morebetagraph = morebetabest[morebetabest['Run'] == 4]"
   ]
  },
  {
   "cell_type": "code",
   "execution_count": 18,
   "id": "9ad3ba53-9437-4ac6-b976-d2c7be710fcc",
   "metadata": {},
   "outputs": [],
   "source": [
    "basegnnbest = pd.read_csv('data/xAI/baseGNNExpxAIRunBestProbsVSGT.csv')\n",
    "basegnngraph = basegnnbest[basegnnbest['Run'] == 1]\n",
    "unfairgnnbest = pd.read_csv('data/xAI/unfairGNNExpxAIRunBestProbsVSGT.csv')\n",
    "unfairgnngraph = unfairgnnbest[unfairgnnbest['Run'] == 22]\n",
    "heterognnbest = pd.read_csv('data/xAI/heteroGNNExpxAIRunBestProbsVSGT.csv')\n",
    "heterognngraph = heterognnbest[heterognnbest['Run'] == 1]\n",
    "lessgnnbest = pd.read_csv('data/xAI/lessinformGNNExpxAIRunBestProbsVSGT.csv')\n",
    "lessgnngraph = lessgnnbest[lessgnnbest['Run'] == 23]\n",
    "moregnnbest = pd.read_csv('data/xAI/moreinformGNNExpxAIRunBestProbsVSGT.csv')\n",
    "moregnngraph = moregnnbest[moregnnbest['Run'] == 6]"
   ]
  },
  {
   "cell_type": "code",
   "execution_count": 19,
   "id": "3b449eba-a47c-4565-a1c0-a30a3c894ee3",
   "metadata": {
    "scrolled": true
   },
   "outputs": [
    {
     "name": "stdout",
     "output_type": "stream",
     "text": [
      "Warning: When  cdn_resources is 'local' jupyter notebook has issues displaying graphics on chrome/safari. Use cdn_resources='in_line' or cdn_resources='remote' if you have issues viewing graphics in a notebook.\n",
      "data/Vis/BaselineGraphGNN.html\n"
     ]
    },
    {
     "data": {
      "text/html": [
       "\n",
       "        <iframe\n",
       "            width=\"100%\"\n",
       "            height=\"600px\"\n",
       "            src=\"data/Vis/BaselineGraphGNN.html\"\n",
       "            frameborder=\"0\"\n",
       "            allowfullscreen\n",
       "            \n",
       "        ></iframe>\n",
       "        "
      ],
      "text/plain": [
       "<IPython.lib.display.IFrame at 0x1e9fa0ccfd0>"
      ]
     },
     "execution_count": 19,
     "metadata": {},
     "output_type": "execute_result"
    }
   ],
   "source": [
    "tp_edges = basegnngraph[basegnngraph['GT'] == 1]\n",
    "tp_set = set()\n",
    "p1s = list(tp_edges['P1'])\n",
    "p2s = list(tp_edges['P2'])\n",
    "for i in range(len(p1s)):\n",
    "    p1 = p1s[i]\n",
    "    p2 = p2s[i]\n",
    "    tp_set.add((p1, p2))\n",
    "g = Network(notebook=True, directed=True)\n",
    "ei1 = list(basegnngraph['P1'])\n",
    "ei2 = list(basegnngraph['P2'])\n",
    "prob = list(basegnngraph['Probability'])\n",
    "b1 = []\n",
    "b2 = []\n",
    "n = []\n",
    "c = []\n",
    "for i in range(len(ei1)):\n",
    "    if prob[i] >= 0.5:\n",
    "        b1.append(ei1[i])\n",
    "        b2.append(ei2[i])\n",
    "u1 = np.unique(b1)\n",
    "u2 = np.unique(b2)\n",
    "for i in u1:\n",
    "    if i not in n:\n",
    "        n.append(i)\n",
    "        c.append('Black')\n",
    "for i in u2:\n",
    "    if i not in n:\n",
    "        n.append(i)\n",
    "        c.append('Black')\n",
    "g.add_nodes(n, color=c)\n",
    "for i in range(0, len(b1)):\n",
    "    g.add_edge(b1[i], b2[i], width=5)\n",
    "for edge in g.get_edges():\n",
    "    p1 = edge['from']\n",
    "    p2 = edge['to']\n",
    "    if (p1, p2) in tp_set:\n",
    "        edge[\"color\"] = ec1\n",
    "    else:\n",
    "        edge[\"color\"] = ec0\n",
    "g.show('data/Vis/BaselineGraphGNN.html')"
   ]
  },
  {
   "cell_type": "code",
   "execution_count": 21,
   "id": "93b87039-a4c6-40b9-badf-95e4122233ab",
   "metadata": {
    "scrolled": true
   },
   "outputs": [
    {
     "name": "stdout",
     "output_type": "stream",
     "text": [
      "Warning: When  cdn_resources is 'local' jupyter notebook has issues displaying graphics on chrome/safari. Use cdn_resources='in_line' or cdn_resources='remote' if you have issues viewing graphics in a notebook.\n",
      "data/Vis/baseGNNGT.html\n"
     ]
    },
    {
     "data": {
      "text/html": [
       "\n",
       "        <iframe\n",
       "            width=\"100%\"\n",
       "            height=\"600px\"\n",
       "            src=\"data/Vis/baseGNNGT.html\"\n",
       "            frameborder=\"0\"\n",
       "            allowfullscreen\n",
       "            \n",
       "        ></iframe>\n",
       "        "
      ],
      "text/plain": [
       "<IPython.lib.display.IFrame at 0x1e9fa133850>"
      ]
     },
     "execution_count": 21,
     "metadata": {},
     "output_type": "execute_result"
    }
   ],
   "source": [
    "g = Network(notebook=True, directed=True)\n",
    "ei1 = list(basegnngraph['P1'])\n",
    "ei2 = list(basegnngraph['P2'])\n",
    "prob = list(basegnngraph['GT'])\n",
    "b1 = []\n",
    "b2 = []\n",
    "n = []\n",
    "c = []\n",
    "for i in range(len(ei1)):\n",
    "    if prob[i] == 1:\n",
    "        b1.append(ei1[i])\n",
    "        b2.append(ei2[i])\n",
    "u1 = np.unique(b1)\n",
    "u2 = np.unique(b2)\n",
    "for i in u1:\n",
    "    if i not in n:\n",
    "        n.append(i)\n",
    "        c.append('black')\n",
    "for i in u2:\n",
    "    if i not in n:\n",
    "        n.append(i)\n",
    "        c.append('black')\n",
    "g.add_nodes(n, color=c)\n",
    "for i in range(0, len(b1)):\n",
    "    g.add_edge(b1[i], b2[i], width=5)\n",
    "for edge in g.get_edges():\n",
    "    edge[\"color\"] = ec1\n",
    "g.show('data/Vis/baseGNNGT.html')"
   ]
  },
  {
   "cell_type": "code",
   "execution_count": 22,
   "id": "2d34d4a4-b4d6-4fe2-8d3b-d880d9a9e5c4",
   "metadata": {},
   "outputs": [
    {
     "name": "stdout",
     "output_type": "stream",
     "text": [
      "Warning: When  cdn_resources is 'local' jupyter notebook has issues displaying graphics on chrome/safari. Use cdn_resources='in_line' or cdn_resources='remote' if you have issues viewing graphics in a notebook.\n",
      "data/Vis/BaselineGraphBeta.html\n"
     ]
    },
    {
     "data": {
      "text/html": [
       "\n",
       "        <iframe\n",
       "            width=\"100%\"\n",
       "            height=\"600px\"\n",
       "            src=\"data/Vis/BaselineGraphBeta.html\"\n",
       "            frameborder=\"0\"\n",
       "            allowfullscreen\n",
       "            \n",
       "        ></iframe>\n",
       "        "
      ],
      "text/plain": [
       "<IPython.lib.display.IFrame at 0x1e9fa672b50>"
      ]
     },
     "execution_count": 22,
     "metadata": {},
     "output_type": "execute_result"
    }
   ],
   "source": [
    "tp_edges = basebetagraph[basebetagraph['GT'] == 1]\n",
    "tp_set = set()\n",
    "p1s = list(tp_edges['P1'])\n",
    "p2s = list(tp_edges['P2'])\n",
    "for i in range(len(p1s)):\n",
    "    p1 = p1s[i]\n",
    "    p2 = p2s[i]\n",
    "    tp_set.add((p1, p2))\n",
    "g = Network(notebook=True, directed=True)\n",
    "ei1 = list(basebetagraph['P1'])\n",
    "ei2 = list(basebetagraph['P2'])\n",
    "prob = list(basebetagraph['Probability'])\n",
    "b1 = []\n",
    "b2 = []\n",
    "n = []\n",
    "c = []\n",
    "for i in range(len(ei1)):\n",
    "    if prob[i] >= 0.5:\n",
    "        b1.append(ei1[i])\n",
    "        b2.append(ei2[i])\n",
    "u1 = np.unique(b1)\n",
    "u2 = np.unique(b2)\n",
    "for i in u1:\n",
    "    if i not in n:\n",
    "        n.append(i)\n",
    "        c.append('Black')\n",
    "for i in u2:\n",
    "    if i not in n:\n",
    "        n.append(i)\n",
    "        c.append('Black')\n",
    "g.add_nodes(n, color=c)\n",
    "for i in range(0, len(b1)):\n",
    "    g.add_edge(b1[i], b2[i], width=5)\n",
    "for edge in g.get_edges():\n",
    "    p1 = edge['from']\n",
    "    p2 = edge['to']\n",
    "    if (p1, p2) in tp_set:\n",
    "        edge[\"color\"] = ec1\n",
    "    else:\n",
    "        edge[\"color\"] = ec0\n",
    "g.show('data/Vis/BaselineGraphBeta.html')"
   ]
  },
  {
   "cell_type": "code",
   "execution_count": 23,
   "id": "7413d7d4-11f0-4f46-8f1d-da39836ef057",
   "metadata": {
    "scrolled": true
   },
   "outputs": [
    {
     "name": "stdout",
     "output_type": "stream",
     "text": [
      "Warning: When  cdn_resources is 'local' jupyter notebook has issues displaying graphics on chrome/safari. Use cdn_resources='in_line' or cdn_resources='remote' if you have issues viewing graphics in a notebook.\n",
      "data/Vis/baseBetaGT.html\n"
     ]
    },
    {
     "data": {
      "text/html": [
       "\n",
       "        <iframe\n",
       "            width=\"100%\"\n",
       "            height=\"600px\"\n",
       "            src=\"data/Vis/baseBetaGT.html\"\n",
       "            frameborder=\"0\"\n",
       "            allowfullscreen\n",
       "            \n",
       "        ></iframe>\n",
       "        "
      ],
      "text/plain": [
       "<IPython.lib.display.IFrame at 0x1e9fa0dae90>"
      ]
     },
     "execution_count": 23,
     "metadata": {},
     "output_type": "execute_result"
    }
   ],
   "source": [
    "g = Network(notebook=True, directed=True)\n",
    "ei1 = list(basebetagraph['P1'])\n",
    "ei2 = list(basebetagraph['P2'])\n",
    "prob = list(basebetagraph['GT'])\n",
    "b1 = []\n",
    "b2 = []\n",
    "n = []\n",
    "c = []\n",
    "for i in range(len(ei1)):\n",
    "    if prob[i] == 1:\n",
    "        b1.append(ei1[i])\n",
    "        b2.append(ei2[i])\n",
    "u1 = np.unique(b1)\n",
    "u2 = np.unique(b2)\n",
    "for i in u1:\n",
    "    if i not in n:\n",
    "        n.append(i)\n",
    "        c.append('black')\n",
    "for i in u2:\n",
    "    if i not in n:\n",
    "        n.append(i)\n",
    "        c.append('black')\n",
    "g.add_nodes(n, color=c)\n",
    "for i in range(0, len(b1)):\n",
    "    g.add_edge(b1[i], b2[i], width=5)\n",
    "for edge in g.get_edges():\n",
    "    edge[\"color\"] = ec1\n",
    "g.show('data/Vis/baseBetaGT.html')"
   ]
  },
  {
   "cell_type": "code",
   "execution_count": 27,
   "id": "aedc4d57-8468-4d04-b002-f451e3db1866",
   "metadata": {
    "scrolled": true
   },
   "outputs": [
    {
     "name": "stdout",
     "output_type": "stream",
     "text": [
      "Warning: When  cdn_resources is 'local' jupyter notebook has issues displaying graphics on chrome/safari. Use cdn_resources='in_line' or cdn_resources='remote' if you have issues viewing graphics in a notebook.\n",
      "data/Vis/HeterophilicGraphGNN.html\n"
     ]
    },
    {
     "data": {
      "text/html": [
       "\n",
       "        <iframe\n",
       "            width=\"100%\"\n",
       "            height=\"600px\"\n",
       "            src=\"data/Vis/HeterophilicGraphGNN.html\"\n",
       "            frameborder=\"0\"\n",
       "            allowfullscreen\n",
       "            \n",
       "        ></iframe>\n",
       "        "
      ],
      "text/plain": [
       "<IPython.lib.display.IFrame at 0x1e9fa397c10>"
      ]
     },
     "execution_count": 27,
     "metadata": {},
     "output_type": "execute_result"
    }
   ],
   "source": [
    "tp_edges = heterognngraph[heterognngraph['GT'] == 1]\n",
    "tp_set = set()\n",
    "p1s = list(tp_edges['P1'])\n",
    "p2s = list(tp_edges['P2'])\n",
    "for i in range(len(p1s)):\n",
    "    p1 = p1s[i]\n",
    "    p2 = p2s[i]\n",
    "    tp_set.add((p1, p2))\n",
    "g = Network(notebook=True, directed=True)\n",
    "ei1 = list(heterognngraph['P1'])\n",
    "ei2 = list(heterognngraph['P2'])\n",
    "prob = list(heterognngraph['Probability'])\n",
    "b1 = []\n",
    "b2 = []\n",
    "n = []\n",
    "c = []\n",
    "for i in range(len(ei1)):\n",
    "    if prob[i] >= 0.5:\n",
    "        b1.append(ei1[i])\n",
    "        b2.append(ei2[i])\n",
    "u1 = np.unique(b1)\n",
    "u2 = np.unique(b2)\n",
    "for i in u1:\n",
    "    if i not in n:\n",
    "        n.append(i)\n",
    "        c.append('Black')\n",
    "for i in u2:\n",
    "    if i not in n:\n",
    "        n.append(i)\n",
    "        c.append('Black')\n",
    "g.add_nodes(n, color=c)\n",
    "for i in range(0, len(b1)):\n",
    "    g.add_edge(b1[i], b2[i], width=5)\n",
    "for edge in g.get_edges():\n",
    "    p1 = edge['from']\n",
    "    p2 = edge['to']\n",
    "    if (p1, p2) in tp_set:\n",
    "        edge[\"color\"] = ec1\n",
    "    else:\n",
    "        edge[\"color\"] = ec0\n",
    "g.show('data/Vis/HeterophilicGraphGNN.html')"
   ]
  },
  {
   "cell_type": "code",
   "execution_count": 28,
   "id": "f4b2b03b-8a5d-4bbd-8914-fa40d0f5d804",
   "metadata": {
    "scrolled": true
   },
   "outputs": [
    {
     "name": "stdout",
     "output_type": "stream",
     "text": [
      "Warning: When  cdn_resources is 'local' jupyter notebook has issues displaying graphics on chrome/safari. Use cdn_resources='in_line' or cdn_resources='remote' if you have issues viewing graphics in a notebook.\n",
      "data/Vis/heteroGNNGT.html\n"
     ]
    },
    {
     "data": {
      "text/html": [
       "\n",
       "        <iframe\n",
       "            width=\"100%\"\n",
       "            height=\"600px\"\n",
       "            src=\"data/Vis/heteroGNNGT.html\"\n",
       "            frameborder=\"0\"\n",
       "            allowfullscreen\n",
       "            \n",
       "        ></iframe>\n",
       "        "
      ],
      "text/plain": [
       "<IPython.lib.display.IFrame at 0x1e9fa059150>"
      ]
     },
     "execution_count": 28,
     "metadata": {},
     "output_type": "execute_result"
    }
   ],
   "source": [
    "g = Network(notebook=True, directed=True)\n",
    "ei1 = list(heterognngraph['P1'])\n",
    "ei2 = list(heterognngraph['P2'])\n",
    "prob = list(heterognngraph['GT'])\n",
    "b1 = []\n",
    "b2 = []\n",
    "n = []\n",
    "c = []\n",
    "for i in range(len(ei1)):\n",
    "    if prob[i] == 1:\n",
    "        b1.append(ei1[i])\n",
    "        b2.append(ei2[i])\n",
    "u1 = np.unique(b1)\n",
    "u2 = np.unique(b2)\n",
    "for i in u1:\n",
    "    if i not in n:\n",
    "        n.append(i)\n",
    "        c.append('black')\n",
    "for i in u2:\n",
    "    if i not in n:\n",
    "        n.append(i)\n",
    "        c.append('black')\n",
    "g.add_nodes(n, color=c)\n",
    "for i in range(0, len(b1)):\n",
    "    g.add_edge(b1[i], b2[i], width=5)\n",
    "for edge in g.get_edges():\n",
    "    edge[\"color\"] = ec1\n",
    "g.show('data/Vis/heteroGNNGT.html')"
   ]
  },
  {
   "cell_type": "code",
   "execution_count": 30,
   "id": "dde6369e-b96d-4a47-9f60-5f8c50f56d4b",
   "metadata": {
    "scrolled": true
   },
   "outputs": [
    {
     "name": "stdout",
     "output_type": "stream",
     "text": [
      "Warning: When  cdn_resources is 'local' jupyter notebook has issues displaying graphics on chrome/safari. Use cdn_resources='in_line' or cdn_resources='remote' if you have issues viewing graphics in a notebook.\n",
      "data/Vis/HeterophilicGraphBeta.html\n"
     ]
    },
    {
     "data": {
      "text/html": [
       "\n",
       "        <iframe\n",
       "            width=\"100%\"\n",
       "            height=\"600px\"\n",
       "            src=\"data/Vis/HeterophilicGraphBeta.html\"\n",
       "            frameborder=\"0\"\n",
       "            allowfullscreen\n",
       "            \n",
       "        ></iframe>\n",
       "        "
      ],
      "text/plain": [
       "<IPython.lib.display.IFrame at 0x1e9f44fddd0>"
      ]
     },
     "execution_count": 30,
     "metadata": {},
     "output_type": "execute_result"
    }
   ],
   "source": [
    "tp_edges = heterobetagraph[heterobetagraph['GT'] == 1]\n",
    "tp_set = set()\n",
    "p1s = list(tp_edges['P1'])\n",
    "p2s = list(tp_edges['P2'])\n",
    "for i in range(len(p1s)):\n",
    "    p1 = p1s[i]\n",
    "    p2 = p2s[i]\n",
    "    tp_set.add((p1, p2))\n",
    "g = Network(notebook=True, directed=True)\n",
    "ei1 = list(heterobetagraph['P1'])\n",
    "ei2 = list(heterobetagraph['P2'])\n",
    "prob = list(heterobetagraph['Probability'])\n",
    "b1 = []\n",
    "b2 = []\n",
    "n = []\n",
    "c = []\n",
    "for i in range(len(ei1)):\n",
    "    if prob[i] >= 0.5:\n",
    "        b1.append(ei1[i])\n",
    "        b2.append(ei2[i])\n",
    "u1 = np.unique(b1)\n",
    "u2 = np.unique(b2)\n",
    "for i in u1:\n",
    "    if i not in n:\n",
    "        n.append(i)\n",
    "        c.append('Black')\n",
    "for i in u2:\n",
    "    if i not in n:\n",
    "        n.append(i)\n",
    "        c.append('Black')\n",
    "g.add_nodes(n, color=c)\n",
    "for i in range(0, len(b1)):\n",
    "    g.add_edge(b1[i], b2[i], width=5)\n",
    "for edge in g.get_edges():\n",
    "    p1 = edge['from']\n",
    "    p2 = edge['to']\n",
    "    if (p1, p2) in tp_set:\n",
    "        edge[\"color\"] = ec1\n",
    "    else:\n",
    "        edge[\"color\"] = ec0\n",
    "g.show('data/Vis/HeterophilicGraphBeta.html')"
   ]
  },
  {
   "cell_type": "code",
   "execution_count": 31,
   "id": "38a875ba-ebf5-457c-8830-bda4e1724ac3",
   "metadata": {
    "scrolled": true
   },
   "outputs": [
    {
     "name": "stdout",
     "output_type": "stream",
     "text": [
      "Warning: When  cdn_resources is 'local' jupyter notebook has issues displaying graphics on chrome/safari. Use cdn_resources='in_line' or cdn_resources='remote' if you have issues viewing graphics in a notebook.\n",
      "data/Vis/heteroBetaGT.html\n"
     ]
    },
    {
     "data": {
      "text/html": [
       "\n",
       "        <iframe\n",
       "            width=\"100%\"\n",
       "            height=\"600px\"\n",
       "            src=\"data/Vis/heteroBetaGT.html\"\n",
       "            frameborder=\"0\"\n",
       "            allowfullscreen\n",
       "            \n",
       "        ></iframe>\n",
       "        "
      ],
      "text/plain": [
       "<IPython.lib.display.IFrame at 0x1e9fa0a8350>"
      ]
     },
     "execution_count": 31,
     "metadata": {},
     "output_type": "execute_result"
    }
   ],
   "source": [
    "g = Network(notebook=True, directed=True)\n",
    "ei1 = list(heterobetagraph['P1'])\n",
    "ei2 = list(heterobetagraph['P2'])\n",
    "prob = list(heterobetagraph['GT'])\n",
    "b1 = []\n",
    "b2 = []\n",
    "n = []\n",
    "c = []\n",
    "for i in range(len(ei1)):\n",
    "    if prob[i] == 1:\n",
    "        b1.append(ei1[i])\n",
    "        b2.append(ei2[i])\n",
    "u1 = np.unique(b1)\n",
    "u2 = np.unique(b2)\n",
    "for i in u1:\n",
    "    if i not in n:\n",
    "        n.append(i)\n",
    "        c.append('black')\n",
    "for i in u2:\n",
    "    if i not in n:\n",
    "        n.append(i)\n",
    "        c.append('black')\n",
    "g.add_nodes(n, color=c)\n",
    "for i in range(0, len(b1)):\n",
    "    g.add_edge(b1[i], b2[i], width=5)\n",
    "for edge in g.get_edges():\n",
    "    edge[\"color\"] = ec1\n",
    "g.show('data/Vis/heteroBetaGT.html')"
   ]
  },
  {
   "cell_type": "code",
   "execution_count": 33,
   "id": "be14cdcc-a7af-409d-b70b-4fc1ba151615",
   "metadata": {
    "scrolled": true
   },
   "outputs": [
    {
     "name": "stdout",
     "output_type": "stream",
     "text": [
      "Warning: When  cdn_resources is 'local' jupyter notebook has issues displaying graphics on chrome/safari. Use cdn_resources='in_line' or cdn_resources='remote' if you have issues viewing graphics in a notebook.\n",
      "data/Vis/LessInformativeGraphGNN.html\n"
     ]
    },
    {
     "data": {
      "text/html": [
       "\n",
       "        <iframe\n",
       "            width=\"100%\"\n",
       "            height=\"600px\"\n",
       "            src=\"data/Vis/LessInformativeGraphGNN.html\"\n",
       "            frameborder=\"0\"\n",
       "            allowfullscreen\n",
       "            \n",
       "        ></iframe>\n",
       "        "
      ],
      "text/plain": [
       "<IPython.lib.display.IFrame at 0x1e9fa4eeb90>"
      ]
     },
     "execution_count": 33,
     "metadata": {},
     "output_type": "execute_result"
    }
   ],
   "source": [
    "tp_edges = lessgnngraph[lessgnngraph['GT'] == 1]\n",
    "tp_set = set()\n",
    "p1s = list(tp_edges['P1'])\n",
    "p2s = list(tp_edges['P2'])\n",
    "for i in range(len(p1s)):\n",
    "    p1 = p1s[i]\n",
    "    p2 = p2s[i]\n",
    "    tp_set.add((p1, p2))\n",
    "g = Network(notebook=True, directed=True)\n",
    "ei1 = list(lessgnngraph['P1'])\n",
    "ei2 = list(lessgnngraph['P2'])\n",
    "prob = list(lessgnngraph['Probability'])\n",
    "b1 = []\n",
    "b2 = []\n",
    "n = []\n",
    "c = []\n",
    "for i in range(len(ei1)):\n",
    "    if prob[i] >= 0.5:\n",
    "        b1.append(ei1[i])\n",
    "        b2.append(ei2[i])\n",
    "u1 = np.unique(b1)\n",
    "u2 = np.unique(b2)\n",
    "for i in u1:\n",
    "    if i not in n:\n",
    "        n.append(i)\n",
    "        c.append('Black')\n",
    "for i in u2:\n",
    "    if i not in n:\n",
    "        n.append(i)\n",
    "        c.append('Black')\n",
    "g.add_nodes(n, color=c)\n",
    "for i in range(0, len(b1)):\n",
    "    g.add_edge(b1[i], b2[i], width=5)\n",
    "for edge in g.get_edges():\n",
    "    p1 = edge['from']\n",
    "    p2 = edge['to']\n",
    "    if (p1, p2) in tp_set:\n",
    "        edge[\"color\"] = ec1\n",
    "    else:\n",
    "        edge[\"color\"] = ec0\n",
    "g.show('data/Vis/LessInformativeGraphGNN.html')"
   ]
  },
  {
   "cell_type": "code",
   "execution_count": 34,
   "id": "f7dfda36-3dde-48b8-b006-b0a96d4c4e2c",
   "metadata": {
    "scrolled": true
   },
   "outputs": [
    {
     "name": "stdout",
     "output_type": "stream",
     "text": [
      "Warning: When  cdn_resources is 'local' jupyter notebook has issues displaying graphics on chrome/safari. Use cdn_resources='in_line' or cdn_resources='remote' if you have issues viewing graphics in a notebook.\n",
      "data/Vis/lessGNNGT.html\n"
     ]
    },
    {
     "data": {
      "text/html": [
       "\n",
       "        <iframe\n",
       "            width=\"100%\"\n",
       "            height=\"600px\"\n",
       "            src=\"data/Vis/lessGNNGT.html\"\n",
       "            frameborder=\"0\"\n",
       "            allowfullscreen\n",
       "            \n",
       "        ></iframe>\n",
       "        "
      ],
      "text/plain": [
       "<IPython.lib.display.IFrame at 0x1e9f43dce10>"
      ]
     },
     "execution_count": 34,
     "metadata": {},
     "output_type": "execute_result"
    }
   ],
   "source": [
    "g = Network(notebook=True, directed=True)\n",
    "ei1 = list(lessgnngraph['P1'])\n",
    "ei2 = list(lessgnngraph['P2'])\n",
    "prob = list(lessgnngraph['GT'])\n",
    "b1 = []\n",
    "b2 = []\n",
    "n = []\n",
    "c = []\n",
    "for i in range(len(ei1)):\n",
    "    if prob[i] == 1:\n",
    "        b1.append(ei1[i])\n",
    "        b2.append(ei2[i])\n",
    "u1 = np.unique(b1)\n",
    "u2 = np.unique(b2)\n",
    "for i in u1:\n",
    "    if i not in n:\n",
    "        n.append(i)\n",
    "        c.append('black')\n",
    "for i in u2:\n",
    "    if i not in n:\n",
    "        n.append(i)\n",
    "        c.append('black')\n",
    "g.add_nodes(n, color=c)\n",
    "for i in range(0, len(b1)):\n",
    "    g.add_edge(b1[i], b2[i], width=5)\n",
    "for edge in g.get_edges():\n",
    "    edge[\"color\"] = ec1\n",
    "g.show('data/Vis/lessGNNGT.html')"
   ]
  },
  {
   "cell_type": "code",
   "execution_count": 38,
   "id": "bbd4e555-c91f-49a7-90db-ba044801fbb8",
   "metadata": {
    "scrolled": true
   },
   "outputs": [
    {
     "name": "stdout",
     "output_type": "stream",
     "text": [
      "Warning: When  cdn_resources is 'local' jupyter notebook has issues displaying graphics on chrome/safari. Use cdn_resources='in_line' or cdn_resources='remote' if you have issues viewing graphics in a notebook.\n",
      "data/Vis/LessInformativeGraphBeta.html\n"
     ]
    },
    {
     "data": {
      "text/html": [
       "\n",
       "        <iframe\n",
       "            width=\"100%\"\n",
       "            height=\"600px\"\n",
       "            src=\"data/Vis/LessInformativeGraphBeta.html\"\n",
       "            frameborder=\"0\"\n",
       "            allowfullscreen\n",
       "            \n",
       "        ></iframe>\n",
       "        "
      ],
      "text/plain": [
       "<IPython.lib.display.IFrame at 0x1e9fa7dfad0>"
      ]
     },
     "execution_count": 38,
     "metadata": {},
     "output_type": "execute_result"
    }
   ],
   "source": [
    "tp_edges = lessbetagraph[lessbetagraph['GT'] == 1]\n",
    "tp_set = set()\n",
    "p1s = list(tp_edges['P1'])\n",
    "p2s = list(tp_edges['P2'])\n",
    "for i in range(len(p1s)):\n",
    "    p1 = p1s[i]\n",
    "    p2 = p2s[i]\n",
    "    tp_set.add((p1, p2))\n",
    "g = Network(notebook=True, directed=True)\n",
    "ei1 = list(lessbetagraph['P1'])\n",
    "ei2 = list(lessbetagraph['P2'])\n",
    "prob = list(lessbetagraph['Probability'])\n",
    "b1 = []\n",
    "b2 = []\n",
    "n = []\n",
    "c = []\n",
    "for i in range(len(ei1)):\n",
    "    if prob[i] >= 0.5:\n",
    "        b1.append(ei1[i])\n",
    "        b2.append(ei2[i])\n",
    "u1 = np.unique(b1)\n",
    "u2 = np.unique(b2)\n",
    "for i in u1:\n",
    "    if i not in n:\n",
    "        n.append(i)\n",
    "        c.append('Black')\n",
    "for i in u2:\n",
    "    if i not in n:\n",
    "        n.append(i)\n",
    "        c.append('Black')\n",
    "g.add_nodes(n, color=c)\n",
    "for i in range(0, len(b1)):\n",
    "    g.add_edge(b1[i], b2[i], width=5)\n",
    "for edge in g.get_edges():\n",
    "    p1 = edge['from']\n",
    "    p2 = edge['to']\n",
    "    if (p1, p2) in tp_set:\n",
    "        edge[\"color\"] = ec1\n",
    "    else:\n",
    "        edge[\"color\"] = ec0\n",
    "g.show('data/Vis/LessInformativeGraphBeta.html')"
   ]
  },
  {
   "cell_type": "code",
   "execution_count": 39,
   "id": "d0c2be25-b690-47bb-a450-9517d50bcc70",
   "metadata": {
    "scrolled": true
   },
   "outputs": [
    {
     "name": "stdout",
     "output_type": "stream",
     "text": [
      "Warning: When  cdn_resources is 'local' jupyter notebook has issues displaying graphics on chrome/safari. Use cdn_resources='in_line' or cdn_resources='remote' if you have issues viewing graphics in a notebook.\n",
      "data/Vis/lessBetaGT.html\n"
     ]
    },
    {
     "data": {
      "text/html": [
       "\n",
       "        <iframe\n",
       "            width=\"100%\"\n",
       "            height=\"600px\"\n",
       "            src=\"data/Vis/lessBetaGT.html\"\n",
       "            frameborder=\"0\"\n",
       "            allowfullscreen\n",
       "            \n",
       "        ></iframe>\n",
       "        "
      ],
      "text/plain": [
       "<IPython.lib.display.IFrame at 0x1e9fa7f07d0>"
      ]
     },
     "execution_count": 39,
     "metadata": {},
     "output_type": "execute_result"
    }
   ],
   "source": [
    "g = Network(notebook=True, directed=True)\n",
    "ei1 = list(lessbetagraph['P1'])\n",
    "ei2 = list(lessbetagraph['P2'])\n",
    "prob = list(lessbetagraph['GT'])\n",
    "b1 = []\n",
    "b2 = []\n",
    "n = []\n",
    "c = []\n",
    "for i in range(len(ei1)):\n",
    "    if prob[i] == 1:\n",
    "        b1.append(ei1[i])\n",
    "        b2.append(ei2[i])\n",
    "u1 = np.unique(b1)\n",
    "u2 = np.unique(b2)\n",
    "for i in u1:\n",
    "    if i not in n:\n",
    "        n.append(i)\n",
    "        c.append('black')\n",
    "for i in u2:\n",
    "    if i not in n:\n",
    "        n.append(i)\n",
    "        c.append('black')\n",
    "g.add_nodes(n, color=c)\n",
    "for i in range(0, len(b1)):\n",
    "    g.add_edge(b1[i], b2[i], width=5)\n",
    "for edge in g.get_edges():\n",
    "    edge[\"color\"] = ec1\n",
    "g.show('data/Vis/lessBetaGT.html')"
   ]
  },
  {
   "cell_type": "code",
   "execution_count": 40,
   "id": "aa88b1e0-264d-4080-a779-5f96b8e3f343",
   "metadata": {
    "scrolled": true
   },
   "outputs": [
    {
     "name": "stdout",
     "output_type": "stream",
     "text": [
      "Warning: When  cdn_resources is 'local' jupyter notebook has issues displaying graphics on chrome/safari. Use cdn_resources='in_line' or cdn_resources='remote' if you have issues viewing graphics in a notebook.\n",
      "data/Vis/MoreInformativeGraphGNN.html\n"
     ]
    },
    {
     "data": {
      "text/html": [
       "\n",
       "        <iframe\n",
       "            width=\"100%\"\n",
       "            height=\"600px\"\n",
       "            src=\"data/Vis/MoreInformativeGraphGNN.html\"\n",
       "            frameborder=\"0\"\n",
       "            allowfullscreen\n",
       "            \n",
       "        ></iframe>\n",
       "        "
      ],
      "text/plain": [
       "<IPython.lib.display.IFrame at 0x1e9f2572390>"
      ]
     },
     "execution_count": 40,
     "metadata": {},
     "output_type": "execute_result"
    }
   ],
   "source": [
    "tp_edges = moregnngraph[moregnngraph['GT'] == 1]\n",
    "tp_set = set()\n",
    "p1s = list(tp_edges['P1'])\n",
    "p2s = list(tp_edges['P2'])\n",
    "for i in range(len(p1s)):\n",
    "    p1 = p1s[i]\n",
    "    p2 = p2s[i]\n",
    "    tp_set.add((p1, p2))\n",
    "g = Network(notebook=True, directed=True)\n",
    "ei1 = list(moregnngraph['P1'])\n",
    "ei2 = list(moregnngraph['P2'])\n",
    "prob = list(moregnngraph['Probability'])\n",
    "b1 = []\n",
    "b2 = []\n",
    "n = []\n",
    "c = []\n",
    "for i in range(len(ei1)):\n",
    "    if prob[i] >= 0.5:\n",
    "        b1.append(ei1[i])\n",
    "        b2.append(ei2[i])\n",
    "u1 = np.unique(b1)\n",
    "u2 = np.unique(b2)\n",
    "for i in u1:\n",
    "    if i not in n:\n",
    "        n.append(i)\n",
    "        c.append('Black')\n",
    "for i in u2:\n",
    "    if i not in n:\n",
    "        n.append(i)\n",
    "        c.append('Black')\n",
    "g.add_nodes(n, color=c)\n",
    "for i in range(0, len(b1)):\n",
    "    g.add_edge(b1[i], b2[i], width=5)\n",
    "for edge in g.get_edges():\n",
    "    p1 = edge['from']\n",
    "    p2 = edge['to']\n",
    "    if (p1, p2) in tp_set:\n",
    "        edge[\"color\"] = ec1\n",
    "    else:\n",
    "        edge[\"color\"] = ec0\n",
    "g.show('data/Vis/MoreInformativeGraphGNN.html')"
   ]
  },
  {
   "cell_type": "code",
   "execution_count": 41,
   "id": "1db3a2cf-c481-41a9-8abf-4a47ef1cc60a",
   "metadata": {
    "scrolled": true
   },
   "outputs": [
    {
     "name": "stdout",
     "output_type": "stream",
     "text": [
      "Warning: When  cdn_resources is 'local' jupyter notebook has issues displaying graphics on chrome/safari. Use cdn_resources='in_line' or cdn_resources='remote' if you have issues viewing graphics in a notebook.\n",
      "data/Vis/moreGNNGT.html\n"
     ]
    },
    {
     "data": {
      "text/html": [
       "\n",
       "        <iframe\n",
       "            width=\"100%\"\n",
       "            height=\"600px\"\n",
       "            src=\"data/Vis/moreGNNGT.html\"\n",
       "            frameborder=\"0\"\n",
       "            allowfullscreen\n",
       "            \n",
       "        ></iframe>\n",
       "        "
      ],
      "text/plain": [
       "<IPython.lib.display.IFrame at 0x1e9fa65f490>"
      ]
     },
     "execution_count": 41,
     "metadata": {},
     "output_type": "execute_result"
    }
   ],
   "source": [
    "g = Network(notebook=True, directed=True)\n",
    "ei1 = list(moregnngraph['P1'])\n",
    "ei2 = list(moregnngraph['P2'])\n",
    "prob = list(moregnngraph['GT'])\n",
    "b1 = []\n",
    "b2 = []\n",
    "n = []\n",
    "c = []\n",
    "for i in range(len(ei1)):\n",
    "    if prob[i] == 1:\n",
    "        b1.append(ei1[i])\n",
    "        b2.append(ei2[i])\n",
    "u1 = np.unique(b1)\n",
    "u2 = np.unique(b2)\n",
    "for i in u1:\n",
    "    if i not in n:\n",
    "        n.append(i)\n",
    "        c.append('black')\n",
    "for i in u2:\n",
    "    if i not in n:\n",
    "        n.append(i)\n",
    "        c.append('black')\n",
    "g.add_nodes(n, color=c)\n",
    "for i in range(0, len(b1)):\n",
    "    g.add_edge(b1[i], b2[i], width=5)\n",
    "for edge in g.get_edges():\n",
    "    edge[\"color\"] = ec1\n",
    "g.show('data/Vis/moreGNNGT.html')"
   ]
  },
  {
   "cell_type": "code",
   "execution_count": 46,
   "id": "314d433e-4a7c-4158-af6c-b6a1404701dc",
   "metadata": {},
   "outputs": [
    {
     "name": "stdout",
     "output_type": "stream",
     "text": [
      "Warning: When  cdn_resources is 'local' jupyter notebook has issues displaying graphics on chrome/safari. Use cdn_resources='in_line' or cdn_resources='remote' if you have issues viewing graphics in a notebook.\n",
      "data/Vis/MoreInformativeGraphBeta.html\n"
     ]
    },
    {
     "data": {
      "text/html": [
       "\n",
       "        <iframe\n",
       "            width=\"100%\"\n",
       "            height=\"600px\"\n",
       "            src=\"data/Vis/MoreInformativeGraphBeta.html\"\n",
       "            frameborder=\"0\"\n",
       "            allowfullscreen\n",
       "            \n",
       "        ></iframe>\n",
       "        "
      ],
      "text/plain": [
       "<IPython.lib.display.IFrame at 0x1e9fa811710>"
      ]
     },
     "execution_count": 46,
     "metadata": {},
     "output_type": "execute_result"
    }
   ],
   "source": [
    "tp_edges = morebetagraph[morebetagraph['GT'] == 1]\n",
    "tp_set = set()\n",
    "p1s = list(tp_edges['P1'])\n",
    "p2s = list(tp_edges['P2'])\n",
    "for i in range(len(p1s)):\n",
    "    p1 = p1s[i]\n",
    "    p2 = p2s[i]\n",
    "    tp_set.add((p1, p2))\n",
    "g = Network(notebook=True, directed=True)\n",
    "ei1 = list(morebetagraph['P1'])\n",
    "ei2 = list(morebetagraph['P2'])\n",
    "prob = list(morebetagraph['Probability'])\n",
    "b1 = []\n",
    "b2 = []\n",
    "n = []\n",
    "c = []\n",
    "for i in range(len(ei1)):\n",
    "    if prob[i] >= 0.5:\n",
    "        b1.append(ei1[i])\n",
    "        b2.append(ei2[i])\n",
    "u1 = np.unique(b1)\n",
    "u2 = np.unique(b2)\n",
    "for i in u1:\n",
    "    if i not in n:\n",
    "        n.append(i)\n",
    "        c.append('Black')\n",
    "for i in u2:\n",
    "    if i not in n:\n",
    "        n.append(i)\n",
    "        c.append('Black')\n",
    "g.add_nodes(n, color=c)\n",
    "for i in range(0, len(b1)):\n",
    "    g.add_edge(b1[i], b2[i], width=5)\n",
    "for edge in g.get_edges():\n",
    "    p1 = edge['from']\n",
    "    p2 = edge['to']\n",
    "    if (p1, p2) in tp_set:\n",
    "        edge[\"color\"] = ec1\n",
    "    else:\n",
    "        edge[\"color\"] = ec0\n",
    "g.show('data/Vis/MoreInformativeGraphBeta.html')"
   ]
  },
  {
   "cell_type": "code",
   "execution_count": 48,
   "id": "b53009ae-3787-41f8-afaa-a14e11cef46c",
   "metadata": {
    "scrolled": true
   },
   "outputs": [
    {
     "name": "stdout",
     "output_type": "stream",
     "text": [
      "Warning: When  cdn_resources is 'local' jupyter notebook has issues displaying graphics on chrome/safari. Use cdn_resources='in_line' or cdn_resources='remote' if you have issues viewing graphics in a notebook.\n",
      "data/Vis/moreBetaGT.html\n"
     ]
    },
    {
     "data": {
      "text/html": [
       "\n",
       "        <iframe\n",
       "            width=\"100%\"\n",
       "            height=\"600px\"\n",
       "            src=\"data/Vis/moreBetaGT.html\"\n",
       "            frameborder=\"0\"\n",
       "            allowfullscreen\n",
       "            \n",
       "        ></iframe>\n",
       "        "
      ],
      "text/plain": [
       "<IPython.lib.display.IFrame at 0x1e9fa7ec690>"
      ]
     },
     "execution_count": 48,
     "metadata": {},
     "output_type": "execute_result"
    }
   ],
   "source": [
    "g = Network(notebook=True, directed=True)\n",
    "ei1 = list(morebetagraph['P1'])\n",
    "ei2 = list(morebetagraph['P2'])\n",
    "prob = list(morebetagraph['GT'])\n",
    "b1 = []\n",
    "b2 = []\n",
    "n = []\n",
    "c = []\n",
    "for i in range(len(ei1)):\n",
    "    if prob[i] == 1:\n",
    "        b1.append(ei1[i])\n",
    "        b2.append(ei2[i])\n",
    "u1 = np.unique(b1)\n",
    "u2 = np.unique(b2)\n",
    "for i in u1:\n",
    "    if i not in n:\n",
    "        n.append(i)\n",
    "        c.append('black')\n",
    "for i in u2:\n",
    "    if i not in n:\n",
    "        n.append(i)\n",
    "        c.append('black')\n",
    "g.add_nodes(n, color=c)\n",
    "for i in range(0, len(b1)):\n",
    "    g.add_edge(b1[i], b2[i], width=5)\n",
    "for edge in g.get_edges():\n",
    "    edge[\"color\"] = ec1\n",
    "g.show('data/Vis/moreBetaGT.html')"
   ]
  },
  {
   "cell_type": "code",
   "execution_count": 49,
   "id": "ea1b1114-cc52-4d22-a70a-e9d9ca53ce52",
   "metadata": {
    "scrolled": true
   },
   "outputs": [
    {
     "name": "stdout",
     "output_type": "stream",
     "text": [
      "Warning: When  cdn_resources is 'local' jupyter notebook has issues displaying graphics on chrome/safari. Use cdn_resources='in_line' or cdn_resources='remote' if you have issues viewing graphics in a notebook.\n",
      "data/Vis/UnfairGraphGNN.html\n"
     ]
    },
    {
     "data": {
      "text/html": [
       "\n",
       "        <iframe\n",
       "            width=\"100%\"\n",
       "            height=\"600px\"\n",
       "            src=\"data/Vis/UnfairGraphGNN.html\"\n",
       "            frameborder=\"0\"\n",
       "            allowfullscreen\n",
       "            \n",
       "        ></iframe>\n",
       "        "
      ],
      "text/plain": [
       "<IPython.lib.display.IFrame at 0x1e9fa7ccb90>"
      ]
     },
     "execution_count": 49,
     "metadata": {},
     "output_type": "execute_result"
    }
   ],
   "source": [
    "tp_edges = unfairgnngraph[unfairgnngraph['GT'] == 1]\n",
    "tp_set = set()\n",
    "p1s = list(tp_edges['P1'])\n",
    "p2s = list(tp_edges['P2'])\n",
    "for i in range(len(p1s)):\n",
    "    p1 = p1s[i]\n",
    "    p2 = p2s[i]\n",
    "    tp_set.add((p1, p2))\n",
    "g = Network(notebook=True, directed=True)\n",
    "ei1 = list(unfairgnngraph['P1'])\n",
    "ei2 = list(unfairgnngraph['P2'])\n",
    "prob = list(unfairgnngraph['Probability'])\n",
    "b1 = []\n",
    "b2 = []\n",
    "n = []\n",
    "c = []\n",
    "for i in range(len(ei1)):\n",
    "    if prob[i] >= 0.5:\n",
    "        b1.append(ei1[i])\n",
    "        b2.append(ei2[i])\n",
    "u1 = np.unique(b1)\n",
    "u2 = np.unique(b2)\n",
    "for i in u1:\n",
    "    if i not in n:\n",
    "        n.append(i)\n",
    "        c.append('Black')\n",
    "for i in u2:\n",
    "    if i not in n:\n",
    "        n.append(i)\n",
    "        c.append('Black')\n",
    "g.add_nodes(n, color=c)\n",
    "for i in range(0, len(b1)):\n",
    "    g.add_edge(b1[i], b2[i], width=5)\n",
    "for edge in g.get_edges():\n",
    "    p1 = edge['from']\n",
    "    p2 = edge['to']\n",
    "    if (p1, p2) in tp_set:\n",
    "        edge[\"color\"] = ec1\n",
    "    else:\n",
    "        edge[\"color\"] = ec0\n",
    "g.show('data/Vis/UnfairGraphGNN.html')"
   ]
  },
  {
   "cell_type": "code",
   "execution_count": 50,
   "id": "4969d4ec-d37e-4b64-8134-fd9d7da97a10",
   "metadata": {
    "scrolled": true
   },
   "outputs": [
    {
     "name": "stdout",
     "output_type": "stream",
     "text": [
      "Warning: When  cdn_resources is 'local' jupyter notebook has issues displaying graphics on chrome/safari. Use cdn_resources='in_line' or cdn_resources='remote' if you have issues viewing graphics in a notebook.\n",
      "data/Vis/unfairGNNGT.html\n"
     ]
    },
    {
     "data": {
      "text/html": [
       "\n",
       "        <iframe\n",
       "            width=\"100%\"\n",
       "            height=\"600px\"\n",
       "            src=\"data/Vis/unfairGNNGT.html\"\n",
       "            frameborder=\"0\"\n",
       "            allowfullscreen\n",
       "            \n",
       "        ></iframe>\n",
       "        "
      ],
      "text/plain": [
       "<IPython.lib.display.IFrame at 0x1e9fa7fae50>"
      ]
     },
     "execution_count": 50,
     "metadata": {},
     "output_type": "execute_result"
    }
   ],
   "source": [
    "g = Network(notebook=True, directed=True)\n",
    "ei1 = list(unfairgnngraph['P1'])\n",
    "ei2 = list(unfairgnngraph['P2'])\n",
    "prob = list(unfairgnngraph['GT'])\n",
    "b1 = []\n",
    "b2 = []\n",
    "n = []\n",
    "c = []\n",
    "for i in range(len(ei1)):\n",
    "    if prob[i] == 1:\n",
    "        b1.append(ei1[i])\n",
    "        b2.append(ei2[i])\n",
    "u1 = np.unique(b1)\n",
    "u2 = np.unique(b2)\n",
    "for i in u1:\n",
    "    if i not in n:\n",
    "        n.append(i)\n",
    "        c.append('black')\n",
    "for i in u2:\n",
    "    if i not in n:\n",
    "        n.append(i)\n",
    "        c.append('black')\n",
    "g.add_nodes(n, color=c)\n",
    "for i in range(0, len(b1)):\n",
    "    g.add_edge(b1[i], b2[i], width=5)\n",
    "for edge in g.get_edges():\n",
    "    edge[\"color\"] = ec1\n",
    "g.show('data/Vis/unfairGNNGT.html')"
   ]
  },
  {
   "cell_type": "code",
   "execution_count": 51,
   "id": "db5c0d5f-233c-40d1-9647-69bda5b2d760",
   "metadata": {},
   "outputs": [
    {
     "name": "stdout",
     "output_type": "stream",
     "text": [
      "Warning: When  cdn_resources is 'local' jupyter notebook has issues displaying graphics on chrome/safari. Use cdn_resources='in_line' or cdn_resources='remote' if you have issues viewing graphics in a notebook.\n",
      "data/Vis/UnfairGraphBeta.html\n"
     ]
    },
    {
     "data": {
      "text/html": [
       "\n",
       "        <iframe\n",
       "            width=\"100%\"\n",
       "            height=\"600px\"\n",
       "            src=\"data/Vis/UnfairGraphBeta.html\"\n",
       "            frameborder=\"0\"\n",
       "            allowfullscreen\n",
       "            \n",
       "        ></iframe>\n",
       "        "
      ],
      "text/plain": [
       "<IPython.lib.display.IFrame at 0x1e9f44931d0>"
      ]
     },
     "execution_count": 51,
     "metadata": {},
     "output_type": "execute_result"
    }
   ],
   "source": [
    "tp_edges = unfairbetagraph[unfairbetagraph['GT'] == 1]\n",
    "tp_set = set()\n",
    "p1s = list(tp_edges['P1'])\n",
    "p2s = list(tp_edges['P2'])\n",
    "for i in range(len(p1s)):\n",
    "    p1 = p1s[i]\n",
    "    p2 = p2s[i]\n",
    "    tp_set.add((p1, p2))\n",
    "g = Network(notebook=True, directed=True)\n",
    "ei1 = list(unfairbetagraph['P1'])\n",
    "ei2 = list(unfairbetagraph['P2'])\n",
    "prob = list(unfairbetagraph['Probability'])\n",
    "b1 = []\n",
    "b2 = []\n",
    "n = []\n",
    "c = []\n",
    "for i in range(len(ei1)):\n",
    "    if prob[i] >= 0.5:\n",
    "        b1.append(ei1[i])\n",
    "        b2.append(ei2[i])\n",
    "u1 = np.unique(b1)\n",
    "u2 = np.unique(b2)\n",
    "for i in u1:\n",
    "    if i not in n:\n",
    "        n.append(i)\n",
    "        c.append('Black')\n",
    "for i in u2:\n",
    "    if i not in n:\n",
    "        n.append(i)\n",
    "        c.append('Black')\n",
    "g.add_nodes(n, color=c)\n",
    "for i in range(0, len(b1)):\n",
    "    g.add_edge(b1[i], b2[i], width=5)\n",
    "for edge in g.get_edges():\n",
    "    p1 = edge['from']\n",
    "    p2 = edge['to']\n",
    "    if (p1, p2) in tp_set:\n",
    "        edge[\"color\"] = ec1\n",
    "    else:\n",
    "        edge[\"color\"] = ec0\n",
    "g.show('data/Vis/UnfairGraphBeta.html')"
   ]
  },
  {
   "cell_type": "code",
   "execution_count": 52,
   "id": "50f820c7-6007-4ca5-8b91-34e1c5366363",
   "metadata": {
    "scrolled": true
   },
   "outputs": [
    {
     "name": "stdout",
     "output_type": "stream",
     "text": [
      "Warning: When  cdn_resources is 'local' jupyter notebook has issues displaying graphics on chrome/safari. Use cdn_resources='in_line' or cdn_resources='remote' if you have issues viewing graphics in a notebook.\n",
      "data/Vis/unfairBetaGT.html\n"
     ]
    },
    {
     "data": {
      "text/html": [
       "\n",
       "        <iframe\n",
       "            width=\"100%\"\n",
       "            height=\"600px\"\n",
       "            src=\"data/Vis/unfairBetaGT.html\"\n",
       "            frameborder=\"0\"\n",
       "            allowfullscreen\n",
       "            \n",
       "        ></iframe>\n",
       "        "
      ],
      "text/plain": [
       "<IPython.lib.display.IFrame at 0x1e9fa67f790>"
      ]
     },
     "execution_count": 52,
     "metadata": {},
     "output_type": "execute_result"
    }
   ],
   "source": [
    "g = Network(notebook=True, directed=True)\n",
    "ei1 = list(unfairbetagraph['P1'])\n",
    "ei2 = list(unfairbetagraph['P2'])\n",
    "prob = list(unfairbetagraph['GT'])\n",
    "b1 = []\n",
    "b2 = []\n",
    "n = []\n",
    "c = []\n",
    "for i in range(len(ei1)):\n",
    "    if prob[i] == 1:\n",
    "        b1.append(ei1[i])\n",
    "        b2.append(ei2[i])\n",
    "u1 = np.unique(b1)\n",
    "u2 = np.unique(b2)\n",
    "for i in u1:\n",
    "    if i not in n:\n",
    "        n.append(i)\n",
    "        c.append('black')\n",
    "for i in u2:\n",
    "    if i not in n:\n",
    "        n.append(i)\n",
    "        c.append('black')\n",
    "g.add_nodes(n, color=c)\n",
    "for i in range(0, len(b1)):\n",
    "    g.add_edge(b1[i], b2[i], width=5)\n",
    "for edge in g.get_edges():\n",
    "    edge[\"color\"] = ec1\n",
    "g.show('data/Vis/unfairBetaGT.html')"
   ]
  },
  {
   "cell_type": "code",
   "execution_count": null,
   "id": "dbb3c8c3-05b7-4dee-b06b-c0aa62fbc21c",
   "metadata": {},
   "outputs": [],
   "source": []
  }
 ],
 "metadata": {
  "kernelspec": {
   "display_name": "Python 3 (ipykernel)",
   "language": "python",
   "name": "python3"
  },
  "language_info": {
   "codemirror_mode": {
    "name": "ipython",
    "version": 3
   },
   "file_extension": ".py",
   "mimetype": "text/x-python",
   "name": "python",
   "nbconvert_exporter": "python",
   "pygments_lexer": "ipython3",
   "version": "3.11.9"
  }
 },
 "nbformat": 4,
 "nbformat_minor": 5
}
